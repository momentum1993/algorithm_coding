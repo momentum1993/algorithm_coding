{
 "cells": [
  {
   "cell_type": "markdown",
   "metadata": {},
   "source": [
    "# Puyo Puyo"
   ]
  },
  {
   "cell_type": "markdown",
   "metadata": {},
   "source": [
    "[baekjoon의 'Puyo Puyo' 링크](https://www.acmicpc.net/problem/11559)"
   ]
  },
  {
   "cell_type": "markdown",
   "metadata": {},
   "source": [
    "### 문제   \n",
    "요뿌요의 룰은 다음과 같다.  \n",
    "  \n",
    ">필드에 여러 가지 색깔의 뿌요를 놓는다. 뿌요는 중력의 영향을 받아 아래에 바닥이나 다른 뿌요가 나올 때까지 아래로 떨어진다.  \n",
    ">  \n",
    ">뿌요를 놓고 난 후, 같은 색 뿌요가 4개 이상 상하좌우로 연결되어 있으면 연결된 같은 색 뿌요들이 한꺼번에 없어진다.  \n",
    ">  \n",
    ">뿌요들이 없어지고 나서 위에 다른 뿌요들이 있다면, 역시 중력의 영향을 받아 차례대로 아래로 떨어지게 된다.  \n",
    ">  \n",
    ">아래로 떨어지고 나서 다시 같은 색의 뿌요들이 4개 이상 모이게 되면 또 터지게 되는데, 터진 후 뿌요들이 내려오고 다시 터짐을 반복할 때마다 1연쇄씩 늘어난다.   \n",
    ">  \n",
    ">터질 수 있는 뿌요가 여러 그룹이 있다면 동시에 터져야 하고 여러 그룹이 터지더라도 한번의 연쇄가 추가된다.  \n",
    "  \n",
    "  \n",
    "남규는 최근 뿌요뿌요 게임에 푹 빠졌다. 이 게임은 1:1로 붙는 대전게임이라 잘 쌓는 것도 중요하지만, 상대방이 터뜨린다면 연쇄가 몇 번이 될지 바로 파악할 수 있는 능력도 필요하다. 하지만 아직 실력이 부족하여 남규는 자기 필드에만 신경 쓰기 바쁘다. 상대방의 필드가 주어졌을 때, 연쇄가 몇 번 연속으로 일어날지 계산하여 남규를 도와주자!  \n",
    "  \n",
    "### 입력  \n",
    "12\\*6의 문자가 주어진다.  \n",
    "  \n",
    "이때 .은 빈공간이고 .이 아닌것은 각각의 색깔의 뿌요를 나타낸다.  \n",
    "  \n",
    "R은 빨강, G는 초록, B는 파랑, P는 보라, Y는 노랑이다.(모두 대문자로 주어진다.)  \n",
    "  \n",
    "입력으로 주어지는 필드는 뿌요들이 전부 아래로 떨어진 뒤의 상태(즉 뿌요 아래에 빈 칸이 있는 경우는 없음) 이다.  \n",
    "  \n",
    "### 출력  \n",
    "현재 주어진 상황에서 몇연쇄가 되는지 출력하라. (하나도 터지지 않는다면 0을 출력하면 된다.)    "
   ]
  },
  {
   "cell_type": "code",
   "execution_count": 1,
   "metadata": {
    "scrolled": true
   },
   "outputs": [
    {
     "name": "stdout",
     "output_type": "stream",
     "text": [
      "......\n",
      "......\n",
      "......\n",
      "......\n",
      "......\n",
      "......\n",
      "......\n",
      "......\n",
      ".Y....\n",
      ".YG...\n",
      "RRYG..\n",
      "RRYGG.\n",
      "3\n"
     ]
    }
   ],
   "source": [
    "def check_puyo(board, checked, y, x): # 해당 좌표와 동일한 색깔의 블록 좌표들을 찾는 함수\n",
    "    direction = [(0, 1), (1, 0), (0, -1), (-1, 0)] # 동서남북 방향\n",
    "    answer = [(y, x)] # 현재 좌표를 포함한 동일한 색깔 블록들의 좌표\n",
    "    for add_y, add_x in direction: # 인접한 네 방향에 대해\n",
    "        if 0 <= add_y+y < 6 and 0 <= add_x+x < len(board[add_y+y]) and not checked[y+add_y][x+add_x] and board[y][x] == board[y+add_y][x+add_x]:\n",
    "        # 아직 검사하지 않았고, 보드 내의 동일한 색깔 블록일 경우\n",
    "            checked[y+add_y][x+add_x] = True\n",
    "            answer += check_puyo(board, checked, add_y+y, add_x+x) # 재귀적으로 탐색\n",
    "    return answer # 동일한 색깔 블록 좌표 반환\n",
    "\n",
    "inp = [] # 입력받을 보드\n",
    "for _ in range(12):\n",
    "    inp.append(list(input())) # 보드의 현재 상태를 입력 받음\n",
    "\n",
    "board = [] # 보드\n",
    "for x in range(6):\n",
    "    col = []\n",
    "    for y in range(11, -1, -1):\n",
    "        if inp[y][x] == '.':\n",
    "            break\n",
    "        col.append(inp[y][x])\n",
    "    board.append(col)\n",
    "# 보드 행렬의 전치 행렬을 다시 저장한다.\n",
    "# 즉, 행과 열을 바꾸어서 저장한다. -> 중간에 값이 없어질 경우 중력에 의해 떨어지는 기능을 쉽게 구현하기 위해\n",
    "\n",
    "answer = 0 # 답\n",
    "while True:\n",
    "    checked = [[False for _ in range(12)] for _ in range(6)] # 해당 좌표 검사 여부\n",
    "    remove_list = [] # 현재 turn에서 제거해야할 좌표블록\n",
    "    for y in range(6):\n",
    "        for x in range(len(board[y])): # 보드 상의 모든 좌표 중에서\n",
    "            if not checked[y][x]: # 검사하지 않은 부분에 대해서\n",
    "                checked[y][x] = True\n",
    "                puyo = check_puyo(board, checked, y, x) # 같은 색의 블록을 가진 인접한 칸을 얻는다.\n",
    "                if len(puyo) >= 4: # 만약 4개 이상의 같은 색깔 블록이 인접해있다면\n",
    "                    remove_list += puyo # 제거해야할 대상에 추가\n",
    "    if len(remove_list) == 0: # 보드를 모두 검사한 뒤에 제거해야할 블록이 없다면\n",
    "        break # 탐색 중지\n",
    "    remove_list.sort(key=lambda x: (-x[1], x[0]))\n",
    "    # 제거해야할 블록들을 제일 위에 있는 블록순으로 나열 -> 위에 있는 블록부터 지워야지 제거 대상 블록 좌표가 섞이지 않는다.\n",
    "    for y, x in remove_list:\n",
    "        board[y] = board[y][:x] + board[y][x+1:] # 제거되어야할 블록들을 지운다.\n",
    "    answer += 1 # 연쇄를 1 증가시킨다.\n",
    "print(answer) # 연쇄값 출력"
   ]
  }
 ],
 "metadata": {
  "kernelspec": {
   "display_name": "Python 3",
   "language": "python",
   "name": "python3"
  },
  "language_info": {
   "codemirror_mode": {
    "name": "ipython",
    "version": 3
   },
   "file_extension": ".py",
   "mimetype": "text/x-python",
   "name": "python",
   "nbconvert_exporter": "python",
   "pygments_lexer": "ipython3",
   "version": "3.6.9"
  }
 },
 "nbformat": 4,
 "nbformat_minor": 2
}
