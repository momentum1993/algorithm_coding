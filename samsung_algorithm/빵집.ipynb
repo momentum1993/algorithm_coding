{
 "cells": [
  {
   "cell_type": "markdown",
   "metadata": {},
   "source": [
    "# 빵집"
   ]
  },
  {
   "cell_type": "markdown",
   "metadata": {},
   "source": [
    "[baekjoon의 '빵집' 링크](https://www.acmicpc.net/problem/3109)"
   ]
  },
  {
   "cell_type": "markdown",
   "metadata": {},
   "source": [
    "### 문제   \n",
    "유명한 제빵사 김원웅은 빵집을 운영하고 있다. 원웅이의 빵집은 글로벌 재정 위기를 피해가지 못했고, 결국 심각한 재정 위기에 빠졌다.  \n",
    "  \n",
    "원웅이는 지출을 줄이고자 여기저기 지출을 살펴보던 중에, 가스비가 제일 크다는 것을 알게되었다. 따라서 원웅이는 근처 빵집의 가스관에 몰래 파이프를 설치해 훔쳐서 사용하기로 했다.  \n",
    "  \n",
    "빵집이 있는 곳은 R\\*C 격자로 표현할 수 있다. 첫째 열은 근처 빵집의 가스관이고, 마지막 열은 원웅이의 빵집이다.  \n",
    "  \n",
    "원웅이는 가스관과 빵집을 연결하는 파이프를 설치하려고 한다. 빵집과 가스관 사이에는 건물이 있을 수도 있다. 건물이 있는 경우에는 파이프를 놓을 수 없다.  \n",
    "  \n",
    "가스관과 빵집을 연결하는 모든 파이프라인은 첫째 열에서 시작해야 하고, 마지막 열에서 끝나야 한다. 각 칸은 오른쪽, 오른쪽 위 대각선, 오른쪽 아래 대각선으로 연결할 수 있고, 각 칸의 중심끼리 연결하는 것이다.  \n",
    "  \n",
    "원웅이는 가스를 되도록 많이 훔치려고 한다. 따라서, 가스관과 빵집을 연결하는 파이프라인을 여러 개 설치할 것이다. 이 경로는 겹칠 수 없고, 서로 접할 수도 없다. 즉, 각 칸을 지나는 파이프는 하나이어야 한다.  \n",
    "  \n",
    "원웅이 빵집의 모습이 주어졌을 때, 원웅이가 설치할 수 있는 가스관과 빵집을 연결하는 파이프라인의 최대 개수를 구하는 프로그램을 작성하시오.  \n",
    "  \n",
    "### 입력  \n",
    "첫째 줄에 R과 C가 주어진다. (1 ≤ R ≤ 10,000, 5 ≤ C ≤ 500)  \n",
    "  \n",
    "다음 R개 줄에는 빵집 근처의 모습이 주어진다. '.'는 빈 칸이고, 'x'는 건물이다. 처음과 마지막 열은 항상 비어있다.  \n",
    "  \n",
    "### 출력  \n",
    "첫째 줄에 원웅이가 놓을 수 있는 파이프라인의 최대 개수를 출력한다.  "
   ]
  },
  {
   "cell_type": "code",
   "execution_count": 1,
   "metadata": {},
   "outputs": [
    {
     "name": "stdout",
     "output_type": "stream",
     "text": [
      "5 5\n",
      ".xx..\n",
      "..x..\n",
      ".....\n",
      "...x.\n",
      "...x.\n",
      "2\n"
     ]
    }
   ],
   "source": [
    "def simulation(R, C, board, y, x): # 최대 파이프라인의 개수를 반환\n",
    "    answer = 0 # 답\n",
    "    if y == R: # 모두 탐색했을 때 0 반환\n",
    "        return 0\n",
    "    if x == C-1: # 파이프라인이 성립될 경우\n",
    "        return 1 + simulation(R, C, board, y+1, 0)\n",
    "        # 파이프라인의 개수 1 + 다음 줄의 파이프라인 재귀 탐색한 후 개수를 반환\n",
    "    direction = [(0,1), (1,1), (-1,1)] # 오른쪽, 오른쪽 아래 대각선, 오른쪽 위 대각선\n",
    "    for add_y, add_x in direction: # 이동가능한 방향에 대해서\n",
    "        if 0 <= y + add_y < R and 0 <= x + add_x < C and board[y+add_y][x+add_x] == '.':\n",
    "        # 보드 내에 있는 빈칸일 때\n",
    "            board[y+add_y][x+add_x] = 'o' # 파이프를 설치하고\n",
    "            answer = max(answer, simulation(R, C, board, add_y+y, add_x+x)) # 재귀적으로 파이프라인 탐색\n",
    "            board[y+add_y][x+add_x] = '.' # 파이프 원상복구\n",
    "    if x == 0: # 현재 y좌표에서의 파이프라인을 설치하지 않을 경우도 재귀적으로 탐색\n",
    "        answer = max(answer, simulation(R, C, board, y+1, x)) # 현재 행을 뛰어넘고, 다음행을 재귀적으로 탐색\n",
    "    return answer # 답 반환\n",
    "\n",
    "R, C = tuple(int(x) for x in input().split()) # 행, 열\n",
    "board = [] # 보드\n",
    "for _ in range(R):\n",
    "    board.append(list(input())) # 건물의 상태를 입력 받는다.\n",
    "print(simulation(R, C, board, 0, 0)) # 파이프라인의 최대 개수 출력\n"
   ]
  }
 ],
 "metadata": {
  "kernelspec": {
   "display_name": "Python 3",
   "language": "python",
   "name": "python3"
  },
  "language_info": {
   "codemirror_mode": {
    "name": "ipython",
    "version": 3
   },
   "file_extension": ".py",
   "mimetype": "text/x-python",
   "name": "python",
   "nbconvert_exporter": "python",
   "pygments_lexer": "ipython3",
   "version": "3.6.9"
  }
 },
 "nbformat": 4,
 "nbformat_minor": 2
}
