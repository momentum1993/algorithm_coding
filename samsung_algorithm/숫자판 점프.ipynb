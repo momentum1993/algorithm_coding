{
 "cells": [
  {
   "cell_type": "markdown",
   "metadata": {},
   "source": [
    "# 숫자판 점프"
   ]
  },
  {
   "cell_type": "markdown",
   "metadata": {},
   "source": [
    "[baekjoon의 '숫자판 점프' 링크](https://www.acmicpc.net/problem/2210)"
   ]
  },
  {
   "cell_type": "markdown",
   "metadata": {},
   "source": [
    "### 문제   \n",
    "5×5 크기의 숫자판이 있다. 각각의 칸에는 숫자(digit, 0부터 9까지)가 적혀 있다. 이 숫자판의 임의의 위치에서 시작해서, 인접해 있는 네 방향으로 다섯 번 이동하면서, 각 칸에 적혀있는 숫자를 차례로 붙이면 6자리의 수가 된다. 이동을 할 때에는 한 번 거쳤던 칸을 다시 거쳐도 되며, 0으로 시작하는 000123과 같은 수로 만들 수 있다.  \n",
    "  \n",
    "숫자판이 주어졌을 때, 만들 수 있는 서로 다른 여섯 자리의 수들의 개수를 구하는 프로그램을 작성하시오.  \n",
    "  \n",
    "### 입력  \n",
    "다섯 개의 줄에 다섯 개의 정수로 숫자판이 주어진다.  \n",
    "  \n",
    "### 출력  \n",
    "첫째 줄에 만들 수 있는 수들의 개수를 출력한다.  "
   ]
  },
  {
   "cell_type": "code",
   "execution_count": 1,
   "metadata": {},
   "outputs": [
    {
     "name": "stdout",
     "output_type": "stream",
     "text": [
      "1 1 1 1 1\n",
      "1 1 1 1 1\n",
      "1 1 1 1 1\n",
      "1 1 1 2 1\n",
      "1 1 1 1 1\n",
      "15\n"
     ]
    }
   ],
   "source": [
    "from queue import Queue\n",
    "\n",
    "def get_num(board):\n",
    "    q = Queue() # 큐\n",
    "    direction = [(0,1), (0,-1), (1,0), (-1,0)] # 이동할 수 있는 방향\n",
    "    for y in range(5):\n",
    "        for x in range(5):\n",
    "            q.put((str(board[y][x]), y, x))\n",
    "            # 보드 상의 모든 좌표를 시작점으로 두고 진행하기 위해 큐에 push한다.\n",
    "    answer = set() # 답\n",
    "    while not q.empty():\n",
    "        num, y, x = q.get() # 만들어진 수, y, x 를 큐에서 pop\n",
    "        if len(num) == 6: # 만약 여섯자리 수가 만들어졌다면\n",
    "            answer.add(num) # 답에 추가하고 다음 숫자 탐색\n",
    "            continue\n",
    "        for add_y, add_x in direction: # 네 방향에 대해서\n",
    "            if 0 <= y + add_y < 5 and 0 <= x + add_x < 5: # 이동 가능하다면\n",
    "                q.put((num + str(board[y + add_y][x + add_x]), y+add_y, x+add_x))\n",
    "                # 이동한 뒤 만들어진 숫자, y좌표, x좌표를 다시 큐에 push한다.\n",
    "    return len(answer) # 답의 개수를 반환\n",
    "        \n",
    "board = []\n",
    "for _ in range(5):\n",
    "    board.append([int(x) for x in input().split()]) # 보드 입력\n",
    "print(get_num(board)) # 답 출력"
   ]
  }
 ],
 "metadata": {
  "kernelspec": {
   "display_name": "Python 3",
   "language": "python",
   "name": "python3"
  },
  "language_info": {
   "codemirror_mode": {
    "name": "ipython",
    "version": 3
   },
   "file_extension": ".py",
   "mimetype": "text/x-python",
   "name": "python",
   "nbconvert_exporter": "python",
   "pygments_lexer": "ipython3",
   "version": "3.6.9"
  }
 },
 "nbformat": 4,
 "nbformat_minor": 2
}
