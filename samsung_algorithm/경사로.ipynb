{
 "cells": [
  {
   "cell_type": "markdown",
   "metadata": {},
   "source": [
    "# 경사로"
   ]
  },
  {
   "cell_type": "markdown",
   "metadata": {},
   "source": [
    "[baekjoon의 '경사로' 링크](https://www.acmicpc.net/problem/14890)"
   ]
  },
  {
   "cell_type": "markdown",
   "metadata": {},
   "source": [
    "### 문제  \n",
    "크기가 N×N인 지도가 있다. 지도의 각 칸에는 그 곳의 높이가 적혀져 있다.  \n",
    "  \n",
    "오늘은 이 지도에서 지나갈 수 있는 길이 몇 개 있는지 알아보려고 한다. 길이란 한 행 또는 한 열 전부를 나타내며, 한쪽 끝에서 다른쪽 끝까지 지나가는 것이다.   \n",
    "  \n",
    "다음과 같은 N=6인 경우 지도를 살펴보자.  \n",
    "  \n",
    "![](https://onlinejudgeimages.s3-ap-northeast-1.amazonaws.com/problem/14890/1.png)  \n",
    "  \n",
    "이때, 길은 총 2N개가 있으며, 아래와 같다.  \n",
    "  \n",
    "![](https://onlinejudgeimages.s3-ap-northeast-1.amazonaws.com/problem/14890/2.png)  \n",
    "  \n",
    "길을 지나갈 수 있으려면 길에 속한 모든 칸의 높이가 모두 같아야 한다. 또는, 경사로를 놓아서 지나갈 수 있는 길을 만들 수 있다. 경사로는 높이가 항상 1이며, 길이는 L이다.   또, 개수는 매우 많아 부족할 일이 없다. 경사로는 낮은 칸과 높은 칸을 연결하며, 아래와 같은 조건을 만족해야한다.  \n",
    "  \n",
    "- 경사로는 낮은 칸에 놓으며, L개의 연속된 칸에 경사로의 바닥이 모두 접해야 한다.  \n",
    "- 낮은 칸과 높은 칸의 높이 차이는 1이어야 한다.  \n",
    "- 경사로를 놓을 낮은 칸의 높이는 모두 같아야 하고, L개의 칸이 연속되어 있어야 한다.  \n",
    "  \n",
    "아래와 같은 경우에는 경사로를 놓을 수 없다.  \n",
    "  \n",
    "- 경사로를 놓은 곳에 또 경사로를 놓는 경우  \n",
    "- 낮은 칸과 높은 칸의 높이 차이가 1이 아닌 경우  \n",
    "- 낮은 지점의 칸의 높이가 모두 같지 않거나, L개가 연속되지 않은 경우  \n",
    "- 경사로를 놓다가 범위를 벗어나는 경우  \n",
    "  \n",
    "L = 2인 경우에 경사로를 놓을 수 있는 경우를 그림으로 나타내면 아래와 같다.  \n",
    "  \n",
    "![](https://onlinejudgeimages.s3-ap-northeast-1.amazonaws.com/problem/14890/3.png)  \n",
    "  \n",
    "경사로를 놓을 수 없는 경우는 아래와 같다.  \n",
    "  \n",
    "![](https://onlinejudgeimages.s3-ap-northeast-1.amazonaws.com/problem/14890/4.png)  \n",
    "  \n",
    "위의 그림의 가장 왼쪽부터 1번, 2번, 3번, 4번 예제라고 했을 때, 1번은 높이 차이가 1이 아니라서, 2번은 경사로를 바닥과 접하게 놓지 않아서, 3번은 겹쳐서 놓아서, 4번은 기울이게 놓아서 불가능한 경우이다.  \n",
    "  \n",
    "가장 위에 주어진 그림 예의 경우에 지나갈 수 있는 길은 초록색으로, 지나갈 수 없는 길은 빨간색으로 표시되어 있으며, 아래와 같다. 경사로의 길이 L = 2이다.  \n",
    "  \n",
    "![](https://onlinejudgeimages.s3-ap-northeast-1.amazonaws.com/problem/14890/5.png)  \n",
    "  \n",
    "지도가 주어졌을 때, 지나갈 수 있는 길의 개수를 구하는 프로그램을 작성하시오.    \n",
    "  \n",
    "### 입력\n",
    "첫째 줄에 N (2 ≤ N ≤ 100)과 L (1 ≤ L ≤ N)이 주어진다. 둘째 줄부터 N개의 줄에 지도가 주어진다. 각 칸의 높이는 10보다 작거나 같은 자연수이다.  \n",
    "  \n",
    "### 출력\n",
    "첫째 줄에 지나갈 수 있는 길의 개수를 출력한다.  \n",
    "  "
   ]
  },
  {
   "cell_type": "code",
   "execution_count": 1,
   "metadata": {},
   "outputs": [],
   "source": [
    "def cal_num_road(N, L, board):\n",
    "    answer = 0\n",
    "    \n",
    "    for i in range(N): # 각 줄의 번호\n",
    "        row_before = board[i][0] # 행에서 바로 이전에 탐색한 값\n",
    "        col_before = board[0][i] # 열에서 바로 이전에 탐색한 값\n",
    "        row_same = 1 # 행에서 이전 값까지 같은 값이 연속해서 온 횟수\n",
    "        col_same = 1 # 열에서 이전 값까지 같은 값이 연속해서 온 횟수\n",
    "        is_row_road = True # 현재 탐색중인 행이 도로인지 여부\n",
    "        is_col_road = True # 현재 탐색중인 열이 도로인지 여부\n",
    "        \n",
    "        j = 1 # 줄 내부의 좌표 인덱스에 대해서\n",
    "        while j < N and is_row_road: # 행에 대한 도로 여부 탐색\n",
    "            if row_before == board[i][j]: # 이전에 탐색한 값과 같을 때\n",
    "                row_same += 1 # 연속된 값의 개수 증가\n",
    "                \n",
    "            elif board[i][j] - row_before == 1: # 이전에 탐색한 값보다 높이가 1 높을 때\n",
    "                if row_same >= L: # 경사로 지을 수 있을 때\n",
    "                    row_before = board[i][j] \n",
    "                    row_same = 1\n",
    "        \n",
    "                else: # 경사로 짓기 불가\n",
    "                    is_row_road = False\n",
    "\n",
    "            elif board[i][j] - row_before == -1: # 이전에 탐색한 값보다 높이가 1 낮을 때\n",
    "                if j+L > N: # 남은 길이가 부족해서 경사로 짓기 불가\n",
    "                    is_row_road = False\n",
    "                    break\n",
    "                else:\n",
    "                    for k in range(j+1, j+L):\n",
    "                        if board[i][j] != board[i][k]: # 땅이 고르지 않아 경사로 짓기 불가\n",
    "                            is_row_road = False\n",
    "                            break\n",
    "                j += L\n",
    "                if j < N:\n",
    "                    temp = board[i][j] - board[i][j-1]\n",
    "                    if not(temp == -1 or temp == 0): # 경사로 지은 다음 칸의 높이 차이로 경사로 짓기 불가\n",
    "                        is_row_road = False\n",
    "    \n",
    "                    row_before = board[i][j]\n",
    "                    row_same = 1\n",
    "            else: # 이전에 탐색한 값과 1 이상의 차이 (즉, 도로가 아닐 때)\n",
    "                is_row_road = False\n",
    "            j += 1\n",
    "        \n",
    "        # 위의 행에 대한 식과 똑같이 행동\n",
    "        j = 1\n",
    "        while j < N and is_col_road: # 열에 대한 도로 여부 탐색\n",
    "            if col_before == board[j][i]:\n",
    "                col_same += 1\n",
    "                \n",
    "            elif board[j][i] - col_before == 1:\n",
    "                if col_same >= L:\n",
    "                    col_before = board[j][i] \n",
    "                    col_same = 1\n",
    "                else:\n",
    "                    is_col_road = False\n",
    "\n",
    "            elif board[j][i] - col_before == -1:\n",
    "                if j+L > N:\n",
    "                    is_col_road = False\n",
    "                    break\n",
    "                else:\n",
    "                    for k in range(j+1, j+L):\n",
    "                        if board[j][i] != board[k][i]:\n",
    "                            is_col_road = False\n",
    "                            break\n",
    "                j += L\n",
    "                if j < N:\n",
    "                    temp = board[j][i] - board[j-1][i]\n",
    "                    if not(temp == -1 or temp == 0):\n",
    "                        is_col_road = False\n",
    "                    col_before = board[j][i]\n",
    "                    col_same = 1\n",
    "            else:\n",
    "                is_col_road = False\n",
    "            j += 1\n",
    "            \n",
    "        # 위의 각 도로에 대한 검사 이후\n",
    "        # 모든 조건을 만족할 경우 도로의 개수 추가\n",
    "        if is_row_road:\n",
    "            answer += 1\n",
    "        if is_col_road:\n",
    "            answer += 1\n",
    "        \n",
    "    return answer # 답 반환\n",
    "    \n",
    "\n",
    "def solution(N, L, board):\n",
    "    board = [[int(x) for x in x.split()] for x in board.split(\"\\n\")]\n",
    "    return cal_num_road(N, L, board)"
   ]
  },
  {
   "cell_type": "code",
   "execution_count": 2,
   "metadata": {},
   "outputs": [],
   "source": [
    "N, L = 6, 2\n",
    "board = '''3 3 3 3 3 3\n",
    "2 3 3 3 3 3\n",
    "2 2 2 3 2 3\n",
    "1 1 1 2 2 2\n",
    "1 1 1 3 3 1\n",
    "1 1 2 3 3 2'''"
   ]
  },
  {
   "cell_type": "code",
   "execution_count": 3,
   "metadata": {},
   "outputs": [
    {
     "data": {
      "text/plain": [
       "3"
      ]
     },
     "execution_count": 3,
     "metadata": {},
     "output_type": "execute_result"
    }
   ],
   "source": [
    "solution(N, L, board)"
   ]
  },
  {
   "cell_type": "code",
   "execution_count": 4,
   "metadata": {},
   "outputs": [],
   "source": [
    "N, L = 6, 2\n",
    "board = '''3 2 1 1 2 3\n",
    "3 2 2 1 2 3\n",
    "3 2 2 2 3 3\n",
    "3 3 3 3 3 3\n",
    "3 3 3 3 2 2\n",
    "3 3 3 3 2 2'''"
   ]
  },
  {
   "cell_type": "code",
   "execution_count": 5,
   "metadata": {},
   "outputs": [
    {
     "data": {
      "text/plain": [
       "7"
      ]
     },
     "execution_count": 5,
     "metadata": {},
     "output_type": "execute_result"
    }
   ],
   "source": [
    "solution(N, L, board)"
   ]
  },
  {
   "cell_type": "code",
   "execution_count": 6,
   "metadata": {},
   "outputs": [],
   "source": [
    "N, L = 6, 3\n",
    "board = '''3 2 1 1 2 3\n",
    "3 2 2 1 2 3\n",
    "3 2 2 2 3 3\n",
    "3 3 3 3 3 3\n",
    "3 3 3 3 2 2\n",
    "3 3 3 3 2 2'''"
   ]
  },
  {
   "cell_type": "code",
   "execution_count": 7,
   "metadata": {},
   "outputs": [
    {
     "data": {
      "text/plain": [
       "3"
      ]
     },
     "execution_count": 7,
     "metadata": {},
     "output_type": "execute_result"
    }
   ],
   "source": [
    "solution(N, L, board)"
   ]
  },
  {
   "cell_type": "code",
   "execution_count": 8,
   "metadata": {},
   "outputs": [],
   "source": [
    "N, L = 6, 1\n",
    "board = '''3 2 1 1 2 3\n",
    "3 2 2 1 2 3\n",
    "3 2 2 2 3 3\n",
    "3 3 3 3 3 3\n",
    "3 3 3 3 2 2\n",
    "3 3 3 3 2 2'''"
   ]
  },
  {
   "cell_type": "code",
   "execution_count": 9,
   "metadata": {},
   "outputs": [
    {
     "data": {
      "text/plain": [
       "11"
      ]
     },
     "execution_count": 9,
     "metadata": {},
     "output_type": "execute_result"
    }
   ],
   "source": [
    "solution(N, L, board)"
   ]
  }
 ],
 "metadata": {
  "kernelspec": {
   "display_name": "Python 3",
   "language": "python",
   "name": "python3"
  },
  "language_info": {
   "codemirror_mode": {
    "name": "ipython",
    "version": 3
   },
   "file_extension": ".py",
   "mimetype": "text/x-python",
   "name": "python",
   "nbconvert_exporter": "python",
   "pygments_lexer": "ipython3",
   "version": "3.6.9"
  }
 },
 "nbformat": 4,
 "nbformat_minor": 2
}
