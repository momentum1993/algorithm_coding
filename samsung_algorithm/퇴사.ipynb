{
 "cells": [
  {
   "cell_type": "markdown",
   "metadata": {},
   "source": [
    "# 퇴사"
   ]
  },
  {
   "cell_type": "markdown",
   "metadata": {},
   "source": [
    "[baekjoon의 '퇴사' 링크](https://www.acmicpc.net/problem/14501)"
   ]
  },
  {
   "cell_type": "markdown",
   "metadata": {},
   "source": [
    "### 문제  \n",
    "상담원으로 일하고 있는 백준이는 퇴사를 하려고 한다.  \n",
    "  \n",
    "오늘부터 N+1일째 되는 날 퇴사를 하기 위해서, 남은 N일 동안 최대한 많은 상담을 하려고 한다.  \n",
    "  \n",
    "백준이는 비서에게 최대한 많은 상담을 잡으라고 부탁을 했고, 비서는 하루에 하나씩 서로 다른 사람의 상담을 잡아놓았다.  \n",
    "  \n",
    "각각의 상담은 상담을 완료하는데 걸리는 기간 Ti와 상담을 했을 때 받을 수 있는 금액 Pi로 이루어져 있다.  \n",
    "  \n",
    "N = 7인 경우에 다음과 같은 상담 일정표를 보자.  \n",
    "  \n",
    "\n",
    "| |1일|2일|3일|4일|5일|6일|7일|\n",
    "|:---:|:---:|:---:|:---:|:---:|:---:|:---:|:---:|\n",
    "|**Ti**|3|5|1|1|2|4|2|\n",
    "|**Pi**|10|20|10|20|15|40|200|  \n",
    "  \n",
    "1일에 잡혀있는 상담은 총 3일이 걸리며, 상담했을 때 받을 수 있는 금액은 10이다. 5일에 잡혀있는 상담은 총 2일이 걸리며, 받을 수 있는 금액은 15이다.  \n",
    "  \n",
    "상담을 하는데 필요한 기간은 1일보다 클 수 있기 때문에, 모든 상담을 할 수는 없다. 예를 들어서 1일에 상담을 하게 되면, 2일, 3일에 있는 상담은 할 수 없게 된다. 2일에 있는 상담을 하게 되면, 3, 4, 5, 6일에 잡혀있는 상담은 할 수 없다.  \n",
    "  \n",
    "또한, N+1일째에는 회사에 없기 때문에, 6, 7일에 있는 상담을 할 수 없다.  \n",
    "  \n",
    "퇴사 전에 할 수 있는 상담의 최대 이익은 1일, 4일, 5일에 있는 상담을 하는 것이며, 이때의 이익은 10+20+15=45이다.  \n",
    "  \n",
    "상담을 적절히 했을 때, 백준이가 얻을 수 있는 최대 수익을 구하는 프로그램을 작성하시오.  \n",
    "  \n",
    "### 입력  \n",
    "첫째 줄에 N (1 ≤ N ≤ 15)이 주어진다.  \n",
    "  \n",
    "둘째 줄부터 N개의 줄에 Ti와 Pi가 공백으로 구분되어서 주어지며, 1일부터 N일까지 순서대로 주어진다. (1 ≤ Ti ≤ 5, 1 ≤ Pi ≤ 1,000)  \n",
    "  \n",
    "### 출력  \n",
    "첫째 줄에 백준이가 얻을 수 있는 최대 이익을 출력한다.    \n",
    "  "
   ]
  },
  {
   "cell_type": "code",
   "execution_count": 1,
   "metadata": {},
   "outputs": [],
   "source": [
    "def cal_max(N, T, P, mem, idx = 0):\n",
    "    if idx >= N: # 퇴사 날짜를 벗어나면 0 반환\n",
    "        return 0\n",
    "    if mem[idx] != -1: # 만약 이미 구한 값이 있다면 해당 값 반환\n",
    "        return mem[idx]\n",
    "    mem[idx] = 0 # 해당 날짜에 대한 최댓값을 처음에는 0으로 초기화\n",
    "    for i in range(idx, N): # 현재 날짜부터 마지막 출근날까지\n",
    "        if i+T[i] <= N: # 상담 할 수 있는 건수에 대해서\n",
    "            mem[idx] = max(mem[idx], P[i]+cal_max(N, T, P, mem, i+T[i]))\n",
    "            # 최대의 수익을 얻을 수 있는 값을 재귀로 구한다.\n",
    "    return mem[idx] # 답 반환\n",
    "    \n",
    "def solution(N, info):\n",
    "    T = [] # 해당 날짜의 상담 소요 일수\n",
    "    P = [] # 해당 날짜의 상담 수익\n",
    "    info = [[int(x) for x in x.split()] for x in info.split(\"\\n\")]\n",
    "    for i in range(N):\n",
    "        T.append(info[i][0])\n",
    "        P.append(info[i][1])\n",
    "    mem = [-1 for _ in range(N)] # 메모이재이션\n",
    "    return cal_max(N, T, P, mem) # 최대 수익 반환"
   ]
  },
  {
   "cell_type": "code",
   "execution_count": 2,
   "metadata": {},
   "outputs": [],
   "source": [
    "N = 7\n",
    "info = '''3 10\n",
    "5 20\n",
    "1 10\n",
    "1 20\n",
    "2 15\n",
    "4 40\n",
    "2 200'''"
   ]
  },
  {
   "cell_type": "code",
   "execution_count": 3,
   "metadata": {
    "scrolled": true
   },
   "outputs": [
    {
     "data": {
      "text/plain": [
       "45"
      ]
     },
     "execution_count": 3,
     "metadata": {},
     "output_type": "execute_result"
    }
   ],
   "source": [
    "solution(N, info)"
   ]
  },
  {
   "cell_type": "code",
   "execution_count": 4,
   "metadata": {},
   "outputs": [],
   "source": [
    "N = 10\n",
    "info = '''1 1\n",
    "1 2\n",
    "1 3\n",
    "1 4\n",
    "1 5\n",
    "1 6\n",
    "1 7\n",
    "1 8\n",
    "1 9\n",
    "1 10'''"
   ]
  },
  {
   "cell_type": "code",
   "execution_count": 5,
   "metadata": {
    "scrolled": true
   },
   "outputs": [
    {
     "data": {
      "text/plain": [
       "55"
      ]
     },
     "execution_count": 5,
     "metadata": {},
     "output_type": "execute_result"
    }
   ],
   "source": [
    "solution(N, info)"
   ]
  },
  {
   "cell_type": "code",
   "execution_count": 6,
   "metadata": {},
   "outputs": [],
   "source": [
    "N = 10\n",
    "info = '''5 10\n",
    "5 9\n",
    "5 8\n",
    "5 7\n",
    "5 6\n",
    "5 10\n",
    "5 9\n",
    "5 8\n",
    "5 7\n",
    "5 6'''"
   ]
  },
  {
   "cell_type": "code",
   "execution_count": 7,
   "metadata": {
    "scrolled": false
   },
   "outputs": [
    {
     "data": {
      "text/plain": [
       "20"
      ]
     },
     "execution_count": 7,
     "metadata": {},
     "output_type": "execute_result"
    }
   ],
   "source": [
    "solution(N, info)"
   ]
  },
  {
   "cell_type": "code",
   "execution_count": 8,
   "metadata": {},
   "outputs": [],
   "source": [
    "N = 10\n",
    "info = '''5 50\n",
    "4 40\n",
    "3 30\n",
    "2 20\n",
    "1 10\n",
    "1 10\n",
    "2 20\n",
    "3 30\n",
    "4 40\n",
    "5 50'''"
   ]
  },
  {
   "cell_type": "code",
   "execution_count": 9,
   "metadata": {
    "scrolled": true
   },
   "outputs": [
    {
     "data": {
      "text/plain": [
       "90"
      ]
     },
     "execution_count": 9,
     "metadata": {},
     "output_type": "execute_result"
    }
   ],
   "source": [
    "solution(N, info)"
   ]
  }
 ],
 "metadata": {
  "kernelspec": {
   "display_name": "Python 3",
   "language": "python",
   "name": "python3"
  },
  "language_info": {
   "codemirror_mode": {
    "name": "ipython",
    "version": 3
   },
   "file_extension": ".py",
   "mimetype": "text/x-python",
   "name": "python",
   "nbconvert_exporter": "python",
   "pygments_lexer": "ipython3",
   "version": "3.6.9"
  }
 },
 "nbformat": 4,
 "nbformat_minor": 2
}
