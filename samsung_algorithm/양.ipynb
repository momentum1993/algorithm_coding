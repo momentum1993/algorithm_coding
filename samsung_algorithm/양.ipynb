{
 "cells": [
  {
   "cell_type": "markdown",
   "metadata": {},
   "source": [
    "# 양"
   ]
  },
  {
   "cell_type": "markdown",
   "metadata": {},
   "source": [
    "[baekjoon의 '양' 링크](https://www.acmicpc.net/problem/3184)"
   ]
  },
  {
   "cell_type": "markdown",
   "metadata": {},
   "source": [
    "### 문제   \n",
    "미키의 뒷마당에는 특정 수의 양이 있다. 그가 푹 잠든 사이에 배고픈 늑대는 마당에 들어와 양을 공격했다.  \n",
    "  \n",
    "마당은 행과 열로 이루어진 직사각형 모양이다. 글자 '.' (점)은 빈 필드를 의미하며, 글자 '#'는 울타리를, 'o'는 양, 'v'는 늑대를 의미한다.  \n",
    "  \n",
    "한 칸에서 수평, 수직만으로 이동하며 울타리를 지나지 않고 다른 칸으로 이동할 수 있다면, 두 칸은 같은 영역 안에 속해 있다고 한다. 마당에서 \"탈출\"할 수 있는 칸은 어떤 영역에도 속하지 않는다고 간주한다.  \n",
    "  \n",
    "다행히 우리의 양은 늑대에게 싸움을 걸 수 있고 영역 안의 양의 수가 늑대의 수보다 많다면 이기게 된다. 그렇지 않다면 늑대가 그 지역 안의 모든 양을 먹는다.  \n",
    "  \n",
    "맨 처음 모든 양과 늑대는 마당 안 영역에 존재한다.  \n",
    "  \n",
    "아침이 도달했을 때 살아남은 양과 늑대의 수를 출력하는 프로그램을 작성하라.  \n",
    "  \n",
    "### 입력  \n",
    "첫 줄에는 두 정수 R과 C가 주어지며(3 ≤ R, C ≤ 250), 각 수는 마당의 행과 열의 수를 의미한다.  \n",
    "  \n",
    "다음 R개의 줄은 C개의 글자를 가진다. 이들은 마당의 구조(울타리, 양, 늑대의 위치)를 의미한다.  \n",
    "  \n",
    "### 출력  \n",
    "하나의 줄에 아침까지 살아있는 양과 늑대의 수를 의미하는 두 정수를 출력한다.  "
   ]
  },
  {
   "cell_type": "code",
   "execution_count": 1,
   "metadata": {},
   "outputs": [
    {
     "name": "stdout",
     "output_type": "stream",
     "text": [
      "Testcase num: 3\n",
      "\n",
      "Input\n",
      "6 6\n",
      "...#..\n",
      ".##v#.\n",
      "#v.#.#\n",
      "#.o#.#\n",
      ".###.#\n",
      "...###\n",
      "\n",
      "Output\n",
      "0 2\n",
      "\n",
      "Input\n",
      "8 8\n",
      ".######.\n",
      "#..o...#\n",
      "#.####.#\n",
      "#.#v.#.#\n",
      "#.#.o#o#\n",
      "#o.##..#\n",
      "#.v..v.#\n",
      ".######.\n",
      "\n",
      "Output\n",
      "3 1\n",
      "\n",
      "Input\n",
      "9 12\n",
      ".###.#####..\n",
      "#.oo#...#v#.\n",
      "#..o#.#.#.#.\n",
      "#..##o#...#.\n",
      "#.#v#o###.#.\n",
      "#..#v#....#.\n",
      "#...v#v####.\n",
      ".####.#vv.o#\n",
      ".......####.\n",
      "\n",
      "Output\n",
      "3 5\n",
      "\n"
     ]
    }
   ],
   "source": [
    "def search_area(R, C, board, checked, y, x): # 한 영역 내의 양과 늑대의 수를 반환\n",
    "    direction = [(0,1), (1,0), (0,-1), (-1,0)] # 4 방향\n",
    "    if y == 0 or y == R-1 or x == 0 or x == C-1: # 만약 탈출할 수 있는 칸이라면\n",
    "        return 0, 0 # 탐색하지 않고 0을 반환\n",
    "    num_s = 0 # 양 수\n",
    "    num_w = 0 # 늑대 수\n",
    "    \n",
    "    if board[y][x] == 'o': # 양\n",
    "        num_s += 1\n",
    "    elif board[y][x] == 'v': # 늑대\n",
    "        num_w += 1\n",
    "        \n",
    "    for add_y, add_x in direction: # 네 방향으로 인접한 칸에 대해서\n",
    "        if 0 <= add_y+y < R and 0 <= add_x+x < C and board[add_y+y][add_x+x] != '#' and not checked[add_y+y][add_x+x]:\n",
    "        # 아직 탐색하지 않은 보드 내의 울타리칸을 제외한 칸에 대해서\n",
    "            checked[add_y+y][add_x+x] = True # 탐색했음을 체크\n",
    "            s, w = search_area(R, C, board, checked, y+add_y, x+add_x)\n",
    "            num_s += s\n",
    "            num_w += w\n",
    "            # 영역 내의 양과 늑대의 수를 구하고 더한다.\n",
    "    return num_s, num_w # 양의 수, 늑대의 수 반환\n",
    "\n",
    "def simulation(R, C, board): # 보드 상의 현재 상태에 대해 아침까지 살아있는 양과 늑대의 수 반환\n",
    "    num_s, num_w = 0, 0 # 양의 수, 늑대의 수\n",
    "    checked = [[False for _ in range(C)] for _ in range(R)] # 탐색 여부\n",
    "    for y in range(R):\n",
    "        for x in range(C): # 보드 상의 모든 좌표에 대해서\n",
    "            if board[y][x] != '#' and not checked[y][x]: # 울타리를 제외한 아직 탐색하지 않은 칸에 대해서 \n",
    "                checked[y][x] = True # 탐색했음을 체크\n",
    "                s, w = search_area(R, C, board, checked, y, x)\n",
    "                # 같은 영역 내의 양의수, 늑대의 수를 반환받는다.\n",
    "                if s > w: # 양의 수 > 늑대의 수\n",
    "                    num_s += s # 양의 수만 더해준다.\n",
    "                else: # 양의 수 <= 늑대의 수\n",
    "                    num_w += w # 늑대의 수만 더해준다.\n",
    "    return num_s, num_w # 양의 수, 늑대의 수 반환\n",
    "\n",
    "T = int(input(\"Testcase num: \")) # 테스트케이스 개수\n",
    "print()\n",
    "while T > 0:\n",
    "    print(\"Input\")\n",
    "    R, C = tuple(int(x) for x in input().split()) # 행, 열\n",
    "    board = [] # 보드\n",
    "    for _ in range(R):\n",
    "        board.append(list(input())) # 보드 상태 입력\n",
    "    print(\"\\nOutput\")\n",
    "    num_s, num_w = simulation(R, C, board)\n",
    "    # 양과 늑대의 수\n",
    "    print(num_s, num_w) # 답 출력\n",
    "    print()\n",
    "    T -= 1"
   ]
  }
 ],
 "metadata": {
  "kernelspec": {
   "display_name": "Python 3",
   "language": "python",
   "name": "python3"
  },
  "language_info": {
   "codemirror_mode": {
    "name": "ipython",
    "version": 3
   },
   "file_extension": ".py",
   "mimetype": "text/x-python",
   "name": "python",
   "nbconvert_exporter": "python",
   "pygments_lexer": "ipython3",
   "version": "3.6.9"
  }
 },
 "nbformat": 4,
 "nbformat_minor": 2
}
