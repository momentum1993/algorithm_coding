{
 "cells": [
  {
   "cell_type": "markdown",
   "metadata": {},
   "source": [
    "# 집배원 한상덕"
   ]
  },
  {
   "cell_type": "markdown",
   "metadata": {},
   "source": [
    "[baekjoon의 '집배원 한상덕' 링크](https://www.acmicpc.net/problem/2842)"
   ]
  },
  {
   "cell_type": "markdown",
   "metadata": {},
   "source": [
    "### 문제   \n",
    "상덕이는 언덕 위에 있는 마을의 우체국에 직업을 얻었다. 마을은 N×N 행렬로 나타낼 수 있다. 행렬로 나뉘어진 각 지역은 우체국은 'P', 집은 'K', 목초지는 '.' 중 하나로 나타낼 수 있다. 또, 각 지역의 고도도 알고 있다.  \n",
    "  \n",
    "매일 아침 상덕이는 마을의 모든 집에 우편을 배달해야 한다. 배달은 마을에 하나밖에 없는 우체국 'P'가 있는 곳에서 시작한다. 상덕이는 현재 있는 칸과 수평, 수직, 대각선으로 인접한 칸으로 이동할 수 있다. 마지막 편지를 배달하고 난 이후에는 다시 우체국으로 돌아와야 한다.  \n",
    "  \n",
    "상덕이는 이렇게 매일 아침 배달을 하는 것이 얼마나 힘든지 궁금해졌다. 상덕이가 배달하면서 방문한 칸 중 가장 높은 곳과 낮은 곳의 고도 차이를 피로도라고 하자. 이때, 가장 작은 피로도로 모든 집에 배달을 하려면 어떻게 해야 하는지 구하는 프로그램을 작성하시오.  \n",
    "  \n",
    "### 입력  \n",
    "첫째 줄에 N이 주어진다. (2 ≤ N ≤ 50)  \n",
    "  \n",
    "다음 N개 줄에는 마을을 나타내는 행렬이 주어진다. 'P'는 한 번만 주어지며, 'K'는 적어도 한 번 주어진다.\n",
    "  \n",
    "다음 N개 줄에는 행렬로 나뉘어진 지역의 고도가 행렬 형태로 주어진다. 고도는 1,000,000보다 작거나 같은 자연수이다.  \n",
    "  \n",
    "### 출력  \n",
    "첫째 줄에 가장 작은 피로도를 출력한다.  "
   ]
  },
  {
   "cell_type": "code",
   "execution_count": 1,
   "metadata": {},
   "outputs": [
    {
     "name": "stdout",
     "output_type": "stream",
     "text": [
      "Testcase num: 3\n",
      "\n",
      "Input\n",
      "\n",
      "3\n",
      "K.P\n",
      "...\n",
      "K.K\n",
      "3 3 4\n",
      "9 5 9\n",
      "8 3 7\n",
      "\n",
      "Output\n",
      "\n",
      "5\n",
      "\n",
      "\n",
      "Input\n",
      "\n",
      "3\n",
      "P..\n",
      ".KK\n",
      "...\n",
      "3 2 4\n",
      "7 4 2\n",
      "2 3 1\n",
      "\n",
      "Output\n",
      "\n",
      "2\n",
      "\n",
      "\n",
      "Input\n",
      "\n",
      "2\n",
      "P.\n",
      ".K\n",
      "2 1\n",
      "3 2\n",
      "\n",
      "Output\n",
      "\n",
      "0\n",
      "\n",
      "\n"
     ]
    }
   ],
   "source": [
    "def simulation(N, board, height, house_num, y=0, x=0, max_val=1, min_val=1000000):\n",
    "    if house_num == 0: # 모든 집을 방문완료 했을 때\n",
    "        return max_val - min_val # 최고 고도 - 최저 고도 값 반환\n",
    "    answer = 1000000 # 답\n",
    "    directions = [(0, 1),(1, 1),(1, 0),(1, -1),(0, -1),(-1, -1),(-1, 0),(-1, 1)] # 상하좌우대각선을 포함한 방향\n",
    "    for add_y, add_x in directions:\n",
    "        if 0 <= add_y + y < N and 0 <= add_x + x < N and board[add_y + y][add_x + x] != 'X':\n",
    "        # 만약 갈 수 있는 지역이고, 아직 방문하지 않은 곳이라면\n",
    "            temp = board[add_y + y][add_x + x]\n",
    "            max_v = max(max_val, height[add_y + y][add_x + x]) # 최고 고도\n",
    "            min_v = min(min_val, height[add_y + y][add_x + x]) # 최저 고도\n",
    "            if board[add_y + y][add_x + x] == 'K': # 배달해야할 집이라면\n",
    "                board[add_y + y][add_x + x] = 'X'\n",
    "                answer = min(answer, simulation(N, board, height, house_num-1, y+add_y, x+add_x, max_v, min_v))\n",
    "                # 배달할 집을 1 줄이고, 재귀적으로 진행\n",
    "            else: # 집이 아닌 목초지라면\n",
    "                board[add_y + y][add_x + x] = 'X'\n",
    "                answer = min(answer, simulation(N, board, height, house_num, y+add_y, x+add_x, max_v, min_v))\n",
    "                # 재귀적으로 진행\n",
    "            board[add_y + y][add_x + x] = temp\n",
    "    return answer # 답 반환\n",
    "\n",
    "t = int(input(\"Testcase num: \")) # 테스트 케이스 개수\n",
    "print()\n",
    "while t > 0:\n",
    "    print(\"Input\\n\")\n",
    "    N = int(input()) # 보드의 높이 or 너비\n",
    "    board = [] # 보드\n",
    "    house_num = 0 # 배달해야할 집 개수\n",
    "    y, x = 0, 0 # 출발할 우체국 위치\n",
    "    height = [] # 각 좌표별 고도\n",
    "    for i in range(N):\n",
    "        row = list(input())\n",
    "        for j in range(N):\n",
    "            if row[j] == 'P': # 우체국\n",
    "                y, x = i, j # 위치 저장\n",
    "                row[j] = 'X' # 이미 지나갔음을 표시\n",
    "            elif row[j] == 'K': # 집\n",
    "                house_num += 1 # 집 개수 1 증가\n",
    "        board.append(row)\n",
    "    for _ in range(N):\n",
    "        height.append([int(x) for x in input().split()]) # 좌표별 고도 입력\n",
    "    print(\"\\nOutput\\n\")\n",
    "    print(simulation(N, board, height, house_num, y, x, height[y][x], height[y][x])) # 답 출력\n",
    "    print(\"\\n\")\n",
    "    t-=1"
   ]
  }
 ],
 "metadata": {
  "kernelspec": {
   "display_name": "Python 3",
   "language": "python",
   "name": "python3"
  },
  "language_info": {
   "codemirror_mode": {
    "name": "ipython",
    "version": 3
   },
   "file_extension": ".py",
   "mimetype": "text/x-python",
   "name": "python",
   "nbconvert_exporter": "python",
   "pygments_lexer": "ipython3",
   "version": "3.6.9"
  }
 },
 "nbformat": 4,
 "nbformat_minor": 2
}
