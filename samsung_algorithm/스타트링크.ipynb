{
 "cells": [
  {
   "cell_type": "markdown",
   "metadata": {},
   "source": [
    "# 스타트링크"
   ]
  },
  {
   "cell_type": "markdown",
   "metadata": {},
   "source": [
    "[baekjoon의 '스타트링크' 링크](https://www.acmicpc.net/problem/5014)"
   ]
  },
  {
   "cell_type": "markdown",
   "metadata": {},
   "source": [
    "### 문제   \n",
    "강호는 코딩 교육을 하는 스타트업 스타트링크에 지원했다. 오늘은 강호의 면접날이다. 하지만, 늦잠을 잔 강호는 스타트링크가 있는 건물에 늦게 도착하고 말았다.\n",
    "\n",
    "스타트링크는 총 F층으로 이루어진 고층 건물에 사무실이 있고, 스타트링크가 있는 곳의 위치는 G층이다. 강호가 지금 있는 곳은 S층이고, 이제 엘리베이터를 타고 G층으로 이동하려고 한다.\n",
    "\n",
    "보통 엘리베이터에는 어떤 층으로 이동할 수 있는 버튼이 있지만, 강호가 탄 엘리베이터는 버튼이 2개밖에 없다. U버튼은 위로 U층을 가는 버튼, D버튼은 아래로 D층을 가는 버튼이다. (만약, U층 위, 또는 D층 아래에 해당하는 층이 없을 때는, 엘리베이터는 움직이지 않는다)\n",
    "\n",
    "강호가 G층에 도착하려면, 버튼을 적어도 몇 번 눌러야 하는지 구하는 프로그램을 작성하시오. 만약, 엘리베이터를 이용해서 G층에 갈 수 없다면, \"use the stairs\"를 출력한다.\n",
    "\n",
    "### 입력\n",
    "첫째 줄에 F, S, G, U, D가 주어진다. (1 ≤ S, G ≤ F ≤ 1000000, 0 ≤ U, D ≤ 1000000) 건물은 1층부터 시작하고, 가장 높은 층은 F층이다.\n",
    "\n",
    "### 출력\n",
    "첫째 줄에 강호가 S층에서 G층으로 가기 위해 눌러야 하는 버튼의 수의 최솟값을 출력한다. 만약, 엘리베이터로 이동할 수 없을 때는 \"use the stairs\"를 출력한다.  "
   ]
  },
  {
   "cell_type": "code",
   "execution_count": 1,
   "metadata": {},
   "outputs": [
    {
     "name": "stdout",
     "output_type": "stream",
     "text": [
      "Testcase: 2\n",
      "\n",
      "Input\n",
      "10 1 10 2 1\n",
      "Output\n",
      "6\n",
      "\n",
      "Input\n",
      "100 2 1 1 0\n",
      "Output\n",
      "use the stairs\n"
     ]
    }
   ],
   "source": [
    "from queue import PriorityQueue\n",
    "\n",
    "def simulation(F, S, G, U, D): # 시뮬레이션\n",
    "    checked = [False for _ in range(F)] # 도달한 층은 탐색했음을 체크\n",
    "    q = PriorityQueue() # 우선순위 큐\n",
    "    q.put((0, S)) # 0번째 이동했을 때 S층에 있다는 상태를 큐에 push\n",
    "    checked[S-1] = True # 현재 층을 탐색했음을 체크\n",
    "    while not q.empty():\n",
    "        count, now = q.get() # (이동 횟수, 현재층)을 큐에서 pop\n",
    "        if now == G: # 목표에 도달했을 때\n",
    "            return count # 이동 횟수 반환\n",
    "        if count >= F: # 엘리베이터로 이동 할 수 없을 때\n",
    "            break # 루프를 빠져나감\n",
    "        if now + U <= F and not checked[now+U-1]: # 위로 올라갈 수 있을 때\n",
    "            checked[now+U-1] = True\n",
    "            q.put((count+1, now+U)) # 올라간 뒤 상태를 push\n",
    "        if now - D >= 1 and not checked[now-D-1]: # 아래로 내려갈 수 있을 때\n",
    "            checked[now-D-1] = True\n",
    "            q.put((count+1, now-D)) # 내려간 뒤 상태를 push\n",
    "    return -1 # 목표를 도달하지 못할 때 -1 반환\n",
    "\n",
    "T = int(input(\"Testcase: \")) # 테스트케이스 개수\n",
    "while T > 0:\n",
    "    print(\"\\nInput\")\n",
    "    F, S, G, U, D = tuple(int(x) for x in input().split())\n",
    "    # 건물의 층수, 현재 위치한 층, 도착해야하는 층, 엘리베이터가 한번에 올라갈 수 있는 층수, 내려갈 수 있는 층수\n",
    "    print(\"Output\")\n",
    "    answer = simulation(F, S, G, U, D) # 시뮬레이션\n",
    "    if answer == -1: # 목표층에 도달할 수 없다면\n",
    "        print(\"use the stairs\") # \"use the stairs\" 출력\n",
    "    else: # 도달 할 수 있다면\n",
    "        print(answer) # 답 출력\n",
    "    T -= 1"
   ]
  }
 ],
 "metadata": {
  "kernelspec": {
   "display_name": "Python 3",
   "language": "python",
   "name": "python3"
  },
  "language_info": {
   "codemirror_mode": {
    "name": "ipython",
    "version": 3
   },
   "file_extension": ".py",
   "mimetype": "text/x-python",
   "name": "python",
   "nbconvert_exporter": "python",
   "pygments_lexer": "ipython3",
   "version": "3.6.9"
  }
 },
 "nbformat": 4,
 "nbformat_minor": 2
}
