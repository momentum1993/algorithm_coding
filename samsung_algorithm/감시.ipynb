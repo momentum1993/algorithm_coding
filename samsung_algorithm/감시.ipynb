{
 "cells": [
  {
   "cell_type": "markdown",
   "metadata": {},
   "source": [
    "# 감시"
   ]
  },
  {
   "cell_type": "markdown",
   "metadata": {},
   "source": [
    "[baekjoon의 '감시' 링크](https://www.acmicpc.net/problem/15683)"
   ]
  },
  {
   "cell_type": "markdown",
   "metadata": {},
   "source": [
    "### 문제\n",
    "스타트링크의 사무실은 1×1크기의 정사각형으로 나누어져 있는 N×M 크기의 직사각형으로 나타낼 수 있다. 사무실에는 총 K개의 CCTV가 설치되어져 있는데, CCTV는 5가지 종류가 있다. 각 CCTV가 감시할 수 있는 방법은 다음과 같다.  \n",
    "  \n",
    "|1번|2번|3번|4번|5번|\n",
    "|:---:|:---:|:---:|:---:|:---:|\n",
    "|![](https://onlinejudgeimages.s3-ap-northeast-1.amazonaws.com/problem/15683/1.png)|![](https://onlinejudgeimages.s3-ap-northeast-1.amazonaws.com/problem/15683/2.png)|![](https://onlinejudgeimages.s3-ap-northeast-1.amazonaws.com/problem/15683/3.png)|![](https://onlinejudgeimages.s3-ap-northeast-1.amazonaws.com/problem/15683/4.png)|![](https://onlinejudgeimages.s3-ap-northeast-1.amazonaws.com/problem/15683/5.png)|  \n",
    "  \t\t\t\n",
    "1번 CCTV는 한 쪽 방향만 감시할 수 있다. 2번과 3번은 두 방향을 감시할 수 있는데, 2번은 감시하는 방향이 서로 반대방향이어야 하고, 3번은 직각 방향이어야 한다. 4번은 세 방향, 5번은 네 방향을 감시할 수 있다.  \n",
    "  \n",
    "CCTV는 감시할 수 있는 방향에 있는 칸 전체를 감시할 수 있다. 사무실에는 벽이 있는데, CCTV는 벽을 통과할 수 없다. CCTV가 감시할 수 없는 영역은 사각지대라고 한다.  \n",
    "  \n",
    "CCTV는 회전시킬 수 있는데, 회전은 항상 90도 방향으로 해야 하며, 감시하려고 하는 방향이 가로 또는 세로 방향이어야 한다.  \n",
    "  \n",
    "~~~\n",
    "0 0 0 0 0 0\n",
    "0 0 0 0 0 0\n",
    "0 0 1 0 6 0\n",
    "0 0 0 0 0 0\n",
    "~~~  \n",
    "  \n",
    "지도에서 0은 빈 칸, 6은 벽, 1~5는 CCTV의 번호이다. 위의 예시에서 1번의 방향에 따라 감시할 수 있는 영역을 '#'로 나타내면 아래와 같다.  \n",
    "\n",
    "![](./Image/감시-1.jpg)\n",
    "\n",
    "CCTV는 벽을 통과할 수 없기 때문에, 1번이 → 방향을 감시하고 있을 때는 6의 오른쪽에 있는 벽을 감시할 수 없다.  \n",
    "  \n",
    "~~~\n",
    "0 0 0 0 0 0\n",
    "0 2 0 0 0 0\n",
    "0 0 0 0 6 0\n",
    "0 6 0 0 2 0\n",
    "0 0 0 0 0 0\n",
    "0 0 0 0 0 5\n",
    "~~~  \n",
    "  \n",
    "위의 예시에서 감시할 수 있는 방향을 알아보면 아래와 같다.  \n",
    "\n",
    "![](./Image/감시-2.jpg)  \n",
    "  \n",
    "CCTV는 CCTV를 통과할 수 있다. 아래 예시를 보자.  \n",
    "  \n",
    "~~~\n",
    "0 0 2 0 3\n",
    "0 6 0 0 0\n",
    "0 0 6 6 0\n",
    "0 0 0 0 0\n",
    "~~~  \n",
    "  \n",
    "위와 같은 경우에 2의 방향이 ↕ 3의 방향이 ←와 ↓인 경우 감시받는 영역은 다음과 같다.  \n",
    "\n",
    "~~~\n",
    "# # 2 # 3\n",
    "0 6 # 0 #\n",
    "0 0 6 6 #\n",
    "0 0 0 0 #\n",
    "~~~\n",
    "  \n",
    "사무실의 크기와 상태, 그리고 CCTV의 정보가 주어졌을 때, CCTV의 방향을 적절히 정해서, 사각 지대의 최소 크기를 구하는 프로그램을 작성하시오.  \n",
    "  \n",
    "### 입력\n",
    "첫째 줄에 사무실의 세로 크기 N과 가로 크기 M이 주어진다. (1 ≤ N, M ≤ 8)  \n",
    "  \n",
    "둘째 줄부터 N개의 줄에는 사무실 각 칸의 정보가 주어진다. 0은 빈 칸, 6은 벽, 1~5는 CCTV를 나타내고, 문제에서 설명한 CCTV의 종류이다.   \n",
    "  \n",
    "CCTV의 최대 개수는 8개를 넘지 않는다.  \n",
    "  \n",
    "### 출력  \n",
    "첫째 줄에 사각 지대의 최소 크기를 출력한다.  \n",
    "  "
   ]
  },
  {
   "cell_type": "code",
   "execution_count": 1,
   "metadata": {},
   "outputs": [],
   "source": [
    "from copy import deepcopy\n",
    "from pprint import pprint\n",
    " \n",
    "def cal_max_observed_spot(N, M, board, cams, idx=0):\n",
    "    if idx == len(cams): # 모든 카메라를 탐색했을 때\n",
    "        return 0\n",
    "    \n",
    "    y, x = cams[idx] # 현재 감시카메라의 위치\n",
    "    num_cam = board[y][x] - 1 # 감시카메라의 번호\n",
    "    answer = 0 # 답\n",
    "    \n",
    "    direction = [(0, 1),(1, 0),(0, -1),(-1, 0)] # 동, 남, 서, 북\n",
    "    cam_directions = [[[0],[1],[2],[3]],[[0, 2],[1, 3]],[[0, 1],[1, 2],[2, 3],[3, 0]],[[0, 1, 2],[1, 2, 3],[2, 3, 0],[3, 0, 1]],[[0,1,2,3]]]\n",
    "\n",
    "    for ds in cam_directions[num_cam]: # 카메라가 볼 수 있는 모든 경우의 수에 대해 \n",
    "        b = deepcopy(board)\n",
    "        t_answer = 0\n",
    "        \n",
    "        for d_n in ds: # 감시할 수 있는 공간 탐색\n",
    "            add_y, add_x = direction[d_n]\n",
    "            for turn in range(1,max(M, N)):# 영역 내의 감시 가능한 공간에 대해\n",
    "                new_y, new_x = (turn*add_y)+y, (turn*add_x)+x\n",
    "                if (not(0 <= new_y < N and 0 <= new_x < M)) or b[new_y][new_x] == 6: \n",
    "                # 범위 벗어나거나 벽을 만나면 탐색 중지\n",
    "                    break\n",
    "                if b[new_y][new_x] == 0: # 아직 탐색되지 않은 곳이라면\n",
    "                    b[new_y][new_x] = -1 # 탐색되었음을 표시\n",
    "                    t_answer += 1 # 탐색한 공간 횟수 + 1\n",
    "                    \n",
    "        t_answer += cal_max_observed_spot(N, M, b, cams, idx+1)\n",
    "        # 다음 감시카메라에 대해서 공간 탐색\n",
    "        answer = max(answer, t_answer)\n",
    "        # 공간을 탐색한 경우의 수 중 가장 큰 값을 지니는 값을 반환\n",
    "    return answer\n",
    "\n",
    "def solution(N, M, board):\n",
    "    board = [[int(x) for x in x.split()] for x in board.split(\"\\n\")]\n",
    "    # 감시할 수 있는 영역\n",
    "    answer = 0\n",
    "    cams = [] # 카메라의 좌표 리스트\n",
    "    for y in range(N):\n",
    "        for x in range(M):\n",
    "            if 0 < board[y][x] < 6:\n",
    "                cams.append((y,x)) # 카메라 좌표 추가\n",
    "            if board[y][x] == 0:\n",
    "                answer += 1 # 현재 탐지되지 않은 빈 공간의 개수\n",
    "    answer -= cal_max_observed_spot(N, M, board, cams)\n",
    "    # 탐지되지 않은 빈 공간의 개수 - 감시카메라들로 탐지할 수 있는 최대 공간 크기\n",
    "    return answer"
   ]
  },
  {
   "cell_type": "code",
   "execution_count": 2,
   "metadata": {},
   "outputs": [],
   "source": [
    "N, M = 4, 6\n",
    "board = '''0 0 0 0 0 0\n",
    "0 0 0 0 0 0\n",
    "0 0 1 0 6 0\n",
    "0 0 0 0 0 0'''"
   ]
  },
  {
   "cell_type": "code",
   "execution_count": 3,
   "metadata": {},
   "outputs": [],
   "source": [
    "solution(N, M, board)"
   ]
  },
  {
   "cell_type": "code",
   "execution_count": 4,
   "metadata": {},
   "outputs": [],
   "source": [
    "N, M = 6, 6\n",
    "board = '''0 0 0 0 0 0\n",
    "0 2 0 0 0 0\n",
    "0 0 0 0 6 0\n",
    "0 6 0 0 2 0\n",
    "0 0 0 0 0 0\n",
    "0 0 0 0 0 5'''"
   ]
  },
  {
   "cell_type": "code",
   "execution_count": 5,
   "metadata": {},
   "outputs": [],
   "source": [
    "solution(N, M, board)"
   ]
  },
  {
   "cell_type": "code",
   "execution_count": 6,
   "metadata": {},
   "outputs": [],
   "source": [
    "N, M = 6, 6\n",
    "board = '''1 0 0 0 0 0\n",
    "0 1 0 0 0 0\n",
    "0 0 1 0 0 0\n",
    "0 0 0 1 0 0\n",
    "0 0 0 0 1 0\n",
    "0 0 0 0 0 1'''"
   ]
  },
  {
   "cell_type": "code",
   "execution_count": 7,
   "metadata": {},
   "outputs": [
    {
     "data": {
      "text/plain": [
       "6"
      ]
     },
     "execution_count": 7,
     "metadata": {},
     "output_type": "execute_result"
    }
   ],
   "source": [
    "solution(N, M, board)"
   ]
  },
  {
   "cell_type": "code",
   "execution_count": 8,
   "metadata": {},
   "outputs": [],
   "source": [
    "N, M = 6, 6\n",
    "board = '''1 0 0 0 0 0\n",
    "0 1 0 0 0 0\n",
    "0 0 1 5 0 0\n",
    "0 0 5 1 0 0\n",
    "0 0 0 0 1 0\n",
    "0 0 0 0 0 1'''"
   ]
  },
  {
   "cell_type": "code",
   "execution_count": 9,
   "metadata": {},
   "outputs": [
    {
     "data": {
      "text/plain": [
       "2"
      ]
     },
     "execution_count": 9,
     "metadata": {},
     "output_type": "execute_result"
    }
   ],
   "source": [
    "solution(N, M, board)"
   ]
  },
  {
   "cell_type": "code",
   "execution_count": 10,
   "metadata": {},
   "outputs": [],
   "source": [
    "N, M = 1, 7\n",
    "board = '''0 1 2 3 4 5 6'''"
   ]
  },
  {
   "cell_type": "code",
   "execution_count": 11,
   "metadata": {},
   "outputs": [
    {
     "data": {
      "text/plain": [
       "0"
      ]
     },
     "execution_count": 11,
     "metadata": {},
     "output_type": "execute_result"
    }
   ],
   "source": [
    "solution(N, M, board)"
   ]
  },
  {
   "cell_type": "code",
   "execution_count": 12,
   "metadata": {},
   "outputs": [],
   "source": [
    "N, M = 3, 7\n",
    "board = '''4 0 0 0 0 0 0\n",
    "0 0 0 2 0 0 0\n",
    "0 0 0 0 0 0 4'''"
   ]
  },
  {
   "cell_type": "code",
   "execution_count": 13,
   "metadata": {},
   "outputs": [
    {
     "data": {
      "text/plain": [
       "0"
      ]
     },
     "execution_count": 13,
     "metadata": {},
     "output_type": "execute_result"
    }
   ],
   "source": [
    "solution(N, M, board)"
   ]
  }
 ],
 "metadata": {
  "kernelspec": {
   "display_name": "Python 3",
   "language": "python",
   "name": "python3"
  },
  "language_info": {
   "codemirror_mode": {
    "name": "ipython",
    "version": 3
   },
   "file_extension": ".py",
   "mimetype": "text/x-python",
   "name": "python",
   "nbconvert_exporter": "python",
   "pygments_lexer": "ipython3",
   "version": "3.6.9"
  }
 },
 "nbformat": 4,
 "nbformat_minor": 2
}
