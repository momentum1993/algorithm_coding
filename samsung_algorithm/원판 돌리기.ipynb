{
 "cells": [
  {
   "cell_type": "markdown",
   "metadata": {},
   "source": [
    "# 원판 돌리기"
   ]
  },
  {
   "cell_type": "markdown",
   "metadata": {},
   "source": [
    "[baekjoon의 '원판 돌리기' 링크](https://www.acmicpc.net/problem/17822)"
   ]
  },
  {
   "cell_type": "markdown",
   "metadata": {},
   "source": [
    "### 문제  \n",
    "반지름이 1, 2, ..., N인 원판이 크기가 작아지는 순으로 바닥에 놓여있고, 원판의 중심은 모두 같다. 원판의 반지름이 i이면, 그 원판을 i번째 원판이라고 한다. 각각의 원판에는 M개의 정수가 적혀있고, i번째 원판에 적힌 j번째 수의 위치는 (i, j)로 표현한다. 수의 위치는 다음을 만족한다.  \n",
    "  \n",
    "- (i, 1)은 (i, 2), (i, M)과 인접하다.  \n",
    "- (i, M)은 (i, M-1), (i, 1)과 인접하다.  \n",
    "- (i, j)는 (i, j-1), (i, j+1)과 인접하다. (2 ≤ j ≤ M-1)  \n",
    "- (1, j)는 (2, j)와 인접하다.  \n",
    "- (N, j)는 (N-1, j)와 인접하다.  \n",
    "- (i, j)는 (i-1, j), (i+1, j)와 인접하다. (2 ≤ i ≤ N-1)  \n",
    "  \n",
    "아래 그림은 N = 3, M = 4인 경우이다.  \n",
    "  \n",
    "![](https://upload.acmicpc.net/5968435b-a1af-4e2a-a612-baff989f44b2/-/preview/)  \n",
    "  \n",
    "원판의 회전은 독립적으로 이루어진다. 2번 원판을 회전했을 때, 나머지 원판은 회전하지 않는다. 원판을 회전시킬 때는 수의 위치를 기준으로 하며, 회전시킨 후의 수의 위치는 회전시키기 전과 일치해야 한다.  \n",
    "  \n",
    "다음 그림은 원판을 회전시킨 예시이다.  \n",
    "  \n",
    "|1번 원판을 시계 방향으로 1칸 회전|2, 3번 원판을 반시계 방향으로 3칸 회전|1, 3번 원판을 시계 방향으로 2칸 회전|\n",
    "|:---:|:---:|:---:|\n",
    "|![](https://upload.acmicpc.net/977a4e67-5aa7-40d4-92ee-5f59ac75aadb/-/preview/)|![](https://upload.acmicpc.net/f2c1e70b-0a84-46c3-b38d-f7395219b00a/-/preview/)|![](https://upload.acmicpc.net/39d57771-6162-49f5-97b7-0d9fd8911222/-/preview/)|  \n",
    "  \n",
    "원판을 아래와 같은 방법으로 총 T번 회전시키려고 한다. 원판의 회전 방법은 미리 정해져 있고, i번째 회전할때 사용하는 변수는 $x_i$, $d_i$, $k_i$이다.  \n",
    "  \n",
    "1. 번호가 $x_i$의 배수인 원판을 $d_i$방향으로 $k_i$칸 회전시킨다. $d_i$가 0인 경우는 시계 방향, 1인 경우는 반시계 방향이다.  \n",
    "2. 원판에 수가 남아 있으면, 인접하면서 수가 같은 것을 모두 찾는다.  \n",
    "    1. 그러한 수가 있는 경우에는 원판에서 인접하면서 같은 수를 모두 지운다.  \n",
    "    2. 없는 경우에는 원판에 적힌 수의 평균을 구하고, 평균보다 큰 수에서 1을 빼고, 작은 수에는 1을 더한다.  \n",
    "  \n",
    "원판을 T번 회전시킨 후 원판에 적힌 수의 합을 구해보자.  \n",
    "  \n",
    "### 입력  \n",
    "첫째 줄에 N, M, T이 주어진다.  \n",
    "  \n",
    "둘째 줄부터 N개의 줄에 원판에 적힌 수가 주어진다. i번째 줄의 j번째 수는 (i, j)에 적힌 수를 의미한다.  \n",
    "  \n",
    "다음 T개의 줄에 $x_i$, $d_i$, $k_i$가 주어진다.  \n",
    "  \n",
    "### 출력  \n",
    "원판을 T번 회전시킨 후 원판에 적힌 수의 합을 출력한다.  \n",
    "  \n",
    "### 제한  \n",
    "- 2 ≤ N, M ≤ 50  \n",
    "- 1 ≤ T ≤ 50  \n",
    "- 1 ≤ 원판에 적힌 수 ≤ 1,000  \n",
    "- 2 ≤ $x_i$ ≤ N  \n",
    "- 0 ≤ $d_i$ ≤ 1  \n",
    "- 1 ≤ $k_i$ < M  \n",
    "   "
   ]
  },
  {
   "cell_type": "code",
   "execution_count": 1,
   "metadata": {},
   "outputs": [],
   "source": [
    "def close_operation(N, M, disk_status): # 디스크에서 인접한 숫자에 대한 연산 진행\n",
    "    d_list = set() # 삭제할 리스트\n",
    "    cal_list = set() # 평균 계산을 통해 연산을 진행할 리스트\n",
    "    total = 0 # 남은 숫자 총 합\n",
    "    num = 0 # 남은 숫자 개수\n",
    "    has_delete = False # 현재 삭제할 숫자가 있는지 여부 플래그\n",
    "    for y in range(N): \n",
    "        for x in range(M): # 모든 디스크내의 숫자에 대해서\n",
    "            if disk_status[y][x] == 0: # 삭제된 숫자는 넘어감\n",
    "                continue \n",
    "            else: \n",
    "                if not has_delete: # 만약 현재까지 삭제할 숫자가 없다면\n",
    "                    total += disk_status[y][x]\n",
    "                    num += 1\n",
    "                    cal_list.add((y,x))\n",
    "                # 총합, 남은 숫자 개수, 그리고 계산할 리스트를 구한다.\n",
    "            \n",
    "            if disk_status[y][(x+1)%M] == disk_status[y][x]:\n",
    "            # 만약 같은 디스크 내에 근접한 부분이 같은 숫자로 이루어져 있다면\n",
    "                if not has_delete:\n",
    "                    has_delete = True # 삭제할 숫자가 있음을 표시\n",
    "                d_list.add((y,x))\n",
    "                d_list.add((y,(x+1)%M))\n",
    "                # 현재 탐색 중인 위치와 인접한 위치를 저장해둠\n",
    "            if y+1 < N and disk_status[y+1][x] == disk_status[y][x]:\n",
    "            # 인접해있는 다른 디스크 내의 근접하고 있는 부분이 같은 숫자로 이루어져 있다면\n",
    "                if not has_delete:\n",
    "                    has_delete = True # 삭제할 숫자가 있음을 표시\n",
    "                d_list.add((y,x))\n",
    "                d_list.add((y+1,x))\n",
    "                # 현재 탐색 중인 위치와 인접한 위치를 저장해둠\n",
    "                \n",
    "    if has_delete:# 삭제할 디스크 내 숫자가 있다면\n",
    "        for y,x in d_list:\n",
    "            disk_status[y][x] = 0\n",
    "            # 모두 0으로 초기화 해서 삭제\n",
    "    else: # 없다면\n",
    "        avr = total / num\n",
    "        # 평균을 구한다.\n",
    "        for y,x in cal_list:\n",
    "            if disk_status[y][x] > avr: # 그리고 평균보다 크다면\n",
    "                disk_status[y][x] -= 1 # 1을 빼주고, \n",
    "            elif disk_status[y][x] < avr: # 평균보다 작다면\n",
    "                disk_status[y][x] += 1 # 1을 더해준다.\n",
    "\n",
    "def rotate_disk(N, M, T, disk_status, rotation): # 디스크 회전\n",
    "    if T == 0: # 모든 회전을 다 돈 후\n",
    "        answer = 0\n",
    "        for y in range(N):\n",
    "            for x in range(M):\n",
    "                answer += disk_status[y][x]\n",
    "                # 디스크에 적힌 수들의 합을 구한다.\n",
    "        return answer\n",
    "    \n",
    "    r_idx = len(rotation) - T # 회전의 인덱스\n",
    "    x, d, k = rotation[r_idx] # x의 배수 원판을 d 방향으로 k칸 회전 시킨다.\n",
    "    for i in range(x-1, N, x): # x의 배수 원판에 대해서\n",
    "        if d == 0: #시계 방향 k칸 회전\n",
    "            disk_status[i] = disk_status[i][-k:] + disk_status[i][:-k]\n",
    "        else: # 반시계 방향 k칸 회전\n",
    "            disk_status[i] = disk_status[i][k:] + disk_status[i][:k]\n",
    "    close_operation(N, M, disk_status) # 회전 후에 근접한 숫자에 대해 연산\n",
    "    return rotate_disk(N, M, T-1, disk_status, rotation) # 다음 회전 재귀적으로 진행\n",
    "    \n",
    "def solution(N, M, T, disk_status, rotation):\n",
    "    disk_status = [[int(x) for x in x.split()] for x in disk_status.split(\"\\n\")]\n",
    "    rotation = [[int(x) for x in x.split()] for x in rotation.split(\"\\n\")]\n",
    "    return rotate_disk(N, M, T, disk_status, rotation)"
   ]
  },
  {
   "cell_type": "code",
   "execution_count": 2,
   "metadata": {},
   "outputs": [],
   "source": [
    "N, M, T = 4, 4, 1\n",
    "disk_status = '''1 1 2 3\n",
    "5 2 4 2\n",
    "3 1 3 5\n",
    "2 1 3 2'''\n",
    "rotation = '''2 0 1'''"
   ]
  },
  {
   "cell_type": "code",
   "execution_count": 3,
   "metadata": {},
   "outputs": [
    {
     "data": {
      "text/plain": [
       "30"
      ]
     },
     "execution_count": 3,
     "metadata": {},
     "output_type": "execute_result"
    }
   ],
   "source": [
    "solution(N, M, T, disk_status, rotation)"
   ]
  },
  {
   "cell_type": "code",
   "execution_count": 4,
   "metadata": {},
   "outputs": [],
   "source": [
    "N, M, T = 4, 4, 2\n",
    "disk_status = '''1 1 2 3\n",
    "5 2 4 2\n",
    "3 1 3 5\n",
    "2 1 3 2'''\n",
    "rotation = '''2 0 1\n",
    "3 1 3'''"
   ]
  },
  {
   "cell_type": "code",
   "execution_count": 5,
   "metadata": {},
   "outputs": [
    {
     "data": {
      "text/plain": [
       "22"
      ]
     },
     "execution_count": 5,
     "metadata": {},
     "output_type": "execute_result"
    }
   ],
   "source": [
    "solution(N, M, T, disk_status, rotation)"
   ]
  },
  {
   "cell_type": "code",
   "execution_count": 6,
   "metadata": {},
   "outputs": [],
   "source": [
    "N, M, T = 4, 4, 3\n",
    "disk_status = '''1 1 2 3\n",
    "5 2 4 2\n",
    "3 1 3 5\n",
    "2 1 3 2'''\n",
    "rotation = '''2 0 1\n",
    "3 1 3\n",
    "2 0 2'''"
   ]
  },
  {
   "cell_type": "code",
   "execution_count": 7,
   "metadata": {},
   "outputs": [
    {
     "data": {
      "text/plain": [
       "22"
      ]
     },
     "execution_count": 7,
     "metadata": {},
     "output_type": "execute_result"
    }
   ],
   "source": [
    "solution(N, M, T, disk_status, rotation)"
   ]
  },
  {
   "cell_type": "code",
   "execution_count": 8,
   "metadata": {},
   "outputs": [],
   "source": [
    "N, M, T = 4, 4, 4\n",
    "disk_status = '''1 1 2 3\n",
    "5 2 4 2\n",
    "3 1 3 5\n",
    "2 1 3 2'''\n",
    "rotation = '''2 0 1\n",
    "3 1 3\n",
    "2 0 2\n",
    "3 1 1'''"
   ]
  },
  {
   "cell_type": "code",
   "execution_count": 9,
   "metadata": {},
   "outputs": [
    {
     "data": {
      "text/plain": [
       "0"
      ]
     },
     "execution_count": 9,
     "metadata": {},
     "output_type": "execute_result"
    }
   ],
   "source": [
    "solution(N, M, T, disk_status, rotation)"
   ]
  },
  {
   "cell_type": "code",
   "execution_count": 10,
   "metadata": {},
   "outputs": [],
   "source": [
    "N, M, T = 4, 6, 3\n",
    "disk_status = '''1 2 3 4 5 6\n",
    "2 3 4 5 6 7\n",
    "3 4 5 6 7 8\n",
    "4 5 6 7 8 9'''\n",
    "rotation = '''2 1 4\n",
    "3 0 1\n",
    "2 1 2'''"
   ]
  },
  {
   "cell_type": "code",
   "execution_count": 11,
   "metadata": {},
   "outputs": [
    {
     "data": {
      "text/plain": [
       "26"
      ]
     },
     "execution_count": 11,
     "metadata": {},
     "output_type": "execute_result"
    }
   ],
   "source": [
    "solution(N, M, T, disk_status, rotation)"
   ]
  }
 ],
 "metadata": {
  "kernelspec": {
   "display_name": "Python 3",
   "language": "python",
   "name": "python3"
  },
  "language_info": {
   "codemirror_mode": {
    "name": "ipython",
    "version": 3
   },
   "file_extension": ".py",
   "mimetype": "text/x-python",
   "name": "python",
   "nbconvert_exporter": "python",
   "pygments_lexer": "ipython3",
   "version": "3.6.9"
  }
 },
 "nbformat": 4,
 "nbformat_minor": 2
}
