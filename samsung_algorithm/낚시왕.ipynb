{
 "cells": [
  {
   "cell_type": "markdown",
   "metadata": {},
   "source": [
    "# 낚시왕"
   ]
  },
  {
   "cell_type": "markdown",
   "metadata": {},
   "source": [
    "[baekjoon의 '낚시왕' 링크](https://www.acmicpc.net/problem/17143)"
   ]
  },
  {
   "cell_type": "markdown",
   "metadata": {},
   "source": [
    "### 문제\n",
    "낚시왕이 상어 낚시를 하는 곳은 크기가 R×C인 격자판으로 나타낼 수 있다. 격자판의 각 칸은 (r, c)로 나타낼 수 있다. r은 행, c는 열이고, (R, C)는 아래 그림에서 가장 오른쪽 아래에 있는 칸이다. 칸에는 상어가 최대 한 마리 들어있을 수 있다. 상어는 크기와 속도를 가지고 있다.  \n",
    "  \n",
    "![](https://upload.acmicpc.net/85c2ccad-e4b8-4397-9bd6-0ec73b0f44f8/-/preview/)  \n",
    "  \n",
    "낚시왕은 처음에 1번 열의 한 칸 왼쪽에 있다. 다음은 1초 동안 일어나는 일이며, 아래 적힌 순서대로 일어난다. 낚시왕은 가장 오른쪽 열의 오른쪽 칸에 이동하면 이동을 멈춘다.  \n",
    "  \n",
    "1. 낚시왕이 오른쪽으로 한 칸 이동한다.  \n",
    "2. 낚시왕이 있는 열에 있는 상어 중에서 땅과 제일 가까운 상어를 잡는다. 상어를 잡으면 격자판에서 잡은 상어가 사라진다.  \n",
    "3. 상어가 이동한다.  \n",
    "  \n",
    "상어는 입력으로 주어진 속도로 이동하고, 속도의 단위는 칸/초이다. 상어가 이동하려고 하는 칸이 격자판의 경계인 경우에는 방향을 반대로 바꿔서 속력을 유지한채로 이동한다.  \n",
    "  \n",
    "왼쪽 그림의 상태에서 1초가 지나면 오른쪽 상태가 된다. 상어가 보고 있는 방향이 속도의 방향, 왼쪽 아래에 적힌 정수는 속력이다. 왼쪽 위에 상어를 구분하기 위해 문자를 적었다.  \n",
    "  \n",
    "![](https://upload.acmicpc.net/d03be3c0-057d-47f7-9808-202ae36a3da3/-/preview/)  \n",
    "  \n",
    "상어가 이동을 마친 후에 한 칸에 상어가 두 마리 이상 있을 수 있다. 이때는 크기가 가장 큰 상어가 나머지 상어를 모두 잡아먹는다.  \n",
    "  \n",
    "낚시왕이 상어 낚시를 하는 격자판의 상태가 주어졌을 때, 낚시왕이 잡은 상어 크기의 합을 구해보자.  \n",
    "  \n",
    "### 입력  \n",
    "첫째 줄에 격자판의 크기 R, C와 상어의 수 M이 주어진다. (2 ≤ R, C ≤ 100, 0 ≤ M ≤ R×C)  \n",
    "  \n",
    "둘째 줄부터 M개의 줄에 상어의 정보가 주어진다. 상어의 정보는 다섯 정수 r, c, s, d, z (1 ≤ r ≤ R, 1 ≤ c ≤ C, 0 ≤ s ≤ 1000, 1 ≤ d ≤ 4, 1 ≤ z ≤ 10000) 로 이루어져 있다. (r, c)는 상어의 위치, s는 속력, d는 이동 방향, z는 크기이다. d가 1인 경우는 위, 2인 경우는 아래, 3인 경우는 오른쪽, 4인 경우는 왼쪽을 의미한다.  \n",
    "  \n",
    "두 상어가 같은 크기를 갖는 경우는 없고, 하나의 칸에 둘 이상의 상어가 있는 경우는 없다.  \n",
    "  \n",
    "### 출력  \n",
    "낚시왕이 잡은 상어 크기의 합을 출력한다.    \n",
    "  "
   ]
  },
  {
   "cell_type": "code",
   "execution_count": 1,
   "metadata": {},
   "outputs": [],
   "source": [
    "def shark_moving(R, C, y, x, s, d, z): # 상어의 움직임 함수\n",
    "    directions = [None,(-1,0),(1,0),(0,1),(0,-1)] # 없음, 북, 남, 동, 서\n",
    "    d_y, d_x = directions[d] # 상어의 현재 이동방향\n",
    "    move_num = s # 초당 이동횟수\n",
    "    \n",
    "    while True:\n",
    "        if move_num == 0: # 초당 이동 횟 수 만큼 움직였다면 그만\n",
    "            break\n",
    "        y += d_y\n",
    "        x += d_x\n",
    "        move_num -= 1\n",
    "        # 상어의 1칸 이동\n",
    "        \n",
    "        if y == 0 or y == R-1 or x == 0 or x == C-1:\n",
    "            if d % 2 == 0:\n",
    "                d -= 1\n",
    "            else:\n",
    "                d += 1\n",
    "            d_y, d_x = directions[d]\n",
    "            # 벽에 부딪혔다면 방향을 반대로 전환\n",
    "    return y, x, d\n",
    "        \n",
    "\n",
    "def fishing_king_simulation(R, C, M, board, loc): # 낚시왕 시뮬레이션 함수\n",
    "    total = 0 # 잡은 상어의 사이즈\n",
    "    \n",
    "    if loc == C or M == 0: # 상어가 없거나, 모든 턴을 돌았을 경우 시뮬레이션 종료\n",
    "        return 0\n",
    "    \n",
    "    for i in range(R): # 낚시왕의 현재 위치한 열에 대해서 가장 가까운 상어를 잡아올림\n",
    "        if board[i][loc] != (0,0,0):\n",
    "            total += board[i][loc][2]\n",
    "            board[i][loc] = (0,0,0)\n",
    "            M -= 1\n",
    "            break\n",
    "    \n",
    "    # 상어들의 움직임\n",
    "    for y in range(R): \n",
    "        for x in range(C):\n",
    "            if board[y][x] != (0,0,0): \n",
    "                s, d, z = board[y][x]\n",
    "                board[y][x] = (0,0,0)\n",
    "                m_y, m_x, m_d = shark_moving(R, C, y, x, s, d, z)\n",
    "                # 상어의 움직임\n",
    "                size = board[m_y][m_x][2]\n",
    "                if size == 0: # 움직인 위치가 비어 있다면 상어를 해당 위치에 그대로 둔다.\n",
    "                    board[m_y][m_x]= (s, m_d, z)\n",
    "                else: # 만약 해당 위치에 상어가 있을 경우\n",
    "                    M -= 1\n",
    "                    if size < z:\n",
    "                        board[m_y][m_x] = (s, m_d, z)\n",
    "                    # 현재 탐색하는 상어가 몸집이 더 클 경우, 작은 상어를 잡아먹는다.\n",
    "\n",
    "    total += fishing_king_simulation(R, C, M, board, loc+1)\n",
    "    # 낚시왕의 위치를 열을 1 증가 시켜 다시 시뮬레이션\n",
    "    return total\n",
    "\n",
    "def solution(R, C, M, shark_info):\n",
    "    shark_info = [tuple(int(x) for x in x.split()) for x in shark_info.split('\\n')]\n",
    "    board = [[(0, 0, 0) for _ in range(C)] for _ in range(R)]\n",
    "    for r, c, s, d, z in shark_info:\n",
    "        board[r-1][c-1] = (s, d, z)\n",
    "    # 낚시장에 상어 배치\n",
    "    return fishing_king_simulation(R,C,M, board, 0) # 낚시왕 시뮬레이션"
   ]
  },
  {
   "cell_type": "code",
   "execution_count": 2,
   "metadata": {},
   "outputs": [],
   "source": [
    "R, C, M = 4, 6, 8\n",
    "shark_info ='''4 1 3 3 8\n",
    "1 3 5 2 9\n",
    "2 4 8 4 1\n",
    "4 5 0 1 4\n",
    "3 3 1 2 7\n",
    "1 5 8 4 3\n",
    "3 6 2 1 2\n",
    "2 2 2 3 5'''"
   ]
  },
  {
   "cell_type": "code",
   "execution_count": 3,
   "metadata": {},
   "outputs": [
    {
     "data": {
      "text/plain": [
       "22"
      ]
     },
     "execution_count": 3,
     "metadata": {},
     "output_type": "execute_result"
    }
   ],
   "source": [
    "solution(R, C, M, shark_info)"
   ]
  }
 ],
 "metadata": {
  "kernelspec": {
   "display_name": "Python 3",
   "language": "python",
   "name": "python3"
  },
  "language_info": {
   "codemirror_mode": {
    "name": "ipython",
    "version": 3
   },
   "file_extension": ".py",
   "mimetype": "text/x-python",
   "name": "python",
   "nbconvert_exporter": "python",
   "pygments_lexer": "ipython3",
   "version": "3.6.9"
  }
 },
 "nbformat": 4,
 "nbformat_minor": 2
}
