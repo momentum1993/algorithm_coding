{
 "cells": [
  {
   "cell_type": "markdown",
   "metadata": {},
   "source": [
    "# 주사위 게임"
   ]
  },
  {
   "cell_type": "markdown",
   "metadata": {},
   "source": [
    "[baekjoon의 '주사위 게임' 링크](https://www.acmicpc.net/problem/5566)"
   ]
  },
  {
   "cell_type": "markdown",
   "metadata": {},
   "source": [
    "### 문제   \n",
    "상근이는 혼자 보드 게임을 하고 있다. 이 보드 게임의 보드는 N칸으로 이루어져 있고, 출발점은 1칸, 도착점은 N칸이다. 각 칸에는 지시 사항이 적혀있다. 지시 사항은 말을 얼만큼 이동해야 하는지가 쓰여 있다. \n",
    "\n",
    "상근이는 도착점에 도착할 때까지 주사위를 굴려 나온 눈의 수만큼 그 칸으로 이동한다. 이때, 도착한 칸에 쓰여 있는 지시만큼 말을 다시 이동시킨다. 지시 사항으로 이동해서 도착한 칸에 쓰여 있는 지시는 따르지 않는다.\n",
    "\n",
    "N칸에 도착했을 때와 그 칸을 넘는 경우도 도착한 것이다.\n",
    "\n",
    "상근이가 던졌을 때 나온 주사위의 눈과 보드판의 지시사항이 주어졌을 때, 몇 번 만에 도착하는지 구하는 프로그램을 작성하시오.\n",
    "\n",
    "### 입력\n",
    "첫째 줄에 N과 M이 주어진다. M은 상근이가 주사위를 던진 횟수이다. (2 ≤ N ≤ 1000, 1 ≤ M ≤ 1000)\n",
    "\n",
    "다음 N개 줄에는 -999이상 999이하의 정수가 하나씩 적혀있다. i번째 정수는 i번 칸에 쓰여 있는 지시사항 X이다. 이때, X가 0이면 아무것도 하지 않고 그 자리에 멈춰 있는다. X가 양수인 경우에는 X칸 더 앞으로 진행하는 것을, 음수인 경우에는 |X|칸 뒤로 진행하는 것을 나타낸다.\n",
    "\n",
    "다음 M개 줄에는 1이상 6이하의 정수가 주어진다. j번째 정수는 상근이가 주사위를 j번째로 던졌을 때, 나온 눈이다.\n",
    "\n",
    "1번 칸과 N번 칸에 쓰여 있는 지시사항은 항상 0이다. 또, 항상 주사위를 M번 이하로 던져서 도착할 수 있다.  또, 1보다 작은 칸으로 이동하라는 지시가 있는 경우도 없다.\n",
    "\n",
    "### 출력\n",
    "주사위를 몇 번 던져서 도착할 수 있는지 출력한다.  "
   ]
  },
  {
   "cell_type": "code",
   "execution_count": 1,
   "metadata": {},
   "outputs": [
    {
     "name": "stdout",
     "output_type": "stream",
     "text": [
      "Input\n",
      "10 5\n",
      "0\n",
      "0\n",
      "5\n",
      "6\n",
      "-3\n",
      "8\n",
      "1\n",
      "8\n",
      "-4\n",
      "0\n",
      "1\n",
      "3\n",
      "5\n",
      "1\n",
      "5\n",
      "\n",
      "Output\n",
      "5\n"
     ]
    }
   ],
   "source": [
    "def simulation(N, M, dice, board): # 게임 시뮬레이션\n",
    "    answer = 0 # 답\n",
    "    idx = 0 # 현재 위치 인덱스\n",
    "    for i in range(M): # 모든 주사위 시행에 대해서\n",
    "        answer += 1 # 주사위 던진 시행 횟수 1 증가\n",
    "        idx += dice[i] # 주사위 결과값을 인덱스에 더한다\n",
    "        if idx >= N:\n",
    "            return answer\n",
    "        elif idx < 0:\n",
    "            idx = 0\n",
    "        # N칸에 도달했다면 답 반환, 값이 음수가 되면 인덱스를 0으로 조정\n",
    "        idx += board[idx] # 도착한 보드 상에 적힌 값만큼 인덱스 이동\n",
    "        if idx >= N:\n",
    "            return answer\n",
    "        elif idx < 0:\n",
    "            idx = 0\n",
    "        # N칸에 도달했다면 답 반환, 값이 음수가 되면 인덱스를 0으로 조정\n",
    "    return answer\n",
    "\n",
    "print(\"Input\")\n",
    "N, M = tuple(int(x) for x in input().split()) # 보드 길이, 주사위 시행 횟수\n",
    "dice = [] # 주사위 던져서 나온 번호\n",
    "board = [] # 게임 보드\n",
    "for _ in range(N):\n",
    "    board.append(int(input()))\n",
    "for _ in range(M):\n",
    "    dice.append(int(input()))\n",
    "print(\"\\nOutput\")\n",
    "print(simulation(N, M, dice, board)) # 시뮬레이션 후 답 출력"
   ]
  }
 ],
 "metadata": {
  "kernelspec": {
   "display_name": "Python 3",
   "language": "python",
   "name": "python3"
  },
  "language_info": {
   "codemirror_mode": {
    "name": "ipython",
    "version": 3
   },
   "file_extension": ".py",
   "mimetype": "text/x-python",
   "name": "python",
   "nbconvert_exporter": "python",
   "pygments_lexer": "ipython3",
   "version": "3.6.9"
  }
 },
 "nbformat": 4,
 "nbformat_minor": 2
}
