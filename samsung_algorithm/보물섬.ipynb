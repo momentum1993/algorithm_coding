{
 "cells": [
  {
   "cell_type": "markdown",
   "metadata": {},
   "source": [
    "# 보물섬"
   ]
  },
  {
   "cell_type": "markdown",
   "metadata": {},
   "source": [
    "[baekjoon의 '보물섬' 링크](https://www.acmicpc.net/problem/2589)"
   ]
  },
  {
   "cell_type": "markdown",
   "metadata": {},
   "source": [
    "### 문제   \n",
    "보물섬 지도를 발견한 후크 선장은 보물을 찾아나섰다. 보물섬 지도는 아래 그림과 같이 직사각형 모양이며 여러 칸으로 나뉘어져 있다. 각 칸은 육지(L)나 바다(W)로 표시되어 있다. 이 지도에서 이동은 상하좌우로 이웃한 육지로만 가능하며, 한 칸 이동하는데 한 시간이 걸린다. 보물은 서로 간에 최단 거리로 이동하는데 있어 가장 긴 시간이 걸리는 육지 두 곳에 나뉘어 묻혀있다. 육지를 나타내는 두 곳 사이를 최단 거리로 이동하려면 같은 곳을 두 번 이상 지나가거나, 멀리 돌아가서는 안 된다.  \n",
    "  \n",
    "![](https://www.acmicpc.net/upload/images/c1bYIsKpI6m317EAx.jpg)  \n",
    "  \n",
    "예를 들어 위와 같이 지도가 주어졌다면 보물은 아래 표시된 두 곳에 묻혀 있게 되고, 이 둘 사이의 최단 거리로 이동하는 시간은 8시간이 된다.  \n",
    "  \n",
    "![](https://www.acmicpc.net/upload/images/XqDkWCRUWbzZ.jpg)  \n",
    "  \n",
    "보물 지도가 주어질 때, 보물이 묻혀 있는 두 곳 간의 최단 거리로 이동하는 시간을 구하는 프로그램을 작성하시오.  \n",
    "  \n",
    "### 입력  \n",
    "첫째 줄에는 보물 지도의 세로의 크기와 가로의 크기가 빈칸을 사이에 두고 주어진다. 이어 L과 W로 표시된 보물 지도가 아래의 예와 같이 주어지며, 각 문자 사이에는 빈 칸이 없다. 보물 지도의 가로, 세로의 크기는 각각 50이하이다.  \n",
    "  \n",
    "### 출력  \n",
    "첫째 줄에 보물이 묻혀 있는 두 곳 사이를 최단 거리로 이동하는 시간을 출력한다.  "
   ]
  },
  {
   "cell_type": "code",
   "execution_count": 2,
   "metadata": {},
   "outputs": [
    {
     "name": "stdout",
     "output_type": "stream",
     "text": [
      "5 7\n",
      "WLLWWWL\n",
      "LLLWLLL\n",
      "LWLWLWW\n",
      "LWLWLLL\n",
      "WLLWLWW\n",
      "8\n"
     ]
    }
   ],
   "source": [
    "from queue import Queue\n",
    "\n",
    "def cal_distance(r, c, board, init_y, init_x): # (init_y, init_x) 좌표에서 육지로 연결된 가장 먼곳의 최단거리 반환\n",
    "    answer = 0 # 답\n",
    "    q = Queue() # 큐\n",
    "    idx = init_y * c + init_x # 현재 좌표의 인덱스\n",
    "    q.put((0, init_y, init_x)) # (이동횟수, y좌표, x좌표)를 큐에 push\n",
    "    direction = [(1, 0), (-1, 0), (0, 1), (0, -1)] # 4방향\n",
    "    distance = [[r*c for _ in range(r*c)] for _ in range(r*c)]\n",
    "    # 위치간의 거리\n",
    "    distance[idx][idx] = 0 # 현재위치에서 현재위치까지의 거리는 0\n",
    "\n",
    "    while not q.empty():\n",
    "        count, y, x = q.get() # (이동횟수, y좌표, x좌표)를 큐에서 pop\n",
    "        answer = max(answer, count) # 탐색한 것 중에 육지 내에서 이동할 수 있는 가장 먼 곳으로의 최단거리 저장\n",
    "        for add_y, add_x in direction: # 4방향에 대해서\n",
    "            dst_idx = (add_y+y) * c + (add_x+x) # 이동한 후 좌표의 인덱스\n",
    "            if 0 <= y+add_y < r and 0 <= x+add_x < c and board[y+add_y][x+add_x] == 'L' and distance[idx][dst_idx] >= count+1:\n",
    "            # 지도 내의 육지 공간이며, 이미 탐색하지 않은 곳일 경우\n",
    "                distance[idx][dst_idx] = distance[dst_idx][idx] = count+1\n",
    "                # 처음 위치부터 현재 탐색중인 위치까지의 거리를 저장\n",
    "                q.put((count+1, y+add_y, x+add_x))\n",
    "                # 그리고 이동횟수 및 현재 탐색중인 위치를 다시 큐에 push\n",
    "    return answer # 답 반환\n",
    "            \n",
    "\n",
    "r, c = tuple(int(x) for x in input().split()) # 행, 열\n",
    "board = [] # 보물 지도\n",
    "answer = 0 # 답\n",
    "for _ in range(r):\n",
    "    board.append(list(input()))\n",
    "    \n",
    "for y in range(r):\n",
    "    for x in range(c): # 보물지도의 모든 좌표에 대해서\n",
    "        if board[y][x] == 'L': # 만약 육지에 해당하는 위치라면\n",
    "            answer = max(answer, cal_distance(r, c, board, y, x))\n",
    "            # 해당하는 육지내에서 가장 먼 곳의 최단거리 중에서 가장 큰 값을 저장\n",
    "print(answer) # 답 출력\n",
    "            "
   ]
  }
 ],
 "metadata": {
  "kernelspec": {
   "display_name": "Python 3",
   "language": "python",
   "name": "python3"
  },
  "language_info": {
   "codemirror_mode": {
    "name": "ipython",
    "version": 3
   },
   "file_extension": ".py",
   "mimetype": "text/x-python",
   "name": "python",
   "nbconvert_exporter": "python",
   "pygments_lexer": "ipython3",
   "version": "3.6.9"
  }
 },
 "nbformat": 4,
 "nbformat_minor": 2
}
