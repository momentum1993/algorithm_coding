{
 "cells": [
  {
   "cell_type": "markdown",
   "metadata": {},
   "source": [
    "# 다리 만들기"
   ]
  },
  {
   "cell_type": "markdown",
   "metadata": {},
   "source": [
    "[baekjoon의 '다리 만들기' 링크](https://www.acmicpc.net/problem/2146)"
   ]
  },
  {
   "cell_type": "markdown",
   "metadata": {},
   "source": [
    "### 문제   \n",
    "여러 섬으로 이루어진 나라가 있다. 이 나라의 대통령은 섬을 잇는 다리를 만들겠다는 공약으로 인기몰이를 해 당선될 수 있었다. 하지만 막상 대통령에 취임하자, 다리를 놓는다는 것이 아깝다는 생각을 하게 되었다. 그래서 그는, 생색내는 식으로 한 섬과 다른 섬을 잇는 다리 하나만을 만들기로 하였고, 그 또한 다리를 가장 짧게 하여 돈을 아끼려 하였다.  \n",
    "  \n",
    "이 나라는 N×N크기의 이차원 평면상에 존재한다. 이 나라는 여러 섬으로 이루어져 있으며, 섬이란 동서남북으로 육지가 붙어있는 덩어리를 말한다. 다음은 세 개의 섬으로 이루어진 나라의 지도이다.  \n",
    "  \n",
    "![](https://www.acmicpc.net/JudgeOnline/upload/201008/bri.PNG)  \n",
    "  \n",
    "위의 그림에서 색이 있는 부분이 육지이고, 색이 없는 부분이 바다이다. 이 바다에 가장 짧은 다리를 놓아 두 대륙을 연결하고자 한다. 가장 짧은 다리란, 다리가 격자에서 차지하는 칸의 수가 가장 작은 다리를 말한다. 다음 그림에서 두 대륙을 연결하는 다리를 볼 수 있다.  \n",
    "  \n",
    "![](https://www.acmicpc.net/JudgeOnline/upload/201008/b2.PNG)  \n",
    "  \n",
    "물론 위의 방법 외에도 다리를 놓는 방법이 여러 가지 있으나, 위의 경우가 놓는 다리의 길이가 3으로 가장 짧다(물론 길이가 3인 다른 다리를 놓을 수 있는 방법도 몇 가지 있다).  \n",
    "  \n",
    "지도가 주어질 때, 가장 짧은 다리 하나를 놓아 두 대륙을 연결하는 방법을 찾으시오.  \n",
    "  \n",
    "### 입력  \n",
    "첫 줄에는 지도의 크기 N(100이하의 자연수)가 주어진다. 그 다음 N줄에는 N개의 숫자가 빈칸을 사이에 두고 주어지며, 0은 바다, 1은 육지를 나타낸다. 항상 두 개 이상의 섬이 있는 데이터만 입력으로 주어진다.  \n",
    "  \n",
    "### 출력  \n",
    "첫째 줄에 가장 짧은 다리의 길이를 출력한다.  "
   ]
  },
  {
   "cell_type": "code",
   "execution_count": 1,
   "metadata": {},
   "outputs": [
    {
     "name": "stdout",
     "output_type": "stream",
     "text": [
      "10\n",
      "1 1 1 0 0 0 0 1 1 1\n",
      "1 1 1 1 0 0 0 0 1 1\n",
      "1 0 1 1 0 0 0 0 1 1\n",
      "0 0 1 1 1 0 0 0 0 1\n",
      "0 0 0 1 0 0 0 0 0 1\n",
      "0 0 0 0 0 0 0 0 0 1\n",
      "0 0 0 0 0 0 0 0 0 0\n",
      "0 0 0 0 1 1 0 0 0 0\n",
      "0 0 0 0 1 1 1 0 0 0\n",
      "0 0 0 0 0 0 0 0 0 0\n",
      "3\n"
     ]
    }
   ],
   "source": [
    "from queue import PriorityQueue\n",
    "from copy import deepcopy \n",
    "\n",
    "def check_island(N, nation_map, checked, search_list, y, x): # 섬 육지 체크 함수\n",
    "    checked[y][x] = 0 # 섬의 영토임을 체크\n",
    "    direction = [(0, 1), (0, -1), (1, 0), (-1, 0)] # 동, 서, 남, 북\n",
    "    for i in range(4): # 네 방향에 대해서\n",
    "        add_y, add_x = direction[i]\n",
    "        if 0 <= add_y+y < N and 0 <= add_x+x < N:\n",
    "            if checked[add_y+y][add_x+x] != N*N: # 이미 확인된 영토라면 다음 영토를 확인한다.\n",
    "                continue\n",
    "            if nation_map[add_y+y][add_x+x] == 1: # 섬의 영토일 경우\n",
    "                check_island(N, nation_map, checked, search_list, add_y+y, add_x+x)\n",
    "                # 재귀적으로 계속 섬의 영토를 확인\n",
    "            elif nation_map[add_y+y][add_x+x] == 0: # 섬의 가장자리 영토일 때\n",
    "                search_list.add((y, x)) # 가장자리 영토 좌표 저장\n",
    "    return\n",
    "            \n",
    "def simulation(N, nation_map, checked, search_list, y, x): # 다리의 최소 길이 반환하는 함수\n",
    "    direction = [(0, 1), (0, -1), (1, 0), (-1, 0)] # 동, 서, 남, 북\n",
    "                \n",
    "    q = PriorityQueue() # 우선순위 큐\n",
    "    for edge_y, edge_x in search_list: # 섬의 가장자리 영토들을 우선순위 큐에 push한다.\n",
    "        q.put((0, edge_y, edge_x)) # 다리의 길이, 현재 y좌표, 현재 x좌표\n",
    "    \n",
    "    while not q.empty():\n",
    "        count, edge_y, edge_x = q.get() # 다리의 길이, 현재 y좌표, 현재 x좌표 를 큐에서 pop\n",
    "        for add_y, add_x in direction: # 네 방향에 대해서\n",
    "            if 0 <= add_y+edge_y < N and 0 <= add_x+edge_x < N: # 지도 내의 영토일 때\n",
    "                if checked[edge_y+add_y][edge_x+add_x] > count+1: # 현재 다리의 길이가 최소일 때 \n",
    "                    if nation_map[edge_y+add_y][edge_x+add_x] == 1 and checked[edge_y+add_y][edge_x+add_x] == N*N:\n",
    "                    # 만약 다른 섬의 영토일 경우 다리의 길이를 반환한다.\n",
    "                        return count\n",
    "                    checked[edge_y+add_y][edge_x+add_x] = count+1 # 현재 좌표 까지의 다리 길이를 저장\n",
    "                    q.put((count+1, edge_y+add_y, edge_x+add_x)) # 다리의 길이, 현재 y좌표, 현재 x좌표를 큐에 push\n",
    "    return N*N\n",
    "    \n",
    "N = int(input()) # 영토의 길이\n",
    "answer = N*N # 답\n",
    "nation_map = []\n",
    "checked = [[N*N for _ in range(N)] for _ in range(N)]\n",
    "for _ in range(N):\n",
    "    nation_map.append([int(x) for x in input().split()])\n",
    "# 지도 영토 정보를 입력 받는다.\n",
    "for y in range(N):\n",
    "    for x in range(N):\n",
    "        if nation_map[y][x] == 1 and checked[y][x] == N*N: # 아직 탐색하지 않은 섬의 영토일 경우\n",
    "            search_list = set() # 섬의 가장자리 영토의 좌표\n",
    "            check_island(N, nation_map, checked, search_list, y, x) # 섬에 해당하는 영토 모두를 표시\n",
    "            cp_checked = deepcopy(checked)\n",
    "            answer = min(answer, simulation(N, nation_map, cp_checked, search_list, y, x))\n",
    "            # 현재 탐색 중인 섬의 가장자리로 부터 다른 섬까지 최소 다리 길이를 반환한다.\n",
    "print(answer) # 답 출력"
   ]
  }
 ],
 "metadata": {
  "kernelspec": {
   "display_name": "Python 3",
   "language": "python",
   "name": "python3"
  },
  "language_info": {
   "codemirror_mode": {
    "name": "ipython",
    "version": 3
   },
   "file_extension": ".py",
   "mimetype": "text/x-python",
   "name": "python",
   "nbconvert_exporter": "python",
   "pygments_lexer": "ipython3",
   "version": "3.6.9"
  }
 },
 "nbformat": 4,
 "nbformat_minor": 2
}
