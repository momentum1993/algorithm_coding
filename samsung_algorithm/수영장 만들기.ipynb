{
 "cells": [
  {
   "cell_type": "markdown",
   "metadata": {},
   "source": [
    "# 수영장 만들기"
   ]
  },
  {
   "cell_type": "markdown",
   "metadata": {},
   "source": [
    "[baekjoon의 '수영장 만들기' 링크](https://www.acmicpc.net/problem/1113)"
   ]
  },
  {
   "cell_type": "markdown",
   "metadata": {},
   "source": [
    "### 문제  \n",
    "지민이는 수영장을 만들려고 한다. 수영장을 만들 곳의 크기는 N\\*M이고, 각 칸은 직육면체이다. 따라서, 각 칸의 직육면체의 높이가 쓰여 있는 다음과 같은 땅을 생각할 수 있다.  \n",
    "~~~  \n",
    "16661  \n",
    "61116  \n",
    "16661  \n",
    "~~~\n",
    "\n",
    "이 수영장은 15만큼의 물이 들어있는 수영장을 만들 수 있다. 가운데 3개의 칸에 5만큼 물을 채우면 되기 때문이다.  \n",
    "  \n",
    "자 이제 가운데 물을 더 추가했다고 생각하면, 벽(높이가 6인 직육면체)을 넘어서 밖으로 나갈 것이다. 물은 항상 높이가 더 낮은 곳으로만 흐르고, 직육면체 위의 표면에는 물이 없다. 그리고, 땅의 높이는 0이고, 땅은 물을 무한대로 흡수 할 수 있다.  \n",
    "  \n",
    "땅의 모양이 주어질 때, 수영장에 물이 얼마만큼 있을 수 있는지 구하는 프로그램을 작성하시오.  \n",
    "  \n",
    "### 입력  \n",
    "첫째 줄에 N과 M이 주어진다. N과 M은 50보다 작거나 같은 자연수이다. 둘째 줄부터 N개의 줄에 땅의 높이가 주어진다. 높이는 1보다 크거나 같고, 9보다 작거나 같은 자연수이다.  \n",
    "  \n",
    "### 출력  \n",
    "첫째 줄에 문제의 정답을 출력한다.    "
   ]
  },
  {
   "cell_type": "code",
   "execution_count": 1,
   "metadata": {},
   "outputs": [
    {
     "name": "stdout",
     "output_type": "stream",
     "text": [
      "3 5\n",
      "16661\n",
      "61116\n",
      "16661\n",
      "15\n"
     ]
    }
   ],
   "source": [
    "def check_pool(N, M, fill, checked, y, x): # 수영장인지 체크하고 물의 양 계산하는 함수\n",
    "    answer = 0 # 답\n",
    "    answer += fill[y][x]\n",
    "    # 현재 땅에 채울 수 있는 물을 더함\n",
    "    direction = [(-1, 0), (1, 0), (0, -1), (0, 1)] # 상. 하. 좌. 우\n",
    "    for add_y, add_x in direction: # 현재 땅과 근접한 땅에 대해서\n",
    "        if 1 <= y+add_y < N-1 and 1 <= x+add_x < M-1: \n",
    "        # 바깥쪽 영역이 아니라면 (즉, 수영장에 포함될 수 있는 땅이라면)\n",
    "            if checked[y+add_y][x+add_x]: # 이미 확인한 땅은 패스\n",
    "                continue\n",
    "            if fill[y+add_y][x+add_x] > 0: # 채울 수 있는 물이 있다면\n",
    "                checked[y+add_y][x+add_x] = True # 해당 땅을 확인함을 체크\n",
    "                answer += check_pool(N, M, fill, checked, y, x)\n",
    "                # 재귀적으로 연속된 수영장 영토를 체크하고 채울 물을 더함\n",
    "                if answer < 0: # 영토가 가장자리까지 확장되었다면(즉, 수영장 성립 X)\n",
    "                    return answer # 음수값 그대로 반환\n",
    "        elif fill[y+add_y][x+add_x] > 0:\n",
    "        # 바깥쪽 영역이지만 물이 채워져 있는 상태라면(즉, 수영장이 아니라면)\n",
    "            return (-10*N*M) # 수영장이 아님을 표시하기 위해 음수값 반환\n",
    "    return answer # 답 반환\n",
    "        \n",
    "N, M = tuple(int(x) for x in input().split()) # 행, 열\n",
    "board = [] # 보드\n",
    "height = 0 # 땅의 최대 높이\n",
    "max_fill = 0 # 물을 채울 수 있는 최대 높이\n",
    "for _ in range(N):\n",
    "    board.append([int(x) for x in input()])\n",
    "    height = max(max(board[-1]), height)\n",
    "\n",
    "fill = [] # 각 영토당 채울 수 있는 최대 높이까지 채우기 위해 필요한 물의 높이\n",
    "for y in range(N):\n",
    "    row = []\n",
    "    for x in range(M):\n",
    "        row.append(height - board[y][x])\n",
    "        max_fill = max(max_fill, height - board[y][x])\n",
    "    fill.append(row)\n",
    "\n",
    "# 모든 땅을 덮기 전까지 물을 채운 다음\n",
    "# 물을 1칸씩 높이를 줄여가면서 채울 수 있는 물의 양을 탐색\n",
    "while max_fill > 0: \n",
    "    checked = [[False for _ in range(M)] for _ in range(N)]\n",
    "    # 해당 위치의 땅을 확인했는지 여부를 확인\n",
    "    answer = 0\n",
    "    # 가장자리 땅을 제외한 모든 땅에 대해서\n",
    "    for y in range(1, N-1):\n",
    "        if answer < 0:\n",
    "            break\n",
    "        for x in range(1, M-1):\n",
    "            if fill[y][x] > 0 and not checked[y][x]: # 물이 채워져 있는 영토에 대해서\n",
    "                checked[y][x] = True\n",
    "                answer += check_pool(N, M, fill, checked, y, x)\n",
    "                # 채워야하는 물의 양을 구함\n",
    "                if answer < 0:\n",
    "                    break\n",
    "    if answer > 0: # 만약 수영장이 성립될 경우\n",
    "        print(answer) # 채워야하는 물의 양을 구함\n",
    "        break\n",
    "    # 수영장이 성립이 안된다면\n",
    "    # 채우는 물의 높이를 모두 1씩 낮춘다.\n",
    "    for y in range(N):\n",
    "        for x in range(M):\n",
    "            if fill[y][x] > 0:\n",
    "                fill[y][x] -= 1\n",
    "    max_fill -= 1\n"
   ]
  }
 ],
 "metadata": {
  "kernelspec": {
   "display_name": "Python 3",
   "language": "python",
   "name": "python3"
  },
  "language_info": {
   "codemirror_mode": {
    "name": "ipython",
    "version": 3
   },
   "file_extension": ".py",
   "mimetype": "text/x-python",
   "name": "python",
   "nbconvert_exporter": "python",
   "pygments_lexer": "ipython3",
   "version": "3.6.9"
  }
 },
 "nbformat": 4,
 "nbformat_minor": 2
}
