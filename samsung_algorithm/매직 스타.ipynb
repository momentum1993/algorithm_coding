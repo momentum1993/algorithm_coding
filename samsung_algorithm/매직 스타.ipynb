{
 "cells": [
  {
   "cell_type": "markdown",
   "metadata": {},
   "source": [
    "# 매직 스타"
   ]
  },
  {
   "cell_type": "markdown",
   "metadata": {},
   "source": [
    "[baekjoon의 '매직 스타' 링크](https://www.acmicpc.net/problem/3967)"
   ]
  },
  {
   "cell_type": "markdown",
   "metadata": {},
   "source": [
    "### 문제   \n",
    "매직 스타는 1부터 12까지 숫자가 헥사그램(hexagram)에 채워져 있는 모양으로 이루어져 있다.  \n",
    "  \n",
    "![](https://onlinejudgeimages.s3-ap-northeast-1.amazonaws.com/upload/images/magicstar.png)  \n",
    "  \n",
    "매직 스타의 이름에 매직이 들어가는 이유는 숫자 네 개로 이루어진 줄의 숫자를 모두 합하면 26이 되기 때문이다. 위의 그림의 여섯 줄에 쓰여 있는 숫자는 다음과 같다.  \n",
    "  \n",
    "- 1 + 4 + 10 + 11  \n",
    "- 11 + 5 + 3 + 7  \n",
    "- 7 + 6 + 12 + 1  \n",
    "- 2 + 10 + 5 + 9  \n",
    "- 9 + 3 + 6 + 8  \n",
    "- 8 + 12 + 4 + 2  \n",
    "  \n",
    "매직 스타를 채우는 방법은 여러 가지가 있다. 일부만 채워진 매직 스타가 주어졌을 때, 수를 전부 다 채워서 매직 스타를 만드는 프로그램을 작성하시오.  \n",
    "  \n",
    "### 입력  \n",
    "매직 스타의 모양이 주어진다. 수가 채워져 있지 않은 곳은 x로, 채워져 있는 곳은 'A'부터 'L'까지 알파벳으로 채워져 있다. i번째 알파벳은 숫자 i를 의미한다. '.'는 매직 스타의 형태를 만들기 위해서 사용하는 문자이다. 모든 입력은 예제 입력과 같은 형태로 주어진다.  \n",
    "  \n",
    "### 출력  \n",
    "매직 스타를 만들 수 있는 방법 중에 사전 순으로 가장 앞서는 방법을 출력한다. (모든 줄을 순서대로 붙여서 하나의 문자열로 만든 뒤, 사전 순으로 비교한다.) 항상 정답이 존재하는 경우만 입력으로 주어진다.  "
   ]
  },
  {
   "cell_type": "code",
   "execution_count": 1,
   "metadata": {},
   "outputs": [
    {
     "name": "stdout",
     "output_type": "stream",
     "text": [
      "Input\n",
      "....x....\n",
      ".A.I.D.x.\n",
      "..x...x..\n",
      ".x.x.x.x.\n",
      "....x....\n",
      "\n",
      "Output\n",
      "....F....\n",
      ".A.I.D.L.\n",
      "..H...E..\n",
      ".C.J.B.K.\n",
      "....G....\n"
     ]
    }
   ],
   "source": [
    "def simulation(board, checked, locs, val=[], idx=0): # 매직 스타 시뮬레이션\n",
    "    if idx == 12: # 모든 곳을 다 채웠을 때\n",
    "        if check(board, locs): # 매직스타가 성립된다면\n",
    "            return val # 상태 반환\n",
    "        return None # None 반환\n",
    "            \n",
    "    y, x = locs[idx] # 현재 탐색할 위치\n",
    "    if board[y][x] in list('ABCDEFGHIJKL'): # 만약 이미 알파벳을 갖고 있다면\n",
    "        return simulation(board, checked, locs, val+[board[y][x]], idx+1) # 다음 탐색위치를 재귀적으로 탐색\n",
    "    for i in range(12): # 알파벳 오름차순으로 탐색\n",
    "        if checked[i]: # 만약 이미 쓰인 알파벳이라면 다음 알파벳 탐색\n",
    "            continue\n",
    "        board[y][x] = chr(65+i) # 해당 위치에 알파벳 저장\n",
    "        checked[i] = True # 탐색했음을 체크\n",
    "        answer = simulation(board, checked, locs, val+[chr(65+i)], idx+1)\n",
    "        # 재귀적으로 탐색\n",
    "        if answer: # 만약 매직 스타가 성립된다면\n",
    "            return answer # 상태 반환\n",
    "        board[y][x] = 'x'\n",
    "        checked[i] = False\n",
    "    return None # None 반환\n",
    "\n",
    "def check(board, locs):\n",
    "    direction = [(0, 2), (1, 1), (1, -1), (0, -2), (-1, -1), (-1, 1)]\n",
    "    start_point = [(1, 1), (0, 4), (1, 7), (3, 7), (4, 4), (3, 1)]\n",
    "    for i in range(6):\n",
    "        total = 0\n",
    "        y, x = start_point[i]\n",
    "        add_y, add_x = direction[i]\n",
    "        for _ in range(4):\n",
    "            total += ord(board[y][x]) - 64\n",
    "            y += add_y\n",
    "            x += add_x\n",
    "        if total != 26:\n",
    "            return False\n",
    "    return True\n",
    "    \n",
    "board = [] # 보드\n",
    "checked = [False for _ in range(12)] # 1 ~ 12번째 알파벳까지 쓰였는지 여부 확인\n",
    "locs = [] # 알파벳 채워야하는 곳 위치\n",
    "print(\"Input\")\n",
    "for y in range(5):\n",
    "    row = list(input()) # 보드 입력 받음\n",
    "    for x in range(len(row)):\n",
    "        i = row[x]\n",
    "        if i != '.':\n",
    "            locs.append((y,x))\n",
    "        if i in list('ABCDEFGHIJKL'): # 알파벳 채워졌을 때\n",
    "            checked[ord(i)-65] = True # 해당 알파벳이 이미 쓰였음을 체크\n",
    "    board.append(row)\n",
    "locs = sorted(locs) # 채워야하는 곳 좌표 오름차순 정렬\n",
    "print(\"\\nOutput\")\n",
    "simulation(board, checked, locs) # 매직 스타 시뮬레이션\n",
    "for y in range(5):\n",
    "    for x in range(9):\n",
    "        print(board[y][x], end='')\n",
    "    print()\n",
    "# 결과 출력"
   ]
  }
 ],
 "metadata": {
  "kernelspec": {
   "display_name": "Python 3",
   "language": "python",
   "name": "python3"
  },
  "language_info": {
   "codemirror_mode": {
    "name": "ipython",
    "version": 3
   },
   "file_extension": ".py",
   "mimetype": "text/x-python",
   "name": "python",
   "nbconvert_exporter": "python",
   "pygments_lexer": "ipython3",
   "version": "3.6.9"
  }
 },
 "nbformat": 4,
 "nbformat_minor": 2
}
