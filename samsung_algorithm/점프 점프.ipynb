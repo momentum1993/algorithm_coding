{
 "cells": [
  {
   "cell_type": "markdown",
   "metadata": {},
   "source": [
    "# 점프 점프"
   ]
  },
  {
   "cell_type": "markdown",
   "metadata": {},
   "source": [
    "[baekjoon의 '점프 점프' 링크](https://www.acmicpc.net/problem/11060)"
   ]
  },
  {
   "cell_type": "markdown",
   "metadata": {},
   "source": [
    "### 문제   \n",
    "재환이가 1×N 크기의 미로에 갇혀있다. 미로는 1×1 크기의 칸으로 이루어져 있고, 각 칸에는 정수가 하나 쓰여 있다. i번째 칸에 쓰여 있는 수를 Ai라고 했을 때, 재환이는 Ai이하만큼 오른쪽으로 떨어진 칸으로 한 번에 점프할 수 있다. 예를 들어, 3번째 칸에 쓰여 있는 수가 3이면, 재환이는 4, 5, 6번 칸 중 하나로 점프할 수 있다.  \n",
    "  \n",
    "재환이는 지금 미로의 가장 왼쪽 끝에 있고, 가장 오른쪽 끝으로 가려고 한다. 이때, 최소 몇 번 점프를 해야 갈 수 있는지 구하는 프로그램을 작성하시오. 만약, 가장 오른쪽 끝으로 갈 수 없는 경우에는 -1을 출력한다.  \n",
    "  \n",
    "### 입력  \n",
    "첫째 줄에 N(1 ≤ N ≤ 1,000)이 주어진다. 둘째 줄에는 Ai (0 ≤ Ai ≤ 100)가 주어진다.  \n",
    "  \n",
    "### 출력  \n",
    "재환이가 최소 몇 번 점프를 해야 가장 오른쪽 끝 칸으로 갈 수 있는지 출력한다. 만약, 가장 오른쪽 끝으로 갈 수 없는 경우에는 -1을 출력한다.  "
   ]
  },
  {
   "cell_type": "code",
   "execution_count": 1,
   "metadata": {},
   "outputs": [
    {
     "name": "stdout",
     "output_type": "stream",
     "text": [
      "10\n",
      "1 2 0 1 3 2 1 5 4 2\n",
      "5\n"
     ]
    }
   ],
   "source": [
    "from queue import PriorityQueue\n",
    "\n",
    "def simulation(N, A): # 시뮬레이션\n",
    "    q = PriorityQueue() # 우선순위 큐\n",
    "    q.put((0, 0)) # (이동횟수, 현재 위치) 정보를 큐에 push\n",
    "    while not q.empty(): \n",
    "        count, idx = q.get() # (이동횟수, 현재 위치) 정보를 큐에서 pop \n",
    "        val = A[idx] # 이동 가능한 칸\n",
    "        if idx == N-1: # 미로의 끝에 도달했다면\n",
    "            return count # 이동횟수 반환\n",
    "        if val == 0: # 만약 더 이상 이동할 수 없다면 다음 탐색으로 넘어감\n",
    "            continue\n",
    "        for add in range(1, val+1): # 이동 가능한 칸만큼에 대해서\n",
    "            if add+idx < N: # N을 넘어가지 않는 범위에서 이동\n",
    "                q.put((count+1, add+idx)) # (이동횟수, 현재 위치) 정보를 큐에 push\n",
    "    return -1 # 만약 미로 끝에 도달할 수 없다면 -1 반환\n",
    "\n",
    "\n",
    "N = int(input()) # 미로 길이\n",
    "A = [int(x) for x in input().split()] # 미로\n",
    "print(simulation(N, A)) # 시뮬레이션 진행 후 답 출력"
   ]
  }
 ],
 "metadata": {
  "kernelspec": {
   "display_name": "Python 3",
   "language": "python",
   "name": "python3"
  },
  "language_info": {
   "codemirror_mode": {
    "name": "ipython",
    "version": 3
   },
   "file_extension": ".py",
   "mimetype": "text/x-python",
   "name": "python",
   "nbconvert_exporter": "python",
   "pygments_lexer": "ipython3",
   "version": "3.6.9"
  }
 },
 "nbformat": 4,
 "nbformat_minor": 2
}
