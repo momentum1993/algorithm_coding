{
 "cells": [
  {
   "cell_type": "markdown",
   "metadata": {},
   "source": [
    "# 카탄의 개척자"
   ]
  },
  {
   "cell_type": "markdown",
   "metadata": {},
   "source": [
    "[baekjoon의 '카탄의 개척자' 링크](https://www.acmicpc.net/problem/3678)"
   ]
  },
  {
   "cell_type": "markdown",
   "metadata": {},
   "source": [
    "### 문제   \n",
    "\"카탄의 개척자\"는 많은 사람들이 즐기는 보드게임이다. 게임을 시작하려면, 먼저 게임판을 랜덤으로 만들어야 한다. 게임판은 육각형 타일로 이루어져 있으며, 각 타일은 자원을 하나씩 포함하고 있다. 자원은 총 다섯 가지 종류가 있으며, 점토, 재목, 양모, 곡물, 광석이다. 각 자원은 1부터 5까지 순서로 나타낼 수 있다.  \n",
    "  \n",
    "랜덤을 이용해서 게임판을 만들면, 같은 자원이 인접한 타일에 있는 경우가 있을 수도 있다. 이런 배치를 매우 싫어하는 사람이 많다. 따라서, 다음과 같은 과정으로 게임판을 만들려고 한다. 먼저, 게임판의 중앙에서 만들기를 시작하고, 나선 형태로 진행한다.  \n",
    "  \n",
    "- 새로운 타일은 이미 채워진 인접한 타일에 들어있는 자원과 다른 자원이어야 한다.\n",
    "- 가능한 자원이 여러 가지인 경우에는, 보드에 가장 적게 나타난 자원을 선택한다.\n",
    "- 그러한 경우도 여러 가지라면, 번호가 작은 것을 선택한다.  \n",
    "  \n",
    "아래 그림은 어떻게 나선 형태로 진행하는지와, 어떤 자원을 선택하는지를 나타낸 그림이다. n번째로 채우는 타일에 어떤 자원을 선택하는지 고르는 프로그램을 작성하시오. (n은 1부터 시작한다)\n",
    "  \n",
    "![](https://www.acmicpc.net/upload/images/settler.png)  \n",
    "  \n",
    "### 입력  \n",
    "첫째 줄에 테스트 케이스의 개수 c (1 ≤ c ≤ 200)가 주어진다. 각 테스트 케이스는 한 줄로 이루어져 있으며, 정수 n이 주어진다. (1 ≤ n ≤ 10000)  \n",
    "  \n",
    "### 출력  \n",
    "\n",
    "n번째 타일에 들어있는 자원을 출력한다.  "
   ]
  },
  {
   "cell_type": "code",
   "execution_count": 1,
   "metadata": {},
   "outputs": [
    {
     "name": "stdout",
     "output_type": "stream",
     "text": [
      "4\n",
      "Input\n",
      "1\n",
      "4\n",
      "10\n",
      "100\n",
      "\n",
      "Output\n",
      "1\n",
      "4\n",
      "5\n",
      "5\n"
     ]
    }
   ],
   "source": [
    "def check_around(inp_num, blocks, vals, y, x, idx): # 현재 위치에서의 인접한 칸을 확인해서 넣을 값 정한다\n",
    "    direction = [(-2,0), (-1,-1), (1,-1), (2,0), (1,1), (-1,1)]\n",
    "    # 인접한 6방향\n",
    "    val_list = list(range(1, 6)) # 현재 위치의 칸에 넣을 수 있는 값\n",
    "    min_val = idx # 여태껏 나온 값 중에 가장 적게 나온 값의 개수\n",
    "    answer = 0\n",
    "    for add_y, add_x in direction: # 인접한 블록에 대해서\n",
    "        if (y+add_y, x+add_x) in blocks: # 만약 이미 탐색한 블록이 인접해있다면\n",
    "            val = vals[blocks.index((y+add_y, x+add_x))]\n",
    "            if val in val_list: # 탐색한 블록의 값을 현재 블록에 넣지 못하도록 지운다.\n",
    "                val_list.remove(val)\n",
    "    for v in val_list:\n",
    "        if min_val > inp_num[v-1]: # 그리고 보드 상에 나온 횟수 오름차순, 깂의 크기 오름차순으로 값을 찾는다.\n",
    "            min_val = inp_num[v-1]\n",
    "            answer = v\n",
    "    inp_num[answer-1] += 1 # 해당하는 값에 대한 보드 상에 나온 횟수 1 증가\n",
    "    blocks.append((y,x)) # 그리고 현재 블록을 탐색했음을 체크\n",
    "    vals.append(answer) # 현재 블록의 값을 저장\n",
    "    return\n",
    "\n",
    "def simulation(n_list,inp_num, max_n): # 카틴의 개척자 시뮬레이션\n",
    "    move = 0 \n",
    "    idx = 0 # 현재 탐색중인 블록 인덱스\n",
    "    y, x = 0, 0 # 현재 블록의 위치\n",
    "    blocks = [(0,0)] # 탐색한 블록의 (y,x) 좌표를 저장할 것임\n",
    "    vals = [1] # blocks의 좌표에 대해서 해당하는 블록의 값을 저장할 것임.\n",
    "    inp_num[0] += 1 # 1이란 값이 블록내에 한번 쓰임.\n",
    "    direction = [(-2,0), (-1,-1), (1,-1), (2,0), (1,1), (-1,1)]\n",
    "    # 블록의 이동방향 ↑, ↖, ↙, ↓, ↘, ↗ (나선형태순으로 진행)\n",
    "    while idx <= max_n:\n",
    "        move += 1 # 방향마다의 이동횟수\n",
    "        y += -1 # 한바퀴를 돌때 마다의 움직임\n",
    "        x += 1\n",
    "        idx += 1\n",
    "        check_around(inp_num, blocks, vals, y, x, idx)\n",
    "        for i in range(len(direction)): # move횟수만큼 블록을 이동방향에 대해서 이동시키면서 블록의 값을 넣어준다.\n",
    "            add_y, add_x = direction[i]\n",
    "            for _ in range(move-1):\n",
    "                y += add_y\n",
    "                x += add_x\n",
    "                idx += 1\n",
    "                check_around(inp_num, blocks, vals, y, x, idx)\n",
    "            if i != 0:\n",
    "                y += add_y\n",
    "                x += add_x\n",
    "                idx += 1\n",
    "                check_around(inp_num, blocks, vals, y, x, idx)\n",
    "    # 찾아야하는 모든 값을 찾은 후에   \n",
    "    for n in n_list: # 입력받은 n에 대해서\n",
    "        print(vals[n-1]) # n번째 블록의 값을 모두 출력\n",
    "    return \n",
    "\n",
    "T = int(input()) # 테스트케이스 개수\n",
    "n_list = []\n",
    "tile_list = []\n",
    "inp_num = [0 for _ in range(5)] # 1 ~5까지 블록내에서 각각 저장된 값의 개수\n",
    "max_n = 0 # 입력받은 n중에 가장 큰 수\n",
    "print(\"Input\")\n",
    "for _ in range(T):\n",
    "    n = int(input())\n",
    "    max_n = max(max_n, n)\n",
    "    n_list.append(n) # 입력받은 n을 저장해둠.\n",
    "print(\"\\nOutput\")\n",
    "simulation(n_list,inp_num, max_n) # 시뮬레이션 진행 및 답 출력\n"
   ]
  }
 ],
 "metadata": {
  "kernelspec": {
   "display_name": "Python 3",
   "language": "python",
   "name": "python3"
  },
  "language_info": {
   "codemirror_mode": {
    "name": "ipython",
    "version": 3
   },
   "file_extension": ".py",
   "mimetype": "text/x-python",
   "name": "python",
   "nbconvert_exporter": "python",
   "pygments_lexer": "ipython3",
   "version": "3.6.9"
  }
 },
 "nbformat": 4,
 "nbformat_minor": 2
}
