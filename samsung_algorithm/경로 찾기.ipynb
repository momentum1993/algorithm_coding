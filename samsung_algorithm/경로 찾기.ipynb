{
 "cells": [
  {
   "cell_type": "markdown",
   "metadata": {},
   "source": [
    "# 경로 찾기"
   ]
  },
  {
   "cell_type": "markdown",
   "metadata": {},
   "source": [
    "[baekjoon의 '경로 찾기' 링크](https://www.acmicpc.net/problem/11403)"
   ]
  },
  {
   "cell_type": "markdown",
   "metadata": {},
   "source": [
    "### 문제   \n",
    "가중치 없는 방향 그래프 G가 주어졌을 때, 모든 정점 (i, j)에 대해서, i에서 j로 가는 경로가 있는지 없는지 구하는 프로그램을 작성하시오.  \n",
    "  \n",
    "### 입력  \n",
    "첫째 줄에 정점의 개수 N (1 ≤ N ≤ 100)이 주어진다. 둘째 줄부터 N개 줄에는 그래프의 인접 행렬이 주어진다. i번째 줄의 j번째 숫자가 1인 경우에는 i에서 j로 가는 간선이 존재한다는 뜻이고, 0인 경우는 없다는 뜻이다. i번째 줄의 i번째 숫자는 항상 0이다.  \n",
    "  \n",
    "### 출력  \n",
    "총 N개의 줄에 걸쳐서 문제의 정답을 인접행렬 형식으로 출력한다. 정점 i에서 j로 가는 경로가 있으면 i번째 줄의 j번째 숫자를 1로, 없으면 0으로 출력해야 한다.  "
   ]
  },
  {
   "cell_type": "code",
   "execution_count": 1,
   "metadata": {
    "scrolled": true
   },
   "outputs": [
    {
     "name": "stdout",
     "output_type": "stream",
     "text": [
      "Testcase Num: 2\n",
      "\n",
      "\n",
      "Input\n",
      "3\n",
      "0 1 0\n",
      "0 0 1\n",
      "1 0 0\n",
      "\n",
      "Output\n",
      "1 1 1 \n",
      "1 1 1 \n",
      "1 1 1 \n",
      "\n",
      "Input\n",
      "7\n",
      "0 0 0 1 0 0 0\n",
      "0 0 0 0 0 0 1\n",
      "0 0 0 0 0 0 0\n",
      "0 0 0 0 1 1 0\n",
      "1 0 0 0 0 0 0\n",
      "0 0 0 0 0 0 1\n",
      "0 0 1 0 0 0 0\n",
      "\n",
      "Output\n",
      "1 0 1 1 1 1 1 \n",
      "0 0 1 0 0 0 1 \n",
      "0 0 0 0 0 0 0 \n",
      "1 0 1 1 1 1 1 \n",
      "1 0 1 1 1 1 1 \n",
      "0 0 1 0 0 0 1 \n",
      "0 0 1 0 0 0 0 \n"
     ]
    }
   ],
   "source": [
    "def simulation(N, adjacent, checked, start, target):\n",
    "    if adjacent[start][target] == 1: # start와 target이 연결되어있다면\n",
    "        return 1 # 1 반환\n",
    "    for next_idx in range(N):\n",
    "        if checked[start][next_idx]: # 이미 확인한 경로는 제외하고\n",
    "            continue\n",
    "        checked[start][next_idx] = True\n",
    "        if adjacent[start][next_idx] == 1 and simulation(N, adjacent, checked, next_idx, target) == 1:\n",
    "        # 만약 인접한 경로를 통해서 target에 도달할 수 있을 때\n",
    "            adjacent[start][target] = 1\n",
    "            return 1 # 1 반환\n",
    "    return 0 # 연결되어 있지 않다면 0 반환\n",
    "    \n",
    "\n",
    "T = int(input(\"Testcase Num: \")) # 테스트케이스 개수\n",
    "print()\n",
    "for _ in range(T):\n",
    "    print(\"\\nInput\")\n",
    "    N = int(input()) # 노드 개수\n",
    "    adjacent = [] # 인접행렬\n",
    "    for y in range(N):\n",
    "        adjacent.append(list(int(x) for x in input().split()))\n",
    "        \n",
    "    print(\"\\nOutput\")\n",
    "    for y in range(N):\n",
    "        for x in range(N):\n",
    "            checked = [[False for _ in range(N)] for _ in range(N)]\n",
    "            print(simulation(N, adjacent, checked, y, x), end=\" \")\n",
    "            # 모든 좌표에 대해서 연결되어있는지 확인\n",
    "        print()\n",
    "        "
   ]
  }
 ],
 "metadata": {
  "kernelspec": {
   "display_name": "Python 3",
   "language": "python",
   "name": "python3"
  },
  "language_info": {
   "codemirror_mode": {
    "name": "ipython",
    "version": 3
   },
   "file_extension": ".py",
   "mimetype": "text/x-python",
   "name": "python",
   "nbconvert_exporter": "python",
   "pygments_lexer": "ipython3",
   "version": "3.6.9"
  }
 },
 "nbformat": 4,
 "nbformat_minor": 2
}
