{
 "cells": [
  {
   "cell_type": "markdown",
   "metadata": {},
   "source": [
    "# 배열 돌리기 4"
   ]
  },
  {
   "cell_type": "markdown",
   "metadata": {},
   "source": [
    "[baekjoon의 '배열 돌리기 4' 링크](https://www.acmicpc.net/problem/17406)"
   ]
  },
  {
   "cell_type": "markdown",
   "metadata": {},
   "source": [
    "### 문제  \n",
    "크기가 N×M 크기인 배열 A가 있을때, 배열 A의 값은 각 행에 있는 모든 수의 합 중 최솟값을 의미한다. 배열 A가 아래와 같은 경우 1행의 합은 6, 2행의 합은 4, 3행의 합은 15이다. 따라서, 배열 A의 값은 4이다.  \n",
    "  \n",
    "~~~\n",
    "1 2 3\n",
    "2 1 1\n",
    "4 5 6\n",
    "~~~  \n",
    "  \n",
    "배열은 회전 연산을 수행할 수 있다. 회전 연산은 세 정수 (r, c, s)로 이루어져 있고, 가장 왼쪽 윗 칸이 (r-s, c-s), 가장 오른쪽 아랫 칸이 (r+s, c+s)인 정사각형을 시계 방향으로 한 칸씩 돌린다는 의미이다. 배열의 칸 (r, c)는 r행 c열을 의미한다.  \n",
    "  \n",
    "예를 들어, 배열 A의 크기가 6×6이고, 회전 연산이 (3, 4, 2)인 경우에는 아래 그림과 같이 회전하게 된다.  \n",
    "  \n",
    "~~~\n",
    "A[1][1]   A[1][2] → A[1][3] → A[1][4] → A[1][5] → A[1][6]\n",
    "             ↑                                         ↓\n",
    "A[2][1]   A[2][2]    A[2][3] → A[2][4] → A[2][5]    A[2][6]\n",
    "             ↑         ↑                    ↓        ↓\n",
    "A[3][1]   A[3][2]    A[3][3]    A[3][4]    A[3][5]    A[3][6]\n",
    "             ↑         ↑                    ↓        ↓\n",
    "A[4][1]   A[4][2]    A[4][3] ← A[4][4] ← A[4][5]    A[4][6]\n",
    "             ↑                                         ↓\n",
    "A[5][1]   A[5][2] ← A[5][3] ← A[5][4] ← A[5][5] ← A[5][6]\n",
    "\n",
    "A[6][1]   A[6][2]    A[6][3]    A[6][4]    A[6][5]    A[6][6]\n",
    "~~~\n",
    "  \n",
    "회전 연산이 두 개 이상이면, 연산을 수행한 순서에 따라 최종 배열이 다르다.  \n",
    "  \n",
    "다음은 배열 A의 크기가 5×6이고, 회전 연산이 (3, 4, 2), (4, 2, 1)인 경우의 예시이다.  \n",
    "  \n",
    "||||\n",
    "|:---:|:---:|:---:|\n",
    "|1 2 3 2 5 6<br>3 8 7 2 1 3<br>8 2 3 1 4 5<br>3 4 5 1 1 1<br>9 3 2 1 4 3|1 **8 2 3 2 5**<br>3 **2 3 7 2 6**<br>8 **4 5 1 1 3**<br>3 **3 1 1 4 5**<br>9 **2 1 4 3 1**|1 8 2 3 2 5<br>3 2 3 7 2 6<br>**3 8 4** 1 1 3<br>**9 3 5** 1 4 5<br>**2 1 1** 4 3 1|\n",
    "|배열 A|\t(3, 4, 2) 연산 수행 후|\t(4, 2, 1) 연산 수행 후|\n",
    "|1 2 3 2 5 6<br>3 8 7 2 1 3<br>8 2 3 1 4 5<br>3 4 5 1 1 1<br>9 3 2 1 4 3|1 2 3 2 5 6<br>3 8 7 2 1 3<br>**3 8 2** 1 4 5<br>**9 4 3** 1 1 1<br>**3 2 5** 1 4 3|1 **8 2 3 2 5**<br>3 **8 2 7 2 6**<br>3 **4 3 1 1 3**<br>9 **2 1 1 4 5**<br>3 **5 1 4 3 1**|\n",
    "|배열 A|\t(4, 2, 1) 연산 수행 후|\t(3, 4, 2) 연산 수행 후|  \n",
    "  \n",
    "배열 A에 (3, 4, 2), (4, 2, 1) 순서로 연산을 수행하면 배열 A의 값은 12, (4, 2, 1), (3, 4, 2) 순서로 연산을 수행하면 15 이다.  \n",
    "  \n",
    "배열 A와 사용 가능한 회전 연산이 주어졌을 때, 배열 A의 값의 최솟값을 구해보자. 회전 연산은 모두 한 번씩 사용해야 하며, 순서는 임의로 정해도 된다.  \n",
    "  \n",
    "### 입력\n",
    "첫째 줄에 배열 A의 크기 N, M, 회전 연산의 개수 K가 주어진다.  \n",
    "  \n",
    "둘째 줄부터 N개의 줄에 배열 A에 들어있는 수 A[i][j]가 주어지고, 다음 K개의 줄에 회전 연산의 정보 r, c, s가 주어진다.  \n",
    "  \n",
    "### 출력  \n",
    "배열 A의 값의 최솟값을 출력한다.  \n",
    "  \n",
    "### 제한  \n",
    "- 3 ≤ N, M ≤ 50\n",
    "- 1 ≤ K ≤ 6\n",
    "- 1 ≤ A[i][j] ≤ 100\n",
    "- 1 ≤ s\n",
    "- 1 ≤ r-s < r < r+s ≤ N\n",
    "- 1 ≤ c-s < c < c+s ≤ M  \n",
    "  "
   ]
  },
  {
   "cell_type": "code",
   "execution_count": 1,
   "metadata": {},
   "outputs": [
    {
     "name": "stdout",
     "output_type": "stream",
     "text": [
      "Input\n",
      "5 6 2\n",
      "1 2 3 2 5 6\n",
      "3 8 7 2 1 3\n",
      "8 2 3 1 4 5\n",
      "3 4 5 1 1 1\n",
      "9 3 2 1 4 3\n",
      "3 4 2\n",
      "4 2 1\n",
      "\n",
      "Output\n",
      "12\n"
     ]
    }
   ],
   "source": [
    "import math\n",
    "\n",
    "def rotate_matrix(N, M, board, info): # 행렬을 회전시키는 함수\n",
    "    r, c, s = info\n",
    "    if s == 0: # 만약 s가 0이라면 회전 시행 중지\n",
    "        return\n",
    "    next_val = board[r-s-1][c-s-1]\n",
    "    for x in range(c-s, c+s): # 행렬의 회전시켜야하는 최상단 행을 회전시킨다\n",
    "        temp = board[r-s-1][x]\n",
    "        board[r-s-1][x] = next_val\n",
    "        next_val = temp\n",
    "    for y in range(r-s, r+s): # 행렬의 회전시켜야하는 최우측 열을 회전시킨다\n",
    "        temp = board[y][c+s-1]\n",
    "        board[y][c+s-1] = next_val\n",
    "        next_val = temp\n",
    "    for x in range(c+s-2, c-s-2, -1): # 행렬의 회전시켜야하는 최하단 행을 회전시킨다\n",
    "        temp = board[r+s-1][x]\n",
    "        board[r+s-1][x] = next_val\n",
    "        next_val = temp\n",
    "    for y in range(r+s-2, r-s-2, -1): # 행렬의 회전시켜야하는 최좌측 열을 회전시킨다.\n",
    "        temp = board[y][c-s-1]\n",
    "        board[y][c-s-1] = next_val\n",
    "        next_val = temp\n",
    "    rotate_matrix(N, M, board, (r, c, s-1)) # 그리고 회전시킨 부분을 제외한 안쪽 행렬의 회전을 재귀적으로 시행\n",
    "    return\n",
    "        \n",
    "\n",
    "def get_matrix_value(N, M, board, rotate_info): # 행렬 회전 후 해당 행렬의 값을 구하는 함수\n",
    "    for info in rotate_info: # 모든 회전 정보에 대해서\n",
    "        rotate_matrix(N, M, board, info) # 행렬 회전 시행\n",
    "    answer = math.inf\n",
    "    for y in range(N): # 모든 행에 대해서\n",
    "        row_val = sum(board[y])\n",
    "        answer = min(answer, row_val) # 행을 합한 값 중 최솟값이 답이 된다.\n",
    "    return answer # 답 반환\n",
    "\n",
    "\n",
    "print(\"Input\")\n",
    "N, M, K = map(int, input().split()) # 행렬의 행, 행렬의 열, 회전 시행 개수\n",
    "board = [] # 행렬\n",
    "for _ in range(N):\n",
    "    board.append(list(map(int, input().split())))\n",
    "rotate_info = []\n",
    "for _ in range(K):\n",
    "    rotate_info.append(tuple(map(int, input().split())))\n",
    "print(\"\\nOutput\")\n",
    "print(get_matrix_value(N, M, board, rotate_info)) # 답 출력"
   ]
  }
 ],
 "metadata": {
  "kernelspec": {
   "display_name": "Python 3",
   "language": "python",
   "name": "python3"
  },
  "language_info": {
   "codemirror_mode": {
    "name": "ipython",
    "version": 3
   },
   "file_extension": ".py",
   "mimetype": "text/x-python",
   "name": "python",
   "nbconvert_exporter": "python",
   "pygments_lexer": "ipython3",
   "version": "3.6.9"
  }
 },
 "nbformat": 4,
 "nbformat_minor": 2
}
