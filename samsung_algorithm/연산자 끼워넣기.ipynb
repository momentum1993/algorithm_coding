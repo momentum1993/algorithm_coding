{
 "cells": [
  {
   "cell_type": "markdown",
   "metadata": {},
   "source": [
    "# 연산자 끼워넣기"
   ]
  },
  {
   "cell_type": "markdown",
   "metadata": {},
   "source": [
    "[baekjoon의 '연산자 끼워넣기' 링크](https://www.acmicpc.net/problem/14888)"
   ]
  },
  {
   "cell_type": "markdown",
   "metadata": {},
   "source": [
    "### 문제\n",
    "N개의 수로 이루어진 수열 $A_1, A_2, ..., A_N$이 주어진다. 또, 수와 수 사이에 끼워넣을 수 있는 N-1개의 연산자가 주어진다. 연산자는 덧셈(+), 뺄셈(-), 곱셈(×), 나눗셈(÷)으로만 이루어져 있다.  \n",
    "  \n",
    "우리는 수와 수 사이에 연산자를 하나씩 넣어서, 수식을 하나 만들 수 있다. 이때, 주어진 수의 순서를 바꾸면 안 된다.  \n",
    "  \n",
    "예를 들어, 6개의 수로 이루어진 수열이 1, 2, 3, 4, 5, 6이고, 주어진 연산자가 덧셈(+) 2개, 뺄셈(-) 1개, 곱셈(×) 1개, 나눗셈(÷) 1개인 경우에는 총 60가지의 식을 만들 수 있다. 예를 들어, 아래와 같은 식을 만들 수 있다.  \n",
    "  \n",
    "- 1+2+3-4×5÷6  \n",
    "- 1÷2+3+4-5×6  \n",
    "- 1+2÷3×4-5+6  \n",
    "- 1÷2×3-4+5+6  \n",
    "  \n",
    "식의 계산은 연산자 우선 순위를 무시하고 앞에서부터 진행해야 한다. 또, 나눗셈은 정수 나눗셈으로 몫만 취한다. 음수를 양수로 나눌 때는 C++14의 기준을 따른다. 즉, 양수로 바꾼 뒤 몫을 취하고, 그 몫을 음수로 바꾼 것과 같다. 이에 따라서, 위의 식 4개의 결과를 계산해보면 아래와 같다.  \n",
    "  \n",
    "- 1+2+3-4×5÷6 = 1  \n",
    "- 1÷2+3+4-5×6 = 12  \n",
    "- 1+2÷3×4-5+6 = 5  \n",
    "- 1÷2×3-4+5+6 = 7  \n",
    "  \n",
    "N개의 수와 N-1개의 연산자가 주어졌을 때, 만들 수 있는 식의 결과가 최대인 것과 최소인 것을 구하는 프로그램을 작성하시오.  \n",
    "\n",
    "### 입력  \n",
    "첫째 줄에 수의 개수 N(2 ≤ N ≤ 11)가 주어진다. 둘째 줄에는 $A_1, A_2, ..., A_N$이 주어진다. (1 ≤ $A_i$ ≤ 100) 셋째 줄에는 합이 N-1인 4개의 정수가 주어지는데, 차례대로 덧셈(+)의 개수, 뺄셈(-)의 개수, 곱셈(×)의 개수, 나눗셈(÷)의 개수이다.  \n",
    "  \n",
    "### 출력  \n",
    "첫째 줄에 만들 수 있는 식의 결과의 최댓값을, 둘째 줄에는 최솟값을 출력한다. 최댓값과 최솟값이 항상 -10억보다 크거나 같고, 10억보다 작거나 같은 결과가 나오는 입력만 주어진다. 또한, 앞에서부터 계산했을 때, 중간에 계산되는 식의 결과도 항상 -10억보다 크거나 같고, 10억보다 작거나 같다.  "
   ]
  },
  {
   "cell_type": "code",
   "execution_count": 1,
   "metadata": {},
   "outputs": [],
   "source": [
    "min_val = 1000000000 # 최대값\n",
    "max_val = -1000000000 # 최소값\n",
    "\n",
    "def cal_min_max(N, A, operator, val, idx = 1):\n",
    "    global min_val\n",
    "    global max_val\n",
    "    \n",
    "    if idx == N: # 만약 모든 수열을 계산했을 경우\n",
    "        min_val = min(min_val, val)\n",
    "        max_val = max(max_val, val)\n",
    "        # 해당 값과 현재의 최대. 최소를 비교해서 갱신\n",
    "        return\n",
    "    \n",
    "    for i in range(len(operator)): # 모든 연산자에 대해서\n",
    "        if operator[i] != 0: # 쓸 수 있는 연산자라면\n",
    "            operator[i] -= 1 # 쓸 수 있는 연산자의 개수 1 감소\n",
    "            if i == 0: # 덧셈\n",
    "                cal_min_max(N, A, operator, val+A[idx], idx+1)\n",
    "            elif i == 1: # 뺄셈\n",
    "                cal_min_max(N, A, operator, val-A[idx], idx+1)\n",
    "            elif i == 2: # 곱셈\n",
    "                cal_min_max(N, A, operator, val*A[idx], idx+1)\n",
    "            elif i == 3: # 나눗셈\n",
    "                if val < 0:\n",
    "                    val = -(-val // A[idx])\n",
    "                else:\n",
    "                    val //= A[idx]\n",
    "                cal_min_max(N, A, operator, val, idx+1)\n",
    "            operator[i] += 1 # 가용 연산자 개수 복구\n",
    "    return\n",
    "    \n",
    "def solution(N, A, operator):\n",
    "    global min_val\n",
    "    global max_val\n",
    "    A = [int(x) for x in A.split()]\n",
    "    operator = [int(x) for x in operator.split()]\n",
    "    cal_min_max(N, A, operator, A[0])\n",
    "    return max_val, min_val"
   ]
  },
  {
   "cell_type": "code",
   "execution_count": 2,
   "metadata": {},
   "outputs": [],
   "source": [
    "N = 2\n",
    "A = '5 6'\n",
    "operator = '0 0 1 0'"
   ]
  },
  {
   "cell_type": "code",
   "execution_count": 3,
   "metadata": {},
   "outputs": [
    {
     "data": {
      "text/plain": [
       "(30, 30)"
      ]
     },
     "execution_count": 3,
     "metadata": {},
     "output_type": "execute_result"
    }
   ],
   "source": [
    "solution(N, A, operator)"
   ]
  },
  {
   "cell_type": "code",
   "execution_count": 4,
   "metadata": {},
   "outputs": [],
   "source": [
    "N = 3\n",
    "A = '3 4 5'\n",
    "operator = '1 0 1 0'"
   ]
  },
  {
   "cell_type": "code",
   "execution_count": 5,
   "metadata": {},
   "outputs": [
    {
     "data": {
      "text/plain": [
       "(35, 17)"
      ]
     },
     "execution_count": 5,
     "metadata": {},
     "output_type": "execute_result"
    }
   ],
   "source": [
    "solution(N, A, operator)"
   ]
  },
  {
   "cell_type": "code",
   "execution_count": 6,
   "metadata": {},
   "outputs": [],
   "source": [
    "N = 6\n",
    "A = '1 2 3 4 5 6'\n",
    "operator = '2 1 1 1'"
   ]
  },
  {
   "cell_type": "code",
   "execution_count": 7,
   "metadata": {},
   "outputs": [
    {
     "data": {
      "text/plain": [
       "(54, -24)"
      ]
     },
     "execution_count": 7,
     "metadata": {},
     "output_type": "execute_result"
    }
   ],
   "source": [
    "solution(N, A, operator)"
   ]
  }
 ],
 "metadata": {
  "kernelspec": {
   "display_name": "Python 3",
   "language": "python",
   "name": "python3"
  },
  "language_info": {
   "codemirror_mode": {
    "name": "ipython",
    "version": 3
   },
   "file_extension": ".py",
   "mimetype": "text/x-python",
   "name": "python",
   "nbconvert_exporter": "python",
   "pygments_lexer": "ipython3",
   "version": "3.6.9"
  }
 },
 "nbformat": 4,
 "nbformat_minor": 2
}
