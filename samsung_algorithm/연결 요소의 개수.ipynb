{
 "cells": [
  {
   "cell_type": "markdown",
   "metadata": {},
   "source": [
    "# 연결 요소의 개수"
   ]
  },
  {
   "cell_type": "markdown",
   "metadata": {},
   "source": [
    "[baekjoon의 '연결 요소의 개수' 링크](https://www.acmicpc.net/problem/11724)"
   ]
  },
  {
   "cell_type": "markdown",
   "metadata": {},
   "source": [
    "### 문제   \n",
    "방향 없는 그래프가 주어졌을 때, 연결 요소 (Connected Component)의 개수를 구하는 프로그램을 작성하시오.  \n",
    "   \n",
    "### 입력  \n",
    "첫째 줄에 정점의 개수 N과 간선의 개수 M이 주어진다. (1 ≤ N ≤ 1,000, 0 ≤ M ≤ N×(N-1)/2) 둘째 줄부터 M개의 줄에 간선의 양 끝점 u와 v가 주어진다. (1 ≤ u, v ≤ N, u ≠ v) 같은 간선은 한 번만 주어진다.  \n",
    "  \n",
    "### 출력  \n",
    "첫째 줄에 연결 요소의 개수를 출력한다.  "
   ]
  },
  {
   "cell_type": "code",
   "execution_count": 1,
   "metadata": {},
   "outputs": [
    {
     "name": "stdout",
     "output_type": "stream",
     "text": [
      "Testcase num: 2\n",
      "\n",
      "\n",
      "Input\n",
      "6 5\n",
      "1 2\n",
      "2 5\n",
      "5 1\n",
      "3 4\n",
      "4 6\n",
      "\n",
      "Output\n",
      "2\n",
      "\n",
      "Input\n",
      "6 8\n",
      "1 2\n",
      "2 5\n",
      "5 1\n",
      "3 4\n",
      "4 6\n",
      "5 4\n",
      "2 4\n",
      "2 3\n",
      "\n",
      "Output\n",
      "1\n"
     ]
    }
   ],
   "source": [
    "from queue import Queue\n",
    "\n",
    "def find_component(N, adjacent): # 연결 요소의 개수를 찾는 함수\n",
    "    answer = 0 # 답\n",
    "    checked = [False for _ in range(N)] # 해당 노드를 검사했는지 여부\n",
    "    while True:\n",
    "        q = Queue() # 큐\n",
    "        \n",
    "        done = True\n",
    "        for i in range(N):\n",
    "            if not checked[i]: # 아직 탐색하지 않은 노드를 기준으로 삼는다.\n",
    "                q.put(i)\n",
    "                done = False\n",
    "                break\n",
    "        if done:\n",
    "            break\n",
    "                \n",
    "        while not q.empty():\n",
    "            a = q.get() # 큐 안에 있는 노드를 pop\n",
    "            checked[a] = True\n",
    "            for b in range(N): # a와 연결된 노드를 큐에 push\n",
    "                if a == b:\n",
    "                    continue\n",
    "                if adjacent[a][b] and not checked[b]:\n",
    "                    q.put(b)\n",
    "        answer += 1 # 기준 노드와 연결된 노드를 모두 찾았을 경우 연결 요소의 개수 1 증가\n",
    "    return answer # 답 출력\n",
    "        \n",
    "T = int(input(\"Testcase num: \")) # 테스트 케이스 개수\n",
    "print(\"\")\n",
    "for _ in range(T):\n",
    "    print(\"\\nInput\")\n",
    "    N, M = tuple(int(x) for x in input().split()) # 정점 개수, 간선 개수\n",
    "    adjacent = [[0 for _ in range(N)] for _ in range(N)] # 인접 행렬\n",
    "    for _ in range(M):\n",
    "        a, b = tuple(int(x) for x in input().split()) # 양 끝점 a, b\n",
    "        adjacent[a-1][b-1] = 1 \n",
    "        adjacent[b-1][a-1] = 1\n",
    "        # a와 b가 연결되어있음을 표시\n",
    "    print(\"\\nOutput\")\n",
    "    print(find_component(N, adjacent)) # 답 출력"
   ]
  },
  {
   "cell_type": "code",
   "execution_count": null,
   "metadata": {},
   "outputs": [],
   "source": [
    "6 5\n",
    "1 2\n",
    "2 5\n",
    "5 1\n",
    "3 4\n",
    "4 6"
   ]
  },
  {
   "cell_type": "code",
   "execution_count": null,
   "metadata": {},
   "outputs": [],
   "source": [
    "6 8\n",
    "1 2\n",
    "2 5\n",
    "5 1\n",
    "3 4\n",
    "4 6\n",
    "5 4\n",
    "2 4\n",
    "2 3"
   ]
  }
 ],
 "metadata": {
  "kernelspec": {
   "display_name": "Python 3",
   "language": "python",
   "name": "python3"
  },
  "language_info": {
   "codemirror_mode": {
    "name": "ipython",
    "version": 3
   },
   "file_extension": ".py",
   "mimetype": "text/x-python",
   "name": "python",
   "nbconvert_exporter": "python",
   "pygments_lexer": "ipython3",
   "version": "3.6.9"
  }
 },
 "nbformat": 4,
 "nbformat_minor": 2
}
