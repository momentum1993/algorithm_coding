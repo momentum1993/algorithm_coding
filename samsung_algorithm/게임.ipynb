{
 "cells": [
  {
   "cell_type": "markdown",
   "metadata": {},
   "source": [
    "# 게임"
   ]
  },
  {
   "cell_type": "markdown",
   "metadata": {},
   "source": [
    "[baekjoon의 '게임' 링크](https://www.acmicpc.net/problem/1103)"
   ]
  },
  {
   "cell_type": "markdown",
   "metadata": {},
   "source": [
    "### 문제\n",
    "형택이는 1부터 9까지의 숫자와, 구멍이 있는 직사각형 보드에서 재밌는 게임을 한다.  \n",
    "  \n",
    "일단 보드의 가장 왼쪽 위에 동전을 하나 올려놓는다. 그다음에 다음과 같이 동전을 움직인다.  \n",
    "  \n",
    "1. 동전이 있는 곳에 쓰여 있는 숫자 X를 본다.  \n",
    "2. 위, 아래, 왼쪽, 오른쪽 방향 중에 한가지를 고른다.  \n",
    "3. 동전을 위에서 고른 방향으로 X만큼 움직인다. 이때, 중간에 있는 구멍은 무시한다.  \n",
    "  \n",
    "만약 동전이 구멍에 빠지거나, 보드의 바깥으로 나간다면 게임은 종료된다. 형택이는 이 재밌는 게임을 되도록이면 오래 하고 싶다.  \n",
    "  \n",
    "보드의 상태가 주어졌을 때, 형택이가 최대 몇 번 동전을 움직일 수 있는지 구하는 프로그램을 작성하시오.  \n",
    "  \n",
    "### 입력  \n",
    "줄에 보드의 세로 크기 N과 가로 크기 M이 주어진다. 이 값은 모두 50보다 작거나 같은 자연수이다. 둘째 줄부터 N개의 줄에 보드의 상태가 주어진다. 쓰여 있는 숫자는 1부터 9까지의 자연수 또는 H이다. 가장 왼쪽 위칸은 H가 아니다. H는 구멍이다.  \n",
    "  \n",
    "### 출력  \n",
    "첫째 줄에 문제의 정답을 출력한다. 만약 형택이가 동전을 무한번 움직일 수 있다면 -1을 출력한다.  \n",
    "  "
   ]
  },
  {
   "cell_type": "code",
   "execution_count": 3,
   "metadata": {},
   "outputs": [
    {
     "name": "stdout",
     "output_type": "stream",
     "text": [
      "3 7\n",
      "3942178\n",
      "1234567\n",
      "9123532\n",
      "5\n"
     ]
    }
   ],
   "source": [
    "def simulation(N, M, board, board_checked, y=0, x=0): # 게임 시뮬레이션 함수\n",
    "    if board[y][x] == 'H': # 구멍에 빠졌다면 0 반환\n",
    "        return 0\n",
    "    direction = [(-1, 0), (1, 0), (0, -1), (0, 1)] # 상, 하, 좌, 우\n",
    "    moves = int(board[y][x]) # 움직이는 횟수\n",
    "    answer = 0 # 답\n",
    "    for add_y, add_x in direction: # 4방향에 대해서\n",
    "        if 0 <= (add_y * moves) + y < N and 0 <= (add_x * moves) + x < M:\n",
    "        # 해당 방향으로 이동 할 수 있을 때\n",
    "            if board_checked[(add_y * moves) + y][(add_x * moves) + x]:\n",
    "            # 이미 도달 했던 곳이라면 cycle이 생겨서 무한번 움직일 수 있으므로 -1 반환\n",
    "                return -1\n",
    "            board_checked[(add_y * moves) + y][(add_x * moves) + x] = True\n",
    "            # 해당하는 공간으로 이동했음을 체크\n",
    "            temp_answer = simulation(N, M, board, board_checked, y+(add_y * moves), x+(add_x * moves))\n",
    "            # 재귀적으로 이동 시뮬레이션 계속 진행한다.\n",
    "            if temp_answer == -1: # 만약 무한번 움직일 수 있을 때 -1 반환\n",
    "                return temp_answer\n",
    "            board_checked[(add_y * moves) + y][(add_x * moves) + x] = False\n",
    "        else: # 해당 방향으로 이동할 수 없을 때\n",
    "            temp_answer = 0 # 현재 턴에서 게임이 끝난다.\n",
    "        answer = max(answer, 1+temp_answer) # 움직일 수 있는 최대횟수\n",
    "    return answer # 답 반환\n",
    "    \n",
    "N, M = tuple(int(x) for x in input().split()) # 행, 열\n",
    "board = [] # 보드\n",
    "for _ in range(N):\n",
    "    board.append(list(input())) # 보드 세팅\n",
    "board_checked = [[False for _ in range(M)] for _ in range(N)]\n",
    "# 형택이의 동전이 지나간 칸을 체크\n",
    "board_checked[0][0] = True # (0,0)은 처음 동전의 위치이므로 동전이 지나갔음을 체크\n",
    "print(simulation(N, M, board, board_checked)) # 시뮬레이션 결과 출력\n"
   ]
  }
 ],
 "metadata": {
  "kernelspec": {
   "display_name": "Python 3",
   "language": "python",
   "name": "python3"
  },
  "language_info": {
   "codemirror_mode": {
    "name": "ipython",
    "version": 3
   },
   "file_extension": ".py",
   "mimetype": "text/x-python",
   "name": "python",
   "nbconvert_exporter": "python",
   "pygments_lexer": "ipython3",
   "version": "3.6.9"
  }
 },
 "nbformat": 4,
 "nbformat_minor": 2
}
