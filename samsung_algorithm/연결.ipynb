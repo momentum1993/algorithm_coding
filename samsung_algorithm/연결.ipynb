{
 "cells": [
  {
   "cell_type": "markdown",
   "metadata": {},
   "source": [
    "# 연결"
   ]
  },
  {
   "cell_type": "markdown",
   "metadata": {},
   "source": [
    "[baekjoon의 '연결' 링크](https://www.acmicpc.net/problem/5022)"
   ]
  },
  {
   "cell_type": "markdown",
   "metadata": {},
   "source": [
    "### 문제   \n",
    "전기 회로에서 두 점을 전선으로 이을 때, 길이는 짧을 수록 좋다.  \n",
    "  \n",
    "![](https://www.acmicpc.net/upload/images/connect.png)  \n",
    "  \n",
    "크기가 N×M인 비어있는 회로판에서 두 점 A1과 A2, 그리고 B1와 B2를 전선을 이용해서 이으려고 한다. 전선은 항상 그리드의 수직, 수평선 위에 있어야 한다. 또, 두 직선은 접하면 안 된다. 이 경우에 필요한 전선의 길이의 최솟값을 구하는 프로그램을 작성하시오. 전선은 회로판 바깥으로 나갈 수 없다.  \n",
    "  \n",
    "### 입력  \n",
    "첫째 줄에 회로판의 크기 N과 M이 주어진다. (2 ≤ N, M ≤ 100)  \n",
    "  \n",
    "다음 네 줄에는 A1, A2, B1, B2의 좌표가 주어진다. 점의 좌표는 두 정수의 쌍으로 이루어져 있고, 첫 번째 좌표는 0 이상 N 이하이며 두 번째 좌표는 0 이상 M 이하이다. 어떤 점도 같은 위치에 있지 않다.  \n",
    "  \n",
    "### 출력  \n",
    "A1과 A2, 그리고 B1과 B2를 연결하는데 필요한 전선의 길이의 최솟값을 출력한다. 만약, 불가능한 경우에는 \"IMPOSSIBLE\"을 출력한다.  "
   ]
  },
  {
   "cell_type": "code",
   "execution_count": 1,
   "metadata": {},
   "outputs": [
    {
     "name": "stdout",
     "output_type": "stream",
     "text": [
      "6 6\n",
      "2 1\n",
      "5 4\n",
      "4 0\n",
      "4 5\n",
      "15\n"
     ]
    }
   ],
   "source": [
    "from queue import PriorityQueue\n",
    "\n",
    "def simulation_B(N, M, c, visit, B_y, B_x, B2_y, B2_x): # 두 번째 전선\n",
    "    direction = [(0, 1), (1, 0), (0, -1), (-1, 0)] # 네 방향\n",
    "    q = PriorityQueue() # 우선순위 큐\n",
    "    q.put((0, B_y, B_x, visit + [(B_y, B_x)]))\n",
    "    # 두 번째 전선에 대한 현재 상태 정보를 큐에 push\n",
    "    while not q.empty():\n",
    "        count, now_y, now_x, visited = q.get()\n",
    "         # (두 번째 전선의 현재 길이, 현재 y, 현재 x, 탐색한 위치들)을 큐에서 pop\n",
    "        if now_y == B2_y and now_x == B2_x:\n",
    "            return count\n",
    "        # 만약 두 번째 전선의 최소 길이를 구했다면 반환 \n",
    "        for add_y, add_x in direction:\n",
    "            if 0 <= add_y+now_y < N and 0 <= add_x+now_x < M and (not (add_y+now_y, add_x+now_x) in visited):\n",
    "                q.put((count+1, add_y+now_y, add_x+now_x, visited + [(add_y+now_y, add_x+now_x)]))\n",
    "    return N*M+1\n",
    "\n",
    "def simulation_A(N, M, A_y, A_x, A2_y, A2_x, B_y, B_x, B2_y, B2_x): # 첫 번째 전선\n",
    "    direction = [(0, 1), (1, 0), (0, -1), (-1, 0)]\n",
    "    min_A = N*M+1 # 첫번째 전선의 최소 길이\n",
    "    q = PriorityQueue() # 우선순위 큐\n",
    "    answer = N*M+1 # 답\n",
    "    q.put((0, A_y, A_x, [(A_y, A_x)]))\n",
    "    # (첫번째 전선의 현재 길이, 현재 y, 현재 x, 탐색한 위치들)을 큐에 push \n",
    "    while not q.empty():\n",
    "        count, now_y, now_x, visited = q.get() # (첫번째 전선의 현재 길이, 현재 y, 현재 x, 탐색한 위치들)\n",
    "        if count > min_A: # 만약 최소 길이의 전선들을 모두 탐색했다면 탐색을 멈춘다.  \n",
    "            continue\n",
    "        if now_y == A2_y and now_x == A2_x: # 첫번째 전선이 성립이 되었다면\n",
    "            answer = min(answer, count + simulation_B(N, M, count, visited, B_y, B_x, B2_y, B2_x))\n",
    "            # 첫 번째 전선과 접하지 않는 최소 길이의 두 번째 전선을 탐색한다.\n",
    "            # 그리고 전선 길이의 최소 합을 구한다.\n",
    "            min_A = min(min_A, count)\n",
    "            # 첫번째 전선의 최소 길이 갱신\n",
    "            continue\n",
    "        for add_y, add_x in direction: # 네 방향에 대해서\n",
    "            if 0 <= add_y+now_y < N and 0 <= add_x+now_x < M and (not (add_y+now_y, add_x+now_x) in visited):\n",
    "                if (add_y+now_y, add_x+now_x) in [(B_y, B_x),(B2_y, B2_x)]:\n",
    "                    continue\n",
    "            # 두번째 전선의 시작점, 끝점을 제외한 뒤 첫번째 전선을 늘릴 수 있는 위치일 경우\n",
    "                q.put((count+1, add_y+now_y, add_x+now_x, visited+[(add_y+now_y, add_x+now_x)]))\n",
    "                # 전선의 길이를 늘리고, 전선의 정보를 다시 큐에 push\n",
    "    return answer # 답 반환\n",
    "        \n",
    "\n",
    "N, M = tuple(int(x)+1 for x in input().split()) # 행, 열\n",
    "A1_y, A1_x = tuple(int(x) for x in input().split()) # A1의 좌표\n",
    "A2_y, A2_x = tuple(int(x) for x in input().split()) # A2의 좌표\n",
    "B1_y, B1_x = tuple(int(x) for x in input().split()) # B1의 좌표\n",
    "B2_y, B2_x = tuple(int(x) for x in input().split()) # B2의 좌표\n",
    "answer = N*M+1 # 답\n",
    "answer = min(answer, simulation_A(N, M, A1_y, A1_x, A2_y, A2_x, B1_y, B1_x, B2_y, B2_x))\n",
    "# 직선A -> 직선B 순으로 최소 경로의 합\n",
    "answer = min(answer, simulation_A(N, M, B1_y, B1_x, B2_y, B2_x, A1_y, A1_x, A2_y, A2_x))\n",
    "# 직선B -> 직선A 순으로 최소 경로의 합\n",
    "if answer == N*M+1: # 답이 없다면\n",
    "    print(\"IMPOSSIBLE\") # \"IMPOSSIBLE\" 출력\n",
    "else: # 답이 있다면\n",
    "    print(answer) # 답 출력"
   ]
  }
 ],
 "metadata": {
  "kernelspec": {
   "display_name": "Python 3",
   "language": "python",
   "name": "python3"
  },
  "language_info": {
   "codemirror_mode": {
    "name": "ipython",
    "version": 3
   },
   "file_extension": ".py",
   "mimetype": "text/x-python",
   "name": "python",
   "nbconvert_exporter": "python",
   "pygments_lexer": "ipython3",
   "version": "3.6.9"
  }
 },
 "nbformat": 4,
 "nbformat_minor": 2
}
