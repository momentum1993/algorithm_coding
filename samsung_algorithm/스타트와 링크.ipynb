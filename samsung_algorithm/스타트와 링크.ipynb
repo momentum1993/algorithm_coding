{
 "cells": [
  {
   "cell_type": "markdown",
   "metadata": {},
   "source": [
    "# 스타트와 링크"
   ]
  },
  {
   "cell_type": "markdown",
   "metadata": {},
   "source": [
    "[baekjoon의 '스타트와 링크' 링크](https://www.acmicpc.net/problem/14889)"
   ]
  },
  {
   "cell_type": "markdown",
   "metadata": {},
   "source": [
    "### 문제\n",
    "오늘은 스타트링크에 다니는 사람들이 모여서 축구를 해보려고 한다. 축구는 평일 오후에 하고 의무 참석도 아니다. 축구를 하기 위해 모인 사람은 총 N명이고 신기하게도 N은 짝수이다. 이제 N/2명으로 이루어진 스타트 팀과 링크 팀으로 사람들을 나눠야 한다.  \n",
    "  \n",
    "BOJ를 운영하는 회사 답게 사람에게 번호를 1부터 N까지로 배정했고, 아래와 같은 능력치를 조사했다. 능력치 Sij는 i번 사람과 j번 사람이 같은 팀에 속했을 때, 팀에 더해지는 능력치이다. 팀의 능력치는 팀에 속한 모든 쌍의 능력치 Sij의 합이다. Sij는 Sji와 다를 수도 있으며, i번 사람과 j번 사람이 같은 팀에 속했을 때, 팀에 더해지는 능력치는 Sij와 Sji이다.  \n",
    "  \n",
    "N=4이고, S가 아래와 같은 경우를 살펴보자.  \n",
    "  \n",
    "  \n",
    "|i\\j|1|2|3|4|\n",
    "|:---:|:---:|:---:|:---:|:---:|\n",
    "|**1**|1|2|3|\n",
    "|**2**|4| |5|6|\n",
    "|**3**|7|1| |2|\n",
    "|**4**|3|4|5| |  \n",
    "  \n",
    "예를 들어, 1, 2번이 스타트 팀, 3, 4번이 링크 팀에 속한 경우에 두 팀의 능력치는 아래와 같다.  \n",
    "  \n",
    "- 스타트 팀: S12 + S21 = 1 + 4 = 5  \n",
    "- 링크 팀: S34 + S43 = 2 + 5 = 7  \n",
    "  \n",
    "1, 3번이 스타트 팀, 2, 4번이 링크 팀에 속하면, 두 팀의 능력치는 아래와 같다.  \n",
    "  \n",
    "- 스타트 팀: S13 + S31 = 2 + 7 = 9  \n",
    "- 링크 팀: S24 + S42 = 6 + 4 = 10  \n",
    "  \n",
    "축구를 재미있게 하기 위해서 스타트 팀의 능력치와 링크 팀의 능력치의 차이를 최소로 하려고 한다. 위의 예제와 같은 경우에는 1, 4번이 스타트 팀, 2, 3번 팀이 링크 팀에 속하면 스타트 팀의 능력치는 6, 링크 팀의 능력치는 6이 되어서 차이가 0이 되고 이 값이 최소이다.  \n",
    "  \n",
    "### 입력\n",
    "첫째 줄에 N(4 ≤ N ≤ 20, N은 짝수)이 주어진다. 둘째 줄부터 N개의 줄에 S가 주어진다. 각 줄은 N개의 수로 이루어져 있고, i번 줄의 j번째 수는 Sij 이다. Sii는 항상 0이고, 나머지 Sij는 1보다 크거나 같고, 100보다 작거나 같은 정수이다.  \n",
    "  \n",
    "### 출력  \n",
    "첫째 줄에 스타트 팀과 링크 팀의 능력치의 차이의 최솟값을 출력한다.  "
   ]
  },
  {
   "cell_type": "code",
   "execution_count": 1,
   "metadata": {},
   "outputs": [],
   "source": [
    "def cal_difference(profits, team_lineup): # 차이 계산\n",
    "    answer = 0 \n",
    "    team_A = [] # start팀\n",
    "    team_B = [] # link팀\n",
    "    for i in range(len(team_lineup)):\n",
    "        if team_lineup[i] == 0: # team start\n",
    "            for j in team_A:\n",
    "                answer += profits[i][j] + profits[j][i] \n",
    "                # 추가되는 팀원에 대한 능력치 계산\n",
    "            team_A.append(i)\n",
    "        elif team_lineup[i] == 1: # team link\n",
    "            for j in team_B:\n",
    "                answer -= profits[i][j] + profits[j][i]\n",
    "                # 추가되는 팀원에 대한 능력치 계산\n",
    "            team_B.append(i)\n",
    "    return abs(answer) # 차이를 절댓값으로 반환\n",
    "\n",
    "def cal_least(N, profits, team_lineup, team_A = True):\n",
    "    answer = (99 * (N/2)) +1\n",
    "    if not (-1 in team_lineup): # 모든 팀 구성이 끝났을 때\n",
    "        return cal_difference(profits, team_lineup) # 능력치 차이 계산 값 반환\n",
    "    \n",
    "    for i in range(len(team_lineup)): # 모든 팀원에 대해서\n",
    "        if team_lineup[i] != -1: # 이미 팀구성이 된 팀원은 넘어간다.\n",
    "            continue\n",
    "        \n",
    "        if team_A: # 만약 start팀이 팀원을 뽑을 차례라면\n",
    "            team_lineup[i] = 0\n",
    "            answer = min(answer, cal_least(N, profits, team_lineup, not team_A))\n",
    "            team_lineup[i] = -1\n",
    "        else: # 만약 link팀이 팀원을 뽑을 차례라면\n",
    "            team_lineup[i] = 1\n",
    "            answer = min(answer, cal_least(N, profits, team_lineup, not team_A))\n",
    "            team_lineup[i] = -1\n",
    "        # 각 차이의 최소값\n",
    "    return answer\n",
    "\n",
    "def solution(N, profits):\n",
    "    profits = [[int(x) for x in x.split()] for x in profits.split(\"\\n\")]\n",
    "    team_lineup = [-1 for _ in range(N)]\n",
    "    return cal_least(N, profits, team_lineup)"
   ]
  },
  {
   "cell_type": "code",
   "execution_count": 2,
   "metadata": {},
   "outputs": [],
   "source": [
    "N = 4\n",
    "profits = '''0 1 2 3\n",
    "4 0 5 6\n",
    "7 1 0 2\n",
    "3 4 5 0'''"
   ]
  },
  {
   "cell_type": "code",
   "execution_count": 3,
   "metadata": {},
   "outputs": [
    {
     "data": {
      "text/plain": [
       "0"
      ]
     },
     "execution_count": 3,
     "metadata": {},
     "output_type": "execute_result"
    }
   ],
   "source": [
    "solution(N, profits)"
   ]
  },
  {
   "cell_type": "code",
   "execution_count": 4,
   "metadata": {},
   "outputs": [],
   "source": [
    "N = 6\n",
    "profits = '''0 1 2 3 4 5\n",
    "1 0 2 3 4 5\n",
    "1 2 0 3 4 5\n",
    "1 2 3 0 4 5\n",
    "1 2 3 4 0 5\n",
    "1 2 3 4 5 0'''"
   ]
  },
  {
   "cell_type": "code",
   "execution_count": 5,
   "metadata": {},
   "outputs": [
    {
     "data": {
      "text/plain": [
       "2"
      ]
     },
     "execution_count": 5,
     "metadata": {},
     "output_type": "execute_result"
    }
   ],
   "source": [
    "solution(N, profits)"
   ]
  },
  {
   "cell_type": "code",
   "execution_count": 6,
   "metadata": {},
   "outputs": [],
   "source": [
    "N = 8\n",
    "profits = '''0 5 4 5 4 5 4 5\n",
    "4 0 5 1 2 3 4 5\n",
    "9 8 0 1 2 3 1 2\n",
    "9 9 9 0 9 9 9 9\n",
    "1 1 1 1 0 1 1 1\n",
    "8 7 6 5 4 0 3 2\n",
    "9 1 9 1 9 1 0 9\n",
    "6 5 4 3 2 1 9 0'''"
   ]
  },
  {
   "cell_type": "code",
   "execution_count": 7,
   "metadata": {},
   "outputs": [
    {
     "data": {
      "text/plain": [
       "1"
      ]
     },
     "execution_count": 7,
     "metadata": {},
     "output_type": "execute_result"
    }
   ],
   "source": [
    "solution(N, profits)"
   ]
  }
 ],
 "metadata": {
  "kernelspec": {
   "display_name": "Python 3",
   "language": "python",
   "name": "python3"
  },
  "language_info": {
   "codemirror_mode": {
    "name": "ipython",
    "version": 3
   },
   "file_extension": ".py",
   "mimetype": "text/x-python",
   "name": "python",
   "nbconvert_exporter": "python",
   "pygments_lexer": "ipython3",
   "version": "3.6.9"
  }
 },
 "nbformat": 4,
 "nbformat_minor": 2
}
