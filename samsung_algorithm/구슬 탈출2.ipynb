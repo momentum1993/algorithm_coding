{
 "cells": [
  {
   "cell_type": "markdown",
   "metadata": {},
   "source": [
    "# 구슬 탈출2"
   ]
  },
  {
   "cell_type": "markdown",
   "metadata": {},
   "source": [
    "[baekjoon의 '구슬 탈출2' 링크](https://www.acmicpc.net/problem/13460)"
   ]
  },
  {
   "cell_type": "markdown",
   "metadata": {},
   "source": [
    "### 문제  \n",
    "스타트링크에서 판매하는 어린이용 장난감 중에서 가장 인기가 많은 제품은 구슬 탈출이다. 구슬 탈출은 직사각형 보드에 빨간 구슬과 파란 구슬을 하나씩 넣은 다음, 빨간 구슬을 구멍을 통해 빼내는 게임이다.\n",
    "\n",
    "보드의 세로 크기는 N, 가로 크기는 M이고, 편의상 1×1크기의 칸으로 나누어져 있다. 가장 바깥 행과 열은 모두 막혀져 있고, 보드에는 구멍이 하나 있다. 빨간 구슬과 파란 구슬의 크기는 보드에서 1×1크기의 칸을 가득 채우는 사이즈이고, 각각 하나씩 들어가 있다. 게임의 목표는 빨간 구슬을 구멍을 통해서 빼내는 것이다. 이때, 파란 구슬이 구멍에 들어가면 안 된다.\n",
    "\n",
    "이때, 구슬을 손으로 건드릴 수는 없고, 중력을 이용해서 이리 저리 굴려야 한다. 왼쪽으로 기울이기, 오른쪽으로 기울이기, 위쪽으로 기울이기, 아래쪽으로 기울이기와 같은 네 가지 동작이 가능하다.\n",
    "\n",
    "각각의 동작에서 공은 동시에 움직인다. 빨간 구슬이 구멍에 빠지면 성공이지만, 파란 구슬이 구멍에 빠지면 실패이다. 빨간 구슬과 파란 구슬이 동시에 구멍에 빠져도 실패이다. 빨간 구슬과 파란 구슬은 동시에 같은 칸에 있을 수 없다. 또, 빨간 구슬과 파란 구슬의 크기는 한 칸을 모두 차지한다. 기울이는 동작을 그만하는 것은 더 이상 구슬이 움직이지 않을 때 까지이다.\n",
    "\n",
    "보드의 상태가 주어졌을 때, 최소 몇 번 만에 빨간 구슬을 구멍을 통해 빼낼 수 있는지 구하는 프로그램을 작성하시오.\n",
    "\n",
    "### 입력\n",
    "첫 번째 줄에는 보드의 세로, 가로 크기를 의미하는 두 정수 N, M (3 ≤ N, M ≤ 10)이 주어진다. 다음 N개의 줄에 보드의 모양을 나타내는 길이 M의 문자열이 주어진다. 이 문자열은 '.', '#', 'O', 'R', 'B' 로 이루어져 있다. '.'은 빈 칸을 의미하고, '#'은 공이 이동할 수 없는 장애물 또는 벽을 의미하며, 'O'는 구멍의 위치를 의미한다. 'R'은 빨간 구슬의 위치, 'B'는 파란 구슬의 위치이다.\n",
    "\n",
    "입력되는 모든 보드의 가장자리에는 모두 '#'이 있다. 구멍의 개수는 한 개 이며, 빨간 구슬과 파란 구슬은 항상 1개가 주어진다.\n",
    "\n",
    "### 출력\n",
    "최소 몇 번 만에 빨간 구슬을 구멍을 통해 빼낼 수 있는지 출력한다. 만약, 10번 이하로 움직여서 빨간 구슬을 구멍을 통해 빼낼 수 없으면 -1을 출력한다."
   ]
  },
  {
   "cell_type": "code",
   "execution_count": 1,
   "metadata": {},
   "outputs": [],
   "source": [
    "from queue import Queue\n",
    "\n",
    "direction = [(-1, 0),(1, 0),(0, -1),(0, 1)] # 상. 하. 좌. 우\n",
    "\n",
    "def cal_min_move(board, n, m, red, blue, dest, q):\n",
    "    answer = 0\n",
    "    global direction\n",
    "    q.put((0,red,blue)) # 처음에 (움직인횟수, 빨간구슬좌표, 파란구슬좌표)를 큐에 넣는다.\n",
    "    \n",
    "    while not q.empty(): # 너비 우선 탐색\n",
    "        answer, red, blue = q.get() # 큐에서 pop\n",
    "        if red == dest: # 빨간 구슬 도착  \n",
    "            break\n",
    "        if answer > 10: # 10회 이상 시도 실패 시\n",
    "            answer = -1 # -1을 반환\n",
    "            break\n",
    "        for add_y, add_x in direction: # 상하좌우 방향에 대해\n",
    "            r_y, r_x = red # 빨간구슬위치\n",
    "            b_y, b_x = blue # 파란구슬위치\n",
    "            if board[r_y + add_y][r_x + add_x] == board[b_y + add_y][b_x + add_x] == '#':\n",
    "                # 둘 다 움직이지 못하는 방향은 바로 무시\n",
    "                continue\n",
    "            if add_y == 0: # 좌우간의 움직임\n",
    "                r_mul = b_mul = 0\n",
    "                while board[r_y][r_x + (add_x*(r_mul+1))] != '#' and board[r_y][r_x + (add_x*(r_mul))] != 'O':\n",
    "                    r_mul += 1\n",
    "                while board[b_y][b_x + (add_x*(b_mul+1))] != '#' and board[b_y][b_x + (add_x*(b_mul))] != 'O':\n",
    "                    b_mul += 1\n",
    "                # 빨간 구슬과 파란 구슬이 구멍에 들어가거나 벽을 만날 때까지 움직임\n",
    "                if abs(r_x - b_x) == 1 and r_y == b_y:\n",
    "                    # 만약 빨간구슬과 파란구슬이 옆으로 붙어 있을 때\n",
    "                    if board[b_y][b_x + (add_x*(b_mul))] == 'O':\n",
    "                        # 두 구슬이 동시에 구멍에 들어가면 실패\n",
    "                        continue\n",
    "                    if r_mul > b_mul:\n",
    "                        r_mul -= 1\n",
    "                    else:\n",
    "                        b_mul -= 1\n",
    "                    # 위치에 따라 구슬들을 배치\n",
    "                r_x += (add_x*(r_mul))\n",
    "                b_x += (add_x*(b_mul))\n",
    "            else: # add_x == 0 # 상하간의 움직임\n",
    "                r_mul = b_mul = 0\n",
    "                while board[r_y + (add_y*(r_mul+1))][r_x] != '#' and board[r_y + (add_y*(r_mul))][r_x] != 'O':\n",
    "                    r_mul += 1\n",
    "                while board[b_y + (add_y*(b_mul+1))][b_x] != '#' and board[b_y + (add_y*(b_mul))][b_x] != 'O':\n",
    "                    b_mul += 1\n",
    "                # 빨간 구슬과 파란 구슬이 구멍에 들어가거나 벽을 만날 때까지 움직임\n",
    "                if r_x == b_x and abs(r_y - b_y) == 1:\n",
    "                    # 만약 빨간구슬과 파란구슬이 위아래로 붙어 있을 때\n",
    "                    if board[b_y + (add_y*(b_mul))][b_x] == 'O':\n",
    "                        # 두 구슬이 동시에 구멍에 들어가면 실패\n",
    "                        continue\n",
    "                    if r_mul > b_mul:\n",
    "                        r_mul -= 1\n",
    "                    else:\n",
    "                        b_mul -= 1\n",
    "                    # 위치에 따라 구슬들을 배치\n",
    "                r_y += (add_y*(r_mul))\n",
    "                b_y += (add_y*(b_mul))    \n",
    "            q.put((answer+1,(r_y, r_x),(b_y, b_x)))\n",
    "    return answer\n",
    "\n",
    "def solution(N, M, board):\n",
    "    board = board.replace('\\n', '')\n",
    "    board_now = [[None for _ in range(M)] for _ in range(N)]\n",
    "    red = blue = dest = None\n",
    "    for n in range(N):\n",
    "        for m in range(M):\n",
    "            board_now[n][m] = board[(n*M)+m]\n",
    "            if board_now[n][m] == 'R':\n",
    "                red = (n, m) # 빨간 구슬\n",
    "                board_now[n][m] = '.'\n",
    "            elif board_now[n][m] == 'B':\n",
    "                blue = (n, m) # 파란 구슬\n",
    "                board_now[n][m] = '.'\n",
    "            elif board_now[n][m] == 'O':\n",
    "                dest = (n, m) # 구멍\n",
    "    q = Queue() # 큐를 통해 너비우선탐색\n",
    "    return cal_min_move(board_now, n, m, red, blue, dest, q)\n",
    "    "
   ]
  },
  {
   "cell_type": "code",
   "execution_count": 2,
   "metadata": {},
   "outputs": [],
   "source": [
    "N, M = 5, 5\n",
    "board = '''#####\n",
    "#..B#\n",
    "#.#.#\n",
    "#RO.#\n",
    "#####'''"
   ]
  },
  {
   "cell_type": "code",
   "execution_count": 3,
   "metadata": {},
   "outputs": [
    {
     "data": {
      "text/plain": [
       "1"
      ]
     },
     "execution_count": 3,
     "metadata": {},
     "output_type": "execute_result"
    }
   ],
   "source": [
    "solution(N, M, board)"
   ]
  },
  {
   "cell_type": "code",
   "execution_count": 4,
   "metadata": {},
   "outputs": [],
   "source": [
    "N, M = 7, 7\n",
    "board = '''#######\n",
    "#...RB#\n",
    "#.#####\n",
    "#.....#\n",
    "#####.#\n",
    "#O....#\n",
    "#######'''"
   ]
  },
  {
   "cell_type": "code",
   "execution_count": 5,
   "metadata": {},
   "outputs": [
    {
     "data": {
      "text/plain": [
       "5"
      ]
     },
     "execution_count": 5,
     "metadata": {},
     "output_type": "execute_result"
    }
   ],
   "source": [
    "solution(N, M, board)"
   ]
  },
  {
   "cell_type": "code",
   "execution_count": 6,
   "metadata": {},
   "outputs": [],
   "source": [
    "N, M = 7, 7\n",
    "board = '''#######\n",
    "#..R#B#\n",
    "#.#####\n",
    "#.....#\n",
    "#####.#\n",
    "#O....#\n",
    "#######'''"
   ]
  },
  {
   "cell_type": "code",
   "execution_count": 7,
   "metadata": {},
   "outputs": [
    {
     "data": {
      "text/plain": [
       "5"
      ]
     },
     "execution_count": 7,
     "metadata": {},
     "output_type": "execute_result"
    }
   ],
   "source": [
    "solution(N, M, board)"
   ]
  },
  {
   "cell_type": "code",
   "execution_count": 8,
   "metadata": {},
   "outputs": [],
   "source": [
    "N, M = 10, 10\n",
    "board = '''##########\n",
    "#R#...##B#\n",
    "#...#.##.#\n",
    "#####.##.#\n",
    "#......#.#\n",
    "#.######.#\n",
    "#.#....#.#\n",
    "#.#.#.#..#\n",
    "#...#.O#.#\n",
    "##########'''"
   ]
  },
  {
   "cell_type": "code",
   "execution_count": 9,
   "metadata": {},
   "outputs": [
    {
     "data": {
      "text/plain": [
       "-1"
      ]
     },
     "execution_count": 9,
     "metadata": {},
     "output_type": "execute_result"
    }
   ],
   "source": [
    "solution(N, M, board)"
   ]
  },
  {
   "cell_type": "code",
   "execution_count": 10,
   "metadata": {},
   "outputs": [],
   "source": [
    "N, M = 3, 7\n",
    "board = '''#######\n",
    "#R.O.B#\n",
    "#######'''"
   ]
  },
  {
   "cell_type": "code",
   "execution_count": 11,
   "metadata": {},
   "outputs": [
    {
     "data": {
      "text/plain": [
       "1"
      ]
     },
     "execution_count": 11,
     "metadata": {},
     "output_type": "execute_result"
    }
   ],
   "source": [
    "solution(N, M, board)"
   ]
  },
  {
   "cell_type": "code",
   "execution_count": 12,
   "metadata": {},
   "outputs": [],
   "source": [
    "N, M = 10, 10\n",
    "board = '''##########\n",
    "#R#...##B#\n",
    "#...#.##.#\n",
    "#####.##.#\n",
    "#......#.#\n",
    "#.######.#\n",
    "#.#....#.#\n",
    "#.#.##...#\n",
    "#O..#....#\n",
    "##########'''"
   ]
  },
  {
   "cell_type": "code",
   "execution_count": 13,
   "metadata": {},
   "outputs": [
    {
     "data": {
      "text/plain": [
       "7"
      ]
     },
     "execution_count": 13,
     "metadata": {},
     "output_type": "execute_result"
    }
   ],
   "source": [
    "solution(N, M, board)"
   ]
  },
  {
   "cell_type": "code",
   "execution_count": 14,
   "metadata": {},
   "outputs": [],
   "source": [
    "N, M = 3, 10\n",
    "board = '''##########\n",
    "#.O....RB#\n",
    "##########'''"
   ]
  },
  {
   "cell_type": "code",
   "execution_count": 15,
   "metadata": {},
   "outputs": [
    {
     "data": {
      "text/plain": [
       "-1"
      ]
     },
     "execution_count": 15,
     "metadata": {},
     "output_type": "execute_result"
    }
   ],
   "source": [
    "solution(N, M, board)"
   ]
  }
 ],
 "metadata": {
  "kernelspec": {
   "display_name": "Python 3",
   "language": "python",
   "name": "python3"
  },
  "language_info": {
   "codemirror_mode": {
    "name": "ipython",
    "version": 3
   },
   "file_extension": ".py",
   "mimetype": "text/x-python",
   "name": "python",
   "nbconvert_exporter": "python",
   "pygments_lexer": "ipython3",
   "version": "3.6.9"
  }
 },
 "nbformat": 4,
 "nbformat_minor": 2
}
