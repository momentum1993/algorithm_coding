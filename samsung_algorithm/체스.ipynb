{
 "cells": [
  {
   "cell_type": "markdown",
   "metadata": {},
   "source": [
    "# 체스"
   ]
  },
  {
   "cell_type": "markdown",
   "metadata": {},
   "source": [
    "[baekjoon의 '체스' 링크](https://www.acmicpc.net/problem/1986)"
   ]
  },
  {
   "cell_type": "markdown",
   "metadata": {},
   "source": [
    "### 문제   \n",
    "n\\*m 크기의 체스 판과, 상대팀의 Queen, Knight, Pawn의 위치가 주어져 있을 때, 안전한 칸이 몇 칸인지 세는 프로그램을 작성하시오. (안전한 칸이란 말은 그 곳에 자신의 말이 있어도 잡힐 가능성이 없다는 것이다.)  \n",
    "  \n",
    "참고로 Queen은 가로, 세로, 대각선으로 갈 수 있는 만큼 최대한 많이 이동을 할 수 있는데 만약 그 중간에 장애물이 있다면 이동을 할 수 없다. 그리고 Knight는 2\\*3 직사각형을 그렸을 때, 반대쪽 꼭짓점으로 이동을 할 수 있다. 아래 그림과 같은 8칸이 이에 해당한다.  \n",
    "  \n",
    "![](https://www.acmicpc.net/JudgeOnline/upload/201007/asdf.png)  \n",
    "  \n",
    "이때 Knight는 중간에 장애물이 있더라도 이동을 할 수 있다. 그리고 Pawn은 상대팀의 말은 잡을 수 없다고 하자(즉, 장애물의 역할만 한다는 것이다).  \n",
    "  \n",
    "예를 들어 다음과 같이 말이 배치가 되어 있다면 진하게 표시된 부분이 안전한 칸이 될 것이다. (K : Knight, Q : Queen, P : Pawn)  \n",
    "  \n",
    "![](https://www.acmicpc.net/JudgeOnline/upload/201007/qazwqszx.png)  \n",
    "  \n",
    "### 입력  \n",
    "첫째 줄에는 체스 판의 크기 n과 m이 주어진다. (1<=n, m<=1000) 그리고 둘째 줄에는 Queen의 개수와 그 개수만큼의 Queen의 위치가 입력된다. 그리고 마찬가지로 셋째 줄에는\n",
    "Knight의 개수와 위치, 넷째 줄에는 Pawn의 개수와 위치가 입력된다. (즉 둘째 줄~ 넷째 줄은  k,r1,c1,r2,c2,...,rk,ck 이 빈칸을 사이에 두고 주어진다는 것이다. 여기서 ri는 i번째 말의 행 위치, ci는 i번째 말의 열 위치를 의미한다.) 한 칸에는 하나의 말만 놓인다고 가정한다. Knight, Queen, Pawn의 개수는 각각 100을 넘지 않는다.  \n",
    "  \n",
    "### 출력  \n",
    "첫째 줄에 n\\*m 체스판에 안전한 칸이 몇 칸인지 출력하시오.  "
   ]
  },
  {
   "cell_type": "code",
   "execution_count": 1,
   "metadata": {},
   "outputs": [
    {
     "name": "stdout",
     "output_type": "stream",
     "text": [
      "4 4\n",
      "2 1 4 2 4\n",
      "1 1 2\n",
      "1 2 3\n",
      "6\n"
     ]
    }
   ],
   "source": [
    "n, m = tuple(int(x) for x in input().split()) # 행, 열\n",
    "board = [['' for _ in range(m)] for _ in range(n)] # 보드\n",
    "answer = n*m # 답\n",
    "# 일단 먼저 모든 칸을 안전하다고 한 다음, 이동을 해가면서 안전하지 않은 칸을 줄여준다.\n",
    "qkp_list = [] # Queen, Knight, Pawn의 리스트\n",
    "\n",
    "q_move = [(1, 0), (1, 1), (0, 1), (-1, 1), (-1, 0), (-1, -1), (0, -1), (1, -1)] # Queen의 움직임\n",
    "k_move = [(1, 2), (-1, 2), (1, -2), (-1, -2), (2, 1), (-2, 1), (2, -1), (-2, -1)] # Knight의 움직임\n",
    "\n",
    "for i in range(3):\n",
    "    # i == 0 : Queen 입력\n",
    "    # i == 1 : Knight 입력\n",
    "    # i == 2 : Pawn 입력\n",
    "    inp_list = [int(x) for x in input().split()]\n",
    "    answer -= inp_list[0]\n",
    "    for j in range(1, len(inp_list), 2):\n",
    "        y, x = inp_list[j]-1, inp_list[j+1]-1\n",
    "        qkp_list.append((y, x)) # qkp_list에 체스의 위치를 넣는다.\n",
    "        if i == 0:\n",
    "            board[y][x] = 'Q'\n",
    "        elif i == 1:\n",
    "            board[y][x] = 'K'\n",
    "        elif i == 2:\n",
    "            board[y][x] = 'P'\n",
    "        # 보드에 Queen, Knight, Pawn의 위치에 각각 표시\n",
    "\n",
    "for y, x in qkp_list: # qkp_list의 모든 좌표에 대해서\n",
    "    if board[y][x] == 'Q': # Queen\n",
    "        for add_y, add_x in q_move: # 상하좌우 및 대각선을 포함하는 모든 방향에 대해서\n",
    "            for mul in range(1, max(n, m)+1): # 1칸씩 이동거리를 늘려가면서 확인\n",
    "                curr_y = (mul*add_y) + y\n",
    "                curr_x = (mul*add_x) + x\n",
    "                if not (0 <= curr_y < n and 0 <= curr_x < m) or board[curr_y][curr_x] in ['Q','K','P']:\n",
    "                # 장애물이 있거나 보드를 벗어나면 다른 방향으로 탐색\n",
    "                    break\n",
    "                if board[curr_y][curr_x] != 'C': \n",
    "                    board[curr_y][curr_x] = 'C'\n",
    "                    answer -= 1\n",
    "                    # 아직 체크 되지 않은 부분은 안전하지 않다고 체크하고 답을 1개 줄여준다.\n",
    "    elif board[y][x] == 'K': # Knight\n",
    "        for add_y, add_x in k_move: # Knight의 모든 움직임에 대해서\n",
    "            curr_y = add_y + y\n",
    "            curr_x = add_x + x\n",
    "            if not (0 <= curr_y < n and 0 <= curr_x < m) or board[curr_y][curr_x] in ['Q','K','P','C']:\n",
    "                continue\n",
    "            # 보드의 범위를 벗어나거나 이동할 위치에 장애물이 있다면 다른 방향으로 탐색\n",
    "            board[curr_y][curr_x] = 'C'\n",
    "            # 해당 위치에 않전하지 않다고 표시\n",
    "            answer -= 1\n",
    "            # 답을 1개 줄여줌\n",
    "print(answer) # 답 출력"
   ]
  }
 ],
 "metadata": {
  "kernelspec": {
   "display_name": "Python 3",
   "language": "python",
   "name": "python3"
  },
  "language_info": {
   "codemirror_mode": {
    "name": "ipython",
    "version": 3
   },
   "file_extension": ".py",
   "mimetype": "text/x-python",
   "name": "python",
   "nbconvert_exporter": "python",
   "pygments_lexer": "ipython3",
   "version": "3.6.9"
  }
 },
 "nbformat": 4,
 "nbformat_minor": 2
}
