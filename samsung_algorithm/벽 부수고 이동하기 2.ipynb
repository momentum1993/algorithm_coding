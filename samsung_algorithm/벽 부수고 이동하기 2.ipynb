{
 "cells": [
  {
   "cell_type": "markdown",
   "metadata": {},
   "source": [
    "# 벽 부수고 이동하기 2 "
   ]
  },
  {
   "cell_type": "markdown",
   "metadata": {},
   "source": [
    "[baekjoon의 '벽 부수고 이동하기 2' 링크](https://www.acmicpc.net/problem/14442)"
   ]
  },
  {
   "cell_type": "markdown",
   "metadata": {},
   "source": [
    "### 문제   \n",
    "N×M의 행렬로 표현되는 맵이 있다. 맵에서 0은 이동할 수 있는 곳을 나타내고, 1은 이동할 수 없는 벽이 있는 곳을 나타낸다. 당신은 (1, 1)에서 (N, M)의 위치까지 이동하려 하는데, 이때 최단 경로로 이동하려 한다. 최단경로는 맵에서 가장 적은 개수의 칸을 지나는 경로를 말하는데, 이때 시작하는 칸과 끝나는 칸도 포함해서 센다.  \n",
    "  \n",
    "만약에 이동하는 도중에 벽을 부수고 이동하는 것이 좀 더 경로가 짧아진다면, 벽을 K개 까지 부수고 이동하여도 된다.  \n",
    "  \n",
    "맵이 주어졌을 때, 최단 경로를 구해 내는 프로그램을 작성하시오.  \n",
    "  \n",
    "### 입력  \n",
    "첫째 줄에 N(1 ≤ N ≤ 1,000), M(1 ≤ M ≤ 1,000), K(1 ≤ K ≤ 10)이 주어진다. 다음 N개의 줄에 M개의 숫자로 맵이 주어진다. (1, 1)과 (N, M)은 항상 0이라고 가정하자.  \n",
    "  \n",
    "### 출력  \n",
    "첫째 줄에 최단 거리를 출력한다. 불가능할 때는 -1을 출력한다.  "
   ]
  },
  {
   "cell_type": "code",
   "execution_count": 2,
   "metadata": {},
   "outputs": [
    {
     "name": "stdout",
     "output_type": "stream",
     "text": [
      "Testcase num: 3\n",
      "\n",
      "\n",
      "Input\n",
      "6 4 1\n",
      "0100\n",
      "1110\n",
      "1000\n",
      "0000\n",
      "0111\n",
      "0000\n",
      "\n",
      "Output\n",
      "15\n",
      "\n",
      "Input\n",
      "6 4 2\n",
      "0100\n",
      "1110\n",
      "1000\n",
      "0000\n",
      "0111\n",
      "0000\n",
      "\n",
      "Output\n",
      "9\n",
      "\n",
      "Input\n",
      "4 4 3\n",
      "0111\n",
      "1111\n",
      "1111\n",
      "1110\n",
      "\n",
      "Output\n",
      "-1\n"
     ]
    }
   ],
   "source": [
    "from queue import PriorityQueue\n",
    "\n",
    "def simulation(N, M, board, visited, K):\n",
    "    direction = [(0, 1), (0, -1), (1, 0), (-1, 0)] # 네 방향\n",
    "    q = PriorityQueue() # 우선순위 큐\n",
    "    q.put((1, 0, 0, K)) # (지난 칸 수, 현재 y좌표, 현재 x좌표, 부술 수 있는 벽 수) 정보를 큐에 push\n",
    "    visited[0][0] = 1 # (0,0) 좌표에서 지난 칸 수는 (0,0) 1개이다.\n",
    "    while not q.empty():\n",
    "        count, y, x, k = q.get() # (지난 칸 수, 현재 y좌표, 현재 x좌표, 부술 수 있는 벽 수) 정보를 큐에서 pop\n",
    "        if y == N-1 and x == M-1: # 목표에 도달 시에 지난 칸 수를 반환\n",
    "            return count\n",
    "        for add_y, add_x in direction: # 인접한 네 방향에 대해서\n",
    "            if 0 <= add_y + y < N and 0 <= add_x + x < M and visited[add_y+y][add_x+x] > count+1:\n",
    "            # 보드내의 인접한 방향의 칸으로 이동 가능 할 때    \n",
    "                if board[add_y+y][add_x+x] == 1 and k > 0: # 이동할 곳이 벽이고 부술 수 있을 때\n",
    "                    visited[add_y+y][add_x+x] = count+1 # 이동하기까지 지난 칸 수 갱신\n",
    "                    q.put((count+1, add_y+y, add_x+x, k-1))\n",
    "                    # (지난 칸 수+1, 이동할 y좌표, 이동할 x좌표, 부술 수 있는 벽 수-1) 정보를 큐에 push\n",
    "                elif board[add_y+y][add_x+x] == 0: # 이동할 곳이 빈 칸일 때\n",
    "                    visited[add_y+y][add_x+x] = count+1 # 이동하기까지 지난 칸 수 갱신\n",
    "                    q.put((count+1, add_y+y, add_x+x, k))\n",
    "                    # (지난 칸 수+1, 이동할 y좌표, 이동할 x좌표, 부술 수 있는 벽 수) 정보를 큐에 push\n",
    "    return -1 # 목표 도달이 불가능하다면 -1 반환\n",
    "\n",
    "T = int(input(\"Testcase num: \")) # 테스트케이스 개수\n",
    "print()\n",
    "for _ in range(T):\n",
    "    print(\"\\nInput\")\n",
    "    N, M, K = tuple(int(x) for x in input().split()) # 행, 열, 벽을 부술 수 있는 개수\n",
    "    board = [] # 보드\n",
    "    for _ in range(N):\n",
    "        board.append([int(x) for x in list(input())])\n",
    "    visited = [[N*M for _ in range(M)] for _ in range(N)] # 해당 좌표에 도달하기 위해 건너야하는 최소 칸 수\n",
    "    print(\"\\nOutput\")\n",
    "    print(simulation(N, M, board, visited, K)) # 시뮬레이션 진행 후 답 출력"
   ]
  }
 ],
 "metadata": {
  "kernelspec": {
   "display_name": "Python 3",
   "language": "python",
   "name": "python3"
  },
  "language_info": {
   "codemirror_mode": {
    "name": "ipython",
    "version": 3
   },
   "file_extension": ".py",
   "mimetype": "text/x-python",
   "name": "python",
   "nbconvert_exporter": "python",
   "pygments_lexer": "ipython3",
   "version": "3.6.9"
  }
 },
 "nbformat": 4,
 "nbformat_minor": 2
}
