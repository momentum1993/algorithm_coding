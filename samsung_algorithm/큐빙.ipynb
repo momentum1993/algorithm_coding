{
 "cells": [
  {
   "cell_type": "markdown",
   "metadata": {},
   "source": [
    "# 큐빙"
   ]
  },
  {
   "cell_type": "markdown",
   "metadata": {},
   "source": [
    "[baekjoon의 '큐빙' 링크](https://www.acmicpc.net/problem/5373)"
   ]
  },
  {
   "cell_type": "markdown",
   "metadata": {},
   "source": [
    "### 문제\n",
    "루빅스 큐브는 삼차원 퍼즐이다. 보통 루빅스 큐브는 3×3×3개의 작은 정육면체로 이루어져 있다. 퍼즐을 풀려면 각 면에 있는 아홉 개의 작은 정육면체의 색이 동일해야 한다.  \n",
    "  \n",
    "큐브는 각 면을 양방향으로 90도 만큼 돌릴 수 있도록 만들어져 있다. 회전이 마친 이후에는, 다른 면을 돌릴 수 있다. 이렇게 큐브의 서로 다른 면을 돌리다 보면, 색을 섞을 수 있다.  \n",
    "  \n",
    "이 문제에서는 루빅스 큐브가 모두 풀린 상태에서 시작한다. 윗 면은 흰색, 아랫 면은 노란색, 앞 면은 빨간색, 뒷 면은 오렌지색, 왼쪽 면은 초록색, 오른쪽 면은 파란색이다.  \n",
    "  \n",
    "루빅스 큐브를 돌린 방법이 순서대로 주어진다. 이때, 모두 돌린 다음에 가장 윗 면의 색상을 구하는 프로그램을 작성하시오.  \n",
    "  \n",
    "![](https://www.acmicpc.net/upload/images/cube.png)  \n",
    "  \n",
    "위의 그림은 루빅스 큐브를 푼 그림이다. 왼쪽 면은 시계방향으로 조금 돌려져 있는 상태이다.  \n",
    "  \n",
    "### 입력  \n",
    "첫째 줄에 테스트 케이스의 개수가 주어진다. 테스트 케이스는 최대 100개이다. 각 테스트 케이스는 다음과 같이 구성되어져 있다.  \n",
    "  \n",
    "첫째 줄에 큐브를 돌린 횟수 n이 주어진다. (1 ≤ n ≤ 1000)  \n",
    "둘째 줄에는 큐브를 돌린 방법이 주어진다. 각 방법은 공백으로 구분되어져 있으며, 첫 번째 문자는 돌린 면이다. U: 윗 면, D: 아랫 면, F: 앞 면, B: 뒷 면, L: 왼쪽 면, R: 오른쪽 면이다. 두 번째 문자는 돌린 방향이다. +인 경우에는 시계 방향 (그 면을 바라봤을 때가 기준), -인 경우에는 반시계 방향이다.  \n",
    "  \n",
    "### 출력  \n",
    "각 테스트 케이스에 대해서 큐브를 모두 돌린 후의 윗 면의 색상을 출력한다. 첫 번째 줄에는 뒷 면과 접하는 칸의 색을 출력하고, 두 번째, 세 번째 줄은 순서대로 출력하면 된다. 흰색은 w, 노란색은 y, 빨간색은 r, 오렌지색은 o, 초록색은 g, 파란색은 b.  \n",
    "  "
   ]
  },
  {
   "cell_type": "code",
   "execution_count": 1,
   "metadata": {},
   "outputs": [],
   "source": [
    "from copy import deepcopy\n",
    "\n",
    "def cubing(n, commands):\n",
    "    cube = [[[i for _ in range(3)] for _ in range(3)] for i in range(6)] \n",
    "    # 현재 큐브의 색깔 상태\n",
    "    planes = {'U': 0, 'D': 1, 'F': 2, 'B': 3, 'L': 4, 'R': 5 }\n",
    "    # 색깔별 번호\n",
    "    rot_per_plane = [[33, 34, 35, 45, 48, 51, 20, 19, 18, 44, 41, 38],\n",
    "                     [29, 28, 27, 36, 39, 42, 24, 25, 26, 53, 50, 47],\n",
    "                     [6, 7, 8, 51, 52, 53, 15, 16, 17, 42, 43, 44],\n",
    "                     [11, 10, 9, 47, 46, 45, 2, 1, 0, 38, 37, 36],\n",
    "                     [27, 30, 33, 0, 3, 6, 18, 21, 24, 17, 14, 11],\n",
    "                     [35, 32, 29, 9, 12, 15, 26, 23, 20, 8, 5, 2]]\n",
    "    # 각 육면체의 면별로 회전시 돌아가는 부분의 인덱스 모음(시계방향으로 정렬함)\n",
    "    \n",
    "    for c in commands: # 모든 명령에 대해서\n",
    "        c_p, c_d = planes[c[0]], c[1] # 면, 회전방향(시계 or 반시계)\n",
    "        temp_cube = deepcopy(cube[c_p])\n",
    "        \n",
    "        if c_d == '+': # 시계방향회전\n",
    "            for y in range(3):\n",
    "                for x in range(3):\n",
    "                    cube[c_p][x][2-y] = temp_cube[y][x] # 해당 면에서의 회전\n",
    "            \n",
    "            rot = rot_per_plane[c_p][3:] + rot_per_plane[c_p][:3]\n",
    "            vals = []\n",
    "            for i in range(len(rot_per_plane[c_p])):\n",
    "                p_num = rot_per_plane[c_p][i] // 9\n",
    "                r_num = (rot_per_plane[c_p][i] - (p_num*9)) // 3 \n",
    "                c_num = (rot_per_plane[c_p][i] - (p_num*9)) % 3\n",
    "                vals.append(cube[p_num][r_num][c_num])\n",
    "            for i in range(len(rot)):   \n",
    "                p_num_d = rot[i] // 9\n",
    "                r_num_d = (rot[i] - (p_num_d*9)) // 3 \n",
    "                c_num_d = (rot[i] - (p_num_d*9)) % 3\n",
    "                cube[p_num_d][r_num_d][c_num_d] = vals[i]\n",
    "            # 해당 면 근접하는 면에서의 변화\n",
    "        \n",
    "        elif c_d == '-': # 반시계방향회전\n",
    "            for y in range(3):\n",
    "                for x in range(3):\n",
    "                    cube[c_p][2-x][y] = temp_cube[y][x] # 해당 면에서의 회전\n",
    "            \n",
    "            rot = rot_per_plane[c_p][-3:] + rot_per_plane[c_p][:-3]\n",
    "            vals = []\n",
    "            for i in range(len(rot_per_plane[c_p])):\n",
    "                p_num = rot_per_plane[c_p][i] // 9\n",
    "                r_num = (rot_per_plane[c_p][i] - (p_num*9)) // 3 \n",
    "                c_num = (rot_per_plane[c_p][i] - (p_num*9)) % 3\n",
    "                vals.append(cube[p_num][r_num][c_num])\n",
    "            for i in range(len(rot)):   \n",
    "                p_num_d = rot[i] // 9\n",
    "                r_num_d = (rot[i] - (p_num_d*9)) // 3 \n",
    "                c_num_d = (rot[i] - (p_num_d*9)) % 3\n",
    "                cube[p_num_d][r_num_d][c_num_d] = vals[i]\n",
    "            # 해당 면 근접하는 면에서의 변화\n",
    "                \n",
    "    status = [[None for _ in range(3)] for _ in range(3)]\n",
    "    colors = ['w','y','r','o','g','b'] # 색깔\n",
    "    for y in range(3):\n",
    "        for x in range(3):\n",
    "            status[y][x] = colors[cube[0][y][x]]\n",
    "    # 모든 명령 수행 후에 큐브의 윗면의 상태 \n",
    "    return status\n",
    "        \n",
    "\n",
    "def solution(n, commands):\n",
    "    # 흰색(윗면) : 0, 노란색(아랫면) : 1, 빨간색(앞면) : 2, \n",
    "    # 오렌지색(뒷면) : 3, 초록색(왼쪽면) : 4, 파란색(오른쪽면) : 5\n",
    "    commands = [x for x in commands.split()] # 명령들\n",
    "    return cubing(n, commands)\n",
    "            "
   ]
  },
  {
   "cell_type": "code",
   "execution_count": 2,
   "metadata": {},
   "outputs": [],
   "source": [
    "n = 1\n",
    "commands = 'L-'"
   ]
  },
  {
   "cell_type": "code",
   "execution_count": 3,
   "metadata": {},
   "outputs": [
    {
     "data": {
      "text/plain": [
       "[['r', 'w', 'w'], ['r', 'w', 'w'], ['r', 'w', 'w']]"
      ]
     },
     "execution_count": 3,
     "metadata": {},
     "output_type": "execute_result"
    }
   ],
   "source": [
    "solution(n, commands)"
   ]
  },
  {
   "cell_type": "code",
   "execution_count": 4,
   "metadata": {},
   "outputs": [],
   "source": [
    "n = 2\n",
    "commands = 'F+ B+'"
   ]
  },
  {
   "cell_type": "code",
   "execution_count": 5,
   "metadata": {},
   "outputs": [
    {
     "data": {
      "text/plain": [
       "[['b', 'b', 'b'], ['w', 'w', 'w'], ['g', 'g', 'g']]"
      ]
     },
     "execution_count": 5,
     "metadata": {},
     "output_type": "execute_result"
    }
   ],
   "source": [
    "solution(n, commands)"
   ]
  },
  {
   "cell_type": "code",
   "execution_count": 6,
   "metadata": {},
   "outputs": [],
   "source": [
    "n = 4\n",
    "commands = 'U- D- L+ R+'"
   ]
  },
  {
   "cell_type": "code",
   "execution_count": 7,
   "metadata": {},
   "outputs": [
    {
     "data": {
      "text/plain": [
       "[['g', 'w', 'g'], ['o', 'w', 'r'], ['b', 'w', 'b']]"
      ]
     },
     "execution_count": 7,
     "metadata": {},
     "output_type": "execute_result"
    }
   ],
   "source": [
    "solution(n, commands)"
   ]
  },
  {
   "cell_type": "code",
   "execution_count": 8,
   "metadata": {},
   "outputs": [],
   "source": [
    "n = 10\n",
    "commands = 'L- U- L+ U- L- U- U- L+ U+ U+'"
   ]
  },
  {
   "cell_type": "code",
   "execution_count": 9,
   "metadata": {},
   "outputs": [
    {
     "data": {
      "text/plain": [
       "[['g', 'w', 'o'], ['w', 'w', 'w'], ['r', 'w', 'w']]"
      ]
     },
     "execution_count": 9,
     "metadata": {},
     "output_type": "execute_result"
    }
   ],
   "source": [
    "solution(n, commands)"
   ]
  }
 ],
 "metadata": {
  "kernelspec": {
   "display_name": "Python 3",
   "language": "python",
   "name": "python3"
  },
  "language_info": {
   "codemirror_mode": {
    "name": "ipython",
    "version": 3
   },
   "file_extension": ".py",
   "mimetype": "text/x-python",
   "name": "python",
   "nbconvert_exporter": "python",
   "pygments_lexer": "ipython3",
   "version": "3.6.9"
  }
 },
 "nbformat": 4,
 "nbformat_minor": 2
}
