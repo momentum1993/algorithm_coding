{
 "cells": [
  {
   "cell_type": "markdown",
   "metadata": {},
   "source": [
    "# 레이저 통신"
   ]
  },
  {
   "cell_type": "markdown",
   "metadata": {},
   "source": [
    "[baekjoon의 '레이저 통신' 링크](https://www.acmicpc.net/problem/6087)"
   ]
  },
  {
   "cell_type": "markdown",
   "metadata": {},
   "source": [
    "### 문제   \n",
    "크기가 1×1인 정사각형으로 나누어진 W×H 크기의 지도가 있다. 지도의 각 칸은 빈 칸이거나 벽이며, 두 칸은 'C'로 표시되어 있는 칸이다.  \n",
    "  \n",
    "'C'로 표시되어 있는 두 칸을 레이저로 통신하기 위해서 설치해야 하는 거울 개수의 최솟값을 구하는 프로그램을 작성하시오. 레이저로 통신한다는 것은 두 칸을 레이저로 연결할 수 있음을 의미한다.  \n",
    "  \n",
    "레이저는 C에서만 발사할 수 있고, 빈 칸에 거울('/', '\\')을 설치해서 방향을 90도 회전시킬 수 있다.  \n",
    "  \n",
    "아래 그림은 H = 8, W = 7인 경우이고, 빈 칸은 '.', 벽은 '\\*'로 나타냈다. 왼쪽은 초기 상태, 오른쪽은 최소 개수의 거울을 사용해서 두 'C'를 연결한 것이다.  \n",
    "  \n",
    "~~~\n",
    "7 . . . . . . .         7 . . . . . . .\n",
    "6 . . . . . . C         6 . . . . . /-C\n",
    "5 . . . . . . *         5 . . . . . | *\n",
    "4 * * * * * . *         4 * * * * * | *\n",
    "3 . . . . * . .         3 . . . . * | .\n",
    "2 . . . . * . .         2 . . . . * | .\n",
    "1 . C . . * . .         1 . C . . * | .\n",
    "0 . . . . . . .         0 . \\-------/ .\n",
    "  0 1 2 3 4 5 6           0 1 2 3 4 5 6\n",
    "~~~  \n",
    "    \n",
    "### 입력\n",
    "첫째 줄에 W와 H가 주어진다. (1 ≤ W, H ≤ 100)  \n",
    "  \n",
    "둘째 줄부터 H개의 줄에 지도가 주어진다. 지도의 각 문자가 의미하는 것은 다음과 같다.  \n",
    "  \n",
    "- .: 빈 칸  \n",
    "- *: 벽  \n",
    "- C: 레이저로 연결해야 하는 칸  \n",
    "  \n",
    "'C'는 항상 두 개이고, 레이저로 연결할 수 있는 입력만 주어진다.  \n",
    "  \n",
    "### 출력  \n",
    "첫째 줄에 C를 연결하기 위해 설치해야 하는 거울 개수의 최솟값을 출력한다.    "
   ]
  },
  {
   "cell_type": "code",
   "execution_count": 1,
   "metadata": {},
   "outputs": [
    {
     "name": "stdout",
     "output_type": "stream",
     "text": [
      "7 8\n",
      ".......\n",
      "......C\n",
      "......*\n",
      "*****.*\n",
      "....*..\n",
      "....*..\n",
      ".C..*..\n",
      ".......\n",
      "3\n"
     ]
    }
   ],
   "source": [
    "from queue import PriorityQueue\n",
    "\n",
    "def simulation(W, H, board, checked, s_y, s_x, e_y, e_x): # 시뮬레이션\n",
    "    q = PriorityQueue() # 우선순위 큐\n",
    "    direction = [(0,1), (1,0), (0,-1), (-1,0)] # 동, 남, 서, 북 방향\n",
    "    for i in range(4): # 네 방향에 대해서\n",
    "        q.put((0, s_y, s_x, i)) # (사용한 거울 수, 현재 y, 현재 x, 현재 방향) 정보를 큐에 push\n",
    "    \n",
    "    while not q.empty():\n",
    "        count, y, x, d = q.get() # (사용한 거울 수, 현재 y, 현재 x, 현재 방향) 정보를 큐에서 pop\n",
    "        if checked[y][x] < count: # 만약 이미 최저 거울 수로 탐색한 좌표일 경우 다음 차례로 넘긴다.\n",
    "            continue\n",
    "        if y == e_y and x == e_x: # 만약 목표하는 C에 도달했다면\n",
    "            return count # 도달할 때가지 사용한 거울 수 반환\n",
    "        for add_d in range(-1, 2): # 왼쪽 90도, 0도, 오른쪽 90도에 대해서\n",
    "            curr_d = add_d+d # 방향을 조정\n",
    "            if curr_d == 4:\n",
    "                curr_d = 0\n",
    "            elif curr_d == -1:\n",
    "                curr_d = 3\n",
    "            # 조절한 방향 인덱스를 갱신해줌\n",
    "            add_y, add_x = direction[curr_d] # 바뀐 방향으로 더할 y, x\n",
    "            curr_count = count # 거울의 개수\n",
    "            if add_d != 0: # 방향이 90도 전환된 경우\n",
    "                curr_count += 1 # 거울의 개수 1 증가\n",
    "            if 0 <= add_y+y < H and 0 <= add_x+x < W and board[add_y+y][add_x+x] == '.' and checked[add_y+y][add_x+x] > curr_count:\n",
    "            # 현재 방향으로 이동 시 빈칸이고, 아직 탐색하지 않은 경우라면\n",
    "                checked[add_y+y][add_x+x] = curr_count # 이동한 좌표에 대해서 최소 거울의 수 갱신\n",
    "                q.put((curr_count, add_y+y, add_x+x, curr_d)) # 큐에 (사용한 거울 수, y, x, 방향) 정보를 큐에 push\n",
    "    return -1 # 만약 문제가 있다면 -1 반환\n",
    "                \n",
    "W, H = tuple(int(x) for x in input().split()) # 너비, 높이\n",
    "board = [] # 보드\n",
    "C = [] # C의 위치\n",
    "for y in range(H):\n",
    "    row = list(input())\n",
    "    for x in range(W):\n",
    "        if row[x] == 'C': # C에 대해서\n",
    "            C.append((y,x)) # 좌표 저장\n",
    "            row[x] = '.' # 빈칸으로 갱신\n",
    "    board.append(row)\n",
    "checked = [[W*H for _ in range(W)] for _ in range(H)] # 각 좌표에 도달했을 때 이미 사용한 거울 수\n",
    "checked[C[0][0]][C[0][1]] = 0 # 처음 시작하는 C의 좌표에서는 거울 0개를 사용했다.\n",
    "print(simulation(W, H, board, checked, C[0][0], C[0][1], C[1][0], C[1][1])) # 시뮬레이션 진행 후 답 출력"
   ]
  }
 ],
 "metadata": {
  "kernelspec": {
   "display_name": "Python 3",
   "language": "python",
   "name": "python3"
  },
  "language_info": {
   "codemirror_mode": {
    "name": "ipython",
    "version": 3
   },
   "file_extension": ".py",
   "mimetype": "text/x-python",
   "name": "python",
   "nbconvert_exporter": "python",
   "pygments_lexer": "ipython3",
   "version": "3.6.9"
  }
 },
 "nbformat": 4,
 "nbformat_minor": 2
}
