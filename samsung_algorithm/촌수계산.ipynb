{
 "cells": [
  {
   "cell_type": "markdown",
   "metadata": {},
   "source": [
    "# 촌수계산"
   ]
  },
  {
   "cell_type": "markdown",
   "metadata": {},
   "source": [
    "[baekjoon의 '촌수계산' 링크](https://www.acmicpc.net/problem/2644)"
   ]
  },
  {
   "cell_type": "markdown",
   "metadata": {},
   "source": [
    "### 문제   \n",
    "우리 나라는 가족 혹은 친척들 사이의 관계를 촌수라는 단위로 표현하는 독특한 문화를 가지고 있다. 이러한 촌수는 다음과 같은 방식으로 계산된다. 기본적으로 부모와 자식 사이를 1촌으로 정의하고 이로부터 사람들 간의 촌수를 계산한다. 예를 들면 나와 아버지, 아버지와 할아버지는 각각 1촌으로 나와 할아버지는 2촌이 되고, 아버지 형제들과 할아버지는 1촌, 나와 아버지 형제들과는 3촌이 된다.  \n",
    "  \n",
    "여러 사람들에 대한 부모 자식들 간의 관계가 주어졌을 때, 주어진 두 사람의 촌수를 계산하는 프로그램을 작성하시오.  \n",
    "  \n",
    "### 입력  \n",
    "사람들은 1, 2, 3, …, n (1≤n≤100)의 연속된 번호로 각각 표시된다. 입력 파일의 첫째 줄에는 전체 사람의 수 n이 주어지고, 둘째 줄에는 촌수를 계산해야 하는 서로 다른 두 사람의 번호가 주어진다. 그리고 셋째 줄에는 부모 자식들 간의 관계의 개수 m이 주어진다. 넷째 줄부터는 부모 자식간의 관계를 나타내는 두 번호 x,y가 각 줄에 나온다. 이때 앞에 나오는 번호 x는 뒤에 나오는 정수 y의 부모 번호를 나타낸다.  \n",
    "  \n",
    "각 사람의 부모는 최대 한 명만 주어진다.  \n",
    "  \n",
    "### 출력  \n",
    "입력에서 요구한 두 사람의 촌수를 나타내는 정수를 출력한다. 어떤 경우에는 두 사람의 친척 관계가 전혀 없어 촌수를 계산할 수 없을 때가 있다. 이때에는 -1을 출력해야 한다.  "
   ]
  },
  {
   "cell_type": "code",
   "execution_count": 1,
   "metadata": {},
   "outputs": [
    {
     "name": "stdout",
     "output_type": "stream",
     "text": [
      "9\n",
      "7 3\n",
      "7\n",
      "1 2\n",
      "1 3\n",
      "2 7\n",
      "2 8\n",
      "2 9\n",
      "4 5\n",
      "4 6\n",
      "3\n"
     ]
    }
   ],
   "source": [
    "def check_num(n, parent, target): # 촌수를 체크하는 함수\n",
    "    answer = [n for _ in range(n)] # 현재 타겟에 대해서 각 인덱스까지의 촌수를 저장할 것임.\n",
    "    num = 0 # 촌수\n",
    "    answer[target-1] = 0 # 자기 자신에 대한 촌수는 0\n",
    "    while True:\n",
    "        target = parent[target-1] # 현재 타겟의 부모를 다시 타켓으로 갱신\n",
    "        if target == -1: # 만약 부모가 없을 경우\n",
    "            break # 루프 빠져나감\n",
    "        num += 1 # 촌수 1 증가\n",
    "        answer[target-1] = num # 처음 타켓과 지금 갱신된 타켓까지의 촌수 저장 \n",
    "    return answer # 촌수 정보 반환\n",
    "    \n",
    "n = int(input()) # 총 사람 수\n",
    "parent = [-1 for _ in range(n)] # 각 인덱스별 부모\n",
    "target1, target2 = tuple(int(x) for x in input().split())\n",
    "# 타겟1과 타겟2 사이의 촌수를 구해야함\n",
    "m = int(input()) # 입력할 부모자녀관계의 수\n",
    "for _ in range(m):\n",
    "    x, y = tuple(int(i) for i in input().split())\n",
    "    parent[y-1] = x # y의 부모는 x임을 저장\n",
    "answer1 = check_num(n, parent, target1) # 타겟1과 다른 사람간의 촌수\n",
    "answer2 = check_num(n, parent, target2) # 타겟2와 다른 사람간의 촌수\n",
    "answer = n # 답\n",
    "for i in range(n): # 모든 사람에 대해서\n",
    "    answer = min(answer, answer1[i]+answer2[i])\n",
    "    # 타겟1과 i+1번 사람과의 촌수 + 타겟2와 i+1번 사람과의 촌수의 최소값 = 타겟1과 타겟2간의 촌수\n",
    "if answer >= n: # 만약 두 사람간의 친척관계가 없을 경우\n",
    "    print(-1) # -1 출력\n",
    "else: # 친척관계가 성립될 때\n",
    "    print(answer) # 촌수 출력"
   ]
  }
 ],
 "metadata": {
  "kernelspec": {
   "display_name": "Python 3",
   "language": "python",
   "name": "python3"
  },
  "language_info": {
   "codemirror_mode": {
    "name": "ipython",
    "version": 3
   },
   "file_extension": ".py",
   "mimetype": "text/x-python",
   "name": "python",
   "nbconvert_exporter": "python",
   "pygments_lexer": "ipython3",
   "version": "3.6.9"
  }
 },
 "nbformat": 4,
 "nbformat_minor": 2
}
