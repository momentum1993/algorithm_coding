{
 "cells": [
  {
   "cell_type": "markdown",
   "metadata": {},
   "source": [
    "# 미로 탈출"
   ]
  },
  {
   "cell_type": "markdown",
   "metadata": {},
   "source": [
    "[baekjoon의 '미로 탈출' 링크](https://www.acmicpc.net/problem/14923)"
   ]
  },
  {
   "cell_type": "markdown",
   "metadata": {},
   "source": [
    "### 문제  \n",
    "홍익이는 사악한 마법사의 꾐에 속아 N x M 미로 (Hx, Hy) 위치에 떨어졌다. 다행히도 홍익이는 마법사가 만든 미로의 탈출 위치(Ex, Ey)를 알고 있다. 하지만 미로에는 곳곳에 마법사가 설치한 벽이 있어 홍익이가 탈출하기 어렵게 하고 있다.  \n",
    "  \n",
    "홍익이는 마법사의 연구실에서 훔친 지팡이가 있어, 벽을 길로 만들 수 있다. 그렇지만, 안타깝게도 마법의 지팡이는 단 한 번만 사용할 수 있다.  \n",
    "  \n",
    "이때, 홍익이를 도와 미로에서 탈출할 수 있는지 알아보고, 할 수 있다면 가장 빠른 경로의 거리 D는 얼마인지 알아보자.  \n",
    "  \n",
    "인접한 칸으로 이동하는데 똑같은 시간이 들고, 벽을 부수는 데 시간이 걸리지 않는다.  \n",
    "  \n",
    "### 입력  \n",
    "```\n",
    "N M\n",
    "Hx Hy\n",
    "Ex Ey\n",
    "N X M 행렬\n",
    "```\n",
    "- 2 ≤ N ≤ 1000, 2 ≤ M ≤ 1000\n",
    "- 1 ≤ Hx, Hy, Ex, Ey ≤ 1000\n",
    "- (Hx, Hy)≠ (Ex, Ey)\n",
    "- 행렬은 0과 1로만 이루어져 있고, 0이 빈 칸, 1이 벽이다.  \n",
    "  \n",
    "### 출력  \n",
    "D (탈출 할 수 없다면, -1을 출력한다.)  "
   ]
  },
  {
   "cell_type": "code",
   "execution_count": 2,
   "metadata": {},
   "outputs": [
    {
     "name": "stdout",
     "output_type": "stream",
     "text": [
      "Input\n",
      "5 6\n",
      "1 1\n",
      "5 6\n",
      "0 1 1 1 0 0\n",
      "0 1 1 0 0 0\n",
      "0 1 0 0 1 0\n",
      "0 1 0 0 1 0\n",
      "0 0 0 1 1 0\n",
      "\n",
      "Output\n",
      "11\n"
     ]
    }
   ],
   "source": [
    "from queue import PriorityQueue\n",
    "\n",
    "def simulation(N, M, board, h_x, h_y, e_x, e_y): # 최소 이동횟수 구하는 시뮬레이션\n",
    "    q = PriorityQueue() # 우선순위 큐\n",
    "    visited = [[N*M for _ in range(M)] for _ in range(N)] # 각 좌표위치에 도달하기 위한 최소 이동횟수\n",
    "    direction = [(0,1), (0,-1), (1,0), (-1,0)] # 인접한 네 방향\n",
    "    q.put((0, h_x, h_y, True)) # (이동횟수, 좌표 x, 좌표 y, 벽을 부술 수 있는지 여부) 정보를 큐에 push\n",
    "    visited[h_x][h_y] = 0\n",
    "    while not q.empty():\n",
    "        count, x, y, break_wall = q.get()  # (이동횟수, 좌표 x, 좌표 y, 벽을 부술 수 있는지 여부) 정보를 큐에서 pop\n",
    "        if x == e_x and y == e_y: # 목표 위치에 도달했다면\n",
    "            return count # 이동횟수 반환\n",
    "        for add_x, add_y in direction: # 인접한 네 방향에 대해서\n",
    "            if 0 <= add_x+x < N and 0 <= add_y+y < M and visited[add_x+x][add_y+y] > count+1:\n",
    "                # 보드 내의 위치이며, 최소이동횟수로 도달했다면\n",
    "                if board[add_x+x][add_y+y] == 0: # 빈 칸일 때\n",
    "                    visited[add_x+x][add_y+y] = count+1\n",
    "                    q.put((count+1, x+add_x, y+add_y, break_wall)) # (이동횟수+1, 이동 후 좌표 x, 이동 후 좌표 y, 벽을 부술 수 있는지 여부) 정보를 큐에 push\n",
    "                elif board[add_x+x][add_y+y] == 1 and break_wall: # 벽이 있고, 벽을 부술 수 있을 경우\n",
    "                    visited[add_x+x][add_y+y] = count+1\n",
    "                    q.put((count+1, x+add_x, y+add_y, False)) # (이동횟수+1, 이동 후 좌표 x, 이동 후 좌표 y, 벽을 부술 수 없음) 정보를 큐에 push\n",
    "    return -1 # 목표 위치까지 도달할 수 없다면 -1 반환\n",
    "    \n",
    "print(\"Input\")\n",
    "N, M = tuple(int(x) for x in input().split()) # 보드의 높이, 너비\n",
    "h_x, h_y = tuple(int(x)-1 for x in input().split()) # 홍익이의 위치 좌표\n",
    "e_x, e_y = tuple(int(x)-1 for x in input().split()) # 목표지점의 위치 좌표\n",
    "board = [] # 보드\n",
    "for _ in range(N):\n",
    "    board.append(tuple(int(x) for x in input().split()))\n",
    "print(\"\\nOutput\")\n",
    "print(simulation(N, M, board, h_x, h_y, e_x, e_y)) # 시뮬레이션 진행 후 답 출력"
   ]
  }
 ],
 "metadata": {
  "kernelspec": {
   "display_name": "Python 3",
   "language": "python",
   "name": "python3"
  },
  "language_info": {
   "codemirror_mode": {
    "name": "ipython",
    "version": 3
   },
   "file_extension": ".py",
   "mimetype": "text/x-python",
   "name": "python",
   "nbconvert_exporter": "python",
   "pygments_lexer": "ipython3",
   "version": "3.6.9"
  }
 },
 "nbformat": 4,
 "nbformat_minor": 2
}
