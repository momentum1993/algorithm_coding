{
 "cells": [
  {
   "cell_type": "markdown",
   "metadata": {},
   "source": [
    "# 괄호 추가하기"
   ]
  },
  {
   "cell_type": "markdown",
   "metadata": {},
   "source": [
    "[baekjoon의 '괄호 추가하기' 링크](https://www.acmicpc.net/problem/16637)"
   ]
  },
  {
   "cell_type": "markdown",
   "metadata": {},
   "source": [
    "### 문제  \n",
    "길이가 N인 수식이 있다. 수식은 0보다 크거나 같고, 9보다 작거나 같은 정수와 연산자(+, -, ×)로 이루어져 있다. 연산자 우선순위는 모두 동일하기 때문에, 수식을 계산할 때는 왼쪽에서부터 순서대로 계산해야 한다. 예를 들어, 3+8×7-9×2의 결과는 136이다.  \n",
    "  \n",
    "수식에 괄호를 추가하면, 괄호 안에 들어있는 식은 먼저 계산해야 한다. 단, 괄호 안에는 연산자가 하나만 들어 있어야 한다. 예를 들어, 3+8×7-9×2에 괄호를 3+(8×7)-(9×2)와 같이 추가했으면, 식의 결과는 41이 된다. 하지만, 중첩된 괄호는 사용할 수 없다. 즉, 3+((8×7)-9)×2, 3+((8×7)-(9×2))은 모두 괄호 안에 괄호가 있기 때문에, 올바른 식이 아니다.  \n",
    "  \n",
    "수식이 주어졌을 때, 괄호를 적절히 추가해 만들 수 있는 식의 결과의 최댓값을 구하는 프로그램을 작성하시오. 추가하는 괄호 개수의 제한은 없으며, 추가하지 않아도 된다.  \n",
    "  \n",
    "### 입력\n",
    "첫째 줄에 수식의 길이 N(1 ≤ N ≤ 19)가 주어진다. 둘째 줄에는 수식이 주어진다. 수식에 포함된 정수는 모두 0보다 크거나 같고, 9보다 작거나 같다. 문자열은 정수로 시작하고, 연산자와 정수가 번갈아가면서 나온다. 연산자는 +, -, \\* 중 하나이다. 여기서 \\*는 곱하기 연산을 나타내는 × 연산이다. 항상 올바른 수식만 주어지기 때문에, N은 홀수이다.  \n",
    "  \n",
    "### 출력  \n",
    "첫째 줄에 괄호를 적절히 추가해서 얻을 수 있는 결과의 최댓값을 출력한다. 정답은 $2^{31}$보다 작고, $-2^{31}$보다 크다.  \n",
    "  "
   ]
  },
  {
   "cell_type": "code",
   "execution_count": 1,
   "metadata": {},
   "outputs": [
    {
     "name": "stdout",
     "output_type": "stream",
     "text": [
      "Testcase num: 6\n",
      "\n",
      "\n",
      "Input\n",
      "9\n",
      "3+8*7-9*2\n",
      "\n",
      "Output\n",
      "136\n",
      "\n",
      "\n",
      "Input\n",
      "5\n",
      "8*3+5\n",
      "\n",
      "Output\n",
      "64\n",
      "\n",
      "\n",
      "Input\n",
      "7\n",
      "8*3+5+2\n",
      "\n",
      "Output\n",
      "66\n",
      "\n",
      "\n",
      "Input\n",
      "19\n",
      "1*2+3*4*5-6*7*8*9*0\n",
      "\n",
      "Output\n",
      "0\n",
      "\n",
      "\n",
      "Input\n",
      "19\n",
      "1*2+3*4*5-6*7*8*9*9\n",
      "\n",
      "Output\n",
      "426384\n",
      "\n",
      "\n",
      "Input\n",
      "19\n",
      "1-9-1-9-1-9-1-9-1-9\n",
      "\n",
      "Output\n",
      "24\n"
     ]
    }
   ],
   "source": [
    "def simulation(N, expr, idx=0, result=\"0\"): # 괄호 시뮬레이션\n",
    "    answer = -pow(2, 31) # 답\n",
    "    operator = \"+\" # 현재 연산자\n",
    "    \n",
    "    if idx == N: # 만약 모든 수식 탐색이 끝났을 때\n",
    "        return eval(result) # 현재까지 만들어온 괄호를 포함한 수식의 값을 반환\n",
    "    \n",
    "    if not expr[idx].isdigit(): # 현재 탐색하는 수식의 위치가 연산자라면\n",
    "        operator = expr[idx] # 연산자는 수식에 바로 더해주고\n",
    "        idx += 1 # 탐색 위치를 1 증가 시킨다\n",
    "        \n",
    "    for i in range(idx, N-1, 2): # 수식의 한가지 연산에 대해서\n",
    "        operand = str(eval(expr[i:i+3])) # 피연산자\n",
    "        answer = max(answer, simulation(N, expr, i+3, str(eval(result+operator+operand)))) \n",
    "        # i~i+2번째 위치의 수식을 먼저 계산한 다음 이전 연산 결과와 연산한다.\n",
    "        # 그리고 재귀적으로 연산 시뮬레이션 후 연산 최댓값 저장\n",
    "        result = str(eval(result+operator+expr[i])) # 연산식의 i번째에 위치한 피연산자와 이전 연산식과의 연산 \n",
    "        operator = expr[i+1] # 연산식의 i+1번째에 위치한 연산자로 연산자 갱신\n",
    "    result = str(eval(result+operator+expr[N-1])) # 가장 마지막 피연산자를 연산해줌\n",
    "    answer = max(answer, int(result)) # 현재까지 만들어온 수식의 값과 현재 최댓값을 비교하여 최댓값을 저장\n",
    "    return answer # 답 반환\n",
    "\n",
    "T = int(input(\"Testcase num: \")) # 테스트케이스 개수\n",
    "for _ in range(T):\n",
    "    print(\"\\n\\nInput\")\n",
    "    N = int(input()) # 수식 길이\n",
    "    expr = input() # 수식\n",
    "    answer = simulation(N, expr) # 시뮬레이션 진행\n",
    "    print(\"\\nOutput\")\n",
    "    print(answer) # 답 출력\n"
   ]
  }
 ],
 "metadata": {
  "kernelspec": {
   "display_name": "Python 3",
   "language": "python",
   "name": "python3"
  },
  "language_info": {
   "codemirror_mode": {
    "name": "ipython",
    "version": 3
   },
   "file_extension": ".py",
   "mimetype": "text/x-python",
   "name": "python",
   "nbconvert_exporter": "python",
   "pygments_lexer": "ipython3",
   "version": "3.6.9"
  }
 },
 "nbformat": 4,
 "nbformat_minor": 2
}
