{
 "cells": [
  {
   "cell_type": "markdown",
   "metadata": {},
   "source": [
    "# 뱀"
   ]
  },
  {
   "cell_type": "markdown",
   "metadata": {},
   "source": [
    "[baekjoon의 '뱀' 링크](https://www.acmicpc.net/problem/3190)"
   ]
  },
  {
   "cell_type": "markdown",
   "metadata": {},
   "source": [
    "### 문제\n",
    " 'Dummy' 라는 도스게임이 있다. 이 게임에는 뱀이 나와서 기어다니는데, 사과를 먹으면 뱀 길이가 늘어난다. 뱀이 이리저리 기어다니다가 벽 또는 자기자신의 몸과 부딪히면 게임이 끝난다.  \n",
    "  \n",
    "게임은 NxN 정사각 보드위에서 진행되고, 몇몇 칸에는 사과가 놓여져 있다. 보드의 상하좌우 끝에 벽이 있다. 게임이 시작할때 뱀은 맨위 맨좌측에 위치하고 뱀의 길이는 1 이다. 뱀은 처음에 오른쪽을 향한다.  \n",
    "  \n",
    "뱀은 매 초마다 이동을 하는데 다음과 같은 규칙을 따른다.  \n",
    "  \n",
    "먼저 뱀은 몸길이를 늘려 머리를 다음칸에 위치시킨다.  \n",
    "만약 이동한 칸에 사과가 있다면, 그 칸에 있던 사과가 없어지고 꼬리는 움직이지 않는다.\n",
    "만약 이동한 칸에 사과가 없다면, 몸길이를 줄여서 꼬리가 위치한 칸을 비워준다. 즉, 몸길이는 변하지 않는다.  \n",
    "사과의 위치와 뱀의 이동경로가 주어질 때 이 게임이 몇 초에 끝나는지 계산하라.  \n",
    "  \n",
    "### 입력  \n",
    "첫째 줄에 보드의 크기 N이 주어진다. (2 ≤ N ≤ 100) 다음 줄에 사과의 개수 K가 주어진다. (0 ≤ K ≤ 100)  \n",
    "  \n",
    "다음 K개의 줄에는 사과의 위치가 주어지는데, 첫 번째 정수는 행, 두 번째 정수는 열 위치를 의미한다. 사과의 위치는 모두 다르며, 맨 위 맨 좌측 (1행 1열) 에는 사과가 없다.  \n",
    "  \n",
    "다음 줄에는 뱀의 방향 변환 횟수 L 이 주어진다. (1 ≤ L ≤ 100)  \n",
    "  \n",
    "다음 L개의 줄에는 뱀의 방향 변환 정보가 주어지는데,  정수 X와 문자 C로 이루어져 있으며. 게임 시작 시간으로부터 X초가 끝난 뒤에 왼쪽(C가 'L') 또는 오른쪽(C가 'D')로 90도 방향을 회전시킨다는 뜻이다. X는 10,000 이하의 양의 정수이며, 방향 전환 정보는 X가 증가하는 순으로 주어진다.  \n",
    "  \n",
    "### 출력  \n",
    "첫째 줄에 게임이 몇 초에 끝나는지 출력한다.  "
   ]
  },
  {
   "cell_type": "code",
   "execution_count": 1,
   "metadata": {},
   "outputs": [],
   "source": [
    "# 보드 시뮬레이션 시각화 코드\n",
    "\n",
    "from pprint import pprint\n",
    "\n",
    "board = []\n",
    "\n",
    "def simulation(snake, apple, info, direction = 0, time = 0):\n",
    "    d = ['E', 'S', 'W', 'N']\n",
    "    global board #\n",
    "    \n",
    "    pprint(board) #\n",
    "    print(\"\\n\\n\") #\n",
    "\n",
    "    answer = 0\n",
    "    y, x = snake[-1]\n",
    "    if y == 0 or y == N+1 or x == 0 or x == N+1 or ((y, x) in snake[:-1]):\n",
    "        return 0\n",
    "    \n",
    "    if len(info) > 0 and time == int(info[0][0]):\n",
    "        if info[0][1] == 'L':\n",
    "            direction -= 1\n",
    "        elif info[0][1] == 'D':\n",
    "            direction += 1\n",
    "        info = info[1:]\n",
    "    \n",
    "    if d[direction] == 'E':\n",
    "        x += 1\n",
    "    elif d[direction] == 'W':\n",
    "        x -= 1\n",
    "    elif d[direction] == 'N':\n",
    "        y -= 1\n",
    "    elif d[direction] == 'S':\n",
    "        y += 1\n",
    "    \n",
    "    if (y,x) in snake:\n",
    "        return 1\n",
    "    \n",
    "    if (y,x) in apple:\n",
    "        apple.remove((y,x))\n",
    "    else:\n",
    "        t_y, t_x = snake[0] #\n",
    "        board[t_y][t_x] = '.' #\n",
    "        \n",
    "        snake = snake[1:]\n",
    "    \n",
    "    snake.append((y, x))\n",
    "    board[y][x] = 's' #\n",
    "    answer = 1 + simulation(snake, apple, info, direction, time+1)\n",
    "    return answer\n",
    "\n",
    "def solution(N, K, apple, L, info):\n",
    "    global board #\n",
    "    board = [['.' for _ in range(N+2)] for _ in range(N+2)]\n",
    "    for i in range(N+2):\n",
    "        for j in range(N+2):\n",
    "            if i == 0 or i == N+1 or j == 0 or j == N+1:\n",
    "                board[i][j] = '#'\n",
    "    board[1][1] = 's' #\n",
    "    \n",
    "    \n",
    "    snake = [(1,1)]\n",
    "    apple = [tuple(int(x) for x in x.split()) for x in apple.split('\\n')]\n",
    "    \n",
    "    for y,x in apple: #\n",
    "        board[y][x] = 'a' #\n",
    "        \n",
    "        \n",
    "    info = [tuple(x.split()) for x in info.split('\\n')]\n",
    "    return simulation(snake, apple, info)"
   ]
  },
  {
   "cell_type": "code",
   "execution_count": 2,
   "metadata": {},
   "outputs": [],
   "source": [
    "def simulation(snake, apple, info, direction = 0, time = 0):\n",
    "    d = ['E', 'S', 'W', 'N'] # 뱀의 이동 방향\n",
    "    \n",
    "    answer = 0\n",
    "    y, x = snake[-1] # 뱀 머리의 현재 좌표\n",
    "    if y == 0 or y == N+1 or x == 0 or x == N+1:\n",
    "        return 0\n",
    "    # 뱀 머리가 벽을 부딪힐경우 0 반환\n",
    "    \n",
    "    if len(info) > 0 and time == int(info[0][0]): # 이동 방향 전환\n",
    "        if info[0][1] == 'L': # 왼쪽 90도\n",
    "            direction -= 1\n",
    "        elif info[0][1] == 'D': # 오른쪽 90도\n",
    "            direction += 1\n",
    "        info = info[1:]\n",
    "    \n",
    "    if d[direction] == 'E': # 오른쪽\n",
    "        x += 1\n",
    "    elif d[direction] == 'W': # 왼쪽\n",
    "        x -= 1\n",
    "    elif d[direction] == 'N': # 위쪽\n",
    "        y -= 1\n",
    "    elif d[direction] == 'S': # 아래쪽\n",
    "        y += 1\n",
    "    \n",
    "    if (y,x) in snake: # 이동해서 만약 자기 자신과 부딪힐 경우\n",
    "        return 1 # 1 반환\n",
    "    \n",
    "    if (y,x) in apple:\n",
    "        apple.remove((y,x))\n",
    "    else: # 이동한 위치가 빈칸이라면\n",
    "        snake = snake[1:] # 꼬리 또한 이동시킨다.\n",
    "    \n",
    "    snake.append((y, x)) # 이동한 뱀의 머리 좌표 저장\n",
    "\n",
    "    answer = 1 + simulation(snake, apple, info, direction, time+1)\n",
    "    # 이동한 시간 합\n",
    "    return answer # 답 반환\n",
    "\n",
    "def solution(N, K, apple, L, info):\n",
    "    snake = [(1,1)] # 뱀이 차지하고 있는 위치 좌표\n",
    "    apple = [tuple(int(x) for x in x.split()) for x in apple.split('\\n')]\n",
    "    # 사과의 위치\n",
    "    info = [tuple(x.split()) for x in info.split('\\n')]\n",
    "    # 뱀 이동 방향 전환 정보\n",
    "    return simulation(snake, apple, info)"
   ]
  },
  {
   "cell_type": "code",
   "execution_count": 3,
   "metadata": {},
   "outputs": [],
   "source": [
    "N = 6\n",
    "K = 3\n",
    "apple = '''3 4\n",
    "2 5\n",
    "5 3'''\n",
    "L = 3\n",
    "info = '''3 D\n",
    "15 L\n",
    "17 D'''"
   ]
  },
  {
   "cell_type": "code",
   "execution_count": 4,
   "metadata": {},
   "outputs": [
    {
     "data": {
      "text/plain": [
       "9"
      ]
     },
     "execution_count": 4,
     "metadata": {},
     "output_type": "execute_result"
    }
   ],
   "source": [
    "solution(N, K, apple, L, info)"
   ]
  },
  {
   "cell_type": "code",
   "execution_count": 5,
   "metadata": {},
   "outputs": [],
   "source": [
    "N = 10\n",
    "K = 4\n",
    "apple = '''1 2\n",
    "1 3\n",
    "1 4\n",
    "1 5'''\n",
    "L = 4\n",
    "info = '''8 D\n",
    "10 D\n",
    "11 D\n",
    "13 L'''"
   ]
  },
  {
   "cell_type": "code",
   "execution_count": 6,
   "metadata": {},
   "outputs": [
    {
     "data": {
      "text/plain": [
       "21"
      ]
     },
     "execution_count": 6,
     "metadata": {},
     "output_type": "execute_result"
    }
   ],
   "source": [
    "solution(N, K, apple, L, info)"
   ]
  },
  {
   "cell_type": "code",
   "execution_count": 7,
   "metadata": {},
   "outputs": [],
   "source": [
    "N = 10\n",
    "K = 5\n",
    "apple = '''1 5\n",
    "1 3\n",
    "1 2\n",
    "1 6\n",
    "1 7'''\n",
    "L = 4\n",
    "info = '''8 D\n",
    "10 D\n",
    "11 D\n",
    "13 L'''"
   ]
  },
  {
   "cell_type": "code",
   "execution_count": 8,
   "metadata": {},
   "outputs": [
    {
     "data": {
      "text/plain": [
       "13"
      ]
     },
     "execution_count": 8,
     "metadata": {},
     "output_type": "execute_result"
    }
   ],
   "source": [
    "solution(N, K, apple, L, info)"
   ]
  }
 ],
 "metadata": {
  "kernelspec": {
   "display_name": "Python 3",
   "language": "python",
   "name": "python3"
  },
  "language_info": {
   "codemirror_mode": {
    "name": "ipython",
    "version": 3
   },
   "file_extension": ".py",
   "mimetype": "text/x-python",
   "name": "python",
   "nbconvert_exporter": "python",
   "pygments_lexer": "ipython3",
   "version": "3.6.9"
  }
 },
 "nbformat": 4,
 "nbformat_minor": 2
}
