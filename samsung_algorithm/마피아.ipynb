{
 "cells": [
  {
   "cell_type": "markdown",
   "metadata": {},
   "source": [
    "# 마피아"
   ]
  },
  {
   "cell_type": "markdown",
   "metadata": {},
   "source": [
    "[baekjoon의 '마피아' 링크](https://www.acmicpc.net/problem/1079)"
   ]
  },
  {
   "cell_type": "markdown",
   "metadata": {},
   "source": [
    "### 문제    \n",
    "은진이는 요즘 마피아라는 게임에 빠져 있다. 이 게임의 규칙은 다음과 같다.  \n",
    "  \n",
    "1. 참가자는 두 그룹으로 나누어진다. 한 그룹은 마피아이고, 또 다른 그룹은 선량한 시민이다. 마피아의 정체는 시민에게 알려져 있지 않다. 참가자의 번호는 0번부터 시작한다.\n",
    "2. 참가자가 짝수 명 남았을 때는 밤이다. 밤에는 마피아가 죽일 사람 한 명을 고른다. 죽은 사람은 게임에 더 이상 참여할 수 없다.  \n",
    "3. 참가자가 홀수 명 남았을 때는 낮이다. 낮에는 참가자들이 가장 죄가 있을 것 같은 사람 한 명을 죽인다.  \n",
    "4. 만약 게임에 마피아가 한 명도 안 남았다면, 그 게임은 시민 팀이 이긴 것이고, 시민이 한 명도 안 남았다면, 그 게임은 마피아 팀이 이긴 것이다. 게임은 즉시 종료된다.  \n",
    "  \n",
    "게임을 잠시 동안 한 후에 은진이는 지금 이 게임에서 자기가 마지막으로 남은 마피아라는 것을 알았다. 따라서 은진이는 이 게임을 이기기 위해 방법을 생각하기 시작했다.  \n",
    "  \n",
    "각 사람의 유죄 지수가 주어진다. 이 유죄 지수는 낮에 시민들이 어떤 참가자를 죽일 것인지 고를 때 쓰인다. 그리고 참가자 간의 반응을 나타내는 2차원 배열 R이 주어진다.  \n",
    "  \n",
    "게임은 다음과 같이 진행된다.  \n",
    "  \n",
    "1. 밤에는 마피아가 죽일 사람을 한 명 고른다. 이 경우 각 사람의 유죄 지수가 바뀐다. 만약 참가자 i가 죽었다면, 다른 참가자 j의 유죄 지수는 R[i][j]만큼 변한다.  \n",
    "2. 낮에는 현재 게임에 남아있는 사람 중에 유죄 지수가 가장 높은 사람을 죽인다. 그런 사람이 여러 명일 경우 그중 번호가 가장 작은 사람이 죽는다. 이 경우 유죄 지수는 바뀌지 않는다.  \n",
    "  \n",
    "은진이는 되도록이면 이 게임을 오래 하고 싶다. 은진이가 이 게임에 정말 천재적으로 임하여 매번 최적의 선택을 할 때, 몇 번의 밤이 지나는지 출력하는 프로그램을 작성하시오.  \n",
    "  \n",
    "### 입력  \n",
    "첫째 줄에 참가자의 수 N이 주어진다. 둘째 줄에는 각 참가자의 유죄 지수가 주어진다. 셋째 줄부터 N개의 줄에는 배열 R이 주어진다. 마지막 줄에는 은진이의 참가자 번호가 주어진다. N은 16보다 작거나 같은 자연수이고, 유죄 지수는 300보다 크거나 같고, 800보다 작거나 같은 자연수이다. R배열에 있는 수는 모두 절댓값이 1보다 크거나 같고 26보다 작거나 같은 정수이다.  \n",
    "  \n",
    "### 출력  \n",
    "첫째 줄에 문제의 정답을 출력한다.  \n",
    "  "
   ]
  },
  {
   "cell_type": "code",
   "execution_count": 1,
   "metadata": {},
   "outputs": [
    {
     "name": "stdout",
     "output_type": "stream",
     "text": [
      "4\n",
      "500 500 500 500\n",
      "1 4 3 -2\n",
      "-2 1 4 3\n",
      "3 -2 1 4\n",
      "4 3 -2 1\n",
      "1\n",
      "2\n"
     ]
    }
   ],
   "source": [
    "from copy import deepcopy\n",
    "\n",
    "def simulation(N, crime_factor, R, eunjin_num): # 마피아 시뮬레이션\n",
    "    if N <= 1: # 마피아 게임이 끝날 경우 0 반환\n",
    "        return 0\n",
    "    answer = 0 # 답\n",
    "    if N % 2 == 0: # 밤\n",
    "        answer += 1 # 밤 1일 증가\n",
    "        temp_answer = 0\n",
    "        for i in range(N): # 모든 사람들에 대해서 탐색\n",
    "            if eunjin_num == i: # 은진이는 제외하고\n",
    "                continue\n",
    "            if crime_factor[i] > 0: # 현재 살아있는 사람에 대해서\n",
    "                cp_crime_factor = deepcopy(crime_factor)\n",
    "                cp_crime_factor[i] = 0 # i번 사람을 죽인다.\n",
    "                for j in range(N):\n",
    "                    if i == j:\n",
    "                        continue\n",
    "                    cp_crime_factor[j] += R[i][j]\n",
    "                    # i를 죽일 경우 다른 사람의 유죄 지수를 수정\n",
    "                temp_answer = max(temp_answer, simulation(N-1, cp_crime_factor, R, eunjin_num))\n",
    "                # 재귀적으로 마피아 게임 계속 진행\n",
    "        answer += temp_answer # 은진이가 살 수 있는 최대 밤 수를 더한다.\n",
    "    else: # 낮\n",
    "        max_factor = 0 # 최대 유죄 지수\n",
    "        max_idx = 0 # 최대 유죄 지수를 갖는 사람의 번호\n",
    "        for i in range(N): # 모든 사람에 대해서\n",
    "            if crime_factor[i] == 0:\n",
    "                continue\n",
    "            if crime_factor[i] > max_factor:\n",
    "                max_factor = crime_factor[i]\n",
    "                max_idx = i\n",
    "                # 최대 유죄 지수를 갖는 사람을 찾는다.\n",
    "        if max_idx == eunjin_num: # 만약 최대 유죄 지수를 갖는 사람이 은진이일 때 0 반환\n",
    "            return 0\n",
    "        crime_factor[max_idx] = 0 # 최대 유죄 지수 갖는 사람을 죽인다.\n",
    "        answer += simulation(N-1, crime_factor, R, eunjin_num)\n",
    "        # 재귀적으로 마피아 게임 계속 진행\n",
    "    return answer # 답 반환\n",
    "\n",
    "N = int(input()) # 사람 수\n",
    "crime_factor = [int(x) for x in input().split()] # 유죄 지수\n",
    "R = [] # 유죄 지수 변경 행렬\n",
    "for _ in range(N):\n",
    "    R.append([int(x) for x in input().split()])\n",
    "eunjin_num = int(input()) # 은진이의 번호\n",
    "print(simulation(N, crime_factor, R, eunjin_num)) # 시뮬레이션 결과 출력"
   ]
  }
 ],
 "metadata": {
  "kernelspec": {
   "display_name": "Python 3",
   "language": "python",
   "name": "python3"
  },
  "language_info": {
   "codemirror_mode": {
    "name": "ipython",
    "version": 3
   },
   "file_extension": ".py",
   "mimetype": "text/x-python",
   "name": "python",
   "nbconvert_exporter": "python",
   "pygments_lexer": "ipython3",
   "version": "3.6.9"
  }
 },
 "nbformat": 4,
 "nbformat_minor": 2
}
