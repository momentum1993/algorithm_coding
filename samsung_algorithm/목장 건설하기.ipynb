{
 "cells": [
  {
   "cell_type": "markdown",
   "metadata": {},
   "source": [
    "# 목장 건설하기"
   ]
  },
  {
   "cell_type": "markdown",
   "metadata": {},
   "source": [
    "[baekjoon의 '목장 건설하기' 링크](https://www.acmicpc.net/problem/14925)"
   ]
  },
  {
   "cell_type": "markdown",
   "metadata": {},
   "source": [
    "### 문제  \n",
    "랜드 씨는 퇴직금으로 땅을 사서 목장을 지으려 한다.  그가 사려고 소개받은 땅은 직사각형이고 대부분 들판이지만, 여기저기에 베기 어려운 나무와 치울 수 없는 바위가 있다.\n",
    "\n",
    "그는 목장을 하나의 정사각형으로 최대한 크게 지으려 하는데, 그 안에 나무나 바위는 없어야 한다. \n",
    "\n",
    "땅의 세로 길이가 M미터, 가로 길이가 N미터일 때, 1미터 간격의 격자로 된 땅의 지도를 M x N행렬로 표현하자. \n",
    "\n",
    "이때, 행렬의 원소 0은 들판, 1은 나무 그리고 2는 돌을 의미한다.  랜드씨의 땅에서 지을 수 있는 가장 큰 정사각형 목장의 한 변의 크기 L을 출력하시오.\n",
    "\n",
    "### 입력\n",
    "~~~\n",
    "M N\n",
    "M x N 행렬\n",
    "~~~\n",
    "- 1 <= M <= 1000\n",
    "- 1 <= N <= 1000\n",
    "  \n",
    "### 출력  \n",
    "L  "
   ]
  },
  {
   "cell_type": "code",
   "execution_count": 2,
   "metadata": {},
   "outputs": [
    {
     "name": "stdout",
     "output_type": "stream",
     "text": [
      "6 6\n",
      "0 0 0 1 0 0\n",
      "0 0 0 2 1 0\n",
      "0 0 2 0 0 0\n",
      "0 1 0 0 0 0\n",
      "2 0 0 0 0 0\n",
      "0 0 0 0 0 0\n",
      "3\n"
     ]
    }
   ],
   "source": [
    "def check_possible(M, N, board, possible, y, x, size): # (y,x)좌표에서 size 크기의 정사각형을 만들 수 있는지 확인\n",
    "    if y+size > M or x+size > N: # 범위를 벗어날 때\n",
    "        possible[y][x][size] = False # (y, x) 좌표에서 size크기 만큼의 정사각형을 만들 수 없음을 저장\n",
    "        return possible[y][x][size]\n",
    "    if size % 2 == 0: # 사이즈가 짝수 일 때\n",
    "        possible[y][x][size] = possible[y][x][size//2] and possible[y+size//2][x][size//2] and possible[y][x+size//2][size//2] and possible[y+size//2][x+size//2][size//2]\n",
    "        # 정사각형을 size/2 크기의 정사각형으로 4등분하여 모두 성립될 경우 해당 size의 정사각형도 성립된다.\n",
    "    else: # 사이즈가 홀수 일 때\n",
    "        possible[y][x][size] = possible[y][x][size-1]\n",
    "        for i in range(size):\n",
    "            possible[y][x][size] &= possible[y+i][x+size-1][1] and possible[y+size-1][x+i][1]\n",
    "        # 정사각형을 size-1 크기의 정사각형과 1 크기의 정사각형들로 나누어 모두 성립될 경우 해당 size의 정사각형도 성립된다.\n",
    "    return possible[y][x][size] # (y, x) 좌표에서 size크기 정사각형의 성립 여부 반환 \n",
    "        \n",
    "        \n",
    "M, N = tuple(int(x) for x in input().split()) # 높이, 너비\n",
    "board = [] # 보드\n",
    "possible = [[[False for _ in range(max(N, M)+1)] for _ in range(N)] for _ in range(M)]\n",
    "# 해당좌표를 정사각형의 좌측상단 꼭짓점으로 하여 size크기의 정사각형이 성립되는지 여부\n",
    "for y in range(M):\n",
    "    row = [int(i) for i in input().split()]\n",
    "    for x in range(N):\n",
    "        if row[x] == 0: # (y, x) 칸이 빈칸일 때\n",
    "            possible[y][x][1] = True # (y, x) 좌표에서 1 크기의 정사각형이 성립됨을 갱신\n",
    "    board.append(row)\n",
    "size = 1 # 정사각형의 사이즈\n",
    "while True:\n",
    "    exist = False # 해당 사이즈의 정사각형 존재 여부\n",
    "    for y in range(M):\n",
    "        for x in range(N): # 보드상의 모든 좌표에 대해서\n",
    "            exist |= check_possible(M, N, board, possible, y, x, size+1)\n",
    "            # 해당 사이즈의 정사각형이 성립되는지 확인\n",
    "    if not exist: # 만약 해당 사이즈의 성립되는 정사각형이 없다면\n",
    "        break # 루프를 빠져나감\n",
    "    size += 1\n",
    "print(size) # 최대 정사각형의 사이즈 출력"
   ]
  }
 ],
 "metadata": {
  "kernelspec": {
   "display_name": "Python 3",
   "language": "python",
   "name": "python3"
  },
  "language_info": {
   "codemirror_mode": {
    "name": "ipython",
    "version": 3
   },
   "file_extension": ".py",
   "mimetype": "text/x-python",
   "name": "python",
   "nbconvert_exporter": "python",
   "pygments_lexer": "ipython3",
   "version": "3.6.9"
  }
 },
 "nbformat": 4,
 "nbformat_minor": 2
}
