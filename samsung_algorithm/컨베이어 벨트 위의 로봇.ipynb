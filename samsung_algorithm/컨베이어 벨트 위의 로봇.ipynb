{
 "cells": [
  {
   "cell_type": "markdown",
   "metadata": {},
   "source": [
    "# 컨베이어 벨트 위의 로봇"
   ]
  },
  {
   "cell_type": "markdown",
   "metadata": {},
   "source": [
    "[baekjoon의 '컨베이어 벨트 위의 로봇' 링크](https://www.acmicpc.net/problem/20055)"
   ]
  },
  {
   "cell_type": "markdown",
   "metadata": {},
   "source": [
    "### 문제  \n",
    "![](https://upload.acmicpc.net/2d0d6aba-da7d-45b0-a450-a47cc1016dc0/-/crop/512x358/0,79/-/preview/)  \n",
    "\n",
    "길이가 N인 컨베이어 벨트가 있고, 길이가 2N인 벨트가 이 컨베이어 벨트를 위아래로 감싸며 돌고 있다. 벨트는 길이 1 간격으로 2N개의 칸으로 나뉘어져 있으며, 각 칸에는 아래 그림과 같이 1부터 2N까지의 번호가 매겨져 있다.  \n",
    "  \n",
    "![](https://upload.acmicpc.net/396139ea-9079-4115-9a00-446865434900/-/preview/)  \n",
    "  \n",
    "벨트가 한 칸 회전하면 1번부터 2N-1번까지의 칸은 다음 번호의 칸이 있는 위치로 이동하고, 2N번 칸은 1번 칸의 위치로 이동한다. i번 칸의 내구도는 Ai이다. 위의 그림에서 1번 칸이 있는 위치를 \"올라가는 위치\", N번 칸이 있는 위치를 \"내려가는 위치\"라고 한다.  \n",
    "  \n",
    "컨베이어 벨트에 박스 모양 로봇을 하나씩 올리려고 한다. 로봇은 올라가는 위치에만 땅에서 올라가고, 내려가는 위치에서만 땅으로 내려갈 수 있다. 내려가는 위치에 로봇이 있는 경우 로봇은 반드시 땅으로 내려가야 한다. 로봇이 어떤 칸에 올라가거나 이동하면 그 칸의 내구도는 즉시 1만큼 감소한다. 내구도가 0인 칸에는 로봇이 올라갈 수 없다.  \n",
    "  \n",
    "로봇은 컨베이어 벨트 위에서 스스로 이동할 수 있다.  \n",
    "  \n",
    "컨베이어 벨트를 이용해 로봇들을 건너편으로 옮기려고 한다. 로봇을 옮기는 과정에서는 아래와 같은 일이 순서대로 일어난다.  \n",
    "  \n",
    "1. 벨트가 한 칸 회전한다.\n",
    "2. 가장 먼저 벨트에 올라간 로봇부터, 벨트가 회전하는 방향으로 한 칸 이동할 수 있다면 이동한다. 만약 이동할 수 없다면 가만히 있는다.\n",
    "    1. 로봇이 이동하기 위해서는 이동하려는 칸에 로봇이 없으며, 그 칸의 내구도가 1 이상 남아 있어야 한다.\n",
    "3. 올라가는 위치에 로봇이 없다면 로봇을 하나 올린다.\n",
    "4. 내구도가 0인 칸의 개수가 K개 이상이라면 과정을 종료한다. 그렇지 않다면 1번으로 돌아간다.  \n",
    "  \n",
    "종료되었을 때 몇 번째 단계가 진행 중이었는지 구해보자. 가장 처음 수행되는 단계는 1번째 단계이다.  \n",
    "  \n",
    "### 입력  \n",
    "첫째 줄에 N, K가 주어진다. 둘째 줄에는 $A_1, A_2, ..., A_{2N}$이 주어진다.  \n",
    "  \n",
    "### 출력  \n",
    "몇 번째 단계가 진행 중일때 종료되었는지 출력한다.  \n",
    "  \n",
    "### 제한  \n",
    "- 2 ≤ N ≤ 100\n",
    "- 1 ≤ K ≤ 2N\n",
    "- 1 ≤ $A_i$ ≤ 1,000  "
   ]
  },
  {
   "cell_type": "code",
   "execution_count": 1,
   "metadata": {
    "scrolled": true
   },
   "outputs": [
    {
     "name": "stdout",
     "output_type": "stream",
     "text": [
      "Testcase num: 4\n",
      "\n",
      "\n",
      "Input\n",
      "3 2\n",
      "1 2 1 2 1 2\n",
      "\n",
      "Output\n",
      "2\n",
      "\n",
      "\n",
      "Input\n",
      "3 6\n",
      "10 10 10 10 10 10\n",
      "\n",
      "Output\n",
      "31\n",
      "\n",
      "\n",
      "Input\n",
      "4 5\n",
      "10 1 10 6 3 4 8 2\n",
      "\n",
      "Output\n",
      "24\n",
      "\n",
      "\n",
      "Input\n",
      "5 8\n",
      "100 99 60 80 30 20 10 89 99 100\n",
      "\n",
      "Output\n",
      "472\n"
     ]
    }
   ],
   "source": [
    "T = int(input(\"Testcase num: \")) # 테스트케이스 개수\n",
    "for _ in range(T): # 각 테스트케이스에 대해서\n",
    "    print(\"\\n\\nInput\")\n",
    "    N, K = tuple(int(x) for x in input().split()) # N, K 입력\n",
    "    durability = [int(x) for x in input().split()] # 각 칸에 대한 내구도\n",
    "    \n",
    "    level = 1 # 단계\n",
    "    exist = [False for _ in range(2*N)] # 각 칸에 로봇 존재 여부\n",
    "    robots = [] # 현재 올라와 있는 로봇들\n",
    "    rotate_num = 0 # 회전 칸수\n",
    "    while True:\n",
    "        rotate_num %= 2*N\n",
    "        rotate_num += 1 # 컨베이어벨트를 1칸 회전한다\n",
    "        remove = [] # 땅으로 내려가야할 로봇 리스트\n",
    "        up_place = 2*N - rotate_num # 올라가는 위치\n",
    "        down_place = (up_place + (N-1))%(2*N) # 내려가는 위치\n",
    "        \n",
    "        for i in range(len(robots)): # 현재 벨트 위에 있는 모든 로봇에 대해서\n",
    "            if robots[i] == down_place: # 만약 내려가는 위치에 있다면\n",
    "                exist[robots[i]] = False\n",
    "                remove.append(robots[i]) \n",
    "                # 로봇의 존재여부를 False로 하고, 내려가는 로봇 리스트에 추가\n",
    "                # 그리고 다음 로봇 탐색\n",
    "                continue\n",
    "                \n",
    "            next_loc = (robots[i]+1)%(2*N) # 로봇이 이동할 다음 칸\n",
    "            if (not exist[next_loc]) and durability[next_loc] > 0: # 다음 칸에 로봇이 없고, 내구성이 0보다 크다면\n",
    "                exist[robots[i]] = False\n",
    "                durability[next_loc] -= 1\n",
    "                # 현재칸의 로봇 존재 여부를 False로 하고, 다음 칸의 내구도를 1 줄인다.\n",
    "                if durability[next_loc] == 0: # 다음 칸의 내구도가 0이 되었다면 K값을 1 줄인다\n",
    "                    K -= 1\n",
    "                if next_loc == down_place: # 만약 다음 칸이 내려가는 위치라면\n",
    "                    remove.append(robots[i])\n",
    "                    continue # 제거할 로봇 리스트에 추가하고 다음 로봇 탐색\n",
    "                exist[next_loc] = True # 다음 칸에 로봇이 존재함을 체크\n",
    "                robots[i] = next_loc # 현재 로봇의 위치를 다음 칸 인덱스로 갱신\n",
    "        for r in remove:\n",
    "            robots.remove(r)\n",
    "        # 내려가야할 로봇들을 모두 제거해준다.\n",
    "            \n",
    "        if (not exist[up_place]) and durability[up_place] > 0: # 올라가는 칸에 로봇이 없고, 내구도가 0보다 클 때\n",
    "            robots.append(up_place) # 로봇을 추가해준다.\n",
    "            exist[up_place] = True # 해당 칸에 로봇이 존재함을 체크\n",
    "            durability[up_place] -= 1 # 해당 칸의 내구도도 1 감소시킨다.\n",
    "            if durability[up_place] == 0: # 만약 내구도가 0이 되었다면 K값을 1 줄인다.\n",
    "                K -= 1\n",
    "                \n",
    "        if K <= 0: # K값이 0 이하가 되었을 때\n",
    "            break # 시뮬레이션 중지\n",
    "        level += 1 # 단계 1 증가\n",
    "    print(\"\\nOutput\")\n",
    "    print(level) # 단계 출력"
   ]
  }
 ],
 "metadata": {
  "kernelspec": {
   "display_name": "Python 3",
   "language": "python",
   "name": "python3"
  },
  "language_info": {
   "codemirror_mode": {
    "name": "ipython",
    "version": 3
   },
   "file_extension": ".py",
   "mimetype": "text/x-python",
   "name": "python",
   "nbconvert_exporter": "python",
   "pygments_lexer": "ipython3",
   "version": "3.6.9"
  }
 },
 "nbformat": 4,
 "nbformat_minor": 2
}
