{
 "cells": [
  {
   "cell_type": "markdown",
   "metadata": {},
   "source": [
    "# 톱니바퀴"
   ]
  },
  {
   "cell_type": "markdown",
   "metadata": {},
   "source": [
    "[baekjoon의 '톱니바퀴' 링크](https://www.acmicpc.net/problem/14891)"
   ]
  },
  {
   "cell_type": "markdown",
   "metadata": {},
   "source": [
    "### 문제  \n",
    "총 8개의 톱니를 가지고 있는 톱니바퀴 4개가 아래 그림과 같이 일렬로 놓여져 있다. 또, 톱니는 N극 또는 S극 중 하나를 나타내고 있다. 톱니바퀴에는 번호가 매겨져 있는데, 가장 왼쪽 톱니바퀴가 1번, 그 오른쪽은 2번, 그 오른쪽은 3번, 가장 오른쪽 톱니바퀴는 4번이다.\n",
    "  \n",
    "![](https://onlinejudgeimages.s3-ap-northeast-1.amazonaws.com/problem/14891/1.png)  \n",
    "  \n",
    "이때, 톱니바퀴를 총 K번 회전시키려고 한다. 톱니바퀴의 회전은 한 칸을 기준으로 한다. 회전은 시계 방향과 반시계 방향이 있고, 아래 그림과 같이 회전한다.  \n",
    "  \n",
    "![](https://onlinejudgeimages.s3-ap-northeast-1.amazonaws.com/problem/14891/2.png)  \n",
    "  \n",
    "![](https://onlinejudgeimages.s3-ap-northeast-1.amazonaws.com/problem/14891/3.png)  \n",
    "  \n",
    "톱니바퀴를 회전시키려면, 회전시킬 톱니바퀴와 회전시킬 방향을 결정해야 한다. 톱니바퀴가 회전할 때, 서로 맞닿은 극에 따라서 옆에 있는 톱니바퀴를 회전시킬 수도 있고, 회전시키지 않을 수도 있다. 톱니바퀴 A를 회전할 때, 그 옆에 있는 톱니바퀴 B와 서로 맞닿은 톱니의 극이 다르다면, B는 A가 회전한 방향과 반대방향으로 회전하게 된다. 예를 들어, 아래와 같은 경우를 살펴보자.  \n",
    "  \n",
    "![](https://onlinejudgeimages.s3-ap-northeast-1.amazonaws.com/problem/14891/4.png)  \n",
    "  \n",
    "두 톱니바퀴의 맞닿은 부분은 초록색 점선으로 묶여있는 부분이다. 여기서, 3번 톱니바퀴를 반시계 방향으로 회전했다면, 4번 톱니바퀴는 시계 방향으로 회전하게 된다. 2번 톱니바퀴는 맞닿은 부분이 S극으로 서로 같기 때문에, 회전하지 않게 되고, 1번 톱니바퀴는 2번이 회전하지 않았기 때문에, 회전하지 않게 된다. 따라서, 아래 그림과 같은 모양을 만들게 된다.  \n",
    "  \n",
    "![](https://onlinejudgeimages.s3-ap-northeast-1.amazonaws.com/problem/14891/5.png)  \n",
    "  \n",
    "위와 같은 상태에서 1번 톱니바퀴를 시계 방향으로 회전시키면, 2번 톱니바퀴가 반시계 방향으로 회전하게 되고, 2번이 회전하기 때문에, 3번도 동시에 시계 방향으로 회전하게 된다. 4번은 3번이 회전하지만, 맞닿은 극이 같기 때문에 회전하지 않는다. 따라서, 아래와 같은 상태가 된다.  \n",
    "  \n",
    "![](https://onlinejudgeimages.s3-ap-northeast-1.amazonaws.com/problem/14891/6.png)  \n",
    "  \n",
    "톱니바퀴의 초기 상태와 톱니바퀴를 회전시킨 방법이 주어졌을 때, 최종 톱니바퀴의 상태를 구하는 프로그램을 작성하시오.  \n",
    "  \n",
    "### 입력  \n",
    "첫째 줄에 1번 톱니바퀴의 상태, 둘째 줄에 2번 톱니바퀴의 상태, 셋째 줄에 3번 톱니바퀴의 상태, 넷째 줄에 4번 톱니바퀴의 상태가 주어진다. 상태는 8개의 정수로 이루어져 있고, 12시방향부터 시계방향 순서대로 주어진다. N극은 0, S극은 1로 나타나있다.  \n",
    "  \n",
    "다섯째 줄에는 회전 횟수 K(1 ≤ K ≤ 100)가 주어진다. 다음 K개 줄에는 회전시킨 방법이 순서대로 주어진다. 각 방법은 두 개의 정수로 이루어져 있고, 첫 번째 정수는 회전시킨 톱니바퀴의 번호, 두 번째 정수는 방향이다. 방향이 1인 경우는 시계 방향이고, -1인 경우는 반시계 방향이다.  \n",
    "  \n",
    "### 출력  \n",
    "총 K번 회전시킨 이후에 네 톱니바퀴의 점수의 합을 출력한다. 점수란 다음과 같이 계산한다.  \n",
    "  \n",
    "- 1번 톱니바퀴의 12시방향이 N극이면 0점, S극이면 1점  \n",
    "- 2번 톱니바퀴의 12시방향이 N극이면 0점, S극이면 2점  \n",
    "- 3번 톱니바퀴의 12시방향이 N극이면 0점, S극이면 4점  \n",
    "- 4번 톱니바퀴의 12시방향이 N극이면 0점, S극이면 8점    \n",
    "  "
   ]
  },
  {
   "cell_type": "code",
   "execution_count": 1,
   "metadata": {},
   "outputs": [],
   "source": [
    "def simulate_gears(gears, K, rotations):\n",
    "    l_contact = 6 # 왼쪽에 기어의 맞닿는 부분\n",
    "    r_contact = 2 # 오른쪽에 기어의 맞닿는 부분\n",
    "    \n",
    "    for num, direction in rotations: # 모든 회전에 대해서\n",
    "        directions = [0 for _ in range(4)] # 각 회전당 기어의 움직임\n",
    "        idx = num-1 # 명령이 내려진 해당 기어의 인덱스\n",
    "        directions[idx] = direction # 해당 기어에 대한 회전 방향\n",
    "        \n",
    "        s_direction = -direction # 명령된 기어와 맞닿는 기어에 대한 회전 방향\n",
    "        for s_idx in range(idx, 0, -1): # 명령 받은 기어의 왼쪽편 기어에 대해\n",
    "            if gears[s_idx][l_contact] != gears[s_idx-1][r_contact]: # 맞닿는 극이 다르면\n",
    "                directions[s_idx-1] = s_direction # 반대편으로 회전\n",
    "                s_direction *= -1\n",
    "            else:\n",
    "                break\n",
    "        s_direction = -direction  \n",
    "        for s_idx in range(idx, 3): # 명령 받은 기어의 오른쪽편 기어에 대해\n",
    "            if gears[s_idx][r_contact] != gears[s_idx+1][l_contact]: # 맞닿는 극이 다르면\n",
    "                directions[s_idx+1] = s_direction # 반대편으로 회전\n",
    "                s_direction *= -1\n",
    "            else:\n",
    "                break\n",
    "        \n",
    "        for i in range(4): # 계산된 명령에 따라 모든 톱니바퀴에 대해 회전시킴\n",
    "            if directions[i] == 1: # 시계방향\n",
    "                gears[i] = gears[i][-1:] + gears[i][:-1]\n",
    "            elif directions[i] == -1: # 반시계방향\n",
    "                gears[i] = gears[i][1:] + gears[i][:1]\n",
    "    return \n",
    "\n",
    "def cal_count(gears, K, rotations):\n",
    "    answer = 0\n",
    "    simulate_gears(gears, K, rotations) # 명령에 대한 톱니바퀴를 모두 회전\n",
    "    for i in range(len(gears)): # 그 이후 점수 배점에 대해\n",
    "        if gears[i][0] == 1: # 12시 방향이 S극 일 때 점수 추가\n",
    "            answer += pow(2,i)\n",
    "    return answer # 답 반환\n",
    "\n",
    "def solution(gears, K, rotations):\n",
    "    gears = [[int(x) for x in x] for x in gears.split(\"\\n\")]\n",
    "    rotations = [[int(x) for x in x.split()] for x in rotations.split(\"\\n\")]\n",
    "    return cal_count(gears, K, rotations)"
   ]
  },
  {
   "cell_type": "code",
   "execution_count": 2,
   "metadata": {},
   "outputs": [],
   "source": [
    "gears = '''10101111\n",
    "01111101\n",
    "11001110\n",
    "00000010'''\n",
    "K = 2\n",
    "rotations = '''3 -1\n",
    "1 1'''"
   ]
  },
  {
   "cell_type": "code",
   "execution_count": 3,
   "metadata": {},
   "outputs": [
    {
     "data": {
      "text/plain": [
       "7"
      ]
     },
     "execution_count": 3,
     "metadata": {},
     "output_type": "execute_result"
    }
   ],
   "source": [
    "solution(gears, K, rotations)"
   ]
  },
  {
   "cell_type": "code",
   "execution_count": 4,
   "metadata": {},
   "outputs": [],
   "source": [
    "gears = '''11111111\n",
    "11111111\n",
    "11111111\n",
    "11111111'''\n",
    "K = 3\n",
    "rotations = '''1 1\n",
    "2 1\n",
    "3 1'''"
   ]
  },
  {
   "cell_type": "code",
   "execution_count": 5,
   "metadata": {},
   "outputs": [
    {
     "data": {
      "text/plain": [
       "15"
      ]
     },
     "execution_count": 5,
     "metadata": {},
     "output_type": "execute_result"
    }
   ],
   "source": [
    "solution(gears, K, rotations)"
   ]
  },
  {
   "cell_type": "code",
   "execution_count": 6,
   "metadata": {},
   "outputs": [],
   "source": [
    "gears = '''10001011\n",
    "10000011\n",
    "01011011\n",
    "00111101'''\n",
    "K = 5\n",
    "rotations = '''1 1\n",
    "2 1\n",
    "3 1\n",
    "4 1\n",
    "1 -1'''"
   ]
  },
  {
   "cell_type": "code",
   "execution_count": 7,
   "metadata": {},
   "outputs": [
    {
     "data": {
      "text/plain": [
       "6"
      ]
     },
     "execution_count": 7,
     "metadata": {},
     "output_type": "execute_result"
    }
   ],
   "source": [
    "solution(gears, K, rotations)"
   ]
  },
  {
   "cell_type": "code",
   "execution_count": 8,
   "metadata": {},
   "outputs": [],
   "source": [
    "gears = '''10010011\n",
    "01010011\n",
    "11100011\n",
    "01010101'''\n",
    "K = 8\n",
    "rotations = '''1 1\n",
    "2 1\n",
    "3 1\n",
    "4 1\n",
    "1 -1\n",
    "2 -1\n",
    "3 -1\n",
    "4 -1'''"
   ]
  },
  {
   "cell_type": "code",
   "execution_count": 9,
   "metadata": {},
   "outputs": [
    {
     "data": {
      "text/plain": [
       "5"
      ]
     },
     "execution_count": 9,
     "metadata": {},
     "output_type": "execute_result"
    }
   ],
   "source": [
    "solution(gears, K, rotations)"
   ]
  }
 ],
 "metadata": {
  "kernelspec": {
   "display_name": "Python 3",
   "language": "python",
   "name": "python3"
  },
  "language_info": {
   "codemirror_mode": {
    "name": "ipython",
    "version": 3
   },
   "file_extension": ".py",
   "mimetype": "text/x-python",
   "name": "python",
   "nbconvert_exporter": "python",
   "pygments_lexer": "ipython3",
   "version": "3.6.9"
  }
 },
 "nbformat": 4,
 "nbformat_minor": 2
}
