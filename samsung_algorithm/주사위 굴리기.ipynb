{
 "cells": [
  {
   "cell_type": "markdown",
   "metadata": {},
   "source": [
    "# 주사위 굴리기"
   ]
  },
  {
   "cell_type": "markdown",
   "metadata": {},
   "source": [
    "[baekjoon의 '주사위 굴리기' 링크](https://www.acmicpc.net/problem/14499)"
   ]
  },
  {
   "cell_type": "markdown",
   "metadata": {},
   "source": [
    "### 문제  \n",
    "크기가 N×M인 지도가 존재한다. 지도의 오른쪽은 동쪽, 위쪽은 북쪽이다. 이 지도의 위에 주사위가 하나 놓여져 있으며, 주사위의 전개도는 아래와 같다. 지도의 좌표는 (r, c)로 나타내며, r는 북쪽으로부터 떨어진 칸의 개수, c는 서쪽으로부터 떨어진 칸의 개수이다. \n",
    " \n",
    "~~~\n",
    "  2  \n",
    "4 1 3  \n",
    "  5  \n",
    "  6  \n",
    "~~~\n",
    "  \n",
    "주사위는 지도 위에 윗 면이 1이고, 동쪽을 바라보는 방향이 3인 상태로 놓여져 있으며, 놓여져 있는 곳의 좌표는 (x, y) 이다. 가장 처음에 주사위에는 모든 면에 0이 적혀져 있다.  \n",
    "  \n",
    "지도의 각 칸에는 정수가 하나씩 쓰여져 있다. 주사위를 굴렸을 때, 이동한 칸에 쓰여 있는 수가 0이면, 주사위의 바닥면에 쓰여 있는 수가 칸에 복사된다. 0이 아닌 경우에는 칸에 쓰여 있는 수가 주사위의 바닥면으로 복사되며, 칸에 쓰여 있는 수는 0이 된다.  \n",
    "  \n",
    "주사위를 놓은 곳의 좌표와 이동시키는 명령이 주어졌을 때, 주사위가 이동했을 때 마다 상단에 쓰여 있는 값을 구하는 프로그램을 작성하시오.  \n",
    "  \n",
    "주사위는 지도의 바깥으로 이동시킬 수 없다. 만약 바깥으로 이동시키려고 하는 경우에는 해당 명령을 무시해야 하며, 출력도 하면 안 된다.  \n",
    "  \n",
    "### 입력  \n",
    "첫째 줄에 지도의 세로 크기 N, 가로 크기 M (1 ≤ N, M ≤ 20), 주사위를 놓은 곳의 좌표 x y(0 ≤ x ≤ N-1, 0 ≤ y ≤ M-1), 그리고 명령의 개수 K (1 ≤ K ≤ 1,000)가 주어진다.  \n",
    "  \n",
    "둘째 줄부터 N개의 줄에 지도에 쓰여 있는 수가 북쪽부터 남쪽으로, 각 줄은 서쪽부터 동쪽 순서대로 주어진다. 주사위를 놓은 칸에 쓰여 있는 수는 항상 0이다. 지도의 각 칸에 쓰여 있는 수는 10을 넘지 않는 자연수 또는 0이다.  \n",
    "  \n",
    "마지막 줄에는 이동하는 명령이 순서대로 주어진다. 동쪽은 1, 서쪽은 2, 북쪽은 3, 남쪽은 4로 주어진다.  \n",
    "  \n",
    "### 출력    \n",
    "이동할 때마다 주사위의 윗 면에 쓰여 있는 수를 출력한다. 만약 바깥으로 이동시키려고 하는 경우에는 해당 명령을 무시해야 하며, 출력도 하면 안 된다.  "
   ]
  },
  {
   "cell_type": "code",
   "execution_count": 1,
   "metadata": {},
   "outputs": [],
   "source": [
    "#   0\n",
    "# 4 1 5\n",
    "#   2\n",
    "#   3\n",
    "# 주사위 인덱스\n",
    "direction = [(0,1),(0,-1),(-1,0),(1,0)] # 동, 서, 북, 남\n",
    "\n",
    "\n",
    "\n",
    "def rolling_dice(dice, command): # 주사위 굴린 방향에 따라 값을 갱신해줌  \n",
    "    ndice = [None for _ in range(6)]\n",
    "    if command == 0: # 동\n",
    "        ndice[0] = dice[0]\n",
    "        ndice[5] = dice[1]\n",
    "        ndice[2] = dice[2]\n",
    "        ndice[4] = dice[3]\n",
    "        ndice[1] = dice[4]\n",
    "        ndice[3] = dice[5]\n",
    "    elif command == 1: # 서\n",
    "        ndice[0] = dice[0]\n",
    "        ndice[4] = dice[1]\n",
    "        ndice[2] = dice[2]\n",
    "        ndice[5] = dice[3]\n",
    "        ndice[3] = dice[4]\n",
    "        ndice[1] = dice[5]\n",
    "    elif command == 2: # 북\n",
    "        ndice[3] = dice[0]\n",
    "        ndice[0] = dice[1]\n",
    "        ndice[1] = dice[2]\n",
    "        ndice[2] = dice[3]\n",
    "        ndice[4] = dice[4]\n",
    "        ndice[5] = dice[5]\n",
    "    elif command == 3: # 남\n",
    "        ndice[1] = dice[0]\n",
    "        ndice[2] = dice[1]\n",
    "        ndice[3] = dice[2]\n",
    "        ndice[0] = dice[3]\n",
    "        ndice[4] = dice[4]\n",
    "        ndice[5] = dice[5]\n",
    "    dice = ndice\n",
    "    return dice\n",
    "\n",
    "def solution(N, M, y, x, K, board, commands):\n",
    "    dice = [0, 0, 0, 0, 0, 0] # 주사위\n",
    "    board = [[int(j) for j in i.split()] for i in board.split(\"\\n\")] # 보드\n",
    "    commands = [int(i)-1 for i in commands.split()] # 명령\n",
    "    \n",
    "    for i in commands: # 명령 실행\n",
    "        y_add, x_add = direction[i]\n",
    "        if y+y_add >= N or y+y_add < 0 or x+x_add >= M or x+x_add < 0:\n",
    "            continue # 보드를 넘어가면 무시\n",
    "    \n",
    "        if board[y][x] == 0: # 보드의 값이 0일 때\n",
    "            board[y][x] = dice[3] # 주사위 바닥면의 값을 복사\n",
    "        else: # 보드의 값이 0이 아닐 때\n",
    "            dice[3] = board[y][x] # 주사위 바닥면에 값을 복사\n",
    "            board[y][x] = 0 # 그리고 해당 바닥면의 값은 0이 된다.\n",
    "            \n",
    "        dice = rolling_dice(dice, i) # 해당 방향으로 주사위를 굴린다.\n",
    "        \n",
    "        y += y_add # 그리고 현재 주사위가 위치한 좌표 갱신\n",
    "        x += x_add\n",
    "\n",
    "        print(dice[1]) # 그리고 위로 향하고 있는 주사위면의 값을 출력\n",
    "    return"
   ]
  },
  {
   "cell_type": "code",
   "execution_count": 2,
   "metadata": {},
   "outputs": [],
   "source": [
    "N, M, x, y, K = 4, 2, 0, 0, 8\n",
    "board = '''0 2\n",
    "3 4\n",
    "5 6\n",
    "7 8'''\n",
    "commands = \"4 4 4 1 3 3 3 2\""
   ]
  },
  {
   "cell_type": "code",
   "execution_count": 3,
   "metadata": {},
   "outputs": [
    {
     "name": "stdout",
     "output_type": "stream",
     "text": [
      "0\n",
      "0\n",
      "3\n",
      "0\n",
      "0\n",
      "8\n",
      "6\n",
      "3\n"
     ]
    }
   ],
   "source": [
    "solution(N, M, y, x, K, board, commands)"
   ]
  },
  {
   "cell_type": "code",
   "execution_count": 4,
   "metadata": {},
   "outputs": [],
   "source": [
    "N, M, x, y, K = 3, 3, 1, 1, 9\n",
    "board = '''1 2 3\n",
    "4 0 5\n",
    "6 7 8'''\n",
    "commands = \"1 3 2 2 4 4 1 1 3\""
   ]
  },
  {
   "cell_type": "code",
   "execution_count": 5,
   "metadata": {},
   "outputs": [
    {
     "name": "stdout",
     "output_type": "stream",
     "text": [
      "0\n",
      "0\n",
      "0\n",
      "3\n",
      "0\n",
      "1\n",
      "0\n",
      "6\n",
      "0\n"
     ]
    }
   ],
   "source": [
    "solution(N, M, y, x, K, board, commands)"
   ]
  },
  {
   "cell_type": "code",
   "execution_count": 6,
   "metadata": {},
   "outputs": [],
   "source": [
    "N, M, x, y, K = 2, 2, 0, 0, 16\n",
    "board = '''0 2\n",
    "3 4'''\n",
    "commands = '''4 4 4 4 1 1 1 1 3 3 3 3 2 2 2 2'''"
   ]
  },
  {
   "cell_type": "code",
   "execution_count": 7,
   "metadata": {},
   "outputs": [
    {
     "name": "stdout",
     "output_type": "stream",
     "text": [
      "0\n",
      "0\n",
      "0\n",
      "0\n"
     ]
    }
   ],
   "source": [
    "solution(N, M, y, x, K, board, commands)"
   ]
  },
  {
   "cell_type": "code",
   "execution_count": 8,
   "metadata": {},
   "outputs": [],
   "source": [
    "N, M, x, y, K = 3, 3, 0, 0, 16\n",
    "board = '''0 1 2\n",
    "3 4 5\n",
    "6 7 8'''\n",
    "commands = \"4 4 1 1 3 3 2 2 4 4 1 1 3 3 2 2\""
   ]
  },
  {
   "cell_type": "code",
   "execution_count": 9,
   "metadata": {
    "scrolled": true
   },
   "outputs": [
    {
     "name": "stdout",
     "output_type": "stream",
     "text": [
      "0\n",
      "0\n",
      "0\n",
      "6\n",
      "0\n",
      "8\n",
      "0\n",
      "2\n",
      "0\n",
      "8\n",
      "0\n",
      "2\n",
      "0\n",
      "8\n",
      "0\n",
      "2\n"
     ]
    }
   ],
   "source": [
    "solution(N, M, y, x, K, board, commands)"
   ]
  }
 ],
 "metadata": {
  "kernelspec": {
   "display_name": "Python 3",
   "language": "python",
   "name": "python3"
  },
  "language_info": {
   "codemirror_mode": {
    "name": "ipython",
    "version": 3
   },
   "file_extension": ".py",
   "mimetype": "text/x-python",
   "name": "python",
   "nbconvert_exporter": "python",
   "pygments_lexer": "ipython3",
   "version": "3.6.9"
  }
 },
 "nbformat": 4,
 "nbformat_minor": 2
}
