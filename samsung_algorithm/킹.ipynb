{
 "cells": [
  {
   "cell_type": "markdown",
   "metadata": {},
   "source": [
    "# 킹"
   ]
  },
  {
   "cell_type": "markdown",
   "metadata": {},
   "source": [
    "[baekjoon의 '킹' 링크](https://www.acmicpc.net/problem/1063)"
   ]
  },
  {
   "cell_type": "markdown",
   "metadata": {},
   "source": [
    "### 문제    \n",
    "8\\*8크기의 체스판에 왕이 하나 있다. 킹의 현재 위치가 주어진다. 체스판에서 말의 위치는 다음과 같이 주어진다. 알파벳 하나와 숫자 하나로 이루어져 있는데, 알파벳은 열을 상징하고, 숫자는 행을 상징한다. 열은 가장 왼쪽 열이 A이고, 가장 오른쪽 열이 H까지 이고, 행은 가장 아래가 1이고 가장 위가 8이다. 예를 들어, 왼쪽 아래 코너는 A1이고, 그 오른쪽 칸은 B1이다.  \n",
    "  \n",
    "킹은 다음과 같이 움직일 수 있다.  \n",
    "  \n",
    "- R : 한 칸 오른쪽으로  \n",
    "- L : 한 칸 왼쪽으로  \n",
    "- B : 한 칸 아래로  \n",
    "- T : 한 칸 위로  \n",
    "- RT : 오른쪽 위 대각선으로  \n",
    "- LT : 왼쪽 위 대각선으로  \n",
    "- RB : 오른쪽 아래 대각선으로  \n",
    "- LB : 왼쪽 아래 대각선으로  \n",
    "  \n",
    "체스판에는 돌이 하나 있는데, 돌과 같은 곳으로 이동할 때는, 돌을 킹이 움직인 방향과 같은 방향으로 한 칸 이동시킨다. 아래 그림을 참고하자.  \n",
    "  \n",
    "![](https://www.acmicpc.net/upload/201003/abc.JPG)  \n",
    "  \n",
    "입력으로 킹이 어떻게 움직여야 하는지 주어진다. 입력으로 주어진 대로 움직여서 킹이나 돌이 체스판 밖으로 나갈 경우에는 그 이동은 건너 뛰고 다음 이동을 한다.  \n",
    "  \n",
    "킹과 돌의 마지막 위치를 구하는 프로그램을 작성하시오.  \n",
    "  \n",
    "### 입력  \n",
    "첫째 줄에 킹의 위치, 돌의 위치, 움직이는 횟수 N이 주어진다. 둘째 줄부터 N개의 줄에는 킹이 어떻게 움직어여 하는지 주어진다. N은 50보다 작거나 같은 자연수이고, 움직이는 정보는 위에 쓰여 있는 8가지 중 하나이다.  \n",
    "  \n",
    "### 출력  \n",
    "첫째 줄에 킹의 마지막 위치, 둘째 줄에 돌의 마지막 위치를 출력한다.  \n",
    "  "
   ]
  },
  {
   "cell_type": "code",
   "execution_count": 5,
   "metadata": {},
   "outputs": [
    {
     "name": "stdout",
     "output_type": "stream",
     "text": [
      "Input\n",
      "King, Rock, N: A1 A2 5\n",
      "B\n",
      "L\n",
      "LB\n",
      "RB\n",
      "LT\n",
      "\n",
      "Output\n",
      "A1\n",
      "A2\n"
     ]
    }
   ],
   "source": [
    "directions = {'R':(0,1), 'L':(0,-1), 'B':(1,0), 'T':(-1,0), 'RT':(-1,1), 'LT':(-1,-1), 'RB':(1,1), 'LB':(1,-1)}\n",
    "# 방향에 따른 이동\n",
    "col = { 'A':0, 'B':1, 'C':2, 'D':3, 'E':4, 'F':5, 'G':6, 'H':7 }\n",
    "# 알파벳당 열 인덱스\n",
    "print(\"Input\")\n",
    "K, R, N = input(\"King, Rock, N: \").split()\n",
    "# 왕 위치, 돌 위치, 이동횟수\n",
    "N = int(N)\n",
    "k_y, k_x = 8-int(K[1]), col[K[0]] # 왕 위치\n",
    "r_y, r_x = 8-int(R[1]), col[R[0]] # 돌 위치\n",
    "for i in range(N):\n",
    "    add_y, add_x = directions[input()] # 이동 방향\n",
    "    if 0 <= k_y + add_y < 8 and 0 <= k_x + add_x < 8: # 왕이 이동가능할 때\n",
    "        if k_y + add_y == r_y and k_x + add_x == r_x and 0 <= r_y + add_y < 8 and 0 <= r_x + add_x < 8:\n",
    "        # 만약 왕이 이동하는 위치가 돌이 있는 곳이고, 돌 또한 같은 방향으로 이동가능 할 때\n",
    "            r_y += add_y\n",
    "            r_x += add_x\n",
    "            k_y += add_y\n",
    "            k_x += add_x\n",
    "            # 왕과 돌 모두 이동\n",
    "        else:  # 아닐 경우\n",
    "            k_y += add_y\n",
    "            k_x += add_x\n",
    "            # 왕 이동\n",
    "\n",
    "k_y = str(8-k_y)\n",
    "r_y = str(8-r_y)\n",
    "for k,v in col.items():\n",
    "    if v == k_x:\n",
    "        k_x = k\n",
    "    if v == r_x:\n",
    "        r_x = k\n",
    "    # 왕과 돌의 열 인덱스를 알파벳으로 바꿈\n",
    "print(\"\\nOutput\")\n",
    "print(k_x+k_y) # 왕 위치 출력\n",
    "print(r_x+r_y) # 돌 위치 출력"
   ]
  }
 ],
 "metadata": {
  "kernelspec": {
   "display_name": "Python 3",
   "language": "python",
   "name": "python3"
  },
  "language_info": {
   "codemirror_mode": {
    "name": "ipython",
    "version": 3
   },
   "file_extension": ".py",
   "mimetype": "text/x-python",
   "name": "python",
   "nbconvert_exporter": "python",
   "pygments_lexer": "ipython3",
   "version": "3.6.9"
  }
 },
 "nbformat": 4,
 "nbformat_minor": 2
}
