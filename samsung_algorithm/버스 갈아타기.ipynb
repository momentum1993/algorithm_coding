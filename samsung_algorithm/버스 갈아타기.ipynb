{
 "cells": [
  {
   "cell_type": "markdown",
   "metadata": {},
   "source": [
    "# 버스 갈아타기"
   ]
  },
  {
   "cell_type": "markdown",
   "metadata": {},
   "source": [
    "[baekjoon의 '버스 갈아타기' 링크](https://www.acmicpc.net/problem/2536)"
   ]
  },
  {
   "cell_type": "markdown",
   "metadata": {},
   "source": [
    "### 문제   \n",
    "2차원 평면상에 m개의 수직선과 n개의 수평선으로 이루어진 격자 형태의 도로망이 있다. 아래 그림은 7개의 수직선과 6개의 수평선으로 이루어진 도로망의 예이다.  \n",
    "  \n",
    "![](https://www.acmicpc.net/upload/images/cvtghn.png)  \n",
    "  \n",
    "수직선과 수평선이 만나는 교차점들 중 가장 왼쪽 아래 점의 위치는 (1,1)이고, 가장 오른쪽 위 점의 좌표는 (m,n)이다. 이 도로망을 운행하는 버스들이 k개 있고, 각  버스는 하나의 수평선 상의 두 교차점 사이 선분이나 하나의 수직선 상의 두 교차점 사이 선분을 왕복 운행한다. 각 버스는 운행하는 선분 사이의 모든 교차점(선분의 양 끝 교차점 포함)에서 정차한다.   \n",
    "  \n",
    "출발지 교차점과 목적지 교차점 (출발지와 목적지는 다름)이 주어질 때, 출발지에서 목적지로 버스만을 이용하여 가려고 한다. 이용하는 버스의 최소 수를 구하는 프로그램을 작성하시오.  \n",
    "  \n",
    "예를 들어,  8대의 버스가 다음과 같이 운행한다고 하자.  \n",
    "  \n",
    "1번 버스: (2, 1) - (2, 2)  \n",
    "  \n",
    "2번 버스: (1, 1) - (5, 1)  \n",
    "  \n",
    "3번 버스: (3, 2) - (6, 2)  \n",
    "  \n",
    "4번 버스: (5, 6) - (5, 1)  \n",
    "  \n",
    "5번 버스: (1, 5) - (7, 5)  \n",
    "  \n",
    "6번 버스: (7, 3) - (7, 6)   \n",
    "  \n",
    "7번 버스: (2, 1) - (2, 6)  \n",
    "  \n",
    "8번 버스: (3, 5) - (6, 5)  \n",
    "  \n",
    "출발지가 (2, 1)이고 목적지가 (7, 4)라 하자. 한 가지 방법으로, 처음에 2번 버스를 타고 교차점 (5, 1)에서 내려, 4번 버스를 타고 (5, 5)에서 내리고, 5번 버스를 탄 후 (7, 5)에서 내려, 마지막으로 6번 버스를 타서 목적지 (7, 4)에서 내린다. 그러면 이용하는 버스 수는 4이다. 다른 방법으로, 7번 버스를 타고 (2, 5)에서 내려, 5번 버스를 타고 (7, 5)에서 내린 후, 마지막으로 6번 버스를 타서 목적지 (7, 4)에서 내린다. 그러면 이용하는 버스 수는 3이고 이것이 최소이다.  \n",
    "  \n",
    "### 입력  \n",
    "첫 번째 줄에 수직선의 수 m과 수평선의 수 n이 빈칸을 사이에 두고 주어진다 (1 ≤ m,n ≤ 100,000). 두 번째 줄에 버스의 수 k (1 ≤ k ≤ 5,000)가 주어진다. 세 번째 줄부터 k 줄에 걸쳐 각 줄에 버스의 운행구간을 나타내는 5개의 수 b, x1, y1, x2, y2가 빈칸을 사이에 두고 주어진다. 여기서 b (1 ≤ b ≤ k) 는 버스의 번호, (x1,y1) 과 (x2, y2)는 이 버스가 운행하는 양쪽 끝 교차점의 좌표를 나타낸다. 마지막 줄에 출발지와 목적지 좌표를 나타내는 네 개의 수 sx, sy, dx, dy가 빈칸을 사이에 두고 주어진다. 여기서 (sx, sy)는 출발지 좌표이고 (dx, dy)는 목적지 좌표이다.  1 ≤ x1, x2, sx, dx ≤ m이고, 1 ≤ y1, y2, sy, dy ≤ n이다.  \n",
    "  \n",
    "모든 입력에 대하여, 출발지와 목적지는 다르게 주어지며 출발지에서 목적지로 가는 방법은 한 가지 이상 존재한다.  \n",
    "  \n",
    "### 출력  \n",
    "첫째 줄에 이용하는 최소 버스 수를 출력한다.  "
   ]
  },
  {
   "cell_type": "code",
   "execution_count": 1,
   "metadata": {},
   "outputs": [
    {
     "name": "stdout",
     "output_type": "stream",
     "text": [
      "7 6\n",
      "8\n",
      "1 2 1 2 2\n",
      "2 1 1 5 1\n",
      "6 7 3 7 6\n",
      "7 2 1 2 6\n",
      "3 3 2 6 2\n",
      "4 5 6 5 1\n",
      "5 1 5 7 5\n",
      "8 3 5 6 5\n",
      "2 1 7 4\n",
      "3\n"
     ]
    }
   ],
   "source": [
    "from queue import PriorityQueue\n",
    "\n",
    "def simulation(k, bus_info, bus_map, s_x, s_y, d_x, d_y): # 시뮬레이션\n",
    "    q = PriorityQueue() # 우선순위 큐\n",
    "    q.put((0, s_y, s_x, -1)) # 지나간 버스 노선 개수, 현재 y좌표, 현재 x좌표, 이전에 탄 버스\n",
    "    while not q.empty():\n",
    "        count, y, x, before_idx = q.get() # 지나간 버스 노선 개수, 현재 y좌표, 현재 x좌표, 이전에 탄 버스\n",
    "        if y == d_y and x == d_x: # 도착점에 도착했다면 지나친 노선 개수 반환\n",
    "            return count\n",
    "        for idx in bus_map[y][x]: # 현재 위치에서 탈 수 있는 모든 버스들 중에서\n",
    "            if before_idx == idx: # 바로 전에 탄 버스를 제외하고\n",
    "                continue\n",
    "            x_1, y_1, x_2, y_2 = bus_info[idx] # 버스 노선 정보를 갖고온다.\n",
    "            # 버스가 지나가는 모든 위치에 대해서\n",
    "            if x_1 == x_2:\n",
    "                for sub_y in range(y_1, y_2+1): \n",
    "                    if sub_y == y and x_1 == x: # 현재 위치를 제외하고\n",
    "                        continue\n",
    "                    for i in bus_map[sub_y][x_1]: \n",
    "                        if i == before_idx:\n",
    "                            continue\n",
    "                        q.put((count+1, sub_y, x_1, i)) # 다른 버스가 있다면 갈아탄다.\n",
    "            else:\n",
    "                for sub_x in range(x_1, x_2+1):\n",
    "                    if y == y_1 and x == sub_x: # 현재 위치를 제외하고\n",
    "                        continue\n",
    "                    for i in bus_map[y_1][sub_x]:\n",
    "                        if i == before_idx:\n",
    "                            continue\n",
    "                        q.put((count+1, y_1, sub_x, i)) # 다른 버스가 있다면 갈아탄다.\n",
    "    return -1\n",
    "    \n",
    "\n",
    "m, n = tuple(int(x) for x in input().split()) # 열, 행\n",
    "bus_info = [] # 버스 노선도\n",
    "bus_map = [[[] for _ in range(m)] for _ in range(n)] # 위치별 지나가는 버스\n",
    "k = int(input()) # 노선 개수\n",
    "for i in range(k):\n",
    "    b, x_1, y_1, x_2, y_2 = tuple(int(x)-1 for x in input().split())\n",
    "    bus_info.append((x_1, y_1, x_2, y_2)) # 노선에 대한 정보 저장\n",
    "    if x_1 == x_2:\n",
    "        for y in range(y_1, y_2+1):\n",
    "            bus_map[y][x_1].append(i)\n",
    "    else:\n",
    "        for x in range(x_1, x_2+1):\n",
    "            bus_map[y_1][x].append(i)\n",
    "    # 위치에 따른 지나가는 버스 추가\n",
    "    \n",
    "s_x, s_y, d_x, d_y = tuple(int(x)-1 for x in input().split())\n",
    "# 출발점, 도착점\n",
    "print(simulation(k, bus_info, bus_map, s_x, s_y, d_x, d_y))"
   ]
  }
 ],
 "metadata": {
  "kernelspec": {
   "display_name": "Python 3",
   "language": "python",
   "name": "python3"
  },
  "language_info": {
   "codemirror_mode": {
    "name": "ipython",
    "version": 3
   },
   "file_extension": ".py",
   "mimetype": "text/x-python",
   "name": "python",
   "nbconvert_exporter": "python",
   "pygments_lexer": "ipython3",
   "version": "3.6.9"
  }
 },
 "nbformat": 4,
 "nbformat_minor": 2
}
