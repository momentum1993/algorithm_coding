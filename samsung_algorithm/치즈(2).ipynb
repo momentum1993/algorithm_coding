{
 "cells": [
  {
   "cell_type": "markdown",
   "metadata": {},
   "source": [
    "# 치즈(2)"
   ]
  },
  {
   "cell_type": "markdown",
   "metadata": {},
   "source": [
    "[baekjoon의 '치즈(2)' 링크](https://www.acmicpc.net/problem/2638)"
   ]
  },
  {
   "cell_type": "markdown",
   "metadata": {},
   "source": [
    "### 문제   \n",
    "N×M (5≤N, M≤100)의 모눈종이 위에 아주 얇은 치즈가 <그림 1>과 같이 표시되어 있다. 단, N 은 세로 격자의 수이고, M 은 가로 격자의 수이다. 이 치즈는 냉동 보관을 해야만 하는데 실내온도에 내어놓으면 공기와 접촉하여 천천히 녹는다. 그런데 이러한 모눈종이 모양의 치즈에서 각 치즈 격자(작 은 정사각형 모양)의 4변 중에서 적어도 2변 이상이 실내온도의 공기와 접촉한 것은 정확히 한시간만에 녹아 없어져 버린다. 따라서 아래 <그림 1> 모양과 같은 치즈(회색으로 표시된 부분)라면 C로 표시된 모든 치즈 격자는 한 시간 후에 사라진다.  \n",
    "  \n",
    "![](https://onlinejudgeimages.s3-ap-northeast-1.amazonaws.com/upload/images/cUPJGUeiFKyHE3kVWk.jpg)  \n",
    "  \n",
    "<그림 2>와 같이 치즈 내부에 있는 공간은 치즈 외부 공기와 접촉하지 않는 것으로 가정한다. 그러므 로 이 공간에 접촉한 치즈 격자는 녹지 않고 C로 표시된 치즈 격자만 사라진다. 그러나 한 시간 후, 이 공간으로 외부공기가 유입되면 <그림 3>에서와 같이 C로 표시된 치즈 격자들이 사라지게 된다.  \n",
    "  \n",
    "![](http://acmicpc.net/upload/images/LGjBnffGNpTX4cbXJrrlGaHVlHLBj.jpg)  \n",
    "  \n",
    "모눈종이의 맨 가장자리에는 치즈가 놓이지 않는 것으로 가정한다. 입력으로 주어진 치즈가 모두 녹아 없어지는데 걸리는 정확한 시간을 구하는 프로그램을 작성하시오.  \n",
    "  \n",
    "### 입력  \n",
    "첫째 줄에는 모눈종이의 크기를 나타내는 두 개의 정수 N, M (5≤N, M≤100)이 주어진다. 그 다음 N개의 줄에는 모눈종이 위의 격자에 치즈가 있는 부분은 1로 표시되고, 치즈가 없는 부분은 0으로 표시된다. 또한, 각 0과 1은 하나의 공백으로 분리되어 있다.  \n",
    "  \n",
    "### 출력\n",
    "출력으로는 주어진 치즈가 모두 녹아 없어지는데 걸리는 정확한 시간을 정수로 첫 줄에 출력한다.  "
   ]
  },
  {
   "cell_type": "code",
   "execution_count": 1,
   "metadata": {},
   "outputs": [
    {
     "name": "stdout",
     "output_type": "stream",
     "text": [
      "8 9\n",
      "0 0 0 0 0 0 0 0 0\n",
      "0 0 0 1 1 0 0 0 0\n",
      "0 0 0 1 1 0 1 1 0\n",
      "0 0 1 1 1 1 1 1 0\n",
      "0 0 1 1 1 1 1 0 0\n",
      "0 0 1 1 0 1 1 0 0\n",
      "0 0 0 0 0 0 0 0 0\n",
      "0 0 0 0 0 0 0 0 0\n",
      "4\n"
     ]
    }
   ],
   "source": [
    "def check_melt(N, M, board, checked, have_to_remove, y, x): # 녹아야하는 치즈의 위치 확인\n",
    "    direction = [(0,1), (1,0), (0,-1), (-1,0)] # 4방향\n",
    "    answer = 1 # 보드 상의 빈칸의 개수\n",
    "    for add_y, add_x in direction: # 네 방향에 대해서\n",
    "        if 0 <= x+add_x < M and 0 <= y+add_y < N: # 탐색 할 수 있는 위치일 때\n",
    "            if board[y+add_y][x+add_x] == 0 and not checked[y+add_y][x+add_x]: # 아직 탐색하지 않은 빈칸일 때\n",
    "                checked[y+add_y][x+add_x] = True # 탐색했음을 체크\n",
    "                answer += check_melt(N, M, board, checked, have_to_remove, y+add_y, x+add_x)\n",
    "                # 재귀적으로 빈 칸 탐색\n",
    "            elif board[y+add_y][x+add_x] == 1: # 치즈의 가장자리 부분일 때\n",
    "                have_to_remove[y+add_y][x+add_x] += 1 # 해당 부분에 바깥 공기와 접촉된 부분을 1 증가\n",
    "    return answer # 보드 상의 빈칸 개수 반환\n",
    "    \n",
    "N, M = tuple(int(x) for x in input().split()) # 행, 열\n",
    "board = [] # 보드\n",
    "for _ in range(N):\n",
    "    board.append([int(x) for x in input().split()]) # 보드 입력받음\n",
    "\n",
    "time = 0 # 시간\n",
    "while True:\n",
    "    blank = 0 # 빈칸 개수\n",
    "    cheese_size = N*M # 치즈의 사이즈\n",
    "    checked = [[False for _ in range(M)] for _ in range(N)] # 빈칸의 탐색 여부\n",
    "    have_to_remove = [[0 for _ in range(M)] for _ in range(N)] # 제거해야할 가장자리 치즈\n",
    "    \n",
    "    for y in range(N):\n",
    "        for x in range(M):\n",
    "            if board[y][x] == 0 and not checked[y][x]: # 탐색하지 않은 빈칸의 경우\n",
    "                checked[y][x] = True # 탐색했음을 체크\n",
    "                blank = check_melt(N, M, board, checked, have_to_remove, y, x)\n",
    "                # 빈칸을 모두 탐색하고, 현재 빈칸의 개수를 구한다.\n",
    "    if blank == N*M: # 만약 치즈가 모두 녹았을 경우 탐색 중단\n",
    "        break\n",
    "    cheese_size -= blank # 치즈 사이즈 = 보드의 모든 면적 - 바깥 빈칸의 개수\n",
    "    for y in range(N):\n",
    "        for x in range(M):\n",
    "            if have_to_remove[y][x] >= 2: # 바깥 공기와 접하는 곳이 2곳 이상인 치즈의 가장자리 부분의 경우\n",
    "                board[y][x] = 0 # 치즈를 녹인다.\n",
    "                cheese_size -= 1 # 치즈의 사이즈를 1 줄인다.\n",
    "    time += 1 # 시간 1 증가\n",
    "print(time) # 시간 출력"
   ]
  }
 ],
 "metadata": {
  "kernelspec": {
   "display_name": "Python 3",
   "language": "python",
   "name": "python3"
  },
  "language_info": {
   "codemirror_mode": {
    "name": "ipython",
    "version": 3
   },
   "file_extension": ".py",
   "mimetype": "text/x-python",
   "name": "python",
   "nbconvert_exporter": "python",
   "pygments_lexer": "ipython3",
   "version": "3.6.9"
  }
 },
 "nbformat": 4,
 "nbformat_minor": 2
}
