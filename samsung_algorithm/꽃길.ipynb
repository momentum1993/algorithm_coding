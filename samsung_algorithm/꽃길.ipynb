{
 "cells": [
  {
   "cell_type": "markdown",
   "metadata": {},
   "source": [
    "# 꽃길"
   ]
  },
  {
   "cell_type": "markdown",
   "metadata": {},
   "source": [
    "[baekjoon의 '꽃길' 링크](https://www.acmicpc.net/problem/14620)"
   ]
  },
  {
   "cell_type": "markdown",
   "metadata": {},
   "source": [
    "### 문제  \n",
    "2017년 4월 5일 식목일을 맞이한 진아는 나무를 심는 대신 하이테크관 앞 화단에 꽃을 심어 등교할 때 마다 꽃길을 걷고 싶었다.  \n",
    "  \n",
    "진아가 가진 꽃의 씨앗은 꽃을 심고나면 정확히 1년후에 꽃이 피므로 진아는 다음해 식목일 부터 꽃길을 걸을 수 있다.  \n",
    "  \n",
    "하지만 진아에게는 꽃의 씨앗이 세개밖에 없었으므로 세 개의 꽃이 하나도 죽지 않고 1년후에 꽃잎이 만개하길 원한다.  \n",
    "  \n",
    "꽃밭은 N\\*N의 격자 모양이고 진아는 씨앗을 (1,1)~(N,N)의 지점 중 한곳에 심을 수 있다. 꽃의 씨앗은 그림 (a)처럼 심어지며 1년 후 꽃이 피면 그림 (b)모양이 된다.  \n",
    "  \n",
    "![](https://onlinejudgeimages.s3-ap-northeast-1.amazonaws.com/problem/14620/1.png)  \n",
    "  \n",
    "꽃을 심을 때는 주의할 점이있다. 어떤 씨앗이 꽃이 핀 뒤 다른 꽃잎(혹은 꽃술)과 닿게 될 경우 두 꽃 모두 죽어버린다. 또 화단 밖으로 꽃잎이 나가게 된다면 그 꽃은 죽어버리고 만다.  \n",
    "  \n",
    "![](https://onlinejudgeimages.s3-ap-northeast-1.amazonaws.com/problem/14620/2.png)  \n",
    "  \n",
    "그림(c)는 세 꽃이 정상적으로 핀 모양이고 그림(d)는 두 꽃이 죽어버린 모양이다.  \n",
    "  \n",
    "하이테크 앞 화단의 대여 가격은 격자의 한 점마다 다르기 때문에 진아는 서로 다른 세 씨앗을 모두 꽃이 피게하면서 가장 싼 가격에 화단을 대여하고 싶다.  \n",
    "  \n",
    "단 화단을 대여할 때는 꽃잎이 핀 모양을 기준으로 대여를 해야하므로 꽃 하나당 5평의 땅을 대여해야만 한다.  \n",
    "  \n",
    "돈이 많지 않은 진아를 위하여 진아가 꽃을 심기 위해 필요한 최소비용을 구해주자!  \n",
    "  \n",
    "### 입력  \n",
    "입력의 첫째 줄에 화단의 한 변의 길이 N(6≤N≤10)이 들어온다.  \n",
    "  \n",
    "이후 N개의 줄에 N개씩 화단의 지점당 가격(0≤G≤200)이 주어진다.  \n",
    "  \n",
    "### 출력  \n",
    "꽃을 심기 위한 최소 비용을 출력한다.  "
   ]
  },
  {
   "cell_type": "code",
   "execution_count": 1,
   "metadata": {},
   "outputs": [
    {
     "name": "stdout",
     "output_type": "stream",
     "text": [
      "Input\n",
      "6\n",
      "1 0 2 3 3 4\n",
      "1 1 1 1 1 1\n",
      "0 0 1 1 1 1\n",
      "3 9 9 0 1 99\n",
      "9 11 3 1 0 3\n",
      "12 3 0 0 0 1\n",
      "\n",
      "Output\n",
      "12\n"
     ]
    }
   ],
   "source": [
    "from copy import deepcopy\n",
    "\n",
    "def simulation(N, board, idx, flower, left):\n",
    "    direction = [(0, 0), (1, 0), (-1, 0), (0, 1), (0, -1)] # 꽃이 발화할 때의 방향\n",
    "    f_val = 0 # 꽃이 발화하기 위해 사야하는 땅의 값\n",
    "    y = idx // N # y좌표\n",
    "    x = idx - (y*N) # x좌표\n",
    "    for add_y, add_x in direction: # 꽃이 발화하기 위해 필요한 영토에 대해서\n",
    "        if add_y+y < 0 or add_y+y >= N or add_x+x < 0 or add_x+x >= N or (add_y+y, add_x+x) in flower:\n",
    "        # 화단 범위를 넘어가거나, 다른 꽃의 구역을 침범할 경우 탐색 중지\n",
    "            return 200*N*N\n",
    "        f_val += board[add_y+y][add_x+x] # 해당 범위의 땅 대여료를 더한다\n",
    "        flower.append((add_y+y, add_x+x)) # 꽃의 구역에 추가\n",
    "    \n",
    "    if left == 1: # 만약 모든 꽃을 심는데 대한 대여로 계산이 끝났다면\n",
    "        return f_val # 대여료 반환\n",
    "    \n",
    "    answer = 200*N*N # 답\n",
    "    for next_idx in range(idx+1, N*N): # 나머지 땅에 대해서\n",
    "        y = next_idx // N\n",
    "        x = next_idx - (y*N)\n",
    "        answer = min(answer, f_val + simulation(N, board, next_idx, deepcopy(flower), left-1))\n",
    "        # 재귀적으로 땅 대여료의 최솟값을 찾는다.\n",
    "    return answer # 답 반환\n",
    "\n",
    "print(\"Input\")\n",
    "N = int(input()) # 화단의 높이 및 너비\n",
    "board = [] # 화단\n",
    "for _ in range(N):\n",
    "    board.append(tuple(int(x) for x in input().split()))\n",
    "\n",
    "answer = 200*N*N # 답\n",
    "for i in range(N*N): # 모든 화단의 위치에 대해서\n",
    "    answer = min(answer, simulation(N, board, i, [], 3))\n",
    "    # 꽃을 심는 시뮬레이션 진행 후 최소 땅 대여료를 저장\n",
    "print(\"\\nOutput\")\n",
    "print(answer) # 답 출력\n"
   ]
  }
 ],
 "metadata": {
  "kernelspec": {
   "display_name": "Python 3",
   "language": "python",
   "name": "python3"
  },
  "language_info": {
   "codemirror_mode": {
    "name": "ipython",
    "version": 3
   },
   "file_extension": ".py",
   "mimetype": "text/x-python",
   "name": "python",
   "nbconvert_exporter": "python",
   "pygments_lexer": "ipython3",
   "version": "3.6.9"
  }
 },
 "nbformat": 4,
 "nbformat_minor": 2
}
