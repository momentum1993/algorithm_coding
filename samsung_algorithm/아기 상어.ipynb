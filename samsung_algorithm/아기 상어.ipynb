{
 "cells": [
  {
   "cell_type": "markdown",
   "metadata": {},
   "source": [
    "# 아기 상어"
   ]
  },
  {
   "cell_type": "markdown",
   "metadata": {},
   "source": [
    "[baekjoon의 '아기 상어' 링크](https://www.acmicpc.net/problem/16236)"
   ]
  },
  {
   "cell_type": "markdown",
   "metadata": {},
   "source": [
    "### 문제\n",
    "N×N 크기의 공간에 물고기 M마리와 아기 상어 1마리가 있다. 공간은 1×1 크기의 정사각형 칸으로 나누어져 있다. 한 칸에는 물고기가 최대 1마리 존재한다.  \n",
    "  \n",
    "아기 상어와 물고기는 모두 크기를 가지고 있고, 이 크기는 자연수이다. 가장 처음에 아기 상어의 크기는 2이고, 아기 상어는 1초에 상하좌우로 인접한 한 칸씩 이동한다.  \n",
    "  \n",
    "아기 상어는 자신의 크기보다 큰 물고기가 있는 칸은 지나갈 수 없고, 나머지 칸은 모두 지나갈 수 있다. 아기 상어는 자신의 크기보다 작은 물고기만 먹을 수 있다. 따라서, 크기가 같은 물고기는 먹을 수 없지만, 그 물고기가 있는 칸은 지나갈 수 있다.  \n",
    "  \n",
    "아기 상어가 어디로 이동할지 결정하는 방법은 아래와 같다.  \n",
    "  \n",
    "- 더 이상 먹을 수 있는 물고기가 공간에 없다면 아기 상어는 엄마 상어에게 도움을 요청한다.  \n",
    "- 먹을 수 있는 물고기가 1마리라면, 그 물고기를 먹으러 간다.  \n",
    "- 먹을 수 있는 물고기가 1마리보다 많다면, 거리가 가장 가까운 물고기를 먹으러 간다.  \n",
    "    - 거리는 아기 상어가 있는 칸에서 물고기가 있는 칸으로 이동할 때, 지나야하는 칸의 개수의 최솟값이다.  \n",
    "    - 거리가 가까운 물고기가 많다면, 가장 위에 있는 물고기, 그러한 물고기가 여러마리라면, 가장 왼쪽에 있는 물고기를 먹는다.  \n",
    "    \n",
    "아기 상어의 이동은 1초 걸리고, 물고기를 먹는데 걸리는 시간은 없다고 가정한다. 즉, 아기 상어가 먹을 수 있는 물고기가 있는 칸으로 이동했다면, 이동과 동시에 물고기를 먹는다. 물고기를 먹으면, 그 칸은 빈 칸이 된다.  \n",
    "  \n",
    "아기 상어는 자신의 크기와 같은 수의 물고기를 먹을 때 마다 크기가 1 증가한다. 예를 들어, 크기가 2인 아기 상어는 물고기를 2마리 먹으면 크기가 3이 된다.  \n",
    "  \n",
    "공간의 상태가 주어졌을 때, 아기 상어가 몇 초 동안 엄마 상어에게 도움을 요청하지 않고 물고기를 잡아먹을 수 있는지 구하는 프로그램을 작성하시오.  \n",
    "  \n",
    "### 입력  \n",
    "첫째 줄에 공간의 크기 N(2 ≤ N ≤ 20)이 주어진다.  \n",
    "  \n",
    "둘째 줄부터 N개의 줄에 공간의 상태가 주어진다. 공간의 상태는 0, 1, 2, 3, 4, 5, 6, 9로 이루어져 있고, 아래와 같은 의미를 가진다.  \n",
    "  \n",
    "- 0: 빈 칸  \n",
    "- 1, 2, 3, 4, 5, 6: 칸에 있는 물고기의 크기  \n",
    "- 9: 아기 상어의 위치  \n",
    "  \n",
    "아기 상어는 공간에 한 마리 있다.  \n",
    "  \n",
    "### 출력  \n",
    "첫째 줄에 아기 상어가 엄마 상어에게 도움을 요청하지 않고 물고기를 잡아먹을 수 있는 시간을 출력한다.  \n",
    "  "
   ]
  },
  {
   "cell_type": "code",
   "execution_count": 1,
   "metadata": {},
   "outputs": [],
   "source": [
    "from copy import deepcopy\n",
    "from queue import PriorityQueue\n",
    "\n",
    "def simulate_shark(N, board, baby_shark): # 물고기를 먹기위한 상어의 움직인 시간\n",
    "    time = 0 # 시간\n",
    "    eaten_num = 0 # 먹은 물고기 수\n",
    "    b_size, b_y, b_x = baby_shark # 아기 상어 사이즈 및 위치\n",
    "    direction = [(0,1),(0,-1),(1,0),(-1,0)] # 동. 서. 남. 북\n",
    "    \n",
    "    while True:\n",
    "        q = PriorityQueue() # 우선순위 큐\n",
    "        t_checked = [[-1 for _ in range(N)] for _ in range(N)] # 아기상어가 탐색한 시간 체크\n",
    "\n",
    "        if eaten_num == b_size: # 만약 아기상어의 사이즈와 먹은 물고기 수 가 같다면\n",
    "            b_size += 1 # 아기상어의 사이즈는 1 증가\n",
    "            eaten_num = 0\n",
    "            \n",
    "        answers = [] # 먹을 수 있는 물고기 좌표들\n",
    "        q.put((0, b_y, b_x)) # 아기상어의 현재위치 및 시간을 큐에 넣는다.\n",
    "        max_t = N*N # 현재까지 탐색한 물고기를 먹을 수 있는 케이스 중에서 가장 짧은 시간\n",
    "        while not q.empty():\n",
    "            t, y, x = q.get() # 현재 시간, 아기상어 위치\n",
    "            t_checked[y][x] = t # 현재 시간을 탐색한 시간으로 설정\n",
    "            if t == max_t+1: # 만약 현재 시간보다 더 빨리 찾을 수 있는 물고기가 있다면 탐색 중지\n",
    "                break\n",
    "            if 0 < board[y][x] < b_size: # 만약 먹을 수 있는 물고기라면\n",
    "                answers.append((y,x)) # 물고기 좌표 추가\n",
    "                max_t = t # 해당 물고기를 먹는데 걸린 시간을 최대 시간으로 설정\n",
    "                continue\n",
    "            for d_y, d_x in direction: # 모든 방향에 대해\n",
    "                if 0 <= d_y+y < N and 0 <= d_x+x < N: # 범위를 벗어나지 않는 한에서\n",
    "                    if board[d_y+y][d_x+x] > b_size or 0 <= t_checked[d_y+y][d_x+x] < t+1:\n",
    "                        # 이미 탐색을 했거나, 물고기가 커서 갈 수 없는 지역을 제외하고\n",
    "                        continue\n",
    "                    q.put((t+1, d_y+y, d_x+x)) # 큐에 넣고 계속 탐색\n",
    "        if len(answers)==0: # 해당하는 답이 없다면 탐색 중단\n",
    "            break\n",
    "            \n",
    "        eaten_num += 1 # 먹은 물고기 수 1 증가\n",
    "        time += max_t # 물고기 먹은 시간만큼 증가\n",
    "        \n",
    "        answers.sort() # 상하. 좌우순 정렬\n",
    "        a_y, a_x = answers[0] # 먹은 물고기 좌표\n",
    "        board[b_y][b_x] = 0 # 아기상어의 원 위치는 빈칸으로 설정\n",
    "        b_y, b_x = a_y, a_x\n",
    "        board[b_y][b_x] = 100 # 현재 물고기를 먹고 위치한 아기상어의 위치 설정\n",
    "    return time # 답 반환\n",
    "            \n",
    "def solution(N, board):\n",
    "    board = [[int(x) for x in x.split()] for x in board.split(\"\\n\")]\n",
    "    num_fishes = 0\n",
    "    for y in range(N):\n",
    "        for x in range(N):\n",
    "            if board[y][x] == 0:\n",
    "                continue\n",
    "            if board[y][x] == 9: # 아기상어 위치 및 사이즈\n",
    "                baby_shark = [2,y,x]\n",
    "                board[y][x] = 100\n",
    "            else: # 물고기의 위치 및 사이즈\n",
    "                num_fishes += 1\n",
    "    if num_fishes == 0: # 만약 물고기 없으면 0 반환\n",
    "        return 0\n",
    "    return simulate_shark(N, board, baby_shark) # 시뮬레이션"
   ]
  },
  {
   "cell_type": "code",
   "execution_count": 2,
   "metadata": {},
   "outputs": [],
   "source": [
    "N = 3\n",
    "board = '''0 0 0\n",
    "0 0 0\n",
    "0 9 0'''"
   ]
  },
  {
   "cell_type": "code",
   "execution_count": 3,
   "metadata": {},
   "outputs": [
    {
     "data": {
      "text/plain": [
       "0"
      ]
     },
     "execution_count": 3,
     "metadata": {},
     "output_type": "execute_result"
    }
   ],
   "source": [
    "solution(N, board)"
   ]
  },
  {
   "cell_type": "code",
   "execution_count": 4,
   "metadata": {},
   "outputs": [],
   "source": [
    "N = 3\n",
    "board = '''0 0 1\n",
    "0 0 0\n",
    "0 9 0'''"
   ]
  },
  {
   "cell_type": "code",
   "execution_count": 5,
   "metadata": {},
   "outputs": [
    {
     "data": {
      "text/plain": [
       "3"
      ]
     },
     "execution_count": 5,
     "metadata": {},
     "output_type": "execute_result"
    }
   ],
   "source": [
    "solution(N, board)"
   ]
  },
  {
   "cell_type": "code",
   "execution_count": 6,
   "metadata": {},
   "outputs": [],
   "source": [
    "N = 4\n",
    "board = '''4 3 2 1\n",
    "0 0 0 0\n",
    "0 0 9 0\n",
    "1 2 3 4'''"
   ]
  },
  {
   "cell_type": "code",
   "execution_count": 7,
   "metadata": {},
   "outputs": [
    {
     "data": {
      "text/plain": [
       "14"
      ]
     },
     "execution_count": 7,
     "metadata": {},
     "output_type": "execute_result"
    }
   ],
   "source": [
    "solution(N, board)"
   ]
  },
  {
   "cell_type": "code",
   "execution_count": 8,
   "metadata": {},
   "outputs": [],
   "source": [
    "N = 6\n",
    "board = '''5 4 3 2 3 4\n",
    "4 3 2 3 4 5\n",
    "3 2 9 5 6 6\n",
    "2 1 2 3 4 5\n",
    "3 2 1 6 5 4\n",
    "6 6 6 6 6 6'''"
   ]
  },
  {
   "cell_type": "code",
   "execution_count": 9,
   "metadata": {},
   "outputs": [
    {
     "data": {
      "text/plain": [
       "60"
      ]
     },
     "execution_count": 9,
     "metadata": {},
     "output_type": "execute_result"
    }
   ],
   "source": [
    "solution(N, board)"
   ]
  },
  {
   "cell_type": "code",
   "execution_count": 10,
   "metadata": {},
   "outputs": [],
   "source": [
    "N = 6\n",
    "board = '''6 0 6 0 6 1\n",
    "0 0 0 0 0 2\n",
    "2 3 4 5 6 6\n",
    "0 0 0 0 0 2\n",
    "0 2 0 0 0 0\n",
    "3 9 3 0 0 1'''"
   ]
  },
  {
   "cell_type": "code",
   "execution_count": 11,
   "metadata": {},
   "outputs": [
    {
     "data": {
      "text/plain": [
       "48"
      ]
     },
     "execution_count": 11,
     "metadata": {},
     "output_type": "execute_result"
    }
   ],
   "source": [
    "solution(N, board)"
   ]
  },
  {
   "cell_type": "code",
   "execution_count": 12,
   "metadata": {},
   "outputs": [],
   "source": [
    "N = 6\n",
    "board = '''1 1 1 1 1 1\n",
    "2 2 6 2 2 3\n",
    "2 2 5 2 2 3\n",
    "2 2 2 4 6 3\n",
    "0 0 0 0 0 6\n",
    "0 0 0 0 0 9'''"
   ]
  },
  {
   "cell_type": "code",
   "execution_count": 13,
   "metadata": {},
   "outputs": [
    {
     "data": {
      "text/plain": [
       "39"
      ]
     },
     "execution_count": 13,
     "metadata": {},
     "output_type": "execute_result"
    }
   ],
   "source": [
    "solution(N, board)"
   ]
  }
 ],
 "metadata": {
  "kernelspec": {
   "display_name": "Python 3",
   "language": "python",
   "name": "python3"
  },
  "language_info": {
   "codemirror_mode": {
    "name": "ipython",
    "version": 3
   },
   "file_extension": ".py",
   "mimetype": "text/x-python",
   "name": "python",
   "nbconvert_exporter": "python",
   "pygments_lexer": "ipython3",
   "version": "3.6.9"
  }
 },
 "nbformat": 4,
 "nbformat_minor": 2
}
