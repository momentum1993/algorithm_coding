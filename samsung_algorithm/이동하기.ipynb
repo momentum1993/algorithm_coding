{
 "cells": [
  {
   "cell_type": "markdown",
   "metadata": {},
   "source": [
    "# 이동하기"
   ]
  },
  {
   "cell_type": "markdown",
   "metadata": {},
   "source": [
    "[baekjoon의 '이동하기' 링크](https://www.acmicpc.net/problem/11048)"
   ]
  },
  {
   "cell_type": "markdown",
   "metadata": {},
   "source": [
    "### 문제   \n",
    "준규는 N×M 크기의 미로에 갇혀있다. 미로는 1×1크기의 방으로 나누어져 있고, 각 방에는 사탕이 놓여져 있다. 미로의 가장 왼쪽 윗 방은 (1, 1)이고, 가장 오른쪽 아랫 방은 (N, M)이다.  \n",
    "  \n",
    "준규는 현재 (1, 1)에 있고, (N, M)으로 이동하려고 한다. 준규가 (r, c)에 있으면, (r+1, c), (r, c+1), (r+1, c+1)로 이동할 수 있고, 각 방을 방문할 때마다 방에 놓여져있는 사탕을 모두 가져갈 수 있다. 또, 미로 밖으로 나갈 수는 없다.  \n",
    "  \n",
    "준규가 (N, M)으로 이동할 때, 가져올 수 있는 사탕 개수의 최댓값을 구하시오.  \n",
    "  \n",
    "### 입력  \n",
    "첫째 줄에 미로의 크기 N, M이 주어진다. (1 ≤ N, M ≤ 1,000)  \n",
    "  \n",
    "둘째 줄부터 N개 줄에는 총 M개의 숫자가 주어지며, r번째 줄의 c번째 수는 (r, c)에 놓여져 있는 사탕의 개수이다. 사탕의 개수는 0보다 크거나 같고, 100보다 작거나 같다.  \n",
    "  \n",
    "### 출력   \n",
    "첫째 줄에 준규가 (N, M)으로 이동할 때, 가져올 수 있는 사탕 개수를 출력한다.  "
   ]
  },
  {
   "cell_type": "code",
   "execution_count": 1,
   "metadata": {},
   "outputs": [
    {
     "name": "stdout",
     "output_type": "stream",
     "text": [
      "Testcase num: 3\n",
      "\n",
      "\n",
      "Input\n",
      "3 4\n",
      "1 2 3 4\n",
      "0 0 0 5\n",
      "9 8 7 6\n",
      "\n",
      "Output\n",
      "31\n",
      "\n",
      "\n",
      "Input\n",
      "3 3\n",
      "1 0 0\n",
      "0 1 0\n",
      "0 0 1\n",
      "\n",
      "Output\n",
      "3\n",
      "\n",
      "\n",
      "Input\n",
      "4 3\n",
      "1 2 3\n",
      "6 5 4\n",
      "7 8 9\n",
      "12 11 10\n",
      "\n",
      "Output\n",
      "47\n",
      "\n",
      "\n"
     ]
    }
   ],
   "source": [
    "def simulation(N, M, board, y=0, x=0):\n",
    "    if y == N-1 and x == M-1: # 만약 (N, M)에 도달했을 때 (base case)\n",
    "        return board[y][x] # (N, M)칸의 사탕 반환\n",
    "    direction = [(0,1),(1,0),(1,1)] # 아래쪽, 오른쪽, 우하향대각방향\n",
    "    answer = 0 # 답\n",
    "    for add_y, add_x in direction: # 이동할 수 있는 방향에 대해\n",
    "        if 0 <= add_y+y < N and 0 <= add_x+x < M: # 보드 내의 위치라면\n",
    "            answer = max(answer, board[y][x] + simulation(N, M, board, add_y+y, add_x+x))\n",
    "            # 사탕의 최대값을 재귀적으로 구한다\n",
    "    return answer # 최대 사탕 개수 반환\n",
    "\n",
    "T = int(input(\"Testcase num: \")) # 테스트 케이스 수\n",
    "print(\"\\n\")\n",
    "for _ in range(T):\n",
    "    print(\"Input\")\n",
    "    N, M = tuple(int(x) for x in input().split()) # 높이, 너비\n",
    "    board = [] # 보드\n",
    "    for _ in range(N):\n",
    "        board.append(list(int(x) for x in input().split()))\n",
    "    print(\"\\nOutput\")\n",
    "    print(simulation(N, M, board)) # 시뮬레이션 후 답 출력\n",
    "    print(\"\\n\")"
   ]
  }
 ],
 "metadata": {
  "kernelspec": {
   "display_name": "Python 3",
   "language": "python",
   "name": "python3"
  },
  "language_info": {
   "codemirror_mode": {
    "name": "ipython",
    "version": 3
   },
   "file_extension": ".py",
   "mimetype": "text/x-python",
   "name": "python",
   "nbconvert_exporter": "python",
   "pygments_lexer": "ipython3",
   "version": "3.6.9"
  }
 },
 "nbformat": 4,
 "nbformat_minor": 2
}
