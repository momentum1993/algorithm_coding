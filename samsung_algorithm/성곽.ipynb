{
 "cells": [
  {
   "cell_type": "markdown",
   "metadata": {},
   "source": [
    "# 성곽"
   ]
  },
  {
   "cell_type": "markdown",
   "metadata": {},
   "source": [
    "[baekjoon의 '성곽' 링크](https://www.acmicpc.net/problem/2234)"
   ]
  },
  {
   "cell_type": "markdown",
   "metadata": {},
   "source": [
    "### 문제   \n",
    "![](https://www.acmicpc.net/JudgeOnline/upload/201008/cas.PNG)  \n",
    "대략 위의 그림과 같이 생긴 성곽이 있다. 굵은 선은 벽을 나타내고, 점선은 벽이 없어서 지나다닐 수 있는 통로를 나타낸다. 이러한 형태의 성의 지도를 입력받아서 다음을 계산하는 프로그램을 작성하시오.  \n",
    "  \n",
    "1. 이 성에 있는 방의 개수  \n",
    "2. 가장 넓은 방의 넓이  \n",
    "3. 하나의 벽을 제거하여 얻을 수 있는 가장 넓은 방의 크기  \n",
    "  \n",
    "위의 예에서는 방은 5개고, 가장 큰 방은 9개의 칸으로 이루어져 있으며, 위의 그림에서 화살표가 가리키는 벽을 제거하면 16인 크기의 방을 얻을 수 있다.  \n",
    "  \n",
    "성은 m×n(1 ≤ m, n ≤ 50)개의 정사각형 칸으로 이루어진다. 성에는 최소 두 개의 방이 있어서, 항상 하나의 벽을 제거하여 두 방을 합치는 경우가 있다.  \n",
    "  \n",
    "### 입력  \n",
    "첫째 줄에 두 정수 n, m이 주어진다. 다음 m개의 줄에는 n개의 정수로 벽에 대한 정보가 주어진다. 벽에 대한 정보는 한 정수로 주어지는데, 서쪽에 벽이 있을 때는 1을, 북쪽에 벽이 있을 때는 2를, 동쪽에 벽이 있을 때는 4를, 남쪽에 벽이 있을 때는 8을 더한 값이 주어진다. 참고로 이진수의 각 비트를 생각하면 쉽다. 따라서 이 값은 0부터 15까지의 범위 안에 있다.  \n",
    "  \n",
    "### 출력  \n",
    "첫째 줄에 1의 답을, 둘째 줄에 2의 답을, 셋째 줄에 3의 답을 출력한다.  "
   ]
  },
  {
   "cell_type": "code",
   "execution_count": 1,
   "metadata": {},
   "outputs": [
    {
     "name": "stdout",
     "output_type": "stream",
     "text": [
      "7 4\n",
      "11 6 11 6 3 10 6\n",
      "7 9 6 13 5 15 5\n",
      "1 10 12 7 13 7 5\n",
      "13 11 10 8 10 12 13\n",
      "5\n",
      "9\n",
      "16\n"
     ]
    }
   ],
   "source": [
    "def check_room(n, m, wall_status, room_checked, near_room, y, x, idx):\n",
    "    direction = [(0, -1), (-1, 0), (0, 1), (1, 0)]\n",
    "    answer = 1\n",
    "    for i in range(4):\n",
    "        add_y, add_x = direction[i]\n",
    "        if 0 <= y+add_y < m and 0 <= x+add_x < n:\n",
    "            if wall_status[y][x] & pow(2,i) == 0 and room_checked[y+add_y][x+add_x] == -1:\n",
    "                room_checked[y+add_y][x+add_x] = idx\n",
    "                answer += check_room(n, m, wall_status, room_checked, near_room, y+add_y, x+add_x, idx)\n",
    "            if wall_status[y][x] & pow(2,i) != 0 and room_checked[y+add_y][x+add_x] != idx and room_checked[y+add_y][x+add_x] != -1:\n",
    "                near_room.add(tuple(sorted([room_checked[y+add_y][x+add_x], idx])))\n",
    "    return answer\n",
    "\n",
    "def simulation(n, m, wall_status, room_checked, near_room, room_size):\n",
    "    max_size = 0 # 방의 최대 크기\n",
    "    idx = 0 # 방의 인덱스\n",
    "    for y in range(m):\n",
    "        for x in range(n): # 성의 모든 좌표에 대해서\n",
    "            if room_checked[y][x] == -1: # 아직 탐색되지 않은 좌표일 때\n",
    "                room_checked[y][x] = idx # 방의 인덱스 저장\n",
    "                size = check_room(n, m, wall_status, room_checked, near_room, y, x, idx)\n",
    "                # 그리고 동일한 방에 속한 좌표들에 대해서 인덱스 정보를 저장\n",
    "                max_size = max(max_size, size) # 방의 최대 사이즈\n",
    "                room_size.append(size) # 방의 사이즈 추가\n",
    "                idx += 1\n",
    "    max_combined = 0 # 벽을 제거 한 후 합쳐졌을 경우의 방의 최대 크기\n",
    "    for a, b in near_room: # 위의 check_room함수를 통해 구한 인접한 방에 대해서\n",
    "        max_combined = max(max_combined, room_size[a] + room_size[b])\n",
    "        # 벽을 허물고 같은 방이 되었을 경우의 최대 크기를 구한다.\n",
    "    return idx, max_size, max_combined\n",
    "    # 방의 개수, 방의 최대 크기, 벽을 허물었을 경우 최대 방의 크기 반환\n",
    "    \n",
    "\n",
    "n, m = tuple(int(x) for x in input().split()) # 열, 행\n",
    "wall_status = [] # 각 좌표에 대해서 상하좌우에 벽이 존재하는 지에 대한 정보 \n",
    "for _ in range(m):\n",
    "    wall_status.append([int(x) for x in input().split()])\n",
    "room_checked = [[-1 for _ in range(n)] for _ in range(m)] # 방이 체크 되었는지 여부\n",
    "near_room = set() # 인접해 있는 방 인덱스 쌍\n",
    "room_size = [] # 각 인덱스별 방의 크기\n",
    "answer = simulation(n, m, wall_status, room_checked, near_room, room_size)\n",
    "# 방의 개수, 가장 넓은 방의 넓이, 하나의 벽을 제거하면 가장 커지는 방의 크기\n",
    "print(answer[0])\n",
    "print(answer[1])\n",
    "print(answer[2])\n",
    "# 답 출력\n"
   ]
  }
 ],
 "metadata": {
  "kernelspec": {
   "display_name": "Python 3",
   "language": "python",
   "name": "python3"
  },
  "language_info": {
   "codemirror_mode": {
    "name": "ipython",
    "version": 3
   },
   "file_extension": ".py",
   "mimetype": "text/x-python",
   "name": "python",
   "nbconvert_exporter": "python",
   "pygments_lexer": "ipython3",
   "version": "3.6.9"
  }
 },
 "nbformat": 4,
 "nbformat_minor": 2
}
