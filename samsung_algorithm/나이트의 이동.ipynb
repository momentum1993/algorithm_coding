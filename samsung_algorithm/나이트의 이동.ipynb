{
 "cells": [
  {
   "cell_type": "markdown",
   "metadata": {},
   "source": [
    "# 나이트의 이동"
   ]
  },
  {
   "cell_type": "markdown",
   "metadata": {},
   "source": [
    "[baekjoon의 '나이트의 이동' 링크](https://www.acmicpc.net/problem/7562)"
   ]
  },
  {
   "cell_type": "markdown",
   "metadata": {},
   "source": [
    "### 문제   \n",
    "체스판 위에 한 나이트가 놓여져 있다. 나이트가 한 번에 이동할 수 있는 칸은 아래 그림에 나와있다. 나이트가 이동하려고 하는 칸이 주어진다. 나이트는 몇 번 움직이면 이 칸으로 이동할 수 있을까?  \n",
    "  \n",
    "![](https://www.acmicpc.net/upload/images/knight.png)  \n",
    "  \n",
    "### 입력  \n",
    "입력의 첫째 줄에는 테스트 케이스의 개수가 주어진다.  \n",
    "  \n",
    "각 테스트 케이스는 세 줄로 이루어져 있다. 첫째 줄에는 체스판의 한 변의 길이 l(4 ≤ l ≤ 300)이 주어진다. 체스판의 크기는 l × l이다. 체스판의 각 칸은 두 수의 쌍 {0, ..., l-1} × {0, ..., l-1}로 나타낼 수 있다. 둘째 줄과 셋째 줄에는 나이트가 현재 있는 칸, 나이트가 이동하려고 하는 칸이 주어진다.  \n",
    "  \n",
    "### 출력  \n",
    "각 테스트 케이스마다 나이트가 몇 번만에 이동할 수 있는지 출력한다.  "
   ]
  },
  {
   "cell_type": "code",
   "execution_count": 1,
   "metadata": {},
   "outputs": [
    {
     "name": "stdout",
     "output_type": "stream",
     "text": [
      "Testcase num: 3\n",
      "\n",
      "Input\n",
      "8\n",
      "0 0\n",
      "7 0\n",
      "100\n",
      "0 0\n",
      "30 50\n",
      "10\n",
      "1 1\n",
      "1 1\n",
      "\n",
      "Output\n",
      "5\n",
      "28\n",
      "0\n"
     ]
    }
   ],
   "source": [
    "from queue import PriorityQueue\n",
    "\n",
    "def simulation(n, checked, s_y, s_x, e_y, e_x): # 나이트 이동 시뮬레이션\n",
    "    direction = [(-2,1), (-1,2), (1,2), (2,1), (2,-1), (1,-2), (-1,-2), (-2,-1)] # 나이트의 이동 방향\n",
    "    q = PriorityQueue() # 우선순위 큐\n",
    "    q.put((0, s_y, s_x)) # (이동 횟수, 출발 y좌표, 출발 x좌표)를 큐에 push\n",
    "    while not q.empty(): \n",
    "        count, y, x = q.get() # (이동 횟수, y좌표, x좌표)를 큐에서 pop\n",
    "        if y == e_y and x == e_x: # 목표 지점 도달했을 때\n",
    "            return count # 이동횟수 반환\n",
    "        for add_y, add_x in direction: # 나이트가 이동할 수 있는 모든 방향에 대해\n",
    "            if 0 <= add_y+y < n and 0 <= add_x+x < n and checked[add_y+y][add_x+x] > count+1:\n",
    "            # 최소 이동횟수로 해당하는 좌표로 이동할 수 있을 때\n",
    "                checked[add_y+y][add_x+x] = count+1 # 최소 이동횟수 갱신\n",
    "                q.put((count+1, add_y+y, add_x+x)) # 큐에 (이동 횟수, 이동 후 y좌표, 이동 후 x좌표) 정보를 큐에 push\n",
    "    return -1 # 도달하지 못할 경우 -1 반환\n",
    "\n",
    "T = int(input(\"Testcase num: \")) # 테스트케이스 개수\n",
    "answers = [] # 답\n",
    "\n",
    "print(\"\\nInput\")\n",
    "for _ in range(T):\n",
    "    line_num = int(input()) # 줄 개수\n",
    "    checked = [[line_num*line_num for _ in range(line_num)] for _ in range(line_num)] # 해당 좌표까지 도달하기 위한 최소 이동 횟수\n",
    "    s_y, s_x = tuple(int(x) for x in input().split()) # 출발 좌표\n",
    "    e_y, e_x = tuple(int(x) for x in input().split()) # 목표지점 좌표\n",
    "    checked[s_y][s_x] = 0 # 출발좌표까지 도달하기 위해 0번 이동한다.\n",
    "    answers.append(simulation(line_num, checked, s_y, s_x, e_y, e_x)) # 시뮬레이션 후 답을 저장\n",
    "\n",
    "print(\"\\nOutput\")    \n",
    "for i in answers: # 답 중에서\n",
    "    if i == -1: # 도달 하지 못할 경우\n",
    "        print(\"Impossible\") # \"Impossible\" 출력\n",
    "    else: # 도달할 경우\n",
    "        print(i) # 답 출력"
   ]
  }
 ],
 "metadata": {
  "kernelspec": {
   "display_name": "Python 3",
   "language": "python",
   "name": "python3"
  },
  "language_info": {
   "codemirror_mode": {
    "name": "ipython",
    "version": 3
   },
   "file_extension": ".py",
   "mimetype": "text/x-python",
   "name": "python",
   "nbconvert_exporter": "python",
   "pygments_lexer": "ipython3",
   "version": "3.6.9"
  }
 },
 "nbformat": 4,
 "nbformat_minor": 2
}
