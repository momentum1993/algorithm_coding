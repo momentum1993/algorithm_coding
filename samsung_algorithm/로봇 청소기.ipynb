{
 "cells": [
  {
   "cell_type": "markdown",
   "metadata": {},
   "source": [
    "# 로봇 청소기"
   ]
  },
  {
   "cell_type": "markdown",
   "metadata": {},
   "source": [
    "[baekjoon의 '로봇 청소기' 링크](https://www.acmicpc.net/problem/14503)"
   ]
  },
  {
   "cell_type": "markdown",
   "metadata": {},
   "source": [
    "### 문제   \n",
    "로봇 청소기가 주어졌을 때, 청소하는 영역의 개수를 구하는 프로그램을 작성하시오.  \n",
    "  \n",
    "로봇 청소기가 있는 장소는 N×M 크기의 직사각형으로 나타낼 수 있으며, 1×1크기의 정사각형 칸으로 나누어져 있다. 각각의 칸은 벽 또는 빈 칸이다. 청소기는 바라보는 방향이 있으며, 이 방향은 동, 서, 남, 북중 하나이다. 지도의 각 칸은 (r, c)로 나타낼 수 있고, r은 북쪽으로부터 떨어진 칸의 개수, c는 서쪽으로 부터 떨어진 칸의 개수이다.  \n",
    "  \n",
    "로봇 청소기는 다음과 같이 작동한다.  \n",
    "  \n",
    "1. 현재 위치를 청소한다.  \n",
    "2. 현재 위치에서 현재 방향을 기준으로 왼쪽방향부터 차례대로 탐색을 진행한다.\n",
    "    a. 왼쪽 방향에 아직 청소하지 않은 공간이 존재한다면, 그 방향으로 회전한 다음 한 칸을 전진하고 1번부터 진행한다.  \n",
    "    b. 왼쪽 방향에 청소할 공간이 없다면, 그 방향으로 회전하고 2번으로 돌아간다.  \n",
    "    c. 네 방향 모두 청소가 이미 되어있거나 벽인 경우에는, 바라보는 방향을 유지한 채로 한 칸 후진을 하고 2번으로 돌아간다.  \n",
    "    d. 네 방향 모두 청소가 이미 되어있거나 벽이면서, 뒤쪽 방향이 벽이라 후진도 할 수 없는 경우에는 작동을 멈춘다.  \n",
    "    \n",
    "로봇 청소기는 이미 청소되어있는 칸을 또 청소하지 않으며, 벽을 통과할 수 없다.  \n",
    "  \n",
    "### 입력  \n",
    "첫째 줄에 세로 크기 N과 가로 크기 M이 주어진다. (3 ≤ N, M ≤ 50)  \n",
    "  \n",
    "둘째 줄에 로봇 청소기가 있는 칸의 좌표 (r, c)와 바라보는 방향 d가 주어진다. d가 0인 경우에는 북쪽을, 1인 경우에는 동쪽을, 2인 경우에는 남쪽을, 3인 경우에는 서쪽을 바라보고 있는 것이다.  \n",
    "  \n",
    "셋째 줄부터 N개의 줄에 장소의 상태가 북쪽부터 남쪽 순서대로, 각 줄은 서쪽부터 동쪽 순서대로 주어진다. 빈 칸은 0, 벽은 1로 주어진다. 장소의 모든 외곽은 벽이다.  \n",
    "  \n",
    "로봇 청소기가 있는 칸의 상태는 항상 빈 칸이다.  \n",
    "\n",
    "### 출력  \n",
    "로봇 청소기가 청소하는 칸의 개수를 출력한다.  "
   ]
  },
  {
   "cell_type": "code",
   "execution_count": 1,
   "metadata": {},
   "outputs": [],
   "source": [
    "def cal_cleaned_area(N, M, y, x, d, board, count=4):\n",
    "    direction = [(-1,0), (0,1),(1,0),(0,-1)] # 북, 동, 남, 서\n",
    "    \n",
    "    if board[y][x] == 1: # 현재 탐색 위치가 벽이면 0 반환\n",
    "        return 0\n",
    "    if d == -1: # 인덱스 조정\n",
    "        d = 3\n",
    "        \n",
    "    if count == 0: # 4방향 모두 탐색한 경우\n",
    "        add_y, add_x = direction[d]\n",
    "        return cal_cleaned_area(N, M, y-add_y, x-add_x, d, board, 4) \n",
    "        # 현재 방향 유지한채로 1칸 후진해서 탐색\n",
    "    \n",
    "    answer = 0\n",
    "    if board[y][x] == 0: # 현재 탐색 위치가 아직 청소되지 않을 경우\n",
    "        board[y][x] = 2 # 청소 되었음을 표시\n",
    "        answer += 1 # 청소된 칸 1 증가\n",
    "        \n",
    "    add_y, add_x = direction[d-1] # 이동 방향\n",
    "    count -= 1 # 현 위치에서 한 방향을 탐색했으므로 1 감소\n",
    "    \n",
    "    if board[add_y+y][add_x+x] == 0: # 이동할 방향의 공간이 아직 청소되지않았다면\n",
    "        y += add_y\n",
    "        x += add_x\n",
    "        count = 4 # 위치 이동을 할 것이므로 다시 count 4로 초기화\n",
    "    d -= 1\n",
    "    answer += cal_cleaned_area(N, M, y, x, d, board, count)\n",
    "    # 방향 이동해서 1칸 이동\n",
    "    return answer\n",
    "    \n",
    "\n",
    "def solution(N, M, r,c,d, board):\n",
    "    y = r\n",
    "    x = c\n",
    "    board = [[int(i) for i in i.split()] for i in board.split('\\n')]\n",
    "    return cal_cleaned_area(N, M, y, x, d, board)\n",
    "    "
   ]
  },
  {
   "cell_type": "code",
   "execution_count": 2,
   "metadata": {},
   "outputs": [],
   "source": [
    "N, M = 3, 3\n",
    "r,c,d = 1, 1, 0\n",
    "board = '''1 1 1\n",
    "1 0 1\n",
    "1 1 1'''"
   ]
  },
  {
   "cell_type": "code",
   "execution_count": 3,
   "metadata": {},
   "outputs": [
    {
     "data": {
      "text/plain": [
       "1"
      ]
     },
     "execution_count": 3,
     "metadata": {},
     "output_type": "execute_result"
    }
   ],
   "source": [
    "solution(N, M, r,c,d, board)"
   ]
  },
  {
   "cell_type": "code",
   "execution_count": 4,
   "metadata": {},
   "outputs": [],
   "source": [
    "N, M = 11, 10\n",
    "r,c,d = 7, 4, 0\n",
    "board = '''1 1 1 1 1 1 1 1 1 1\n",
    "1 0 0 0 0 0 0 0 0 1\n",
    "1 0 0 0 1 1 1 1 0 1\n",
    "1 0 0 1 1 0 0 0 0 1\n",
    "1 0 1 1 0 0 0 0 0 1\n",
    "1 0 0 0 0 0 0 0 0 1\n",
    "1 0 0 0 0 0 0 1 0 1\n",
    "1 0 0 0 0 0 1 1 0 1\n",
    "1 0 0 0 0 0 1 1 0 1\n",
    "1 0 0 0 0 0 0 0 0 1\n",
    "1 1 1 1 1 1 1 1 1 1'''"
   ]
  },
  {
   "cell_type": "code",
   "execution_count": 5,
   "metadata": {},
   "outputs": [
    {
     "data": {
      "text/plain": [
       "57"
      ]
     },
     "execution_count": 5,
     "metadata": {},
     "output_type": "execute_result"
    }
   ],
   "source": [
    "solution(N, M, r,c,d, board)"
   ]
  }
 ],
 "metadata": {
  "kernelspec": {
   "display_name": "Python 3",
   "language": "python",
   "name": "python3"
  },
  "language_info": {
   "codemirror_mode": {
    "name": "ipython",
    "version": 3
   },
   "file_extension": ".py",
   "mimetype": "text/x-python",
   "name": "python",
   "nbconvert_exporter": "python",
   "pygments_lexer": "ipython3",
   "version": "3.6.9"
  }
 },
 "nbformat": 4,
 "nbformat_minor": 2
}
