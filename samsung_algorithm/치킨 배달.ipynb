{
 "cells": [
  {
   "cell_type": "markdown",
   "metadata": {},
   "source": [
    "# 치킨 배달"
   ]
  },
  {
   "cell_type": "markdown",
   "metadata": {},
   "source": [
    "[baekjoon의 '치킨 배달' 링크](https://www.acmicpc.net/problem/15686)"
   ]
  },
  {
   "cell_type": "markdown",
   "metadata": {},
   "source": [
    "### 문제  \n",
    "크기가 N×N인 도시가 있다. 도시는 1×1크기의 칸으로 나누어져 있다. 도시의 각 칸은 빈 칸, 치킨집, 집 중 하나이다. 도시의 칸은 (r, c)와 같은 형태로 나타내고, r행 c열 또는 위에서부터 r번째 칸, 왼쪽에서부터 c번째 칸을 의미한다. r과 c는 1부터 시작한다.  \n",
    "  \n",
    "이 도시에 사는 사람들은 치킨을 매우 좋아한다. 따라서, 사람들은 \"치킨 거리\"라는 말을 주로 사용한다. 치킨 거리는 집과 가장 가까운 치킨집 사이의 거리이다. 즉, 치킨 거리는 집을 기준으로 정해지며, 각각의 집은 치킨 거리를 가지고 있다. 도시의 치킨 거리는 모든 집의 치킨 거리의 합이다.  \n",
    "  \n",
    "임의의 두 칸 (r1, c1)과 (r2, c2) 사이의 거리는 |r1-r2| + |c1-c2|로 구한다.  \n",
    "  \n",
    "예를 들어, 아래와 같은 지도를 갖는 도시를 살펴보자.  \n",
    "  \n",
    "~~~\n",
    "0 2 0 1 0\n",
    "1 0 1 0 0\n",
    "0 0 0 0 0\n",
    "0 0 0 1 1\n",
    "0 0 0 1 2\n",
    "~~~  \n",
    "  \n",
    "0은 빈 칸, 1은 집, 2는 치킨집이다.  \n",
    "  \n",
    "(2, 1)에 있는 집과 (1, 2)에 있는 치킨집과의 거리는 |2-1| + |1-2| = 2, (5, 5)에 있는 치킨집과의 거리는 |2-5| + |1-5| = 7이다. 따라서, (2, 1)에 있는 집의 치킨 거리는 2이다.  \n",
    "  \n",
    "(5, 4)에 있는 집과 (1, 2)에 있는 치킨집과의 거리는 |5-1| + |4-2| = 6, (5, 5)에 있는 치킨집과의 거리는 |5-5| + |4-5| = 1이다. 따라서, (5, 4)에 있는 집의 치킨 거리는 1이다.  \n",
    "  \n",
    "이 도시에 있는 치킨집은 모두 같은 프랜차이즈이다. 프렌차이즈 본사에서는 수익을 증가시키기 위해 일부 치킨집을 폐업시키려고 한다. 오랜 연구 끝에 이 도시에서 가장 수익을 많이 낼 수 있는  치킨집의 개수는 최대 M개라는 사실을 알아내었다.  \n",
    "  \n",
    "도시에 있는 치킨집 중에서 최대 M개를 고르고, 나머지 치킨집은 모두 폐업시켜야 한다. 어떻게 고르면, 도시의 치킨 거리가 가장 작게 될지 구하는 프로그램을 작성하시오.  \n",
    "  \n",
    "### 입력  \n",
    "첫째 줄에 N(2 ≤ N ≤ 50)과 M(1 ≤ M ≤ 13)이 주어진다.  \n",
    "  \n",
    "둘째 줄부터 N개의 줄에는 도시의 정보가 주어진다.  \n",
    "  \n",
    "도시의 정보는 0, 1, 2로 이루어져 있고, 0은 빈 칸, 1은 집, 2는 치킨집을 의미한다. 집의 개수는 2N개를 넘지 않으며, 적어도 1개는 존재한다. 치킨집의 개수는 M보다 크거나 같고, 13보다 작거나 같다.  \n",
    "  \n",
    "### 출력\n",
    "첫째 줄에 폐업시키지 않을 치킨집을 최대 M개를 골랐을 때, 도시의 치킨 거리의 최솟값을 출력한다.  \n",
    "  "
   ]
  },
  {
   "cell_type": "code",
   "execution_count": 1,
   "metadata": {},
   "outputs": [],
   "source": [
    "def cal_min_distance(N, M, house_loc, chicken_loc, distance=None, idx=0):\n",
    "    answer = [N*N for _ in range(len(house_loc))] # 각 집에 대한 치킨 거리\n",
    "    if idx == len(chicken_loc) or M == 0: \n",
    "    # 모든 치킨집을 확인했거나 만약 M개의 치킨집을 이미 탐색했다면 중단\n",
    "        return answer\n",
    "    \n",
    "    if distance is None:\n",
    "        distance = [[-1 for _ in range(len(house_loc))] for _ in range(len(chicken_loc))]\n",
    "        for c_idx in range(len(chicken_loc)):\n",
    "            c_y, c_x = chicken_loc[c_idx]\n",
    "            for h_idx in range(len(house_loc)):\n",
    "                h_y, h_x = house_loc[h_idx]\n",
    "                distance[c_idx][h_idx] = abs(c_y - h_y) + abs(c_x - h_x)\n",
    "        # distance[c_idx][h_idx]는 c_idx번 치킨집에서 h_idx번 집까지의 거리\n",
    "    \n",
    "    for i in range(len(chicken_loc)): # 모든 치킨집에 대해서\n",
    "        t_answer = cal_min_distance(N, M-1, house_loc, chicken_loc, distance, i+1)\n",
    "        for j in range(len(t_answer)):\n",
    "            t_answer[j] = min(distance[i][j], t_answer[j])\n",
    "        # i번 치킨집을 추가하고, depth-first로 치킨집을 추가하여 도시 치킨 거리 계산 \n",
    "        if sum(answer) > sum(t_answer):\n",
    "            answer = t_answer\n",
    "            # 여태까지 나온 값 중에 가장 도시 치킨 거리가 짧은 것 선택\n",
    "    return answer\n",
    "    \n",
    "def solution(N, M, board):\n",
    "    board = [[int(x) for x in x.split()] for x in board.split('\\n')]\n",
    "    house_loc = [] # 집 좌표\n",
    "    chicken_loc = [] # 치킨집 좌표\n",
    "    for y in range(N):\n",
    "        for x in range(N):\n",
    "            if board[y][x] == 1:\n",
    "                house_loc.append((y,x))\n",
    "            elif board[y][x] == 2:\n",
    "                chicken_loc.append((y,x))\n",
    "    # 집과 치킨집 좌표 저장\n",
    "    return sum(cal_min_distance(N, M, house_loc, chicken_loc))\n",
    "    # 계산해서 나온 최소 도시 치킨 거리 반환\n",
    "    \n",
    "    "
   ]
  },
  {
   "cell_type": "code",
   "execution_count": 2,
   "metadata": {},
   "outputs": [],
   "source": [
    "N, M = 5, 3\n",
    "board = '''0 0 1 0 0\n",
    "0 0 2 0 1\n",
    "0 1 2 0 0\n",
    "0 0 1 0 0\n",
    "0 0 0 0 2'''"
   ]
  },
  {
   "cell_type": "code",
   "execution_count": 3,
   "metadata": {},
   "outputs": [
    {
     "data": {
      "text/plain": [
       "5"
      ]
     },
     "execution_count": 3,
     "metadata": {},
     "output_type": "execute_result"
    }
   ],
   "source": [
    "solution(N, M, board)"
   ]
  },
  {
   "cell_type": "code",
   "execution_count": 4,
   "metadata": {},
   "outputs": [],
   "source": [
    "N, M = 5, 2\n",
    "board = '''0 2 0 1 0\n",
    "1 0 1 0 0\n",
    "0 0 0 0 0\n",
    "2 0 0 1 1\n",
    "2 2 0 1 2'''"
   ]
  },
  {
   "cell_type": "code",
   "execution_count": 5,
   "metadata": {},
   "outputs": [
    {
     "data": {
      "text/plain": [
       "10"
      ]
     },
     "execution_count": 5,
     "metadata": {},
     "output_type": "execute_result"
    }
   ],
   "source": [
    "solution(N, M, board)"
   ]
  },
  {
   "cell_type": "code",
   "execution_count": 6,
   "metadata": {},
   "outputs": [],
   "source": [
    "N, M = 5, 1\n",
    "board = '''1 2 0 0 0\n",
    "1 2 0 0 0\n",
    "1 2 0 0 0\n",
    "1 2 0 0 0\n",
    "1 2 0 0 0'''"
   ]
  },
  {
   "cell_type": "code",
   "execution_count": 7,
   "metadata": {},
   "outputs": [
    {
     "data": {
      "text/plain": [
       "11"
      ]
     },
     "execution_count": 7,
     "metadata": {},
     "output_type": "execute_result"
    }
   ],
   "source": [
    "solution(N, M, board)"
   ]
  },
  {
   "cell_type": "code",
   "execution_count": 8,
   "metadata": {},
   "outputs": [],
   "source": [
    "N, M = 5, 1\n",
    "board = '''1 2 0 2 1\n",
    "1 2 0 2 1\n",
    "1 2 0 2 1\n",
    "1 2 0 2 1\n",
    "1 2 0 2 1'''"
   ]
  },
  {
   "cell_type": "code",
   "execution_count": 9,
   "metadata": {},
   "outputs": [
    {
     "data": {
      "text/plain": [
       "32"
      ]
     },
     "execution_count": 9,
     "metadata": {},
     "output_type": "execute_result"
    }
   ],
   "source": [
    "solution(N, M, board)"
   ]
  }
 ],
 "metadata": {
  "kernelspec": {
   "display_name": "Python 3",
   "language": "python",
   "name": "python3"
  },
  "language_info": {
   "codemirror_mode": {
    "name": "ipython",
    "version": 3
   },
   "file_extension": ".py",
   "mimetype": "text/x-python",
   "name": "python",
   "nbconvert_exporter": "python",
   "pygments_lexer": "ipython3",
   "version": "3.6.9"
  }
 },
 "nbformat": 4,
 "nbformat_minor": 2
}
