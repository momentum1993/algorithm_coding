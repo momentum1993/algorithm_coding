{
 "cells": [
  {
   "cell_type": "markdown",
   "metadata": {},
   "source": [
    "### 나이트 투어"
   ]
  },
  {
   "cell_type": "markdown",
   "metadata": {},
   "source": [
    "[baekjoon의 '나이트 투어' 링크](https://www.acmicpc.net/problem/1331)"
   ]
  },
  {
   "cell_type": "markdown",
   "metadata": {},
   "source": [
    "### 문제  \n",
    "나이트 투어는 체스판에서 나이트가 모든 칸을 정확히 한 번씩 방문하며, 마지막으로 방문하는 칸에서 시작점으로 돌아올 수 있는 경로이다. 다음 그림은 나이트 투어의 한 예이다.  \n",
    "  \n",
    "![](https://www.acmicpc.net/upload/201004/chee.JPG)  \n",
    "  \n",
    "영식이는 6×6 체스판 위에서 또 다른 나이트 투어의 경로를 찾으려고 한다. 체스판의 한 칸은 A\\~F 중의 알파벳 하나와 1\\~6 중의 숫자 하나로 나타낼 수 있다. 영식이의 나이트 투어 경로가 주어질 때, 이것이 올바른 것이면 Valid, 올바르지 않으면 Invalid를 출력하는 프로그램을 작성하시오.  \n",
    "  \n",
    "### 입력  \n",
    "36개의 줄에 나이트가 방문한 순서대로 입력이 주어진다.  \n",
    "  \n",
    "### 출력  \n",
    "첫째 줄에 문제의 정답을 출력한다.  "
   ]
  },
  {
   "cell_type": "code",
   "execution_count": 2,
   "metadata": {
    "scrolled": true
   },
   "outputs": [
    {
     "name": "stdout",
     "output_type": "stream",
     "text": [
      "A1\n",
      "B3\n",
      "A5\n",
      "C6\n",
      "E5\n",
      "F3\n",
      "D2\n",
      "F1\n",
      "E3\n",
      "F5\n",
      "D4\n",
      "B5\n",
      "A3\n",
      "B1\n",
      "C3\n",
      "A2\n",
      "C1\n",
      "E2\n",
      "F4\n",
      "E6\n",
      "C5\n",
      "A6\n",
      "B4\n",
      "D5\n",
      "F6\n",
      "E4\n",
      "D6\n",
      "C4\n",
      "B6\n",
      "A4\n",
      "B2\n",
      "D1\n",
      "F2\n",
      "D3\n",
      "E1\n",
      "C2\n",
      "Valid\n"
     ]
    }
   ],
   "source": [
    "board = [[False for _ in range(6)] for _ in range(6)] # 체스판\n",
    "alpha_dict = {'A':0, 'B':1, 'C':2, 'D':3, 'E':4, 'F':5}  # 알파벳별 열의 인덱스\n",
    "moving = [(1, 2), (-1, 2), (1, -2), (-1, -2), (2, 1), (-2, 1), (2, -1), (-2, -1)]\n",
    "# 나이트가 움직일 수 있는 칸\n",
    "\n",
    "valid = True # 유효 여부\n",
    "location = input() # 위치 입력\n",
    "start_x, start_y = alpha_dict[location[0]], 6 - int(location[1]) # 처음 시작 위치\n",
    "board[start_y][start_x] = True # 방문했음을 표시\n",
    "std_x, std_y = start_x, start_y # 비교 기준 위치\n",
    "\n",
    "for _ in range(35): # 나머지 35칸에 대한 입력을 받는다.\n",
    "    location = input()\n",
    "    x, y = alpha_dict[location[0]], 6 - int(location[1]) \n",
    "    if board[y][x] or not ((y - std_y, x - std_x) in moving):\n",
    "    # 만약 이미 방문했거나, 나이트의 움직임 범위를 벗어날 때\n",
    "        valid = False # 유효하지 않음을 표시\n",
    "    board[y][x] = True # 해당 위치를 방문했음을 표시\n",
    "    std_x, std_y = x, y # 그리고 기준 위치를 갱신\n",
    "if not (start_y-std_y, start_x-std_x) in moving:\n",
    "# 만약 마지막 위치에서 시작점으로 돌아올 수 없다면\n",
    "    valid = False # 유효하지 않음을 표시\n",
    "    \n",
    "# 유효한지에 대한 결과 출력\n",
    "if valid:\n",
    "    print(\"Valid\")\n",
    "else:\n",
    "    print(\"Invalid\")"
   ]
  }
 ],
 "metadata": {
  "kernelspec": {
   "display_name": "Python 3",
   "language": "python",
   "name": "python3"
  },
  "language_info": {
   "codemirror_mode": {
    "name": "ipython",
    "version": 3
   },
   "file_extension": ".py",
   "mimetype": "text/x-python",
   "name": "python",
   "nbconvert_exporter": "python",
   "pygments_lexer": "ipython3",
   "version": "3.6.9"
  }
 },
 "nbformat": 4,
 "nbformat_minor": 2
}
