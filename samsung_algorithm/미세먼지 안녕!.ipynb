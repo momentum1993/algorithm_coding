{
 "cells": [
  {
   "cell_type": "markdown",
   "metadata": {},
   "source": [
    "# 미세먼지 안녕!"
   ]
  },
  {
   "cell_type": "markdown",
   "metadata": {},
   "source": [
    "[baekjoon의 '미세먼지 안녕!' 링크](https://www.acmicpc.net/problem/17144)"
   ]
  },
  {
   "cell_type": "markdown",
   "metadata": {},
   "source": [
    "### 문제  \n",
    "미세먼지를 제거하기 위해 구사과는 공기청정기를 설치하려고 한다. 공기청정기의 성능을 테스트하기 위해 구사과는 집을 크기가 R×C인 격자판으로 나타냈고, 1×1 크기의 칸으로 나눴다. 구사과는 뛰어난 코딩 실력을 이용해 각 칸 (r, c)에 있는 미세먼지의 양을 실시간으로 모니터링하는 시스템을 개발했다. (r, c)는 r행 c열을 의미한다.  \n",
    "  \n",
    "![](https://upload.acmicpc.net/75d322ad-5a89-4301-b3a7-403fce0ff966/-/preview/)  \n",
    "  \n",
    "공기청정기는 항상 1번 열에 설치되어 있고, 크기는 두 행을 차지한다. 공기청정기가 설치되어 있지 않은 칸에는 미세먼지가 있고, (r, c)에 있는 미세먼지의 양은 $A_{r,c}$이다.  \n",
    "  \n",
    "1초 동안 아래 적힌 일이 순서대로 일어난다.  \n",
    "  \n",
    "1. 미세먼지가 확산된다. 확산은 미세먼지가 있는 모든 칸에서 동시에 일어난다.  \n",
    "    - (r, c)에 있는 미세먼지는 인접한 네 방향으로 확산된다.  \n",
    "    - 인접한 방향에 공기청정기가 있거나, 칸이 없으면 그 방향으로는 확산이 일어나지 않는다.  \n",
    "    - 확산되는 양은 $A_{r,c}$/5이고 소수점은 버린다.  \n",
    "    - (r, c)에 남은 미세먼지의 양은 $A_{r,c}$ - ($A_{r,c}$/5)×(확산된 방향의 개수) 이다.  \n",
    "2. 공기청정기가 작동한다.  \n",
    "    - 공기청정기에서는 바람이 나온다.  \n",
    "    - 위쪽 공기청정기의 바람은 반시계방향으로 순환하고, 아래쪽 공기청정기의 바람은 시계방향으로 순환한다.  \n",
    "    - 바람이 불면 미세먼지가 바람의 방향대로 모두 한 칸씩 이동한다.  \n",
    "    - 공기청정기에서 부는 바람은 미세먼지가 없는 바람이고, 공기청정기로 들어간 미세먼지는 모두 정화된다.  \n",
    "  \n",
    "다음은 확산의 예시이다.  \n",
    "  \n",
    "> ![](https://upload.acmicpc.net/7b0d9d57-1296-44cd-8951-4135d27f9446/-/preview/)  \n",
    ">   \n",
    "> 왼쪽과 오른쪽에 칸이 없기 때문에, 두 방향으로만 확산이 일어났다.  \n",
    ">   \n",
    "> ![](https://upload.acmicpc.net/cebebfa9-0056-45f1-b705-75b035888085/-/preview/)  \n",
    ">   \n",
    "> 인접한 네 방향으로 모두 확산이 일어난다.  \n",
    ">   \n",
    "> ![](https://upload.acmicpc.net/1ed0d2e9-9767-4b94-bbde-0e1d6a2d52ff/-/preview/)  \n",
    ">   \n",
    "> 공기청정기가 있는 칸으로는 확산이 일어나지 않는다.  \n",
    "  \n",
    "공기청정기의 바람은 다음과 같은 방향으로 순환한다.  \n",
    "  \n",
    "![](https://upload.acmicpc.net/94466937-96c7-4f25-9804-530ebd554a59/-/preview/)  \n",
    "  \n",
    "방의 정보가 주어졌을 때, T초가 지난 후 구사과의 방에 남아있는 미세먼지의 양을 구해보자.  \n",
    "  \n",
    "### 입력    \n",
    "첫째 줄에 R, C, T (6 ≤ R, C ≤ 50, 1 ≤ T ≤ 1,000) 가 주어진다.  \n",
    "  \n",
    "둘째 줄부터 R개의 줄에 $A_{r,c}$ (-1 ≤ $A_{r,c}$ ≤ 1,000)가 주어진다. 공기청정기가 설치된 곳은 $A_{r,c}$가 -1이고, 나머지 값은 미세먼지의 양이다. -1은 2번 위아래로 붙어져 있고, 가장 윗 행, 아랫 행과 두 칸이상 떨어져 있다.  \n",
    "  \n",
    "### 출력  \n",
    "첫째 줄에 T초가 지난 후 구사과 방에 남아있는 미세먼지의 양을 출력한다.  \n",
    "  "
   ]
  },
  {
   "cell_type": "code",
   "execution_count": 1,
   "metadata": {},
   "outputs": [],
   "source": [
    "from copy import deepcopy\n",
    "\n",
    "def running_air_cleaner(R, C, T, board, air_cleaner_flow, dusts): # 공기청정기의 흐름\n",
    "    for i in range(len(air_cleaner_flow)):\n",
    "        len_flow = len(air_cleaner_flow[i])\n",
    "        for j in range(len_flow-2, -1, -1): \n",
    "            f_y, f_x = air_cleaner_flow[i][j]\n",
    "            if (f_y, f_x) in dusts:\n",
    "                m_y, m_x = air_cleaner_flow[i][j+1]\n",
    "                board[m_y][m_x] = board[f_y][f_x]\n",
    "                board[f_y][f_x] = 0 \n",
    "                dusts.add((m_y, m_x))\n",
    "                dusts.remove((f_y, f_x))\n",
    "                # 공기청정기 흐름 내의 미세먼지를 1칸씩 옮기고\n",
    "                # 미세먼지 위치 리스트를 갱신한다.\n",
    "            \n",
    "def air_cleaner_simulation(R, C, T, board, air_cleaner_flow, dusts):\n",
    "    if T == 0: # 주어진 시간을 모두 시뮬레이션 돌린 후\n",
    "        answer = 0\n",
    "        for y in range(R):\n",
    "            for x in range(C):\n",
    "                if board[y][x] > 0:\n",
    "                    answer += board[y][x]\n",
    "        return answer # 남은 미세먼지들을 반환한다.\n",
    "    \n",
    "    directions = [(0, 1), (0, -1), (1, 0), (-1, 0)] # 동. 서. 남. 북\n",
    "    copy_board = deepcopy(board)\n",
    "\n",
    "    add_dusts = set() # 확산되어 추가될 미세먼지 좌표들\n",
    "    for d_y, d_x in dusts: # 모든 미세먼지에 대해서\n",
    "        dust = copy_board[d_y][d_x]\n",
    "        if dust == 1: # 현재 미세먼지가 1인 곳은 무시\n",
    "            continue\n",
    "        diffused_num = 0 # 확산된 위치 개수\n",
    "        for add_y, add_x in directions: # 네 방향에 대해\n",
    "            if 0 <= d_y+add_y < R and 0 <= d_x+add_x < C:\n",
    "                if copy_board[d_y+add_y][d_x+add_x] == -1:\n",
    "                # 공기청정기가 위치한 곳은 무시\n",
    "                    continue\n",
    "                board[d_y+add_y][d_x+add_x] += dust // 5 # 5를 나눈 값만큼 더한다.\n",
    "                diffused_num += 1 # 위치 개수 증가\n",
    "                add_dusts.add(((d_y+add_y, d_x+add_x))) # 미세먼지 위치 추가\n",
    "        board[d_y][d_x] -= (dust // 5) * diffused_num\n",
    "        # 그리고 빠져나간 만큼 현재 위치의 미세먼지 농도를 뺀다.\n",
    "    dusts = dusts.union(add_dusts) # 그리고 새롭게 추가된 미세먼지 위치 추가\n",
    "    running_air_cleaner(R, C, T, board, air_cleaner_flow, dusts)\n",
    "    # 이 후, 공기청정기를 돌린다.\n",
    "    return air_cleaner_simulation(R, C, T-1, board, air_cleaner_flow, dusts)\n",
    "    # 그리고 1초 후의 공기청정기 시뮬레이션을 재귀적으로 돌린다.\n",
    "\n",
    "def solution(R, C, T, board):\n",
    "    board = [[int(x) for x in x.split()] for x in board.split(\"\\n\")]\n",
    "    air_cleaner = [] # 공기청정기 위치\n",
    "    air_cleaner_flow = [] # 공기청정기가 관여하는 위치\n",
    "    dusts = set() # 먼지의 위치들\n",
    "    for y in range(R):\n",
    "        for x in range(C):\n",
    "            if board[y][x] > 0:\n",
    "                dusts.add((y,x)) # 먼지\n",
    "            elif board[y][x] == -1:\n",
    "                air_cleaner.append((y,x)) # 공기청정기\n",
    "     \n",
    "    directions = [[(0, 1), (-1, 0), (0, -1), (1, 0)],[(0, 1), (1, 0), (0, -1), (-1, 0)]]\n",
    "    for air in range(len(air_cleaner)):\n",
    "        a_y, a_x = air_cleaner[air]\n",
    "        flow = []\n",
    "        for add_y, add_x in directions[air]:\n",
    "            while True:\n",
    "                if not(0 <= a_y + add_y < R and 0 <= a_x + add_x < C) or air_cleaner[air] == (a_y + add_y, a_x+add_x):\n",
    "                    break\n",
    "                a_y += add_y\n",
    "                a_x += add_x\n",
    "                flow.append((a_y, a_x))\n",
    "        air_cleaner_flow.append(flow)\n",
    "    # 공기청정기가 관여하는 위치\n",
    "    return air_cleaner_simulation(R,C,T,board, air_cleaner_flow, dusts)"
   ]
  },
  {
   "cell_type": "code",
   "execution_count": 2,
   "metadata": {},
   "outputs": [],
   "source": [
    "R, C, T = 7, 8, 1\n",
    "board = '''0 0 0 0 0 0 0 9\n",
    "0 0 0 0 3 0 0 8\n",
    "-1 0 5 0 0 0 22 0\n",
    "-1 8 0 0 0 0 0 0\n",
    "0 0 0 0 0 10 43 0\n",
    "0 0 5 0 15 0 0 0\n",
    "0 0 40 0 0 0 20 0'''"
   ]
  },
  {
   "cell_type": "code",
   "execution_count": 3,
   "metadata": {
    "scrolled": false
   },
   "outputs": [
    {
     "data": {
      "text/plain": [
       "188"
      ]
     },
     "execution_count": 3,
     "metadata": {},
     "output_type": "execute_result"
    }
   ],
   "source": [
    "solution(R, C, T, board)"
   ]
  },
  {
   "cell_type": "code",
   "execution_count": 4,
   "metadata": {},
   "outputs": [],
   "source": [
    "R, C, T = 7, 8, 2\n",
    "board = '''0 0 0 0 0 0 0 9\n",
    "0 0 0 0 3 0 0 8\n",
    "-1 0 5 0 0 0 22 0\n",
    "-1 8 0 0 0 0 0 0\n",
    "0 0 0 0 0 10 43 0\n",
    "0 0 5 0 15 0 0 0\n",
    "0 0 40 0 0 0 20 0'''"
   ]
  },
  {
   "cell_type": "code",
   "execution_count": 5,
   "metadata": {},
   "outputs": [
    {
     "data": {
      "text/plain": [
       "188"
      ]
     },
     "execution_count": 5,
     "metadata": {},
     "output_type": "execute_result"
    }
   ],
   "source": [
    "solution(R, C, T, board)"
   ]
  },
  {
   "cell_type": "code",
   "execution_count": 6,
   "metadata": {},
   "outputs": [],
   "source": [
    "R, C, T = 7, 8, 3\n",
    "board = '''0 0 0 0 0 0 0 9\n",
    "0 0 0 0 3 0 0 8\n",
    "-1 0 5 0 0 0 22 0\n",
    "-1 8 0 0 0 0 0 0\n",
    "0 0 0 0 0 10 43 0\n",
    "0 0 5 0 15 0 0 0\n",
    "0 0 40 0 0 0 20 0'''"
   ]
  },
  {
   "cell_type": "code",
   "execution_count": 7,
   "metadata": {},
   "outputs": [
    {
     "data": {
      "text/plain": [
       "186"
      ]
     },
     "execution_count": 7,
     "metadata": {},
     "output_type": "execute_result"
    }
   ],
   "source": [
    "solution(R, C, T, board)"
   ]
  },
  {
   "cell_type": "code",
   "execution_count": 8,
   "metadata": {},
   "outputs": [],
   "source": [
    "R, C, T = 7, 8, 4\n",
    "board = '''0 0 0 0 0 0 0 9\n",
    "0 0 0 0 3 0 0 8\n",
    "-1 0 5 0 0 0 22 0\n",
    "-1 8 0 0 0 0 0 0\n",
    "0 0 0 0 0 10 43 0\n",
    "0 0 5 0 15 0 0 0\n",
    "0 0 40 0 0 0 20 0'''"
   ]
  },
  {
   "cell_type": "code",
   "execution_count": 9,
   "metadata": {},
   "outputs": [
    {
     "data": {
      "text/plain": [
       "178"
      ]
     },
     "execution_count": 9,
     "metadata": {},
     "output_type": "execute_result"
    }
   ],
   "source": [
    "solution(R, C, T, board)"
   ]
  },
  {
   "cell_type": "code",
   "execution_count": 10,
   "metadata": {},
   "outputs": [],
   "source": [
    "R, C, T = 7, 8, 5\n",
    "board = '''0 0 0 0 0 0 0 9\n",
    "0 0 0 0 3 0 0 8\n",
    "-1 0 5 0 0 0 22 0\n",
    "-1 8 0 0 0 0 0 0\n",
    "0 0 0 0 0 10 43 0\n",
    "0 0 5 0 15 0 0 0\n",
    "0 0 40 0 0 0 20 0'''"
   ]
  },
  {
   "cell_type": "code",
   "execution_count": 11,
   "metadata": {},
   "outputs": [
    {
     "data": {
      "text/plain": [
       "172"
      ]
     },
     "execution_count": 11,
     "metadata": {},
     "output_type": "execute_result"
    }
   ],
   "source": [
    "solution(R, C, T, board)"
   ]
  },
  {
   "cell_type": "code",
   "execution_count": 12,
   "metadata": {},
   "outputs": [],
   "source": [
    "R, C, T = 7, 8, 20\n",
    "board = '''0 0 0 0 0 0 0 9\n",
    "0 0 0 0 3 0 0 8\n",
    "-1 0 5 0 0 0 22 0\n",
    "-1 8 0 0 0 0 0 0\n",
    "0 0 0 0 0 10 43 0\n",
    "0 0 5 0 15 0 0 0\n",
    "0 0 40 0 0 0 20 0'''"
   ]
  },
  {
   "cell_type": "code",
   "execution_count": 13,
   "metadata": {},
   "outputs": [
    {
     "data": {
      "text/plain": [
       "71"
      ]
     },
     "execution_count": 13,
     "metadata": {},
     "output_type": "execute_result"
    }
   ],
   "source": [
    "solution(R, C, T, board)"
   ]
  },
  {
   "cell_type": "code",
   "execution_count": 14,
   "metadata": {},
   "outputs": [],
   "source": [
    "R, C, T = 7, 8, 30\n",
    "board = '''0 0 0 0 0 0 0 9\n",
    "0 0 0 0 3 0 0 8\n",
    "-1 0 5 0 0 0 22 0\n",
    "-1 8 0 0 0 0 0 0\n",
    "0 0 0 0 0 10 43 0\n",
    "0 0 5 0 15 0 0 0\n",
    "0 0 40 0 0 0 20 0'''"
   ]
  },
  {
   "cell_type": "code",
   "execution_count": 15,
   "metadata": {},
   "outputs": [
    {
     "data": {
      "text/plain": [
       "52"
      ]
     },
     "execution_count": 15,
     "metadata": {},
     "output_type": "execute_result"
    }
   ],
   "source": [
    "solution(R, C, T, board)"
   ]
  },
  {
   "cell_type": "code",
   "execution_count": 16,
   "metadata": {},
   "outputs": [],
   "source": [
    "R, C, T = 7, 8, 50\n",
    "board = '''0 0 0 0 0 0 0 9\n",
    "0 0 0 0 3 0 0 8\n",
    "-1 0 5 0 0 0 22 0\n",
    "-1 8 0 0 0 0 0 0\n",
    "0 0 0 0 0 10 43 0\n",
    "0 0 5 0 15 0 0 0\n",
    "0 0 40 0 0 0 20 0'''"
   ]
  },
  {
   "cell_type": "code",
   "execution_count": 17,
   "metadata": {},
   "outputs": [
    {
     "data": {
      "text/plain": [
       "46"
      ]
     },
     "execution_count": 17,
     "metadata": {},
     "output_type": "execute_result"
    }
   ],
   "source": [
    "solution(R, C, T, board)"
   ]
  }
 ],
 "metadata": {
  "kernelspec": {
   "display_name": "Python 3",
   "language": "python",
   "name": "python3"
  },
  "language_info": {
   "codemirror_mode": {
    "name": "ipython",
    "version": 3
   },
   "file_extension": ".py",
   "mimetype": "text/x-python",
   "name": "python",
   "nbconvert_exporter": "python",
   "pygments_lexer": "ipython3",
   "version": "3.6.9"
  }
 },
 "nbformat": 4,
 "nbformat_minor": 2
}
