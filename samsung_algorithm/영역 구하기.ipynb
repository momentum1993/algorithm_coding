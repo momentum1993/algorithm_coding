{
 "cells": [
  {
   "cell_type": "markdown",
   "metadata": {},
   "source": [
    "# 영역 구하기"
   ]
  },
  {
   "cell_type": "markdown",
   "metadata": {},
   "source": [
    "[baekjoon의 '영역 구하기' 링크](https://www.acmicpc.net/problem/2583)"
   ]
  },
  {
   "cell_type": "markdown",
   "metadata": {},
   "source": [
    "### 문제   \n",
    "눈금의 간격이 1인 M×N(M,N≤100)크기의 모눈종이가 있다. 이 모눈종이 위에 눈금에 맞추어 K개의 직사각형을 그릴 때, 이들 K개의 직사각형의 내부를 제외한 나머지 부분이 몇 개의 분리된 영역으로 나누어진다.  \n",
    "  \n",
    "예를 들어 M=5, N=7 인 모눈종이 위에 <그림 1>과 같이 직사각형 3개를 그렸다면, 그 나머지 영역은 <그림 2>와 같이 3개의 분리된 영역으로 나누어지게 된다.  \n",
    "  \n",
    "![](https://www.acmicpc.net/upload/images/zzJD2aQyF5Rm4IlOt.png)  \n",
    "  \n",
    "<그림 2>와 같이 분리된 세 영역의 넓이는 각각 1, 7, 13이 된다.  \n",
    "  \n",
    "M, N과 K 그리고 K개의 직사각형의 좌표가 주어질 때, K개의 직사각형 내부를 제외한 나머지 부분이 몇 개의 분리된 영역으로 나누어지는지, 그리고 분리된 각 영역의 넓이가 얼마인지를 구하여 이를 출력하는 프로그램을 작성하시오.  \n",
    "  \n",
    "### 입력  \n",
    "첫째 줄에 M과 N, 그리고 K가 빈칸을 사이에 두고 차례로 주어진다. M, N, K는 모두 100 이하의 자연수이다. 둘째 줄부터 K개의 줄에는 한 줄에 하나씩 직사각형의 왼쪽 아래 꼭짓점의 x, y좌표값과 오른쪽 위 꼭짓점의 x, y좌표값이 빈칸을 사이에 두고 차례로 주어진다. 모눈종이의 왼쪽 아래 꼭짓점의 좌표는 (0,0)이고, 오른쪽 위 꼭짓점의 좌표는(N,M)이다. 입력되는 K개의 직사각형들이 모눈종이 전체를 채우는 경우는 없다.  \n",
    "  \n",
    "### 출력  \n",
    "첫째 줄에 분리되어 나누어지는 영역의 개수를 출력한다. 둘째 줄에는 각 영역의 넓이를 오름차순으로 정렬하여 빈칸을 사이에 두고 출력한다.  "
   ]
  },
  {
   "cell_type": "code",
   "execution_count": 1,
   "metadata": {},
   "outputs": [
    {
     "name": "stdout",
     "output_type": "stream",
     "text": [
      "5 7 3\n",
      "0 2 4 4\n",
      "1 1 2 5\n",
      "4 0 6 2\n",
      "3\n",
      "1 7 13 "
     ]
    }
   ],
   "source": [
    "from queue import Queue\n",
    "\n",
    "def calTerritoryArea(M, N, board, init_y, init_x): # 분리된 영역의 크기를 구하고 반환\n",
    "    q = Queue() # 큐\n",
    "    answer = 1 # 시작점 영역을 포함한 상태의 현재 영역\n",
    "    direction = [(0,1),(0,-1),(1,0),(-1,0)] # 4방향\n",
    "    q.put((init_y, init_x)) # 큐에 처음 좌표를 push\n",
    "    board[init_y][init_x] = True # 처음 좌표를 확인했음을 체크\n",
    "    while not q.empty():\n",
    "        y, x = q.get() # y, x좌표\n",
    "        for add_y, add_x in direction: # 네 방향에 대해서\n",
    "            if 0 <= y + add_y < M and 0 <= x + add_x < N and not board[y+add_y][x+add_x]:\n",
    "            # 도달할 수 있는 위치이고, 아직 탐색하지 않은 위치라면\n",
    "                q.put((y+add_y, x+add_x)) # 큐에 push한다.\n",
    "                board[y+add_y][x+add_x] = True # 탐색했음을 체크한다\n",
    "                answer += 1 # 영토의 영역 크기를 1 증가시킴\n",
    "    return answer # 답 반환\n",
    "\n",
    "def getTerritoryInfo(M, N, board): # 영역의 정보 반환\n",
    "    territory_area = [] # 각 영역의 사이즈\n",
    "    territory_num = 0 # 영역의 총 개수\n",
    "    for y in range(M):\n",
    "        for x in range(N): # 모든 좌표에 대해서\n",
    "            if not board[y][x]: # 확인안한 영토에 대해서\n",
    "                territory_area.append(calTerritoryArea(M, N, board, y, x))\n",
    "                # 영역의 크기를 저장한다.\n",
    "                territory_num += 1 # 영역의 개수 1 증가\n",
    "    print(territory_num) # 영역의 개수 출력\n",
    "    for i in sorted(territory_area):\n",
    "        print(i, end=' ') # 각 영역을 크기 오름차순으로 출력\n",
    "\n",
    "M, N, K = tuple(int(x) for x in input().split()) # 행, 열, 직사각형의 개수\n",
    "board = [[False for _ in range(N)] for _ in range(M)] # 보드 상태\n",
    "for _ in range(K):\n",
    "    s_x, s_y, e_x, e_y = tuple(int(x) for x in input().split()) # 직사각형의 정보를 입력받는다.\n",
    "    for y in range(s_y, e_y):\n",
    "        for x in range(s_x, e_x):\n",
    "            board[y][x] = True # 직사각형의 공간을 True로 체크\n",
    "getTerritoryInfo(M, N, board) # 영역 정보 계산 및 출력"
   ]
  }
 ],
 "metadata": {
  "kernelspec": {
   "display_name": "Python 3",
   "language": "python",
   "name": "python3"
  },
  "language_info": {
   "codemirror_mode": {
    "name": "ipython",
    "version": 3
   },
   "file_extension": ".py",
   "mimetype": "text/x-python",
   "name": "python",
   "nbconvert_exporter": "python",
   "pygments_lexer": "ipython3",
   "version": "3.6.9"
  }
 },
 "nbformat": 4,
 "nbformat_minor": 2
}
