{
 "cells": [
  {
   "cell_type": "markdown",
   "metadata": {},
   "source": [
    "# 맥주 마시면서 걸어가기"
   ]
  },
  {
   "cell_type": "markdown",
   "metadata": {},
   "source": [
    "[baekjoon의 '맥주 마시면서 걸어가기' 링크](https://www.acmicpc.net/problem/9205)"
   ]
  },
  {
   "cell_type": "markdown",
   "metadata": {},
   "source": [
    "### 문제   \n",
    "송도에 사는 상근이와 친구들은 송도에서 열리는 펜타포트 락 페스티벌에 가려고 한다. 올해는 맥주를 마시면서 걸어가기로 했다. 출발은 상근이네 집에서 하고, 맥주 한 박스를 들고 출발한다. 맥주 한 박스에는 맥주가 20개 들어있다. 목이 마르면 안되기 때문에 50미터에 한 병씩 마시려고 한다.  \n",
    "  \n",
    "상근이의 집에서 페스티벌이 열리는 곳은 매우 먼 거리이다. 따라서, 맥주를 더 구매해야 할 수도 있다. 미리 인터넷으로 조사를 해보니 다행히도 맥주를 파는 편의점이 있다. 편의점에 들렸을 때, 빈 병은 버리고 새 맥주 병을 살 수 있다. 하지만, 박스에 들어있는 맥주는 20병을 넘을 수 없다.  \n",
    "  \n",
    "편의점, 상근이네 집, 펜타포트 락 페스티벌의 좌표가 주어진다. 상근이와 친구들이 행복하게 페스티벌에 도착할 수 있는지 구하는 프로그램을 작성하시오.  \n",
    "  \n",
    "### 입력  \n",
    "첫째 줄에 테스트 케이스의 개수 t가 주어진다. (t ≤ 50)  \n",
    "  \n",
    "각 테스트 케이스의 첫째 줄에는 맥주를 파는 편의점의 개수 n이 주어진다. (0 ≤ n ≤ 100).  \n",
    "  \n",
    "다음 n+2개 줄에는 상근이네 집, 편의점, 펜타포트 락 페스티벌 좌표가 주어진다. 각 좌표는 두 정수 x와 y로 이루어져 있다. (두 값 모두 미터, -32768 ≤ x, y ≤ 32767)  \n",
    "  \n",
    "송도는 직사각형 모양으로 생긴 도시이다. 두 좌표 사이의 거리는 x 좌표의 차이 + y 좌표의 차이 이다. (맨해튼 거리)  \n",
    "  \n",
    "### 출력  \n",
    "각 테스트 케이스에 대해서 상근이와 친구들이 행복하게 페스티벌에 갈 수 있으면 \"happy\", 중간에 맥주가 바닥나면 \"sad\"를 출력한다.  "
   ]
  },
  {
   "cell_type": "code",
   "execution_count": 1,
   "metadata": {},
   "outputs": [
    {
     "name": "stdout",
     "output_type": "stream",
     "text": [
      "Testcase num: 2\n",
      "\n",
      "Input\n",
      "2\n",
      "0 0\n",
      "1000 0\n",
      "1000 1000\n",
      "2000 1000\n",
      "2\n",
      "0 0\n",
      "1000 0\n",
      "2000 1000\n",
      "2000 2000\n",
      "\n",
      "Output\n",
      "happy\n",
      "sad\n"
     ]
    }
   ],
   "source": [
    "from queue import Queue\n",
    "def simulation(n, convenient_store, s_x, s_y, e_x, e_y): # 시뮬레이션\n",
    "    q = Queue() # 큐\n",
    "    q.put((s_x, s_y, [False for _ in range(n)])) # (현재 x, 현재 y, 편의점 방문 여부) 정보를 큐에 push\n",
    "    while not q.empty():\n",
    "        x, y, visited = q.get() # (현재 x, 현재 y, 편의점 방문 여부) 정보를 큐에서 pop\n",
    "        if abs(x-e_x)+abs(y-e_y) <= 50 * 20: # 만약 페스티벌에 도달할 수 있을 때\n",
    "            return \"happy\" # \"happy\" 반환\n",
    "        for i in range(n):\n",
    "            if visited[i]: # 방문한 편의점을 제외하고\n",
    "                continue\n",
    "            c_x, c_y = convenient_store[i] # 현재 탐색할 편의점의 위치\n",
    "            if abs(x-c_x)+abs(y-c_y) <= 50 * 20: # 현재 탐색한 편의점에 도달 가능할 때\n",
    "                visited[i] = True # 편의점에 방문했음을 체크\n",
    "                q.put((c_x, c_y, visited)) # (x, y, 편의점 방문 여부) 정보를 큐에 push\n",
    "    return \"sad\" # 만약 갈 수 없을 때 \"sad\" 반환\n",
    "                \n",
    "            \n",
    "\n",
    "t = int(input(\"Testcase num: \")) # 테스트케이스 개수\n",
    "answer = [] # 답\n",
    "\n",
    "print(\"\\nInput\")\n",
    "for _ in range(t):\n",
    "    n = int(input()) # 편의점 개수\n",
    "    convenient_store = [] # 편의점\n",
    "    s_x, s_y = tuple(int(x) for x in input().split()) # 상근이의 위치\n",
    "    for _ in range(n):\n",
    "        convenient_store.append(tuple(int(x) for x in input().split())) # 편의점 위치 입력\n",
    "    e_x, e_y = tuple(int(x) for x in input().split()) # 페스티벌이 열리는 위치\n",
    "    answer.append(simulation(n, convenient_store, s_x, s_y, e_x, e_y)) # 시뮬레이션 후 답 추가\n",
    "\n",
    "print(\"\\nOutput\")\n",
    "for a in answer:\n",
    "    print(a) # 답 출력"
   ]
  }
 ],
 "metadata": {
  "kernelspec": {
   "display_name": "Python 3",
   "language": "python",
   "name": "python3"
  },
  "language_info": {
   "codemirror_mode": {
    "name": "ipython",
    "version": 3
   },
   "file_extension": ".py",
   "mimetype": "text/x-python",
   "name": "python",
   "nbconvert_exporter": "python",
   "pygments_lexer": "ipython3",
   "version": "3.6.9"
  }
 },
 "nbformat": 4,
 "nbformat_minor": 2
}
