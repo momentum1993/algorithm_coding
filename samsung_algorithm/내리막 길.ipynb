{
 "cells": [
  {
   "cell_type": "markdown",
   "metadata": {},
   "source": [
    "# 내리막 길"
   ]
  },
  {
   "cell_type": "markdown",
   "metadata": {},
   "source": [
    "[baekjoon의 '내리막 길' 링크](https://www.acmicpc.net/problem/1520)"
   ]
  },
  {
   "cell_type": "markdown",
   "metadata": {},
   "source": [
    "### 문제   \n",
    "여행을 떠난 세준이는 지도를 하나 구하였다. 이 지도는 아래 그림과 같이 직사각형 모양이며 여러 칸으로 나뉘어져 있다. 한 칸은 한 지점을 나타내는데 각 칸에는 그 지점의 높이가 쓰여 있으며, 각 지점 사이의 이동은 지도에서 상하좌우 이웃한 곳끼리만 가능하다.\n",
    "\n",
    "![](https://www.acmicpc.net/upload/201004/1.PNG)\n",
    "\n",
    "현재 제일 왼쪽 위 칸이 나타내는 지점에 있는 세준이는 제일 오른쪽 아래 칸이 나타내는 지점으로 가려고 한다. 그런데 가능한 힘을 적게 들이고 싶어 항상 높이가 더 낮은 지점으로만 이동하여 목표 지점까지 가고자 한다. 위와 같은 지도에서는 다음과 같은 세 가지 경로가 가능하다.  \n",
    "  \n",
    "![](https://www.acmicpc.net/upload/201004/2.png)  \n",
    "![](https://www.acmicpc.net/upload/201004/3.PNG)  \n",
    "  \n",
    "지도가 주어질 때 이와 같이 제일 왼쪽 위 지점에서 출발하여 제일 오른쪽 아래 지점까지 항상 내리막길로만 이동하는 경로의 개수를 구하는 프로그램을 작성하시오.  \n",
    "  \n",
    "### 입력  \n",
    "첫째 줄에는 지도의 세로의 크기 M과 가로의 크기 N이 빈칸을 사이에 두고 주어진다. 이어 다음 M개 줄에 걸쳐 한 줄에 N개씩 위에서부터 차례로 각 지점의 높이가 빈 칸을 사이에 두고 주어진다. M과 N은 각각 500이하의 자연수이고, 각 지점의 높이는 10000이하의 자연수이다.  \n",
    "  \n",
    "### 출력  \n",
    "첫째 줄에 이동 가능한 경로의 수 H를 출력한다. 모든 입력에 대하여 H는 10억 이하의 음이 아닌 정수이다.  "
   ]
  },
  {
   "cell_type": "code",
   "execution_count": 1,
   "metadata": {},
   "outputs": [
    {
     "name": "stdout",
     "output_type": "stream",
     "text": [
      "4 5\n",
      "50 45 37 32 30\n",
      "35 50 40 20 25\n",
      "30 30 25 17 28\n",
      "27 24 22 15 10\n",
      "3\n"
     ]
    }
   ],
   "source": [
    "def simulation(M, N, board, y=0, x=0): # 지도 이동 시뮬레이션\n",
    "    if y == M-1 and x == N-1: # 만약 제일 오른쪽 아래 칸에 도달시\n",
    "        return 1 # 1 반환\n",
    "    directions = [(0, 1), (0, -1), (1, 0), (-1, 0)] # 동. 서. 남. 북\n",
    "    answer = 0 # 답\n",
    "    for add_y, add_x in directions: # 모든 방향에 대해서\n",
    "        if 0 <= y+add_y < M and 0 <= x+add_x < N and board[y][x] > board[y+add_y][x+add_x]:\n",
    "        # 이동할 좌표가 지도 내에 있고, 현재 위치보다 낮은 지역이라면\n",
    "            answer += simulation(M, N, board, y+add_y, x+add_x)\n",
    "            # 이동한 뒤 재귀적으로 경로를 찾는다.\n",
    "    return answer # 답 반환\n",
    "\n",
    "M, N = tuple(int(x) for x in input().split()) # 행, 열\n",
    "board = [] # 보드\n",
    "for _ in range(M):\n",
    "    board.append([int(x) for x in input().split()])\n",
    "\n",
    "print(simulation(M, N, board)) # 답 출력"
   ]
  }
 ],
 "metadata": {
  "kernelspec": {
   "display_name": "Python 3",
   "language": "python",
   "name": "python3"
  },
  "language_info": {
   "codemirror_mode": {
    "name": "ipython",
    "version": 3
   },
   "file_extension": ".py",
   "mimetype": "text/x-python",
   "name": "python",
   "nbconvert_exporter": "python",
   "pygments_lexer": "ipython3",
   "version": "3.6.9"
  }
 },
 "nbformat": 4,
 "nbformat_minor": 2
}
