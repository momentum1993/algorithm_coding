{
 "cells": [
  {
   "cell_type": "markdown",
   "metadata": {},
   "source": [
    "# 로봇"
   ]
  },
  {
   "cell_type": "markdown",
   "metadata": {},
   "source": [
    "[baekjoon의 '로봇' 링크](https://www.acmicpc.net/problem/13901)"
   ]
  },
  {
   "cell_type": "markdown",
   "metadata": {},
   "source": [
    "### 문제  \n",
    "해빈이는 로봇을 좋아한다. 로봇을 가지고 놀던 해빈이는 로봇에게 계속해서 명령을 내려 움직이는 대신 이동할 방향을 미리 지정하여 로봇이 알아서 움직이도록 하였다.  이 로봇은 다음과 같은 규칙을 가지고 움직인다.  \n",
    "  \n",
    "- 로봇은 사용자가 지정한 방향을 일직선으로 움직인다.  \n",
    "- 이동 중 벽이나 방문한 지역, 장애물을 만날 경우 로봇은 사용자가 지정한 다음 방향으로 움직인다.  \n",
    "- 사용자가 지정한 다음 방향이 없다면 맨 처음 방향으로 돌아가서 위의 과정을 반복한다.  \n",
    "- 로봇이 움직일 수 없을 경우 동작을 멈춘다. \n",
    "  \n",
    "\n",
    "|<초기 상태>|<1번 째 이동>|<2번 째 이동>|\n",
    "|:---:|:---:|:---:|\n",
    "|* * *<br>x 0 *<br>* * * |* 1 *<br>x 0 *<br>* * *|2 1 *<br>x 0 *<br>* * *|  \n",
    "  \n",
    "~~~\n",
    "방 크기가 3 * 3이고  \n",
    "장애물이 (1, 0)에 있으며  \n",
    "시작 위치는 (1,1)  \n",
    "해빈이가 지정한 방향이 (상, 하, 좌, 우) 일 때,  \n",
    "로봇의 마지막 위치는 (0, 0)이다.  \n",
    "  \n",
    "2 번째 이동이 끝난 후, 로봇은 움직일 수 없으므로 동작을 멈춘다.  \n",
    "  \n",
    "로봇은 (1, 1) → (0, 1) → (0, 0)로 이동하였다.  \n",
    "~~~  \n",
    "  \n",
    "입력으로 방의 크기와 장애물의 개수, 각 장애물들의 위치, 로봇의 시작 위치, 이동 방향의 순서가 주어졌을 때 로봇이 멈추는 위치를 출력하시오. 위치 (0, 0)은 왼쪽 위를 가리키며 방의 크기가 R * C일 때 오른쪽 아래 위치는 (R - 1, C - 1)이 된다. (R은 세로의 크기를 C은 가로의 크기를 말한다.)  \n",
    "  \n",
    "### 입력  \n",
    "첫 번째 줄에는 방의 크기 R, C(3 ≤ R, C ≤ 1,000)가 입력된다. 두 번째 줄에는 장애물의 개수 k(0 ≤ k ≤ 1,000)가 입력된다. 다음 k개의 줄에는 각 장애물 위치 br(0 ≤ br ≤ R – 1), bc(0 ≤ bc ≤ C - 1)가 주어진다. 그 다음 순서대로 로봇의 시작 위치 sr(0 ≤ sr ≤ R – 1), sc(0 ≤ sc ≤ C - 1)와 이동 방향의 순서(총 4개가 입력되는데 1은 위 방향, 2은 아래 방향, 3은 왼쪽 방향, 4는 오른쪽 방향을 나타낸다)가 한 줄씩 입력된다. 로봇의 시작위치에 장애물이 있는 경우는 없다.  \n",
    "  \n",
    "### 출력  \n",
    "로봇의 마지막 위치 r, c를 출력한다.  "
   ]
  },
  {
   "cell_type": "code",
   "execution_count": 1,
   "metadata": {},
   "outputs": [
    {
     "name": "stdout",
     "output_type": "stream",
     "text": [
      "Input\n",
      "3 3\n",
      "1\n",
      "1 0\n",
      "1 1\n",
      "1 2 3 4\n",
      "\n",
      "Output\n",
      "0 0\n"
     ]
    }
   ],
   "source": [
    "def simulation(R, C, visited, order, s_y, s_x):\n",
    "    direction = [(-1,0), (1,0), (0,-1), (0,1)] # 상, 하, 좌, 우의 방향\n",
    "    idx = 0\n",
    "    y, x = s_y, s_x # 로봇의 처음 위치\n",
    "    while True:\n",
    "        can_move = False # 움직임 여부 플래그\n",
    "        for add_idx in range(4): # 네 방향에 대해서\n",
    "            now_idx = (idx + add_idx) % 4 # 현재 가리키는 방향\n",
    "            add_y, add_x = direction[order[now_idx]]\n",
    "            if 0 <= add_y+y < R and 0 <= add_x+x < C and not visited[add_y+y][add_x+x]:\n",
    "            # 보드 상에 아직 탐색하지 않은 위치에 대해서\n",
    "                visited[add_y+y][add_x+x] = True # 방문함을 체크한다\n",
    "                y += add_y\n",
    "                x += add_x\n",
    "                # 해당 방향으로 이동\n",
    "                idx = now_idx # 방향 인덱스 갱신\n",
    "                can_move = True # 움직였음을 체크\n",
    "                break\n",
    "        if not can_move: # 만약 움직임이 없었다면\n",
    "            break # 로봇 이동 종료\n",
    "    return y, x # 로봇의 현 위치 반환\n",
    "\n",
    "print(\"Input\")\n",
    "R, C = tuple(int(x) for x in input().split()) # 행, 열\n",
    "visited = [[False for _ in range(C)] for _ in range(R)] # 해당 위치 방문 여부\n",
    "k = int(input()) # 장애물 개수\n",
    "for _ in range(k):\n",
    "    ob_y, ob_x = tuple(int(i) for i in input().split()) # 장애물 입력 받음\n",
    "    visited[ob_y][ob_x] = True\n",
    "y, x = tuple(int(i) for i in input().split()) # 로봇의 위치\n",
    "visited[y][x] = True # 현재 로봇의 위치는 방문했음을 체크\n",
    "order = list(int(i)-1 for i in input().split()) # 이동방향 순서\n",
    "a_y, a_x = simulation(R, C, visited, order, y, x) # 시뮬레이션 후 답 반환\n",
    "print(\"\\nOutput\")\n",
    "print(a_y, a_x) # 답 출력"
   ]
  }
 ],
 "metadata": {
  "kernelspec": {
   "display_name": "Python 3",
   "language": "python",
   "name": "python3"
  },
  "language_info": {
   "codemirror_mode": {
    "name": "ipython",
    "version": 3
   },
   "file_extension": ".py",
   "mimetype": "text/x-python",
   "name": "python",
   "nbconvert_exporter": "python",
   "pygments_lexer": "ipython3",
   "version": "3.6.9"
  }
 },
 "nbformat": 4,
 "nbformat_minor": 2
}
