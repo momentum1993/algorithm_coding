{
 "cells": [
  {
   "cell_type": "markdown",
   "metadata": {},
   "source": [
    "# 말이 되고픈 원숭이 "
   ]
  },
  {
   "cell_type": "markdown",
   "metadata": {},
   "source": [
    "[baekjoon의 '말이 되고픈 원숭이' 링크](https://www.acmicpc.net/problem/1600)"
   ]
  },
  {
   "cell_type": "markdown",
   "metadata": {},
   "source": [
    "### 문제   \n",
    "동물원에서 막 탈출한 원숭이 한 마리가 세상구경을 하고 있다. 그 녀석은 말(Horse)이 되기를 간절히 원했다. 그래서 그는 말의 움직임을 유심히 살펴보고 그대로 따라 하기로 하였다. 말은 말이다. 말은 격자판에서 체스의 나이트와 같은 이동방식을 가진다. 다음 그림에 말의 이동방법이 나타나있다. x표시한 곳으로 말이 갈 수 있다는 뜻이다. 참고로 말은 장애물을 뛰어넘을 수 있다.  \n",
    "  \n",
    "| || || |\n",
    "|:---:|:---:|:---:|:---:|:---:|\n",
    "| |x|  |x| |\n",
    "|x| |  | |x|\n",
    "| | |말| | |\n",
    "|x| |  | |x|\n",
    "| |x|  |x| |\n",
    "  \n",
    "근데 원숭이는 한 가지 착각하고 있는 것이 있다. 말은 저렇게 움직일 수 있지만 원숭이는 능력이 부족해서 총 K번만 위와 같이 움직일 수 있고, 그 외에는 그냥 인접한 칸으로만 움직일 수 있다. 대각선 방향은 인접한 칸에 포함되지 않는다.  \n",
    "  \n",
    "이제 원숭이는 머나먼 여행길을 떠난다. 격자판의 맨 왼쪽 위에서 시작해서 맨 오른쪽 아래까지 가야한다. 인접한 네 방향으로 한 번 움직이는 것, 말의 움직임으로 한 번 움직이는 것, 모두 한 번의 동작으로 친다. 격자판이 주어졌을 때, 원숭이가 최소한의 동작으로 시작지점에서 도착지점까지 갈 수 있는 방법을 알아내는 프로그램을 작성하시오.  \n",
    "  \n",
    "### 입력  \n",
    "첫째 줄에 정수 K가 주어진다. 둘째 줄에 격자판의 가로길이 W, 세로길이 H가 주어진다. 그 다음 H줄에 걸쳐 W개의 숫자가 주어지는데, 0은 아무것도 없는 평지, 1은 장애물을 뜻한다. 장애물이 있는 곳으로는 이동할 수 없다. 시작점과 도착점은 항상 평지이다. W와 H는 1이상 200이하의 자연수이고, K는 0이상 30이하의 정수이다.  \n",
    "  \n",
    "### 출력  \n",
    "첫째 줄에 원숭이의 동작수의 최솟값을 출력한다. 시작점에서 도착점까지 갈 수 없는 경우엔 -1을 출력한다.  "
   ]
  },
  {
   "cell_type": "code",
   "execution_count": 1,
   "metadata": {},
   "outputs": [
    {
     "name": "stdout",
     "output_type": "stream",
     "text": [
      "1\n",
      "4 4\n",
      "0 0 0 0\n",
      "1 0 0 0\n",
      "0 0 1 0\n",
      "0 1 0 0\n",
      "4\n"
     ]
    }
   ],
   "source": [
    "def simulation(K, H, W, board, checked, y=0, x=0): # 원숭이 동작 시뮬레이션\n",
    "    if y == H-1 and x == W-1: # 도착점에 도달하면 0 반환\n",
    "        return 0\n",
    "    horse_move = [(1, 2), (-1, 2), (1, -2), (-1, -2), (2, 1), (-2, 1), (2, -1), (-2, -1)] # 말의 움직임\n",
    "    monkey_move = [(0, 1), (0, -1), (1, 0), (-1, 0)] # 원숭이의 움직임\n",
    "    answer = H*W+1 # 답\n",
    "    if K > 0: # 만약 아직 말의 행동을 따라할 수 있을 경우\n",
    "        for add_y, add_x in horse_move: # 모든 방향의 말의 움직임에 대해서\n",
    "            if 0<=y+add_y<H and 0<=x+add_x<W and not checked[y+add_y][x+add_x] and board[y+add_y][x+add_x] == 0:\n",
    "                # 아직 도달하지 않은 격자판 내의 빈칸 위치라면\n",
    "                checked[y+add_y][x+add_x] = True\n",
    "                answer = min(answer, 1+simulation(K-1, H, W, board, checked, y+add_y, x+add_x))\n",
    "                # 재귀적으로 이동한 후 시뮬레이션을 진행해서 최소값을 찾는다.\n",
    "                checked[y+add_y][x+add_x] = False\n",
    "                \n",
    "    for add_y, add_x in monkey_move: # 모든 방향의 원숭이의 움직임에 대해서\n",
    "        if 0<= y+add_y <H and 0<= x+add_x <W and not checked[y+add_y][x+add_x] and board[y+add_y][x+add_x] == 0:\n",
    "            # 아직 도달하지 않은 격자판 내의 빈칸 위치라면\n",
    "            checked[y+add_y][x+add_x] = True\n",
    "            answer = min(answer, 1+simulation(K, H, W, board, checked, y+add_y, x+add_x))\n",
    "            # 재귀적으로 이동한 후 시뮬레이션을 진행해서 최소값을 찾는다.\n",
    "            checked[y+add_y][x+add_x] = False\n",
    "    return answer\n",
    "\n",
    "K = int(input()) # 말의 행동을 따라할 수 있는 횟수\n",
    "W, H = tuple(int(x) for x in input().split()) # 너비, 높이\n",
    "\n",
    "board = [] # 격자판\n",
    "for _ in range(H): \n",
    "    board.append([int(x) for x in input().split()])\n",
    "checked = [[False for _ in range(W)] for _ in range(H)] # 격자판 내에 탐색한 위치를 표시할 격자판\n",
    "checked[0][0] = True # 시작점은 이미 도달했으므로 표시함\n",
    "answer = simulation(K, H, W, board, checked) # 원숭이 이동 시뮬레이션\n",
    "if answer == H*W+1: # 만약 도달할 수 없다면\n",
    "    print(-1) # -1 출력\n",
    "else:\n",
    "    print(answer) # 도달할 수 있다면 답 출력"
   ]
  }
 ],
 "metadata": {
  "kernelspec": {
   "display_name": "Python 3",
   "language": "python",
   "name": "python3"
  },
  "language_info": {
   "codemirror_mode": {
    "name": "ipython",
    "version": 3
   },
   "file_extension": ".py",
   "mimetype": "text/x-python",
   "name": "python",
   "nbconvert_exporter": "python",
   "pygments_lexer": "ipython3",
   "version": "3.6.9"
  }
 },
 "nbformat": 4,
 "nbformat_minor": 2
}
