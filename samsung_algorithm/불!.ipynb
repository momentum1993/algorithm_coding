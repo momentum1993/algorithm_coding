{
 "cells": [
  {
   "cell_type": "markdown",
   "metadata": {},
   "source": [
    "# 불!"
   ]
  },
  {
   "cell_type": "markdown",
   "metadata": {},
   "source": [
    "[baekjoon의 '불!' 링크](https://www.acmicpc.net/problem/4179)"
   ]
  },
  {
   "cell_type": "markdown",
   "metadata": {},
   "source": [
    "### 문제   \n",
    "지훈이는 미로에서 일을 한다. 지훈이를 미로에서 탈출하도록 도와주자!  \n",
    "  \n",
    "미로에서의 지훈이의 위치와 불이 붙은 위치를 감안해서 지훈이가 불에 타기전에 탈출할 수 있는지의 여부, 그리고 얼마나 빨리 탈출할 수 있는지를 결정해야한다.  \n",
    "  \n",
    "지훈이와 불은 매 분마다 한칸씩 수평또는 수직으로(비스듬하게 이동하지 않는다)  이동한다.  \n",
    "  \n",
    "불은 각 지점에서 네 방향으로 확산된다.  \n",
    "  \n",
    "지훈이는 미로의 가장자리에 접한 공간에서 탈출할 수 있다.  \n",
    "  \n",
    "지훈이와 불은 벽이 있는 공간은 통과하지 못한다.  \n",
    "  \n",
    "### 입력\n",
    "입력의 첫째 줄에는 공백으로 구분된 두 정수 R과 C가 주어진다. 단, 1 ≤ R, C ≤ 1000 이다. R은 미로 행의 개수, C는 열의 개수이다.  \n",
    "  \n",
    "다음 입력으로 R줄동안 각각의 미로 행이 주어진다.  \n",
    "  \n",
    "각각의 문자들은 다음을 뜻한다.  \n",
    "  \n",
    "- #: 벽  \n",
    "- .: 지나갈 수 있는 공간  \n",
    "- J: 지훈이의 미로에서의 초기위치 (지나갈 수 있는 공간)  \n",
    "- F: 불이난 공간  \n",
    "- J는 입력에서 하나만 주어진다.  \n",
    "  \n",
    "### 출력  \n",
    "지훈이가 불이 도달하기 전에 미로를 탈출 할 수 없는경우 IMPOSSIBLE 을 출력한다.  \n",
    "  \n",
    "지훈이가 미로를 탈출할 수 있는 경우에는 가장 빠른 탈출시간을 출력한다.  "
   ]
  },
  {
   "cell_type": "code",
   "execution_count": 1,
   "metadata": {},
   "outputs": [
    {
     "name": "stdout",
     "output_type": "stream",
     "text": [
      "4 4\n",
      "####\n",
      "#JF#\n",
      "#..#\n",
      "#..#\n",
      "3\n"
     ]
    }
   ],
   "source": [
    "from queue import PriorityQueue\n",
    "\n",
    "def simulation(R, C, board, j_y, j_x, fire): # 탈출 최소 시간 찾기 시뮬레이션\n",
    "    q = PriorityQueue() # 우선순위 큐\n",
    "    direction = [(0, 1), (1, 0), (0, -1), (-1, 0)] # 네 방향\n",
    "    q.put((0, j_y, j_x)) # (경과된 시간, 지훈이의 y좌표, 지훈이의 x좌표)를 큐에 push\n",
    "    while not q.empty(): # 큐가 빌 때까지 탐색\n",
    "        answer, y, x = q.get() # (경과된 시간, 지훈이의 y좌표, 지훈이의 x좌표)를 큐에서 pop\n",
    "        if y == 0 or y == R-1 or x == 0 or x == C-1: # 만약 지훈이가 탈출할 수 있는 위치라면\n",
    "            return answer+1 # 경과된 시간 + 1초를 답으로 반환\n",
    "        if len(fire) <= answer: # 만약 다음 시간의 불 확산 시뮬레이션을 아직 해보지 않았다면\n",
    "            moved_loc = set()\n",
    "            for f_y, f_x in fire[answer-1]:\n",
    "                for add_y, add_x in direction:\n",
    "                    if 0 <= add_y+f_y < R and 0 <= add_x+f_x < C and board[add_y+f_y][add_x+f_x] == '.':\n",
    "                        moved_loc.add((add_y+f_y, add_x+f_x))\n",
    "            moved_loc.union(fire[answer-1])\n",
    "            fire.append(moved_loc)\n",
    "            # 현재 시간+1초 때의 불의 확산 위치를 저장\n",
    "        for add_y, add_x in direction: # 인접한 네 방향에 대해서\n",
    "            if 0 <= add_y+y < R and 0 <= add_x+x < C and board[add_y+y][add_x+x] == '.':\n",
    "            # 블록 내의 빈 위치에 대해서\n",
    "                if (add_y+y, add_x+x) in fire[answer]:\n",
    "                    continue\n",
    "                # 불이 있는 위치를 제외하고\n",
    "                q.put((answer+1, add_y+y, add_x+x))\n",
    "                # (현재 경과된 시간+1, 이동한 지훈이의 y좌표, 이동한 지훈이의 x좌표)를 큐에 push\n",
    "    return -1 # 만약 지훈이가 빠져나가지 못한다면 -1 반환\n",
    "\n",
    "\n",
    "R, C = tuple(int(x) for x in input().split()) # 행, 열\n",
    "board = [] # 보드\n",
    "fire = [set()] # 시간별 불의 위치\n",
    "j_y, j_x = -1, -1 # 지훈이의 위치 좌표\n",
    "for y in range(R):\n",
    "    row = list(input()) # 행을 입력받늗나.\n",
    "    for x in range(C):\n",
    "        if row[x] == 'J': # 지훈이의 위치\n",
    "            row[x] = '.'\n",
    "            j_y, j_x = y, x # 지훈이의 좌표 저장\n",
    "        elif row[x] == 'F': # 불의 위치\n",
    "            row[x] = '.'\n",
    "            fire[0].add((y, x)) # 0초일 때 불의 위치들을 저장\n",
    "    board.append(row)\n",
    "answer = simulation(R, C, board, j_y, j_x, fire) # 시뮬레이션 후 탈출 최소 시간\n",
    "if answer == -1: # 만약 탈출 불가 시\n",
    "    print(\"Impossible\") # \"Impossible\" 출력\n",
    "else: # 탈출 했을 때\n",
    "    print(answer) # 최소 시간 출력"
   ]
  }
 ],
 "metadata": {
  "kernelspec": {
   "display_name": "Python 3",
   "language": "python",
   "name": "python3"
  },
  "language_info": {
   "codemirror_mode": {
    "name": "ipython",
    "version": 3
   },
   "file_extension": ".py",
   "mimetype": "text/x-python",
   "name": "python",
   "nbconvert_exporter": "python",
   "pygments_lexer": "ipython3",
   "version": "3.6.9"
  }
 },
 "nbformat": 4,
 "nbformat_minor": 2
}
