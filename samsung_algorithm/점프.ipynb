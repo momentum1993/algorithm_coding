{
 "cells": [
  {
   "cell_type": "markdown",
   "metadata": {},
   "source": [
    "# 점프"
   ]
  },
  {
   "cell_type": "markdown",
   "metadata": {},
   "source": [
    "[baekjoon의 '점프' 링크](https://www.acmicpc.net/problem/1890)"
   ]
  },
  {
   "cell_type": "markdown",
   "metadata": {},
   "source": [
    "### 문제   \n",
    "N×N 게임판에 수가 적혀져 있다. 이 게임의 목표는 가장 왼쪽 위 칸에서 가장 오른쪽 아래 칸으로 규칙에 맞게 점프를 해서 가는 것이다.  \n",
    "  \n",
    "각 칸에 적혀있는 수는 현재 칸에서 갈 수 있는 거리를 의미한다. 반드시 오른쪽이나 아래쪽으로만 이동해야 한다. 0은 더 이상 진행을 막는 종착점이며, 항상 현재 칸에 적혀있는 수만큼 오른쪽이나 아래로 가야 한다. 한 번 점프를 할 때, 방향을 바꾸면 안 된다. 즉, 한 칸에서 오른쪽으로 점프를 하거나, 아래로 점프를 하는 두 경우만 존재한다.  \n",
    "  \n",
    "가장 왼쪽 위 칸에서 가장 오른쪽 아래 칸으로 규칙에 맞게 이동할 수 있는 경로의 개수를 구하는 프로그램을 작성하시오.  \n",
    "  \n",
    "### 입력  \n",
    "첫째 줄에 게임 판의 크기 N (4 ≤ N ≤ 100)이 주어진다. 그 다음 N개 줄에는 각 칸에 적혀져 있는 수가 N개씩 주어진다. 칸에 적혀있는 수는 0보다 크거나 같고, 9보다 작거나 같은 정수이며, 가장 오른쪽 아래 칸에는 항상 0이 주어진다.  \n",
    "  \n",
    "### 출력  \n",
    "가장 왼쪽 위 칸에서 가장 오른쪽 아래 칸으로 문제의 규칙에 맞게 갈 수 있는 경로의 개수를 출력한다. 경로의 개수는 $2^{63}-1$보다 작거나 같다.  "
   ]
  },
  {
   "cell_type": "code",
   "execution_count": 1,
   "metadata": {},
   "outputs": [
    {
     "name": "stdout",
     "output_type": "stream",
     "text": [
      "4\n",
      "2 3 3 1\n",
      "1 2 1 3\n",
      "1 2 3 1\n",
      "3 1 1 0\n",
      "3\n"
     ]
    }
   ],
   "source": [
    "def simulation(N, board, y=0, x=0): # 게임 시뮬레이션\n",
    "    if y == N-1 and x == N-1: # 가장 오른쪽 아래 칸에 도달했다면 1 반환\n",
    "        return 1\n",
    "    answer = 0 # 답\n",
    "    if x + board[y][x] < N: # 오른쪽으로 이동\n",
    "        answer += simulation(N, board, y, x+board[y][x]) # 재귀적으로 진행\n",
    "    if y + board[y][x] < N: # 아래로 이동\n",
    "        answer += simulation(N, board, y+board[y][x], x) # 재귀적으로 진행\n",
    "    return answer # 답 반환\n",
    "    \n",
    "N = int(input()) # 보드의 크기\n",
    "board = [] # 보드\n",
    "for _ in range(N):\n",
    "    board.append([int(x) for x in input().split()])\n",
    "print(simulation(N, board)) # 답 출력"
   ]
  }
 ],
 "metadata": {
  "kernelspec": {
   "display_name": "Python 3",
   "language": "python",
   "name": "python3"
  },
  "language_info": {
   "codemirror_mode": {
    "name": "ipython",
    "version": 3
   },
   "file_extension": ".py",
   "mimetype": "text/x-python",
   "name": "python",
   "nbconvert_exporter": "python",
   "pygments_lexer": "ipython3",
   "version": "3.6.9"
  }
 },
 "nbformat": 4,
 "nbformat_minor": 2
}
