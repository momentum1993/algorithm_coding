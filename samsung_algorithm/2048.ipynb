{
 "cells": [
  {
   "cell_type": "markdown",
   "metadata": {},
   "source": [
    "# 2048"
   ]
  },
  {
   "cell_type": "markdown",
   "metadata": {},
   "source": [
    "[baekjoon의 '2048' 링크](https://www.acmicpc.net/problem/12100)"
   ]
  },
  {
   "cell_type": "markdown",
   "metadata": {},
   "source": [
    "### 문제\n",
    "2048 게임은 4×4 크기의 보드에서 혼자 즐기는 재미있는 게임이다. 이 [링크](https://gabrielecirulli.github.io/2048/)를 누르면 게임을 해볼 수 있다.  \n",
    "  \n",
    "이 게임에서 한 번의 이동은 보드 위에 있는 전체 블록을 상하좌우 네 방향 중 하나로 이동시키는 것이다. 이때, 같은 값을 갖는 두 블록이 충돌하면 두 블록은 하나로 합쳐지게 된다. 한 번의 이동에서 이미 합쳐진 블록은 또 다른 블록과 다시 합쳐질 수 없다. (실제 게임에서는 이동을 한 번 할 때마다 블록이 추가되지만, 이 문제에서 블록이 추가되는 경우는 없다)  \n",
    "  \t\n",
    "| <그림 1> | <그림 2> |\t<그림 3> |\n",
    "|:---:|:---:|:---:|\n",
    "|![](https://onlinejudgeimages.s3-ap-northeast-1.amazonaws.com/problem/12094/1.png)|![](https://onlinejudgeimages.s3-ap-northeast-1.amazonaws.com/problem/12094/2.png)|![](https://onlinejudgeimages.s3-ap-northeast-1.amazonaws.com/problem/12094/3.png)|  \n",
    "  \n",
    "<그림 1>의 경우에서 위로 블록을 이동시키면 <그림 2>의 상태가 된다. 여기서, 왼쪽으로 블록을 이동시키면 <그림 3>의 상태가 된다.  \n",
    "  \t\t\n",
    "| <그림 4> | <그림 5> | <그림 6> | <그림 7> |\n",
    "|:---:|:---:|:---:|:---:|\n",
    "|![](https://onlinejudgeimages.s3-ap-northeast-1.amazonaws.com/problem/12094/4.png)|![](https://onlinejudgeimages.s3-ap-northeast-1.amazonaws.com/problem/12094/5.png)|![](https://onlinejudgeimages.s3-ap-northeast-1.amazonaws.com/problem/12094/6.png)|![](https://onlinejudgeimages.s3-ap-northeast-1.amazonaws.com/problem/12094/7.png)|\n",
    "  \n",
    "<그림 4>의 상태에서 블록을 오른쪽으로 이동시키면 <그림 5>가 되고, 여기서 다시 위로 블록을 이동시키면 <그림 6>이 된다. 여기서 오른쪽으로 블록을 이동시켜 <그림 7>을 만들 수 있다.  \n",
    "  \n",
    "| <그림 8> | <그림 9> |\n",
    "|:---:|:---:|\n",
    "|![](https://onlinejudgeimages.s3-ap-northeast-1.amazonaws.com/problem/12094/8.png)|![](https://onlinejudgeimages.s3-ap-northeast-1.amazonaws.com/problem/12094/10.png)|\n",
    "  \n",
    "<그림 8>의 상태에서 왼쪽으로 블록을 옮기면 어떻게 될까? 2가 충돌하기 때문에, 4로 합쳐지게 되고 <그림 9>의 상태가 된다.  \n",
    "  \t\t\n",
    "| <그림 10> | <그림 11> | <그림 12> | <그림 13> |\n",
    "|:---:|:---:|:---:|:---:|\n",
    "|![](https://onlinejudgeimages.s3-ap-northeast-1.amazonaws.com/problem/12094/17.png)|![](https://onlinejudgeimages.s3-ap-northeast-1.amazonaws.com/problem/12094/18.png)|![](https://onlinejudgeimages.s3-ap-northeast-1.amazonaws.com/problem/12094/19.png)|![](https://onlinejudgeimages.s3-ap-northeast-1.amazonaws.com/problem/12094/20.png)|\n",
    "  \n",
    "<그림 10>에서 위로 블록을 이동시키면 <그림 11>의 상태가 된다.  \n",
    "  \n",
    "<그림 12>의 경우에 위로 블록을 이동시키면 <그림 13>의 상태가 되는데, 그 이유는 한 번의 이동에서 이미 합쳐진 블록은 또 합쳐질 수 없기 때문이다.  \n",
    "  \n",
    "| <그림 14> | <그림 15> |\n",
    "|:---:|:---:|\n",
    "|![](https://onlinejudgeimages.s3-ap-northeast-1.amazonaws.com/problem/12094/21.png)|![](https://onlinejudgeimages.s3-ap-northeast-1.amazonaws.com/problem/12094/22.png)|\n",
    "  \n",
    "마지막으로, 똑같은 수가 세 개가 있는 경우에는 이동하려고 하는 쪽의 칸이 먼저 합쳐진다. 예를 들어, 위로 이동시키는 경우에는 위쪽에 있는 블록이 먼저 합쳐지게 된다. <그림 14>의 경우에 위로 이동하면 <그림 15>를 만든다.  \n",
    "  \n",
    "이 문제에서 다루는 2048 게임은 보드의 크기가 N×N 이다. 보드의 크기와 보드판의 블록 상태가 주어졌을 때, 최대 5번 이동해서 만들 수 있는 가장 큰 블록의 값을 구하는 프로그램을 작성하시오.  \n",
    "\n",
    "### 입력\n",
    "첫째 줄에 보드의 크기 N (1 ≤ N ≤ 20)이 주어진다. 둘째 줄부터 N개의 줄에는 게임판의 초기 상태가 주어진다. 0은 빈 칸을 나타내며, 이외의 값은 모두 블록을 나타낸다. 블록에 쓰여 있는 수는 2보다 크거나 같고, 1024보다 작거나 같은 2의 제곱꼴이다. 블록은 적어도 하나 주어진다.  \n",
    "  \n",
    "### 출력\n",
    "최대 5번 이동시켜서 얻을 수 있는 가장 큰 블록을 출력한다.  "
   ]
  },
  {
   "cell_type": "code",
   "execution_count": 1,
   "metadata": {
    "scrolled": true
   },
   "outputs": [],
   "source": [
    "from queue import Queue\n",
    "from copy import deepcopy\n",
    "\n",
    "def cal_puzzle(n, board, max_val):\n",
    "    answer = 0\n",
    "    q = Queue()\n",
    "    global direction\n",
    "    q.put((0, max_val, board))\n",
    "    while not q.empty():\n",
    "        time, val_max, board_now = q.get()\n",
    "        if time <= 5:\n",
    "            answer = max(answer, val_max)\n",
    "        else:\n",
    "            break\n",
    "        for direction in range(4):\n",
    "            board_temp = deepcopy(board_now)\n",
    "            \n",
    "            for i in range(n):\n",
    "                idx = 0\n",
    "                for j in range(1, n):\n",
    "                    if direction == 0: # 상\n",
    "                        if board_temp[idx][i] != 0:\n",
    "                            if board_temp[idx][i] == board_temp[j][i]:\n",
    "                                board_temp[idx][i] *= 2\n",
    "                                val_max = max(board_temp[idx][i], val_max)\n",
    "                                board_temp[j][i] = 0\n",
    "                            elif board_temp[idx+1][i] == 0:\n",
    "                                board_temp[idx+1][i] = board_temp[j][i]\n",
    "                                board_temp[j][i] = 0\n",
    "                            idx += 1\n",
    "                        else:\n",
    "                            board_temp[idx][i] = board_temp[j][i]\n",
    "                            board_temp[j][i] = 0\n",
    "                            \n",
    "                    elif direction == 1: # 하\n",
    "                        if board_temp[n-idx-1][i] != 0:\n",
    "                            if board_temp[n-idx-1][i] == board_temp[n-j-1][i]:\n",
    "                                board_temp[n-idx-1][i] *= 2\n",
    "                                val_max = max(board_temp[n-idx-1][i], val_max)\n",
    "                                board_temp[n-j-1][i] = 0\n",
    "                            elif board_temp[n-(idx+1)-1][i] == 0:\n",
    "                                board_temp[n-(idx+1)-1][i] = board_temp\n",
    "                                board_temp[n-j-1][i] = 0\n",
    "                            idx += 1\n",
    "                        else:\n",
    "                            board_temp[n-idx-1][i] = board_temp[n-j-1][i]\n",
    "                            board_temp[n-j-1][i] = 0\n",
    "                    \n",
    "                    elif direction == 2: # 좌\n",
    "                        if board_temp[i][idx] != 0:\n",
    "                            if board_temp[i][idx] == board_temp[i][j]:\n",
    "                                board_temp[i][idx] *= 2\n",
    "                                val_max = max(board_temp[i][idx], val_max)\n",
    "                                board_temp[i][j] = 0\n",
    "                            elif board_temp[i][idx+1] == 0:\n",
    "                                board_temp[i][idx+1] = board_temp[i][j]\n",
    "                                board_temp[i][j] = 0\n",
    "                            idx += 1\n",
    "                        else:\n",
    "                            board_temp[i][idx] = board_temp[i][j]\n",
    "                            board_temp[i][j] = 0\n",
    "                        \n",
    "                    elif direction == 3: # 우\n",
    "                        if board_temp[i][n-idx-1] != 0:\n",
    "                            if board_temp[i][n-idx-1] == board_temp[i][n-j-1]:\n",
    "                                board_temp[i][n-idx-1] *= 2\n",
    "                                val_max = max(board_temp[i][n-idx-1], val_max)\n",
    "                                board_temp[i][n-j-1] = 0\n",
    "                            elif board_temp[i][n-(idx+1)-1] == 0:\n",
    "                                board_temp[i][n-(idx+1)-1] = board_temp[i][n-j-1]\n",
    "                                board_temp[i][n-j-1] = 0\n",
    "                            idx += 1\n",
    "                        else:\n",
    "                            board_temp[i][n-idx-1] = board_temp[i][n-j-1]\n",
    "                            board_temp[i][n-j-1] = 0\n",
    "            q.put((time+1, val_max, board_temp))\n",
    "    return answer\n",
    "    \n",
    "def solution(N, board):\n",
    "    board = board.replace('\\n', '').replace(' ', '')\n",
    "    board_now = [[None for _ in range(N)] for _ in range(N)]\n",
    "    max_val = 0\n",
    "    for y in range(N):\n",
    "        for x in range(N):\n",
    "            board_now[y][x] = int(board[(y*N)+x])\n",
    "            max_val = max(max_val, board_now[y][x])\n",
    "    return cal_puzzle(N, board_now, max_val)\n",
    "\n",
    "# if __name__ == '__main__':\n",
    "#     N = int(input())\n",
    "#     board = ''\n",
    "#     for i in range(N):\n",
    "#         board += input()\n",
    "#     print(solution(N, board))"
   ]
  },
  {
   "cell_type": "code",
   "execution_count": 2,
   "metadata": {},
   "outputs": [],
   "source": [
    "N = 3\n",
    "board = '''2 2 2\n",
    "4 4 4\n",
    "8 8 8'''"
   ]
  },
  {
   "cell_type": "code",
   "execution_count": 3,
   "metadata": {
    "scrolled": true
   },
   "outputs": [
    {
     "data": {
      "text/plain": [
       "16"
      ]
     },
     "execution_count": 3,
     "metadata": {},
     "output_type": "execute_result"
    }
   ],
   "source": [
    "solution(N, board)"
   ]
  }
 ],
 "metadata": {
  "kernelspec": {
   "display_name": "Python 3",
   "language": "python",
   "name": "python3"
  },
  "language_info": {
   "codemirror_mode": {
    "name": "ipython",
    "version": 3
   },
   "file_extension": ".py",
   "mimetype": "text/x-python",
   "name": "python",
   "nbconvert_exporter": "python",
   "pygments_lexer": "ipython3",
   "version": "3.6.9"
  }
 },
 "nbformat": 4,
 "nbformat_minor": 2
}
