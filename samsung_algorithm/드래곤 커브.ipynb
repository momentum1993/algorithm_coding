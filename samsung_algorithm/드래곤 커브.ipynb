{
 "cells": [
  {
   "cell_type": "markdown",
   "metadata": {},
   "source": [
    "# 드래곤 커브"
   ]
  },
  {
   "cell_type": "markdown",
   "metadata": {},
   "source": [
    "[baekjoon의 '드래곤 커브' 링크](https://www.acmicpc.net/problem/15685)"
   ]
  },
  {
   "cell_type": "markdown",
   "metadata": {},
   "source": [
    "### 문제  \n",
    "드래곤 커브는 다음과 같은 세 가지 속성으로 이루어져 있으며, 이차원 좌표 평면 위에서 정의된다. 좌표 평면의 x축은 → 방향, y축은 ↓ 방향이다.  \n",
    "  \n",
    " 1. 시작 점  \n",
    " 2. 시작 방향  \n",
    " 3. 세대  \n",
    "  \n",
    "0세대 드래곤 커브는 아래 그림과 같은 길이가 1인 선분이다. 아래 그림은 (0, 0)에서 시작하고, 시작 방향은 오른쪽인 0세대 드래곤 커브이다.  \n",
    "  \n",
    "![](http://onlinejudgeimages.s3-ap-northeast-1.amazonaws.com/problem/15685/1.png)  \n",
    "  \n",
    "1세대 드래곤 커브는 0세대 드래곤 커브를 끝 점을 기준으로 시계 방향으로 90도 회전시킨 다음 0세대 드래곤 커브의 끝 점에 붙인 것이다. 끝 점이란 시작 점에서 선분을 타고 이동했을 때, 가장 먼 거리에 있는 점을 의미한다.  \n",
    "  \n",
    "![](https://onlinejudgeimages.s3-ap-northeast-1.amazonaws.com/problem/15685/2.png)  \n",
    "  \n",
    "2세대 드래곤 커브도 1세대를 만든 방법을 이용해서 만들 수 있다. (파란색 선분은 새로 추가된 선분을 나타낸다)  \n",
    "  \n",
    "![](https://onlinejudgeimages.s3-ap-northeast-1.amazonaws.com/problem/15685/3.png)  \n",
    "  \n",
    "3세대 드래곤 커브도 2세대 드래곤 커브를 이용해 만들 수 있다. 아래 그림은 3세대 드래곤 커브이다.  \n",
    "  \n",
    "![](https://onlinejudgeimages.s3-ap-northeast-1.amazonaws.com/problem/15685/4.png)  \n",
    "    \n",
    "즉, K(K > 1)세대 드래곤 커브는 K-1세대 드래곤 커브를 끝 점을 기준으로 90도 시계 방향 회전 시킨 다음, 그것을 끝 점에 붙인 것이다.  \n",
    "  \n",
    "크기가 100×100인 격자 위에 드래곤 커브가 N개 있다. 이때, 크기가 1×1인 정사각형의 네 꼭짓점이 모두 드래곤 커브의 일부인 정사각형의 개수를 구하는 프로그램을 작성하시오. 격자의 좌표는 (x, y)로 나타내며, 0 ≤ x ≤ 100, 0 ≤ y ≤ 100만 유효한 좌표이다.  \n",
    "  \n",
    "### 입력  \n",
    "첫째 줄에 드래곤 커브의 개수 N(1 ≤ N ≤ 20)이 주어진다. 둘째 줄부터 N개의 줄에는 드래곤 커브의 정보가 주어진다. 드래곤 커브의 정보는 네 정수 x, y, d, g로 이루어져 있다. x와 y는 드래곤 커브의 시작 점, d는 시작 방향, g는 세대이다. (0 ≤ x, y ≤ 100, 0 ≤ d ≤ 3, 0 ≤ g ≤ 10)  \n",
    "  \n",
    "입력으로 주어지는 드래곤 커브는 격자 밖으로 벗어나지 않는다. 드래곤 커브는 서로 겹칠 수 있다.  \n",
    "  \n",
    "방향은 0, 1, 2, 3 중 하나이고, 다음을 의미한다.  \n",
    "  \n",
    "- 0: x좌표가 증가하는 방향 (→)  \n",
    "- 1: y좌표가 감소하는 방향 (↑)  \n",
    "- 2: x좌표가 감소하는 방향 (←)  \n",
    "- 3: y좌표가 증가하는 방향 (↓)  \n",
    "  \n",
    "### 출력\n",
    "첫째 줄에 크기가 1×1인 정사각형의 네 꼭짓점이 모두 드래곤 커브의 일부인 것의 개수를 출력한다.  \n",
    "  "
   ]
  },
  {
   "cell_type": "code",
   "execution_count": 1,
   "metadata": {},
   "outputs": [],
   "source": [
    "def check_dragon(board, info): # 드래곤 커브가 지나간 좌표를 보드 상에 표시\n",
    "    directions = [(0,1),(-1,0),(0,-1),(1,0)] # 동, 북, 서, 남\n",
    "    \n",
    "    for i_d in range(len(info)): # 모든 드래곤커브에 대해서\n",
    "        x, y, d, g = info[i_d]\n",
    "        # (x, y) 좌표와 방향 d 그리고 g 세대\n",
    "        board[y][x] = 1 # 일단 처음 시작점을 표시\n",
    "        dragon = [d] # 0세대의 첫 방향\n",
    "        for _ in range(g): # g 세대까지에 대해서 드래곤 커브 진행\n",
    "            for j in range(len(dragon)-1, -1, -1):\n",
    "                dragon.append((dragon[j]+1)%4)\n",
    "            # 다음 세대로 진행될 때 거꾸로 탐색하며 \n",
    "            # 90도씩 선분의 방향을 옮겨 그리면 다음 세대의 드래곤커브가 나온다. \n",
    "        for d_d in dragon:\n",
    "            add_y, add_x = directions[d_d]\n",
    "            y += add_y\n",
    "            x += add_x\n",
    "            if y < 0 or y > 100 or x < 0 or x > 100: # 해당 보드 범위 벗어나면 멈춤\n",
    "                break\n",
    "            board[y][x] = 1 # 그 외에는 드래곤커브가 지나간 좌표에 표시\n",
    "            \n",
    "def cal_num_square(info, board):\n",
    "    answer = 0\n",
    "    check_dragon(board, info)\n",
    "    # 보드 상에 드래곤 커브가 지나간 좌표 표시\n",
    "    for y in range(100): \n",
    "        for x in range(100):\n",
    "        # 모든 좌표에 대해서\n",
    "            if board[y][x] == 0:\n",
    "                continue\n",
    "            elif board[y+1][x+1] == board[y+1][x] == board[y][x+1] == 1:\n",
    "            # 1x1 크기의 정사각형의 꼭짓점을 드래곤커브가 지나갔다면\n",
    "                answer += 1\n",
    "                # 답에 추가\n",
    "    return answer # 답 반환\n",
    "\n",
    "def solution(N, info):\n",
    "    info = [[int(x) for x in x.split()] for x in info.split(\"\\n\")]\n",
    "    board = [[0 for _ in range(101)] for _ in range(101)]\n",
    "    return cal_num_square(info, board)"
   ]
  },
  {
   "cell_type": "code",
   "execution_count": 2,
   "metadata": {},
   "outputs": [],
   "source": [
    "N = 3\n",
    "info = '''3 3 0 1\n",
    "4 2 1 3\n",
    "4 2 2 1'''"
   ]
  },
  {
   "cell_type": "code",
   "execution_count": 3,
   "metadata": {},
   "outputs": [
    {
     "data": {
      "text/plain": [
       "4"
      ]
     },
     "execution_count": 3,
     "metadata": {},
     "output_type": "execute_result"
    }
   ],
   "source": [
    "solution(N, info)"
   ]
  },
  {
   "cell_type": "code",
   "execution_count": 4,
   "metadata": {},
   "outputs": [],
   "source": [
    "N = 4\n",
    "info = '''3 3 0 1\n",
    "4 2 1 3\n",
    "4 2 2 1\n",
    "2 7 3 4'''"
   ]
  },
  {
   "cell_type": "code",
   "execution_count": 5,
   "metadata": {},
   "outputs": [
    {
     "data": {
      "text/plain": [
       "11"
      ]
     },
     "execution_count": 5,
     "metadata": {},
     "output_type": "execute_result"
    }
   ],
   "source": [
    "solution(N, info)"
   ]
  },
  {
   "cell_type": "code",
   "execution_count": 6,
   "metadata": {},
   "outputs": [],
   "source": [
    "N = 10\n",
    "info = '''5 5 0 0\n",
    "5 6 0 0\n",
    "5 7 0 0\n",
    "5 8 0 0\n",
    "5 9 0 0\n",
    "6 5 0 0\n",
    "6 6 0 0\n",
    "6 7 0 0\n",
    "6 8 0 0\n",
    "6 9 0 0'''"
   ]
  },
  {
   "cell_type": "code",
   "execution_count": 7,
   "metadata": {},
   "outputs": [
    {
     "data": {
      "text/plain": [
       "8"
      ]
     },
     "execution_count": 7,
     "metadata": {},
     "output_type": "execute_result"
    }
   ],
   "source": [
    "solution(N, info)"
   ]
  },
  {
   "cell_type": "code",
   "execution_count": 8,
   "metadata": {},
   "outputs": [],
   "source": [
    "N = 4\n",
    "info = '''50 50 0 10\n",
    "50 50 1 10\n",
    "50 50 2 10\n",
    "50 50 3 10'''"
   ]
  },
  {
   "cell_type": "code",
   "execution_count": 9,
   "metadata": {},
   "outputs": [
    {
     "data": {
      "text/plain": [
       "1992"
      ]
     },
     "execution_count": 9,
     "metadata": {},
     "output_type": "execute_result"
    }
   ],
   "source": [
    "solution(N, info)"
   ]
  }
 ],
 "metadata": {
  "kernelspec": {
   "display_name": "Python 3",
   "language": "python",
   "name": "python3"
  },
  "language_info": {
   "codemirror_mode": {
    "name": "ipython",
    "version": 3
   },
   "file_extension": ".py",
   "mimetype": "text/x-python",
   "name": "python",
   "nbconvert_exporter": "python",
   "pygments_lexer": "ipython3",
   "version": "3.6.9"
  }
 },
 "nbformat": 4,
 "nbformat_minor": 2
}
