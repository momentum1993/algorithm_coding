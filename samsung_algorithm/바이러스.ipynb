{
 "cells": [
  {
   "cell_type": "markdown",
   "metadata": {},
   "source": [
    "# 바이러스"
   ]
  },
  {
   "cell_type": "markdown",
   "metadata": {},
   "source": [
    "[baekjoon의 '바이러스' 링크](https://www.acmicpc.net/problem/2606)"
   ]
  },
  {
   "cell_type": "markdown",
   "metadata": {},
   "source": [
    "### 문제   \n",
    "신종 바이러스인 웜 바이러스는 네트워크를 통해 전파된다. 한 컴퓨터가 웜 바이러스에 걸리면 그 컴퓨터와 네트워크 상에서 연결되어 있는 모든 컴퓨터는 웜 바이러스에 걸리게 된다.  \n",
    "  \n",
    "예를 들어 7대의 컴퓨터가 <그림 1>과 같이 네트워크 상에서 연결되어 있다고 하자. 1번 컴퓨터가 웜 바이러스에 걸리면 웜 바이러스는 2번과 5번 컴퓨터를 거쳐 3번과 6번 컴퓨터까지 전파되어 2, 3, 5, 6 네 대의 컴퓨터는 웜 바이러스에 걸리게 된다. 하지만 4번과 7번 컴퓨터는 1번 컴퓨터와 네트워크상에서 연결되어 있지 않기 때문에 영향을 받지 않는다.  \n",
    "  \n",
    "![](https://www.acmicpc.net/upload/images/zmMEZZ8ioN6rhCdHmcIT4a7.png)  \n",
    "  \n",
    "어느 날 1번 컴퓨터가 웜 바이러스에 걸렸다. 컴퓨터의 수와 네트워크 상에서 서로 연결되어 있는 정보가 주어질 때, 1번 컴퓨터를 통해 웜 바이러스에 걸리게 되는 컴퓨터의 수를 출력하는 프로그램을 작성하시오.  \n",
    "  \n",
    "### 입력  \n",
    "첫째 줄에는 컴퓨터의 수가 주어진다. 컴퓨터의 수는 100 이하이고 각 컴퓨터에는 1번 부터 차례대로 번호가 매겨진다. 둘째 줄에는 네트워크 상에서 직접 연결되어 있는 컴퓨터 쌍의 수가 주어진다. 이어서 그 수만큼 한 줄에 한 쌍씩 네트워크 상에서 직접 연결되어 있는 컴퓨터의 번호 쌍이 주어진다.  \n",
    "  \n",
    "### 출력  \n",
    "1번 컴퓨터가 웜 바이러스에 걸렸을 때, 1번 컴퓨터를 통해 웜 바이러스에 걸리게 되는 컴퓨터의 수를 첫째 줄에 출력한다.  "
   ]
  },
  {
   "cell_type": "code",
   "execution_count": 1,
   "metadata": {},
   "outputs": [
    {
     "name": "stdout",
     "output_type": "stream",
     "text": [
      "7\n",
      "6\n",
      "1 2\n",
      "2 3\n",
      "1 5\n",
      "5 2\n",
      "5 6\n",
      "4 7\n",
      "4\n"
     ]
    }
   ],
   "source": [
    "def simulation(num, connects, checked, idx=0): # 1번 컴퓨터를 포함한 연결된 컴퓨터들의 개수를 반환\n",
    "    answer = 0 # 답\n",
    "    for i in range(num): # 모든 컴퓨터에 대해 \n",
    "        if connects[idx][i] and not checked[i]: # 연결되어있고 아직 검사하지 않은 컴퓨터의 경우\n",
    "            checked[i] = True # 검사함을 체크\n",
    "            answer += 1 + simulation(num, connects, checked, i)\n",
    "            # 재귀적으로 탐색\n",
    "    return answer # 답 반환\n",
    "            \n",
    "num = int(input()) # 컴퓨터의 개수\n",
    "connect_num = int(input()) # 컴퓨터의 연결 개수\n",
    "checked = [False for _ in range(num)] # 컴퓨터의 검색 여부\n",
    "connects = [[0 for _ in range(num)] for _ in range(num)] # 인접행렬 (연결: 1, 비연결: 0)\n",
    "for _ in range(connect_num):\n",
    "    a, b = tuple(int(x)-1 for x in input().split())\n",
    "    connects[a][b] = connects[b][a] = 1\n",
    "    # 연결된 컴퓨터 표시\n",
    "checked[0] = True # 1번 컴퓨터는 탐색했음을 체크\n",
    "print(simulation(num, connects, checked)) # 답 반환"
   ]
  }
 ],
 "metadata": {
  "kernelspec": {
   "display_name": "Python 3",
   "language": "python",
   "name": "python3"
  },
  "language_info": {
   "codemirror_mode": {
    "name": "ipython",
    "version": 3
   },
   "file_extension": ".py",
   "mimetype": "text/x-python",
   "name": "python",
   "nbconvert_exporter": "python",
   "pygments_lexer": "ipython3",
   "version": "3.6.9"
  }
 },
 "nbformat": 4,
 "nbformat_minor": 2
}
