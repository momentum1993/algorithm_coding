{
 "cells": [
  {
   "cell_type": "markdown",
   "metadata": {},
   "source": [
    "# 주사위 윷놀이"
   ]
  },
  {
   "cell_type": "markdown",
   "metadata": {},
   "source": [
    "[baekjoon의 '주사위 윷놀이' 링크](https://www.acmicpc.net/problem/17825)"
   ]
  },
  {
   "cell_type": "markdown",
   "metadata": {},
   "source": [
    "### 문제  \n",
    "주사위 윷놀이는 다음과 같은 게임판에서 하는 게임이다.  \n",
    "  \n",
    "![](https://upload.acmicpc.net/43409ac6-54bf-4a21-b542-e01a8211e59f/-/preview/)  \n",
    "  \n",
    "- 처음에는 시작 칸에 말 4개가 있다.  \n",
    "- 말은 게임판에 그려진 화살표의 방향대로만 이동할 수 있다. 말이 파란색 칸에서 이동을 시작하면 파란색 화살표를 타야 하고, 이동하는 도중이거나 파란색이 아닌 칸에서 이동을 시작하면 빨간색 화살표를 타야 한다. 말이 도착 칸으로 이동하면 주사위에 나온 수와 관계 없이 이동을 마친다.  \n",
    "- 게임은 10개의 턴으로 이루어진다. 매 턴마다 1부터 5까지 한 면에 하나씩 적혀있는 5면체 주사위를 굴리고, 도착 칸에 있지 않은 말을 하나 골라 주사위에 나온 수만큼 이동시킨다.\n",
    "- 말이 이동을 마치는 칸에 다른 말이 있으면 그 말은 고를 수 없다. 단, 이동을 마치는 칸이 도착 칸이면 고를 수 있다.  \n",
    "- 말이 이동을 마칠 때마다 칸에 적혀있는 수가 점수에 추가된다.  \n",
    "  \n",
    "주사위에서 나올 수 10개를 미리 알고 있을 때, 얻을 수 있는 점수의 최댓값을 구해보자.  \n",
    "  \n",
    "### 입력  \n",
    "첫째 줄에 주사위에서 나올 수 10개가 순서대로 주어진다.  \n",
    "  \n",
    "### 출력  \n",
    "얻을 수 있는 점수의 최댓값을 출력한다.  \n",
    "   "
   ]
  },
  {
   "cell_type": "code",
   "execution_count": 1,
   "metadata": {},
   "outputs": [],
   "source": [
    "def horse_move(horse, move_num):\n",
    "    main_way = list(range(0, 42, 2)) + [0] # 큰 길\n",
    "    short_cut = [[10, 13, 16, 19],[20, 22, 24],[30, 28, 27, 26], [25, 30, 35]]\n",
    "    # 지름길들\n",
    "    road, num = horse\n",
    "    # 현재의 지나가고 있는 도로 및 해당 도로에서 지정한 위치 인덱스\n",
    "    num += move_num # 주사위 값만큼 인덱스 증가\n",
    "    answer = 0 # 답\n",
    "    if road == 0: # 빙 돌아가는 큰 길에 대해서\n",
    "        num = min(num, 21)\n",
    "        answer = main_way[num] # 이동한 위치의 값\n",
    "        if main_way[num] % 10 == 0 and main_way[num] != 40:\n",
    "            road = (main_way[num] // 10) % 4\n",
    "            num = 0\n",
    "        # 만약 10,20,30의 지름길을 갈 수 있도록 설정해줌.\n",
    "        \n",
    "    elif road == 1: # 10에서의 지름길\n",
    "        if num < 4: # 10 ~ 25 지름길\n",
    "            answer = short_cut[0][num]\n",
    "        elif num < 7: # 25 ~ 40 지름길\n",
    "            num -= 4\n",
    "            road = 4\n",
    "            answer = short_cut[3][num]\n",
    "        else: # 40 ~ 주 도로\n",
    "            num -= 7\n",
    "            road = 0\n",
    "            if num == 0:\n",
    "                num = 20\n",
    "                answer = main_way[num]\n",
    "            else:\n",
    "                num = 21\n",
    "                answer = main_way[num]\n",
    "\n",
    "    elif road == 2: # 20에서의 지름길\n",
    "        if num < 3: # 20 ~ 25 지름길\n",
    "            answer =  short_cut[1][num]\n",
    "        elif num < 6: # 25 ~ 40 지름길\n",
    "            num -= 3\n",
    "            road = 4\n",
    "            answer = short_cut[3][num]\n",
    "        else: # 40 ~ 주 도로\n",
    "            num -= 6\n",
    "            road = 0\n",
    "            if num == 0:\n",
    "                num = 20\n",
    "                answer = main_way[num]\n",
    "            else:\n",
    "                num = 21\n",
    "                answer = main_way[num]\n",
    "                \n",
    "    elif road == 3: # 30에서의 지름길\n",
    "        if num < 4: # 30 ~ 25 지름길\n",
    "            answer =  short_cut[2][num]\n",
    "        elif num < 7: # 25 ~ 40 지름길\n",
    "            num -= 4\n",
    "            road = 4\n",
    "            answer = short_cut[3][num]\n",
    "        else: # 40 ~ 주 도로\n",
    "            num -= 7\n",
    "            road = 0\n",
    "            if num == 0:\n",
    "                num = 20\n",
    "                answer = main_way[num]\n",
    "            else:\n",
    "                num = 21\n",
    "                answer = main_way[num]\n",
    "    else: # 지름길이 맞물려 통합되는 길\n",
    "        if num < 3: # 25 ~ 40 지름길\n",
    "            road = 4\n",
    "            answer = short_cut[3][num]\n",
    "        else: # 40 ~ 주 도로\n",
    "            num -= 3\n",
    "            road = 0\n",
    "            if num == 0:\n",
    "                num = 20\n",
    "                answer = main_way[num]\n",
    "            else:\n",
    "                num = 21\n",
    "                answer = main_way[num]\n",
    "    if num >= 21: # 도착 했을 경우\n",
    "        horse = (-1, -1) # 이렇게 설정\n",
    "    else: # 도착하지 않았을 경우 각 지름길 및 인덱스를 설정해준다.\n",
    "        horse = (road, num)\n",
    "    return answer, horse # 포인트 및 말의 이동위치 반환\n",
    "\n",
    "\n",
    "def cal_max_point(moves, horses, idx = 0):\n",
    "    if idx == len(moves): # 10번의 주사위를 모두 돌렸을 때 그만\n",
    "        return 0\n",
    "    answer = 0 # 답\n",
    "    for i in range(len(horses)): # 모든 말에 대해서\n",
    "        if horses[i] == (-1, -1): # 만약 도착한 말은 넘긴다.\n",
    "            continue\n",
    "        cp_h = horses[i] # 현재 말의 위치\n",
    "        add, h = horse_move(horses[i], moves[idx])\n",
    "        # 주사위 값만큼 이동한 후 포인트와 말의 위치\n",
    "        if h != (-1,-1) and h in horses: # 만약 이동해야 할 곳에 이미 다른 말이 있다면\n",
    "            continue # 이동하지 않음\n",
    "        horses[i] = h\n",
    "        answer= max(answer, add + cal_max_point(moves, horses, idx+1))\n",
    "        # 말을 이동시킨 후 다음 턴에 대해서 계속 진행\n",
    "        horses[i] = cp_h # 말을 원상복귀\n",
    "    return answer # 답 반환\n",
    "        \n",
    "def solution(moves):\n",
    "    moves = [int(x) for x in moves.split()] # 이동횟수 \n",
    "    horses = [(0,0) for _ in range(4)] # 말들의 현재 위치\n",
    "    return cal_max_point(moves, horses) # 최대 점수"
   ]
  },
  {
   "cell_type": "code",
   "execution_count": 2,
   "metadata": {},
   "outputs": [],
   "source": [
    "moves = '''1 2 3 4 1 2 3 4 1 2'''"
   ]
  },
  {
   "cell_type": "code",
   "execution_count": 3,
   "metadata": {},
   "outputs": [
    {
     "data": {
      "text/plain": [
       "190"
      ]
     },
     "execution_count": 3,
     "metadata": {},
     "output_type": "execute_result"
    }
   ],
   "source": [
    "solution(moves)"
   ]
  },
  {
   "cell_type": "code",
   "execution_count": 4,
   "metadata": {},
   "outputs": [],
   "source": [
    "moves = '''1 1 1 1 1 1 1 1 1 1'''"
   ]
  },
  {
   "cell_type": "code",
   "execution_count": 5,
   "metadata": {},
   "outputs": [
    {
     "data": {
      "text/plain": [
       "133"
      ]
     },
     "execution_count": 5,
     "metadata": {},
     "output_type": "execute_result"
    }
   ],
   "source": [
    "solution(moves)"
   ]
  },
  {
   "cell_type": "code",
   "execution_count": 6,
   "metadata": {},
   "outputs": [],
   "source": [
    "moves = '''5 1 2 3 4 5 5 3 2 4'''"
   ]
  },
  {
   "cell_type": "code",
   "execution_count": 7,
   "metadata": {},
   "outputs": [
    {
     "data": {
      "text/plain": [
       "214"
      ]
     },
     "execution_count": 7,
     "metadata": {},
     "output_type": "execute_result"
    }
   ],
   "source": [
    "solution(moves)"
   ]
  },
  {
   "cell_type": "code",
   "execution_count": 8,
   "metadata": {},
   "outputs": [],
   "source": [
    "moves = '''5 5 5 5 5 5 5 5 5 5'''"
   ]
  },
  {
   "cell_type": "code",
   "execution_count": 9,
   "metadata": {},
   "outputs": [
    {
     "data": {
      "text/plain": [
       "130"
      ]
     },
     "execution_count": 9,
     "metadata": {},
     "output_type": "execute_result"
    }
   ],
   "source": [
    "solution(moves)"
   ]
  }
 ],
 "metadata": {
  "kernelspec": {
   "display_name": "Python 3",
   "language": "python",
   "name": "python3"
  },
  "language_info": {
   "codemirror_mode": {
    "name": "ipython",
    "version": 3
   },
   "file_extension": ".py",
   "mimetype": "text/x-python",
   "name": "python",
   "nbconvert_exporter": "python",
   "pygments_lexer": "ipython3",
   "version": "3.6.9"
  }
 },
 "nbformat": 4,
 "nbformat_minor": 2
}
