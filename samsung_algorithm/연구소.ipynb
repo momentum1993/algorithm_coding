{
 "cells": [
  {
   "cell_type": "markdown",
   "metadata": {},
   "source": [
    "# 연구소"
   ]
  },
  {
   "cell_type": "markdown",
   "metadata": {},
   "source": [
    "[baekjoon의 '연구소' 링크](https://www.acmicpc.net/problem/14502)"
   ]
  },
  {
   "cell_type": "markdown",
   "metadata": {},
   "source": [
    "### 문제  \n",
    "인체에 치명적인 바이러스를 연구하던 연구소에서 바이러스가 유출되었다. 다행히 바이러스는 아직 퍼지지 않았고, 바이러스의 확산을 막기 위해서 연구소에 벽을 세우려고 한다.  \n",
    "  \n",
    "연구소는 크기가 N×M인 직사각형으로 나타낼 수 있으며, 직사각형은 1×1 크기의 정사각형으로 나누어져 있다. 연구소는 빈 칸, 벽으로 이루어져 있으며, 벽은 칸 하나를 가득 차지한다.   \n",
    "  \n",
    "일부 칸은 바이러스가 존재하며, 이 바이러스는 상하좌우로 인접한 빈 칸으로 모두 퍼져나갈 수 있다. 새로 세울 수 있는 벽의 개수는 3개이며, 꼭 3개를 세워야 한다.  \n",
    "  \n",
    "예를 들어, 아래와 같이 연구소가 생긴 경우를 살펴보자.  \n",
    "  \n",
    "2 0 0 0 1 1 0  \n",
    "0 0 1 0 1 2 0  \n",
    "0 1 1 0 1 0 0  \n",
    "0 1 0 0 0 0 0  \n",
    "0 0 0 0 0 1 1  \n",
    "0 1 0 0 0 0 0  \n",
    "0 1 0 0 0 0 0  \n",
    "  \n",
    "이때, 0은 빈 칸, 1은 벽, 2는 바이러스가 있는 곳이다. 아무런 벽을 세우지 않는다면, 바이러스는 모든 빈 칸으로 퍼져나갈 수 있다.  \n",
    "  \n",
    "2행 1열, 1행 2열, 4행 6열에 벽을 세운다면 지도의 모양은 아래와 같아지게 된다.  \n",
    "  \n",
    "2 1 0 0 1 1 0  \n",
    "1 0 1 0 1 2 0  \n",
    "0 1 1 0 1 0 0  \n",
    "0 1 0 0 0 1 0  \n",
    "0 0 0 0 0 1 1  \n",
    "0 1 0 0 0 0 0  \n",
    "0 1 0 0 0 0 0  \n",
    "  \n",
    "바이러스가 퍼진 뒤의 모습은 아래와 같아진다.  \n",
    "  \n",
    "2 1 0 0 1 1 2  \n",
    "1 0 1 0 1 2 2  \n",
    "0 1 1 0 1 2 2   \n",
    "0 1 0 0 0 1 2  \n",
    "0 0 0 0 0 1 1  \n",
    "0 1 0 0 0 0 0  \n",
    "0 1 0 0 0 0 0  \n",
    "  \n",
    "벽을 3개 세운 뒤, 바이러스가 퍼질 수 없는 곳을 안전 영역이라고 한다. 위의 지도에서 안전 영역의 크기는 27이다.  \n",
    "  \n",
    "연구소의 지도가 주어졌을 때 얻을 수 있는 안전 영역 크기의 최댓값을 구하는 프로그램을 작성하시오.  \n",
    "\n",
    "### 입력  \n",
    "첫째 줄에 지도의 세로 크기 N과 가로 크기 M이 주어진다. (3 ≤ N, M ≤ 8)  \n",
    "  \n",
    "둘째 줄부터 N개의 줄에 지도의 모양이 주어진다. 0은 빈 칸, 1은 벽, 2는 바이러스가 있는 위치이다. 2의 개수는 2보다 크거나 같고, 10보다 작거나 같은 자연수이다.  \n",
    "  \n",
    "빈 칸의 개수는 3개 이상이다.  \n",
    "\n",
    "### 출력  \n",
    "첫째 줄에 얻을 수 있는 안전 영역의 최대 크기를 출력한다.   "
   ]
  },
  {
   "cell_type": "code",
   "execution_count": 1,
   "metadata": {},
   "outputs": [],
   "source": [
    "from copy import deepcopy\n",
    "from queue import Queue\n",
    "\n",
    "virus_list = [] # 바이러스 위치\n",
    "maxVal = 0 # 최대값\n",
    "safe_area = 0 # 안전 영역\n",
    "\n",
    "def cal_safe_area(N, M, board): # 안전영역 계산\n",
    "    global safe_area\n",
    "    global virus_list\n",
    "    \n",
    "    q = Queue() # 바이러스 위치를 담아둘 큐\n",
    "    for i in virus_list:\n",
    "        q.put(i)\n",
    "    \n",
    "    direction = [(0,1),(0,-1),(1,0),(-1,0)] # 동.서.남.북\n",
    "    infected_area = 0 # 감염된 지역의 수\n",
    "    while not q.empty(): # 너비 우선 탐색\n",
    "        y, x = q.get()\n",
    "        for add_y, add_x in direction: # 모든 방향에 대해서\n",
    "            if 0 <= add_y+y < N and 0 <= add_x+x < M and board[add_y+y][add_x+x] == 0:\n",
    "            # 인접한 지역으로 감염이 가능할 때\n",
    "                board[add_y+y][add_x+x] = 2\n",
    "                q.put((add_y+y,add_x+x)) # 감염된 위치를 큐에 넣는다.\n",
    "                infected_area += 1 # 감염 위치의 개수 증가\n",
    "    return safe_area - infected_area - 3 \n",
    "    # 안전 영역 - 감염된 영역 - 3(설치한 3개의 벽)\n",
    "\n",
    "def build_wall(N, M, board, y=0, x=0, num=3): # 벽 3개를 위치시킴\n",
    "    global maxVal\n",
    "    \n",
    "    if num == 0: # 벽을 3개 모두 설치 한 후\n",
    "        b = deepcopy(board)\n",
    "        maxVal = max(maxVal, cal_safe_area(N, M, b))\n",
    "        # 안전영역의 최대값을 구한다.\n",
    "        return \n",
    "    \n",
    "    if x == M: # 인덱스 갱신\n",
    "        x = 0\n",
    "        y += 1\n",
    "    if y == N: # 끝까지 모두 탐색한 경우 마친다.\n",
    "        return\n",
    "     \n",
    "    for i in range(y, N):\n",
    "        for j in range(M):\n",
    "            if y == i and j < x:\n",
    "                continue\n",
    "            # 아직 탐색하지 않은 인덱스에 대해서\n",
    "            if board[i][j] == 0: # 만약 벽을 놓을 수 있는 자리라면\n",
    "                board[i][j] = 1\n",
    "                build_wall(N, M, board, i, j+1, num-1) # 벽을 놓고 재귀적으로 설치\n",
    "                board[i][j] = 0\n",
    "    return\n",
    "\n",
    "def solution(N, M, board):\n",
    "    global maxVal\n",
    "    global virus_list\n",
    "    global safe_area\n",
    "    virus_list = []\n",
    "    maxVal = 0\n",
    "    safe_area = 0\n",
    "    \n",
    "    board = [[int(x) for x in x.split()] for x in board.split(\"\\n\")]\n",
    "    for y in range(N):\n",
    "        for x in range(M):\n",
    "            if board[y][x] == 2: # 바이러스의 위치 저장\n",
    "                virus_list.append((y,x))\n",
    "            elif board[y][x] == 0: # 현재 안전영역의 개수 저장\n",
    "                safe_area += 1\n",
    "    build_wall(N, M, board) # 안전영역의 최대값\n",
    "    return maxVal"
   ]
  },
  {
   "cell_type": "code",
   "execution_count": 2,
   "metadata": {},
   "outputs": [],
   "source": [
    "N, M = 7, 7\n",
    "board = '''2 0 0 0 1 1 0\n",
    "0 0 1 0 1 2 0\n",
    "0 1 1 0 1 0 0\n",
    "0 1 0 0 0 0 0\n",
    "0 0 0 0 0 1 1\n",
    "0 1 0 0 0 0 0\n",
    "0 1 0 0 0 0 0'''"
   ]
  },
  {
   "cell_type": "code",
   "execution_count": 3,
   "metadata": {},
   "outputs": [
    {
     "data": {
      "text/plain": [
       "27"
      ]
     },
     "execution_count": 3,
     "metadata": {},
     "output_type": "execute_result"
    }
   ],
   "source": [
    "solution(N, M, board)"
   ]
  },
  {
   "cell_type": "code",
   "execution_count": 4,
   "metadata": {},
   "outputs": [],
   "source": [
    "N, M = 4, 6\n",
    "board = '''0 0 0 0 0 0\n",
    "1 0 0 0 0 2\n",
    "1 1 1 0 0 2\n",
    "0 0 0 0 0 2'''"
   ]
  },
  {
   "cell_type": "code",
   "execution_count": 5,
   "metadata": {},
   "outputs": [
    {
     "data": {
      "text/plain": [
       "9"
      ]
     },
     "execution_count": 5,
     "metadata": {},
     "output_type": "execute_result"
    }
   ],
   "source": [
    "solution(N, M, board)"
   ]
  },
  {
   "cell_type": "code",
   "execution_count": 6,
   "metadata": {},
   "outputs": [],
   "source": [
    "N, M = 8, 8\n",
    "board = '''2 0 0 0 0 0 0 2\n",
    "2 0 0 0 0 0 0 2\n",
    "2 0 0 0 0 0 0 2\n",
    "2 0 0 0 0 0 0 2\n",
    "2 0 0 0 0 0 0 2\n",
    "0 0 0 0 0 0 0 0\n",
    "0 0 0 0 0 0 0 0\n",
    "0 0 0 0 0 0 0 0'''"
   ]
  },
  {
   "cell_type": "code",
   "execution_count": 7,
   "metadata": {},
   "outputs": [
    {
     "data": {
      "text/plain": [
       "3"
      ]
     },
     "execution_count": 7,
     "metadata": {},
     "output_type": "execute_result"
    }
   ],
   "source": [
    "solution(N, M, board)"
   ]
  }
 ],
 "metadata": {
  "kernelspec": {
   "display_name": "Python 3",
   "language": "python",
   "name": "python3"
  },
  "language_info": {
   "codemirror_mode": {
    "name": "ipython",
    "version": 3
   },
   "file_extension": ".py",
   "mimetype": "text/x-python",
   "name": "python",
   "nbconvert_exporter": "python",
   "pygments_lexer": "ipython3",
   "version": "3.6.9"
  }
 },
 "nbformat": 4,
 "nbformat_minor": 2
}
