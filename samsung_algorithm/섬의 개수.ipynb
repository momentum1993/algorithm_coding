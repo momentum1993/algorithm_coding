{
 "cells": [
  {
   "cell_type": "markdown",
   "metadata": {},
   "source": [
    "# 섬의 개수"
   ]
  },
  {
   "cell_type": "markdown",
   "metadata": {},
   "source": [
    "[baekjoon의 '섬의 개수' 링크](https://www.acmicpc.net/problem/4963)"
   ]
  },
  {
   "cell_type": "markdown",
   "metadata": {},
   "source": [
    "### 문제   \n",
    "정사각형으로 이루어져 있는 섬과 바다 지도가 주어진다. 섬의 개수를 세는 프로그램을 작성하시오.  \n",
    "  \n",
    "![](https://www.acmicpc.net/upload/images/island.png)  \n",
    "  \n",
    "한 정사각형과 가로, 세로 또는 대각선으로 연결되어 있는 사각형은 걸어갈 수 있는 사각형이다.  \n",
    "  \n",
    "두 정사각형이 같은 섬에 있으려면, 한 정사각형에서 다른 정사각형으로 걸어서 갈 수 있는 경로가 있어야 한다. 지도는 바다로 둘러싸여 있으며, 지도 밖으로 나갈 수 없다.  \n",
    "  \n",
    "### 입력  \n",
    "입력은 여러 개의 테스트 케이스로 이루어져 있다. 각 테스트 케이스의 첫째 줄에는 지도의 너비 w와 높이 h가 주어진다. w와 h는 50보다 작거나 같은 양의 정수이다.  \n",
    "  \n",
    "둘째 줄부터 h개 줄에는 지도가 주어진다. 1은 땅, 0은 바다이다.  \n",
    "  \n",
    "입력의 마지막 줄에는 0이 두 개 주어진다.  \n",
    "  \n",
    "### 출력  \n",
    "각 테스트 케이스에 대해서, 섬의 개수를 출력한다.  "
   ]
  },
  {
   "cell_type": "code",
   "execution_count": 1,
   "metadata": {},
   "outputs": [
    {
     "name": "stdout",
     "output_type": "stream",
     "text": [
      "Input\n",
      "1 1\n",
      "0\n",
      "2 2\n",
      "0 1\n",
      "1 0\n",
      "3 2\n",
      "1 1 1\n",
      "1 1 1\n",
      "5 4\n",
      "1 0 1 0 0\n",
      "1 0 0 0 0\n",
      "1 0 1 0 1\n",
      "1 0 0 1 0\n",
      "5 4\n",
      "1 1 1 0 1\n",
      "1 0 1 0 1\n",
      "1 0 1 0 1\n",
      "1 0 1 1 1\n",
      "5 5\n",
      "1 0 1 0 1\n",
      "0 0 0 0 0\n",
      "1 0 1 0 1\n",
      "0 0 0 0 0\n",
      "1 0 1 0 1\n",
      "0 0\n",
      "\n",
      "Ouput\n",
      "0\n",
      "1\n",
      "1\n",
      "3\n",
      "1\n",
      "9\n"
     ]
    }
   ],
   "source": [
    "def check_island(w, h, board, checked, y, x): # 섬을 체크하는 시뮬레이션\n",
    "    direction = [(0, 1), (1, 1), (1, 0), (1, -1), (0, -1), (-1, -1), (-1, 0), (-1, 1)] # 대각선을 포함한 8 방향\n",
    "    for add_y, add_x in direction: # 모든 방향에 대해서\n",
    "        if 0 <= add_y+y < h and 0 <= add_x+x < w and not checked[add_y+y][add_x+x] and board[add_y+y][add_x+x] == 1:\n",
    "            # 인접한 육지가 있을 때\n",
    "            checked[add_y+y][add_x+x] = True # 체크하고\n",
    "            check_island(w, h, board, checked, add_y+y, add_x+x) # 재귀적으로 섬 탐색\n",
    "    return\n",
    "\n",
    "w, h = 1, 1 # 너비, 높이\n",
    "island_num = [] # 섬의 개수\n",
    "print(\"Input\")\n",
    "w, h = tuple(int(x) for x in input().split()) \n",
    "while w > 0 and h > 0: # 너비, 높이가 0일 경우 탐색 중단\n",
    "    board = [] # 섬의 지도\n",
    "    checked = [[False for _ in range(w)] for _ in range(h)] # 해당 위치 탐색 여부\n",
    "    for _ in range(h):\n",
    "        board.append([int(x) for x in input().split()])\n",
    "    num = 0 # 현재 탐색 중인 지도에서의 섬의 개수\n",
    "    for y in range(h):\n",
    "        for x in range(w): # 모든 위치에 대해서\n",
    "            if board[y][x] == 1 and not checked[y][x]: # 아직 탐색하지 않은 육지라면\n",
    "                checked[y][x] = True # 탐색했음을 체크\n",
    "                check_island(w, h, board, checked, y, x) # 섬의 영토를 체크한다.\n",
    "                num += 1 # 섬의 개수 1 증가\n",
    "    island_num.append(num) # 현재 탐색한 지도에 대한 섬의 개수 저장\n",
    "    w, h = tuple(int(x) for x in input().split())\n",
    "print(\"\\nOuput\")\n",
    "for i in island_num:\n",
    "    print(i) # 입력받은 것에 대한 답 출력"
   ]
  }
 ],
 "metadata": {
  "kernelspec": {
   "display_name": "Python 3",
   "language": "python",
   "name": "python3"
  },
  "language_info": {
   "codemirror_mode": {
    "name": "ipython",
    "version": 3
   },
   "file_extension": ".py",
   "mimetype": "text/x-python",
   "name": "python",
   "nbconvert_exporter": "python",
   "pygments_lexer": "ipython3",
   "version": "3.6.9"
  }
 },
 "nbformat": 4,
 "nbformat_minor": 2
}
