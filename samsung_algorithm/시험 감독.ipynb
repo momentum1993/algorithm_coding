{
 "cells": [
  {
   "cell_type": "markdown",
   "metadata": {},
   "source": [
    "# 시험 감독"
   ]
  },
  {
   "cell_type": "markdown",
   "metadata": {},
   "source": [
    "[baekjoon의 '시험 감독' 링크](https://www.acmicpc.net/problem/13458)"
   ]
  },
  {
   "cell_type": "markdown",
   "metadata": {},
   "source": [
    "### 문제  \n",
    "총 N개의 시험장이 있고, 각각의 시험장마다 응시자들이 있다. i번 시험장에 있는 응시자의 수는 Ai명이다.  \n",
    "  \n",
    "감독관은 총감독관과 부감독관으로 두 종류가 있다. 총감독관은 한 방에서 감시할 수 있는 응시자의 수가 B명이고, 부감독관은 한 방에서 감시할 수 있는 응시자의 수가 C명이다.  \n",
    "  \n",
    "각각의 시험장에 총감독관은 오직 1명만 있어야 하고, 부감독관은 여러 명 있어도 된다.  \n",
    "  \n",
    "각 시험장마다 응시생들을 모두 감시해야 한다. 이때, 필요한 감독관 수의 최솟값을 구하는 프로그램을 작성하시오.  \n",
    "  \n",
    "### 입력  \n",
    "첫째 줄에 시험장의 개수 N(1 ≤ N ≤ 1,000,000)이 주어진다.  \n",
    "  \n",
    "둘째 줄에는 각 시험장에 있는 응시자의 수 Ai (1 ≤ Ai ≤ 1,000,000)가 주어진다.  \n",
    "  \n",
    "셋째 줄에는 B와 C가 주어진다. (1 ≤ B, C ≤ 1,000,000)  \n",
    "  \n",
    "### 출력\n",
    "각 시험장마다 응시생을 모두 감독하기 위해 필요한 감독관의 최소 수를 출력한다.  "
   ]
  },
  {
   "cell_type": "code",
   "execution_count": 1,
   "metadata": {},
   "outputs": [],
   "source": [
    "def cal_min_sub(N, A, C):\n",
    "    answer = 0\n",
    "    for i in A: \n",
    "        if i / C > 0: # 응시자 수가 0 이상이라면\n",
    "            answer += (i // C) # 몫을 더하고\n",
    "            if i % C > 0: # 나머지가 있다면\n",
    "                answer += 1 # 1을 더함\n",
    "    return answer\n",
    "\n",
    "def solution(N, A, B, C):\n",
    "    answer = 0\n",
    "    for i in range(N): # 총감독관은 필수적으로 1명 있어야함\n",
    "        A[i] -= B # 총감독관이 감독할 수 있는 인원들을 뺌\n",
    "        answer += 1 # 그리고 각 시험장별 총감독관의 수 더함\n",
    "    return answer + cal_min_sub(N, A, C) # 총감독관의 수 + 부감독관의 수\n",
    "\n",
    "# if __name__ == '__main__':\n",
    "#     N = int(input())\n",
    "#     A = [int(x) for x in input().split()]\n",
    "#     B, C = tuple(int(x) for x in input().split()) \n",
    "#     print(solution(N, A, B, C))"
   ]
  },
  {
   "cell_type": "code",
   "execution_count": 2,
   "metadata": {},
   "outputs": [],
   "source": [
    "N = 1\n",
    "A = [1]\n",
    "B = 1 \n",
    "C = 1"
   ]
  },
  {
   "cell_type": "code",
   "execution_count": 3,
   "metadata": {},
   "outputs": [
    {
     "data": {
      "text/plain": [
       "1"
      ]
     },
     "execution_count": 3,
     "metadata": {},
     "output_type": "execute_result"
    }
   ],
   "source": [
    "solution(N, A, B, C)"
   ]
  },
  {
   "cell_type": "code",
   "execution_count": 4,
   "metadata": {},
   "outputs": [],
   "source": [
    "N = 3\n",
    "A = [3, 4, 5]\n",
    "B = 2\n",
    "C = 2"
   ]
  },
  {
   "cell_type": "code",
   "execution_count": 5,
   "metadata": {},
   "outputs": [
    {
     "data": {
      "text/plain": [
       "7"
      ]
     },
     "execution_count": 5,
     "metadata": {},
     "output_type": "execute_result"
    }
   ],
   "source": [
    "solution(N, A, B, C)"
   ]
  },
  {
   "cell_type": "code",
   "execution_count": 6,
   "metadata": {},
   "outputs": [],
   "source": [
    "N = 5\n",
    "A = [1000000, 1000000, 1000000, 1000000, 1000000]\n",
    "B = 5\n",
    "C = 7"
   ]
  },
  {
   "cell_type": "code",
   "execution_count": 7,
   "metadata": {},
   "outputs": [
    {
     "data": {
      "text/plain": [
       "714290"
      ]
     },
     "execution_count": 7,
     "metadata": {},
     "output_type": "execute_result"
    }
   ],
   "source": [
    "solution(N, A, B, C)"
   ]
  },
  {
   "cell_type": "code",
   "execution_count": 8,
   "metadata": {},
   "outputs": [],
   "source": [
    "N = 5\n",
    "A = [10, 9, 10, 9, 10]\n",
    "B = 7\n",
    "C = 20"
   ]
  },
  {
   "cell_type": "code",
   "execution_count": 9,
   "metadata": {},
   "outputs": [
    {
     "data": {
      "text/plain": [
       "10"
      ]
     },
     "execution_count": 9,
     "metadata": {},
     "output_type": "execute_result"
    }
   ],
   "source": [
    "solution(N, A, B, C)"
   ]
  },
  {
   "cell_type": "code",
   "execution_count": 10,
   "metadata": {},
   "outputs": [],
   "source": [
    "N = 5\n",
    "A = [10, 9, 10, 9, 10]\n",
    "B = 7\n",
    "C = 2"
   ]
  },
  {
   "cell_type": "code",
   "execution_count": 11,
   "metadata": {},
   "outputs": [
    {
     "data": {
      "text/plain": [
       "13"
      ]
     },
     "execution_count": 11,
     "metadata": {},
     "output_type": "execute_result"
    }
   ],
   "source": [
    "solution(N, A, B, C)"
   ]
  }
 ],
 "metadata": {
  "kernelspec": {
   "display_name": "Python 3",
   "language": "python",
   "name": "python3"
  },
  "language_info": {
   "codemirror_mode": {
    "name": "ipython",
    "version": 3
   },
   "file_extension": ".py",
   "mimetype": "text/x-python",
   "name": "python",
   "nbconvert_exporter": "python",
   "pygments_lexer": "ipython3",
   "version": "3.6.9"
  }
 },
 "nbformat": 4,
 "nbformat_minor": 2
}
