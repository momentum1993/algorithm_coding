{
 "cells": [
  {
   "cell_type": "markdown",
   "metadata": {},
   "source": [
    "# 안전 영역"
   ]
  },
  {
   "cell_type": "markdown",
   "metadata": {},
   "source": [
    "[baekjoon의 '안전 영역' 링크](https://www.acmicpc.net/problem/2468)"
   ]
  },
  {
   "cell_type": "markdown",
   "metadata": {},
   "source": [
    "### 문제   \n",
    "재난방재청에서는 많은 비가 내리는 장마철에 대비해서 다음과 같은 일을 계획하고 있다. 먼저 어떤 지역의 높이 정보를 파악한다. 그 다음에 그 지역에 많은 비가 내렸을 때 물에 잠기지 않는 안전한 영역이 최대로 몇 개가 만들어 지는 지를 조사하려고 한다. 이때, 문제를 간단하게 하기 위하여, 장마철에 내리는 비의 양에 따라 일정한 높이 이하의 모든 지점은 물에 잠긴다고 가정한다.  \n",
    "  \n",
    "어떤 지역의 높이 정보는 행과 열의 크기가 각각 N인 2차원 배열 형태로 주어지며 배열의 각 원소는 해당 지점의 높이를 표시하는 자연수이다. 예를 들어, 다음은 N=5인 지역의 높이 정보이다.  \n",
    "  \n",
    "![](https://onlinejudgeimages.s3-ap-northeast-1.amazonaws.com/upload/images/w1.png)  \n",
    "  \n",
    "이제 위와 같은 지역에 많은 비가 내려서 높이가 4 이하인 모든 지점이 물에 잠겼다고 하자. 이 경우에 물에 잠기는 지점을 회색으로 표시하면 다음과 같다.  \n",
    "  \n",
    "![](https://onlinejudgeimages.s3-ap-northeast-1.amazonaws.com/upload/images/w2.png)  \n",
    "  \n",
    "물에 잠기지 않는 안전한 영역이라 함은 물에 잠기지 않는 지점들이 위, 아래, 오른쪽 혹은 왼쪽으로 인접해 있으며 그 크기가 최대인 영역을 말한다. 위의 경우에서 물에 잠기지 않는 안전한 영역은 5개가 된다(꼭짓점으로만 붙어 있는 두 지점은 인접하지 않는다고 취급한다).  \n",
    "  \n",
    "또한 위와 같은 지역에서 높이가 6이하인 지점을 모두 잠기게 만드는 많은 비가 내리면 물에 잠기지 않는 안전한 영역은 아래 그림에서와 같이 네 개가 됨을 확인할 수 있다.  \n",
    "  \n",
    "![](https://onlinejudgeimages.s3-ap-northeast-1.amazonaws.com/upload/images/w4.png)  \n",
    "  \n",
    "이와 같이 장마철에 내리는 비의 양에 따라서 물에 잠기지 않는 안전한 영역의 개수는 다르게 된다. 위의 예와 같은 지역에서 내리는 비의 양에 따른 모든 경우를 다 조사해 보면 물에 잠기지 않는 안전한 영역의 개수 중에서 최대인 경우는 5임을 알 수 있다.  \n",
    "  \n",
    "어떤 지역의 높이 정보가 주어졌을 때, 장마철에 물에 잠기지 않는 안전한 영역의 최대 개수를 계산하는 프로그램을 작성하시오.  \n",
    "  \n",
    "### 입력  \n",
    "첫째 줄에는 어떤 지역을 나타내는 2차원 배열의 행과 열의 개수를 나타내는 수 N이 입력된다. N은 2 이상 100 이하의 정수이다. 둘째 줄부터 N개의 각 줄에는 2차원 배열의 첫 번째 행부터 N번째 행까지 순서대로 한 행씩 높이 정보가 입력된다. 각 줄에는 각 행의 첫 번째 열부터 N번째 열까지 N개의 높이 정보를 나타내는 자연수가 빈 칸을 사이에 두고 입력된다. 높이는 1이상 100 이하의 정수이다.  \n",
    "  \n",
    "### 출력  \n",
    "첫째 줄에 장마철에 물에 잠기지 않는 안전한 영역의 최대 개수를 출력한다.  "
   ]
  },
  {
   "cell_type": "code",
   "execution_count": 1,
   "metadata": {},
   "outputs": [
    {
     "name": "stdout",
     "output_type": "stream",
     "text": [
      "5\n",
      "6 8 2 6 2\n",
      "3 2 3 4 6\n",
      "6 7 3 3 2\n",
      "7 2 5 3 6\n",
      "8 9 5 2 7\n",
      "5\n"
     ]
    }
   ],
   "source": [
    "def measure_territory(N, board, checked, h, y, x): # 같은 영역을 체크해준다.\n",
    "    checked[y][x] = True # 현재 위치를 확인함을 표시\n",
    "    direction = [(0, 1), (1, 0), (0, -1), (-1, 0)] # 이동 방향\n",
    "    for add_y, add_x in direction: # 네 방향에 대해서\n",
    "        if not (0 <= x + add_x < N and 0 <= y + add_y < N): # 범위 밖을 벗어나면 확장 불가\n",
    "            continue\n",
    "        if checked[add_y+y][add_x+x] or board[add_y+y][add_x+x] <= h: # 이미 체크 되었거나, 물에 잠기는 위치라면 확장 불가\n",
    "            continue\n",
    "        measure_territory(N, board, checked, h, add_y+y, add_x+x)\n",
    "        # 그 이외에는 영역 확장\n",
    "    return\n",
    "    \n",
    "def simulation(N, board, height): # 장마철 물의 높이에 따라 시뮬레이션\n",
    "    answer = 0 # 답\n",
    "    for h in height: # 장마철 물의 높이\n",
    "        num = 0\n",
    "        checked = [[False for _ in range(N)] for _ in range(N)] # 확인한 영토 체크\n",
    "        for y in range(N):\n",
    "            for x in range(N): # 범위 내의 모든 위치에 대해서\n",
    "                if checked[y][x] or board[y][x] <= h: # 이미 확인했거나 물에 잠긴 영토일 경우 확인하지 않는다.\n",
    "                    continue\n",
    "                num += 1 # 안전한 영역 개수 1 증가\n",
    "                measure_territory(N, board, checked, h, y, x)\n",
    "                # 그리고 현재 보고 있는 위치가 포함되는 영역을 모두 체크한다.\n",
    "        answer = max(answer, num) # 안전한 영역의 최대 개수를 저장\n",
    "    return answer # 답 반환\n",
    "\n",
    "N = int(input()) # 행열의 길이\n",
    "height = set() # 땅의 높이\n",
    "board = [] # 보드 \n",
    "for _ in range(N):\n",
    "    row = []\n",
    "    for i in input().split():\n",
    "        row.append(int(i))\n",
    "        height.add(int(i))\n",
    "    board.append(row)\n",
    "height = list(height)\n",
    "print(simulation(N, board, height)) # 답 출력\n"
   ]
  }
 ],
 "metadata": {
  "kernelspec": {
   "display_name": "Python 3",
   "language": "python",
   "name": "python3"
  },
  "language_info": {
   "codemirror_mode": {
    "name": "ipython",
    "version": 3
   },
   "file_extension": ".py",
   "mimetype": "text/x-python",
   "name": "python",
   "nbconvert_exporter": "python",
   "pygments_lexer": "ipython3",
   "version": "3.6.9"
  }
 },
 "nbformat": 4,
 "nbformat_minor": 2
}
