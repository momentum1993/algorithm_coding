{
 "cells": [
  {
   "cell_type": "markdown",
   "metadata": {},
   "source": [
    "# 치즈"
   ]
  },
  {
   "cell_type": "markdown",
   "metadata": {},
   "source": [
    "[baekjoon의 '치즈' 링크](https://www.acmicpc.net/problem/2636)"
   ]
  },
  {
   "cell_type": "markdown",
   "metadata": {},
   "source": [
    "### 문제   \n",
    "아래 <그림 1>과 같이 정사각형 칸들로 이루어진 사각형 모양의 판이 있고, 그 위에 얇은 치즈(회색으로 표시된 부분)가 놓여 있다. 판의 가장자리(<그림 1>에서 네모 칸에 X친 부분)에는 치즈가 놓여 있지 않으며 치즈에는 하나 이상의 구멍이 있을 수 있다.  \n",
    "  \n",
    "이 치즈를 공기 중에 놓으면 녹게 되는데 공기와 접촉된 칸은 한 시간이 지나면 녹아 없어진다. 치즈의 구멍 속에는 공기가 없지만 구멍을 둘러싼 치즈가 녹아서 구멍이 열리면 구멍 속으로 공기가 들어가게 된다. <그림 1>의 경우, 치즈의 구멍을 둘러싼 치즈는 녹지 않고 ‘c’로 표시된 부분만 한 시간 후에 녹아 없어져서 <그림 2>와 같이 된다.  \n",
    "  \n",
    "![](https://onlinejudgeimages.s3-ap-northeast-1.amazonaws.com/upload/images/BPOxvQj6Ys.jpg)  \n",
    "  \n",
    "다시 한 시간 후에는 <그림 2>에서 ‘c’로 표시된 부분이 녹아 없어져서 <그림 3>과 같이 된다.  \n",
    "  \n",
    "![](https://onlinejudgeimages.s3-ap-northeast-1.amazonaws.com/upload/images/e3BJaDrJjITZ.png)  \n",
    "  \n",
    "<그림 3>은 원래 치즈의 두 시간 후 모양을 나타내고 있으며, 남은 조각들은 한 시간이 더 지나면 모두 녹아 없어진다. 그러므로 처음 치즈가 모두 녹아 없어지는 데는 세 시간이 걸린다. <그림 3>과 같이 치즈가 녹는 과정에서 여러 조각으로 나누어 질 수도 있다.  \n",
    "  \n",
    "입력으로 사각형 모양의 판의 크기와 한 조각의 치즈가 판 위에 주어졌을 때, 공기 중에서 치즈가 모두 녹아 없어지는 데 걸리는 시간과 모두 녹기 한 시간 전에 남아있는 치즈조각이 놓여 있는 칸의 개수를 구하는 프로그램을 작성하시오.  \n",
    "  \n",
    "### 입력  \n",
    "첫째 줄에는 사각형 모양 판의 세로와 가로의 길이가 양의 정수로 주어진다. 세로와 가로의 길이는 최대 100이다. 판의 각 가로줄의 모양이 윗 줄부터 차례로 둘째 줄부터 마지막 줄까지 주어진다. 치즈가 없는 칸은 0, 치즈가 있는 칸은 1로 주어지며 각 숫자 사이에는 빈칸이 하나씩 있다.  \n",
    "  \n",
    "### 출력  \n",
    "첫째 줄에는 치즈가 모두 녹아서 없어지는 데 걸리는 시간을 출력하고, 둘째 줄에는 모두 녹기 한 시간 전에 남아있는 치즈조각이 놓여 있는 칸의 개수를 출력한다.  "
   ]
  },
  {
   "cell_type": "code",
   "execution_count": 1,
   "metadata": {},
   "outputs": [
    {
     "name": "stdout",
     "output_type": "stream",
     "text": [
      "13 12\n",
      "0 0 0 0 0 0 0 0 0 0 0 0\n",
      "0 0 0 0 0 0 0 0 0 0 0 0\n",
      "0 0 0 0 0 0 0 1 1 0 0 0\n",
      "0 1 1 1 0 0 0 1 1 0 0 0\n",
      "0 1 1 1 1 1 1 0 0 0 0 0\n",
      "0 1 1 1 1 1 0 1 1 0 0 0\n",
      "0 1 1 1 1 0 0 1 1 0 0 0\n",
      "0 0 1 1 0 0 0 1 1 0 0 0\n",
      "0 0 1 1 1 1 1 1 1 0 0 0\n",
      "0 0 1 1 1 1 1 1 1 0 0 0\n",
      "0 0 1 1 1 1 1 1 1 0 0 0\n",
      "0 0 1 1 1 1 1 1 1 0 0 0\n",
      "0 0 0 0 0 0 0 0 0 0 0 0\n",
      "3\n",
      "5\n"
     ]
    }
   ],
   "source": [
    "def cheese_melt(board, remove_list): # 치즈 녹이기 시뮬레이션\n",
    "    for y, x in remove_list:\n",
    "        board[y][x] = 0 # 치즈 녹이기\n",
    "    return\n",
    "\n",
    "def find_blank(board, R, C, checked, remove_list, y, x): # 공기와 접촉된 칸들을 모두 찾음\n",
    "    direction = [(0, 1), (1, 0), (0, -1), (-1, 0)] # 네 방향\n",
    "    answer = 1 # 답\n",
    "    for add_y, add_x in direction:\n",
    "        if 0 <= y+add_y < R and 0 <= x+add_x < C and not checked[add_y+y][add_x+x]:\n",
    "            # 갈 수 있는 공간이고, 아직 탐색하지 않은 곳이라면\n",
    "            checked[add_y+y][add_x+x] = True # 탐색했음을 체크\n",
    "            \n",
    "            if board[add_y+y][add_x+x] == 0: # 빈 공간\n",
    "                answer += find_blank(board, R, C, checked, remove_list, add_y+y, add_x+x)\n",
    "                # 재귀적으로 공기와 접촉된 칸들을 모두 찾음\n",
    "            else: # 치즈\n",
    "                remove_list.append((add_y+y, add_x+x))\n",
    "                # 공기와 접촉되는 치즈 부분 좌표 저장\n",
    "    return answer # 공기와 접촉된 칸 반환\n",
    "\n",
    "def simulation(board, R, C): # 치즈 녹이기 시뮬레이션\n",
    "    time = 0 # 걸린 시간\n",
    "    left_cheese = 0 # 남은 치즈\n",
    "    \n",
    "    while True:\n",
    "        left_block = 0 # 남은 블록\n",
    "        checked = [] # 탐색 여부\n",
    "        checked = [[False for _ in range(C)] for _ in range(R)]\n",
    "        remove_list = [] # 제거해야할 리스트\n",
    "        \n",
    "        for y in range(R):\n",
    "            for x in range(C):\n",
    "            # 가장 바깥 가장자리에서 부터 공기와 접촉된 칸들을 모두 찾는다.\n",
    "                if y in [0, R-1] and not checked[y][x]:\n",
    "                    checked[y][x] = True\n",
    "                    left_block = R*C - find_blank(board, R, C, checked, remove_list, y, x)\n",
    "                else:\n",
    "                    if not x in [0, C-1]:\n",
    "                        continue\n",
    "                    if not checked[y][x]:\n",
    "                        checked[y][x] = True\n",
    "                        left_block = R*C - find_blank(board, R, C, checked, remove_list, y, x)\n",
    "                # 그래서 공기와 접촉된 블록들을 left_block에 저장\n",
    "                        \n",
    "        if left_block == 0: # 치즈가 다 녹아버렸다면\n",
    "            break # 루프를 나간다.\n",
    "            \n",
    "        left_cheese = left_block # 남은 치즈 개수 저장\n",
    "        time += 1 # 시간 1초 증가\n",
    "        cheese_melt(board, remove_list) # 치즈를 녹인다.\n",
    "    return time, left_cheese # 치즈를 녹이기 까지의 시간, 가장 마지막으로 남은 치즈 조각 개수 반환\n",
    "    \n",
    "\n",
    "board = [] # 보드\n",
    "R, C = tuple(int(x) for x in input().split()) # 행, 열\n",
    "\n",
    "for _ in range(R):\n",
    "    board.append(list(int(x) for x in input().split())) # 치즈 상태 입력\n",
    "\n",
    "time, left = simulation(board, R, C)\n",
    "print(time)\n",
    "print(left)\n",
    "# 치즈를 녹이기까지의 시간, 가장 마지막으로 남은 치즈 조각 개수 출력"
   ]
  }
 ],
 "metadata": {
  "kernelspec": {
   "display_name": "Python 3",
   "language": "python",
   "name": "python3"
  },
  "language_info": {
   "codemirror_mode": {
    "name": "ipython",
    "version": 3
   },
   "file_extension": ".py",
   "mimetype": "text/x-python",
   "name": "python",
   "nbconvert_exporter": "python",
   "pygments_lexer": "ipython3",
   "version": "3.6.9"
  }
 },
 "nbformat": 4,
 "nbformat_minor": 2
}
