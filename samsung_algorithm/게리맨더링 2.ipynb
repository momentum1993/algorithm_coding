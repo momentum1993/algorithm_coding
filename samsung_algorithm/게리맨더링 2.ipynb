{
 "cells": [
  {
   "cell_type": "markdown",
   "metadata": {},
   "source": [
    "# 게리맨더링 2"
   ]
  },
  {
   "cell_type": "markdown",
   "metadata": {},
   "source": [
    "[baekjoon의 '게리맨더링 2' 링크](https://www.acmicpc.net/problem/17779)"
   ]
  },
  {
   "cell_type": "markdown",
   "metadata": {},
   "source": [
    "### 문제  \n",
    "재현시의 시장 구재현은 지난 몇 년간 게리맨더링을 통해서 자신의 당에게 유리하게 선거구를 획정했다. 견제할 권력이 없어진 구재현은 권력을 매우 부당하게 행사했고, 심지어는 시의 이름도 재현시로 변경했다. 이번 선거에서는 최대한 공평하게 선거구를 획정하려고 한다.  \n",
    "  \n",
    "재현시는 크기가 N×N인 격자로 나타낼 수 있다. 격자의 각 칸은 구역을 의미하고, r행 c열에 있는 구역은 (r, c)로 나타낼 수 있다. 구역을 다섯 개의 선거구로 나눠야 하고, 각 구역은 다섯 선거구 중 하나에 포함되어야 한다. 선거구는 구역을 적어도 하나 포함해야 하고, 한 선거구에 포함되어 있는 구역은 모두 연결되어 있어야 한다. 구역 A에서 인접한 구역을 통해서 구역 B로 갈 수 있을 때, 두 구역은 연결되어 있다고 한다. 중간에 통하는 인접한 구역은 0개 이상이어야 하고, 모두 같은 선거구에 포함된 구역이어야 한다.  \n",
    "  \n",
    "선거구를 나누는 방법은 다음과 같다.  \n",
    "\n",
    "\n",
    "1. 기준점 (x, y)와 경계의 길이 $d_1$, d2를 정한다. ($d_1$, $d_2$ ≥ 1, 1 ≤ x < x+$d_1$+$d_2$ ≤ N, 1 ≤ y-$d_1$ < y < y+$d_2$ ≤ N)  \n",
    "2. 다음 칸은 경계선이다.  \n",
    "    1. (x, y), (x+1, y-1), ..., (x+$d_1$, y-$d_1$)  \n",
    "    2. (x, y), (x+1, y+1), ..., (x+$d_2$, y+$d_2$)  \n",
    "    3. (x+$d_1$, y-$d_1$), (x+$d_1$+1, y-$d_1$+1), ... (x+$d_1$+$d_2$, y-$d_1$+$d_2$)  \n",
    "    4. (x+$d_2$, y+$d_2$), (x+$d_2$+1, y+$d_2$-1), ..., (x+$d_2$+$d_1$, y+$d_2$-$d_1$)  \n",
    "3. 경계선과 경계선의 안에 포함되어있는 5번 선거구이다.  \n",
    "4. 5번 선거구에 포함되지 않은 구역 (r, c)의 선거구 번호는 다음 기준을 따른다.  \n",
    "    - 1번 선거구: 1 ≤ r < x+$d_1$, 1 ≤ c ≤ y  \n",
    "    - 2번 선거구: 1 ≤ r ≤ x+$d_2$, y < c ≤ N  \n",
    "    - 3번 선거구: x+$d_1$ ≤ r ≤ N, 1 ≤ c < y-$d_1$+$d_2$  \n",
    "    - 4번 선거구: x+$d_2$ < r ≤ N, y-$d_1$+$d_2$ ≤ c ≤ N  \n",
    "  \n",
    "아래는 크기가 7×7인 재현시를 다섯 개의 선거구로 나눈 방법의 예시이다.  \n",
    "  \n",
    "|x = 2, y = 4, $d_1$ = 2, $d_2$ = 2|x = 2, y = 5, $d_1$ = 3, $d_2$ = 2|x = 4, y = 3, $d_1$ = 1, $d_2$ = 1|\n",
    "|:---:|:---:|:---:|\n",
    "|![](https://upload.acmicpc.net/c144c31e-db45-4094-9c1d-0656a690aef0/-/preview/)|![](https://upload.acmicpc.net/813c38e0-3197-4589-bc96-17d96eb9ed14/-/preview/)|![](https://upload.acmicpc.net/892417dd-b824-4d4e-8bce-2faf341a9f66/-/preview/)|\n",
    "\t\t\n",
    "구역 (r, c)의 인구는 A[r][c]이고, 선거구의 인구는 선거구에 포함된 구역의 인구를 모두 합한 값이다. 선거구를 나누는 방법 중에서, 인구가 가장 많은 선거구와 가장 적은 선거구의 인구 차이의 최솟값을 구해보자.  \n",
    "  \n",
    "### 입력  \n",
    "첫째 줄에 재현시의 크기 N이 주어진다.  \n",
    "  \n",
    "둘째 줄부터 N개의 줄에 N개의 정수가 주어진다. r행 c열의 정수는 A[r][c]를 의미한다.  \n",
    "  \n",
    "### 출력  \n",
    "첫째 줄에 인구가 가장 많은 선거구와 가장 적은 선거구의 인구 차이의 최솟값을 출력한다.  \n",
    "  \n",
    "### 제한  \n",
    "5 ≤ N ≤ 20  \n",
    "1 ≤ A[r][c] ≤ 100  \n",
    "  "
   ]
  },
  {
   "cell_type": "code",
   "execution_count": 1,
   "metadata": {},
   "outputs": [],
   "source": [
    "def calculate_population(N, area, y, x, d_1, d_2):\n",
    "    max_population = 0\n",
    "    min_population = N*N*100\n",
    "    \n",
    "    turn = 0\n",
    "    first = 0\n",
    "    fifth_boundary = [[True for _ in range(N)] for _ in range(N)]\n",
    "    for i in range(y+d_1):\n",
    "        if i >= y:\n",
    "            turn += 1\n",
    "        for j in range(x+1-turn):\n",
    "            first += area[i][j]\n",
    "            fifth_boundary[i][j] = False\n",
    "    max_population = max(max_population, first)\n",
    "    min_population = min(min_population, first)\n",
    "    # 1번 선거구의 인구\n",
    "    \n",
    "    turn = 0\n",
    "    second = 0\n",
    "    for i in range(y+d_2+1):\n",
    "        if i > y:\n",
    "            turn += 1\n",
    "        for j in range(x+1+turn, N):\n",
    "            second += area[i][j]\n",
    "            fifth_boundary[i][j] = False\n",
    "    max_population = max(max_population, second)\n",
    "    min_population = min(min_population, second)\n",
    "    # 2번 선거구의 인구\n",
    "        \n",
    "    turn = 0\n",
    "    third = 0\n",
    "    for i in range(y+d_1, N):\n",
    "        if i <= y+d_1+d_2:\n",
    "            turn += 1\n",
    "        for j in range(x-d_1-1+turn):\n",
    "            third += area[i][j]\n",
    "            fifth_boundary[i][j] = False\n",
    "    max_population = max(max_population, third)\n",
    "    min_population = min(min_population, third)\n",
    "    # 3번 선거구의 인구\n",
    "    \n",
    "    turn = 0\n",
    "    fourth = 0\n",
    "    for i in range(y+d_2+1, N):\n",
    "        if i <= y+d_1+d_2+1:\n",
    "            turn += 1\n",
    "        for j in range(x+d_2+1-turn, N):\n",
    "            fourth += area[i][j]\n",
    "            fifth_boundary[i][j] = False\n",
    "    max_population = max(max_population, fourth)\n",
    "    min_population = min(min_population, fourth)\n",
    "    # 4번 선거구의 인구\n",
    "    \n",
    "    fifth = 0\n",
    "    for i in range(N):\n",
    "        for j in range(N):\n",
    "            if fifth_boundary[i][j]:\n",
    "                fifth += area[i][j]\n",
    "\n",
    "    max_population = max(max_population, fifth)\n",
    "    min_population = min(min_population, fifth)\n",
    "    # 5번 선거구의 인구\n",
    "    # 5번 선거구 구역의 경우 1,2,3,4번 선거구가 가져간 구역의 나머지가 되도록한다.\n",
    "\n",
    "    return max_population - min_population\n",
    "    # 여태껏 나온 선거구의 최대 인구 - 선거구의 최소 인구를 반환\n",
    "    \n",
    "    \n",
    "def range_permitted(N, y, x, d_1, d_2): # 해당 파라미터가 적용가능한 구역인지 체크\n",
    "    if not (0 <= y < N-2 or 1 <= x < N-1):\n",
    "        return False\n",
    "    if y < 0 or x-d_1 < 0 or x+d_2 >= N or y+d_1+d_2 >= N:\n",
    "        return False\n",
    "    # 구역을 벗어나면 False 아니라면 True\n",
    "    return True\n",
    "    \n",
    "def make_least_difference(N, area, idx=1): # 최대 선거구와 최소 선거구 사이 인구 차이의 최소 계산\n",
    "    answer = N*N*100\n",
    "    \n",
    "    if idx == N*N: # 할 수 있는 모든 선거구 획정 방법을 확인 했을 경우 그만함\n",
    "        return 100*N*N\n",
    "    \n",
    "    y = idx // N\n",
    "    x = idx % N\n",
    "    # 5번 선거구를 만드는 기준점\n",
    "    \n",
    "    for d_1 in range(1, N):\n",
    "        for d_2 in range(1, N):\n",
    "            if not range_permitted(N, y, x, d_1, d_2):\n",
    "            # 해당 획정 방법이 가능한지 여부를 판별 후 계산할 것임.\n",
    "                break\n",
    "            answer = min(answer, calculate_population(N, area, y, x, d_1, d_2))\n",
    "            # 여지껏 나온 선거구 획정방법 적용을 통한 인구 비교값의 최소를 구한다.\n",
    "    return min(answer, make_least_difference(N, area, idx+1))\n",
    "    # 5선거구 획정 기준좌표를 바꿔가면서 최소값을 계속 재귀적으로 구한다.\n",
    "\n",
    "def solution(N, area):\n",
    "    area = [[int(x) for x in x.split()] for x in area.split(\"\\n\")]\n",
    "    return make_least_difference(N, area) # 선거구 획정시 최대 선거구 - 최소 선거구 인구의 최소값\n",
    "    "
   ]
  },
  {
   "cell_type": "code",
   "execution_count": 2,
   "metadata": {},
   "outputs": [],
   "source": [
    "N = 6\n",
    "area = '''1 2 3 4 1 6\n",
    "7 8 9 1 4 2\n",
    "2 3 4 1 1 3\n",
    "6 6 6 6 9 4\n",
    "9 1 9 1 9 5\n",
    "1 1 1 1 9 9'''"
   ]
  },
  {
   "cell_type": "code",
   "execution_count": 3,
   "metadata": {},
   "outputs": [
    {
     "data": {
      "text/plain": [
       "18"
      ]
     },
     "execution_count": 3,
     "metadata": {},
     "output_type": "execute_result"
    }
   ],
   "source": [
    "solution(N, area)"
   ]
  },
  {
   "cell_type": "code",
   "execution_count": 4,
   "metadata": {},
   "outputs": [],
   "source": [
    "N = 6\n",
    "area = '''5 5 5 5 5 5\n",
    "5 5 5 5 5 5\n",
    "5 5 5 5 5 5\n",
    "5 5 5 5 5 5\n",
    "5 5 5 5 5 5\n",
    "5 5 5 5 5 5'''"
   ]
  },
  {
   "cell_type": "code",
   "execution_count": 5,
   "metadata": {},
   "outputs": [
    {
     "data": {
      "text/plain": [
       "20"
      ]
     },
     "execution_count": 5,
     "metadata": {},
     "output_type": "execute_result"
    }
   ],
   "source": [
    "solution(N, area)"
   ]
  },
  {
   "cell_type": "code",
   "execution_count": 6,
   "metadata": {},
   "outputs": [],
   "source": [
    "N = 8\n",
    "area = '''1 2 3 4 5 6 7 8\n",
    "2 3 4 5 6 7 8 9\n",
    "3 4 5 6 7 8 9 1\n",
    "4 5 6 7 8 9 1 2\n",
    "5 6 7 8 9 1 2 3\n",
    "6 7 8 9 1 2 3 4\n",
    "7 8 9 1 2 3 4 5\n",
    "8 9 1 2 3 4 5 6'''"
   ]
  },
  {
   "cell_type": "code",
   "execution_count": 7,
   "metadata": {},
   "outputs": [
    {
     "data": {
      "text/plain": [
       "23"
      ]
     },
     "execution_count": 7,
     "metadata": {},
     "output_type": "execute_result"
    }
   ],
   "source": [
    "solution(N, area)"
   ]
  }
 ],
 "metadata": {
  "kernelspec": {
   "display_name": "Python 3",
   "language": "python",
   "name": "python3"
  },
  "language_info": {
   "codemirror_mode": {
    "name": "ipython",
    "version": 3
   },
   "file_extension": ".py",
   "mimetype": "text/x-python",
   "name": "python",
   "nbconvert_exporter": "python",
   "pygments_lexer": "ipython3",
   "version": "3.6.9"
  }
 },
 "nbformat": 4,
 "nbformat_minor": 2
}
