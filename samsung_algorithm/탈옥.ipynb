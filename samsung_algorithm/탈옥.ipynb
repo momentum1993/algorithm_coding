{
 "cells": [
  {
   "cell_type": "markdown",
   "metadata": {},
   "source": [
    "# 탈옥"
   ]
  },
  {
   "cell_type": "markdown",
   "metadata": {},
   "source": [
    "[baekjoon의 '탈옥' 링크](https://www.acmicpc.net/problem/9376)"
   ]
  },
  {
   "cell_type": "markdown",
   "metadata": {},
   "source": [
    "### 문제   \n",
    "상근이는 감옥에서 죄수 두 명을 탈옥시켜야 한다. 이 감옥은 1층짜리 건물이고, 상근이는 방금 평면도를 얻었다.\n",
    "\n",
    "평면도에는 모든 벽과 문이 나타나있고, 탈옥시켜야 하는 죄수의 위치도 나타나 있다. 감옥은 무인 감옥으로 죄수 두 명이 감옥에 있는 유일한 사람이다.\n",
    "\n",
    "문은 중앙 제어실에서만 열 수 있다. 상근이는 특별한 기술을 이용해 제어실을 통하지 않고 문을 열려고 한다. 하지만, 문을 열려면 시간이 매우 많이 걸린다. 두 죄수를 탈옥시키기 위해서 열어야 하는 문의 개수를 구하는 프로그램을 작성하시오.\n",
    "\n",
    "### 입력\n",
    "첫째 줄에 테스트 케이스의 개수가 주어진다. 테스트 케이스의 수는 100개를 넘지 않는다.\n",
    "\n",
    "첫째 줄에는 평면도의 높이 h와 너비 w가 주어진다. (2 ≤ h, w ≤ 100) 다음 h개 줄에는 감옥의 평면도 정보가 주어지며, 빈 공간은 '.', 지나갈 수 없는 벽은 '\\*', 문은 '#', 죄수의 위치는 '$'이다.\n",
    "\n",
    "상근이는 감옥 밖을 자유롭게 이동할 수 있고, 평면도에 표시된 죄수의 수는 항상 두 명이다. 각 죄수와 감옥의 바깥을 연결하는 경로가 항상 존재하는 경우만 입력으로 주어진다.\n",
    "\n",
    "### 출력\n",
    "각 테스트 케이스마다 두 죄수를 탈옥시키기 위해서 열어야 하는 문의 최솟값을 출력한다.  "
   ]
  },
  {
   "cell_type": "code",
   "execution_count": 1,
   "metadata": {},
   "outputs": [
    {
     "name": "stdout",
     "output_type": "stream",
     "text": [
      "Input\n",
      "3\n",
      "5 9\n",
      "****#****\n",
      "*..#.#..*\n",
      "****.****\n",
      "*$#.#.#$*\n",
      "*********\n",
      "5 11\n",
      "*#*********\n",
      "*$*...*...*\n",
      "*$*.*.*.*.*\n",
      "*...*...*.*\n",
      "*********.*\n",
      "9 9\n",
      "*#**#**#*\n",
      "*#**#**#*\n",
      "*#**#**#*\n",
      "*#**.**#*\n",
      "*#*#.#*#*\n",
      "*$##*##$*\n",
      "*#*****#*\n",
      "*.#.#.#.*\n",
      "*********\n",
      "\n",
      "Output\n",
      "4\n",
      "0\n",
      "9\n"
     ]
    }
   ],
   "source": [
    "from queue import PriorityQueue\n",
    "\n",
    "def simulation(h, w, prison, prisoner): # 시뮬레이션\n",
    "    q = PriorityQueue() # 우선순위 큐\n",
    "    visited = [[[h*w for _ in range(w)] for _ in range(h)] for _ in range(2)] # 해당 위치에 도달하기 위한 최소 움직임 수\n",
    "    direction = [(0,1), (0,-1), (1,0), (-1,0)] # 이동방향\n",
    "    answer = h*w # 답\n",
    "    for i in range(2):\n",
    "        y, x = prisoner[i] # i번 죄수의 좌표\n",
    "        visited[i][y][x] = 0 # i번 죄수는 (y,x)의 위치에 0번째 이동에 도달함\n",
    "        q.put([0, 0, y, x, i, set()]) # [통과한 문 개수, 이동 횟수, 현재 y좌표, 현재 x좌표, 죄수번호, 통과한 문 좌표] 정보 큐에 push\n",
    "    opened = [[] for _ in range(2)] # 탈옥 시 각 죄수별로 지나야하는 문의 경우의 수\n",
    "    while not q.empty():\n",
    "        door_num, move_num, y, x, idx, doors = q.get() # [통과한 문 개수, 이동 횟수, 현재 y좌표, 현재 x좌표, 죄수번호, 통과한 문 좌표] 정보 큐에서 pop\n",
    "        if (y == 0 or y == h-1 or x == 0 or x == w-1): # 탈옥 성공했을 때\n",
    "            opened[idx].append(doors) # 각 죄수 별로 탈옥 성공 시 통과한 문을 저장해 놓는다.\n",
    "            continue\n",
    "        for add_y, add_x in direction: # 이동방향에 대해서\n",
    "            if 0 <= add_y+y < h and 0 <= add_x+x < w and visited[idx][add_y+y][add_x+x] > move_num+1 and prison[add_y+y][add_x+x] != '*':\n",
    "            # 벽과 이미 이동한 위치를 제외한 지도 내의 범위에서\n",
    "                visited[idx][add_y+y][add_x+x] = move_num+1 # 이동했음을 표시\n",
    "                if prison[add_y+y][add_x+x] == '#': # 만약 이동할 공간이 문이라면\n",
    "                    q.put([door_num+1, move_num+1, add_y+y, add_x+x, idx, doors.union(set([(add_y+y, add_x+x)]))])\n",
    "                    # [통과한 문 개수+1, 이동 횟수+1, 이동할 y좌표, 이동할 x좌표, 죄수번호, 통과한 문 좌표] 정보 큐에 push\n",
    "                else: # 이동할 공간이 비었다면\n",
    "                    q.put([door_num, move_num+1, add_y+y, add_x+x, idx, doors])\n",
    "                    # [통과한 문 개수, 이동 횟수+1, 이동할 y좌표, 이동할 x좌표, 죄수번호, 통과한 문 좌표] 정보 큐에 push\n",
    "    for a in opened[0]:\n",
    "        for b in opened[1]:\n",
    "            answer = min(answer, len(a.union(b)))\n",
    "    # 0번 죄수와 1번 죄수의 경우의 수를 모두 고려해서 열어야하는 최소 문의 개수를 구한다.\n",
    "    return answer # 최소 문의 개수 반환\n",
    "\n",
    "print(\"Input\")\n",
    "answer = [] # 답\n",
    "T = int(input()) # 테스트 케이스 개수\n",
    "for _ in range(T):\n",
    "    h, w = tuple(int(x) for x in input().split()) # 감옥 지도 높이, 너비\n",
    "    prison = [] # 감옥 지도\n",
    "    prisoner = [] # 죄수 위치\n",
    "    for y in range(h):\n",
    "        row = list(input())\n",
    "        for x in range(w):\n",
    "            if row[x] == '$': # 죄수\n",
    "                row[x] = '.'\n",
    "                prisoner.append((y, x)) # 죄수 위치 저장\n",
    "        prison.append(row)\n",
    "    answer.append(simulation(h, w, prison, prisoner)) # 시뮬레이션 후 답 저장\n",
    "print(\"\\nOutput\")\n",
    "for a in answer:\n",
    "    print(a) # 답 출력"
   ]
  }
 ],
 "metadata": {
  "kernelspec": {
   "display_name": "Python 3",
   "language": "python",
   "name": "python3"
  },
  "language_info": {
   "codemirror_mode": {
    "name": "ipython",
    "version": 3
   },
   "file_extension": ".py",
   "mimetype": "text/x-python",
   "name": "python",
   "nbconvert_exporter": "python",
   "pygments_lexer": "ipython3",
   "version": "3.6.9"
  }
 },
 "nbformat": 4,
 "nbformat_minor": 2
}
