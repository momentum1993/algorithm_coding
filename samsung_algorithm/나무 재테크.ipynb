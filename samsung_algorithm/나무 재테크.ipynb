{
 "cells": [
  {
   "cell_type": "markdown",
   "metadata": {},
   "source": [
    "# 나무 재테크"
   ]
  },
  {
   "cell_type": "markdown",
   "metadata": {},
   "source": [
    "[baekjoon의 '나무 재테크' 링크](https://www.acmicpc.net/problem/16235)"
   ]
  },
  {
   "cell_type": "markdown",
   "metadata": {},
   "source": [
    "### 문제  \n",
    "부동산 투자로 억대의 돈을 번 상도는 최근 N×N 크기의 땅을 구매했다. 상도는 손쉬운 땅 관리를 위해 땅을 1×1 크기의 칸으로 나누어 놓았다. 각각의 칸은 (r, c)로 나타내며, r은 가장 위에서부터 떨어진 칸의 개수, c는 가장 왼쪽으로부터 떨어진 칸의 개수이다. r과 c는 1부터 시작한다.  \n",
    "  \n",
    "상도는 전자통신공학과 출신답게 땅의 양분을 조사하는 로봇 S2D2를 만들었다. S2D2는 1×1 크기의 칸에 들어있는 양분을 조사해 상도에게 전송하고, 모든 칸에 대해서 조사를 한다. 가장 처음에 양분은 모든 칸에 5만큼 들어있다.  \n",
    "  \n",
    "매일 매일 넓은 땅을 보면서 뿌듯한 하루를 보내고 있던 어느 날 이런 생각이 들었다.  \n",
    "  \n",
    "> 나무 재테크를 하자!  \n",
    "  \n",
    "나무 재테크란 작은 묘목을 구매해 어느정도 키운 후 팔아서 수익을 얻는 재테크이다. 상도는 나무 재테크로 더 큰 돈을 벌기 위해 M개의 나무를 구매해 땅에 심었다. 같은 1×1 크기의 칸에 여러 개의 나무가 심어져 있을 수도 있다.  \n",
    "  \n",
    "이 나무는 사계절을 보내며, 아래와 같은 과정을 반복한다.  \n",
    "  \n",
    "봄에는 나무가 자신의 나이만큼 양분을 먹고, 나이가 1 증가한다. 각각의 나무는 나무가 있는 1×1 크기의 칸에 있는 양분만 먹을 수 있다. 하나의 칸에 여러 개의 나무가 있다면, 나이가 어린 나무부터 양분을 먹는다. 만약, 땅에 양분이 부족해 자신의 나이만큼 양분을 먹을 수 없는 나무는 양분을 먹지 못하고 즉시 죽는다.  \n",
    "  \n",
    "여름에는 봄에 죽은 나무가 양분으로 변하게 된다. 각각의 죽은 나무마다 나이를 2로 나눈 값이 나무가 있던 칸에 양분으로 추가된다. 소수점 아래는 버린다.  \n",
    "  \n",
    "가을에는 나무가 번식한다. 번식하는 나무는 나이가 5의 배수이어야 하며, 인접한 8개의 칸에 나이가 1인 나무가 생긴다. 어떤 칸 (r, c)와 인접한 칸은 (r-1, c-1), (r-1, c), (r-1, c+1), (r, c-1), (r, c+1), (r+1, c-1), (r+1, c), (r+1, c+1) 이다. 상도의 땅을 벗어나는 칸에는 나무가 생기지 않는다.  \n",
    "  \n",
    "겨울에는 S2D2가 땅을 돌아다니면서 땅에 양분을 추가한다. 각 칸에 추가되는 양분의 양은 A[r][c]이고, 입력으로 주어진다.  \n",
    "  \n",
    "K년이 지난 후 상도의 땅에 살아있는 나무의 개수를 구하는 프로그램을 작성하시오.  \n",
    "   \n",
    "### 입력   \n",
    "첫째 줄에 N, M, K가 주어진다.  \n",
    "  \n",
    "둘째 줄부터 N개의 줄에 A배열의 값이 주어진다. r번째 줄의 c번째 값은 A[r][c]이다.  \n",
    "  \n",
    "다음 M개의 줄에는 상도가 심은 나무의 정보를 나타내는 세 정수 x, y, z가 주어진다. 처음 두 개의 정수는 나무의 위치 (x, y)를 의미하고, 마지막 정수는 그 나무의 나이를 의미한다.  \n",
    "  \n",
    "### 출력   \n",
    "첫째 줄에 K년이 지난 후 살아남은 나무의 수를 출력한다.  \n",
    "  "
   ]
  },
  {
   "cell_type": "code",
   "execution_count": 1,
   "metadata": {},
   "outputs": [],
   "source": [
    "class ground_info: # 땅에 대한 정보 객체\n",
    "    food = 5 # 땅이 지닌 양분\n",
    "    trees = [] # 땅에 자라고 있는 나무\n",
    "    dead_trees = [] # 양분이 부족해 죽은 나무들\n",
    "    \n",
    "    def __init__(self):\n",
    "        self.food = 5 # 처음에 양분을 5로 초기화\n",
    "        self.trees = []\n",
    "        \n",
    "    def get_num_trees(self): # 땅에 위치한 나무들의 수 반환\n",
    "        return len(self.trees)\n",
    "    \n",
    "    def __repr__(self):\n",
    "        return \"<food:{}, trees:{}>\".format(self.food, self.trees)\n",
    "    \n",
    "    def plant_tree(self, tree): # tree만큼의 나이를 지닌 나무를 땅에 심는다.\n",
    "        self.trees.append(tree)\n",
    "        self.trees.sort()\n",
    "    \n",
    "    def fertilize(self, add_food): # add_food만큼의 양분을 땅에 준다.\n",
    "        self.food += add_food\n",
    "    \n",
    "    def feed_trees(self): # 봄에 땅에 양분을 주고, 부족할 경우 죽은 나무 정리\n",
    "        for i in range(len(self.trees)): # 모든 나무에 대해\n",
    "            if self.food >= self.trees[i]:\n",
    "                self.food -= self.trees[i] # 양분을 주고\n",
    "                self.trees[i] += 1 # 나이 추가\n",
    "            else: # 양분이 부족할 경우\n",
    "                self.dead_trees = self.trees[i:]\n",
    "                self.trees = self.trees[:i]\n",
    "                # 죽은 나무들을 분류해준다.\n",
    "                break\n",
    "                \n",
    "    \n",
    "    def tree_to_fertilizer(self): # 죽은 나무가 양분이 되는 과정\n",
    "        for i in self.dead_trees: # 모든 죽은 나무에 대해서\n",
    "            self.fertilize(i // 2) # 2로 나눈 몫만큼 땅의 양분을 추가한다.\n",
    "        self.dead_trees = [] # 그리고 죽은 나무 리스트 초기화\n",
    "\n",
    "\n",
    "def simulate_tree(N, M, K, A, tree_info, ground):\n",
    "    if K == 0: # K 연도 만큼 시뮬레이션을 돌렸다면\n",
    "        answer = 0\n",
    "        for y in range(N):\n",
    "            for x in range(N):\n",
    "                answer += ground[y][x].get_num_trees()\n",
    "        return answer # 총 나무의 개수를 반환\n",
    "                \n",
    "    directions = [(-1, -1), (-1, 0), (-1, 1), (0, -1), (0, 1), (1, -1), (1, 0), (1, 1)]\n",
    "    # 나무를 번식시켜 심을 방향\n",
    "    place_to_plant = [] # 나무 심을 위치를 저장해둘 곳\n",
    "    for y in range(N):\n",
    "        for x in range(N): # 상도 땅의 모든 위치에 대해서\n",
    "            ground[y][x].feed_trees() # 봄 -> 나무가 양분을 먹는다.\n",
    "            ground[y][x].tree_to_fertilizer() # 여름 -> 죽은 나무가 양분으로 변한다.\n",
    "            \n",
    "            # 가을 -> 5의 배수 나이를 지닌 나무들이 번식한다.\n",
    "            for i in ground[y][x].trees: # 해당 위치의 모든 나무에 대해서\n",
    "                if i % 5 != 0: # 나이가 5의 배수가 아니라면 넘어감\n",
    "                    continue\n",
    "                for d_y, d_x in directions:\n",
    "                    if 0 <= y+d_y < N and 0 <= x+d_x < N:\n",
    "                        place_to_plant.append((y+d_y,x+d_x))\n",
    "                        # 나무를 심어야할 위치 저장\n",
    "            ground[y][x].fertilize(A[y][x]) # 겨울 -> S2D2가 땅에 양분을 준다.\n",
    "    for p_y, p_x in place_to_plant:\n",
    "        ground[p_y][p_x].plant_tree(1) # 위에서 저장한 위치에 나이가 1인 나무를 심어준다.\n",
    "    return simulate_tree(N, M, K-1, A, tree_info, ground)\n",
    "    \n",
    "def solution(N,M,K,A,tree_info):\n",
    "    A = [[int(x) for x in x.split()] for x in A.split(\"\\n\")] # 각 위치별 받을 양분\n",
    "    tree_info = [tuple(int(x) for x in x.split()) for x in tree_info.split(\"\\n\")]\n",
    "    # 상도가 심은 나무의 정보\n",
    "    ground = [[ground_info() for _ in range(N)] for _ in range(N)]\n",
    "    # 상도가 지닌 땅의 정보\n",
    "    for x, y, z in tree_info:\n",
    "        ground[x-1][y-1].plant_tree(z)\n",
    "        # 땅의 정보에 상도가 심은 나무의 정보를 입력한다.\n",
    "    return simulate_tree(N, M, K, A, tree_info, ground)"
   ]
  },
  {
   "cell_type": "code",
   "execution_count": 2,
   "metadata": {},
   "outputs": [],
   "source": [
    "N, M, K = 1, 1, 1\n",
    "A = '''1'''\n",
    "tree_info = '''1 1 1'''"
   ]
  },
  {
   "cell_type": "code",
   "execution_count": 3,
   "metadata": {},
   "outputs": [
    {
     "data": {
      "text/plain": [
       "1"
      ]
     },
     "execution_count": 3,
     "metadata": {},
     "output_type": "execute_result"
    }
   ],
   "source": [
    "solution(N,M,K,A,tree_info)"
   ]
  },
  {
   "cell_type": "code",
   "execution_count": 4,
   "metadata": {},
   "outputs": [],
   "source": [
    "N, M, K = 1, 1, 4\n",
    "A = '''1'''\n",
    "tree_info = '''1 1 1'''"
   ]
  },
  {
   "cell_type": "code",
   "execution_count": 5,
   "metadata": {},
   "outputs": [
    {
     "data": {
      "text/plain": [
       "0"
      ]
     },
     "execution_count": 5,
     "metadata": {},
     "output_type": "execute_result"
    }
   ],
   "source": [
    "solution(N,M,K,A,tree_info)"
   ]
  },
  {
   "cell_type": "code",
   "execution_count": 6,
   "metadata": {},
   "outputs": [],
   "source": [
    "N, M, K = 5, 2, 1\n",
    "A = '''2 3 2 3 2\n",
    "2 3 2 3 2\n",
    "2 3 2 3 2\n",
    "2 3 2 3 2\n",
    "2 3 2 3 2'''\n",
    "tree_info = '''2 1 3\n",
    "3 2 3'''"
   ]
  },
  {
   "cell_type": "code",
   "execution_count": 7,
   "metadata": {},
   "outputs": [
    {
     "data": {
      "text/plain": [
       "2"
      ]
     },
     "execution_count": 7,
     "metadata": {},
     "output_type": "execute_result"
    }
   ],
   "source": [
    "solution(N,M,K,A,tree_info)"
   ]
  },
  {
   "cell_type": "code",
   "execution_count": 8,
   "metadata": {},
   "outputs": [],
   "source": [
    "N, M, K = 5, 2, 2\n",
    "A = '''2 3 2 3 2\n",
    "2 3 2 3 2\n",
    "2 3 2 3 2\n",
    "2 3 2 3 2\n",
    "2 3 2 3 2'''\n",
    "tree_info = '''2 1 3\n",
    "3 2 3'''"
   ]
  },
  {
   "cell_type": "code",
   "execution_count": 9,
   "metadata": {},
   "outputs": [
    {
     "data": {
      "text/plain": [
       "15"
      ]
     },
     "execution_count": 9,
     "metadata": {},
     "output_type": "execute_result"
    }
   ],
   "source": [
    "solution(N,M,K,A,tree_info)"
   ]
  },
  {
   "cell_type": "code",
   "execution_count": 10,
   "metadata": {},
   "outputs": [],
   "source": [
    "N, M, K = 5, 2, 3\n",
    "A = '''2 3 2 3 2\n",
    "2 3 2 3 2\n",
    "2 3 2 3 2\n",
    "2 3 2 3 2\n",
    "2 3 2 3 2'''\n",
    "tree_info = '''2 1 3\n",
    "3 2 3'''"
   ]
  },
  {
   "cell_type": "code",
   "execution_count": 11,
   "metadata": {},
   "outputs": [
    {
     "data": {
      "text/plain": [
       "13"
      ]
     },
     "execution_count": 11,
     "metadata": {},
     "output_type": "execute_result"
    }
   ],
   "source": [
    "solution(N,M,K,A,tree_info)"
   ]
  },
  {
   "cell_type": "code",
   "execution_count": 12,
   "metadata": {},
   "outputs": [],
   "source": [
    "N, M, K = 5, 2, 4\n",
    "A = '''2 3 2 3 2\n",
    "2 3 2 3 2\n",
    "2 3 2 3 2\n",
    "2 3 2 3 2\n",
    "2 3 2 3 2'''\n",
    "tree_info = '''2 1 3\n",
    "3 2 3'''"
   ]
  },
  {
   "cell_type": "code",
   "execution_count": 13,
   "metadata": {},
   "outputs": [
    {
     "data": {
      "text/plain": [
       "13"
      ]
     },
     "execution_count": 13,
     "metadata": {},
     "output_type": "execute_result"
    }
   ],
   "source": [
    "solution(N,M,K,A,tree_info)"
   ]
  },
  {
   "cell_type": "code",
   "execution_count": 14,
   "metadata": {},
   "outputs": [],
   "source": [
    "N, M, K = 5, 2, 5\n",
    "A = '''2 3 2 3 2\n",
    "2 3 2 3 2\n",
    "2 3 2 3 2\n",
    "2 3 2 3 2\n",
    "2 3 2 3 2'''\n",
    "tree_info = '''2 1 3\n",
    "3 2 3'''"
   ]
  },
  {
   "cell_type": "code",
   "execution_count": 15,
   "metadata": {},
   "outputs": [
    {
     "data": {
      "text/plain": [
       "13"
      ]
     },
     "execution_count": 15,
     "metadata": {},
     "output_type": "execute_result"
    }
   ],
   "source": [
    "solution(N,M,K,A,tree_info)"
   ]
  },
  {
   "cell_type": "code",
   "execution_count": 16,
   "metadata": {},
   "outputs": [],
   "source": [
    "N, M, K = 5, 2, 6\n",
    "A = '''2 3 2 3 2\n",
    "2 3 2 3 2\n",
    "2 3 2 3 2\n",
    "2 3 2 3 2\n",
    "2 3 2 3 2'''\n",
    "tree_info = '''2 1 3\n",
    "3 2 3'''"
   ]
  },
  {
   "cell_type": "code",
   "execution_count": 17,
   "metadata": {},
   "outputs": [
    {
     "data": {
      "text/plain": [
       "85"
      ]
     },
     "execution_count": 17,
     "metadata": {},
     "output_type": "execute_result"
    }
   ],
   "source": [
    "solution(N,M,K,A,tree_info)"
   ]
  }
 ],
 "metadata": {
  "kernelspec": {
   "display_name": "Python 3",
   "language": "python",
   "name": "python3"
  },
  "language_info": {
   "codemirror_mode": {
    "name": "ipython",
    "version": 3
   },
   "file_extension": ".py",
   "mimetype": "text/x-python",
   "name": "python",
   "nbconvert_exporter": "python",
   "pygments_lexer": "ipython3",
   "version": "3.6.9"
  }
 },
 "nbformat": 4,
 "nbformat_minor": 2
}
