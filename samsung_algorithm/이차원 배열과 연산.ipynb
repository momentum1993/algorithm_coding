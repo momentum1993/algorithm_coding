{
 "cells": [
  {
   "cell_type": "markdown",
   "metadata": {},
   "source": [
    "# 이차원 배열과 연산"
   ]
  },
  {
   "cell_type": "markdown",
   "metadata": {},
   "source": [
    "[baekjoon의 '이차원 배열과 연산' 링크](https://www.acmicpc.net/problem/17140)"
   ]
  },
  {
   "cell_type": "markdown",
   "metadata": {},
   "source": [
    "### 문제  \n",
    "크기가 3×3인 배열 A가 있다. 1초가 지날때마다 배열에 연산이 적용된다.  \n",
    "  \n",
    "- R 연산: 배열 A의 모든 행에 대해서 정렬을 수행한다. 행의 개수 ≥ 열의 개수인 경우에 적용된다.  \n",
    "- C 연산: 배열 A의 모든 열에 대해서 정렬을 수행한다. 행의 개수 < 열의 개수인 경우에 적용된다.  \n",
    "  \n",
    "한 행 또는 열에 있는 수를 정렬하려면, 각각의 수가 몇 번 나왔는지 알아야 한다. 그 다음, 수의 등장 횟수가 커지는 순으로, 그러한 것이 여러가지면 수가 커지는 순으로 정렬한다. 그 다음에는 배열 A에 정렬된 결과를 다시 넣어야 한다. 정렬된 결과를 배열에 넣을 때는, 수와 등장 횟수를 모두 넣으며, 순서는 수가 먼저이다.  \n",
    "  \n",
    "예를 들어, [3, 1, 1]에는 3이 1번, 1가 2번 등장한다. 따라서, 정렬된 결과는 [3, 1, 1, 2]가 된다. 다시 이 배열에는 3이 1번, 1이 2번, 2가 1번 등장한다. 다시 정렬하면 [2, 1, 3, 1, 1, 2]가 된다.  \n",
    "  \n",
    "정렬된 결과를 배열에 다시 넣으면 행 또는 열의 크기가 달라질 수 있다. R 연산이 적용된 경우에는 가장 큰 행을 기준으로 모든 행의 크기가 변하고, C 연산이 적용된 경우에는 가장 큰 열을 기준으로 모든 열의 크기가 변한다. 행 또는 열의 크기가 커진 곳에는 0이 채워진다. 수를 정렬할 때 0은 무시해야 한다. 예를 들어, [3, 2, 0, 0]을 정렬한 결과는 [3, 2]를 정렬한 결과와 같다.  \n",
    "  \n",
    "행 또는 열의 크기가 100을 넘어가는 경우에는 처음 100개를 제외한 나머지는 버린다.  \n",
    "  \n",
    "배열 A에 들어있는 수와 r, c, k가 주어졌을 때, A[r][c]에 들어있는 값이 k가 되기 위한 최소 시간을 구해보자.  \n",
    "  \n",
    "### 입력  \n",
    "첫째 줄에 r, c, k가 주어진다. (1 ≤ r, c, k ≤ 100)  \n",
    "  \n",
    "둘째 줄부터 3개의 줄에 배열 A에 들어있는 수가 주어진다. 배열 A에 들어있는 수는 100보다 작거나 같은 자연수이다.  \n",
    "  \n",
    "### 출력  \n",
    "A[r][c]에 들어있는 값이 k가 되기 위한 연산의 최소 시간을 출력한다. 이 값이 100을 넘어가는 경우에는 -1을 출력한다.    \n",
    "  "
   ]
  },
  {
   "cell_type": "code",
   "execution_count": 1,
   "metadata": {},
   "outputs": [],
   "source": [
    "from collections import Counter # 배열 내의 해당 숫자의 개수 찾기 위한 Counter\n",
    "\n",
    "def operate_r(board, num_row, num_col): # R 연산\n",
    "    max_row = 0\n",
    "    for y in range(min(num_row, 100)): # 현재 모든 행에 대해서\n",
    "        c = Counter(board[y][:num_col])\n",
    "        del(c[0])\n",
    "        # 0을 제외한 숫자들을 {숫자 : 나오는횟수}의 형태로 카운팅한다.\n",
    "        new_row = sorted(c.most_common(), key=lambda count: (count[1], count[0]))\n",
    "        # 수의 등장횟수 오름차순, 숫자 오름차순으로 정렬한다.\n",
    "        max_row = max(max_row, len(new_row)*2)\n",
    "        # 행 내의 최대 item 개수 -> 열의 개수\n",
    "        for x in range(min(50, len(new_row))):    \n",
    "            board[y][2*x] = new_row[x][0]\n",
    "            board[y][(2*x)+1] = new_row[x][1]\n",
    "            # 그리고 보드에 숫자, 등장횟수를 차례대로 기입한다.\n",
    "        for idx in range(2*(x+1), min(num_col, 100)):\n",
    "            board[y][idx] = 0\n",
    "            # 그리고 그 뒤로는 0으로 초기화한다.\n",
    "    return max_row\n",
    "\n",
    "            \n",
    "def operate_c(board, num_row, num_col): # C 연산\n",
    "    max_col = 0\n",
    "    for x in range(min(num_col, 100)): # 모든 열에 대해서\n",
    "        col = list(map(lambda r : board[r][x],list(range(num_row))))\n",
    "        c = Counter(col)\n",
    "        del(c[0])\n",
    "        # 0을 제외한 숫자들을 {숫자 : 나오는횟수}의 형태로 카운팅한다.\n",
    "        new_col = sorted(c.most_common(), key=lambda count: (count[1], count[0]))\n",
    "        # 수의 등장횟수 오름차순, 숫자 오름차순으로 정렬한다.\n",
    "        max_col = max(max_col, len(new_col)*2)\n",
    "        # 열 내의 최대 item 개수 -> 행의 개수\n",
    "        for y in range(min(50, len(new_col))):\n",
    "            board[2*y][x] = new_col[y][0]\n",
    "            board[(2*y)+1][x] = new_col[y][1]\n",
    "            # 그리고 보드에 숫자, 등장횟수를 차례대로 기입한다.\n",
    "        idx = 2*(y+1)\n",
    "        for idx in range(2*(y+1), min(num_row, 100)):\n",
    "            board[idx][x] = 0\n",
    "            # 그리고 그 뒤로는 0으로 초기화한다.\n",
    "    return max_col\n",
    "\n",
    "def operate_array(r, c, k, board, num_row=3, num_col=3, time = 0): # R,C연산을 행열 개수 판단 통해 진행\n",
    "    if board[r][c] == k: # 원하는 값을 만족하는 시간 반환\n",
    "        return time\n",
    "    elif time > 100: # 만약 100초가 넘어가면 -1 반환\n",
    "        return -1\n",
    "    \n",
    "    if num_row >= num_col: # 만약 행의 개수 >= 열의 개수\n",
    "        num_col = operate_r(board, num_row, num_col) #R 연산\n",
    "    else: # 행의 개수 < 열의 개수\n",
    "        num_row = operate_c(board, num_row, num_col) #C 연산\n",
    "    return operate_array(r, c, k, board, num_row, num_col, time+1)\n",
    "    # 재귀적으로 시간을 1늘려서 연산을 계속 진행\n",
    "\n",
    "def solution(r,c,k,init_A):\n",
    "    init_A = [[int(x) for x in x.split()] for x in init_A.split(\"\\n\")]\n",
    "    # 3X3크기의 초기 A값\n",
    "    board = [[0 for _ in range(100)] for _ in range(100)]\n",
    "    # 연산을 진행할 보드\n",
    "    for y in range(3):\n",
    "        for x in range(3):\n",
    "            board[y][x] = init_A[y][x]\n",
    "    # 보드 내에 A의 값을 넣는다.\n",
    "    return operate_array(r-1, c-1, k, board) # 연산 진행"
   ]
  },
  {
   "cell_type": "code",
   "execution_count": 2,
   "metadata": {},
   "outputs": [],
   "source": [
    "r, c, k = 1, 2, 2\n",
    "init_A = '''1 2 1\n",
    "2 1 3\n",
    "3 3 3'''"
   ]
  },
  {
   "cell_type": "code",
   "execution_count": 3,
   "metadata": {},
   "outputs": [
    {
     "data": {
      "text/plain": [
       "0"
      ]
     },
     "execution_count": 3,
     "metadata": {},
     "output_type": "execute_result"
    }
   ],
   "source": [
    "solution(r,c,k,init_A)"
   ]
  },
  {
   "cell_type": "code",
   "execution_count": 4,
   "metadata": {},
   "outputs": [],
   "source": [
    "r, c, k = 1, 2, 1\n",
    "init_A = '''1 2 1\n",
    "2 1 3\n",
    "3 3 3'''"
   ]
  },
  {
   "cell_type": "code",
   "execution_count": 5,
   "metadata": {},
   "outputs": [
    {
     "data": {
      "text/plain": [
       "1"
      ]
     },
     "execution_count": 5,
     "metadata": {},
     "output_type": "execute_result"
    }
   ],
   "source": [
    "solution(r,c,k,init_A)"
   ]
  },
  {
   "cell_type": "code",
   "execution_count": 6,
   "metadata": {},
   "outputs": [],
   "source": [
    "r, c, k = 1, 2, 3\n",
    "init_A = '''1 2 1\n",
    "2 1 3\n",
    "3 3 3'''"
   ]
  },
  {
   "cell_type": "code",
   "execution_count": 7,
   "metadata": {},
   "outputs": [
    {
     "data": {
      "text/plain": [
       "2"
      ]
     },
     "execution_count": 7,
     "metadata": {},
     "output_type": "execute_result"
    }
   ],
   "source": [
    "solution(r,c,k,init_A)"
   ]
  },
  {
   "cell_type": "code",
   "execution_count": 8,
   "metadata": {},
   "outputs": [],
   "source": [
    "r, c, k = 1, 2, 4\n",
    "init_A = '''1 2 1\n",
    "2 1 3\n",
    "3 3 3'''"
   ]
  },
  {
   "cell_type": "code",
   "execution_count": 9,
   "metadata": {
    "scrolled": true
   },
   "outputs": [
    {
     "data": {
      "text/plain": [
       "52"
      ]
     },
     "execution_count": 9,
     "metadata": {},
     "output_type": "execute_result"
    }
   ],
   "source": [
    "solution(r,c,k,init_A)"
   ]
  },
  {
   "cell_type": "code",
   "execution_count": 10,
   "metadata": {},
   "outputs": [],
   "source": [
    "r, c, k = 1, 2, 5\n",
    "init_A = '''1 2 1\n",
    "2 1 3\n",
    "3 3 3'''"
   ]
  },
  {
   "cell_type": "code",
   "execution_count": 11,
   "metadata": {},
   "outputs": [
    {
     "data": {
      "text/plain": [
       "-1"
      ]
     },
     "execution_count": 11,
     "metadata": {},
     "output_type": "execute_result"
    }
   ],
   "source": [
    "solution(r,c,k,init_A)"
   ]
  },
  {
   "cell_type": "code",
   "execution_count": 12,
   "metadata": {},
   "outputs": [],
   "source": [
    "r, c, k = 3, 3, 3\n",
    "init_A = '''1 1 1\n",
    "1 1 1\n",
    "1 1 1'''"
   ]
  },
  {
   "cell_type": "code",
   "execution_count": 13,
   "metadata": {},
   "outputs": [
    {
     "data": {
      "text/plain": [
       "2"
      ]
     },
     "execution_count": 13,
     "metadata": {},
     "output_type": "execute_result"
    }
   ],
   "source": [
    "solution(r,c,k,init_A)"
   ]
  }
 ],
 "metadata": {
  "kernelspec": {
   "display_name": "Python 3",
   "language": "python",
   "name": "python3"
  },
  "language_info": {
   "codemirror_mode": {
    "name": "ipython",
    "version": 3
   },
   "file_extension": ".py",
   "mimetype": "text/x-python",
   "name": "python",
   "nbconvert_exporter": "python",
   "pygments_lexer": "ipython3",
   "version": "3.6.9"
  }
 },
 "nbformat": 4,
 "nbformat_minor": 2
}
