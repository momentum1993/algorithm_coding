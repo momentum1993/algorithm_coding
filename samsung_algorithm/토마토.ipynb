{
 "cells": [
  {
   "cell_type": "markdown",
   "metadata": {},
   "source": [
    "# 토마토"
   ]
  },
  {
   "cell_type": "markdown",
   "metadata": {},
   "source": [
    "[baekjoon의 '토마토' 링크](https://www.acmicpc.net/problem/7569)"
   ]
  },
  {
   "cell_type": "markdown",
   "metadata": {},
   "source": [
    "### 문제   \n",
    "철수의 토마토 농장에서는 토마토를 보관하는 큰 창고를 가지고 있다. 토마토는 아래의 그림과 같이 격자모양 상자의 칸에 하나씩 넣은 다음, 상자들을 수직으로 쌓아 올려서 창고에 보관한다.  \n",
    "  \n",
    "![](https://www.acmicpc.net/upload/images/tomato.png)  \n",
    "  \n",
    "창고에 보관되는 토마토들 중에는 잘 익은 것도 있지만, 아직 익지 않은 토마토들도 있을 수 있다. 보관 후 하루가 지나면, 익은 토마토들의 인접한 곳에 있는 익지 않은 토마토들은 익은 토마토의 영향을 받아 익게 된다. 하나의 토마토에 인접한 곳은 위, 아래, 왼쪽, 오른쪽, 앞, 뒤 여섯 방향에 있는 토마토를 의미한다. 대각선 방향에 있는 토마토들에게는 영향을 주지 못하며, 토마토가 혼자 저절로 익는 경우는 없다고 가정한다. 철수는 창고에 보관된 토마토들이 며칠이 지나면 다 익게 되는지 그 최소 일수를 알고 싶어 한다.  \n",
    "  \n",
    "토마토를 창고에 보관하는 격자모양의 상자들의 크기와 익은 토마토들과 익지 않은 토마토들의 정보가 주어졌을 때, 며칠이 지나면 토마토들이 모두 익는지, 그 최소 일수를 구하는 프로그램을 작성하라. 단, 상자의 일부 칸에는 토마토가 들어있지 않을 수도 있다.  \n",
    "  \n",
    "### 입력  \n",
    "첫 줄에는 상자의 크기를 나타내는 두 정수 M,N과 쌓아올려지는 상자의 수를 나타내는 H가 주어진다. M은 상자의 가로 칸의 수, N은 상자의 세로 칸의 수를 나타낸다. 단, 2 ≤ M ≤ 100, 2 ≤ N ≤ 100, 1 ≤ H ≤ 100 이다. 둘째 줄부터는 가장 밑의 상자부터 가장 위의 상자까지에 저장된 토마토들의 정보가 주어진다. 즉, 둘째 줄부터 N개의 줄에는 하나의 상자에 담긴 토마토의 정보가 주어진다. 각 줄에는 상자 가로줄에 들어있는 토마토들의 상태가 M개의 정수로 주어진다. 정수 1은 익은 토마토, 정수 0 은 익지 않은 토마토, 정수 -1은 토마토가 들어있지 않은 칸을 나타낸다. 이러한 N개의 줄이 H번 반복하여 주어진다.  \n",
    "  \n",
    "### 출력  \n",
    "여러분은 토마토가 모두 익을 때까지 최소 며칠이 걸리는지를 계산해서 출력해야 한다. 만약, 저장될 때부터 모든 토마토가 익어있는 상태이면 0을 출력해야 하고, 토마토가 모두 익지는 못하는 상황이면 -1을 출력해야 한다.  \n",
    "\n",
    "  "
   ]
  },
  {
   "cell_type": "code",
   "execution_count": 1,
   "metadata": {
    "scrolled": true
   },
   "outputs": [
    {
     "name": "stdout",
     "output_type": "stream",
     "text": [
      "Testcase num: 3\n",
      "\n",
      "Input\n",
      "5 3 1\n",
      "0 -1 0 0 0\n",
      "-1 -1 0 1 1\n",
      "0 0 0 1 1\n",
      "\n",
      "Output\n",
      "-1\n",
      "\n",
      "\n",
      "Input\n",
      "5 3 2\n",
      "0 0 0 0 0\n",
      "0 0 0 0 0\n",
      "0 0 0 0 0\n",
      "0 0 0 0 0\n",
      "0 0 1 0 0\n",
      "0 0 0 0 0\n",
      "\n",
      "Output\n",
      "4\n",
      "\n",
      "\n",
      "Input\n",
      "4 3 2\n",
      "1 1 1 1\n",
      "1 1 1 1\n",
      "1 1 1 1\n",
      "1 1 1 1\n",
      "-1 -1 -1 -1\n",
      "1 1 1 -1\n",
      "\n",
      "Output\n",
      "0\n",
      "\n"
     ]
    }
   ],
   "source": [
    "def simulation(N, M, H, checked, riped, total): # 시뮬레이션\n",
    "    direction = [(0,0,1), (0,0,-1), (0,1,0), (0,-1,0), (1,0,0), (-1,0,0)] # 맞닿아 있는 방향\n",
    "    time = 0 # 모두 익을 때까지 걸린 시간\n",
    "    while True:\n",
    "        add_tomato = set() # 시간이 1초 흐르면서 새로 익은 토마토의 위치\n",
    "        for h, y, x in riped: # 익은 토마토의 위치에 대해서\n",
    "            for add_h, add_y, add_x in direction: # 토마토와 맞닿은 모든 방향에 대해\n",
    "                if 0 <= add_h+h < H and 0 <= add_y+y < N and 0 <= add_x+x < M and not checked[add_h+h][add_y+y][add_x+x]:\n",
    "                # 상자 내의 아직 탐색하지 않은 토마토에 대해서\n",
    "                    checked[add_h+h][add_y+y][add_x+x] = True # 탐색했음을 체크\n",
    "                    add_tomato.add((add_h+h, add_y+y, add_x+x)) # 익은 토마토의 위치 추가\n",
    "                    total -= 1 # 익지 않은 토마토 총 개수 1 감소\n",
    "        if len(add_tomato) == 0: # 만약 더 익을 토마토가 없을 경우\n",
    "            break # 탐색을 그만한다.\n",
    "        riped = riped.union(add_tomato) # 새로 익은 토마토들을 리스트에 추가한다.\n",
    "        time += 1 # 시간 1 증가\n",
    "    if total > 0: # 모든 시뮬레이션이 끝난 후 아직 덜 익은 토마토가 있다면\n",
    "        return -1 # -1 반환\n",
    "    return time # 모든 토마토가 익었다면 시간 반환\n",
    "\n",
    "T = int(input(\"Testcase num: \")) # 테스트케이스 개수\n",
    "for _ in range(T):\n",
    "    print(\"\\nInput\")\n",
    "    M, N, H = tuple(int(x) for x in input().split()) # 가로, 세로, 높이\n",
    "    total = N * M * H # 익지 않은 토마토 총 개수\n",
    "    riped = set() # 익은 토마토의 위치\n",
    "    checked = [[[False for _ in range(M)] for _ in range(N)] for _ in range(H)] # 토마토 확인 여부\n",
    "    for h in range(H): # 높이\n",
    "        for y in range(N): # 세로\n",
    "            row = [int(x) for x in input().split()]\n",
    "            for x in range(M): # 가로\n",
    "                if row[x] == 1: # 익은 토마토의 경우\n",
    "                    riped.add((h, y, x)) # 익은 토마토의 좌표 저장\n",
    "                    checked[h][y][x] = True # 해당 좌표를 확인했음을 체크\n",
    "                    total -= 1 # 익지 않은 토마토 총 개수 1 감소\n",
    "                elif row[x] == -1: # 토마토가 없는 공간에는\n",
    "                    checked[h][y][x] = True # 해당 좌표를 확인했음을 체크\n",
    "                    total -= 1 # 익지 않은 토마토 총 개수 1 감소\n",
    "    print(\"\\nOutput\")\n",
    "    print(simulation(N, M, H, checked, riped, total)) # 시뮬레이션 후 답 출력\n",
    "    print()"
   ]
  }
 ],
 "metadata": {
  "kernelspec": {
   "display_name": "Python 3",
   "language": "python",
   "name": "python3"
  },
  "language_info": {
   "codemirror_mode": {
    "name": "ipython",
    "version": 3
   },
   "file_extension": ".py",
   "mimetype": "text/x-python",
   "name": "python",
   "nbconvert_exporter": "python",
   "pygments_lexer": "ipython3",
   "version": "3.6.9"
  }
 },
 "nbformat": 4,
 "nbformat_minor": 2
}
