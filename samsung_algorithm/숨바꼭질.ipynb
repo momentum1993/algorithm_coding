{
 "cells": [
  {
   "cell_type": "markdown",
   "metadata": {},
   "source": [
    "# 숨바꼭질"
   ]
  },
  {
   "cell_type": "markdown",
   "metadata": {},
   "source": [
    "[baekjoon의 '숨바꼭질' 링크](https://www.acmicpc.net/problem/1697)"
   ]
  },
  {
   "cell_type": "markdown",
   "metadata": {},
   "source": [
    "### 문제   \n",
    "수빈이는 동생과 숨바꼭질을 하고 있다. 수빈이는 현재 점 N(0 ≤ N ≤ 100,000)에 있고, 동생은 점 K(0 ≤ K ≤ 100,000)에 있다. 수빈이는 걷거나 순간이동을 할 수 있다. 만약, 수빈이의 위치가 X일 때 걷는다면 1초 후에 X-1 또는 X+1로 이동하게 된다. 순간이동을 하는 경우에는 1초 후에 2\\*X의 위치로 이동하게 된다.  \n",
    "  \n",
    "수빈이와 동생의 위치가 주어졌을 때, 수빈이가 동생을 찾을 수 있는 가장 빠른 시간이 몇 초 후인지 구하는 프로그램을 작성하시오.  \n",
    "  \n",
    "### 입력  \n",
    "첫 번째 줄에 수빈이가 있는 위치 N과 동생이 있는 위치 K가 주어진다. N과 K는 정수이다.  \n",
    "  \n",
    "### 출력  \n",
    "수빈이가 동생을 찾는 가장 빠른 시간을 출력한다.  "
   ]
  },
  {
   "cell_type": "code",
   "execution_count": 1,
   "metadata": {},
   "outputs": [
    {
     "name": "stdout",
     "output_type": "stream",
     "text": [
      "5 17\n",
      "4\n"
     ]
    }
   ],
   "source": [
    "from queue import PriorityQueue\n",
    "\n",
    "def find_sister(N, K): # 동생 찾기 시뮬레이션\n",
    "    q = PriorityQueue() # 우선순위 큐\n",
    "    checked = [100000 for _ in range(100001)] # 해당 위치에 도달했을 때의 최소 초\n",
    "    checked[N] = 0 # 0초에 위치 N에 도달해있음\n",
    "    q.put((0, N))\n",
    "    while not q.empty():\n",
    "        count, curr_N = q.get() # 초, 현재 위치\n",
    "        if curr_N == K: # 만약 동생을 잡았다면 초 반환\n",
    "            return count\n",
    "        if curr_N+1 <= 100000 and checked[curr_N+1] > count+1: # 현재위치 N+1\n",
    "            checked[curr_N+1] = count+1\n",
    "            q.put((count+1, curr_N+1))\n",
    "        if curr_N-1 >= 0 and checked[curr_N-1] > count+1: # 현재위치 N-1\n",
    "            checked[curr_N-1] = count+1\n",
    "            q.put((count+1, curr_N-1))\n",
    "        if 2*N <= 100000 and checked[2*curr_N] > count+1: # 현재위치 2*N\n",
    "            checked[2*curr_N] = count+1\n",
    "            q.put((count+1, 2*curr_N))\n",
    "    return -1\n",
    "\n",
    "N, K = tuple(int(x) for x in input().split()) # 수빈이의 위치, 동생의 위치\n",
    "print(find_sister(N, K)) # 답 출력"
   ]
  }
 ],
 "metadata": {
  "kernelspec": {
   "display_name": "Python 3",
   "language": "python",
   "name": "python3"
  },
  "language_info": {
   "codemirror_mode": {
    "name": "ipython",
    "version": 3
   },
   "file_extension": ".py",
   "mimetype": "text/x-python",
   "name": "python",
   "nbconvert_exporter": "python",
   "pygments_lexer": "ipython3",
   "version": "3.6.9"
  }
 },
 "nbformat": 4,
 "nbformat_minor": 2
}
