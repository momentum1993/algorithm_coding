{
 "cells": [
  {
   "cell_type": "markdown",
   "metadata": {},
   "source": [
    "# 퇴사2"
   ]
  },
  {
   "cell_type": "markdown",
   "metadata": {},
   "source": [
    "[baekjoon의 '퇴사 2' 링크](https://www.acmicpc.net/problem/15486)"
   ]
  },
  {
   "cell_type": "markdown",
   "metadata": {},
   "source": [
    "### 문제  \n",
    "상담원으로 일하고 있는 백준이는 퇴사를 하려고 한다.  \n",
    "  \n",
    "오늘부터 N+1일째 되는 날 퇴사를 하기 위해서, 남은 N일 동안 최대한 많은 상담을 하려고 한다.  \n",
    "  \n",
    "백준이는 비서에게 최대한 많은 상담을 잡으라고 부탁을 했고, 비서는 하루에 하나씩 서로 다른 사람의 상담을 잡아놓았다.  \n",
    "  \n",
    "각각의 상담은 상담을 완료하는데 걸리는 기간 Ti와 상담을 했을 때 받을 수 있는 금액 Pi로 이루어져 있다.  \n",
    "  \n",
    "N = 7인 경우에 다음과 같은 상담 일정표를 보자.  \n",
    "  \n",
    "|| \t1일|\t2일|\t3일|\t4일|\t5일|\t6일|\t7일|\n",
    "|:---:|:---:|:---:|:---:|:---:|:---:|:---:|:---:|\n",
    "|$T_i$|\t3|\t5|\t1|\t1|\t2|\t4|\t2|\n",
    "|$P_i$|\t10|\t20|\t10|\t20|\t15|\t40|\t200|  \n",
    "  \n",
    "1일에 잡혀있는 상담은 총 3일이 걸리며, 상담했을 때 받을 수 있는 금액은 10이다. 5일에 잡혀있는 상담은 총 2일이 걸리며, 받을 수 있는 금액은 15이다.  \n",
    "  \n",
    "상담을 하는데 필요한 기간은 1일보다 클 수 있기 때문에, 모든 상담을 할 수는 없다. 예를 들어서 1일에 상담을 하게 되면, 2일, 3일에 있는 상담은 할 수 없게 된다. 2일에 있는 상담을 하게 되면, 3, 4, 5, 6일에 잡혀있는 상담은 할 수 없다.  \n",
    "  \n",
    "또한, N+1일째에는 회사에 없기 때문에, 6, 7일에 있는 상담을 할 수 없다.  \n",
    "  \n",
    "퇴사 전에 할 수 있는 상담의 최대 이익은 1일, 4일, 5일에 있는 상담을 하는 것이며, 이때의 이익은 10+20+15=45이다.  \n",
    "  \n",
    "상담을 적절히 했을 때, 백준이가 얻을 수 있는 최대 수익을 구하는 프로그램을 작성하시오.  \n",
    "  \n",
    "### 입력  \n",
    "첫째 줄에 N (1 ≤ N ≤ 1,500,000)이 주어진다.  \n",
    "  \n",
    "둘째 줄부터 N개의 줄에 $T_i$와 $P_i$가 공백으로 구분되어서 주어지며, 1일부터 N일까지 순서대로 주어진다. (1 ≤ $T_i$ ≤ 50, 1 ≤ $P_i$ ≤ 1,000)  \n",
    "  \n",
    "### 출력  \n",
    "첫째 줄에 백준이가 얻을 수 있는 최대 이익을 출력한다.  \n",
    "   "
   ]
  },
  {
   "cell_type": "code",
   "execution_count": 1,
   "metadata": {
    "scrolled": true
   },
   "outputs": [
    {
     "name": "stdout",
     "output_type": "stream",
     "text": [
      "Testcase Num: 4\n",
      "\n",
      "Input\n",
      "7\n",
      "3 10\n",
      "5 20\n",
      "1 10\n",
      "1 20\n",
      "2 15\n",
      "4 40\n",
      "2 200\n",
      "\n",
      "Output\n",
      "45\n",
      "\n",
      "Input\n",
      "10\n",
      "1 1\n",
      "1 2\n",
      "1 3\n",
      "1 4\n",
      "1 5\n",
      "1 6\n",
      "1 7\n",
      "1 8\n",
      "1 9\n",
      "1 10\n",
      "\n",
      "Output\n",
      "55\n",
      "\n",
      "Input\n",
      "10\n",
      "5 10\n",
      "5 9\n",
      "5 8\n",
      "5 7\n",
      "5 6\n",
      "5 10\n",
      "5 9\n",
      "5 8\n",
      "5 7\n",
      "5 6\n",
      "\n",
      "Output\n",
      "20\n",
      "\n",
      "Input\n",
      "10\n",
      "5 50\n",
      "4 40\n",
      "3 30\n",
      "2 20\n",
      "1 10\n",
      "1 10\n",
      "2 20\n",
      "3 30\n",
      "4 40\n",
      "5 50\n",
      "\n",
      "Output\n",
      "90\n",
      "\n"
     ]
    }
   ],
   "source": [
    "def simulation(N, T, P, idx=0): # 시뮬레이션\n",
    "    if idx == N: # N일까지 도달했다면 (base case)\n",
    "        return 0 # 0 반환\n",
    "    \n",
    "    answer = 0 # 답\n",
    "    for i in range(idx, N): # 현재 날짜부터 N번째 날까지\n",
    "        if i+T[i] <= N: # 현재 날짜에 상담을 받아서 N번째 날을 초과하지 않는다면\n",
    "            answer = max(answer, P[i] + simulation(N, T, P, i+T[i]))\n",
    "            # 상담 받을 때의 최대값을 구한다.\n",
    "    return answer # 답 반환\n",
    "\n",
    "case_num = int(input(\"Testcase Num: \"))\n",
    "print()\n",
    "while case_num > 0:\n",
    "    print(\"Input\")\n",
    "    N = int(input()) # 퇴사 날짜\n",
    "    T = [] # 각 날짜별 상담시 걸리는 날짜\n",
    "    P = [] # 각 날짜별 상담시 받는 금액\n",
    "    for _ in range(N):\n",
    "        t, p = tuple(int(x) for x in input().split())\n",
    "        T.append(t)\n",
    "        P.append(p)\n",
    "\n",
    "    answer = simulation(N, T, P) # 최대 금액을 받기 위한 시뮬레이션 실행\n",
    "    print(\"\\nOutput\")\n",
    "    print(answer) # 답 출력\n",
    "    print()\n",
    "    case_num -= 1"
   ]
  }
 ],
 "metadata": {
  "kernelspec": {
   "display_name": "Python 3",
   "language": "python",
   "name": "python3"
  },
  "language_info": {
   "codemirror_mode": {
    "name": "ipython",
    "version": 3
   },
   "file_extension": ".py",
   "mimetype": "text/x-python",
   "name": "python",
   "nbconvert_exporter": "python",
   "pygments_lexer": "ipython3",
   "version": "3.6.9"
  }
 },
 "nbformat": 4,
 "nbformat_minor": 2
}
