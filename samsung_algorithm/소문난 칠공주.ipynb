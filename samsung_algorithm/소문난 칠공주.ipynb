{
 "cells": [
  {
   "cell_type": "markdown",
   "metadata": {},
   "source": [
    "# 소문난 칠공주"
   ]
  },
  {
   "cell_type": "markdown",
   "metadata": {},
   "source": [
    "[baekjoon의 '소문난 칠공주' 링크](https://www.acmicpc.net/problem/1941)"
   ]
  },
  {
   "cell_type": "markdown",
   "metadata": {},
   "source": [
    "### 문제   \n",
    "총 25명의 여학생들로 이루어진 여학생반은 5\\*5의 정사각형 격자 형태로 자리가 배치되었고, 얼마 지나지 않아 이다솜과 임도연이라는 두 학생이 두각을 나타내며 다른 학생들을 휘어잡기 시작했다. 곧 모든 여학생이 ‘이다솜파’와 ‘임도연파’의 두 파로 갈라지게 되었으며, 얼마 지나지 않아 ‘임도연파’가 세력을 확장시키며 ‘이다솜파’를 위협하기 시작했다.  \n",
    "  \n",
    "위기의식을 느낀 ‘이다솜파’의 학생들은 과감히 현재의 체제를 포기하고, ‘소문난 칠공주’를 결성하는 것이 유일한 생존 수단임을 깨달았다. ‘소문난 칠공주’는 다음과 같은 규칙을 만족해야 한다.  \n",
    "  \n",
    "1. 이름이 이름인 만큼, 7명의 여학생들로 구성되어야 한다.  \n",
    "2. 강한 결속력을 위해, 7명의 자리는 서로 가로나 세로로 반드시 인접해 있어야 한다.  \n",
    "3. 화합과 번영을 위해, 반드시 ‘이다솜파’의 학생들로만 구성될 필요는 없다.  \n",
    "4. 그러나 생존을 위해, ‘이다솜파’가 반드시 우위를 점해야 한다. 따라서 7명의 학생 중 ‘이다솜파’의 학생이 적어도 4명 이상은 반드시 포함되어 있어야 한다.  \n",
    "  \n",
    "여학생반의 자리 배치도가 주어졌을 때, ‘소문난 칠공주’를 결성할 수 있는 모든 경우의 수를 구하는 프로그램을 작성하시오.  \n",
    "  \n",
    "### 입력  \n",
    "'S'(이다‘솜’파의 학생을 나타냄) 또는 'Y'(임도‘연’파의 학생을 나타냄)을 값으로 갖는 5\\*5 행렬이 공백 없이 첫째 줄부터 다섯 줄에 걸쳐 주어진다.  \n",
    "  \n",
    "### 출력  \n",
    "첫째 줄에 ‘소문난 칠공주’를 결성할 수 있는 모든 경우의 수를 출력한다.  "
   ]
  },
  {
   "cell_type": "code",
   "execution_count": 1,
   "metadata": {
    "scrolled": true
   },
   "outputs": [
    {
     "name": "stdout",
     "output_type": "stream",
     "text": [
      "YYYYY\n",
      "SYSYS\n",
      "YYYYY\n",
      "YSYYS\n",
      "YYYYY\n",
      "2\n"
     ]
    }
   ],
   "source": [
    "from itertools import combinations\n",
    "\n",
    "def consist_group(board, group): # 칠공주 그룹 구성이 가능한지 여부 판별 함수\n",
    "    S_num = 0 # 그룹 내의 이다솜파의 수\n",
    "    group_check = set() # 이미 탐색한 학생들의 번호\n",
    "    std = {0} # 탐색 기준 학생들의 인덱스\n",
    "    while len(std) > 0:\n",
    "        post_std = set() # 다음으로 탐색 진행할 학생들의 그룹내의 인덱스\n",
    "        for n in std:\n",
    "            num = group[n] # 학생 번호\n",
    "            group_check.add(num) # 해당 학생 번호를 탐색했음을 표시\n",
    "            y = num // 5 # 학생의 y 좌표\n",
    "            x = num % 5 # 학생의 x 좌표\n",
    "            if board[y][x] == 'S': # 만약 이다솜파라면 1 증가\n",
    "                S_num += 1\n",
    "            if y+1 < 5:\n",
    "                if num + 5 in group and not (num+5 in group_check):\n",
    "                    post_std.add(group.index(num+5)) # 1칸 아래에 그룹내의 학생이 있다면 탐색 리스트에 추가\n",
    "            if y-1 >= 0:\n",
    "                if num - 5 in group and not (num-5 in group_check):\n",
    "                    post_std.add(group.index(num-5)) # 1칸 위에 그룹내의 학생이 있다면 탐색 리스트에 추가\n",
    "            if x+1 < 5:\n",
    "                if num + 1 in group and not (num+1 in group_check):\n",
    "                    post_std.add(group.index(num+1)) # 1칸 오른쪽에 그룹내의 학생이 있다면 탐색 리스트에 추가\n",
    "            if x-1 >= 0:\n",
    "                if num - 1 in group and not (num-1 in group_check):\n",
    "                    post_std.add(group.index(num-1)) # 1칸 왼쪽에 그룹내의 학생이 있다면 탐색 리스트에 추가\n",
    "        std = post_std # 탐색 기준을 방금 찾는 학생 리스트로 바꾼다.\n",
    "    if len(group_check) < 7:\n",
    "        return False\n",
    "    # 그룹 내의 학생이 모두 인접하지 않다면 False\n",
    "    if S_num >= 4: # 그룹 내의 학생들이 모두 인접해있으며, 이다솜파가 다수를 차지한다면 True\n",
    "        return True\n",
    "    return False # 임도연파가 다수일 때 False\n",
    "\n",
    "board = [] # 위치에 따른 학생들의 계파\n",
    "for _ in range(5):\n",
    "    board.append(list(input()))\n",
    "answer = 0 # 답\n",
    "for i in list(combinations(list(range(25)), 7)): # 25명의 학생들 중에 7명의 조합 모두에 대해서\n",
    "    if consist_group(board, i): # 이다솜파가 다수인 칠공주파를 구성할 수 있는 조합이라면 답 1 증가\n",
    "        answer += 1\n",
    "print(answer) # 답 출력"
   ]
  }
 ],
 "metadata": {
  "kernelspec": {
   "display_name": "Python 3",
   "language": "python",
   "name": "python3"
  },
  "language_info": {
   "codemirror_mode": {
    "name": "ipython",
    "version": 3
   },
   "file_extension": ".py",
   "mimetype": "text/x-python",
   "name": "python",
   "nbconvert_exporter": "python",
   "pygments_lexer": "ipython3",
   "version": "3.6.9"
  }
 },
 "nbformat": 4,
 "nbformat_minor": 2
}
