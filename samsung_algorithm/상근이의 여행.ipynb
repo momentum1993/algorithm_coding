{
 "cells": [
  {
   "cell_type": "markdown",
   "metadata": {},
   "source": [
    "# 상근이의 여행"
   ]
  },
  {
   "cell_type": "markdown",
   "metadata": {},
   "source": [
    "[baekjoon의 '상근이의 여행' 링크](https://www.acmicpc.net/problem/9372)"
   ]
  },
  {
   "cell_type": "markdown",
   "metadata": {},
   "source": [
    "### 문제   \n",
    "상근이는 겨울방학을 맞아 N개국을 여행하면서 자아를 찾기로 마음먹었다.  \n",
    "  \n",
    "하지만 상근이는 새로운 비행기를 무서워하기 때문에, 최대한 적은 종류의 비행기를 타고 국가들을 이동하려고 한다.  \n",
    "  \n",
    "이번 방학 동안의 비행 스케줄이 주어졌을 때, 상근이가 가장 적은 종류의 비행기를 타고 모든 국가들을 여행할 수 있도록 도와주자.  \n",
    "  \n",
    "상근이가 한 국가에서 다른 국가로 이동할 때 다른 국가를 거쳐 가도(심지어 이미 방문한 국가라도) 된다.  \n",
    "  \n",
    "### 입력  \n",
    "첫 번째 줄에는 테스트 케이스의 수 T(T ≤ 100)가 주어지고,  \n",
    "  \n",
    "각 테스트 케이스마다 다음과 같은 정보가 주어진다.  \n",
    "  \n",
    "- 첫 번째 줄에는 국가의 수 N(2 ≤ N ≤ 1 000)과 비행기의 종류 M(1 ≤ M ≤ 10 000) 가 주어진다.  \n",
    "- 이후 M개의 줄에 a와 b 쌍들이 입력된다. a와 b를 왕복하는 비행기가 있다는 것을 의미한다. (1 ≤ a, b ≤ n; a ≠ b)  \n",
    "- 주어지는 비행 스케줄은 항상 연결 그래프를 이룬다.  \n",
    "  \n",
    "### 출력  \n",
    "테스트 케이스마다 한 줄을 출력한다.  \n",
    "  \n",
    "- 상근이가 모든 국가를 여행하기 위해 타야 하는 비행기 종류의 최소 개수를 출력한다.  "
   ]
  },
  {
   "cell_type": "code",
   "execution_count": 1,
   "metadata": {},
   "outputs": [
    {
     "name": "stdout",
     "output_type": "stream",
     "text": [
      "Input\n",
      "2\n",
      "3 3\n",
      "1 2\n",
      "2 3\n",
      "1 3\n",
      "5 4\n",
      "2 1\n",
      "2 3\n",
      "4 3\n",
      "4 5\n",
      "\n",
      "Output\n",
      "2\n",
      "4\n"
     ]
    }
   ],
   "source": [
    "from queue import PriorityQueue\n",
    "\n",
    "def simulation(N, M, flights): # 시뮬레이션\n",
    "    q = PriorityQueue() # 우선순위 큐\n",
    "    for idx in range(1, N+1):\n",
    "        q.put([0, idx, {idx}]) # 큐에 [비행기 탑승 횟수, 현재 위치, 방문해본 나라] 정보를 push\n",
    "    while not q.empty():\n",
    "        count, depart, visited = q.get() # 큐에서 [비행기 탑승 횟수, 현재 위치, 방문해본 나라] 정보를 pop\n",
    "        if len(visited) == N: # 모든 나라를 방문했다면\n",
    "            return count # 비행기 탑승 횟수 반환\n",
    "        for dest in flights[depart]: # 현재 위치에서 갈 수 있는 모든 나라에 대해서\n",
    "            q.put([count+1, dest, visited.union(set([dest]))])\n",
    "            # [탑승횟수+1, 목적지 나라, 목적지 나라를 포함한 방문해본 나라] 정보를 큐에 push\n",
    "    return -1 \n",
    "    \n",
    "answer = [] # 답\n",
    "print(\"Input\")\n",
    "T = int(input()) # 테스트케이스 개수\n",
    "for _ in range(T):\n",
    "    N, M = tuple(int(x) for x in input().split()) # 국가의 개수, 항로의 개수\n",
    "    flights = [[] for _ in range(N+1)] # 각 나라별 향할 수 있는 나라들\n",
    "    for _ in range(M):\n",
    "        a, b = tuple(int(x) for x in input().split()) # a와 b 사이에는 왕복할 수 있다.\n",
    "        flights[a].append(b)\n",
    "        flights[b].append(a)\n",
    "    answer.append(simulation(N, M, flights)) # 시뮬레이션 후 답 저장\n",
    "print(\"\\nOutput\")        \n",
    "for a in answer:\n",
    "    print(a) # 답 출력"
   ]
  }
 ],
 "metadata": {
  "kernelspec": {
   "display_name": "Python 3",
   "language": "python",
   "name": "python3"
  },
  "language_info": {
   "codemirror_mode": {
    "name": "ipython",
    "version": 3
   },
   "file_extension": ".py",
   "mimetype": "text/x-python",
   "name": "python",
   "nbconvert_exporter": "python",
   "pygments_lexer": "ipython3",
   "version": "3.6.9"
  }
 },
 "nbformat": 4,
 "nbformat_minor": 2
}
