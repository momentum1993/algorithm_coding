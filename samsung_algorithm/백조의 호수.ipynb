{
 "cells": [
  {
   "cell_type": "markdown",
   "metadata": {},
   "source": [
    "# 백조의 호수"
   ]
  },
  {
   "cell_type": "markdown",
   "metadata": {},
   "source": [
    "[baekjoon의 '백조의 호수' 링크](https://www.acmicpc.net/problem/3197)"
   ]
  },
  {
   "cell_type": "markdown",
   "metadata": {},
   "source": [
    "### 문제   \n",
    "두 마리의 백조가 호수에서 살고 있었다. 그렇지만 두 마리는 호수를 덮고 있는 빙판으로 만나지 못한다.  \n",
    "  \n",
    "호수는 가로로 R, 세로로 C만큼의 직사각형 모양이다. 어떤 칸은 얼음으로 덮여있다.  \n",
    "  \n",
    "호수는 차례로 녹는데, 매일 물 공간과 접촉한 모든 빙판 공간은 녹는다. 두 개의 공간이 접촉하려면 가로나 세로로 닿아 있는 것만 (대각선은 고려하지 않는다) 생각한다.  \n",
    "  \n",
    "아래에는 세 가지 예가 있다.  \n",
    "  \n",
    "~~~\n",
    "...XXXXXX..XX.XXX ....XXXX.......XX .....XX..........  \n",
    "....XXXXXXXXX.XXX .....XXXX..X..... ......X..........  \n",
    "...XXXXXXXXXXXX.. ....XXX..XXXX.... .....X.....X.....  \n",
    "..XXXXX..XXXXXX.. ...XXX....XXXX... ....X......XX....  \n",
    ".XXXXXX..XXXXXX.. ..XXXX....XXXX... ...XX......XX....  \n",
    "XXXXXXX...XXXX... ..XXXX.....XX.... ....X............  \n",
    "..XXXXX...XXX.... ....XX.....X..... .................  \n",
    "....XXXXX.XXX.... .....XX....X..... .................  \n",
    "      처음             첫째 날           둘째 날  \n",
    "~~~\n",
    "  \n",
    "백조는 오직 물 공간에서 세로나 가로로만(대각선은 제외한다) 움직일 수 있다.  \n",
    "  \n",
    "며칠이 지나야 백조들이 만날 수 있는 지 계산하는 프로그램을 작성한다.  \n",
    "  \n",
    "### 입력  \n",
    "입력의 첫째 줄에는 R과 C가 주어진다. 단, 1 ≤ R, C ≤ 1500.  \n",
    "  \n",
    "각 R줄 동안 C만큼의 문자열이 주어진다.  \n",
    "  \n",
    "'.'은 물 공간, 'X'는 빙판 공간, 'L'은 백조가 있는 공간으로 나타낸다.  \n",
    "  \n",
    "### 출력  \n",
    "첫째 줄에 문제에서 주어진 걸리는 날을 출력한다.  "
   ]
  },
  {
   "cell_type": "code",
   "execution_count": 1,
   "metadata": {},
   "outputs": [
    {
     "name": "stdout",
     "output_type": "stream",
     "text": [
      "8 17\n",
      "...XXXXXX..XX.XXX\n",
      "....XXXXXXXXX.XXX\n",
      "...XXXXXXXXXXXX..\n",
      "..XXXXX.LXXXXXX..\n",
      ".XXXXXX..XXXXXX..\n",
      "XXXXXXX...XXXX...\n",
      "..XXXXX...XXX....\n",
      "....XXXXX.XXXL...\n",
      "2\n"
     ]
    }
   ],
   "source": [
    "def check_connected(R, C, board, checked, remove_list, swan, y, x): \n",
    "    # 같은 영역 내에 백조가 몇마리 있는지 반환 -> 값이 2이상일 때 : 백조가 만날 수 있음\n",
    "    num_swan = 0 # 영역 내의 백조 마리수\n",
    "    if (y, x) in swan: # 만약 지금 탐색하는 위치에 백조가 있다면\n",
    "        return 1 # 1 반환\n",
    "    \n",
    "    direction = [(0, 1), (1, 0), (0, -1), (-1, 0)] # 네 방향\n",
    "    for add_y, add_x in direction: # 네 방향에 대해서\n",
    "        if 0 <= add_y+y < R and 0 <= add_x+x < C and not checked[y+add_y][x+add_x]:\n",
    "        # 아직 탐색하지 않은 보드 내의 위치에 대해서\n",
    "            if board[y+add_y][x+add_x] == '.': # 만약 물 공간이라면\n",
    "                checked[y+add_y][x+add_x] = True # 탐색했음을 체크\n",
    "                num_swan += check_connected(R, C, board, checked, remove_list, swan, add_y+y, add_x+x)\n",
    "                # 재귀적으로 이동해서 다시 탐색한다.\n",
    "            elif board[y+add_y][x+add_x] == 'X': # 빙산 공간이라면\n",
    "                # 물과 인접한 공간이므로 제거될 빙산의 위치에 추가한다.\n",
    "                remove_list.add((y+add_y, x+add_x))\n",
    "    return num_swan # 같은 영역 내에 있는 백조 마리수 반환\n",
    "\n",
    "def simulation(R, C, board, swan): # 시간이 지나면서 바뀌는 빙산의 상태에 따라 백조가 만날 때까지의 시간 반환\n",
    "    checked = [[False for _ in range(C)] for _ in range(R)] # 탐색 여부 확인\n",
    "    remove_list = set() # 제거될 빙산의 위치\n",
    "    for y in range(R):\n",
    "        for x in range(C): # 보드 상의 모든 위치에 대해서\n",
    "            if checked[y][x]: # 이미 탐색한 부분을 제외하고\n",
    "                continue\n",
    "            if board[y][x] == '.': # 물의 공간이라면 탐색\n",
    "                checked[y][x] = True # 현재 위치를 탐색했음을 체크\n",
    "                if check_connected(R, C, board, checked, remove_list, swan, y, x) == 2: # 백조끼리 연결될 경우\n",
    "                    return 0 # 0 반환\n",
    "    for y, x in remove_list:\n",
    "        board[y][x] = '.'\n",
    "    # 제거될 빙산의 위치에 대해서 물 공간으로 갱신해준다.\n",
    "    return 1+simulation(R, C, board, swan) # 1초 후의 상황을 재귀적으로 시뮬레이션하고 반환\n",
    "\n",
    "R, C = tuple(int(x) for x in input().split()) # 행, 열\n",
    "board = [] # 보드\n",
    "swan = [] # 백조의 위치\n",
    "for y in range(R):\n",
    "    row = list(input())\n",
    "    for x in range(C):\n",
    "        if row[x] == 'L':\n",
    "            swan.append((y, x)) # 백조의 위치 저장\n",
    "            row[x] = '.' # 물의 위치로 갱신\n",
    "    board.append(row)\n",
    "# 보드를 모두 입력 받음\n",
    "print(simulation(R, C, board, swan)) # 답 출력"
   ]
  }
 ],
 "metadata": {
  "kernelspec": {
   "display_name": "Python 3",
   "language": "python",
   "name": "python3"
  },
  "language_info": {
   "codemirror_mode": {
    "name": "ipython",
    "version": 3
   },
   "file_extension": ".py",
   "mimetype": "text/x-python",
   "name": "python",
   "nbconvert_exporter": "python",
   "pygments_lexer": "ipython3",
   "version": "3.6.9"
  }
 },
 "nbformat": 4,
 "nbformat_minor": 2
}
