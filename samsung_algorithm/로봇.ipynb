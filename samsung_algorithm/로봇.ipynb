{
 "cells": [
  {
   "cell_type": "markdown",
   "metadata": {},
   "source": [
    "# 로봇"
   ]
  },
  {
   "cell_type": "markdown",
   "metadata": {},
   "source": [
    "[baekjoon의 '로봇' 링크](https://www.acmicpc.net/problem/1726)"
   ]
  },
  {
   "cell_type": "markdown",
   "metadata": {},
   "source": [
    "### 문제   \n",
    "많은 공장에서 로봇이 이용되고 있다. 우리 월드 공장의 로봇은 바라보는 방향으로 궤도를 따라 움직이며, 움직이는 방향은 동, 서, 남, 북 가운데 하나이다. 로봇의 이동을 제어하는 명령어는 다음과 같이 두 가지이다.\n",
    "  \n",
    "- 명령 1. Go k: k는 1, 2 또는 3일 수 있다. 현재 향하고 있는 방향으로 k칸 만큼 움직인다.  \n",
    "- 명령 2. Turn dir: dir은 left 또는 right 이며, 각각 왼쪽 또는 오른쪽으로 90° 회전한다.  \n",
    "  \n",
    "공장 내 궤도가 설치되어 있는 상태가 아래와 같이 0과 1로 이루어진 직사각형 모양으로 로봇에게 입력된다. 0은 궤도가 깔려 있어 로봇이 갈 수 있는 지점이고, 1은 궤도가 없어 로봇이 갈 수 없는 지점이다. 로봇이 (4, 2) 지점에서 남쪽을 향하고 있을 때,  이 로봇을 (2, 4) 지점에서 동쪽으로 향하도록 이동시키는 것은 아래와 같이 9번의 명령으로 가능하다.  \n",
    "  \n",
    "![](https://www.acmicpc.net/JudgeOnline/upload/201006/robot.PNG)  \n",
    "  \n",
    "로봇의 현재 위치와 바라보는 방향이 주어졌을 때, 로봇을 원하는 위치로 이동시키고, 원하는 방향으로 바라보도록 하는데 최소 몇 번의 명령이 필요한지 구하는 프로그램을 작성하시오.  \n",
    "\n",
    "### 입력  \n",
    "첫째 줄에 공장 내 궤도 설치 상태를 나타내는 직사각형의 세로 길이 M과 가로 길이 N이 빈칸을 사이에 두고 주어진다. 이때 M과 N은 둘 다 100이하의 자연수이다. 이어 M줄에 걸쳐 한 줄에 N개씩 각 지점의 궤도 설치 상태를 나타내는 숫자 0 또는 1이 빈칸을 사이에 두고 주어진다. 다음 줄에는 로봇의 출발 지점의 위치 (행과 열의 번호)와 바라보는 방향이 빈칸을 사이에 두고 주어진다. 마지막 줄에는 로봇의 도착 지점의 위치 (행과 열의 번호)와 바라보는 방향이 빈칸을 사이에 두고 주어진다. 방향은 동쪽이 1, 서쪽이 2, 남쪽이 3, 북쪽이 4로 주어진다. 출발지점에서 도착지점까지는 항상 이동이 가능하다.  \n",
    "  \n",
    "### 출력  \n",
    "첫째 줄에 로봇을 도착 지점에 원하는 방향으로 이동시키는데 필요한 최소 명령 횟수를 출력한다.  "
   ]
  },
  {
   "cell_type": "code",
   "execution_count": 1,
   "metadata": {},
   "outputs": [
    {
     "name": "stdout",
     "output_type": "stream",
     "text": [
      "5 6\n",
      "0 0 0 0 0 0\n",
      "0 1 1 0 1 0\n",
      "0 1 0 0 0 0\n",
      "0 0 1 1 1 0\n",
      "1 0 0 0 0 0\n",
      "4 2 3\n",
      "2 4 1\n",
      "9\n"
     ]
    }
   ],
   "source": [
    "from queue import PriorityQueue\n",
    "\n",
    "def simulation(M, N, board, checked, start_y, start_x, start_d, end_y, end_x, end_d): # 로봇의 움직임 시뮬레이션\n",
    "    direction = [(0, 1), (0, -1), (1, 0), (-1, 0)] # 동, 서, 남, 북\n",
    "    d_idx = [0,2,1,3] # 방향에 대한 인덱스 (+1이 되면 오른쪽으로 90도 회전되는 방향이다.)\n",
    "    q = PriorityQueue() # 우선순위 큐\n",
    "    q.put((0, start_y, start_x, start_d)) # 명령횟수, y좌표, x좌표, 방향\n",
    "    while not q.empty():\n",
    "        count, y, x, d = q.get() # 명령횟수, y좌표, x좌표, 방향\n",
    "        if y == end_y and x == end_x and d == end_d: # 만약 목표지점에 올바른 방향으로 도달했다면 명령횟수 반환\n",
    "            return count\n",
    "        for add_d in range(-1, 2): # 명령2의 모든 것들에 대해서(좌우 90도 회전 or 회전 X)\n",
    "            if add_d == 0: # 회전하지 않을 때\n",
    "                add_y, add_x = direction[d] # 현재 방향으로 로봇을 움직인다.\n",
    "                for m in range(1, 4): # 1~3칸을 움직여서 시뮬레이션 진행\n",
    "                    if not (0 <= (m * add_y)+y < M and 0 <= (m * add_x)+x < N) or board[y+(m * add_y)][x+(m * add_x)] == 1:\n",
    "                        break\n",
    "                    # 만약 공장의 범위를 벗어나거나 로봇이 갈 수 없는 지점이라면 탐색하지 않는다.\n",
    "                    if checked[y+(m * add_y)][x+(m * add_x)][d] > count+1:\n",
    "                        # 아직 탐색한 공간이 아니라면\n",
    "                        checked[y+(m * add_y)][x+(m * add_x)][d] = count+1\n",
    "                        q.put((count+1, y+(m * add_y), x+(m * add_x), d))\n",
    "                        # 탐색했을 때의 명령횟루를 저장하고 정보를 큐에 push한다.\n",
    "            else: # 회전할 때\n",
    "                idx = d_idx.index(d) # 현재 방향에 대한 인덱스를 얻어온다.\n",
    "                idx += add_d + 4\n",
    "                idx %= 4 \n",
    "                curr_d = d_idx[idx] # 회전 후의 방향 인덱스\n",
    "                if checked[y][x][curr_d] > count+1: # 만약 아직 탐색한 공간과 방향이 아니라면\n",
    "                    checked[y][x][curr_d] = count+1\n",
    "                    q.put((count+1, y, x, curr_d))\n",
    "                    # 탐색했을 때의 명령횟수를 저장하고, 큐에 push한다.\n",
    "    return M*N\n",
    "\n",
    "M, N = tuple(int(x) for x in input().split()) # 세로, 가로\n",
    "board = [] # 공장\n",
    "for _ in range(M):\n",
    "    board.append([int(x) for x in input().split()])\n",
    "checked = [[[M*N for _ in range(4)] for _ in range(N)] for _ in range(M)] # 해당 좌표와 방향에 도달하기 위한 최소 명령횟수\n",
    "y, x, d = tuple(int(x)-1 for x in input().split()) # y좌표, x좌표, 현재방향\n",
    "checked[y][x][d] = 0 # 현재 상태에서의 명령의 개수는 0\n",
    "end_y, end_x, end_d = tuple(int(x)-1 for x in input().split()) # 목표 위치 및 방향\n",
    "print(simulation(M, N, board, checked, y, x, d, end_y, end_x, end_d)) # 시뮬레이션 결과 출력"
   ]
  }
 ],
 "metadata": {
  "kernelspec": {
   "display_name": "Python 3",
   "language": "python",
   "name": "python3"
  },
  "language_info": {
   "codemirror_mode": {
    "name": "ipython",
    "version": 3
   },
   "file_extension": ".py",
   "mimetype": "text/x-python",
   "name": "python",
   "nbconvert_exporter": "python",
   "pygments_lexer": "ipython3",
   "version": "3.6.9"
  }
 },
 "nbformat": 4,
 "nbformat_minor": 2
}
