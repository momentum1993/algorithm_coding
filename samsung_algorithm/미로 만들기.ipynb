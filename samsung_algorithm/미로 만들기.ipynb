{
 "cells": [
  {
   "cell_type": "markdown",
   "metadata": {},
   "source": [
    "### 미로 만들기"
   ]
  },
  {
   "cell_type": "markdown",
   "metadata": {},
   "source": [
    "[baekjoon의 '미로 만들기' 링크](https://www.acmicpc.net/problem/1347)"
   ]
  },
  {
   "cell_type": "markdown",
   "metadata": {},
   "source": [
    "### 문제   \n",
    "홍준이는 미로 안의 한 칸에 남쪽을 보며 서있다. 미로는 직사각형 격자모양이고, 각 칸은 이동할 수 있거나, 벽을 포함하고 있다. 모든 행과 열에는 적어도 하나의 이동할 수 있는 칸이 있다. 홍준이는 미로에서 모든 행과 열의 이동할 수 있는 칸을 걸어다녔다. 그러면서 자신의 움직임을 모두 노트에 쓰기로 했다. 홍준이는 미로의 지도를 자기 노트만을 이용해서 그리려고 한다.  \n",
    "  \n",
    "입력으로 홍준이가 적은 내용이 주어진다. 문자열로 이루어져 있으며, 모든 문자 하나는 한 번의 움직임을 말한다. ‘F’는 앞으로 한 칸 움직인 것이고, ‘L'과 ’R'은 방향을 왼쪽 또는 오른쪽으로 전환한 것이다. 즉, 90도를 회전하면서, 위치는 그대로인 것이다.  \n",
    "  \n",
    "### 입력  \n",
    "첫째 줄에 홍준이가 적은 내용의 길이가 주어진다. 길이는 0보다 크고, 50보다 작다. 둘째 줄에 그 내용이 주어진다.  \n",
    "  \n",
    "### 출력  \n",
    "첫째 줄에 미로 지도를 출력한다. ‘.’은 이동할 수 있는 칸이고, ‘#’는 벽이다.  "
   ]
  },
  {
   "cell_type": "code",
   "execution_count": 2,
   "metadata": {},
   "outputs": [
    {
     "name": "stdout",
     "output_type": "stream",
     "text": [
      "5\n",
      "RRFRF\n",
      "..\n",
      ".#\n"
     ]
    }
   ],
   "source": [
    "N = int(input()) # 움직임의 개수\n",
    "start_y, start_x = 0, 0 # x,y좌표상에서의 직사각형 최소 좌표\n",
    "end_y, end_x = 0, 0 # x,y좌표상에서의 직사각형 최대 좌표\n",
    "possible = set([(0, 0)]) # 지나간 길의 좌표\n",
    "y, x = 0, 0 # 현재 y, x 좌표\n",
    "d_idx = 0 # 현재 이동 방향\n",
    "directions = [(1, 0), (0, -1), (-1, 0), (0, 1)] # 남, 서, 북, 동\n",
    "\n",
    "for d in list(input()): # 이동방향 입력에 대해서\n",
    "    if d == 'R': # 오른쪽으로 회전\n",
    "        d_idx += 1\n",
    "        d_idx %= 4\n",
    "        \n",
    "    elif d == 'L': # 왼쪽으로 회전\n",
    "        d_idx -= 1\n",
    "        if d_idx < 0:\n",
    "            d_idx = 3\n",
    "        \n",
    "    else: # d == 'F' # 앞으로 이동\n",
    "        add_y, add_x = directions[d_idx]\n",
    "        y += add_y\n",
    "        x += add_x\n",
    "        possible.add((y,x)) # 이동 후의 좌표 저장\n",
    "        start_y = min(start_y, y)\n",
    "        start_x = min(start_x, x)\n",
    "        end_y = max(end_y, y)\n",
    "        end_x = max(end_x, x)\n",
    "        # 직사각형 시작, 끝 좌표 갱신\n",
    "board = [['#' for _ in range(end_x - start_x + 1)] for _ in range(end_y - start_y + 1)]\n",
    "for i, j in possible:\n",
    "    board[i-start_y][j-start_x] = '.'\n",
    "# 보드상에 이동한 좌표에 대해서 갈 수 있는 위치임을 표시\n",
    "    \n",
    "for i in range(end_y - start_y + 1):\n",
    "    for j in range(end_x - start_x + 1):\n",
    "        print(board[i][j], end=\"\")\n",
    "    print()\n",
    "# 보드의 상태 출력"
   ]
  }
 ],
 "metadata": {
  "kernelspec": {
   "display_name": "Python 3",
   "language": "python",
   "name": "python3"
  },
  "language_info": {
   "codemirror_mode": {
    "name": "ipython",
    "version": 3
   },
   "file_extension": ".py",
   "mimetype": "text/x-python",
   "name": "python",
   "nbconvert_exporter": "python",
   "pygments_lexer": "ipython3",
   "version": "3.6.9"
  }
 },
 "nbformat": 4,
 "nbformat_minor": 2
}
