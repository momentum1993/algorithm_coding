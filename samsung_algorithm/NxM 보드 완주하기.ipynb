{
 "cells": [
  {
   "cell_type": "markdown",
   "metadata": {},
   "source": [
    "# NxM 보드 완주하기"
   ]
  },
  {
   "cell_type": "markdown",
   "metadata": {},
   "source": [
    "[baekjoon의 'NxM 보드 완주하기' 링크](https://www.acmicpc.net/problem/9944)"
   ]
  },
  {
   "cell_type": "markdown",
   "metadata": {},
   "source": [
    "### 문제   \n",
    "N×M 보드 위에서 할 수 있는 게임이 있다. 보드는 크기가 1×1인 정사각형 칸으로 나누어져 있다. 보드의 각 칸은 빈 칸 또는 장애물이다. 장애물은 아래 그림에선 어두운 사각형으로 표시되어져 있다.  \n",
    "  \n",
    "게임을 시작하려면 보드의 빈 칸 위에 공을 하나 놓아야 한다. 아래 그림에서 공은 회색 점으로 표시되어져 있다. 게임은 단계로 이루어져 있고, 각 단계는 아래와 같이 구성되어져 있다.  \n",
    "  \n",
    "- 위, 아래, 오른쪽, 왼쪽 중 방향 하나를 고른 다음, 그 방향으로 공을 계속해서 이동시킨다.  \n",
    "- 공은 장애물, 보드의 경계, 이미 공이 지나갔던 칸을 만나기 전까지 계속해서 이동한다.  \n",
    "  \n",
    "게임은 공이 더 이상 이동할 수 없을 때 끝난다. 이 때, 모든 빈 칸을 공이 방문한 적이 있어야 한다.  \n",
    "  \n",
    "아래 그림은 총 10단계 만에 모든 칸을 방문하는 방법이다.  \n",
    "  \n",
    "![](https://www.acmicpc.net/upload/images2/fboard.png)  \n",
    "  \n",
    "보드의 상태가 주어졌을 때, 모든 칸을 방문하기 위한 이동 횟수의 최솟값을 구하는 프로그램을 작성하시오.  \n",
    "  \n",
    "### 입력  \n",
    "입력은 여러 개의 테스트 케이스로 이루어져 있다.  \n",
    "  \n",
    "각 테스트 케이스의 첫째 줄에는 보드의 크기를 나타내는 N과 M이 주어진다. N은 세로 크기, M은 가로 크기이고, 두 값은 30보다 작거나 같은 자연수이다. 둘째 줄부터 N개의 줄에는 보드의 상태가 주어진다. 보드의 상태는 장애물을 나타내는 '\\*'과 빈 칸을 나타내는 '.'으로 이루어져 있다.  \n",
    "  \n",
    "입력으로 주어진 보드가 장애물로만 이루어진 경우는 없다.  \n",
    "  \n",
    "### 출력  \n",
    "각 테스트 케이스마다 보드의 모든 빈 칸을 방문하는 최소 이동 횟수를 출력한다. 출력 형식은 예제를 참고한다.  \n",
    "  \n",
    "만약, 모든 빈 칸을 방문할 수 없다면 최소 이동 횟수는 -1이다. 가능한 이동 경로의 수는 1,000,000개를 넘지 않는다.  "
   ]
  },
  {
   "cell_type": "code",
   "execution_count": 2,
   "metadata": {},
   "outputs": [
    {
     "name": "stdout",
     "output_type": "stream",
     "text": [
      "Input\n",
      "5 5\n",
      "**...\n",
      ".....\n",
      "....*\n",
      "..*..\n",
      ".....\n",
      "3 4\n",
      "****\n",
      "*...\n",
      "*..*\n",
      "\n",
      "\n",
      "Output\n",
      "Case 1: 10\n",
      "Case 2: 3\n"
     ]
    }
   ],
   "source": [
    "from queue import PriorityQueue\n",
    "from copy import deepcopy\n",
    "\n",
    "def simulation(N, M, board, vacant): # 시뮬레이션\n",
    "    q = PriorityQueue() # 우선순위 큐\n",
    "    vacant_num = len(vacant) # 빈칸의 개수\n",
    "    for y, x in vacant: # 모든 빈칸 좌표에 대해서\n",
    "        q.put((0, vacant_num-1, y, x, board))\n",
    "        # (이동횟수, 남은 빈칸 개수, 현재 y좌표, 현재 x좌표, 현재 보드 상태) 정보를 큐에 push\n",
    "    direction = [(0,1), (0,-1), (1,0), (-1,0)] # 상하좌우 방향\n",
    "    while not q.empty():\n",
    "        move_num, left_num, y, x, curr_board = q.get() # (이동횟수, 남은 빈칸 개수, 현재 y좌표, 현재 x좌표, 현재 보드 상태) 정보를 큐에서 pop\n",
    "        if left_num == 0: # 빈 칸이 없다면\n",
    "            return move_num # 이동횟수 반환\n",
    "        for add_y, add_x in direction: # 네 방향에 대해서\n",
    "            if not (0 <= add_y+y < N and 0 <= add_x+x < M and curr_board[add_y+y][add_x+x] == '.'):\n",
    "                continue\n",
    "            # 장애물이 가로막거나 보드의 끝이라면 다음 탐색으로 넘어감\n",
    "            next_board = deepcopy(curr_board) # 이동 후의 보드 상태\n",
    "            m = 1 # 현재의 방향으로 이동한 칸 수\n",
    "            moved = 0 # 없어진 빈칸 수\n",
    "            while True:\n",
    "                if 0 <= m*add_y+y < N and 0 <= m*add_x+x < M and curr_board[m*add_y+y][m*add_x+x] == '.': # 현재 방향으로 이동가능할 때\n",
    "                    next_board[m*add_y+y][m*add_x+x] = '#' # 이동한 칸은 표시\n",
    "                    moved += 1 # 없어진 빈칸 수 1 증가\n",
    "                else: # 벽을 만나거나 장애물을 만났다면\n",
    "                    q.put((move_num+1, left_num-moved, (m-1)*add_y+y, (m-1)*add_x+x, next_board))\n",
    "                    # (이동횟수+1, 남은 빈칸 개수-없어진 빈칸 수, 이동 후 y좌표, 이동 후 x좌표, 이동 후 보드 상태) 정보를 큐에 push\n",
    "                    break # 루프 빠져나옴\n",
    "                m += 1 # 이동 칸 수를 1 증가\n",
    "    return -1 # 만약 모든 빈칸을 방문할 수 없을 경우 -1 반환\n",
    "        \n",
    "answer = [] # 답\n",
    "print(\"Input\")\n",
    "while True:\n",
    "    inp = input()\n",
    "    if inp == '': # 빈칸이 입력되면 입력 종료\n",
    "        break\n",
    "    N, M = tuple(int(x) for x in inp.split()) # 높이, 너비\n",
    "    board = [] # 보드\n",
    "    vacant = [] # 빈칸\n",
    "    for y in range(N):\n",
    "        row = list(input())\n",
    "        for x in range(M):\n",
    "            if row[x] == '.': # 빈칸의 경우\n",
    "                vacant.append((y, x)) # 저장\n",
    "        board.append(row)\n",
    "    answer.append(simulation(N, M, board, vacant)) # 시뮬레이션 후 답 저장\n",
    "    \n",
    "print(\"\\nOutput\")\n",
    "for i in range(len(answer)):\n",
    "    print(\"Case \"+str(i+1)+\": \"+str(answer[i])) # 각 케이스별 답 출력"
   ]
  }
 ],
 "metadata": {
  "kernelspec": {
   "display_name": "Python 3",
   "language": "python",
   "name": "python3"
  },
  "language_info": {
   "codemirror_mode": {
    "name": "ipython",
    "version": 3
   },
   "file_extension": ".py",
   "mimetype": "text/x-python",
   "name": "python",
   "nbconvert_exporter": "python",
   "pygments_lexer": "ipython3",
   "version": "3.6.9"
  }
 },
 "nbformat": 4,
 "nbformat_minor": 2
}
