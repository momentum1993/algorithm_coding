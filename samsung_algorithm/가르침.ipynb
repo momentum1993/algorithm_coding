{
 "cells": [
  {
   "cell_type": "markdown",
   "metadata": {},
   "source": [
    "# 가르침"
   ]
  },
  {
   "cell_type": "markdown",
   "metadata": {},
   "source": [
    "[baekjoon의 '가르침' 링크](https://www.acmicpc.net/problem/1062)"
   ]
  },
  {
   "cell_type": "markdown",
   "metadata": {},
   "source": [
    "### 문제    \n",
    "남극에 사는 김지민 선생님은 학생들이 되도록이면 많은 단어를 읽을 수 있도록 하려고 한다. 그러나 지구온난화로 인해 얼음이 녹아서 곧 학교가 무너지기 때문에, 김지민은 K개의 글자를 가르칠 시간 밖에 없다. 김지민이 가르치고 난 후에는, 학생들은 그 K개의 글자로만 이루어진 단어만을 읽을 수 있다. 김지민은 어떤 K개의 글자를 가르쳐야 학생들이 읽을 수 있는 단어의 개수가 최대가 되는지 고민에 빠졌다.  \n",
    "  \n",
    "남극언어의 모든 단어는 \"anta\"로 시작되고, \"tica\"로 끝난다. 남극언어에 단어는 N개 밖에 없다고 가정한다. 학생들이 읽을 수 있는 단어의 최댓값을 구하는 프로그램을 작성하시오.  \n",
    "\n",
    "\n",
    "### 입력  \n",
    "첫째 줄에 단어의 개수 N과 K가 주어진다. N은 50보다 작거나 같은 자연수이고, K는 26보다 작거나 같은 자연수 또는 0이다. 둘째 줄부터 N개의 줄에 남극 언어의 단어가 주어진다. 단어는 영어 소문자로만 이루어져 있고, 길이가 8보다 크거나 같고, 15보다 작거나 같다. 모든 단어는 중복되지 않는다.  \n",
    "  \n",
    "### 출력  \n",
    "첫째 줄에 김지민이 K개의 글자를 가르칠 때, 학생들이 읽을 수 있는 단어 개수의 최댓값을 출력한다.    \n",
    "  "
   ]
  },
  {
   "cell_type": "code",
   "execution_count": 1,
   "metadata": {
    "scrolled": true
   },
   "outputs": [
    {
     "name": "stdout",
     "output_type": "stream",
     "text": [
      "3 6\n",
      "antarctica\n",
      "antahellotica\n",
      "antacartica\n",
      "2\n"
     ]
    }
   ],
   "source": [
    "def max_word(alphabets, K, words, idx): # 가르칠 수 있는 최대 단어 수 반환\n",
    "    if idx == len(words): # 만약 모든 단어에 대해서 탐색을 마쳤다면 0 반환\n",
    "        return 0\n",
    "    answer = 0 # 답\n",
    "    temp1, temp2 = 0, 0\n",
    "    add = words[idx].difference(alphabets)\n",
    "    # 지금까지 배운 단어 외에 현재 탐색하는 단어를 배우기 위해 알아야하는 단어\n",
    "    if len(add) <= K: # 만약 단어들을 배울 수 있다면\n",
    "        temp1 = 1 + max_word(alphabets.union(add), K-len(add), words, idx+1)\n",
    "        # 단어를 배우고 재귀적으로 진행\n",
    "    temp2 = max_word(alphabets, K, words, idx+1)\n",
    "    # 현재 탐색 중인 단어는 배우지 않고 다음 단어에 대해 재귀적으로 진행\n",
    "    answer = max(temp1, temp2) # 최대값\n",
    "    return answer # 답 반환\n",
    "                \n",
    "N, K = tuple(int(x) for x in input().split()) # 단어 개수, 배울 수 있는 단어 수\n",
    "if K < 5: # 접두사 'anta'와 접미사 'tica'를 배우기 위해 최소 5개의 단어를 배워야함\n",
    "    print(0) # 그래서 5개 이하로 배울 경우 모든 단어를 읽을 수 없음.\n",
    "else:\n",
    "    answer = 0\n",
    "    K -= 5 # 접두사와 접미사에 필요한 문자 5개는 기본으로 빼고 탐색 시작\n",
    "    alphabets = {'a', 'c', 'i', 'n', 't'}\n",
    "    # 가르친 단어 (접두사, 접미사의 단어는 기본으로 포함)\n",
    "    words = [] # 단어\n",
    "    for _ in range(N):\n",
    "        word = set(list(input())[4:-4]) # 단어의 접두사, 접미사를 뺀 부분\n",
    "        if len(word) == 0: # 단어가 접두사,접미사로만 이루어질 경우\n",
    "            answer += 1 # 답 증가\n",
    "        else:\n",
    "            words.append(word) \n",
    "    answer += max_word(alphabets, K, words, 0) # 알 수 있는 최대 단어 계산\n",
    "    print(answer) # 답 출력\n"
   ]
  }
 ],
 "metadata": {
  "kernelspec": {
   "display_name": "Python 3",
   "language": "python",
   "name": "python3"
  },
  "language_info": {
   "codemirror_mode": {
    "name": "ipython",
    "version": 3
   },
   "file_extension": ".py",
   "mimetype": "text/x-python",
   "name": "python",
   "nbconvert_exporter": "python",
   "pygments_lexer": "ipython3",
   "version": "3.6.9"
  }
 },
 "nbformat": 4,
 "nbformat_minor": 2
}
