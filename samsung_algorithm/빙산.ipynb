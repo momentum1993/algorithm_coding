{
 "cells": [
  {
   "cell_type": "markdown",
   "metadata": {},
   "source": [
    "# 빙산"
   ]
  },
  {
   "cell_type": "markdown",
   "metadata": {},
   "source": [
    "[baekjoon의 '빙산' 링크](https://www.acmicpc.net/problem/2573)"
   ]
  },
  {
   "cell_type": "markdown",
   "metadata": {},
   "source": [
    "### 문제   \n",
    "지구 온난화로 인하여 북극의 빙산이 녹고 있다. 빙산을 그림 1과 같이 2차원 배열에 표시한다고 하자. 빙산의 각 부분별 높이 정보는 배열의 각 칸에 양의 정수로 저장된다. 빙산 이외의 바다에 해당되는 칸에는 0이 저장된다. 그림 1에서 빈칸은 모두 0으로 채워져 있다고 생각한다.  \n",
    "  \n",
    "![](https://www.acmicpc.net/upload/images/PKxZvV7MUcqRHIe.png)  \n",
    "  \n",
    "그림 1. 행의 개수가 5이고 열의 개수가 7인 2차원 배열에 저장된 빙산의 높이 정보  \n",
    "  \n",
    "빙산의 높이는 바닷물에 많이 접해있는 부분에서 더 빨리 줄어들기 때문에, 배열에서 빙산의 각 부분에 해당되는 칸에 있는 높이는 일년마다 그 칸에 동서남북 네 방향으로 붙어있는 0이 저장된 칸의 개수만큼 줄어든다. 단, 각 칸에 저장된 높이는 0보다 더 줄어들지 않는다. 바닷물은 호수처럼 빙산에 둘러싸여 있을 수도 있다. 따라서 그림 1의 빙산은 일년후에 그림 2와 같이 변형된다.  \n",
    "  \n",
    "그림 3은 그림 1의 빙산이 2년 후에 변한 모습을 보여준다. 2차원 배열에서 동서남북 방향으로 붙어있는 칸들은 서로 연결되어 있다고 말한다. 따라서 그림 2의 빙산은 한 덩어리이지만, 그림 3의 빙산은 세 덩어리로 분리되어 있다.  \n",
    "  \n",
    "![](https://www.acmicpc.net/upload/images/nlDR8UUcvmNppi.png)  \n",
    "  \n",
    "한 덩어리의 빙산이 주어질 때, 이 빙산이 두 덩어리 이상으로 분리되는 최초의 시간(년)을 구하는 프로그램을 작성하시오. 그림 1의 빙산에 대해서는 2가 답이다. 만일 전부 다 녹을 때까지 두 덩어리 이상으로 분리되지 않으면 프로그램은 0을 출력한다.  \n",
    "  \n",
    "### 입력  \n",
    "첫 줄에는 이차원 배열의 행의 개수와 열의 개수를 나타내는 두 정수 N과 M이 한 개의 빈칸을 사이에 두고 주어진다. N과 M은 3 이상 300 이하이다. 그 다음 N개의 줄에는 각 줄마다 배열의 각 행을 나타내는 M개의 정수가 한 개의 빈 칸을 사이에 두고 주어진다. 각 칸에 들어가는 값은 0 이상 10 이하이다. 배열에서 빙산이 차지하는 칸의 개수, 즉, 1 이상의 정수가 들어가는 칸의 개수는 10,000 개 이하이다. 배열의 첫 번째 행과 열, 마지막 행과 열에는 항상 0으로 채워진다.  \n",
    "  \n",
    "### 출력  \n",
    "첫 줄에 빙산이 분리되는 최초의 시간(년)을 출력한다. 만일 빙산이 다 녹을 때까지 분리되지 않으면 0을 출력한다.  "
   ]
  },
  {
   "cell_type": "code",
   "execution_count": 1,
   "metadata": {},
   "outputs": [
    {
     "name": "stdout",
     "output_type": "stream",
     "text": [
      "5 7\n",
      "0 0 0 0 0 0 0\n",
      "0 2 4 5 3 0 0\n",
      "0 3 0 2 5 2 0\n",
      "0 7 6 2 4 0 0\n",
      "0 0 0 0 0 0 0\n",
      "2\n"
     ]
    }
   ],
   "source": [
    "from queue import Queue\n",
    "from copy import deepcopy\n",
    "\n",
    "def check_island(N, M, board, checked, now_y, now_x): # 섬의 모든 지역에 대해서 빙하가 녹는 만큼 갱신한다.\n",
    "    q = Queue() # 큐\n",
    "    direction = [(0, 1), (0, -1), (1, 0), (-1, 0)] # 4방향\n",
    "    q.put((now_y, now_x)) # 현재의 y, x좌표를 큐에 push\n",
    "    cp_board = deepcopy(board) # 현재의 섬 상태를 복사\n",
    "    \n",
    "    while not q.empty(): \n",
    "        y, x = q.get() # 탐색할 y, x좌표\n",
    "        if checked[y][x]: # 만약 이미 탐색했다면 넘어감\n",
    "            continue\n",
    "        checked[y][x] = True # 현재 위치를 탐색했음을 표시\n",
    "        for add_y, add_x in direction: # 4방향에 대해서\n",
    "            if 0 <= y + add_y < N and 0 <= x + add_x < M: # 도달할 수 있는 위치라면\n",
    "                if cp_board[add_y+y][add_x+x] == 0 and board[y][x] > 0: # 빙산이 있는 지역이고, 주변에 바다가 위치한다면\n",
    "                    board[y][x] -= 1 # 빙산의 높이를 1 줄인다.\n",
    "                if not checked[add_y+y][add_x+x] and cp_board[add_y+y][add_x+x] > 0: # 아직 탐색하지 않은 빙산 지역은\n",
    "                    q.put((add_y+y, add_x+x)) # 큐에 push한다.\n",
    "    return\n",
    "                \n",
    "    \n",
    "def simulation(N, M, board): # 해가 지나가면서 변하는 빙산의 상태를 탐색하는 시뮬레이션 진행\n",
    "    year = 0 # 지나간 햇수\n",
    "    while True:\n",
    "        checked = [[False for _ in range(M)] for _ in range(N)] # 좌표에 대해서 탐색한 구간인지 확인할 것임\n",
    "        num_island = 0 # 빙산의 개수\n",
    "        for y in range(N):\n",
    "            for x in range(M): # 모든 좌표에 대해서\n",
    "                if board[y][x] != 0 and not checked[y][x]: # 빙산 지역이고 아직 탐색하지 않은 곳이라면\n",
    "                    if num_island >= 1: # 이미 빙산 1개를 탐색한 상태이고, 새로운 빙산을 발견했다면\n",
    "                        return year # 현재의 햇수를 반환\n",
    "                    check_island(N, M, board, checked, y, x) # 빙산이 녹는 것을 갱신\n",
    "                    num_island += 1 # 빙산의 개수 1 증가\n",
    "        year += 1 # 햇수 1 증가\n",
    "        if num_island == 0: # 만약 빙산이 다 녹아버린 경우\n",
    "            return 0 # 0을 반환\n",
    "    return -1 # 뭔가 잘못된 경우 -1 반환\n",
    "\n",
    "N, M = tuple(int(x) for x in input().split()) # 행, 열\n",
    "board = [] # 현재 빙산의 상태\n",
    "for _ in range(N):\n",
    "    board.append([int(x) for x in input().split()])\n",
    "print(simulation(N, M, board)) # 시뮬레이션 결과 출력"
   ]
  }
 ],
 "metadata": {
  "kernelspec": {
   "display_name": "Python 3",
   "language": "python",
   "name": "python3"
  },
  "language_info": {
   "codemirror_mode": {
    "name": "ipython",
    "version": 3
   },
   "file_extension": ".py",
   "mimetype": "text/x-python",
   "name": "python",
   "nbconvert_exporter": "python",
   "pygments_lexer": "ipython3",
   "version": "3.6.9"
  }
 },
 "nbformat": 4,
 "nbformat_minor": 2
}
