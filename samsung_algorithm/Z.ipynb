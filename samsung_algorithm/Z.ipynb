{
 "cells": [
  {
   "cell_type": "markdown",
   "metadata": {},
   "source": [
    "# Z"
   ]
  },
  {
   "cell_type": "markdown",
   "metadata": {},
   "source": [
    "[baekjoon의 'Z' 링크](https://www.acmicpc.net/problem/1074)"
   ]
  },
  {
   "cell_type": "markdown",
   "metadata": {},
   "source": [
    "### 문제    \n",
    "한수는 2차원 배열 (항상 2^N * 2^N 크기이다)을 Z모양으로 탐색하려고 한다. 예를 들어, 2\\*2배열을 왼쪽 위칸, 오른쪽 위칸, 왼쪽 아래칸, 오른쪽 아래칸 순서대로 방문하면 Z모양이다.  \n",
    "  \n",
    "![](https://www.acmicpc.net/upload/201003/z1.JPG)  \n",
    "  \n",
    "만약, 2차원 배열의 크기가 2^N * 2^N라서 왼쪽 위에 있는 칸이 하나가 아니라면, 배열을 4등분 한 후에 (크기가 같은 2^(N-1)로) 재귀적으로 순서대로 방문한다.  \n",
    "  \n",
    "다음 예는 2^2 * 2^2 크기의 배열을 방문한 순서이다.  \n",
    "  \n",
    "![](https://www.acmicpc.net/upload/201003/z2.JPG)  \n",
    "  \n",
    "N이 주어졌을 때, (r, c)를 몇 번째로 방문하는지 출력하는 프로그램을 작성하시오.  \n",
    "  \n",
    "다음 그림은 N=3일 때의 예이다.  \n",
    "  \n",
    "![](https://www.acmicpc.net/upload/201003/z3.JPG)  \n",
    "  \n",
    "### 입력  \n",
    "첫째 줄에 N r c가 주어진다. N은 15보다 작거나 같은 자연수이고, r과 c는 0보다 크거나 같고, 2^N-1보다 작거나 같은 정수이다  \n",
    "  \n",
    "### 출력  \n",
    "첫째 줄에 문제의 정답을 출력한다.  \n",
    "  "
   ]
  },
  {
   "cell_type": "code",
   "execution_count": 1,
   "metadata": {},
   "outputs": [
    {
     "name": "stdout",
     "output_type": "stream",
     "text": [
      "Testcase: 2\n",
      "\n",
      "Input\n",
      "N, r, c: 2 3 1\n",
      "Output\n",
      "11\n",
      "\n",
      "Input\n",
      "N, r, c: 3 7 7\n",
      "Output\n",
      "63\n",
      "\n"
     ]
    }
   ],
   "source": [
    "def make_z(N, r, c, y=0, x=0, turn=0): # Z를 그리면서 원하는 좌표의 차례를 반환\n",
    "    if y==r and x==c: # 알고싶은 좌표의 차례를 반환\n",
    "        return turn\n",
    "    if N == 0: # 만약 모두 탐색 한 후에 찾는 것이 없다면 -1 반환\n",
    "        return -1\n",
    "    move = [(0,0),(0,1),(1,0),(1,1)]\n",
    "    for i in range(4): # Z방향으로 움직임\n",
    "        add_y, add_x = move[i] # 움직임\n",
    "        val = make_z(N-1, r, c, y+add_y*pow(2, N-1), x+add_x*pow(2, N-1), turn + i*pow(4, N-1))\n",
    "        # 재귀적으로 Z방향으로 움직여서 원하는 좌표의 인덱스를 찾는다.\n",
    "        if val != -1:\n",
    "            return val # 답을 찾았을 때 답 반환\n",
    "    return -1 # 답을 못찾았다면 -1 반환\n",
    "        \n",
    "T = int(input(\"Testcase: \"))\n",
    "print()\n",
    "while T > 0:\n",
    "    print(\"Input\")\n",
    "    N, r, c = tuple(int(x) for x in input(\"N, r, c: \").split())\n",
    "    # (2^N) * (2^N) 크기의 사각형, 찾을 좌표 (r, c)\n",
    "    print(\"Output\")\n",
    "    print(make_z(N, r, c)) # 답 출력\n",
    "    print()\n",
    "    T -= 1"
   ]
  }
 ],
 "metadata": {
  "kernelspec": {
   "display_name": "Python 3",
   "language": "python",
   "name": "python3"
  },
  "language_info": {
   "codemirror_mode": {
    "name": "ipython",
    "version": 3
   },
   "file_extension": ".py",
   "mimetype": "text/x-python",
   "name": "python",
   "nbconvert_exporter": "python",
   "pygments_lexer": "ipython3",
   "version": "3.6.9"
  }
 },
 "nbformat": 4,
 "nbformat_minor": 2
}
