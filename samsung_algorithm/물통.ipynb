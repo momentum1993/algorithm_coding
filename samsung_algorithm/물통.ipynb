{
 "cells": [
  {
   "cell_type": "markdown",
   "metadata": {},
   "source": [
    "# 물통"
   ]
  },
  {
   "cell_type": "markdown",
   "metadata": {},
   "source": [
    "[baekjoon의 '물통' 링크](https://www.acmicpc.net/problem/2251)"
   ]
  },
  {
   "cell_type": "markdown",
   "metadata": {},
   "source": [
    "### 문제   \n",
    "각각 부피가 A, B, C(1≤A, B, C≤200) 리터인 세 개의 물통이 있다. 처음에는 앞의 두 물통은 비어 있고, 세 번째 물통은 가득(C 리터) 차 있다. 이제 어떤 물통에 들어있는 물을 다른 물통으로 쏟아 부을 수 있는데, 이때에는 한 물통이 비거나, 다른 한 물통이 가득 찰 때까지 물을 부을 수 있다. 이 과정에서 손실되는 물은 없다고 가정한다.\n",
    "  \n",
    "이와 같은 과정을 거치다보면 세 번째 물통(용량이 C인)에 담겨있는 물의 양이 변할 수도 있다. 첫 번째 물통(용량이 A인)이 비어 있을 때, 세 번째 물통(용량이 C인)에 담겨있을 수 있는 물의 양을 모두 구해내는 프로그램을 작성하시오.  \n",
    "  \n",
    "### 입력  \n",
    "첫째 줄에 세 정수 A, B, C가 주어진다.  \n",
    "  \n",
    "### 출력  \n",
    "첫째 줄에 공백으로 구분하여 답을 출력한다. 각 용량은 오름차순으로 정렬한다.  "
   ]
  },
  {
   "cell_type": "code",
   "execution_count": 1,
   "metadata": {},
   "outputs": [
    {
     "name": "stdout",
     "output_type": "stream",
     "text": [
      "8 9 10\n",
      "[1, 2, 8, 9, 10]\n"
     ]
    }
   ],
   "source": [
    "from queue import Queue\n",
    "\n",
    "A_size, B_size, C_size = tuple(int(x) for x in input().split()) # A,B,C 물통의 용량\n",
    "state = (0, 0, C_size) # 현재 물통의 상태\n",
    "states = set() # 물통의 상태들을 저장해 놓고 탐색할 때 체크할 것이다.\n",
    "answers = set() # 첫 번째 물통이 비어 있을 때 세 번째 물통의 상태\n",
    "\n",
    "\n",
    "q = Queue() # 큐\n",
    "q.put(state) # 큐에 현재 물의 상태를 push\n",
    "while not q.empty():\n",
    "    curr_A, curr_B, curr_C = q.get() # 큐에서 pop\n",
    "    if (curr_A, curr_B, curr_C) in states: # 만약 이미 탐색한 상태라면 다음 상태에 대해 탐색한다\n",
    "        continue\n",
    "    states.add((curr_A, curr_B, curr_C)) # 현재 상태를 탐색했음을 체크하기 위해 저장\n",
    "    if curr_A == 0: # 물통 A가 비어있을 때\n",
    "        answers.add(curr_C) # C의 물의 양을 답으로 저장\n",
    "        \n",
    "    else: # curr_A != 0 # 현재 A가 비어있지 않다면\n",
    "        if curr_B < B_size: # B에 물을 부을 공간이 있다면\n",
    "            if curr_A + curr_B <= B_size: # A+B의 물의 양이 B의 사이즈보다 작다면\n",
    "                q.put((0, curr_A + curr_B, curr_C))\n",
    "            else: # A+B의 물의 양이 B의 사이즈보다 크다면\n",
    "                q.put((curr_A - (B_size - curr_B), B_size, curr_C))\n",
    "        if curr_C < C_size: # C에 물을 부을 공간이 있다면\n",
    "            if curr_A + curr_C <= C_size: # A+C의 물의 양이 C의 사이즈보다 작다면\n",
    "                q.put((0, curr_B, curr_A + curr_C))\n",
    "            else: # A+C의 물의 양이 C의 사이즈보다 크다면\n",
    "                q.put((curr_A - (C_size - curr_C), curr_B, C_size))\n",
    "                \n",
    "    if curr_B != 0: # 현재 B가 비어 있지 않다면\n",
    "        if curr_A < A_size: # A에 물을 부을 공간이 있다면\n",
    "            if curr_B + curr_A <= A_size: # B+A의 물의 양이 A의 사이즈보다 작다면\n",
    "                q.put((curr_A + curr_B, 0, curr_C))\n",
    "            else: # B+A의 물의 양이 A의 사이즈보다 크다면\n",
    "                q.put((A_size, curr_B - (A_size - curr_A), curr_C))\n",
    "        if curr_C < C_size: # C에 물을 부을 공간이 있다면\n",
    "            if curr_B + curr_C <= C_size: # B+C의 물의 양이 C의 사이즈보다 작다면\n",
    "                q.put((curr_A, 0, curr_B + curr_C))\n",
    "            else: # B+C의 물의 양이 C의 사이즈보다 크다면\n",
    "                q.put((curr_A, curr_B - (C_size - curr_C), C_size))\n",
    "                \n",
    "    if curr_C != 0: # 현재 C가 비어 있지 않다면\n",
    "        if curr_A < A_size: # A에 물을 부을 공간이 있다면\n",
    "            if curr_C + curr_A <= A_size: # C+A의 물의 양이 A의 사이즈보다 작다면\n",
    "                q.put((curr_A + curr_C, curr_B, 0))\n",
    "            else: # C+A의 물의 양이 A의 사이즈보다 크다면\n",
    "                q.put((A_size, curr_B, curr_C - (A_size - curr_A)))\n",
    "        if curr_B < B_size: # C에 물을 부을 공간이 있다면\n",
    "            if curr_C + curr_B <= B_size: # C+B의 물의 양이 B의 사이즈보다 작다면\n",
    "                q.put((curr_A, curr_B + curr_C, 0))\n",
    "            else: # C+B의 물의 양이 B의 사이즈보다 크다면\n",
    "                q.put((curr_A, B_size, curr_C - (B_size - curr_B)))\n",
    "\n",
    "answers = sorted(list(answers)) # 오름차순으로 정렬\n",
    "print(answers) # 답 출력"
   ]
  }
 ],
 "metadata": {
  "kernelspec": {
   "display_name": "Python 3",
   "language": "python",
   "name": "python3"
  },
  "language_info": {
   "codemirror_mode": {
    "name": "ipython",
    "version": 3
   },
   "file_extension": ".py",
   "mimetype": "text/x-python",
   "name": "python",
   "nbconvert_exporter": "python",
   "pygments_lexer": "ipython3",
   "version": "3.6.9"
  }
 },
 "nbformat": 4,
 "nbformat_minor": 2
}
