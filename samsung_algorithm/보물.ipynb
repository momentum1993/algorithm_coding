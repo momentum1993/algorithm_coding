{
 "cells": [
  {
   "cell_type": "markdown",
   "metadata": {},
   "source": [
    "# 보물"
   ]
  },
  {
   "cell_type": "markdown",
   "metadata": {},
   "source": [
    "[baekjoon의 '보물' 링크](https://www.acmicpc.net/problem/1026)"
   ]
  },
  {
   "cell_type": "markdown",
   "metadata": {},
   "source": [
    "### 문제    \n",
    "옛날 옛적에 수학이 항상 큰 골칫거리였던 나라가 있었다. 이 나라의 국왕 김지민은 다음과 같은 문제를 내고 큰 상금을 걸었다.  \n",
    "  \n",
    "길이가 N인 정수 배열 A와 B가 있다. 다음과 같이 함수 S를 정의하자.  \n",
    "  \n",
    "S = A[0]\\*B[0] + ... + A[N-1]\\*B[N-1]  \n",
    "  \n",
    "S의 값을 가장 작게 만들기 위해 A의 수를 재배열하자. 단, B에 있는 수는 재배열하면 안 된다.  \n",
    "  \n",
    "S의 최솟값을 출력하는 프로그램을 작성하시오.  \n",
    "  \n",
    "### 입력  \n",
    "첫째 줄에 N이 주어진다. 둘째 줄에는 A에 있는 N개의 수가 순서대로 주어지고, 셋째 줄에는 B에 있는 수가 순서대로 주어진다. N은 50보다 작거나 같은 자연수이고, A와 B의 각 원소는 100보다 작거나 같은 음이 아닌 정수이다.  \n",
    "  \n",
    "### 출력  \n",
    "첫째 줄에 S의 최솟값을 출력한다.  \n",
    "  "
   ]
  },
  {
   "cell_type": "code",
   "execution_count": 4,
   "metadata": {},
   "outputs": [
    {
     "name": "stdout",
     "output_type": "stream",
     "text": [
      "5\n",
      "1 1 1 6 0\n",
      "2 7 8 3 1\n",
      "18\n"
     ]
    }
   ],
   "source": [
    "from itertools import permutations # 순열\n",
    "\n",
    "def cal_answer(N, A, B, turn): # turn에 있는 인덱스 순으로 A[turn[i]] * B[i]의 값을 반환\n",
    "    answer = 0\n",
    "    for i in range(N):\n",
    "        answer += A[turn[i]] * B[i]\n",
    "    return answer\n",
    "    \n",
    "N = int(input()) # 숫자의 개수\n",
    "A = [int(x) for x in input().split()] # A\n",
    "B = [int(x) for x in input().split()] # B\n",
    "answer = N*100*100 # 답\n",
    "for turn in list(permutations(list(range(N)), N)):\n",
    "    answer = min(answer, cal_answer(N, A, B, turn))\n",
    "    # 순열을 통한 모든 경우의 수에 대해서 답을 구하고 그 중에 최소값을 구한다.\n",
    "print(answer) # 답 출력"
   ]
  }
 ],
 "metadata": {
  "kernelspec": {
   "display_name": "Python 3",
   "language": "python",
   "name": "python3"
  },
  "language_info": {
   "codemirror_mode": {
    "name": "ipython",
    "version": 3
   },
   "file_extension": ".py",
   "mimetype": "text/x-python",
   "name": "python",
   "nbconvert_exporter": "python",
   "pygments_lexer": "ipython3",
   "version": "3.6.9"
  }
 },
 "nbformat": 4,
 "nbformat_minor": 2
}
