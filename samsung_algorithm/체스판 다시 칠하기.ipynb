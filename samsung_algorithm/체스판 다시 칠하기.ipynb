{
 "cells": [
  {
   "cell_type": "markdown",
   "metadata": {},
   "source": [
    "# 체스판 다시 칠하기"
   ]
  },
  {
   "cell_type": "markdown",
   "metadata": {},
   "source": [
    "[baekjoon의 '체스판 다시 칠하기' 링크](https://www.acmicpc.net/problem/1018)"
   ]
  },
  {
   "cell_type": "markdown",
   "metadata": {},
   "source": [
    "### 문제    \n",
    "지민이는 자신의 저택에서 MN개의 단위 정사각형으로 나누어져 있는 M\\*N 크기의 보드를 찾았다. 어떤 정사각형은 검은색으로 칠해져 있고, 나머지는 흰색으로 칠해져 있다. 지민이는 이 보드를 잘라서 8\\*8 크기의 체스판으로 만들려고 한다.  \n",
    "  \n",
    "체스판은 검은색과 흰색이 번갈아서 칠해져 있어야 한다. 구체적으로, 각 칸이 검은색과 흰색 중 하나로 색칠되어 있고, 변을 공유하는 두 개의 사각형은 다른 색으로 칠해져 있어야 한다. 따라서 이 정의를 따르면 체스판을 색칠하는 경우는 두 가지뿐이다. 하나는 맨 왼쪽 위 칸이 흰색인 경우, 하나는 검은색인 경우이다.  \n",
    "  \n",
    "보드가 체스판처럼 칠해져 있다는 보장이 없어서, 지민이는 8\\*8 크기의 체스판으로 잘라낸 후에 몇 개의 정사각형을 다시 칠해야겠다고 생각했다. 당연히 8\\*8 크기는 아무데서나 골라도 된다. 지민이가 다시 칠해야 하는 정사각형의 최소 개수를 구하는 프로그램을 작성하시오.  \n",
    "  \n",
    "### 입력  \n",
    "첫째 줄에 N과 M이 주어진다. N과 M은 8보다 크거나 같고, 50보다 작거나 같은 자연수이다. 둘째 줄부터 N개의 줄에는 보드의 각 행의 상태가 주어진다. B는 검은색이며, W는 흰색이다.  \n",
    "  \n",
    "### 출력  \n",
    "첫째 줄에 지민이가 다시 칠해야 하는 정사각형 개수의 최솟값을 출력한다.  \n",
    "  "
   ]
  },
  {
   "cell_type": "code",
   "execution_count": 1,
   "metadata": {},
   "outputs": [
    {
     "name": "stdout",
     "output_type": "stream",
     "text": [
      "Testcase num: 2\n",
      "\n",
      "Input\n",
      "N, M: 8 8\n",
      "WBWBWBWB\n",
      "BWBWBWBW\n",
      "WBWBWBWB\n",
      "BWBBBWBW\n",
      "WBWBWBWB\n",
      "BWBWBWBW\n",
      "WBWBWBWB\n",
      "BWBWBWBW\n",
      "\n",
      "Output\n",
      "1\n",
      "========================\n",
      "Input\n",
      "N, M: 10 13\n",
      "BBBBBBBBWBWBW\n",
      "BBBBBBBBBWBWB\n",
      "BBBBBBBBWBWBW\n",
      "BBBBBBBBBWBWB\n",
      "BBBBBBBBWBWBW\n",
      "BBBBBBBBBWBWB\n",
      "BBBBBBBBWBWBW\n",
      "BBBBBBBBBWBWB\n",
      "WWWWWWWWWWBWB\n",
      "WWWWWWWWWWBWB\n",
      "\n",
      "Output\n",
      "12\n",
      "========================\n"
     ]
    }
   ],
   "source": [
    "def check_num(board, y, x, end_y, end_x, before): # 체스판을 만들기 위해 수정해야하는 최소 블럭 수 구하는 함수\n",
    "    if x == end_x or y == end_y: # 끝까지 탐색했다면 0 반환\n",
    "        return 0\n",
    "    \n",
    "    temp1, temp2 = 64, 64\n",
    "    if board[y][x] != before: # 체스판이 맞을 경우\n",
    "        temp1 = check_num(board, y, x+1, end_y, end_x, board[y][x])\n",
    "        # 우측 방향으로 재귀적으로 확인\n",
    "        if x == end_x-8 and y < end_y: # 만약 가장 왼쪽 부분 확인 중일 때는\n",
    "            temp1 += check_num(board, y+1, x, end_y, end_x, board[y][x])\n",
    "            # 아래쪽 방향으로 재귀적으로 확인\n",
    "    else: # board[y][x] == before # 체스판이 틀릴 경우(=수정해야 할 경우)\n",
    "        if before == 'W':\n",
    "            before = 'B'\n",
    "        else:\n",
    "            before = 'W'\n",
    "        # 후에 비교할 블럭의 색을 뒤바꿈\n",
    "        temp2 = 1 + check_num(board, y, x+1, end_y, end_x, before)\n",
    "        # 우측 방향으로 재귀적으로 확인\n",
    "        if x == end_x-8 and y < end_y: # 만약 가장 왼쪽 부분 확인 중일 때는\n",
    "            temp2 += check_num(board, y+1, x, end_y, end_x, before)\n",
    "            # 아래쪽 방향으로 재귀적으로 확인\n",
    "    answer = min(temp1, temp2) # 최소값\n",
    "    return answer # 답 반환\n",
    "\n",
    "T = int(input(\"Testcase num: \")) # 테스트 케이스\n",
    "print()\n",
    "while T > 0:\n",
    "    print(\"Input\")\n",
    "    N, M = tuple(int(x) for x in input(\"N, M: \").split()) # 행, 열\n",
    "    answer = N * M # 답\n",
    "    board = [] # 보드\n",
    "    for _ in range(N):\n",
    "        board.append(list(input()))\n",
    "\n",
    "    for y in range(N-8+1): # (0, 0) 부터 8X8크기로 차례대로 보드를 확인\n",
    "        for x in range(M-8+1):\n",
    "            answer = min(answer, check_num(board, y, x, y+8, x+8, 'B'), check_num(board, y, x, y+8, x+8, 'W'))\n",
    "            #  보드 확인해서 최소값을 구한다..\n",
    "    print(\"\\nOutput\")\n",
    "    print(answer) # 답 출력\n",
    "    print(\"========================\")\n",
    "    T -= 1\n"
   ]
  }
 ],
 "metadata": {
  "kernelspec": {
   "display_name": "Python 3",
   "language": "python",
   "name": "python3"
  },
  "language_info": {
   "codemirror_mode": {
    "name": "ipython",
    "version": 3
   },
   "file_extension": ".py",
   "mimetype": "text/x-python",
   "name": "python",
   "nbconvert_exporter": "python",
   "pygments_lexer": "ipython3",
   "version": "3.6.9"
  }
 },
 "nbformat": 4,
 "nbformat_minor": 2
}
