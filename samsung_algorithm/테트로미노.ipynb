{
 "cells": [
  {
   "cell_type": "markdown",
   "metadata": {},
   "source": [
    "# 테트로미노"
   ]
  },
  {
   "cell_type": "markdown",
   "metadata": {},
   "source": [
    "[baekjoon의 '테트로미노' 링크](https://www.acmicpc.net/problem/14500)"
   ]
  },
  {
   "cell_type": "markdown",
   "metadata": {},
   "source": [
    "### 문제  \n",
    "폴리오미노란 크기가 1×1인 정사각형을 여러 개 이어서 붙인 도형이며, 다음과 같은 조건을 만족해야 한다.  \n",
    "  \n",
    "정사각형은 서로 겹치면 안 된다.  \n",
    "도형은 모두 연결되어 있어야 한다.  \n",
    "정사각형의 변끼리 연결되어 있어야 한다. 즉, 꼭짓점과 꼭짓점만 맞닿아 있으면 안 된다.\n",
    "정사각형 4개를 이어 붙인 폴리오미노는 테트로미노라고 하며, 다음과 같은 5가지가 있다.  \n",
    "  \n",
    "![](https://onlinejudgeimages.s3-ap-northeast-1.amazonaws.com/problem/14500/1.png)  \n",
    "  \n",
    "아름이는 크기가 N×M인 종이 위에 테트로미노 하나를 놓으려고 한다. 종이는 1×1 크기의 칸으로 나누어져 있으며, 각각의 칸에는 정수가 하나 쓰여 있다.  \n",
    "  \n",
    "테트로미노 하나를 적절히 놓아서 테트로미노가 놓인 칸에 쓰여 있는 수들의 합을 최대로 하는 프로그램을 작성하시오.  \n",
    "  \n",
    "테트로미노는 반드시 한 정사각형이 정확히 하나의 칸을 포함하도록 놓아야 하며, 회전이나 대칭을 시켜도 된다.  \n",
    "  \n",
    "### 입력  \n",
    "첫째 줄에 종이의 세로 크기 N과 가로 크기 M이 주어진다. (4 ≤ N, M ≤ 500)  \n",
    "  \n",
    "둘째 줄부터 N개의 줄에 종이에 쓰여 있는 수가 주어진다. i번째 줄의 j번째 수는 위에서부터 i번째 칸, 왼쪽에서부터 j번째 칸에 쓰여 있는 수이다. 입력으로 주어지는 수는 1,000을 넘지 않는 자연수이다.  \n",
    "  \n",
    "### 출력  \n",
    "첫째 줄에 테트로미노가 놓인 칸에 쓰인 수들의 합의 최댓값을 출력한다.  \n",
    "  "
   ]
  },
  {
   "cell_type": "code",
   "execution_count": 1,
   "metadata": {},
   "outputs": [],
   "source": [
    "tetrominoes = [] # 테트로미노들\n",
    "\n",
    "def rotation_tetromino(tetromino): # 하나의 테트로미노에 대해서 회전시킴\n",
    "    rotated = [[] for _ in range(3)]\n",
    "    for y, x in tetromino:\n",
    "        rotated[0].append((x, -y)) # 시계방향 90도\n",
    "        rotated[1].append((-y, -x)) # 시계방향 180도\n",
    "        rotated[2].append((-x, y)) # 시계방향 270도\n",
    "    return rotated\n",
    "\n",
    "def make_tetromino(N, M, board): # 테트로미노 생성\n",
    "    tetrominoes = [[(0,0),(1,0),(2,0),(2,1)],[(0,0),(1,0),(1,1),(2,1)],[(0,0),(0,1),(0,2),(1,1)],[(0,0),(1,0),(2,0),(2,-1)],[(0,0),(1,0),(1,-1),(2,-1)]]\n",
    "    for i in range(len(tetrominoes)):\n",
    "        tetrominoes += rotation_tetromino(tetrominoes[i])\n",
    "    tetrominoes += [[(0,0),(0,1),(0,2),(0,3)], [(0,0),(1,0),(2,0),(3,0)], [(0,0),(0,1),(1,0),(1,1)]]\n",
    "    return tetrominoes\n",
    "\n",
    "def sum_tetromino(board, tetromino, y, x, N, M): # 해당 테트로미노에 대해서 해당 칸들의 합\n",
    "    total = 0\n",
    "    for add_y, add_x in tetromino:\n",
    "        if add_y+y < 0 or add_y+y >= N or add_x+x < 0 or add_x+x >= M:\n",
    "            return 0 # 범위 벗어나면 0 반환\n",
    "        total += board[add_y+y][add_x+x]\n",
    "    return total # 합\n",
    "\n",
    "def cal_max(N, M, board, y=0, x=0): # 테트로미노로 덮을 수 있는 칸의 최대값\n",
    "    global tetrominoes \n",
    "    answer = 0  \n",
    "    for y in range(N):\n",
    "        for x in range(M): # 모든 보드의 좌표에 대해서\n",
    "            for tetromino in tetrominoes: # 모든 테트로미노로 덮어본다.\n",
    "                answer = max(answer, sum_tetromino(board, tetromino, y, x, N, M))\n",
    "                # 덮인 칸들의 합의 최대값\n",
    "    return answer # 답 반환\n",
    "            \n",
    "def solution(N, M, board):\n",
    "    global tetrominoes\n",
    "    board = [[int(x) for x in x.split()] for x in board.split(\"\\n\")]\n",
    "    tetrominoes = make_tetromino(N, M, board)\n",
    "    return cal_max(N, M, board) # 답 반환"
   ]
  },
  {
   "cell_type": "code",
   "execution_count": 2,
   "metadata": {},
   "outputs": [],
   "source": [
    "N, M = 5, 5\n",
    "board = '''1 2 3 4 5\n",
    "5 4 3 2 1\n",
    "2 3 4 5 6\n",
    "6 5 4 3 2\n",
    "1 2 1 2 1'''"
   ]
  },
  {
   "cell_type": "code",
   "execution_count": 3,
   "metadata": {},
   "outputs": [
    {
     "data": {
      "text/plain": [
       "19"
      ]
     },
     "execution_count": 3,
     "metadata": {},
     "output_type": "execute_result"
    }
   ],
   "source": [
    "solution(N, M, board)"
   ]
  },
  {
   "cell_type": "code",
   "execution_count": 4,
   "metadata": {},
   "outputs": [],
   "source": [
    "N, M = 4, 5\n",
    "board = '''1 2 3 4 5\n",
    "1 2 3 4 5\n",
    "1 2 3 4 5\n",
    "1 2 3 4 5'''"
   ]
  },
  {
   "cell_type": "code",
   "execution_count": 5,
   "metadata": {},
   "outputs": [
    {
     "data": {
      "text/plain": [
       "20"
      ]
     },
     "execution_count": 5,
     "metadata": {},
     "output_type": "execute_result"
    }
   ],
   "source": [
    "solution(N, M, board)"
   ]
  },
  {
   "cell_type": "code",
   "execution_count": 6,
   "metadata": {},
   "outputs": [],
   "source": [
    "N, M = 4, 10\n",
    "board = '''1 2 1 2 1 2 1 2 1 2\n",
    "2 1 2 1 2 1 2 1 2 1\n",
    "1 2 1 2 1 2 1 2 1 2\n",
    "2 1 2 1 2 1 2 1 2 1'''"
   ]
  },
  {
   "cell_type": "code",
   "execution_count": 7,
   "metadata": {},
   "outputs": [
    {
     "data": {
      "text/plain": [
       "7"
      ]
     },
     "execution_count": 7,
     "metadata": {},
     "output_type": "execute_result"
    }
   ],
   "source": [
    "solution(N, M, board)"
   ]
  }
 ],
 "metadata": {
  "kernelspec": {
   "display_name": "Python 3",
   "language": "python",
   "name": "python3"
  },
  "language_info": {
   "codemirror_mode": {
    "name": "ipython",
    "version": 3
   },
   "file_extension": ".py",
   "mimetype": "text/x-python",
   "name": "python",
   "nbconvert_exporter": "python",
   "pygments_lexer": "ipython3",
   "version": "3.6.9"
  }
 },
 "nbformat": 4,
 "nbformat_minor": 2
}
