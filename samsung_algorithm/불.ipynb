{
 "cells": [
  {
   "cell_type": "markdown",
   "metadata": {},
   "source": [
    "# 불"
   ]
  },
  {
   "cell_type": "markdown",
   "metadata": {},
   "source": [
    "[baekjoon의 '불' 링크](https://www.acmicpc.net/problem/5427)"
   ]
  },
  {
   "cell_type": "markdown",
   "metadata": {},
   "source": [
    "### 문제   \n",
    "상근이는 빈 공간과 벽으로 이루어진 건물에 갇혀있다. 건물의 일부에는 불이 났고, 상근이는 출구를 향해 뛰고 있다.  \n",
    "  \n",
    "매 초마다, 불은 동서남북 방향으로 인접한 빈 공간으로 퍼져나간다. 벽에는 불이 붙지 않는다. 상근이는 동서남북 인접한 칸으로 이동할 수 있으며, 1초가 걸린다. 상근이는 벽을 통과할 수 없고, 불이 옮겨진 칸 또는 이제 불이 붙으려는 칸으로 이동할 수 없다. 상근이가 있는 칸에 불이 옮겨옴과 동시에 다른 칸으로 이동할 수 있다.  \n",
    "  \n",
    "빌딩의 지도가 주어졌을 때, 얼마나 빨리 빌딩을 탈출할 수 있는지 구하는 프로그램을 작성하시오.  \n",
    "  \n",
    "### 입력  \n",
    "첫째 줄에 테스트 케이스의 개수가 주어진다. 테스트 케이스는 최대 100개이다.  \n",
    "  \n",
    "각 테스트 케이스의 첫째 줄에는 빌딩 지도의 너비와 높이 w와 h가 주어진다. (1 ≤ w,h ≤ 1000)  \n",
    "  \n",
    "다음 h개 줄에는 w개의 문자, 빌딩의 지도가 주어진다.  \n",
    "  \n",
    "- '.': 빈 공간\n",
    "- '#': 벽 \n",
    "- '@': 상근이의 시작 위치\n",
    "- '\\*': 불  \n",
    "  \n",
    "각 지도에 @의 개수는 하나이다.  \n",
    "  \n",
    "### 출력  \n",
    "각 테스트 케이스마다 빌딩을 탈출하는데 가장 빠른 시간을 출력한다. 빌딩을 탈출할 수 없는 경우에는 \"IMPOSSIBLE\"을 출력한다.  "
   ]
  },
  {
   "cell_type": "code",
   "execution_count": 1,
   "metadata": {},
   "outputs": [
    {
     "name": "stdout",
     "output_type": "stream",
     "text": [
      "5\n",
      "4 3\n",
      "####\n",
      "#*@.\n",
      "####\n",
      "7 6\n",
      "###.###\n",
      "#*#.#*#\n",
      "#.....#\n",
      "#.....#\n",
      "#..@..#\n",
      "#######\n",
      "7 4\n",
      "###.###\n",
      "#....*#\n",
      "#@....#\n",
      ".######\n",
      "5 5\n",
      ".....\n",
      ".***.\n",
      ".*@*.\n",
      ".***.\n",
      ".....\n",
      "3 3\n",
      "###\n",
      "#@#\n",
      "###\n",
      "2\n",
      "5\n",
      "IMPOSSIBLE\n",
      "IMPOSSIBLE\n",
      "IMPOSSIBLE\n"
     ]
    }
   ],
   "source": [
    "from queue import PriorityQueue\n",
    "\n",
    "def simulation(w, h, board, fires, s_y, s_x): # 시뮬레이션을 통한 탈출 최소 시간 반환\n",
    "    direction = [(0,1), (1,0), (0,-1), (-1,0)] # 네 방향\n",
    "    q = PriorityQueue() # 우선순위 큐\n",
    "    q.put((0, s_y, s_x)) # (경과시간, 상근이의 y좌표, x좌표) 정보를 큐에 push\n",
    "    while not q.empty():\n",
    "        count, y, x = q.get() # (경과시간, 상근이의 y좌표, x좌표)를 큐에서 pop\n",
    "        if y == 0 or y == h-1 or x == 0 or x == w-1: # 만약 탈출 가능해졌다면(가장자리 빈칸에 도달했다면)\n",
    "            return count+1 # 탈출시간 반환\n",
    "        if len(fires) <= count+1: # 만약 count+1 초 상황 때의 불의 상황을 아직 계산해놓지 않았을 때\n",
    "            fire = set()\n",
    "            for f_y, f_x in fires[count]: # count초 상황 때의 불의 위치 좌표에 대해서\n",
    "                for add_y, add_x in direction: # 네 방향으로 불이 진행하는 것을 저장\n",
    "                    if 0 <= add_y+f_y < h and 0 <= add_x+f_x < w and board[add_y+f_y][add_x+f_x] == '.':\n",
    "                        fire.add((add_y+f_y, add_x+f_x))\n",
    "            fire = fire.union(fires[count]) # 그리고 기존에 불붙은 곳들도 같이 합쳐서\n",
    "            fires.append(fire) # 상태를 저장한다.\n",
    "                        \n",
    "        for add_y, add_x in direction: # 상근이 또한 네 방향에 대해서\n",
    "            if 0 <= add_y+y < h and 0 <= add_x+x < w and board[add_y+y][add_x+x] == '.' and not (add_y+y, add_x+x) in fires[count+1]:\n",
    "            # 불이 없는 빈칸으로 움직인다.\n",
    "                q.put((count+1, add_y+y, add_x+x))\n",
    "                # 그리고 움직인 후의 상태를 큐에 push\n",
    "    return -1 # 상근이가 탈출할 수 없다면 -1 반환\n",
    "\n",
    "T = int(input()) # 테스트케이스 개수\n",
    "answers = [] # 답\n",
    "while T > 0:\n",
    "    w, h = tuple(int(x) for x in input().split()) # 너비, 높이\n",
    "    fires = [set()] # 시간의 흐름에 따라 불이 번진 위치 좌표 집합\n",
    "    s_y, s_x = 0, 0 # 상근이의 위치\n",
    "    board = [] # 현재 상태\n",
    "    for y in range(h):\n",
    "        row = list(input())\n",
    "        for x in range(w):\n",
    "            if row[x] == '@': # 상근이\n",
    "                s_y, s_x = y, x # 상근이 위치 갱신\n",
    "                row[x] = '.'\n",
    "            elif row[x] == '*': # 불\n",
    "                fires[0].add((y, x)) # 0초가 지났을 때 불의 위치를 저장\n",
    "                row[x] = '.'\n",
    "        board.append(row)\n",
    "    answer = simulation(w, h, board, fires, s_y, s_x) # 시뮬에이션 진행 후 답 반환받음\n",
    "    if answer == -1: # 만약 상근이가 탈출할 수 없다면\n",
    "        answers.append(\"IMPOSSIBLE\") # \"IMPOSSIBLE\"\n",
    "    else: # 탈출 가능하다면\n",
    "        answers.append(answer) # 탈출할 수 있는 최소 시간\n",
    "    T -= 1\n",
    "for a in answers:\n",
    "    print(a) # 답 출력"
   ]
  }
 ],
 "metadata": {
  "kernelspec": {
   "display_name": "Python 3",
   "language": "python",
   "name": "python3"
  },
  "language_info": {
   "codemirror_mode": {
    "name": "ipython",
    "version": 3
   },
   "file_extension": ".py",
   "mimetype": "text/x-python",
   "name": "python",
   "nbconvert_exporter": "python",
   "pygments_lexer": "ipython3",
   "version": "3.6.9"
  }
 },
 "nbformat": 4,
 "nbformat_minor": 2
}
