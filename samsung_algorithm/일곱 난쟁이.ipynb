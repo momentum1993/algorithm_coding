{
 "cells": [
  {
   "cell_type": "markdown",
   "metadata": {},
   "source": [
    "# 일곱 난쟁이"
   ]
  },
  {
   "cell_type": "markdown",
   "metadata": {},
   "source": [
    "[baekjoon의 '일곱 난쟁이' 링크](https://www.acmicpc.net/problem/2309)"
   ]
  },
  {
   "cell_type": "markdown",
   "metadata": {},
   "source": [
    "### 문제   \n",
    "왕비를 피해 일곱 난쟁이들과 함께 평화롭게 생활하고 있던 백설공주에게 위기가 찾아왔다. 일과를 마치고 돌아온 난쟁이가 일곱 명이 아닌 아홉 명이었던 것이다.  \n",
    "  \n",
    "아홉 명의 난쟁이는 모두 자신이 \"백설 공주와 일곱 난쟁이\"의 주인공이라고 주장했다. 뛰어난 수학적 직관력을 가지고 있던 백설공주는, 다행스럽게도 일곱 난쟁이의 키의 합이 100이 됨을 기억해 냈다.  \n",
    "  \n",
    "아홉 난쟁이의 키가 주어졌을 때, 백설공주를 도와 일곱 난쟁이를 찾는 프로그램을 작성하시오.  \n",
    "  \n",
    "### 입력  \n",
    "아홉 개의 줄에 걸쳐 난쟁이들의 키가 주어진다. 주어지는 키는 100을 넘지 않는 자연수이며, 아홉 난쟁이의 키는 모두 다르며, 가능한 정답이 여러 가지인 경우에는 아무거나 출력한다.  \n",
    "  \n",
    "### 출력  \n",
    "일곱 난쟁이의 키를 오름차순으로 출력한다. 일곱 난쟁이를 찾을 수 없는 경우는 없다.  "
   ]
  },
  {
   "cell_type": "code",
   "execution_count": 1,
   "metadata": {},
   "outputs": [
    {
     "name": "stdout",
     "output_type": "stream",
     "text": [
      "Input\n",
      "20\n",
      "7\n",
      "23\n",
      "19\n",
      "10\n",
      "15\n",
      "25\n",
      "8\n",
      "13\n",
      "\n",
      "\n",
      "Output\n",
      "7\n",
      "8\n",
      "10\n",
      "13\n",
      "19\n",
      "20\n",
      "23\n"
     ]
    }
   ],
   "source": [
    "from itertools import combinations\n",
    "        \n",
    "answer = [] # 답\n",
    "dwarfs = [] # 난쟁이의 키 리스트\n",
    "total = 0 # 난쟁이 키의 총합\n",
    "print(\"Input\")\n",
    "for _ in range(9):\n",
    "    height = int(input())\n",
    "    dwarfs.append(height)\n",
    "    total += height\n",
    "print(\"\\n\")\n",
    "\n",
    "print(\"Output\")\n",
    "except_list = list(combinations(range(9), 2)) # 9명 중 2명을 뽑는 조합 리스트\n",
    "for a,b in except_list: # 2명을 뽑는 조합 리스트에 대해서\n",
    "    if total - dwarfs[a] - dwarfs[b] == 100: # 만약 2명을 제외한 키의 합이 100이라면\n",
    "        answer += dwarfs[:a] + dwarfs[a+1:b] + dwarfs[b+1:] # 해당하는 난쟁이들의 키 리스트를 생성\n",
    "        break\n",
    "answer = sorted(answer) # 오름차순 정렬\n",
    "for h in answer:\n",
    "    print(h) # 답 출력"
   ]
  }
 ],
 "metadata": {
  "kernelspec": {
   "display_name": "Python 3",
   "language": "python",
   "name": "python3"
  },
  "language_info": {
   "codemirror_mode": {
    "name": "ipython",
    "version": 3
   },
   "file_extension": ".py",
   "mimetype": "text/x-python",
   "name": "python",
   "nbconvert_exporter": "python",
   "pygments_lexer": "ipython3",
   "version": "3.6.9"
  }
 },
 "nbformat": 4,
 "nbformat_minor": 2
}
