{
 "cells": [
  {
   "cell_type": "markdown",
   "metadata": {},
   "source": [
    "# 사탕 게임"
   ]
  },
  {
   "cell_type": "markdown",
   "metadata": {},
   "source": [
    "[baekjoon의 '사탕 게임' 링크](https://www.acmicpc.net/problem/3085)"
   ]
  },
  {
   "cell_type": "markdown",
   "metadata": {},
   "source": [
    "### 문제   \n",
    "상근이는 어렸을 적에 \"봄보니 (Bomboni)\" 게임을 즐겨했다.  \n",
    "  \n",
    "가장 처음에 N×N크기에 사탕을 채워 놓는다. 사탕의 색은 모두 같지 않을 수도 있다. 상근이는 사탕의 색이 다른 인접한 두 칸을 고른다. 그 다음 고른 칸에 들어있는 사탕을 서로 교환한다. 이제, 모두 같은 색으로 이루어져 있는 가장 긴 연속 부분(행 또는 열)을 고른 다음 그 사탕을 모두 먹는다.  \n",
    "  \n",
    "사탕이 채워진 상태가 주어졌을 때, 상근이가 먹을 수 있는 사탕의 최대 개수를 구하는 프로그램을 작성하시오.  \n",
    "  \n",
    "### 입력  \n",
    "첫째 줄에 보드의 크기 N이 주어진다. (3 ≤ N ≤ 50)  \n",
    "  \n",
    "다음 N개 줄에는 보드에 채워져 있는 사탕의 색상이 주어진다. 빨간색은 C, 파란색은 P, 초록색은 Z, 노란색은 Y로 주어진다.  \n",
    "  \n",
    "사탕의 색이 다른 인접한 두 칸이 존재하는 입력만 주어진다.  \n",
    "  \n",
    "### 출력  \n",
    "첫째 줄에 상근이가 먹을 수 있는 사탕의 최대 개수를 출력한다.  "
   ]
  },
  {
   "cell_type": "code",
   "execution_count": 1,
   "metadata": {},
   "outputs": [
    {
     "name": "stdout",
     "output_type": "stream",
     "text": [
      "5\n",
      "YCPZY\n",
      "CYZZP\n",
      "CCPPP\n",
      "YCYZC\n",
      "CPPZZ\n",
      "4\n"
     ]
    }
   ],
   "source": [
    "def continuous_block(N, board): # 연속된 블럭의 최대 개수 반환\n",
    "    ch = None # 현재 탐색중인 사탕 색깔\n",
    "    answer = 0 # 답\n",
    "    # 행에 대해서 연속된 색 최대 개수 탐색\n",
    "    for y in range(N):\n",
    "        c_num = 0\n",
    "        for x in range(N):\n",
    "            if board[y][x] == ch: # 인접한 칸과 같은 색\n",
    "                c_num += 1\n",
    "            else: # 다른 색일 때\n",
    "                answer = max(answer, c_num)\n",
    "                c_num = 1\n",
    "                ch = board[y][x]\n",
    "        answer = max(answer, c_num)\n",
    "    \n",
    "    # 열에 대해서 연속된 색 최대 개수 탐색\n",
    "    for x in range(N):\n",
    "        c_num = 0\n",
    "        for y in range(N):\n",
    "            if board[y][x] == ch: # 인접한 칸과 같은 색\n",
    "                c_num += 1\n",
    "            else: # 다른 색일 때\n",
    "                answer = max(answer, c_num)\n",
    "                c_num = 1\n",
    "                ch = board[y][x]\n",
    "        answer = max(answer, c_num)\n",
    "    return answer # 답 반환\n",
    "\n",
    "def simulation(N, board, y, x): # (y, x)와 인접한 칸과 블록을 교환했을 때의 시뮬레이션\n",
    "    answer = 0 # 답\n",
    "    direction = [(0,1), (1,0), (0,-1), (-1,0)] # 네 방향\n",
    "    for add_y, add_x in direction:\n",
    "        if 0 <= add_y+y < N and 0 <= add_x+x < N: # 블록 내부의 인접한 네 방향에 대해서\n",
    "            if board[add_y+y][add_x+x] != board[y][x]: # 인접한 칸이 색이 다를 경우\n",
    "                board[add_y+y][add_x+x], board[y][x] = board[y][x], board[add_y+y][add_x+x] # 서로 교환\n",
    "                answer = max(answer, continuous_block(N, board)) # 교환한 상태에서 연속된 블럭의 최대 개수\n",
    "                board[add_y+y][add_x+x], board[y][x] = board[y][x], board[add_y+y][add_x+x] # 원상태로 복구\n",
    "    return answer # 답 반환\n",
    "\n",
    "N = int(input()) # 보드의 크기\n",
    "board = [] # 보드\n",
    "for _ in range(N):\n",
    "    board.append(list(input())) # 보드 상태 입력\n",
    "answer = 0 # 답\n",
    "for y in range(N):\n",
    "    for x in range(N):\n",
    "        answer = max(answer, simulation(N, board, y, x))\n",
    "        # 모든 좌표에 대해서 시뮬레이션을 진행해보고 상근이가 먹을 수 있는 최대 개수를 구한다.\n",
    "print(answer) # 답 출력"
   ]
  }
 ],
 "metadata": {
  "kernelspec": {
   "display_name": "Python 3",
   "language": "python",
   "name": "python3"
  },
  "language_info": {
   "codemirror_mode": {
    "name": "ipython",
    "version": 3
   },
   "file_extension": ".py",
   "mimetype": "text/x-python",
   "name": "python",
   "nbconvert_exporter": "python",
   "pygments_lexer": "ipython3",
   "version": "3.6.9"
  }
 },
 "nbformat": 4,
 "nbformat_minor": 2
}
