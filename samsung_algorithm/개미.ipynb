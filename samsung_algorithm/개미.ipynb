{
 "cells": [
  {
   "cell_type": "markdown",
   "metadata": {},
   "source": [
    "# 개미"
   ]
  },
  {
   "cell_type": "markdown",
   "metadata": {},
   "source": [
    "[baekjoon의 '개미' 링크](https://www.acmicpc.net/problem/3048)"
   ]
  },
  {
   "cell_type": "markdown",
   "metadata": {},
   "source": [
    "### 문제   \n",
    "개미가 일렬로 이동할 때, 가장 앞의 개미를 제외한 나머지 개미는 모두 앞에 개미가 한 마리씩 있다.  \n",
    "  \n",
    "서로 반대 방향으로 이동하던 두 개미 그룹이 좁은 길에서 만났을 때, 개미는 어떻게 지나갈까?  \n",
    "  \n",
    "최근 연구에 의하면 위와 같은 상황이 벌어지면 개미는 서로를 점프해서 넘어간다고 한다.  \n",
    "  \n",
    "즉, 두 그룹이 만났을 때, 1초에 한번씩 개미는 서로를 뛰어 넘는다. (한 개미가 다른 개미를 뛰어 넘고, 다른 개미는 그냥 전진한다고 생각해도 된다)  \n",
    "  \n",
    "하지만 모든 개미가 점프를 하는 것은 아니다. 자신의 앞에 반대 방향으로 움직이던 개미가 있는 경우에만 점프를 하게 된다.  \n",
    "  \n",
    "첫 번째 그룹이 ABC로 움직이고, 두 번째 그룹의 개미가 DEF순으로 움직인다고 하자. 그럼, 좁은 길에서 만났을 때, 개미의 순서는 CBADEF가 된다. 1초가 지났을 때는 자신의 앞에 반대방향으로 움직이는 개미가 있는 개미는 A와 D다. 따라서, 개미의 순서는 CBDAEF가 된다. 2초가 되었을 때, 자신의 앞에 반대 방향으로 움직이는 개미는 B,D,A,E가 있다. 따라서, 개미의 순서는 CDBEAF가 된다.  \n",
    "  \n",
    "T초가 지난 후에 개미의 순서를 구하는 프로그램을 작성하시오.  \n",
    "  \n",
    "### 입력  \n",
    "첫 번째 줄에 첫 번째 그룹의 개미의 수 N1과 두 번째 그룹의 개미의 수 N2가 주어진다.  \n",
    "  \n",
    "다음 두 개 줄에는 첫 번째 그룹과 두 번째 그룹의 개미의 순서가 주어진다. 각 개미는 알파벳 대문자로 표현할 수 있으며, 두 그룹에서 중복되는 알파벳은 없다.  \n",
    "  \n",
    "마지막 줄에는 T가 주어진다. (0 ≤ T ≤ 50)  \n",
    "  \n",
    "### 출력  \n",
    "T초가 지난 후에 개미의 순서를 출력한다. 첫 번째 개미 그룹은 왼쪽에서 오른쪽으로 움직이고, 두 번째 그룹은 반대 방향으로 움직인다. "
   ]
  },
  {
   "cell_type": "code",
   "execution_count": 1,
   "metadata": {},
   "outputs": [
    {
     "name": "stdout",
     "output_type": "stream",
     "text": [
      "3 3\n",
      "ABC\n",
      "DEF\n",
      "2\n",
      "CDBEAF\n"
     ]
    }
   ],
   "source": [
    "N1, N2 = tuple(int(x) for x in input().split()) # 첫번째 그룹, 두번째 그룹 개미 수\n",
    "G1 = list(input()) # 첫번째 그룹 개미 순서\n",
    "G2 = list(input()) # 두번째 그룹 개미 순서\n",
    "T = int(input()) # T초\n",
    "G = list(range(-N1, 0)) + list(range(1, N2+1))\n",
    "# 0초일 때 개미의 순서 상황(G1의 개미 인덱스는 음수, G2의 개미 인덱스는 양수)\n",
    "\n",
    "for _ in range(T): # T초 동안\n",
    "    i = 0\n",
    "    while i < N1+N2-1: # 현재 개미의 상황에 대해 탐색\n",
    "        if G[i] < 0 and G[i+1] > 0: # 만약 G1, G2의 개미가 만났을 때\n",
    "            G[i], G[i+1] = G[i+1], G[i] # 서로의 자리를 바꿔준다.\n",
    "            i +=1\n",
    "        i += 1\n",
    "\n",
    "answer = ''\n",
    "for i in G: # T초가 지난 후의 개미의 순서 상황에 대해서\n",
    "    if i < 0: # G1의 개미\n",
    "        answer += G1[-i-1]\n",
    "    else: # G2의 개미\n",
    "        answer += G2[i-1]\n",
    "print(answer) # 답 출력"
   ]
  }
 ],
 "metadata": {
  "kernelspec": {
   "display_name": "Python 3",
   "language": "python",
   "name": "python3"
  },
  "language_info": {
   "codemirror_mode": {
    "name": "ipython",
    "version": 3
   },
   "file_extension": ".py",
   "mimetype": "text/x-python",
   "name": "python",
   "nbconvert_exporter": "python",
   "pygments_lexer": "ipython3",
   "version": "3.6.9"
  }
 },
 "nbformat": 4,
 "nbformat_minor": 2
}
