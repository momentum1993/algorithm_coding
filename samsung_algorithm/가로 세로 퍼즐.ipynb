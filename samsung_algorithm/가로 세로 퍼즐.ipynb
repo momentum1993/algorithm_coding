{
 "cells": [
  {
   "cell_type": "markdown",
   "metadata": {},
   "source": [
    "# 가로 세로 퍼즐"
   ]
  },
  {
   "cell_type": "markdown",
   "metadata": {},
   "source": [
    "[baekjoon의 '가로 세로 퍼즐' 링크](https://www.acmicpc.net/problem/2784)"
   ]
  },
  {
   "cell_type": "markdown",
   "metadata": {},
   "source": [
    "### 문제   \n",
    "아래와 같은 가로 세로 퍼즐을 풀어보자.  \n",
    "  \n",
    "![](https://www.acmicpc.net/upload/images/Screen%20Shot%202013-01-28%20at%20%EC%98%A4%ED%9B%84%205_41_36.png)  \n",
    "  \n",
    "가로줄  \n",
    "1. device used to cool a PC  \n",
    "2. solid water  \n",
    "3. to obtain  \n",
    "  \n",
    "세로줄  \n",
    "1. small, soft, sweet fruit  \n",
    "2. strong playing card  \n",
    "3. fisherman's tool  \n",
    "  \n",
    "6개의 단어가 주어졌을 때, 이를 가지고 가로 세로 퍼즐을 만드는 프로그램을 작성하시오. 단어 3개는 가로줄, 3개는 세로줄로 배치해야한다.  \n",
    "  \n",
    "### 입력  \n",
    "6개의 줄에 알파벳 대문자로 이루어진 단어가 주어진다. 이 단어는 사전순으로 정렬되어 있다.  \n",
    "  \n",
    "### 출력  \n",
    "6개 단어를 3\\*3 가로 세로 퍼즐에 놓을 수 없다면 0을 출력한다. 그렇지 않다면, 3개 줄에 퍼즐을 출력한다. 만약 가능한 답이 여러개라면 사전순으로 앞서는 것을 출력한다. 사전순으로 비교를 할 때는, 모두 한 줄로 이어붙인 9개의 단어를 생각하면 된다.  "
   ]
  },
  {
   "cell_type": "code",
   "execution_count": 1,
   "metadata": {},
   "outputs": [
    {
     "name": "stdout",
     "output_type": "stream",
     "text": [
      "Input\n",
      "\n",
      "ANA\n",
      "ANA\n",
      "DAR\n",
      "DAR\n",
      "RAD\n",
      "RAD\n",
      "\n",
      "Output\n",
      "\n",
      "DAR\n",
      "ANA\n",
      "RAD\n",
      "\n"
     ]
    }
   ],
   "source": [
    "from itertools import permutations\n",
    "from copy import deepcopy\n",
    "\n",
    "def check_puzzle(words, case): # 퍼즐이 성립되는지 확인하고 출력\n",
    "    possible = [] # 사용가능한 단어들\n",
    "    for i in range(6): # 모든 단어들 중에\n",
    "        if i in case:\n",
    "            continue\n",
    "        # 가로의 답에 해당하지 않는 단어라면\n",
    "        possible.append(words[i]) # 사용가능한 단어로 추가\n",
    "    for col in range(3): # 모든 세로줄 문제에 대해서\n",
    "        word = ''\n",
    "        for idx in case: # 가로줄의 idx번째 글자들을 차례대로 조합\n",
    "            word += words[idx][col]\n",
    "        if word in words: # 만약 조합된 단어가 세로줄의 답에 성립되는 단어라면\n",
    "            possible.remove(word) # 사용하고 사용가능한 단어 리스트에서 뺀다.\n",
    "        else: # 만약 세로줄의 답이 성립되지 않는다면\n",
    "            return None # None 반환\n",
    "    if possible == []: # 만약 모든 단어 조합이 맞다면\n",
    "        answer = ''\n",
    "        for i in case:\n",
    "            answer += words[i]\n",
    "            answer += '\\n'\n",
    "        return answer # 퍼즐의 답을 반환\n",
    "    return None # 틀리다면 None 반환\n",
    "        \n",
    "        \n",
    "\n",
    "words = [] # 단어들\n",
    "print(\"Input\\n\")\n",
    "for _ in range(6):\n",
    "    words.append(input()) # 6개의 단어들을 입력받음\n",
    "print()\n",
    "cases = list(permutations(range(6), 3))\n",
    "# 6개의 단어들 중 3개를 뽑는 순열 케이스들(자동으로 오름차순 정렬됨)\n",
    "answer = None # 답\n",
    "for case in cases: # 모든 케이스들에 대해 퍼즐 성립 여부를 확인\n",
    "    answer = check_puzzle(words, list(case))\n",
    "    if answer: # 만약 퍼즐이 성립된다면 루프를 벗어난다.\n",
    "        break\n",
    "print(\"Output\\n\")\n",
    "if answer: # 답이 있을 경우\n",
    "    print(answer) # 답 출력\n",
    "else: # 답이 없을 때\n",
    "    print(0) # 0 출력"
   ]
  }
 ],
 "metadata": {
  "kernelspec": {
   "display_name": "Python 3",
   "language": "python",
   "name": "python3"
  },
  "language_info": {
   "codemirror_mode": {
    "name": "ipython",
    "version": 3
   },
   "file_extension": ".py",
   "mimetype": "text/x-python",
   "name": "python",
   "nbconvert_exporter": "python",
   "pygments_lexer": "ipython3",
   "version": "3.6.9"
  }
 },
 "nbformat": 4,
 "nbformat_minor": 2
}
