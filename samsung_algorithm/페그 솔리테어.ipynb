{
 "cells": [
  {
   "cell_type": "markdown",
   "metadata": {},
   "source": [
    "# 페그 솔리테어"
   ]
  },
  {
   "cell_type": "markdown",
   "metadata": {},
   "source": [
    "[baekjoon의 '페그 솔리테어' 링크](https://www.acmicpc.net/problem/9207)"
   ]
  },
  {
   "cell_type": "markdown",
   "metadata": {},
   "source": [
    "### 문제   \n",
    "페그 솔리테어는 구멍이 뚫려있는 이차원 게임판에서 하는 게임이다. 각 구멍에는 핀을 하나 꽂을 수 있다.  \n",
    "  \n",
    "핀은 수평, 수직 방향으로 인접한 핀을 뛰어넘어서 그 핀의 다음 칸으로 이동하는 것만 허용된다. 인접한 핀의 다음 칸은 비어있어야 하고 그 인접한 핀은 제거된다.  \n",
    "  \n",
    "현재 게임판에 꽂혀있는 핀의 상태가 주어진다. 이때, 핀을 적절히 움직여서 게임판에 남아있는 핀의 개수를 최소로 하려고 한다. 또, 그렇게 남기기 위해 필요한 최소 이동횟수를 구하는 프로그램을 작성하시오.  \n",
    "  \n",
    "### 입력  \n",
    "첫째 줄에 테스트 케이스의 개수 1 ≤ N ≤ 100이 주어진다. 각 테스트 케이스는 게임판의 초기 상태이다.  \n",
    "  \n",
    "게임판은 모두 같은 모양을 가진다. (예제 참고) '.'는 빈 칸, 'o'는 핀이 꽂혀있는 칸, '#'는 구멍이 없는 칸이다. 핀의 개수는 최대 8이며, 각 테스트 케이스는 빈 줄로 구분되어져 있다.  \n",
    "  \n",
    "### 출력\n",
    "각 테스트 케이스에 대해서, 핀을 움직여서 남길 수 있는 핀의 최소 개수와 그 개수를 만들기 위해 필요한 최소 이동 횟수를 출력한다.  "
   ]
  },
  {
   "cell_type": "code",
   "execution_count": 1,
   "metadata": {},
   "outputs": [
    {
     "name": "stdout",
     "output_type": "stream",
     "text": [
      "Input\n",
      "3\n",
      "###...###\n",
      "..oo.....\n",
      ".....oo..\n",
      ".........\n",
      "###...###\n",
      "\n",
      "###...###\n",
      "..oo.o...\n",
      "...o.oo..\n",
      "...oo....\n",
      "###...###\n",
      "\n",
      "###o..###\n",
      ".o.oo....\n",
      "o.o......\n",
      ".o.o.....\n",
      "###...###\n",
      "\n",
      "\n",
      "Output\n",
      "1 3\n",
      "1 7\n",
      "1 7\n"
     ]
    }
   ],
   "source": [
    "from copy import deepcopy\n",
    "from queue import PriorityQueue\n",
    "\n",
    "def simulation(board, h, w, pins): # 시뮬레이션\n",
    "    q = PriorityQueue() # 우선순위 큐\n",
    "    direction = [(0,1), (0,-1), (1,0), (-1,0)] # 네 방향\n",
    "    q.put([len(pins), 0, pins]) # (핀의 개수, 움직임 횟수, 핀의 위치)를 큐에 push\n",
    "    min_pin, min_move = h*w, h*w # 최소 핀의 개수, 최소 핀의 개수가 되기 위한 최소 움직임 횟수\n",
    "    while not q.empty():\n",
    "        pin_num, move_num, pin_loc = q.get() # (핀의 개수, 움직임 횟수, 핀의 위치)를 큐에서 pop\n",
    "        if pin_num < min_pin: # 핀의 개수가 최소일 경우\n",
    "            min_pin = pin_num # 핀의 개수 갱신\n",
    "            min_move = move_num # 움직임 횟수 갱신\n",
    "        elif pin_num == min_pin: # 핀의 개수가 최소 핀의 개수와 같다면\n",
    "            move_num = min(min_move, move_num) # 최소 움직임 횟수로 갱신\n",
    "        \n",
    "        for y, x in pin_loc: # 모든 핀에 대해서\n",
    "            for add_y, add_x in direction: # 핀의 4방향에 대해\n",
    "                if 0 <= add_y+y < h and 0 <= add_x+x < w and (add_y+y, add_x+x) in pin_loc:\n",
    "                # 인접한 핀이 있을 경우\n",
    "                    if 0 <= 2*add_y+y < h and 0 <= 2*add_x+x < w and board[2*add_y+y][2*add_x+x] == '.' and not (2*add_y+y, 2*add_x+x) in pin_loc:\n",
    "                    # 그리고 인접한 핀의 다음 칸이 비어있을 경우\n",
    "                        temp_pin_loc = deepcopy(pin_loc)\n",
    "                        temp_pin_loc.remove((y, x))\n",
    "                        temp_pin_loc.remove((add_y+y, add_x+x))\n",
    "                        temp_pin_loc.append((2*add_y+y, 2*add_x+x))\n",
    "                        # (add_y+y, add_x+x) 핀을 지우고, (y, x) 핀을 (2*add_y+y, 2*add_x+x)로 옮긴다.\n",
    "                        q.put((pin_num-1, move_num+1, temp_pin_loc))\n",
    "                        # (핀의 개수-1, 움직임 횟수+1, 갱신 후의 핀의 위치)를 큐에 push\n",
    "    return min_pin, min_move # 최소 핀의 개수, 최소 핀이 되기 위한 최소 움직임 횟수 반환\n",
    "                \n",
    "print(\"Input\")     \n",
    "N = int(input()) # 테스트케이스 개수\n",
    "answer = [] # 답\n",
    "for _ in range(N):\n",
    "    board = [] # 보드\n",
    "    pins = [] # 핀의 위치\n",
    "    h = 0 # 보드의 높이\n",
    "    while True:\n",
    "        row = list(input()) # 행\n",
    "        if row == []:\n",
    "            break\n",
    "        for x in range(len(row)):\n",
    "            if row[x] == 'o': # 핀의 위치\n",
    "                pins.append((h, x)) # 핀의 위치 추가\n",
    "                row[x] = '.' # 해당 위치를 빈 곳으로 갱신\n",
    "        h += 1\n",
    "        board.append(row) # 행 추가\n",
    "    w = len(board[0]) # 보드의 너비\n",
    "    answer.append(simulation(board, h, w, pins))\n",
    "    # 시뮬레이션 결과 답에 추가\n",
    "\n",
    "print(\"\\nOutput\")\n",
    "for pin, move in answer:\n",
    "    print(pin, move) # 답 출력"
   ]
  }
 ],
 "metadata": {
  "kernelspec": {
   "display_name": "Python 3",
   "language": "python",
   "name": "python3"
  },
  "language_info": {
   "codemirror_mode": {
    "name": "ipython",
    "version": 3
   },
   "file_extension": ".py",
   "mimetype": "text/x-python",
   "name": "python",
   "nbconvert_exporter": "python",
   "pygments_lexer": "ipython3",
   "version": "3.6.9"
  }
 },
 "nbformat": 4,
 "nbformat_minor": 2
}
