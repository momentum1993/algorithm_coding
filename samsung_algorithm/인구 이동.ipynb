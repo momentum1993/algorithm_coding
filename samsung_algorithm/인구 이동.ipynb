{
 "cells": [
  {
   "cell_type": "markdown",
   "metadata": {},
   "source": [
    "# 인구 이동"
   ]
  },
  {
   "cell_type": "markdown",
   "metadata": {},
   "source": [
    "[baekjoon의 '인구 이동' 링크](https://www.acmicpc.net/problem/16234)"
   ]
  },
  {
   "cell_type": "markdown",
   "metadata": {},
   "source": [
    "### 문제\n",
    "N×N크기의 땅이 있고, 땅은 1×1개의 칸으로 나누어져 있다. 각각의 땅에는 나라가 하나씩 존재하며, r행 c열에 있는 나라에는 A[r][c]명이 살고 있다. 인접한 나라 사이에는 국경선이 존재한다. 모든 나라는 1×1 크기이기 때문에, 모든 국경선은 정사각형 형태이다.  \n",
    "  \n",
    "오늘부터 인구 이동이 시작되는 날이다.  \n",
    "  \n",
    "인구 이동은 다음과 같이 진행되고, 더 이상 아래 방법에 의해 인구 이동이 없을 때까지 지속된다.  \n",
    "  \n",
    "국경선을 공유하는 두 나라의 인구 차이가 L명 이상, R명 이하라면, 두 나라가 공유하는 국경선을 오늘 하루동안 연다.  \n",
    "위의 조건에 의해 열어야하는 국경선이 모두 열렸다면, 인구 이동을 시작한다.  \n",
    "국경선이 열려있어 인접한 칸만을 이용해 이동할 수 있으면, 그 나라를 오늘 하루 동안은 연합이라고 한다.  \n",
    "연합을 이루고 있는 각 칸의 인구수는 (연합의 인구수) / (연합을 이루고 있는 칸의 개수)가 된다. 편의상 소수점은 버린다.  \n",
    "연합을 해체하고, 모든 국경선을 닫는다.  \n",
    "각 나라의 인구수가 주어졌을 때, 인구 이동이 몇 번 발생하는지 구하는 프로그램을 작성하시오.  \n",
    "  \n",
    "### 입력  \n",
    "첫째 줄에 N, L, R이 주어진다. (1 ≤ N ≤ 50, 1 ≤ L ≤ R ≤ 100)  \n",
    "  \n",
    "둘째 줄부터 N개의 줄에 각 나라의 인구수가 주어진다. r행 c열에 주어지는 정수는 A[r][c]의 값이다. (1 ≤ A[r][c] ≤ 100)  \n",
    "  \n",
    "인구 이동이 발생하는 횟수가 2,000번 보다 작거나 같은 입력만 주어진다.  \n",
    "  \n",
    "### 출력  \n",
    "인구 이동이 몇 번 발생하는지 첫째 줄에 출력한다.  \n",
    "  "
   ]
  },
  {
   "cell_type": "code",
   "execution_count": 1,
   "metadata": {},
   "outputs": [],
   "source": [
    "from queue import Queue\n",
    "\n",
    "changed = False # 인구 이동 시도를 할 때마다 인구 이동 있었는지 플래그\n",
    "\n",
    "def moving(population, union): # 연합을 통한 인구이동\n",
    "    val_sum = 0 \n",
    "    num = 0\n",
    "    for i in union:\n",
    "        t_y, t_x = i  \n",
    "        val_sum += population[t_y][t_x] \n",
    "        num += 1 \n",
    "    for t_y, t_x in union: \n",
    "        population[t_y][t_x] = val_sum // num\n",
    "    # 연합된 나라에 대해서 인구이동을 해준다\n",
    "                    \n",
    "def cal_moving(N, L, R, population, searched, idx=0, root=False): # 인구 이동 할 수 있는 연합 형성\n",
    "    global changed\n",
    "    u_set = set() # 연합 집합\n",
    "        \n",
    "    if idx >= N*N or idx < 0:  # 모든 나라 인구 확인이 끝났을 때\n",
    "        return set()\n",
    "    \n",
    "    if idx == 0: # 첫 idx\n",
    "        root = True\n",
    "    \n",
    "    y = idx // N \n",
    "    x = idx % N\n",
    "    # 각 인덱스에 대한 나라의 위치\n",
    "    \n",
    "    searched[y][x] = True # 탐색한 나라는 표시함\n",
    "    u_set.add((y,x)) # 현재 탐색 중인 나라는 연합에 포함 시킨다.\n",
    "    \n",
    "    # L <= 국경을 맞댄 나라의 인구 차이 <= R인 조건을 만족할 때\n",
    "    if y+1 < N and not searched[y+1][x]: # 아래로 연합 확장 검사\n",
    "        if L <= abs(population[y][x] - population[y+1][x]) <= R:\n",
    "            u_set = u_set.union(cal_moving(N, L, R, population, searched, idx+N))\n",
    "    if x+1 < N and not searched[y][x+1]: # 오른쪽으로 연합 확장 검사\n",
    "        if L <= abs(population[y][x] - population[y][x+1]) <= R:\n",
    "            u_set = u_set.union(cal_moving(N, L, R, population, searched, idx+1))\n",
    "    if y-1 >= 0 and not searched[y-1][x]: # 위로 연합 확장 검사\n",
    "        if L <= abs(population[y][x] - population[y-1][x]) <= R:\n",
    "            u_set = u_set.union(cal_moving(N, L, R, population, searched, idx-N))\n",
    "    if x-1 >= 0 and not searched[y][x-1]: # 왼쪽으로 연합 확장 검사\n",
    "        if L <= abs(population[y][x] - population[y][x-1]) <= R:\n",
    "            u_set = u_set.union(cal_moving(N, L, R, population, searched, idx-1))\n",
    "\n",
    "    if len(u_set) == 1: # 만약 확장되는 연합이 없을 때는\n",
    "        for next_idx in range(idx+1, N*N):\n",
    "            n_y = next_idx // N \n",
    "            n_x = next_idx % N\n",
    "            if not searched[n_y][n_x]: # 아직 탐색되지 않은 지역에 대해서\n",
    "                cal_moving(N, L, R, population, searched, next_idx, True) # 루트로 잡고\n",
    "                break\n",
    "        \n",
    "    if len(u_set) > 1 and root: # 확장되는 연합이 있었고, 현재 위치가 첫 시작점이라면\n",
    "        changed = True # 변화 되었음을 표시\n",
    "        moving(population, u_set) # 연합 사이의 인구이동\n",
    "    return u_set \n",
    "\n",
    "\n",
    "def solution(N, L, R, population):\n",
    "    answer = 0\n",
    "    global changed \n",
    "    changed = True\n",
    "    population = [[int(x) for x in x.split()] for x in population.split('\\n')]\n",
    "    while changed: # 인구이동이 계속되는 동안\n",
    "        changed = False\n",
    "        searched = [[False for _  in range(N)] for _ in range(N)]\n",
    "        cal_moving(N, L, R, population, searched) # 계속해서 연합끼리의 인구이동\n",
    "        if changed:\n",
    "            answer += 1 # 만약 인구 이동이 되었다면 답 1 증가\n",
    "    return answer\n",
    "    "
   ]
  },
  {
   "cell_type": "code",
   "execution_count": 2,
   "metadata": {},
   "outputs": [],
   "source": [
    "N, L, R = 2, 20, 50\n",
    "population = '''50 30\n",
    "20 40'''"
   ]
  },
  {
   "cell_type": "code",
   "execution_count": 3,
   "metadata": {},
   "outputs": [
    {
     "data": {
      "text/plain": [
       "1"
      ]
     },
     "execution_count": 3,
     "metadata": {},
     "output_type": "execute_result"
    }
   ],
   "source": [
    "solution(N, L, R, population)"
   ]
  },
  {
   "cell_type": "code",
   "execution_count": 4,
   "metadata": {},
   "outputs": [],
   "source": [
    "N, L, R = 2, 40, 50\n",
    "population = '''50 30\n",
    "20 40'''"
   ]
  },
  {
   "cell_type": "code",
   "execution_count": 5,
   "metadata": {},
   "outputs": [
    {
     "data": {
      "text/plain": [
       "0"
      ]
     },
     "execution_count": 5,
     "metadata": {},
     "output_type": "execute_result"
    }
   ],
   "source": [
    "solution(N, L, R, population)"
   ]
  },
  {
   "cell_type": "code",
   "execution_count": 6,
   "metadata": {},
   "outputs": [],
   "source": [
    "N, L, R = 2, 20, 50\n",
    "population = '''50 30\n",
    "30 40'''"
   ]
  },
  {
   "cell_type": "code",
   "execution_count": 7,
   "metadata": {},
   "outputs": [
    {
     "data": {
      "text/plain": [
       "1"
      ]
     },
     "execution_count": 7,
     "metadata": {},
     "output_type": "execute_result"
    }
   ],
   "source": [
    "solution(N, L, R, population)"
   ]
  },
  {
   "cell_type": "code",
   "execution_count": 8,
   "metadata": {},
   "outputs": [],
   "source": [
    "N, L, R = 3, 5, 10\n",
    "population = '''10 15 20\n",
    "20 30 25\n",
    "40 22 10'''"
   ]
  },
  {
   "cell_type": "code",
   "execution_count": 9,
   "metadata": {},
   "outputs": [
    {
     "data": {
      "text/plain": [
       "2"
      ]
     },
     "execution_count": 9,
     "metadata": {},
     "output_type": "execute_result"
    }
   ],
   "source": [
    "solution(N, L, R, population)"
   ]
  },
  {
   "cell_type": "code",
   "execution_count": 10,
   "metadata": {},
   "outputs": [],
   "source": [
    "N, L, R = 4, 10, 50\n",
    "population = '''10 100 20 90\n",
    "80 100 60 70\n",
    "70 20 30 40\n",
    "50 20 100 10'''"
   ]
  },
  {
   "cell_type": "code",
   "execution_count": 11,
   "metadata": {},
   "outputs": [
    {
     "data": {
      "text/plain": [
       "3"
      ]
     },
     "execution_count": 11,
     "metadata": {},
     "output_type": "execute_result"
    }
   ],
   "source": [
    "solution(N, L, R, population)"
   ]
  }
 ],
 "metadata": {
  "kernelspec": {
   "display_name": "Python 3",
   "language": "python",
   "name": "python3"
  },
  "language_info": {
   "codemirror_mode": {
    "name": "ipython",
    "version": 3
   },
   "file_extension": ".py",
   "mimetype": "text/x-python",
   "name": "python",
   "nbconvert_exporter": "python",
   "pygments_lexer": "ipython3",
   "version": "3.6.9"
  }
 },
 "nbformat": 4,
 "nbformat_minor": 2
}
