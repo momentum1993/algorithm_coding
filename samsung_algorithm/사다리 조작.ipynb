{
 "cells": [
  {
   "cell_type": "markdown",
   "metadata": {},
   "source": [
    "# 사다리 조작"
   ]
  },
  {
   "cell_type": "markdown",
   "metadata": {},
   "source": [
    "[baekjoon의 '사다리 조작' 링크](https://www.acmicpc.net/problem/15684)"
   ]
  },
  {
   "cell_type": "markdown",
   "metadata": {},
   "source": [
    "### 문제  \n",
    "사다리 게임은 N개의 세로선과 M개의 가로선으로 이루어져 있다. 인접한 세로선 사이에는 가로선을 놓을 수 있는데, 각각의 세로선마다 가로선을 놓을 수 있는 위치의 개수는 H이고, 모든 세로선이 같은 위치를 갖는다. 아래 그림은 N = 5, H = 6 인 경우의 그림이고, 가로선은 없다.  \n",
    "  \n",
    "![](https://onlinejudgeimages.s3-ap-northeast-1.amazonaws.com/problem/15684/1.png)  \n",
    "  \n",
    "초록선은 세로선을 나타내고, 초록선과 점선이 교차하는 점은 가로선을 놓을 수 있는 점이다. 가로선은 인접한 두 세로선을 연결해야 한다. 단, 두 가로선이 연속하거나 서로 접하면 안 된다. 또, 가로선은 점선 위에 있어야 한다.  \n",
    "  \n",
    "![](https://onlinejudgeimages.s3-ap-northeast-1.amazonaws.com/problem/15684/2.png)  \n",
    "  \n",
    "위의 그림에는 가로선이 총 5개 있다. 가로선은 위의 그림과 같이 인접한 두 세로선을 연결해야 하고, 가로선을 놓을 수 있는 위치를 연결해야 한다.  \n",
    "  \n",
    "사다리 게임은 각각의 세로선마다 게임을 진행하고, 세로선의 가장 위에서부터 아래 방향으로 내려가야 한다. 이때, 가로선을 만나면 가로선을 이용해 옆 세로선으로 이동한 다음, 이동한 세로선에서 아래 방향으로 이동해야 한다.  \n",
    "  \n",
    "위의 그림에서 1번은 3번으로, 2번은 2번으로, 3번은 5번으로, 4번은 1번으로, 5번은 4번으로 도착하게 된다. 아래 두 그림은 1번과 2번이 어떻게 이동했는지 나타내는 그림이다.  \n",
    "  \n",
    "|1번 세로선|2번 세로선|\n",
    "|:---:|:---:|\n",
    "|![](https://onlinejudgeimages.s3-ap-northeast-1.amazonaws.com/problem/15684/3.png)|![](https://onlinejudgeimages.s3-ap-northeast-1.amazonaws.com/problem/15684/4.png)|  \n",
    "  \n",
    "사다리에 가로선을 추가해서, 사다리 게임의 결과를 조작하려고 한다. 이때, i번 세로선의 결과가 i번이 나와야 한다. 그렇게 하기 위해서 추가해야 하는 가로선 개수의 최솟값을 구하는 프로그램을 작성하시오.  \n",
    "  \n",
    "### 입력  \n",
    "첫째 줄에 세로선의 개수 N, 가로선의 개수 M, 세로선마다 가로선을 놓을 수 있는 위치의 개수 H가 주어진다. (2 ≤ N ≤ 10, 1 ≤ H ≤ 30, 0 ≤ M ≤ (N-1)×H)  \n",
    "  \n",
    "둘째 줄부터 M개의 줄에는 가로선의 정보가 한 줄에 하나씩 주어진다.  \n",
    "  \n",
    "가로선의 정보는 두 정수 a과 b로 나타낸다. (1 ≤ a ≤ H, 1 ≤ b ≤ N-1) b번 세로선과 b+1번 세로선을 a번 점선 위치에서 연결했다는 의미이다.  \n",
    "  \n",
    "가장 위에 있는 점선의 번호는 1번이고, 아래로 내려갈 때마다 1이 증가한다. 세로선은 가장 왼쪽에 있는 것의 번호가 1번이고, 오른쪽으로 갈 때마다 1이 증가한다.  \n",
    "  \n",
    "입력으로 주어지는 가로선이 서로 연속하는 경우는 없다.  \n",
    "  \n",
    "### 출력  \n",
    "i번 세로선의 결과가 i번이 나오도록 사다리 게임을 조작하려면, 추가해야 하는 가로선 개수의 최솟값을 출력한다. 만약, 정답이 3보다 큰 값이면 -1을 출력한다. 또, 불가능한 경우에도 -1을 출력한다.  \n",
    "  "
   ]
  },
  {
   "cell_type": "code",
   "execution_count": 1,
   "metadata": {},
   "outputs": [],
   "source": [
    "from copy import deepcopy\n",
    "\n",
    "def is_matched(N, H, board): # 해당 사다리타기가 조건을 만족하는지 여부 계산\n",
    "    for vertical in range(1, N+1): # 모든 세로줄에 대해\n",
    "        state = vertical # 현재 타고있는 세로줄\n",
    "        for h in range(1, H+1): # 밑으로 내려가며 탐색\n",
    "            if board[h][state] == -1: # 왼쪽 세로줄로 옮김\n",
    "                state -= 1\n",
    "            elif board[h][state] == 1: # 오른쪽 세로줄로 옮김\n",
    "                state += 1\n",
    "        if vertical != state: # 도착할 때 세로줄이 출발 세로줄과 다를 때\n",
    "            return False # False\n",
    "    return True # 조건을 만족하면 True\n",
    "            \n",
    "\n",
    "def cal_min_horizon(N, M, H, board, idx=0): # 최소 가로줄의 개수 계산\n",
    "    if is_matched(N, H, board): #  만약 현재 상황에서 조건 만족시\n",
    "        return 0\n",
    "    elif M == 0: # 불가능한 경우\n",
    "        return 4\n",
    "        \n",
    "    answer = 4\n",
    "    for h in range(idx//N, H+1): # 높이 탐색\n",
    "        if h == 0:\n",
    "            continue\n",
    "        for v in range(idx%N, N): # 세로줄 탐색\n",
    "            if board[h][v] != 0 or v == 0: # 만약 이미 선점된 가로줄이 있다면 넘어감\n",
    "                continue\n",
    "            b = deepcopy(board)\n",
    "            b[h][v] = 1\n",
    "            b[h][v+1] = -1\n",
    "            # 해당 좌표에 대해서 가로줄 생성\n",
    "            t_answer = 1 + cal_min_horizon(N, M-1, H, b, (N*h)+v+1)\n",
    "            # 그리고 계속해서 가로줄을 늘리면서 탐색\n",
    "            answer = min(t_answer, answer)\n",
    "            # 가로줄을 가지는 최소값\n",
    "    return answer\n",
    "        \n",
    "    \n",
    "\n",
    "def solution(N, M, H, horizons=[]):\n",
    "    if horizons != []:\n",
    "        horizons = [tuple(int(x) for x in x.split()) for x in horizons.split(\"\\n\")]\n",
    "        horizons.sort()\n",
    "    board = [[0 for _ in range(N+1)] for _ in range(H+1)]\n",
    "    for a, b in horizons:\n",
    "        board[a][b] = 1\n",
    "        board[a][b+1] = -1\n",
    "    # 기본적인 가로줄에 대해 세팅해놓는다.\n",
    "    answer = cal_min_horizon(N, M, H, board)\n",
    "    if answer > 3: # 가로줄이 3개 이상이거나 불가능한 상황이면\n",
    "        return -1 # -1 반환\n",
    "    return answer # 가능하다면 답 반환"
   ]
  },
  {
   "cell_type": "code",
   "execution_count": 2,
   "metadata": {},
   "outputs": [],
   "source": [
    "N,M,H = 2, 0, 3"
   ]
  },
  {
   "cell_type": "code",
   "execution_count": 3,
   "metadata": {},
   "outputs": [
    {
     "data": {
      "text/plain": [
       "0"
      ]
     },
     "execution_count": 3,
     "metadata": {},
     "output_type": "execute_result"
    }
   ],
   "source": [
    "solution(N, M, H)"
   ]
  },
  {
   "cell_type": "code",
   "execution_count": 4,
   "metadata": {},
   "outputs": [],
   "source": [
    "N,M,H = 2, 1, 3\n",
    "horizons = '''1 1'''"
   ]
  },
  {
   "cell_type": "code",
   "execution_count": 5,
   "metadata": {},
   "outputs": [
    {
     "data": {
      "text/plain": [
       "1"
      ]
     },
     "execution_count": 5,
     "metadata": {},
     "output_type": "execute_result"
    }
   ],
   "source": [
    "solution(N, M, H, horizons)"
   ]
  },
  {
   "cell_type": "code",
   "execution_count": 6,
   "metadata": {},
   "outputs": [],
   "source": [
    "N,M,H = 5, 5, 6\n",
    "horizons = '''1 1\n",
    "3 2\n",
    "2 3\n",
    "5 1\n",
    "5 4'''"
   ]
  },
  {
   "cell_type": "code",
   "execution_count": 7,
   "metadata": {},
   "outputs": [
    {
     "data": {
      "text/plain": [
       "3"
      ]
     },
     "execution_count": 7,
     "metadata": {},
     "output_type": "execute_result"
    }
   ],
   "source": [
    "solution(N, M, H, horizons)"
   ]
  },
  {
   "cell_type": "code",
   "execution_count": 8,
   "metadata": {},
   "outputs": [],
   "source": [
    "N,M,H = 6, 5, 6\n",
    "horizons = '''1 1\n",
    "3 2\n",
    "1 3\n",
    "2 5\n",
    "5 5'''"
   ]
  },
  {
   "cell_type": "code",
   "execution_count": 9,
   "metadata": {},
   "outputs": [
    {
     "data": {
      "text/plain": [
       "3"
      ]
     },
     "execution_count": 9,
     "metadata": {},
     "output_type": "execute_result"
    }
   ],
   "source": [
    "solution(N, M, H, horizons)"
   ]
  },
  {
   "cell_type": "code",
   "execution_count": 10,
   "metadata": {},
   "outputs": [],
   "source": [
    "N,M,H = 5, 8, 6\n",
    "horizons = '''1 1\n",
    "2 2\n",
    "3 3\n",
    "4 4\n",
    "3 1\n",
    "4 2\n",
    "5 3\n",
    "6 4'''"
   ]
  },
  {
   "cell_type": "code",
   "execution_count": 11,
   "metadata": {},
   "outputs": [
    {
     "data": {
      "text/plain": [
       "-1"
      ]
     },
     "execution_count": 11,
     "metadata": {},
     "output_type": "execute_result"
    }
   ],
   "source": [
    "solution(N, M, H, horizons)"
   ]
  },
  {
   "cell_type": "code",
   "execution_count": 12,
   "metadata": {},
   "outputs": [],
   "source": [
    "N,M,H = 5, 12, 6\n",
    "horizons = '''1 1\n",
    "1 3\n",
    "2 2\n",
    "2 4\n",
    "3 1\n",
    "3 3\n",
    "4 2\n",
    "4 4\n",
    "5 1\n",
    "5 3\n",
    "6 2\n",
    "6 4'''"
   ]
  },
  {
   "cell_type": "code",
   "execution_count": 13,
   "metadata": {},
   "outputs": [
    {
     "data": {
      "text/plain": [
       "-1"
      ]
     },
     "execution_count": 13,
     "metadata": {},
     "output_type": "execute_result"
    }
   ],
   "source": [
    "solution(N, M, H, horizons)"
   ]
  },
  {
   "cell_type": "code",
   "execution_count": 14,
   "metadata": {},
   "outputs": [],
   "source": [
    "N,M,H = 5, 6, 6\n",
    "horizons = '''1 1\n",
    "3 1\n",
    "5 2\n",
    "4 3\n",
    "2 3\n",
    "1 4'''"
   ]
  },
  {
   "cell_type": "code",
   "execution_count": 15,
   "metadata": {},
   "outputs": [
    {
     "data": {
      "text/plain": [
       "2"
      ]
     },
     "execution_count": 15,
     "metadata": {},
     "output_type": "execute_result"
    }
   ],
   "source": [
    "solution(N, M, H, horizons)"
   ]
  }
 ],
 "metadata": {
  "kernelspec": {
   "display_name": "Python 3",
   "language": "python",
   "name": "python3"
  },
  "language_info": {
   "codemirror_mode": {
    "name": "ipython",
    "version": 3
   },
   "file_extension": ".py",
   "mimetype": "text/x-python",
   "name": "python",
   "nbconvert_exporter": "python",
   "pygments_lexer": "ipython3",
   "version": "3.6.9"
  }
 },
 "nbformat": 4,
 "nbformat_minor": 2
}
