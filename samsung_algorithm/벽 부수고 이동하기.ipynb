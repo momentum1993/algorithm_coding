{
 "cells": [
  {
   "cell_type": "markdown",
   "metadata": {},
   "source": [
    "# 벽 부수고 이동하기"
   ]
  },
  {
   "cell_type": "markdown",
   "metadata": {},
   "source": [
    "[baekjoon의 '벽 부수고 이동하기' 링크](https://www.acmicpc.net/problem/2206)"
   ]
  },
  {
   "cell_type": "markdown",
   "metadata": {},
   "source": [
    "### 문제   \n",
    "N×M의 행렬로 표현되는 맵이 있다. 맵에서 0은 이동할 수 있는 곳을 나타내고, 1은 이동할 수 없는 벽이 있는 곳을 나타낸다. 당신은 (1, 1)에서 (N, M)의 위치까지 이동하려 하는데, 이때 최단 경로로 이동하려 한다. 최단경로는 맵에서 가장 적은 개수의 칸을 지나는 경로를 말하는데, 이때 시작하는 칸과 끝나는 칸도 포함해서 센다.  \n",
    "  \n",
    "만약에 이동하는 도중에 한 개의 벽을 부수고 이동하는 것이 좀 더 경로가 짧아진다면, 벽을 한 개 까지 부수고 이동하여도 된다.  \n",
    "  \n",
    "맵이 주어졌을 때, 최단 경로를 구해 내는 프로그램을 작성하시오.  \n",
    "  \n",
    "### 입력  \n",
    "첫째 줄에 N(1 ≤ N ≤ 1,000), M(1 ≤ M ≤ 1,000)이 주어진다. 다음 N개의 줄에 M개의 숫자로 맵이 주어진다. (1, 1)과 (N, M)은 항상 0이라고 가정하자.  \n",
    "  \n",
    "### 출력  \n",
    "첫째 줄에 최단 거리를 출력한다. 불가능할 때는 -1을 출력한다.  "
   ]
  },
  {
   "cell_type": "code",
   "execution_count": 1,
   "metadata": {},
   "outputs": [
    {
     "name": "stdout",
     "output_type": "stream",
     "text": [
      "6 4\n",
      "0100\n",
      "1110\n",
      "1000\n",
      "0000\n",
      "0111\n",
      "0000\n",
      "15\n"
     ]
    }
   ],
   "source": [
    "from queue import PriorityQueue\n",
    "\n",
    "def simulation(N, M, board): # 벽 부수고 이동하는 시뮬레이션\n",
    "    q = PriorityQueue() # 우선순위 큐\n",
    "    q.put((1, 0, 0, True)) # (이동횟수, y, x, 벽을 부술 수 있는지 여부)를 큐에 push\n",
    "    direction = [(1,0), (0,1), (-1,0), (0,-1)] # 이동할 있는 4방향\n",
    "    while not q.empty():\n",
    "        count, y, x, can_break = q.get() # (이동횟수, y, x, 벽을 부술 수 있는지 여부)를 큐에서 pop\n",
    "        if count > N*M: # 끝까지 이동 불가 할 경우 탐색을 그만한다.\n",
    "            break\n",
    "        if y == N-1 and x == M-1: # 도착지에 도착했다면 이동횟수를 반환\n",
    "            return count\n",
    "        for add_y, add_x in direction: # 네 방향에 대해서\n",
    "            if 0 <= y+add_y < N and 0 <= x+add_x < M: # 이동이 가능하다면\n",
    "                if board[y+add_y][x+add_x] == 1 and can_break: # 벽이 있지만 벽을 부수고 이동가능할 때 이동\n",
    "                    q.put((count+1, y+add_y, x+add_x, False))\n",
    "                elif board[y+add_y][x+add_x] == 0: # 빈 곳일 때 이동\n",
    "                    q.put((count+1, y+add_y, x+add_x, can_break))\n",
    "    return -1 # 이동 불가할 경우 -1 반환\n",
    "\n",
    "N, M = tuple(int(x) for x in input().split()) # 행, 열\n",
    "board = [] # 보드\n",
    "for _ in range(N):\n",
    "    board.append([int(x) for x in list(input())])\n",
    "print(simulation(N, M, board)) # 답 출력\n"
   ]
  }
 ],
 "metadata": {
  "kernelspec": {
   "display_name": "Python 3",
   "language": "python",
   "name": "python3"
  },
  "language_info": {
   "codemirror_mode": {
    "name": "ipython",
    "version": 3
   },
   "file_extension": ".py",
   "mimetype": "text/x-python",
   "name": "python",
   "nbconvert_exporter": "python",
   "pygments_lexer": "ipython3",
   "version": "3.6.9"
  }
 },
 "nbformat": 4,
 "nbformat_minor": 2
}
