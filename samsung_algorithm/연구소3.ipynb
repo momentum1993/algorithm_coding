{
 "cells": [
  {
   "cell_type": "markdown",
   "metadata": {},
   "source": [
    "# 연구소3"
   ]
  },
  {
   "cell_type": "markdown",
   "metadata": {},
   "source": [
    "[baekjoon의 '연구소 3' 링크](https://www.acmicpc.net/problem/17142)"
   ]
  },
  {
   "cell_type": "markdown",
   "metadata": {},
   "source": [
    "### 문제  \n",
    "인체에 치명적인 바이러스를 연구하던 연구소에 승원이가 침입했고, 바이러스를 유출하려고 한다. 바이러스는 활성 상태와 비활성 상태가 있다. 가장 처음에 모든 바이러스는 비활성 상태이고, 활성 상태인 바이러스는 상하좌우로 인접한 모든 빈 칸으로 동시에 복제되며, 1초가 걸린다. 승원이는 연구소의 바이러스 M개를 활성 상태로 변경하려고 한다.  \n",
    "  \n",
    "연구소는 크기가 N×N인 정사각형으로 나타낼 수 있으며, 정사각형은 1×1 크기의 정사각형으로 나누어져 있다. 연구소는 빈 칸, 벽, 바이러스로 이루어져 있으며, 벽은 칸 하나를 가득 차지한다. 활성 바이러스가 비활성 바이러스가 있는 칸으로 가면 비활성 바이러스가 활성으로 변한다.  \n",
    "  \n",
    "예를 들어, 아래와 같이 연구소가 생긴 경우를 살펴보자. 0은 빈 칸, 1은 벽, 2는 바이러스의 위치이다.  \n",
    "  \n",
    "~~~  \n",
    "2 0 0 0 1 1 0\n",
    "0 0 1 0 1 2 0\n",
    "0 1 1 0 1 0 0\n",
    "0 1 0 0 0 0 0\n",
    "0 0 0 2 0 1 1\n",
    "0 1 0 0 0 0 0\n",
    "2 1 0 0 0 0 2\n",
    "~~~  \n",
    "  \n",
    "M = 3이고, 바이러스를 아래와 같이 활성 상태로 변경한 경우 6초면 모든 칸에 바이러스를 퍼뜨릴 수 있다. 벽은 -, 비활성 바이러스는 *, 활성 바이러스는 0, 빈 칸은 바이러스가 퍼지는 시간으로 표시했다.  \n",
    "  \n",
    "~~~  \n",
    "* 6 5 4 - - 2\n",
    "5 6 - 3 - 0 1\n",
    "4 - - 2 - 1 2\n",
    "3 - 2 1 2 2 3\n",
    "2 2 1 0 1 - -\n",
    "1 - 2 1 2 3 4\n",
    "0 - 3 2 3 4 *  \n",
    "~~~  \n",
    "  \n",
    "시간이 최소가 되는 방법은 아래와 같고, 4초만에 모든 칸에 바이러스를 퍼뜨릴 수 있다.  \n",
    "~~~  \n",
    "0 1 2 3 - - 2\n",
    "1 2 - 3 - 0 1\n",
    "2 - - 2 - 1 2\n",
    "3 - 2 1 2 2 3\n",
    "3 2 1 0 1 - -\n",
    "4 - 2 1 2 3 4\n",
    "* - 3 2 3 4 *\n",
    "~~~  \n",
    "  \n",
    "연구소의 상태가 주어졌을 때, 모든 빈 칸에 바이러스를 퍼뜨리는 최소 시간을 구해보자.  \n",
    "  \n",
    "### 입력  \n",
    "첫째 줄에 연구소의 크기 N(4 ≤ N ≤ 50), 놓을 수 있는 바이러스의 개수 M(1 ≤ M ≤ 10)이 주어진다.  \n",
    "  \n",
    "둘째 줄부터 N개의 줄에 연구소의 상태가 주어진다. 0은 빈 칸, 1은 벽, 2는 바이러스를 놓을 수 있는 위치이다. 2의 개수는 M보다 크거나 같고, 10보다 작거나 같은 자연수이다.  \n",
    "  \n",
    "### 출력  \n",
    "연구소의 모든 빈 칸에 바이러스가 있게 되는 최소 시간을 출력한다. 바이러스를 어떻게 놓아도 모든 빈 칸에 바이러스를 퍼뜨릴 수 없는 경우에는 -1을 출력한다.  \n",
    "  "
   ]
  },
  {
   "cell_type": "code",
   "execution_count": 1,
   "metadata": {},
   "outputs": [],
   "source": [
    "from copy import deepcopy\n",
    "from pprint import pprint\n",
    "\n",
    "def virus_spread(N, lab, vacant, time=0): # 바이러스 확산 시뮬레이션\n",
    "    if vacant == 0: # 모두 확산 되었다면 시간 반환\n",
    "        return time\n",
    "    if time > N*N: # 만약 모든 부분에 확산이 불가능할 경우\n",
    "        return N*N\n",
    "    \n",
    "    directions = [(0,1),(0,-1),(1,0),(-1,0)] # 동. 서. 남. 북\n",
    "    spread_list = set() # 확산된 위치\n",
    "    \n",
    "    for y in range(N):\n",
    "        for x in range(N):\n",
    "            if lab[y][x] == 2: # 활성바이러스에 대해서\n",
    "                for add_y, add_x in directions:\n",
    "                    if 0 <= y+add_y < N and 0 <= x+add_x < N and lab[y+add_y][x+add_x] != 1 and lab[y+add_y][x+add_x] != 2:\n",
    "                        spread_list.add((y+add_y, x+add_x))\n",
    "                    # 4 방향으로 확산\n",
    "    spreaded = 0\n",
    "    for y, x in spread_list:\n",
    "        if lab[y][x] == 0:\n",
    "            spreaded += 1 # 빈칸에 확산된 경우에 남은 빈칸 개수 1 감소시킴\n",
    "        lab[y][x] = 2\n",
    "    return virus_spread(N, lab, vacant-spreaded, time+1)\n",
    "    # 1초 후의 바이러스 확산을 계속 재귀적으로 시뮬레이션\n",
    "\n",
    "\n",
    "def lab_simulation(N, M, lab, virus_epicenters, vacant): # 연구실 바이러스 시뮬레이션\n",
    "    answer = N*N\n",
    "    \n",
    "    if M == 0: # M개의 활성 바이러스 배치 후에\n",
    "        lab_copy = deepcopy(lab)\n",
    "        answer = virus_spread(N, lab_copy, vacant)\n",
    "        # 바이러스가 몇초 만에 퍼지는지 시뮬레이션\n",
    "        return answer # 시간 반환\n",
    "    \n",
    "    for v_y, v_x in virus_epicenters: # 모든 바이러스의 위치에 대해서\n",
    "        if lab[v_y][v_x] == 2:\n",
    "            continue\n",
    "        lab[v_y][v_x] = 2\n",
    "        answer = min(answer, lab_simulation(N, M-1, lab, virus_epicenters, vacant))\n",
    "        # 해당 위치의 바이러스를 활성화시킨다.\n",
    "        lab[v_y][v_x] = -1\n",
    "    return answer\n",
    "\n",
    "        \n",
    "def solution(N, M, lab):\n",
    "    lab = [[int(x) for x in x.split()] for x in lab.split(\"\\n\")] # 연구실 상태\n",
    "    vacant = N*N # 빈칸 개수\n",
    "    virus_epicenters = [] # 바이러스의 위치(활성 + 비활성)\n",
    "    for y in range(N):\n",
    "        for x in range(N):\n",
    "            if lab[y][x] == 0:\n",
    "                continue\n",
    "            elif lab[y][x] == 2: # 바이러스 칸\n",
    "                virus_epicenters.append((y,x))\n",
    "                lab[y][x] = -1 # 비활성 바이러스는 -1로 표시\n",
    "            vacant -= 1 # 벽이나 바이러스는 빈칸의 개수에서 빼준다.\n",
    "    answer = lab_simulation(N, M, lab, virus_epicenters, vacant) # 연구실 바이러스 시뮬레이션\n",
    "    if answer == N*N: # 불가능한 경우 -1 반환\n",
    "        return -1\n",
    "    return answer # 답 반환\n",
    "    \n",
    "                "
   ]
  },
  {
   "cell_type": "code",
   "execution_count": 2,
   "metadata": {},
   "outputs": [],
   "source": [
    "N, M = 7, 3\n",
    "lab = '''2 0 0 0 1 1 0\n",
    "0 0 1 0 1 2 0\n",
    "0 1 1 0 1 0 0\n",
    "0 1 0 0 0 0 0\n",
    "0 0 0 2 0 1 1\n",
    "0 1 0 0 0 0 0\n",
    "2 1 0 0 0 0 2'''"
   ]
  },
  {
   "cell_type": "code",
   "execution_count": 3,
   "metadata": {},
   "outputs": [
    {
     "data": {
      "text/plain": [
       "4"
      ]
     },
     "execution_count": 3,
     "metadata": {},
     "output_type": "execute_result"
    }
   ],
   "source": [
    "solution(N, M, lab)"
   ]
  },
  {
   "cell_type": "code",
   "execution_count": 4,
   "metadata": {},
   "outputs": [],
   "source": [
    "N, M = 7, 3\n",
    "lab = '''2 0 2 0 1 1 0\n",
    "0 0 1 0 1 2 0\n",
    "0 1 1 2 1 0 0\n",
    "2 1 0 0 0 0 2\n",
    "0 0 0 2 0 1 1\n",
    "0 1 0 0 0 0 0\n",
    "2 1 0 0 2 0 2'''"
   ]
  },
  {
   "cell_type": "code",
   "execution_count": 5,
   "metadata": {},
   "outputs": [
    {
     "data": {
      "text/plain": [
       "4"
      ]
     },
     "execution_count": 5,
     "metadata": {},
     "output_type": "execute_result"
    }
   ],
   "source": [
    "solution(N, M, lab)"
   ]
  },
  {
   "cell_type": "code",
   "execution_count": 6,
   "metadata": {},
   "outputs": [],
   "source": [
    "N, M = 7, 4\n",
    "lab = '''2 0 2 0 1 1 0\n",
    "0 0 1 0 1 2 0\n",
    "0 1 1 2 1 0 0\n",
    "2 1 0 0 0 0 2\n",
    "0 0 0 2 0 1 1\n",
    "0 1 0 0 0 0 0\n",
    "2 1 0 0 2 0 2'''"
   ]
  },
  {
   "cell_type": "code",
   "execution_count": 7,
   "metadata": {},
   "outputs": [
    {
     "data": {
      "text/plain": [
       "4"
      ]
     },
     "execution_count": 7,
     "metadata": {},
     "output_type": "execute_result"
    }
   ],
   "source": [
    "solution(N, M, lab)"
   ]
  },
  {
   "cell_type": "code",
   "execution_count": 8,
   "metadata": {},
   "outputs": [],
   "source": [
    "N, M = 7, 5\n",
    "lab = '''2 0 2 0 1 1 0\n",
    "0 0 1 0 1 2 0\n",
    "0 1 1 2 1 0 0\n",
    "2 1 0 0 0 0 2\n",
    "0 0 0 2 0 1 1\n",
    "0 1 0 0 0 0 0\n",
    "2 1 0 0 2 0 2'''"
   ]
  },
  {
   "cell_type": "code",
   "execution_count": 9,
   "metadata": {},
   "outputs": [
    {
     "data": {
      "text/plain": [
       "3"
      ]
     },
     "execution_count": 9,
     "metadata": {},
     "output_type": "execute_result"
    }
   ],
   "source": [
    "solution(N, M, lab)"
   ]
  },
  {
   "cell_type": "code",
   "execution_count": 10,
   "metadata": {},
   "outputs": [],
   "source": [
    "N, M = 7, 3\n",
    "lab = '''2 0 2 0 1 1 0\n",
    "0 0 1 0 1 0 0\n",
    "0 1 1 1 1 0 0\n",
    "2 1 0 0 0 0 2\n",
    "1 0 0 0 0 1 1\n",
    "0 1 0 0 0 0 0\n",
    "2 1 0 0 2 0 2'''"
   ]
  },
  {
   "cell_type": "code",
   "execution_count": 11,
   "metadata": {},
   "outputs": [
    {
     "data": {
      "text/plain": [
       "7"
      ]
     },
     "execution_count": 11,
     "metadata": {},
     "output_type": "execute_result"
    }
   ],
   "source": [
    "solution(N, M, lab)"
   ]
  },
  {
   "cell_type": "code",
   "execution_count": 12,
   "metadata": {},
   "outputs": [],
   "source": [
    "N, M = 7, 2\n",
    "lab = '''2 0 2 0 1 1 0\n",
    "0 0 1 0 1 0 0\n",
    "0 1 1 1 1 0 0\n",
    "2 1 0 0 0 0 2\n",
    "1 0 0 0 0 1 1\n",
    "0 1 0 0 0 0 0\n",
    "2 1 0 0 2 0 2'''"
   ]
  },
  {
   "cell_type": "code",
   "execution_count": 13,
   "metadata": {},
   "outputs": [
    {
     "data": {
      "text/plain": [
       "-1"
      ]
     },
     "execution_count": 13,
     "metadata": {},
     "output_type": "execute_result"
    }
   ],
   "source": [
    "solution(N, M, lab)"
   ]
  },
  {
   "cell_type": "code",
   "execution_count": 14,
   "metadata": {},
   "outputs": [],
   "source": [
    "N, M = 5, 1\n",
    "lab = '''2 2 2 1 1\n",
    "2 1 1 1 1\n",
    "2 1 1 1 1\n",
    "2 1 1 1 1\n",
    "2 2 2 1 1'''"
   ]
  },
  {
   "cell_type": "code",
   "execution_count": 15,
   "metadata": {},
   "outputs": [
    {
     "data": {
      "text/plain": [
       "0"
      ]
     },
     "execution_count": 15,
     "metadata": {},
     "output_type": "execute_result"
    }
   ],
   "source": [
    "solution(N, M, lab)"
   ]
  }
 ],
 "metadata": {
  "kernelspec": {
   "display_name": "Python 3",
   "language": "python",
   "name": "python3"
  },
  "language_info": {
   "codemirror_mode": {
    "name": "ipython",
    "version": 3
   },
   "file_extension": ".py",
   "mimetype": "text/x-python",
   "name": "python",
   "nbconvert_exporter": "python",
   "pygments_lexer": "ipython3",
   "version": "3.6.9"
  }
 },
 "nbformat": 4,
 "nbformat_minor": 2
}
