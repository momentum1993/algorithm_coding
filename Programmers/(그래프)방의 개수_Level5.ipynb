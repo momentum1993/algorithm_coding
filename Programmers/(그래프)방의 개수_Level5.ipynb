{
 "cells": [
  {
   "cell_type": "markdown",
   "metadata": {},
   "source": [
    "#### 문제 설명  \n",
    "원점(0,0)에서 시작해서 아래처럼 숫자가 적힌 방향으로 이동하며 선을 긋습니다.  \n",
    "  \n",
    "![](https://grepp-programmers.s3.amazonaws.com/files/ybm/ec8f232bf0/a47a6c2e-ec84-4bfb-9d4b-ff3ba589b42a.png)  \n",
    "  \n",
    "ex) 1일때는 오른쪽 위로 이동  \n",
    "  \n",
    "그림을 그릴 때, 사방이 막히면 방하나로 샙니다.  \n",
    "이동하는 방향이 담긴 배열 arrows가 매개변수로 주어질 때, 방의 갯수를 return 하도록 solution 함수를 작성하세요.  \n",
    "  \n",
    "#### 제한 조건  \n",
    "- 배열 arrows의 크기는 1 이상 100,000 이하 입니다.\n",
    "- arrows의 원소는 0 이상 7 이하 입니다.\n",
    "- 방은 다른 방으로 둘러 싸여질 수 있습니다.\n",
    "  \n",
    "#### 입출력 예  \n",
    "|arrows|\treturn|\n",
    "|:---:|:---:|\n",
    "|[6, 6, 6, 4, 4, 4, 2, 2, 2, 0, 0, 0, 1, 6, 5, 5, 3, 6, 0]|\t3|  "
   ]
  },
  {
   "cell_type": "markdown",
   "metadata": {},
   "source": [
    "---"
   ]
  },
  {
   "cell_type": "markdown",
   "metadata": {},
   "source": [
    "### 문제 풀이"
   ]
  },
  {
   "cell_type": "code",
   "execution_count": 1,
   "metadata": {},
   "outputs": [],
   "source": [
    "from collections import defaultdict\n",
    "\n",
    "def solution(arrows):\n",
    "    answer = 0 # 답\n",
    "    direction = [(-1, 0), (-1, 1), (0, 1), (1, 1), (1, 0), (1, -1), (0, -1), (-1, -1)] # 각 인덱스별 이동방향\n",
    "    y, x = 0, 0 # 현재 좌표\n",
    "    visited = defaultdict(int) # 현재 좌표에 대해서 어느 방향으로 방문되었는지에 대한 정보를 가진 default dict\n",
    "    visited[(y,x)] += pow(2, 8) # 처음 시작점에는 이진수 100000000 값을 저장\n",
    "    # 해당 좌표로 접근한 방향 표시를 위해 2 ^(방향 인덱스값)을 더해주는 방식으로 값을 갱신\n",
    "    \n",
    "    for i in arrows: # 모든 이동 화살표에 대해서\n",
    "        add_y, add_x = direction[i] # 이동 방향\n",
    "        for _ in range(2): # 좌표를 2번씩 이동한다.\n",
    "        # 좌표를 2번씩 이동하는 이유는 1번 이동할 경우 ꉙ 같은 모래시계 형태의 방을 식별할 수 없기 때문\n",
    "            if visited[(y+add_y,x+add_x)] != 0 and not (visited[(y+add_y,x+add_x)] & pow(2, i)) and not (visited[(y,x)] & pow(2, (i+4)%8)):\n",
    "            # 화살표를 따라 이동하면서 이미 방문한 좌표이지만 다른 방향을 통해서 접근한 경우(구간반복은 제외)\n",
    "                answer += 1 # 방이 1개 늘어난다\n",
    "            visited[(y+add_y,x+add_x)] |= pow(2, i) # 그리고 각 좌표에 대해서 접근한 방향을 표시\n",
    "            y += add_y\n",
    "            x += add_x\n",
    "            # 좌표를 더한다\n",
    "    return answer # 답 반환"
   ]
  },
  {
   "cell_type": "code",
   "execution_count": 2,
   "metadata": {},
   "outputs": [
    {
     "data": {
      "text/plain": [
       "3"
      ]
     },
     "execution_count": 2,
     "metadata": {},
     "output_type": "execute_result"
    }
   ],
   "source": [
    "arrows = [6, 6, 6, 4, 4, 4, 2, 2, 2, 0, 0, 0, 1, 6, 5, 5, 3, 6, 0]\n",
    "solution(arrows)"
   ]
  }
 ],
 "metadata": {
  "kernelspec": {
   "display_name": "Python 3",
   "language": "python",
   "name": "python3"
  },
  "language_info": {
   "codemirror_mode": {
    "name": "ipython",
    "version": 3
   },
   "file_extension": ".py",
   "mimetype": "text/x-python",
   "name": "python",
   "nbconvert_exporter": "python",
   "pygments_lexer": "ipython3",
   "version": "3.6.9"
  }
 },
 "nbformat": 4,
 "nbformat_minor": 2
}
