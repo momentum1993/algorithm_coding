{
 "cells": [
  {
   "cell_type": "markdown",
   "metadata": {},
   "source": [
    "#### 문제 설명  \n",
    "올바른 괄호란 (())나 ()와 같이 올바르게 모두 닫힌 괄호를 의미합니다. )(나 ())() 와 같은 괄호는 올바르지 않은 괄호가 됩니다. 괄호 쌍의 개수 n이 주어질 때, n개의 괄호 쌍으로 만들 수 있는 모든 가능한 괄호 문자열의 갯수를 반환하는 함수 solution을 완성해 주세요.  \n",
    "  \n",
    "#### 제한 조건  \n",
    "- 괄호 쌍의 개수 N : 1 ≤ n ≤ 14, N은 정수  \n",
    "  \n",
    "#### 입출력 예  \n",
    "|n|\tresult|\n",
    "|:---:|:---:|\n",
    "|2|\t2|\n",
    "|3|\t5|  "
   ]
  },
  {
   "cell_type": "markdown",
   "metadata": {},
   "source": [
    "---"
   ]
  },
  {
   "cell_type": "markdown",
   "metadata": {},
   "source": [
    "### 문제 풀이"
   ]
  },
  {
   "cell_type": "code",
   "execution_count": 1,
   "metadata": {},
   "outputs": [],
   "source": [
    "def simulation(n, left, right): # n개의 괄호쌍으로 만들 수 있는 올바른 괄호 시뮬레이션\n",
    "    if left == n and right == n: # n개의 괄호쌍으로 만들어진 올바른 괄호일 때\n",
    "        return 1 # 1 반환\n",
    "    answer = 0 # 답\n",
    "    if left > right: # 왼쪽괄호가 오른쪽괄호보다 많이 있을 때\n",
    "        answer += simulation(n, left, right+1) # 오른쪽 괄호를 추가한 뒤 시뮬레이션 재귀적으로 재개\n",
    "    if left < n: # 왼쪽괄호가 n개 보다 적을 때\n",
    "        answer += simulation(n, left+1, right) # 왼쪽 괄호를 추가한 뒤 시뮬레이션 재귀적으로 재개\n",
    "    return answer # 답 반환\n",
    "\n",
    "def solution(n):\n",
    "    return simulation(n, 0, 0) # 답 반환"
   ]
  },
  {
   "cell_type": "code",
   "execution_count": 2,
   "metadata": {},
   "outputs": [
    {
     "data": {
      "text/plain": [
       "2"
      ]
     },
     "execution_count": 2,
     "metadata": {},
     "output_type": "execute_result"
    }
   ],
   "source": [
    "n = 2\n",
    "solution(n)"
   ]
  },
  {
   "cell_type": "code",
   "execution_count": 3,
   "metadata": {},
   "outputs": [
    {
     "data": {
      "text/plain": [
       "5"
      ]
     },
     "execution_count": 3,
     "metadata": {},
     "output_type": "execute_result"
    }
   ],
   "source": [
    "n = 3\n",
    "solution(n)"
   ]
  }
 ],
 "metadata": {
  "kernelspec": {
   "display_name": "Python 3",
   "language": "python",
   "name": "python3"
  },
  "language_info": {
   "codemirror_mode": {
    "name": "ipython",
    "version": 3
   },
   "file_extension": ".py",
   "mimetype": "text/x-python",
   "name": "python",
   "nbconvert_exporter": "python",
   "pygments_lexer": "ipython3",
   "version": "3.6.9"
  }
 },
 "nbformat": 4,
 "nbformat_minor": 2
}
