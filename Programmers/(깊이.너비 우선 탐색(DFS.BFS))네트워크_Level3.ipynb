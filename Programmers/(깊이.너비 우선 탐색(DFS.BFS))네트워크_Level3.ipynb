{
 "cells": [
  {
   "cell_type": "markdown",
   "metadata": {},
   "source": [
    "#### 문제 설명  \n",
    "네트워크란 컴퓨터 상호 간에 정보를 교환할 수 있도록 연결된 형태를 의미합니다. 예를 들어, 컴퓨터 A와 컴퓨터 B가 직접적으로 연결되어있고, 컴퓨터 B와 컴퓨터 C가 직접적으로 연결되어 있을 때 컴퓨터 A와 컴퓨터 C도 간접적으로 연결되어 정보를 교환할 수 있습니다. 따라서 컴퓨터 A, B, C는 모두 같은 네트워크 상에 있다고 할 수 있습니다.  \n",
    "  \n",
    "컴퓨터의 개수 n, 연결에 대한 정보가 담긴 2차원 배열 computers가 매개변수로 주어질 때, 네트워크의 개수를 return 하도록 solution 함수를 작성하시오.  \n",
    "  \n",
    "#### 제한사항  \n",
    "- 컴퓨터의 개수 n은 1 이상 200 이하인 자연수입니다.  \n",
    "- 각 컴퓨터는 0부터 n-1인 정수로 표현합니다.  \n",
    "- i번 컴퓨터와 j번 컴퓨터가 연결되어 있으면 computers[i][j]를 1로 표현합니다.  \n",
    "- computer[i][i]는 항상 1입니다.  \n",
    "  \n",
    "#### 입출력 예  \n",
    "|n|\tcomputers|\treturn|\n",
    "|:---:|:---:|:---:|\n",
    "|3|\t[[1, 1, 0], [1, 1, 0], [0, 0, 1]]|\t2|\n",
    "|3|\t[[1, 1, 0], [1, 1, 1], [0, 1, 1]]|\t1|"
   ]
  },
  {
   "cell_type": "markdown",
   "metadata": {},
   "source": [
    "---"
   ]
  },
  {
   "cell_type": "markdown",
   "metadata": {},
   "source": [
    "### 문제 풀이"
   ]
  },
  {
   "cell_type": "code",
   "execution_count": 1,
   "metadata": {},
   "outputs": [],
   "source": [
    "# Union-find(disjoint set)을 이용한 풀이\n",
    "\n",
    "def get_parent(a, parent): # a번 노드가 속한 네트워크의 루트 노드 반환\n",
    "    if parent[a] == a: # 자기 자신이 루트 노드라면 바로 반환\n",
    "        return a\n",
    "    p = get_parent(parent[a], parent) # 네트워크의 루트 노드 재귀 탐색\n",
    "    parent[a] = p # 루트 노드 갱신\n",
    "    return p # 루트 노드 반환\n",
    "    \n",
    "def union(a, b, parent): # a번 노드와 b번 노드를 같은 네트워크로 연결\n",
    "    a = get_parent(a, parent)\n",
    "    b = get_parent(b, parent)\n",
    "    if a == b:\n",
    "        return\n",
    "    if a > b:\n",
    "        a, b = b, a\n",
    "    parent[b] = a # b번 노드의 루트노드를 a번 노드가 속한 네트워크의 루트노드로 갱신\n",
    "    return\n",
    "\n",
    "def solution(n, computers):\n",
    "    parent = [i for i in range(n)] # 각 노드별 부모\n",
    "    for y in range(n):\n",
    "        for x in range(n):\n",
    "            if y == x: # 동일한 노드끼리 탐색을 제외하고\n",
    "                continue\n",
    "            if computers[y][x] == 1: # y번 노드와 x번 노드가 연결되어 있다면\n",
    "                union(y, x, parent) # 서로를 연결해서 하나의 네트워크로 만든다.\n",
    "    answer = set()\n",
    "    for i in range(n):\n",
    "        answer.add(get_parent(i, parent))\n",
    "    return len(answer)"
   ]
  },
  {
   "cell_type": "code",
   "execution_count": 2,
   "metadata": {},
   "outputs": [
    {
     "data": {
      "text/plain": [
       "2"
      ]
     },
     "execution_count": 2,
     "metadata": {},
     "output_type": "execute_result"
    }
   ],
   "source": [
    "n = 3\n",
    "computers = [[1, 1, 0], [1, 1, 0], [0, 0, 1]]\n",
    "solution(n, computers)"
   ]
  },
  {
   "cell_type": "code",
   "execution_count": 3,
   "metadata": {},
   "outputs": [
    {
     "data": {
      "text/plain": [
       "1"
      ]
     },
     "execution_count": 3,
     "metadata": {},
     "output_type": "execute_result"
    }
   ],
   "source": [
    "n = 3\n",
    "computers = [[1, 1, 0], [1, 1, 1], [0, 1, 1]]\n",
    "solution(n, computers)"
   ]
  }
 ],
 "metadata": {
  "kernelspec": {
   "display_name": "Python 3",
   "language": "python",
   "name": "python3"
  },
  "language_info": {
   "codemirror_mode": {
    "name": "ipython",
    "version": 3
   },
   "file_extension": ".py",
   "mimetype": "text/x-python",
   "name": "python",
   "nbconvert_exporter": "python",
   "pygments_lexer": "ipython3",
   "version": "3.6.9"
  }
 },
 "nbformat": 4,
 "nbformat_minor": 2
}
