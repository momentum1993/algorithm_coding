{
 "cells": [
  {
   "cell_type": "markdown",
   "metadata": {},
   "source": [
    "#### 문제 설명  \n",
    "중 우선순위 큐는 다음 연산을 할 수 있는 자료구조를 말합니다.\n",
    "\n",
    "|명령어|\t수신 탑(높이)|\n",
    "|:---:|:---:|\n",
    "|I 숫자|\t큐에 주어진 숫자를 삽입합니다.|\n",
    "|D 1|\t큐에서 최댓값을 삭제합니다.|\n",
    "|D -1|\t큐에서 최솟값을 삭제합니다.|  \n",
    "  \n",
    "이중 우선순위 큐가 할 연산 operations가 매개변수로 주어질 때, 모든 연산을 처리한 후 큐가 비어있으면 [0,0] 비어있지 않으면 [최댓값, 최솟값]을 return 하도록 solution 함수를 구현해주세요.  \n",
    "  \n",
    "#### 제한사항  \n",
    "- operations는 길이가 1 이상 1,000,000 이하인 문자열 배열입니다.\n",
    "- operations의 원소는 큐가 수행할 연산을 나타냅니다.\n",
    "    - 원소는 “명령어 데이터” 형식으로 주어집니다.- 최댓값/최솟값을 삭제하는 연산에서 최댓값/최솟값이 둘 이상인 경우, 하나만 삭제합니다.\n",
    "- 빈 큐에 데이터를 삭제하라는 연산이 주어질 경우, 해당 연산은 무시합니다.\n",
    "  \n",
    "#### 입출력 예  \n",
    "|operations|\treturn|\n",
    "|:---:|:---:|\n",
    "|[I 16,D 1]|\t[0,0]|\n",
    "|[I 7,I 5,I -5,D -1]|\t[7,5]|  "
   ]
  },
  {
   "cell_type": "markdown",
   "metadata": {},
   "source": [
    "---"
   ]
  },
  {
   "cell_type": "markdown",
   "metadata": {},
   "source": [
    "### 문제 풀이"
   ]
  },
  {
   "cell_type": "code",
   "execution_count": 1,
   "metadata": {},
   "outputs": [],
   "source": [
    "from queue import PriorityQueue\n",
    "\n",
    "def solution(operations):\n",
    "    q = PriorityQueue() # 최솟값 우선순위 큐\n",
    "    max_q = PriorityQueue() # 최댓값 우선순위 큐\n",
    "    for op in operations: # 모든 연산에 대해서\n",
    "        op = op.split()\n",
    "        if op[0] == \"I\": # 큐에 push하는 연산\n",
    "            q.put(int(op[1]))\n",
    "            max_q.put(-int(op[1]))\n",
    "            # 각 큐에 값을 push\n",
    "            \n",
    "        else: # op[1] == \"D\" # 큐에서 pop하는 연산\n",
    "            if q.empty() or max_q.empty(): # 큐가 비었을 경우 pop연산 무시\n",
    "                continue\n",
    "            if op[1] == \"1\": # 최댓값 삭제\n",
    "                val = -max_q.get()\n",
    "                q.queue.remove(val)\n",
    "            else: # op[1] == \"-1\" # 최솟값 삭제\n",
    "                val = q.get()\n",
    "                max_q.queue.remove(-val)\n",
    "    answer = [0, 0] # 답\n",
    "    if not (q.empty() or max_q.empty()): # 큐가 비어있지 않을 경우\n",
    "        answer[0] = -max_q.get()\n",
    "        answer[1] = q.get()\n",
    "        # [최댓값, 최솟값] 갱신\n",
    "    return answer # 답 반환"
   ]
  },
  {
   "cell_type": "code",
   "execution_count": 2,
   "metadata": {},
   "outputs": [
    {
     "data": {
      "text/plain": [
       "[0, 0]"
      ]
     },
     "execution_count": 2,
     "metadata": {},
     "output_type": "execute_result"
    }
   ],
   "source": [
    "operations = [\"I 16\",\"D 1\"]\n",
    "solution(operations)"
   ]
  },
  {
   "cell_type": "code",
   "execution_count": 3,
   "metadata": {},
   "outputs": [
    {
     "data": {
      "text/plain": [
       "[7, 5]"
      ]
     },
     "execution_count": 3,
     "metadata": {},
     "output_type": "execute_result"
    }
   ],
   "source": [
    "operations = [\"I 7\",\"I 5\",\"I -5\",\"D -1\"]\n",
    "solution(operations)"
   ]
  },
  {
   "cell_type": "code",
   "execution_count": 4,
   "metadata": {},
   "outputs": [
    {
     "data": {
      "text/plain": [
       "[0, 0]"
      ]
     },
     "execution_count": 4,
     "metadata": {},
     "output_type": "execute_result"
    }
   ],
   "source": [
    "operations = [\"I 16\", \"I -5643\", \"D -1\", \"D 1\", \"D 1\", \"I 123\", \"D -1\"]\n",
    "solution(operations)"
   ]
  }
 ],
 "metadata": {
  "kernelspec": {
   "display_name": "Python 3",
   "language": "python",
   "name": "python3"
  },
  "language_info": {
   "codemirror_mode": {
    "name": "ipython",
    "version": 3
   },
   "file_extension": ".py",
   "mimetype": "text/x-python",
   "name": "python",
   "nbconvert_exporter": "python",
   "pygments_lexer": "ipython3",
   "version": "3.6.9"
  }
 },
 "nbformat": 4,
 "nbformat_minor": 2
}
