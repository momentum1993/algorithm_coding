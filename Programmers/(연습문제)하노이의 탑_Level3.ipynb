{
 "cells": [
  {
   "cell_type": "markdown",
   "metadata": {},
   "source": [
    "#### 문제 설명  \n",
    "하노이 탑(Tower of Hanoi)은 퍼즐의 일종입니다. 세 개의 기둥과 이 기동에 꽂을 수 있는 크기가 다양한 원판들이 있고, 퍼즐을 시작하기 전에는 한 기둥에 원판들이 작은 것이 위에 있도록 순서대로 쌓여 있습니다. 게임의 목적은 다음 두 가지 조건을 만족시키면서, 한 기둥에 꽂힌 원판들을 그 순서 그대로 다른 기둥으로 옮겨서 다시 쌓는 것입니다.  \n",
    "  \n",
    "1. 한 번에 하나의 원판만 옮길 수 있습니다.  \n",
    "2. 큰 원판이 작은 원판 위에 있어서는 안됩니다.  \n",
    "  \n",
    "하노이 탑의 세 개의 기둥을 왼쪽 부터 1번, 2번, 3번이라고 하겠습니다. 1번에는 n개의 원판이 있고 이 n개의 원판을 3번 원판으로 최소 횟수로 옮기려고 합니다.  \n",
    "  \n",
    "1번 기둥에 있는 원판의 개수 n이 매개변수로 주어질 때, n개의 원판을 3번 원판으로 최소로 옮기는 방법을 return하는 solution를 완성해주세요.  \n",
    "  \n",
    "#### 제한 조건  \n",
    "- n은 15이하의 자연수 입니다.  \n",
    "  \n",
    "#### 입출력 예  \n",
    "|n\t|result|\n",
    "|:---:|:---:|\n",
    "|2|\t[ [1,2], [1,3], [2,3] ]|  "
   ]
  },
  {
   "cell_type": "markdown",
   "metadata": {},
   "source": [
    "---"
   ]
  },
  {
   "cell_type": "markdown",
   "metadata": {},
   "source": [
    "### 문제 풀이"
   ]
  },
  {
   "cell_type": "code",
   "execution_count": 4,
   "metadata": {},
   "outputs": [],
   "source": [
    "def simulation(num, fro, to, via, answer): # 하노이 탑 시뮬레이션\n",
    "    if num == 1: # 만약 원판이 1개 남았을 때\n",
    "        answer.append([fro, to]) # 시작점에서 목적지로 원판을 넘기고 바로 끝이난다.\n",
    "        return\n",
    "    simulation(num-1, fro, via, to, answer) # 1번 기둥의 num-1개의 원판을 2번 기둥으로 옮긴다.\n",
    "    answer.append([fro, to]) # 그리고 마지막에 있는 num번 원판을 3번 기둥으로 옮긴다. \n",
    "    simulation(num-1, via, to, fro, answer) # 2번 기둥에 있는 num-1개의 원판들을 3번 기둥으로 옮긴다.\n",
    "    return\n",
    "\n",
    "def solution(n):\n",
    "    answer = [] # 답\n",
    "    simulation(n, 1, 3, 2, answer)\n",
    "    # n개의 원판을 1번 기둥에서 2번 기둥을 거쳐서 3번 기둥으로 옮기는 시뮬레이션 진행\n",
    "    return answer # 답 반환"
   ]
  },
  {
   "cell_type": "code",
   "execution_count": 5,
   "metadata": {},
   "outputs": [
    {
     "data": {
      "text/plain": [
       "[[1, 2], [1, 3], [2, 3]]"
      ]
     },
     "execution_count": 5,
     "metadata": {},
     "output_type": "execute_result"
    }
   ],
   "source": [
    "n = 2\n",
    "solution(2)"
   ]
  }
 ],
 "metadata": {
  "kernelspec": {
   "display_name": "Python 3",
   "language": "python",
   "name": "python3"
  },
  "language_info": {
   "codemirror_mode": {
    "name": "ipython",
    "version": 3
   },
   "file_extension": ".py",
   "mimetype": "text/x-python",
   "name": "python",
   "nbconvert_exporter": "python",
   "pygments_lexer": "ipython3",
   "version": "3.6.9"
  }
 },
 "nbformat": 4,
 "nbformat_minor": 2
}
