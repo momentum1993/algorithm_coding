{
 "cells": [
  {
   "cell_type": "markdown",
   "metadata": {},
   "source": [
    "#### 문제 설명  \n",
    "가로 길이가 2이고 세로의 길이가 1인 직사각형 모양의 타일이 있습니다. 이 직사각형 타일을 이용하여 세로의 길이가 3이고 가로의 길이가 n인 바닥을 가득 채우려고 합니다. 타일을 채울 때는 다음과 같이 2가지 방법이 있습니다  \n",
    "  \n",
    "- 타일을 가로로 배치 하는 경우  \n",
    "- 타일을 세로로 배치 하는 경우  \n",
    "  \n",
    "예를들어서 n이 8인 직사각형은 다음과 같이 채울 수 있습니다.  \n",
    "  \n",
    "![](https://i.imgur.com/zBW7peI.png)  \n",
    "  \n",
    "직사각형의 가로의 길이 n이 매개변수로 주어질 때, 이 직사각형을 채우는 방법의 수를 return 하는 solution 함수를 완성해주세요.  \n",
    "  \n",
    "#### 제한사항  \n",
    "- 가로의 길이 n은 5,000이하의 자연수 입니다.  \n",
    "- 경우의 수가 많아 질 수 있으므로, 경우의 수를 1,000,000,007으로 나눈 나머지를 return해주세요.  \n",
    "  \n",
    "#### 입출력 예  \n",
    "|n|\tresult|\n",
    "|:---:|:---:|\n",
    "|4|\t11|    "
   ]
  },
  {
   "cell_type": "markdown",
   "metadata": {},
   "source": [
    "---"
   ]
  },
  {
   "cell_type": "markdown",
   "metadata": {},
   "source": [
    "### 문제 풀이"
   ]
  },
  {
   "cell_type": "code",
   "execution_count": 1,
   "metadata": {},
   "outputs": [],
   "source": [
    "import sys\n",
    "sys.setrecursionlimit(100000) # 재귀 제한을 100000으로 설정\n",
    "\n",
    "def get_case_num(n, mem): # 3 x n 길이일 때의 경우의 수 반환\n",
    "    if mem[n] != -1: # 이미 경우의 수를 구한 경우 바로 반환\n",
    "        return mem[n]\n",
    "    \n",
    "    # f(4) = f(2) x 3 + 2\n",
    "    # f(6) = f(4) x 3 + f(2) x 2 + 2\n",
    "    # f(8) = f(6) x 3 + f(4) x 2 + f(2) x 2 + 2\n",
    "    # ....\n",
    "    # f(n) = f(n-2) x 3 + f(n-4) x 2 + … + f(2) x 2 + 2 \n",
    "    \n",
    "    # 위의 형태의 점화식에 맞게 계산한다.\n",
    "    mem[n] = 2\n",
    "    mem[n] += 3 * get_case_num(n-2, mem)\n",
    "    if n >= 6: \n",
    "        for i in range(n-4, 0, -2):\n",
    "            mem[n] += 2 * get_case_num(i, mem)\n",
    "    mem[n] %= 1000000007 # 그리고 수가 커질 경우 1000000007로 나눈 나머지값을 저장\n",
    "    return mem[n] # 3 x n 크기의 타일링 경우의 수 반환\n",
    "\n",
    "def solution(n):\n",
    "    if n % 2 != 0: # n이 홀수 일 때의 경우의 수는 0\n",
    "        return 0\n",
    "    mem = [-1 for _ in range(n+1)] # 각 인덱스별 경우의 수를 저장할 것임\n",
    "    mem[2] = 3 # 3 x 2 크기의 타일링 경우의 수는 3개\n",
    "    return get_case_num(n, mem) # 3 x n 크기의 타일링 경우의 수 반환"
   ]
  },
  {
   "cell_type": "code",
   "execution_count": 2,
   "metadata": {},
   "outputs": [
    {
     "data": {
      "text/plain": [
       "11"
      ]
     },
     "execution_count": 2,
     "metadata": {},
     "output_type": "execute_result"
    }
   ],
   "source": [
    "n = 4\n",
    "solution(n)"
   ]
  },
  {
   "cell_type": "code",
   "execution_count": 3,
   "metadata": {},
   "outputs": [
    {
     "data": {
      "text/plain": [
       "41"
      ]
     },
     "execution_count": 3,
     "metadata": {},
     "output_type": "execute_result"
    }
   ],
   "source": [
    "n = 6\n",
    "solution(n)"
   ]
  },
  {
   "cell_type": "code",
   "execution_count": 4,
   "metadata": {},
   "outputs": [
    {
     "data": {
      "text/plain": [
       "153"
      ]
     },
     "execution_count": 4,
     "metadata": {},
     "output_type": "execute_result"
    }
   ],
   "source": [
    "n = 8\n",
    "solution(n)"
   ]
  }
 ],
 "metadata": {
  "kernelspec": {
   "display_name": "Python 3",
   "language": "python",
   "name": "python3"
  },
  "language_info": {
   "codemirror_mode": {
    "name": "ipython",
    "version": 3
   },
   "file_extension": ".py",
   "mimetype": "text/x-python",
   "name": "python",
   "nbconvert_exporter": "python",
   "pygments_lexer": "ipython3",
   "version": "3.6.9"
  }
 },
 "nbformat": 4,
 "nbformat_minor": 2
}
