{
 "cells": [
  {
   "cell_type": "markdown",
   "metadata": {},
   "source": [
    "#### 문제 설명  \n",
    "효진이는 멀리 뛰기를 연습하고 있습니다. 효진이는 한번에 1칸, 또는 2칸을 뛸 수 있습니다. 칸이 총 4개 있을 때, 효진이는  \n",
    "(1칸, 1칸, 1칸, 1칸)  \n",
    "(1칸, 2칸, 1칸)  \n",
    "(1칸, 1칸, 2칸)  \n",
    "(2칸, 1칸, 1칸)  \n",
    "(2칸, 2칸)  \n",
    "의 5가지 방법으로 맨 끝 칸에 도달할 수 있습니다. 멀리뛰기에 사용될 칸의 수 n이 주어질 때, 효진이가 끝에 도달하는 방법이 몇 가지인지 알아내, 여기에 1234567를 나눈 나머지를 리턴하는 함수, solution을 완성하세요. 예를 들어 4가 입력된다면, 5를 return하면 됩니다.  \n",
    "   \n",
    "#### 제한 조건  \n",
    "- n은 1 이상, 2000 이하인 정수입니다.  \n",
    "  \n",
    "#### 입출력 예  \n",
    "|n|\tresult|\n",
    "|:---:|:---:|\n",
    "|4|\t5|\n",
    "|3|\t3|  "
   ]
  },
  {
   "cell_type": "markdown",
   "metadata": {},
   "source": [
    "---"
   ]
  },
  {
   "cell_type": "markdown",
   "metadata": {},
   "source": [
    "### 문제 풀이"
   ]
  },
  {
   "cell_type": "code",
   "execution_count": 1,
   "metadata": {},
   "outputs": [],
   "source": [
    "def solution(n):\n",
    "    cases = [0 for _ in range(n+1)] # 거리당 멀리 뛰기로 도달할 수 있는 방법 수\n",
    "    cases[0] = 1\n",
    "    cases[1] = 1\n",
    "    # 0, 1미터로 도달할 수 있는 방법의 수는 1가지\n",
    "    for i in range(2, n+1): # 2미터 부터 n미터까지\n",
    "        cases[i] += cases[i-2] + cases[i-1] \n",
    "        # i미터까지 도달 할 수 있는 방법의 수 = i-2미터까지 도달 할 수 있는 방법의 수 + i-1미터까지 도달 할 수 있는 방법의 수\n",
    "        # 1미터나 2미터 거리만큼만을 뛸 수 있기때문에 위의 식이 성립된다.\n",
    "        cases[i] %= 1234567 # 1234567로 나눈 나머지 저장\n",
    "    return cases[n] # 답 반환"
   ]
  },
  {
   "cell_type": "code",
   "execution_count": 2,
   "metadata": {},
   "outputs": [
    {
     "data": {
      "text/plain": [
       "5"
      ]
     },
     "execution_count": 2,
     "metadata": {},
     "output_type": "execute_result"
    }
   ],
   "source": [
    "n = 4 \n",
    "solution(n)"
   ]
  },
  {
   "cell_type": "code",
   "execution_count": 3,
   "metadata": {},
   "outputs": [
    {
     "data": {
      "text/plain": [
       "3"
      ]
     },
     "execution_count": 3,
     "metadata": {},
     "output_type": "execute_result"
    }
   ],
   "source": [
    "n = 3 \n",
    "solution(n)"
   ]
  }
 ],
 "metadata": {
  "kernelspec": {
   "display_name": "Python 3",
   "language": "python",
   "name": "python3"
  },
  "language_info": {
   "codemirror_mode": {
    "name": "ipython",
    "version": 3
   },
   "file_extension": ".py",
   "mimetype": "text/x-python",
   "name": "python",
   "nbconvert_exporter": "python",
   "pygments_lexer": "ipython3",
   "version": "3.6.9"
  }
 },
 "nbformat": 4,
 "nbformat_minor": 2
}
