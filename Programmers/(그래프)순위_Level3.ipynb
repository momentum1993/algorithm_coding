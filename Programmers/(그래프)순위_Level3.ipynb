{
 "cells": [
  {
   "cell_type": "markdown",
   "metadata": {},
   "source": [
    "#### 문제 설명\n",
    "n명의 권투선수가 권투 대회에 참여했고 각각 1번부터 n번까지 번호를 받았습니다. 권투 경기는 1대1 방식으로 진행이 되고, 만약 A 선수가 B 선수보다 실력이 좋다면 A 선수는 B 선수를 항상 이깁니다. 심판은 주어진 경기 결과를 가지고 선수들의 순위를 매기려 합니다. 하지만 몇몇 경기 결과를 분실하여 정확하게 순위를 매길 수 없습니다.\n",
    "\n",
    "선수의 수 n, 경기 결과를 담은 2차원 배열 results가 매개변수로 주어질 때 정확하게 순위를 매길 수 있는 선수의 수를 return 하도록 solution 함수를 작성해주세요.\n",
    "\n",
    "#### 제한사항  \n",
    "- 선수의 수는 1명 이상 100명 이하입니다.\n",
    "- 경기 결과는 1개 이상 4,500개 이하입니다.\n",
    "- results 배열 각 행 [A, B]는 A 선수가 B 선수를 이겼다는 의미입니다.\n",
    "- 모든 경기 결과에는 모순이 없습니다.\n",
    "  \n",
    "#### 입출력 예  \n",
    "|n|\tresults|\treturn|\n",
    "|:---:|:---:|:---:|\n",
    "|5|\t[[4, 3], [4, 2], [3, 2], [1, 2], [2, 5]]|\t2|  "
   ]
  },
  {
   "cell_type": "markdown",
   "metadata": {},
   "source": [
    "---"
   ]
  },
  {
   "cell_type": "markdown",
   "metadata": {},
   "source": [
    "### 문제 풀이"
   ]
  },
  {
   "cell_type": "code",
   "execution_count": 1,
   "metadata": {},
   "outputs": [],
   "source": [
    "def get_result(n, win, checked, a, b): # 선수 a와 선수 b 사이의 전적 결과 반환\n",
    "    if win[a][b] != 0 or checked[a][b]: # 만약 이미 결과가 있다면 바로 반환\n",
    "        return win[a][b]\n",
    "    checked[a][b] = True\n",
    "    for c in range(n): # 임의의 선수 c에 대해서\n",
    "        if a == c:\n",
    "            continue\n",
    "        if win[a][c] == -1 and get_result(n, win, checked, c, b) == -1: # a가 c에 지고, c는 b에 졌을 경우\n",
    "            win[a][b] = -1\n",
    "            win[b][a] = 1\n",
    "            checked[b][a] = True\n",
    "            # a는 b에 지는 것이다\n",
    "            break\n",
    "        if win[a][c] == 1 and get_result(n, win, checked, c, b) == 1: # a가 c에 이기고, c는 b에 이겼을 경우\n",
    "            win[a][b] = 1\n",
    "            win[b][a] = -1\n",
    "            checked[b][a] = True\n",
    "            # a는 b에 이기는 것이다.\n",
    "            break\n",
    "    checked[a][b] = False\n",
    "    return win[a][b] # a와 b간의 전적 결과 반환\n",
    "\n",
    "def solution(n, results):\n",
    "    answer = 0 # 답\n",
    "    checked = [[False for _ in range(n)] for _ in range(n)] # 전적 검사 여부\n",
    "    win = [[0 for _ in range(n)] for _ in range(n)] # 상대와의 전적\n",
    "    for a, b in results: # 현재 남아있는 모든 전적에 대해서\n",
    "        checked[a-1][b-1] = True\n",
    "        checked[b-1][a-1] = True\n",
    "        win[a-1][b-1] = 1\n",
    "        win[b-1][a-1] = -1\n",
    "        # a-1은 b-1에 이겼다는 전적을 기록\n",
    "    \n",
    "    for a in range(n):\n",
    "        count = 0\n",
    "        for b in range(n): # 모든 선수쌍에 대해서\n",
    "            if a == b:\n",
    "                continue\n",
    "            if get_result(n, win, checked, a, b) != 0: # 확실한 전적이 있을 경우\n",
    "                count += 1 # 카운트 1 증가\n",
    "        if count == n-1: # 만약 자신을 제외한 모든 선수에 대한 전적이 확실할 경우\n",
    "            answer += 1 # 답 증가\n",
    "    return answer # 답 반환"
   ]
  },
  {
   "cell_type": "code",
   "execution_count": 2,
   "metadata": {},
   "outputs": [
    {
     "data": {
      "text/plain": [
       "2"
      ]
     },
     "execution_count": 2,
     "metadata": {},
     "output_type": "execute_result"
    }
   ],
   "source": [
    "n = 5\n",
    "results = [[4, 3], [4, 2], [3, 2], [1, 2], [2, 5]]\n",
    "solution(n, results)"
   ]
  }
 ],
 "metadata": {
  "kernelspec": {
   "display_name": "Python 3",
   "language": "python",
   "name": "python3"
  },
  "language_info": {
   "codemirror_mode": {
    "name": "ipython",
    "version": 3
   },
   "file_extension": ".py",
   "mimetype": "text/x-python",
   "name": "python",
   "nbconvert_exporter": "python",
   "pygments_lexer": "ipython3",
   "version": "3.6.9"
  }
 },
 "nbformat": 4,
 "nbformat_minor": 2
}
