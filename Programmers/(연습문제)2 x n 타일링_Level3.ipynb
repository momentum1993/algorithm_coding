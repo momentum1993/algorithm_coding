{
 "cells": [
  {
   "cell_type": "markdown",
   "metadata": {},
   "source": [
    "#### 문제 설명  \n",
    "가로 길이가 2이고 세로의 길이가 1인 직사각형모양의 타일이 있습니다. 이 직사각형 타일을 이용하여 세로의 길이가 2이고 가로의 길이가 n인 바닥을 가득 채우려고 합니다. 타일을 채울 때는 다음과 같이 2가지 방법이 있습니다.  \n",
    "  \n",
    "- 타일을 가로로 배치 하는 경우  \n",
    "- 타일을 세로로 배치 하는 경우  \n",
    "  \n",
    "예를들어서 n이 7인 직사각형은 다음과 같이 채울 수 있습니다.  \n",
    "  \n",
    "![](https://i.imgur.com/29ANX0f.png)  \n",
    "  \n",
    "직사각형의 가로의 길이 n이 매개변수로 주어질 때, 이 직사각형을 채우는 방법의 수를 return 하는 solution 함수를 완성해주세요.  \n",
    "  \n",
    "#### 제한 조건  \n",
    "- 가로의 길이 n은 60,000이하의 자연수 입니다.\n",
    "- 경우의 수가 많아 질 수 있으므로, 경우의 수를 1,000,000,007으로 나눈 나머지를 return해주세요.\n",
    "  \n",
    "#### 입출력 예  \n",
    "|n|\tresult|\n",
    "|:---:|:---:|\n",
    "|4|\t5|  "
   ]
  },
  {
   "cell_type": "markdown",
   "metadata": {},
   "source": [
    "---"
   ]
  },
  {
   "cell_type": "markdown",
   "metadata": {},
   "source": [
    "### 문제 풀이"
   ]
  },
  {
   "cell_type": "code",
   "execution_count": 1,
   "metadata": {},
   "outputs": [],
   "source": [
    "import sys\n",
    "sys.setrecursionlimit(100000) # 재귀 제한 횟수를 여유있게 100000번으로 늘린다\n",
    "\n",
    "def simulation(n, mem): # 답을 구하는 재귀함수\n",
    "    if mem[n] != -1: # 만약 이미 구한 값이라면 바로 반환\n",
    "        return mem[n]\n",
    "    mem[n] = simulation(n-1, mem) + simulation(n-2, mem)\n",
    "    # 타일링의 개수가 피보나치 수열으로 늘어난다.\n",
    "    mem[n] %= 1000000007 # 1000000007로 나눈 나머지를 구한다 \n",
    "    return mem[n] # 답 반환\n",
    "\n",
    "def solution(n):\n",
    "    mem = [-1 for _ in range(60001)] # 2 x n의 크기일 때 나올 수 있는 경우의 수(인덱스: n)\n",
    "    mem[1] = 1 # 2 x 1의 크기일 때 경우의 수 1\n",
    "    mem[2] = 2 # 2 x 2의 크기일 때 경우의 수 2\n",
    "    answer = simulation(n, mem) # 2 x n일 때의 경우의 수를 구한다\n",
    "    return answer % 1000000007 # 답을 1000000007로 나눈 나머지값을 반환"
   ]
  },
  {
   "cell_type": "code",
   "execution_count": 2,
   "metadata": {},
   "outputs": [
    {
     "data": {
      "text/plain": [
       "5"
      ]
     },
     "execution_count": 2,
     "metadata": {},
     "output_type": "execute_result"
    }
   ],
   "source": [
    "solution(4)"
   ]
  }
 ],
 "metadata": {
  "kernelspec": {
   "display_name": "Python 3",
   "language": "python",
   "name": "python3"
  },
  "language_info": {
   "codemirror_mode": {
    "name": "ipython",
    "version": 3
   },
   "file_extension": ".py",
   "mimetype": "text/x-python",
   "name": "python",
   "nbconvert_exporter": "python",
   "pygments_lexer": "ipython3",
   "version": "3.6.9"
  }
 },
 "nbformat": 4,
 "nbformat_minor": 2
}
