{
 "cells": [
  {
   "cell_type": "markdown",
   "metadata": {},
   "source": [
    "#### 문제 설명  \n",
    "가로, 세로 길이가 n인 정사각형으로된 체스판이 있습니다. 체스판 위의 n개의 퀸이 서로를 공격할 수 없도록 배치하고 싶습니다.  \n",
    "  \n",
    "예를 들어서 n이 4인경우 다음과 같이 퀸을 배치하면 n개의 퀸은 서로를 한번에 공격 할 수 없습니다.  \n",
    "  \n",
    "![](https://i.imgur.com/lt2zdK6.png)  \n",
    "![](https://i.imgur.com/5c5EUrq.png)  \n",
    "  \n",
    "체스판의 가로 세로의 세로의 길이 n이 매개변수로 주어질 때, n개의 퀸이 조건에 만족 하도록 배치할 수 있는 방법의 수를 return하는 solution함수를 완성해주세요.  \n",
    "  \n",
    "#### 제한 조건  \n",
    "- 퀸(Queen)은 가로, 세로, 대각선으로 이동할 수 있습니다.  \n",
    "- n은 12이하의 자연수 입니다.  \n",
    "  \n",
    "#### 입출력 예  \n",
    "|n|\tresult|\n",
    "|:---:|:---:|\n",
    "|4|\t2|  "
   ]
  },
  {
   "cell_type": "markdown",
   "metadata": {},
   "source": [
    "---"
   ]
  },
  {
   "cell_type": "markdown",
   "metadata": {},
   "source": [
    "### 문제 풀이"
   ]
  },
  {
   "cell_type": "code",
   "execution_count": 1,
   "metadata": {},
   "outputs": [],
   "source": [
    "def simulation(n, board, row): # N-Queen 시뮬레이션 진행\n",
    "    if row == n: # 만약 모든 row에 퀸이 배치되었다면(성공했다면)\n",
    "        return 1 # 1 반환\n",
    "    answer = 0 # 답\n",
    "    for i in range(n): # 모든 column에 대해서\n",
    "        if board[i] != -1: # 이미 퀸이 배치되어 있는 컬럼은 제외한다\n",
    "            continue\n",
    "        \n",
    "        block = False # N-Queen 배치할 수 있는지 여부 (True: 배치 못함, False: 배치 할 수 있음)\n",
    "        for j in range(n): # 현재 탐색 중인 column을 제외한 컬럼에 대해서\n",
    "            if board[j] == -1: # 아직 퀸이 배치되지 않은 컬럼을 제외하고\n",
    "                continue\n",
    "            if i > j and row - board[j] == i-j:\n",
    "                block = True\n",
    "                break\n",
    "            if i < j and row - board[j] == j-i:\n",
    "                block = True\n",
    "                break\n",
    "            # 현재의 (row, i)위치와 대각선상에 퀸이 위치하고 있을 때 block은 True가 된다\n",
    "        if block:\n",
    "            continue # block이 될 때는 다음으로 넘어간다\n",
    "        temp = board[i]\n",
    "        board[i] = row # (row, i)에 퀸 배치\n",
    "        answer += simulation(n, board, row+1) # 다음 행에 대해서 퀸 배치 재귀 시뮬레이션 진행 후 답에 합함\n",
    "        board[i] = temp\n",
    "    return answer # 답 반환\n",
    "            \n",
    "\n",
    "def solution(n):\n",
    "    board = [-1 for _ in range(n)] # 각 column별 퀸이 배치된 row\n",
    "    answer = 0 # 답\n",
    "    for i in range(n): # 모든 column에 대해서\n",
    "        board[i] = 0 # i번 column, 0번 row에 퀸이 배치될 경우\n",
    "        answer += simulation(n, board, 1) # 시뮬레이션 진행 후 답에 합함\n",
    "        board[i] = -1 # 원상복구\n",
    "    return answer # 답 반환"
   ]
  },
  {
   "cell_type": "code",
   "execution_count": 2,
   "metadata": {},
   "outputs": [
    {
     "data": {
      "text/plain": [
       "2"
      ]
     },
     "execution_count": 2,
     "metadata": {},
     "output_type": "execute_result"
    }
   ],
   "source": [
    "n = 4\n",
    "solution(n)"
   ]
  }
 ],
 "metadata": {
  "kernelspec": {
   "display_name": "Python 3",
   "language": "python",
   "name": "python3"
  },
  "language_info": {
   "codemirror_mode": {
    "name": "ipython",
    "version": 3
   },
   "file_extension": ".py",
   "mimetype": "text/x-python",
   "name": "python",
   "nbconvert_exporter": "python",
   "pygments_lexer": "ipython3",
   "version": "3.6.9"
  }
 },
 "nbformat": 4,
 "nbformat_minor": 2
}
