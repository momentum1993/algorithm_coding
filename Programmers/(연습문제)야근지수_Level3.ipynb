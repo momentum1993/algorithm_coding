{
 "cells": [
  {
   "cell_type": "markdown",
   "metadata": {},
   "source": [
    "#### 문제 설명  \n",
    "회사원 Demi는 가끔은 야근을 하는데요, 야근을 하면 야근 피로도가 쌓입니다. 야근 피로도는 야근을 시작한 시점에서 남은 일의 작업량을 제곱하여 더한 값입니다. Demi는 N시간 동안 야근 피로도를 최소화하도록 일할 겁니다.Demi가 1시간 동안 작업량 1만큼을 처리할 수 있다고 할 때, 퇴근까지 남은 N 시간과 각 일에 대한 작업량 works에 대해 야근 피로도를 최소화한 값을 리턴하는 함수 solution을 완성해주세요.  \n",
    "  \n",
    "#### 제한 사항  \n",
    "- works는 길이 1 이상, 20,000 이하인 배열입니다.\n",
    "- works의 원소는 50000 이하인 자연수입니다.\n",
    "- n은 1,000,000 이하인 자연수입니다.\n",
    "  \n",
    "#### 입출력 예  \n",
    "|works|\tn|\tresult|\n",
    "|:---:|:---:|:---:|\n",
    "|[4, 3, 3]|\t4|\t12|\n",
    "|[2, 1, 2]|\t1|\t6|\n",
    "|[1,1]|\t3|\t0|  "
   ]
  },
  {
   "cell_type": "markdown",
   "metadata": {},
   "source": [
    "---"
   ]
  },
  {
   "cell_type": "markdown",
   "metadata": {},
   "source": [
    "### 문제 풀이"
   ]
  },
  {
   "cell_type": "code",
   "execution_count": 1,
   "metadata": {},
   "outputs": [],
   "source": [
    "import heapq\n",
    "\n",
    "def solution(n, works):\n",
    "    for i in range(len(works)):\n",
    "        works[i] *= -1 # 모든 작업에 대해서 음수로 바꿔준다.\n",
    "    heapq.heapify(works) #  힙큐 정렬\n",
    "\n",
    "    # 정규시간 작업\n",
    "    for i in range(0, n): # n시간 동안 남은 작업을 진행한다.(남은 작업이 많은 순으로)\n",
    "        m = heapq.heappop(works) # 힙큐에서 작업을 빼낸다\n",
    "        if m >= 0: # 만약 작업시간이 0이하일 때\n",
    "            heapq.heappush(works, m) # 큐에 다시 push하고\n",
    "            break # 작업 종료\n",
    "        heapq.heappush(works, m+1) # 1시간의 작업을 했으므로, 해당작업의 남은 작업량을 1 줄인 후 다시 힙큐에 push\n",
    "\n",
    "    # n시간이 흐른 후 야근작업\n",
    "    answer = 0 # 답\n",
    "    while len(works) > 0: # 남은 작업이 있을 때까지\n",
    "        m = heapq.heappop(works) # 작업량을 pop\n",
    "        answer += pow(m * -1, 2) # 처음에 모두 음수화 해줬기 때문에 -1을 곱한 값에 제곱을 더해준다.\n",
    "    return answer # 답 반환"
   ]
  },
  {
   "cell_type": "code",
   "execution_count": 2,
   "metadata": {},
   "outputs": [
    {
     "data": {
      "text/plain": [
       "12"
      ]
     },
     "execution_count": 2,
     "metadata": {},
     "output_type": "execute_result"
    }
   ],
   "source": [
    "works = [4, 3, 3]\n",
    "n = 4\n",
    "solution(n, works)"
   ]
  },
  {
   "cell_type": "code",
   "execution_count": 3,
   "metadata": {},
   "outputs": [
    {
     "data": {
      "text/plain": [
       "6"
      ]
     },
     "execution_count": 3,
     "metadata": {},
     "output_type": "execute_result"
    }
   ],
   "source": [
    "works = [2, 1, 2]\n",
    "n = 1\n",
    "solution(n, works)"
   ]
  },
  {
   "cell_type": "code",
   "execution_count": 4,
   "metadata": {},
   "outputs": [
    {
     "data": {
      "text/plain": [
       "0"
      ]
     },
     "execution_count": 4,
     "metadata": {},
     "output_type": "execute_result"
    }
   ],
   "source": [
    "works = [1,1]\n",
    "n = 3\n",
    "solution(n, works)"
   ]
  }
 ],
 "metadata": {
  "kernelspec": {
   "display_name": "Python 3",
   "language": "python",
   "name": "python3"
  },
  "language_info": {
   "codemirror_mode": {
    "name": "ipython",
    "version": 3
   },
   "file_extension": ".py",
   "mimetype": "text/x-python",
   "name": "python",
   "nbconvert_exporter": "python",
   "pygments_lexer": "ipython3",
   "version": "3.6.9"
  }
 },
 "nbformat": 4,
 "nbformat_minor": 2
}
