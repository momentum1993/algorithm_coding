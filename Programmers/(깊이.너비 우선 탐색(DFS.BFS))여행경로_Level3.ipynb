{
 "cells": [
  {
   "cell_type": "markdown",
   "metadata": {},
   "source": [
    "#### 문제 설명  \n",
    "주어진 항공권을 모두 이용하여 여행경로를 짜려고 합니다. 항상 ICN 공항에서 출발합니다.  \n",
    "  \n",
    "항공권 정보가 담긴 2차원 배열 tickets가 매개변수로 주어질 때, 방문하는 공항 경로를 배열에 담아 return 하도록 solution 함수를 작성해주세요.  \n",
    "  \n",
    "#### 제한사항  \n",
    "- 모든 공항은 알파벳 대문자 3글자로 이루어집니다.\n",
    "- 주어진 공항 수는 3개 이상 10,000개 이하입니다.\n",
    "- tickets의 각 행 [a, b]는 a 공항에서 b 공항으로 가는 항공권이 있다는 의미입니다.\n",
    "- 주어진 항공권은 모두 사용해야 합니다.\n",
    "- 만일 가능한 경로가 2개 이상일 경우 알파벳 순서가 앞서는 경로를 return 합니다.\n",
    "- 모든 도시를 방문할 수 없는 경우는 주어지지 않습니다.\n",
    "  \n",
    "#### 입출력 예\n",
    "|tickets|\treturn|\n",
    "|:---:|:---:|\n",
    "|[[ICN, JFK], [HND, IAD], [JFK, HND]]|\t[ICN, JFK, HND, IAD]|\n",
    "|[[ICN, SFO], [ICN, ATL], [SFO, ATL], [ATL, ICN], [ATL,SFO]]|\t[ICN, ATL, ICN, SFO, ATL, SFO]|  "
   ]
  },
  {
   "cell_type": "markdown",
   "metadata": {},
   "source": [
    "---"
   ]
  },
  {
   "cell_type": "markdown",
   "metadata": {},
   "source": [
    "### 문제 풀이"
   ]
  },
  {
   "cell_type": "code",
   "execution_count": 1,
   "metadata": {},
   "outputs": [],
   "source": [
    "from collections import defaultdict\n",
    "\n",
    "def get_route(adjacent, departure, route, num): # 항공 루트 반환\n",
    "    if num == 0: # 만약 모든 항공권을 사용했다면\n",
    "        return route # 항공 루트 반환\n",
    "    if not adjacent.get(departure): # 만약 현재 위치에서 출발할 수 있는 항공권이 없다면\n",
    "        return None # None 반환\n",
    "    \n",
    "    for arrival in sorted(adjacent[departure].keys()): # 현재 위치에서 갈 수 있는 모든 도착지에 대해서(알파벳 오름차순)\n",
    "        if adjacent[departure][arrival] == 0: # 이미 쓴 항공권이라면 패스\n",
    "            continue\n",
    "        adjacent[departure][arrival] -= 1\n",
    "        answer = get_route(adjacent, arrival, route+[arrival], num-1)\n",
    "        # 항공권을 통해 이동 후 재귀적으로 계속 루트 탐색\n",
    "        adjacent[departure][arrival] += 1\n",
    "        if answer: # 만약 루트가 있다면\n",
    "            return answer # 루트 반환\n",
    "    return None # 루트가 끊겼을 때 None 반환\n",
    "\n",
    "def solution(tickets):\n",
    "    adjacent = dict() # 인접 행렬\n",
    "    for a, b in tickets: # 모든 티켓에 대해서\n",
    "        if adjacent.get(a) is None:\n",
    "            adjacent[a] = defaultdict(int)\n",
    "        adjacent[a][b] += 1 # (a, b) 루트의 항공권이 있다면 1 증가\n",
    "    return get_route(adjacent, \"ICN\", [\"ICN\"], len(tickets)) # 항공 루트 찾아서 반환"
   ]
  },
  {
   "cell_type": "code",
   "execution_count": 2,
   "metadata": {},
   "outputs": [
    {
     "data": {
      "text/plain": [
       "['ICN', 'JFK', 'HND', 'IAD']"
      ]
     },
     "execution_count": 2,
     "metadata": {},
     "output_type": "execute_result"
    }
   ],
   "source": [
    "tickets = [[\"ICN\", \"JFK\"], [\"HND\", \"IAD\"], [\"JFK\", \"HND\"]]\n",
    "solution(tickets)"
   ]
  },
  {
   "cell_type": "code",
   "execution_count": 3,
   "metadata": {},
   "outputs": [
    {
     "data": {
      "text/plain": [
       "['ICN', 'ATL', 'ICN', 'SFO', 'ATL', 'SFO']"
      ]
     },
     "execution_count": 3,
     "metadata": {},
     "output_type": "execute_result"
    }
   ],
   "source": [
    "tickets = [[\"ICN\", \"SFO\"], [\"ICN\", \"ATL\"], [\"SFO\", \"ATL\"], [\"ATL\", \"ICN\"], [\"ATL\",\"SFO\"]]\n",
    "solution(tickets)"
   ]
  }
 ],
 "metadata": {
  "kernelspec": {
   "display_name": "Python 3",
   "language": "python",
   "name": "python3"
  },
  "language_info": {
   "codemirror_mode": {
    "name": "ipython",
    "version": 3
   },
   "file_extension": ".py",
   "mimetype": "text/x-python",
   "name": "python",
   "nbconvert_exporter": "python",
   "pygments_lexer": "ipython3",
   "version": "3.6.9"
  }
 },
 "nbformat": 4,
 "nbformat_minor": 2
}
