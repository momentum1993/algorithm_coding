{
 "cells": [
  {
   "cell_type": "markdown",
   "metadata": {},
   "source": [
    "#### 문제 설명  \n",
    "앞뒤를 뒤집어도 똑같은 문자열을 팰린드롬(palindrome)이라고 합니다.  \n",
    "문자열 s가 주어질 때, s의 부분문자열(Substring)중 가장 긴 팰린드롬의 길이를 return 하는 solution 함수를 완성해 주세요.  \n",
    "  \n",
    "예를들면, 문자열 s가 abcdcba이면 7을 return하고 abacde이면 3을 return합니다.  \n",
    "  \n",
    "#### 제한 조건  \n",
    "- 문자열 s의 길이 : 2,500 이하의 자연수  \n",
    "- 문자열 s는 알파벳 소문자로만 구성  \n",
    "  \n",
    "#### 입출력 예    \n",
    "|s|\tanswer|\n",
    "|:---:|:---:|\n",
    "|abcdcba|\t7|\n",
    "|abacde|\t3 | "
   ]
  },
  {
   "cell_type": "markdown",
   "metadata": {},
   "source": [
    "---"
   ]
  },
  {
   "cell_type": "markdown",
   "metadata": {},
   "source": [
    "### 문제 풀이"
   ]
  },
  {
   "cell_type": "code",
   "execution_count": 1,
   "metadata": {},
   "outputs": [],
   "source": [
    "def get_palindrome(s, a, b):\n",
    "    size = 0\n",
    "    if a != b: # 짝수 크기 팰린드롬 사이즈 초기화\n",
    "        size = 2\n",
    "    else: # 홀수 크기 팰린드롬 사이즈 초기화\n",
    "        size = 1\n",
    "    i = 0\n",
    "    while True:\n",
    "        # 각각 옆으로 문자를 비교하면서 팰린드롬의 사이즈 탐색\n",
    "        if a-(i+1) < 0 or b+(i+1) >= len(s) or s[a-(i+1)] != s[b+(i+1)]:\n",
    "            size += 2*i\n",
    "            break\n",
    "            # 문자열을 벗어나거나, 팰린드롬이 끝이 날경우 탐색 중지\n",
    "        i += 1\n",
    "    return size # 사이즈 반환\n",
    "        \n",
    "\n",
    "def solution(s):\n",
    "    answer = 1\n",
    "    for i in range(1, len(s)-1): # 모든 문자열에 대해서\n",
    "        if s[i-1] == s[i+1]: # 팰린드롬의 크기가 홀수 일 때 ex) aba\n",
    "            answer = max(answer, get_palindrome(s, i, i)) # 최대 팰린드롬 사이즈 탐색\n",
    "        if s[i-1] == s[i]: # 팰린드롬의 크기가 짝수 일 때 ex) aa\n",
    "            answer = max(answer, get_palindrome(s, i-1, i)) # 최대 팰린드롬 사이즈 탐색\n",
    "    if len(s) >= 2 and s[-2] == s[-1]: # 문자열의 마지막 문자에 대해서 짝수크기 팰린드롬이 생길 경우 탐색\n",
    "        answer = max(answer, 2)\n",
    "    return answer # 최대 팰린드롬의 크기 반환"
   ]
  },
  {
   "cell_type": "code",
   "execution_count": 2,
   "metadata": {},
   "outputs": [
    {
     "data": {
      "text/plain": [
       "7"
      ]
     },
     "execution_count": 2,
     "metadata": {},
     "output_type": "execute_result"
    }
   ],
   "source": [
    "s = 'abcdcba'\n",
    "solution(s)"
   ]
  },
  {
   "cell_type": "code",
   "execution_count": 3,
   "metadata": {},
   "outputs": [
    {
     "data": {
      "text/plain": [
       "3"
      ]
     },
     "execution_count": 3,
     "metadata": {},
     "output_type": "execute_result"
    }
   ],
   "source": [
    "s = 'abacde'\n",
    "solution(s)"
   ]
  }
 ],
 "metadata": {
  "kernelspec": {
   "display_name": "Python 3",
   "language": "python",
   "name": "python3"
  },
  "language_info": {
   "codemirror_mode": {
    "name": "ipython",
    "version": 3
   },
   "file_extension": ".py",
   "mimetype": "text/x-python",
   "name": "python",
   "nbconvert_exporter": "python",
   "pygments_lexer": "ipython3",
   "version": "3.6.9"
  }
 },
 "nbformat": 4,
 "nbformat_minor": 2
}
