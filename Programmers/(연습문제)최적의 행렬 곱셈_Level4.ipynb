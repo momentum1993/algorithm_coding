{
 "cells": [
  {
   "cell_type": "markdown",
   "metadata": {},
   "source": [
    "#### 문제 설명  \n",
    "크기가 a by b인 행렬과 크기가 b by c 인 행렬이 있을 때, 두 행렬을 곱하기 위해서는 총 a x b x c 번 곱셈해야합니다.  \n",
    "예를 들어서 크기가 5 by 3인 행렬과 크기가 3 by 2인 행렬을 곱할때는 총 5 x 3 x 2 = 30번의 곱하기 연산을 해야 합니다.  \n",
    "  \n",
    "행렬이 2개일 때는 연산 횟수가 일정 하지만, 행렬의 개수가 3개 이상일 때는 연산의 순서에 따라서 곱하기 연산의 횟수가 바뀔 수 있습니다. 예를 들어서 크기가 5 by 3인 행렬 A, 크기가 3 by 10인 행렬 B, 크기가 10 by 6인 행렬 C가 있을 때, 순서대로 A와 B를 먼저 곱하고, 그 결과에 C를 곱하면 A와 B행렬을 곱할 때 150번을, AB 에 C를 곱할 때 300번을 연산을 해서 총 450번의 곱하기 연산을 합니다. 하지만, B와 C를 먼저 곱한 다음 A 와 BC를 곱하면 180 + 90 = 270번 만에 연산이 끝납니다.  \n",
    "  \n",
    "각 행렬의 크기 matrix_sizes 가 매개변수로 주어 질 때, 모든 행렬을 곱하기 위한 최소 곱셈 연산의 수를 return하는 solution 함수를 완성해 주세요.  \n",
    "  \n",
    "#### 제한 조건    \n",
    "- 행렬의 개수는 3이상 200이하의 자연수입니다.\n",
    "- 각 행렬의 행과 열의 크기는 200이하의 자연수 입니다.\n",
    "- 계산을 할 수 없는 행렬은 입력으로 주어지지 않습니다.  \n",
    "  \n",
    "#### 입출력 예  \n",
    "|matrix_sizes|\tresult|\n",
    "|:---:|:---:|\n",
    "|[[5,3],[3,10],[10,6]]|\t270|    "
   ]
  },
  {
   "cell_type": "markdown",
   "metadata": {},
   "source": [
    "---"
   ]
  },
  {
   "cell_type": "markdown",
   "metadata": {},
   "source": [
    "### 문제 풀이"
   ]
  },
  {
   "cell_type": "code",
   "execution_count": 1,
   "metadata": {},
   "outputs": [],
   "source": [
    "def mul_matrix(matrix_sizes, mul_val, a, b): # a부터 b번째 행렬까지의 곱셈의 최솟값 반환\n",
    "    if mul_val[a][b] != pow(200, 4): # 만약 이미 구한 값이라면\n",
    "        return mul_val[a][b] # 바로 반환\n",
    "    \n",
    "    for mid in range(a, b): # [a, mid], [mid+1, b] 행렬 간 곱셈의 값을 구한다.\n",
    "        val_a = mul_matrix(matrix_sizes, mul_val, a, mid) # [a, mid] 간 행렬의 곱셈 최솟값 \n",
    "        val_b = mul_matrix(matrix_sizes, mul_val, mid+1, b) # [mid+1, b] 간 행렬의 곱셈 최솟값\n",
    "        mul_val[a][b] = min(mul_val[a][b], val_a + val_b + (matrix_sizes[a][0] * matrix_sizes[mid][1] * matrix_sizes[b][1]))\n",
    "        # [a, b] 간 행렬의 곱셈 최솟값\n",
    "    return mul_val[a][b] # 값 반환\n",
    "    \n",
    "def solution(matrix_sizes):\n",
    "    num_matrix = len(matrix_sizes) # 행렬의 개수 \n",
    "    mul_val = [[pow(200, 4) for _ in range(num_matrix)] for _ in range(num_matrix)] # a번째부터 b번째 행렬까지 곱셈의 최솟값\n",
    "    for i in range(num_matrix): # 모든 행렬에 대해서\n",
    "        mul_val[i][i] = 0 # i부터 i번째까지의 행렬의 곱셈 값은 0이다.\n",
    "    answer = mul_matrix(matrix_sizes, mul_val, 0, num_matrix-1) # [0, num_matrix-1] (즉, 모든 행렬) 간의 행렬 곱셈의 최솟값을 구한다. \n",
    "    return answer # 답 반환"
   ]
  },
  {
   "cell_type": "code",
   "execution_count": 2,
   "metadata": {},
   "outputs": [
    {
     "data": {
      "text/plain": [
       "270"
      ]
     },
     "execution_count": 2,
     "metadata": {},
     "output_type": "execute_result"
    }
   ],
   "source": [
    "matrix_sizes = [[5,3],[3,10],[10,6]]\n",
    "solution(matrix_sizes)"
   ]
  }
 ],
 "metadata": {
  "kernelspec": {
   "display_name": "Python 3",
   "language": "python",
   "name": "python3"
  },
  "language_info": {
   "codemirror_mode": {
    "name": "ipython",
    "version": 3
   },
   "file_extension": ".py",
   "mimetype": "text/x-python",
   "name": "python",
   "nbconvert_exporter": "python",
   "pygments_lexer": "ipython3",
   "version": "3.6.9"
  }
 },
 "nbformat": 4,
 "nbformat_minor": 2
}
