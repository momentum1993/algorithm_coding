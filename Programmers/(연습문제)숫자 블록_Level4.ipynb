{
 "cells": [
  {
   "cell_type": "markdown",
   "metadata": {},
   "source": [
    "#### 문제 설명  \n",
    "그렙시에는 0으로 된 도로에 숫자 블록을 설치하기로 하였습니다. 숫자 블록의 규칙은 다음과 같습니다.\n",
    "\n",
    "블록의 번호가 n 일 때, 가장 처음 블록은 n * 2번째 위치에 설치합니다. 그다음은 n * 3, 그다음은 n * 4, ...로 진행합니다.만약 기존에 블록이 깔려있는 자리라면 그 블록을빼고 새로운 블록으로 집어넣습니다.\n",
    "\n",
    "예를 들어 1번 블록은 2,3,4,5, ... 인 위치에 우선 설치합니다. 그다음 2번 블록은 4,6,8,10, ... 인 위치에 설치하고, 3번 블록은 6,9,12... 인 위치에 설치합니다.\n",
    "\n",
    "이렇게 3번 블록까지 설치하고 나면 첫 10개의 블록은 0, 1, 1, 2, 1, 3, 1, 2, 3, 2이됩니다.\n",
    "\n",
    "그렙시는 길이가 1,000,000,000인 도로에 1번 블록부터 시작하여 10,000,000번 블록까지 위의 규칙으로 모두 놓았습니다.\n",
    "\n",
    "그렙시의 시장님은 특정 구간의 어떤 블록이 깔려 있는지 알고 싶습니다.\n",
    "\n",
    "구간을 나타내는 두 수 begin, end 가 매개변수로 주어 질 때, 그 구간에 깔려 있는 블록의 숫자 배열(리스트)을 return하는 solution 함수를 완성해 주세요.  \n",
    "  \n",
    "#### 제한 조건  \n",
    "- begin, end 는 1 이상 1,000,000,000이하의 자연수 이고, begin는 항상 end보다 작습니다.\n",
    "- end - begin 의 값은 항상 10,000을 넘지 않습니다.  \n",
    "  \n",
    "#### 입출력 예  \n",
    "|begin|\tend|\tresult|\n",
    "|:---:|:---:|:---:|\n",
    "|1|\t10|\t[0, 1, 1, 2, 1, 3, 1, 4, 3, 5]|  \n",
    "  "
   ]
  },
  {
   "cell_type": "markdown",
   "metadata": {},
   "source": [
    "---"
   ]
  },
  {
   "cell_type": "markdown",
   "metadata": {},
   "source": [
    "### 문제 풀이"
   ]
  },
  {
   "cell_type": "code",
   "execution_count": 1,
   "metadata": {},
   "outputs": [],
   "source": [
    "import math\n",
    "\n",
    "def solution(begin, end):\n",
    "    answer = [] # 답\n",
    "    for i in range(begin, end+1): # 찾아야하는 범위의 수에 대해서\n",
    "        if i == 1: # 1번째 블록일 경우\n",
    "            answer.append(0) # 블록의 값은 0이다.\n",
    "            continue\n",
    "        checked = False\n",
    "        for operand in range(2, int(math.sqrt(end)+1)): # 2 ~ √end+1 값에 대해서\n",
    "            if i // operand > 10000000: # 만약 찾는 블록의 인덱스를 operand에 나눈 몫이 10000000을 넘어간다면\n",
    "                break #  탐색 종료\n",
    "            if i % operand == 0: # 만약 operand로 나눈 나머지가 0일 때\n",
    "                answer.append(i // operand) # 해당 operand로 나눈 몫이 찾는 인덱스 블록의 값이 된다.\n",
    "                checked = True\n",
    "                break\n",
    "        if not checked: # 만약 현재 찾는 인덱스 블록이 소수이거나, 2 ~ 10000000 까지의 값으로 인수분해가 안된다면\n",
    "            answer.append(1) # 해당 블록의 값은 1이 된다.\n",
    "    return answer # 답 반환"
   ]
  },
  {
   "cell_type": "code",
   "execution_count": 2,
   "metadata": {},
   "outputs": [
    {
     "data": {
      "text/plain": [
       "[0, 1, 1, 2, 1, 3, 1, 4, 3, 5]"
      ]
     },
     "execution_count": 2,
     "metadata": {},
     "output_type": "execute_result"
    }
   ],
   "source": [
    "begin = 1\n",
    "end = 10\n",
    "solution(begin, end)"
   ]
  }
 ],
 "metadata": {
  "kernelspec": {
   "display_name": "Python 3",
   "language": "python",
   "name": "python3"
  },
  "language_info": {
   "codemirror_mode": {
    "name": "ipython",
    "version": 3
   },
   "file_extension": ".py",
   "mimetype": "text/x-python",
   "name": "python",
   "nbconvert_exporter": "python",
   "pygments_lexer": "ipython3",
   "version": "3.6.9"
  }
 },
 "nbformat": 4,
 "nbformat_minor": 2
}
