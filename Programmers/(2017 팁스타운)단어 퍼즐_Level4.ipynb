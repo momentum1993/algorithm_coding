{
 "cells": [
  {
   "cell_type": "markdown",
   "metadata": {},
   "source": [
    "#### 문제 설명  \n",
    "단어 퍼즐은 주어진 단어 조각들을 이용해서 주어진 문장을 완성하는 퍼즐입니다. 이때, 주어진 각 단어 조각들은 각각 무한개씩 있다고 가정합니다. 예를 들어 주어진 단어 조각이 [“ba”, “na”, “n”, “a”]인 경우 \"ba\", \"na\", \"n\", \"a\" 단어 조각이 각각 무한개씩 있습니다. 이때, 만들어야 하는 문장이 “banana”라면 “ba”, “na”, “n”, “a”의 4개를 사용하여 문장을 완성할 수 있지만, “ba”, “na”, “na”의 3개만을 사용해도 “banana”를 완성할 수 있습니다. 사용 가능한 단어 조각들을 담고 있는 배열 strs와 완성해야 하는 문자열 t가 매개변수로 주어질 때, 주어진 문장을 완성하기 위해 사용해야 하는 단어조각 개수의 최솟값을 return 하도록 solution 함수를 완성해 주세요. 만약 주어진 문장을 완성하는 것이 불가능하면 -1을 return 하세요.\n",
    "   \n",
    "#### 제한 조건  \n",
    "strs는 사용 가능한 단어 조각들이 들어있는 배열로, 길이는 1 이상 100 이하입니다.\n",
    "strs의 각 원소는 사용 가능한 단어조각들이 중복 없이 들어있습니다.\n",
    "사용 가능한 단어 조각들은 문자열 형태이며, 모든 단어 조각의 길이는 1 이상 5 이하입니다.\n",
    "t는 완성해야 하는 문자열이며 길이는 1 이상 20,000 이하입니다.\n",
    "모든 문자열은 알파벳 소문자로만 이루어져 있습니다.  \n",
    "  \n",
    "#### 입출력 예  \n",
    "|strs|\tt|\tresult|\n",
    "|:---:|:---:|:---:|\n",
    "|[\"ba\",\"na\",\"n\",\"a\"]|\t\"banana\"|\t3|\n",
    "|[\"app\",\"ap\",\"p\",\"l\",\"e\",\"ple\",\"pp\"]|\t\"apple\"|\t2|\n",
    "|[\"ba\",\"an\",\"nan\",\"ban\",\"n\"]|\t\"banana\"|\t-1|  "
   ]
  },
  {
   "cell_type": "markdown",
   "metadata": {},
   "source": [
    "---"
   ]
  },
  {
   "cell_type": "markdown",
   "metadata": {},
   "source": [
    "### 문제 풀이"
   ]
  },
  {
   "cell_type": "code",
   "execution_count": 1,
   "metadata": {},
   "outputs": [],
   "source": [
    "def simulation(strs, t, min_puzzle): # 시뮬레이션\n",
    "    for i in range(len(t)): # 단어 t에 대해서\n",
    "        if t[:i+1] in strs: # 0 ~ i번째 글자까지로 구성한 단어 조각 퍼즐이 있을 때\n",
    "            min_puzzle[i] = 1 # 0 ~ i번째 글자까지로 구성한 단어에 퍼즐 1개가 필요하다. \n",
    "        else: # 해당하는 글자의 단어 퍼즐이 없다면\n",
    "            for j in range(i-5, i): # j+1 ~ i번째 글자까지로 구성한 단어에 대해서 \n",
    "            # 단어 퍼즐의 최대 크기가 5이기 때문에 j+1 ~ i의 간격은 최대 5로 설정\n",
    "                if t[j+1:i+1] in strs: # 해당 단어 조각 퍼즐이 존재할 때\n",
    "                    min_puzzle[i] = min(min_puzzle[i], min_puzzle[j]+1)\n",
    "                    # min_puzzle[i] = (j번째 글자까지 구성하기 위한 퍼즐의 최소 개수 + 1)의 최솟값\n",
    "    return min_puzzle[len(t)-1] # 단어 t를 구성하기 위한 퍼즐 최소 개수 반환\n",
    "    \n",
    "\n",
    "def solution(strs, t):\n",
    "    min_puzzle = [len(t)+1 for _ in range(len(t))] # 각 인덱스까지 구성하기 위한 최소 단어 퍼즐 개수\n",
    "    answer = simulation(strs, t, min_puzzle) # 시뮬레이션 진행\n",
    "    if answer == len(t)+1: # 만약 답이 없다면\n",
    "        return -1 # -1 반환\n",
    "    return answer # 답 반환"
   ]
  },
  {
   "cell_type": "code",
   "execution_count": 2,
   "metadata": {},
   "outputs": [
    {
     "data": {
      "text/plain": [
       "3"
      ]
     },
     "execution_count": 2,
     "metadata": {},
     "output_type": "execute_result"
    }
   ],
   "source": [
    "strs = [\"ba\",\"na\",\"n\",\"a\"]\n",
    "t = \"banana\"\n",
    "solution(strs, t)"
   ]
  },
  {
   "cell_type": "code",
   "execution_count": 3,
   "metadata": {},
   "outputs": [
    {
     "data": {
      "text/plain": [
       "2"
      ]
     },
     "execution_count": 3,
     "metadata": {},
     "output_type": "execute_result"
    }
   ],
   "source": [
    "strs = [\"app\",\"ap\",\"p\",\"l\",\"e\",\"ple\",\"pp\"]\n",
    "t = \"apple\"\n",
    "solution(strs, t)"
   ]
  },
  {
   "cell_type": "code",
   "execution_count": 4,
   "metadata": {},
   "outputs": [
    {
     "data": {
      "text/plain": [
       "-1"
      ]
     },
     "execution_count": 4,
     "metadata": {},
     "output_type": "execute_result"
    }
   ],
   "source": [
    "strs = [\"ba\",\"an\",\"nan\",\"ban\",\"n\"]\n",
    "t = \"banana\"\n",
    "solution(strs, t)"
   ]
  }
 ],
 "metadata": {
  "kernelspec": {
   "display_name": "Python 3",
   "language": "python",
   "name": "python3"
  },
  "language_info": {
   "codemirror_mode": {
    "name": "ipython",
    "version": 3
   },
   "file_extension": ".py",
   "mimetype": "text/x-python",
   "name": "python",
   "nbconvert_exporter": "python",
   "pygments_lexer": "ipython3",
   "version": "3.6.9"
  }
 },
 "nbformat": 4,
 "nbformat_minor": 2
}
