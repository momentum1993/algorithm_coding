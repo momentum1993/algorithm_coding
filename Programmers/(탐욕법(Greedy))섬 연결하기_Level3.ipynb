{
 "cells": [
  {
   "cell_type": "markdown",
   "metadata": {},
   "source": [
    "#### 문제 설명  \n",
    "n개의 섬 사이에 다리를 건설하는 비용(costs)이 주어질 때, 최소의 비용으로 모든 섬이 서로 통행 가능하도록 만들 때 필요한 최소 비용을 return 하도록 solution을 완성하세요.  \n",
    "  \n",
    "다리를 여러 번 건너더라도, 도달할 수만 있으면 통행 가능하다고 봅니다. 예를 들어 A 섬과 B 섬 사이에 다리가 있고, B 섬과 C 섬 사이에 다리가 있으면 A 섬과 C 섬은 서로 통행 가능합니다.  \n",
    "  \n",
    "#### 제한사항  \n",
    "- 섬의 개수 n은 1 이상 100 이하입니다.  \n",
    "- costs의 길이는 ((n-1) * n) / 2이하입니다.\n",
    "- 임의의 i에 대해, costs[i][0] 와 costs[i] [1]에는 다리가 연결되는 두 섬의 번호가 들어있고, costs[i] [2]에는 이 두 섬을 연결하는 다리를 건설할 때 드는 비용입니다.\n",
    "- 같은 연결은 두 번 주어지지 않습니다. 또한 순서가 바뀌더라도 같은 연결로 봅니다. 즉 0과 1 사이를 연결하는 비용이 주어졌을 때, 1과 0의 비용이 주어지지 않습니다.\n",
    "- 모든 섬 사이의 다리 건설 비용이 주어지지 않습니다. 이 경우, 두 섬 사이의 건설이 불가능한 것으로 봅니다.\n",
    "- 연결할 수 없는 섬은 주어지지 않습니다.  \n",
    "  \n",
    "#### 입출력 예   \n",
    "|n|\tcosts|\treturn|\n",
    "|:---:|:---:|:---:|\n",
    "|4|\t[[0,1,1],[0,2,2],[1,2,5],[1,3,1],[2,3,8]]|\t4|  "
   ]
  },
  {
   "cell_type": "markdown",
   "metadata": {},
   "source": [
    "---"
   ]
  },
  {
   "cell_type": "markdown",
   "metadata": {},
   "source": [
    "#### 문제 풀이"
   ]
  },
  {
   "cell_type": "code",
   "execution_count": 1,
   "metadata": {},
   "outputs": [],
   "source": [
    "# union find(disjoint set)를 통한 문제 풀이\n",
    "\n",
    "def find_parent(x, parent): # x의 루트 노드 찾기\n",
    "    if parent[x] == x:\n",
    "        return x\n",
    "    parent[x] = find_parent(parent[x], parent) # 재귀적으로 루트 노드 찾기\n",
    "    return parent[x] # 루트 노드 번호 반환\n",
    "    \n",
    "def union(x, y, parent): # x와 y번 노드 합치기\n",
    "    if x > y:\n",
    "        x, y = y, x\n",
    "    x = find_parent(x, parent)\n",
    "    y = find_parent(y, parent)\n",
    "    if x != y: # x와 y의 루트가 다르다면\n",
    "        parent[y] = x # y의 루트를 x로 갱신\n",
    "    return\n",
    "\n",
    "def solution(n, costs):\n",
    "    answer = 0 # 답\n",
    "    costs = sorted(costs, key = lambda x: x[2]) # 다리 연결 비용 오름차순으로 섬간 다리 연결 비용 정보를 정렬\n",
    "    parent = [x for x in range(n)] # 각 섬의 루트섬 (처음에는 자기 자신이 루트가 된다)\n",
    "    for a, b, cost in costs: # 모든 섬간 다리 연결 비용 정보에 대해서\n",
    "        if a > b:\n",
    "            a, b = b, a\n",
    "        if find_parent(a, parent) != find_parent(b, parent): # 서로 연결되지 않았다면\n",
    "            union(a, b, parent) # 연결시킨다\n",
    "            answer += cost # 그리고 연결 비용을 합한다\n",
    "        if sum(parent) == 0: # 만약 모든 섬이 연결된 상태라면\n",
    "            break # 탐색을 멈춘다\n",
    "    return answer # 답 반환"
   ]
  },
  {
   "cell_type": "code",
   "execution_count": 2,
   "metadata": {},
   "outputs": [
    {
     "data": {
      "text/plain": [
       "4"
      ]
     },
     "execution_count": 2,
     "metadata": {},
     "output_type": "execute_result"
    }
   ],
   "source": [
    "n = 4\n",
    "costs = [[0,1,1],[0,2,2],[1,2,5],[1,3,1],[2,3,8]]\n",
    "solution(n, costs)"
   ]
  }
 ],
 "metadata": {
  "kernelspec": {
   "display_name": "Python 3",
   "language": "python",
   "name": "python3"
  },
  "language_info": {
   "codemirror_mode": {
    "name": "ipython",
    "version": 3
   },
   "file_extension": ".py",
   "mimetype": "text/x-python",
   "name": "python",
   "nbconvert_exporter": "python",
   "pygments_lexer": "ipython3",
   "version": "3.6.9"
  }
 },
 "nbformat": 4,
 "nbformat_minor": 2
}
