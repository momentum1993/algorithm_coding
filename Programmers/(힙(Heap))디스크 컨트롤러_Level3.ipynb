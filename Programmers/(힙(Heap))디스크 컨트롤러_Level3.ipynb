{
 "cells": [
  {
   "cell_type": "markdown",
   "metadata": {},
   "source": [
    "#### 문제 설명  \n",
    "하드디스크는 한 번에 하나의 작업만 수행할 수 있습니다. 디스크 컨트롤러를 구현하는 방법은 여러 가지가 있습니다. 가장 일반적인 방법은 요청이 들어온 순서대로 처리하는 것입니다.  \n",
    "  \n",
    "예를들어  \n",
    "  \n",
    "- 0ms 시점에 3ms가 소요되는 A작업 요청\n",
    "- 1ms 시점에 9ms가 소요되는 B작업 요청\n",
    "- 2ms 시점에 6ms가 소요되는 C작업 요청  \n",
    "  \n",
    "와 같은 요청이 들어왔습니다. 이를 그림으로 표현하면 아래와 같습니다.  \n",
    "  \n",
    "![](https://grepp-programmers.s3.amazonaws.com/files/production/b68eb5cec6/38dc6a53-2d21-4c72-90ac-f059729c51d5.png)  \n",
    "  \n",
    "한 번에 하나의 요청만을 수행할 수 있기 때문에 각각의 작업을 요청받은 순서대로 처리하면 다음과 같이 처리 됩니다.  \n",
    "  \n",
    "![](https://grepp-programmers.s3.amazonaws.com/files/production/5e677b4646/90b91fde-cac4-42c1-98b8-8f8431c52dcf.png)  \n",
    " \n",
    "- A: 3ms 시점에 작업 완료 (요청에서 종료까지 : 3ms)\n",
    "- B: 1ms부터 대기하다가, 3ms 시점에 작업을 시작해서 12ms 시점에 작업 완료(요청에서 종료까지 : 11ms)\n",
    "- C: 2ms부터 대기하다가, 12ms 시점에 작업을 시작해서 18ms 시점에 작업 완료(요청에서 종료까지 : 16ms)  \n",
    "  \n",
    "이 때 각 작업의 요청부터 종료까지 걸린 시간의 평균은 10ms(= (3 + 11 + 16) / 3)가 됩니다.  \n",
    "  \n",
    "하지만 A → C → B 순서대로 처리하면  \n",
    "  \n",
    "![](https://grepp-programmers.s3.amazonaws.com/files/production/9eb7c5a6f1/a6cff04d-86bb-4b5b-98bf-6359158940ac.png)  \n",
    " \n",
    "- A: 3ms 시점에 작업 완료(요청에서 종료까지 : 3ms)\n",
    "- C: 2ms부터 대기하다가, 3ms 시점에 작업을 시작해서 9ms 시점에 작업 완료(요청에서 종료까지 : 7ms)\n",
    "- B: 1ms부터 대기하다가, 9ms 시점에 작업을 시작해서 18ms 시점에 작업 완료(요청에서 종료까지 : 17ms)  \n",
    "  \n",
    "이렇게 A → C → B의 순서로 처리하면 각 작업의 요청부터 종료까지 걸린 시간의 평균은 9ms(= (3 + 7 + 17) / 3)가 됩니다.  \n",
    "  \n",
    "각 작업에 대해 [작업이 요청되는 시점, 작업의 소요시간]을 담은 2차원 배열 jobs가 매개변수로 주어질 때, 작업의 요청부터 종료까지 걸린 시간의 평균을 가장 줄이는 방법으로 처리하면 평균이 얼마가 되는지 return 하도록 solution 함수를 작성해주세요. (단, 소수점 이하의 수는 버립니다)  \n",
    "  \n",
    "#### 제한 사항  \n",
    "- jobs의 길이는 1 이상 500 이하입니다.\n",
    "- jobs의 각 행은 하나의 작업에 대한 [작업이 요청되는 시점, 작업의 소요시간] 입니다.\n",
    "- 각 작업에 대해 작업이 요청되는 시간은 0 이상 1,000 이하입니다.\n",
    "- 각 작업에 대해 작업의 소요시간은 1 이상 1,000 이하입니다.\n",
    "- 하드디스크가 작업을 수행하고 있지 않을 때에는 먼저 요청이 들어온 작업부터 처리합니다.\n",
    "\n",
    "#### 입출력 예\n",
    "|jobs|\treturn|\n",
    "|:---:|:---:|\n",
    "|[[0, 3], [1, 9], [2, 6]]|\t9|"
   ]
  },
  {
   "cell_type": "markdown",
   "metadata": {},
   "source": [
    "---"
   ]
  },
  {
   "cell_type": "markdown",
   "metadata": {},
   "source": [
    "### 문제 풀이"
   ]
  },
  {
   "cell_type": "code",
   "execution_count": 1,
   "metadata": {},
   "outputs": [],
   "source": [
    "def solution(jobs):\n",
    "    total = 0 # 총 소요시간\n",
    "    time = 0 # 현재시각\n",
    "    num_jobs = len(jobs) # 실행해야할 작업의 개수\n",
    "    jobs = sorted(jobs, key=lambda x: x[1]) # 작업시간 오름차순으로 작업을 정렬\n",
    "    while len(jobs) > 0: # 모든 작업을 실행완료할 때까지\n",
    "        exist = False # 현재 시각에서 실행할 수 있는 작업 존재 여부\n",
    "        for i in range(len(jobs)): # 남은 모든 작업에 대해서\n",
    "            if jobs[i][0] <= time: # 현재 시각에 처리할 수 있는 작업일 때\n",
    "                start, runtime = jobs.pop(i) # 남은 작업에서 해당 작업을 뺀다\n",
    "                total += time - start + runtime # 작업 요청부터 완료하기 까지의 시간 합\n",
    "                time += runtime # 작업 실행 시간만큼 시간을 합함\n",
    "                exist = True # 현재 시각에서 실행할 수 있는 작업이 있음을 체크\n",
    "                break\n",
    "        if not exist: # 만약 현재시각에서 실행 할 수 있는 작업이 없다면\n",
    "            time += 1 # 시간을 1 증가\n",
    "    answer = total // num_jobs # \n",
    "    return answer"
   ]
  },
  {
   "cell_type": "code",
   "execution_count": 2,
   "metadata": {
    "scrolled": true
   },
   "outputs": [
    {
     "data": {
      "text/plain": [
       "9"
      ]
     },
     "execution_count": 2,
     "metadata": {},
     "output_type": "execute_result"
    }
   ],
   "source": [
    "jobs = [[0, 3], [1, 9], [2, 6]]\n",
    "solution(jobs)"
   ]
  }
 ],
 "metadata": {
  "kernelspec": {
   "display_name": "Python 3",
   "language": "python",
   "name": "python3"
  },
  "language_info": {
   "codemirror_mode": {
    "name": "ipython",
    "version": 3
   },
   "file_extension": ".py",
   "mimetype": "text/x-python",
   "name": "python",
   "nbconvert_exporter": "python",
   "pygments_lexer": "ipython3",
   "version": "3.6.9"
  }
 },
 "nbformat": 4,
 "nbformat_minor": 2
}
