{
 "cells": [
  {
   "cell_type": "markdown",
   "metadata": {},
   "source": [
    "#### 문제 설명  \n",
    "아래와 같이 5와 사칙연산만으로 12를 표현할 수 있습니다.  \n",
    "  \n",
    "12 = 5 + 5 + (5 / 5) + (5 / 5)  \n",
    "12 = 55 / 5 + 5 / 5  \n",
    "12 = (55 + 5) / 5  \n",
    "  \n",
    "5를 사용한 횟수는 각각 6,5,4 입니다. 그리고 이중 가장 작은 경우는 4입니다.  \n",
    "이처럼 숫자 N과 number가 주어질 때, N과 사칙연산만 사용해서 표현 할 수 있는 방법 중 N 사용횟수의 최솟값을 return 하도록 solution 함수를 작성하세요.  \n",
    "  \n",
    "#### 제한 조건  \n",
    "- N은 1 이상 9 이하입니다.\n",
    "- number는 1 이상 32,000 이하입니다.\n",
    "- 수식에는 괄호와 사칙연산만 가능하며 나누기 연산에서 나머지는 무시합니다.\n",
    "- 최솟값이 8보다 크면 -1을 return 합니다.  \n",
    "  \n",
    "#### 입출력 예  \n",
    "|N|\tnumber|\treturn|\n",
    "|:---:|:---:|:---:|\n",
    "|5\t|12|\t4|  \n",
    "|2\t|11|\t3|  \n",
    "  \n",
    "#### 입출력 예 설명  \n",
    "예제 #1  \n",
    "문제에 나온 예와 같습니다.  \n",
    "  \n",
    "예제 #2  \n",
    "11 = 22 / 2와 같이 2를 3번만 사용하여 표현할 수 있습니다.  "
   ]
  },
  {
   "cell_type": "markdown",
   "metadata": {},
   "source": [
    "---"
   ]
  },
  {
   "cell_type": "markdown",
   "metadata": {},
   "source": [
    "### 문제 풀이"
   ]
  },
  {
   "cell_type": "code",
   "execution_count": 1,
   "metadata": {},
   "outputs": [],
   "source": [
    "def solution(N, number):\n",
    "    num_list = [set() for _ in range(9)] # 숫자 N을 이용한 수식으로 만들어낼 수 있는 숫자들 (인덱스가 5를 사용한 갯수)\n",
    "    num = N\n",
    "    for i in range(1, 9):\n",
    "        if num == number:\n",
    "            return i\n",
    "        num_list[i].add(num)\n",
    "        num = (10 * num) + N\n",
    "    # 5를 이어 붙인 55, 555, 5555,.... 를 미리 추가해둔다. \n",
    "    checked = [[False for _ in range(8)] for _ in range(8)] # 연산 여부 확인위해\n",
    "    # checked[1][2] == (5 한개로 만들 수 있는 수)와 (5 두개로 만들 수 있는 수)끼리 연산 여부\n",
    "    count = 2 # 5의 개수\n",
    "    while count <= 8: # 5의 개수가 8을 넘어간다면 탐색 종료\n",
    "        for a in range(1, count):\n",
    "            b = count - a\n",
    "            if checked[a][b]:\n",
    "                continue\n",
    "            checked[a][b] = True\n",
    "            for a_num in num_list[a]: # 5를 a번 써서 만들어낼 수 있는 수\n",
    "                for b_num in num_list[b]: # 5를 b번 써서 만들어낼 수 있는 수에 대해서\n",
    "                    num_list[count].add(a_num+b_num)\n",
    "                    num_list[count].add(a_num-b_num)\n",
    "                    num_list[count].add(a_num*b_num)\n",
    "                    if b_num != 0 and a_num%b_num == 0: \n",
    "                        num_list[count].add(a_num/b_num)\n",
    "                    # 사칙연산 적용\n",
    "        if number in num_list[count]: # 모든 사칙연산 적용 후 찾는 숫자가 있다면\n",
    "            return count # 5를 사용한 횟수 반환\n",
    "        count += 1\n",
    "    return -1 # 만약 5를 8번까지 써서 만들어낼 수 없는 수라면 -1 반환"
   ]
  },
  {
   "cell_type": "code",
   "execution_count": 2,
   "metadata": {
    "scrolled": false
   },
   "outputs": [
    {
     "data": {
      "text/plain": [
       "4"
      ]
     },
     "execution_count": 2,
     "metadata": {},
     "output_type": "execute_result"
    }
   ],
   "source": [
    "N = 5\n",
    "number = 12\n",
    "solution(N, number)"
   ]
  },
  {
   "cell_type": "code",
   "execution_count": 3,
   "metadata": {
    "scrolled": false
   },
   "outputs": [
    {
     "data": {
      "text/plain": [
       "3"
      ]
     },
     "execution_count": 3,
     "metadata": {},
     "output_type": "execute_result"
    }
   ],
   "source": [
    "N = 2\n",
    "number = 11\n",
    "solution(N, number)"
   ]
  }
 ],
 "metadata": {
  "kernelspec": {
   "display_name": "Python 3",
   "language": "python",
   "name": "python3"
  },
  "language_info": {
   "codemirror_mode": {
    "name": "ipython",
    "version": 3
   },
   "file_extension": ".py",
   "mimetype": "text/x-python",
   "name": "python",
   "nbconvert_exporter": "python",
   "pygments_lexer": "ipython3",
   "version": "3.6.9"
  }
 },
 "nbformat": 4,
 "nbformat_minor": 2
}
