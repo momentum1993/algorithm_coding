{
 "cells": [
  {
   "cell_type": "markdown",
   "metadata": {},
   "source": [
    "#### 문제 설명  \n",
    "다음과 같은 것들을 정의합니다.  \n",
    "  \n",
    "- 어떤 수열 x의 부분 수열(Subsequence)이란, x의 몇몇 원소들을 제거하거나 그러지 않고 남은 원소들이 원래 순서를 유지하여 얻을 수 있는 새로운 수열을 말합니다.   \n",
    "    - 예를 들어, [1,3]은 [1,2,3,4,5]의 부분수열입니다. 원래 수열에서 2, 4, 5를 제거해서 얻을 수 있기 때문입니다.  \n",
    "- 다음과 같은 조건을 모두 만족하는 수열 x를 스타 수열이라고 정의합니다.  \n",
    "  \n",
    "    - x의 길이가 2 이상의 짝수입니다. (빈 수열은 허용되지 않습니다.)  \n",
    "    - x의 길이를 2n이라 할 때, 다음과 같은 n개의 집합 {x[0], x[1]}, {x[2], x[3]}, ..., {x[2n-2], x[2n-1]} 의 교집합의 원소의 개수가 1 이상입니다.  \n",
    "    - x[0] != x[1], x[2] != x[3], ..., x[2n-2] != x[2n-1] 입니다.  \n",
    "    - 예를 들어, [1,2,1,3,4,1,1,3]은 스타 수열입니다. {1,2}, {1,3}, {4,1}, {1,3} 의 교집합은 {1} 이고, 각 집합 내의 숫자들이 서로 다르기 때문입니다.  \n",
    "    \n",
    "1차원 정수 배열 a가 매개변수로 주어집니다. a의 모든 부분 수열 중에서 가장 길이가 긴 스타 수열의 길이를 return 하도록 solution 함수를 완성해주세요. 이때, a의 모든 부분 수열 중에서 스타 수열이 없다면, 0을 return 해주세요.  \n",
    "  \n",
    "#### 제한 조건  \n",
    "- a의 길이는 1 이상 500,000 이하입니다.\n",
    "    - a의 모든 수는 0 이상 (a의 길이) 미만입니다.  \n",
    "  \n",
    "#### 입출력 예  \n",
    "|a|\tresult|\n",
    "|:---:|:---:|\n",
    "|[0]|\t0|\n",
    "|[5,2,3,3,5,3]|\t4|\n",
    "|[0,3,3,0,7,2,0,2,2,0]|\t8|  "
   ]
  },
  {
   "cell_type": "markdown",
   "metadata": {},
   "source": [
    "---"
   ]
  },
  {
   "cell_type": "markdown",
   "metadata": {},
   "source": [
    "### 문제 풀이"
   ]
  },
  {
   "cell_type": "code",
   "execution_count": 1,
   "metadata": {},
   "outputs": [],
   "source": [
    "from collections import Counter\n",
    "\n",
    "def solution(a):\n",
    "    answer = 0\n",
    "    c = Counter(a) # 수열에 포함된 숫자들\n",
    "    for num in c.keys(): # 수열에 포함된 모든 숫자에 대해서 (교집합 숫자로 삼아서)\n",
    "        if 2 * c[num] < answer: # 해당 숫자로 만들 수 있는 스타수열의 최대 크기가 현재의 최대 수열 크기보다 작다면 탐색하지 않음\n",
    "            continue\n",
    "        size = 0 # 스타수열 사이즈\n",
    "        current_num = -1 # 수열에 포함된 num의 인덱스 최댓값\n",
    "        current_used = -1 # 수열에 포함된 숫자 인덱스의 최댓값\n",
    "        i = 0 # 탐색할 수열의 인덱스\n",
    "        while i < len(a): # 수열 순서대로 탐색\n",
    "            if a[i] == num: # 만약 현재 탐색하는 부분에 교집합 숫자가 있다면\n",
    "                if i-1 > current_num and i-1 > current_used:\n",
    "                # i번째 앞의 자리에 수열을 이룰 수 있는 숫자가 있을 때\n",
    "                    current_num = i\n",
    "                    current_used = i\n",
    "                    # 수열 구성 정보 갱신\n",
    "                    size += 2 # 수열의 사이즈 2 증가\n",
    "                    \n",
    "                else: # i번째 숫자의 뒤쪽으로 수열을 이뤄야 할 때\n",
    "                    current_num = i # 수열에 포함된 num의 인덱스 최댓값을 i로 갱신 \n",
    "                    j = i+1 # i번째 숫자와 짝을 이룰 수열의 인덱스\n",
    "                    while j < len(a):\n",
    "                        if a[j] != num: # 만약 num과 다른 숫자를 찾았다면\n",
    "                            # (i, j) 쌍 수열을 이루고\n",
    "                            size += 2  # 사이즈 2 증가\n",
    "                            break\n",
    "                        else:\n",
    "                            current_num = j # 만약 num과 같은 숫자가 나온다면 current_num 갱신\n",
    "                        j += 1\n",
    "                    i = j # j값 이후로 수열 탐색\n",
    "                    current_used = j # 수열에 포함된 숫자 인덱스의 최댓값을 j로 갱신\n",
    "            i += 1\n",
    "        answer = max(answer, size) # 사이즈의 최댓값을 구한다\n",
    "    return answer # 답 반환"
   ]
  },
  {
   "cell_type": "code",
   "execution_count": 2,
   "metadata": {},
   "outputs": [
    {
     "data": {
      "text/plain": [
       "0"
      ]
     },
     "execution_count": 2,
     "metadata": {},
     "output_type": "execute_result"
    }
   ],
   "source": [
    "a = [0]\n",
    "solution(a)"
   ]
  },
  {
   "cell_type": "code",
   "execution_count": 3,
   "metadata": {},
   "outputs": [
    {
     "data": {
      "text/plain": [
       "4"
      ]
     },
     "execution_count": 3,
     "metadata": {},
     "output_type": "execute_result"
    }
   ],
   "source": [
    "a = [5,2,3,3,5,3]\n",
    "solution(a)"
   ]
  },
  {
   "cell_type": "code",
   "execution_count": 4,
   "metadata": {},
   "outputs": [
    {
     "data": {
      "text/plain": [
       "8"
      ]
     },
     "execution_count": 4,
     "metadata": {},
     "output_type": "execute_result"
    }
   ],
   "source": [
    "a = [0,3,3,0,7,2,0,2,2,0]\n",
    "solution(a)"
   ]
  }
 ],
 "metadata": {
  "kernelspec": {
   "display_name": "Python 3",
   "language": "python",
   "name": "python3"
  },
  "language_info": {
   "codemirror_mode": {
    "name": "ipython",
    "version": 3
   },
   "file_extension": ".py",
   "mimetype": "text/x-python",
   "name": "python",
   "nbconvert_exporter": "python",
   "pygments_lexer": "ipython3",
   "version": "3.6.9"
  }
 },
 "nbformat": 4,
 "nbformat_minor": 2
}
