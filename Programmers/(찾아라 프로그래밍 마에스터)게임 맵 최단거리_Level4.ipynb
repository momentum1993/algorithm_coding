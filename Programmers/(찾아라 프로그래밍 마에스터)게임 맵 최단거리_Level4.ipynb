{
 "cells": [
  {
   "cell_type": "markdown",
   "metadata": {},
   "source": [
    "#### 문제 설명  \n",
    "ROR 게임은 두 팀으로 나누어서 진행하며, 상대 팀 진영을 먼저 파괴하면 이기는 게임입니다. 따라서, 각 팀은 상대 팀 진영에 최대한 빨리 도착하는 것이 유리합니다.  \n",
    "  \n",
    "지금부터 당신은 한 팀의 팀원이 되어 게임을 진행하려고 합니다. 다음은 5 x 5 크기의 맵에, 당신의 캐릭터가 (행: 1, 열: 1) 위치에 있고, 상대 팀 진영은 (행: 5, 열: 5) 위치에 있는 경우의 예시입니다.  \n",
    "\n",
    "![](https://res.cloudinary.com/jistring93/image/upload/v1482130533/%EC%B5%9C%EB%8B%A8%EA%B1%B0%EB%A6%AC1_sxuruo.png)  \n",
    "  \n",
    "위 그림에서 검은색 부분은 벽으로 막혀있어 갈 수 없는 길이며, 흰색 부분은 갈 수 있는 길입니다. 캐릭터가 움직일 때는 동, 서, 남, 북 방향으로 한 칸씩 이동하며, 게임 맵을 벗어난 길은 갈 수 없습니다.  \n",
    "아래 예시는 캐릭터가 상대 팀 진영으로 가는 두 가지 방법을 나타내고 있습니다.  \n",
    "  \n",
    "- 첫 번째 방법은 11개의 칸을 지나서 상대 팀 진영에 도착했습니다.  \n",
    "  \n",
    "![](https://res.cloudinary.com/jistring93/image/upload/v1482130625/%EC%B5%9C%EB%8B%A8%EA%B1%B0%EB%A6%AC2_hnjd3b.png)  \n",
    "  \n",
    "- 두 번째 방법은 15개의 칸을 지나서 상대팀 진영에 도착했습니다.  \n",
    "  \n",
    "![](https://res.cloudinary.com/jistring93/image/upload/v1482130687/%EC%B5%9C%EB%8B%A8%EA%B1%B0%EB%A6%AC3_ntxygd.png)  \n",
    "  \n",
    "위 예시에서는 첫 번째 방법보다 더 빠르게 상대팀 진영에 도착하는 방법은 없으므로, 이 방법이 상대 팀 진영으로 가는 가장 빠른 방법입니다.  \n",
    "  \n",
    "만약, 상대 팀이 자신의 팀 진영 주위에 벽을 세워두었다면 상대 팀 진영에 도착하지 못할 수도 있습니다. 예를 들어, 다음과 같은 경우에 당신의 캐릭터는 상대 팀 진영에 도착할 수 없습니다.  \n",
    "  \n",
    "![](https://res.cloudinary.com/jistring93/image/upload/v1482130852/%EC%B5%9C%EB%8B%A8%EA%B1%B0%EB%A6%AC4_of9xfg.png)  \n",
    "\n",
    "게임 맵의 상태 maps가 매개변수로 주어질 때, 캐릭터가 상대 팀 진영에 도착하기 위해서 지나가야 하는 칸의 개수의 최솟값을 return 하도록 solution 함수를 완성해주세요. 단, 상대 팀 진영에 도착할 수 없을 때는 -1을 return 해주세요.  \n",
    "   \n",
    "#### 제한 조건  \n",
    "- maps는 n x m 크기의 게임 맵의 상태가 들어있는 2차원 배열로, n과 m은 각각 1 이상 100 이하의 자연수입니다.\n",
    "    - n과 m은 서로 같을 수도, 다를 수도 있지만, n과 m이 모두 1인 경우는 입력으로 주어지지 않습니다.\n",
    "- maps는 0과 1로만 이루어져 있으며, 0은 벽이 있는 자리, 1은 벽이 없는 자리를 나타냅니다.\n",
    "- 처음에 캐릭터는 게임 맵의 좌측 상단인 (1, 1) 위치에 있으며, 상대방 진영은 게임 맵의 우측 하단인 (n, m) 위치에 있습니다.  \n",
    "  \n",
    "#### 입출력 예  \n",
    "|maps|\tanswer|\n",
    "|:---:|:---:|\n",
    "|[[1,0,1,1,1],[1,0,1,0,1],[1,0,1,1,1],[1,1,1,0,1],[0,0,0,0,1]]|\t11|\n",
    "|[[1,0,1,1,1],[1,0,1,0,1],[1,0,1,1,1],[1,1,1,0,0],[0,0,0,0,1]]|\t-1|  "
   ]
  },
  {
   "cell_type": "markdown",
   "metadata": {},
   "source": [
    "---"
   ]
  },
  {
   "cell_type": "markdown",
   "metadata": {},
   "source": [
    "### 문제 풀이"
   ]
  },
  {
   "cell_type": "code",
   "execution_count": 1,
   "metadata": {},
   "outputs": [],
   "source": [
    "from queue import PriorityQueue\n",
    "\n",
    "def solution(maps):\n",
    "    q = PriorityQueue() # 우선순위 큐\n",
    "    direction = [(1, 0), (-1, 0), (0, 1), (0, -1)] # 네 방향\n",
    "    len_y = len(maps) # 맵의 세로 길이\n",
    "    len_x = len(maps[0]) # 맵의 가로 길이\n",
    "    visited = [[len_y*len_x+1 for _ in range(len_x)] for _ in range(len_y)]\n",
    "    # 현재까지 특정 좌표 영역에 도달하기까지 방문해야하는 최소 칸의 수\n",
    "    visited[0][0] = 1 # (0, 0) 좌표에 도달하기까지 방문해야하는 최소 칸의 수는 1칸이다.\n",
    "    q.put((1, 0, 0)) # (해당 영역에 도달하기까지 방문해야하는 칸의 수, y좌표, x좌표) 정보를 큐에 push\n",
    "    while not q.empty():\n",
    "        num, y, x = q.get() # (해당 영역에 도달하기까지 방문해야하는 칸의 수, y좌표, x좌표) 정보를 큐에서 pop\n",
    "        if y == len_y-1 and x == len_x-1: # 만약 상대 진영에 도달했다면\n",
    "            return num # 답 반환\n",
    "        for add_y, add_x in direction: # 네 방향에 대해서\n",
    "            if 0 <= y+add_y < len_y and 0 <= x+add_x < len_x and maps[y+add_y][x+add_x] == 1 and visited[y+add_y][x+add_x] > num+1:\n",
    "            # 맵 내부에 벽이 없는 지역이고, 이 지역을 최소 방문칸으로 도달했다면\n",
    "                visited[y+add_y][x+add_x] = num+1 # 해당 영역을 도달하기 위해 방문한 최소 칸의 수 갱신\n",
    "                q.put((num+1, add_y+y, add_x+x)) # 다시 정보를 큐에 넣어 계속해서 탐색한다.\n",
    "    return -1 # 만약 답이 없다면 -1 반환"
   ]
  },
  {
   "cell_type": "code",
   "execution_count": 2,
   "metadata": {},
   "outputs": [
    {
     "data": {
      "text/plain": [
       "11"
      ]
     },
     "execution_count": 2,
     "metadata": {},
     "output_type": "execute_result"
    }
   ],
   "source": [
    "maps = [[1,0,1,1,1],[1,0,1,0,1],[1,0,1,1,1],[1,1,1,0,1],[0,0,0,0,1]]\n",
    "solution(maps)"
   ]
  },
  {
   "cell_type": "code",
   "execution_count": 3,
   "metadata": {},
   "outputs": [
    {
     "data": {
      "text/plain": [
       "-1"
      ]
     },
     "execution_count": 3,
     "metadata": {},
     "output_type": "execute_result"
    }
   ],
   "source": [
    "maps = [[1,0,1,1,1],[1,0,1,0,1],[1,0,1,1,1],[1,1,1,0,0],[0,0,0,0,1]]\n",
    "solution(maps)"
   ]
  }
 ],
 "metadata": {
  "kernelspec": {
   "display_name": "Python 3",
   "language": "python",
   "name": "python3"
  },
  "language_info": {
   "codemirror_mode": {
    "name": "ipython",
    "version": 3
   },
   "file_extension": ".py",
   "mimetype": "text/x-python",
   "name": "python",
   "nbconvert_exporter": "python",
   "pygments_lexer": "ipython3",
   "version": "3.6.9"
  }
 },
 "nbformat": 4,
 "nbformat_minor": 2
}
