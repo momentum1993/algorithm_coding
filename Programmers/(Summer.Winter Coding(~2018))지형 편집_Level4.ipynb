{
 "cells": [
  {
   "cell_type": "markdown",
   "metadata": {},
   "source": [
    "#### 문제 설명  \n",
    "XX 게임에서는 지형 편집 기능을 이용하여 플레이어가 직접 게임 속 지형을 수정할 수 있습니다. 이 게임에서는 1 x 1 x 1 크기의 정육면체 블록을 쌓아 게임 속 지형을 표현합니다. 이때, 블록이 공중에 떠 있거나, 블록 하나가 여러 개의 칸에 걸쳐 놓일 수는 없습니다. 따라서 지형을 편집하기 위해서는 각 칸의 제일 위에 블록 1개를 새로 추가하거나, 제일 위에 있는 블록 한 개를 삭제하는 방식으로 지형을 수정해야 합니다. 이때, 블록 한 개를 새로 추가하거나 삭제하기 위해서는 게임머니를 사용해야 하므로 몇 개의 블록을 추가하고 삭제할지 신중한 선택이 필요합니다.  \n",
    "  \n",
    "이 게임을 즐기던 한 플레이어는 N x N 크기의 지역에 자신만의 별장을 만들고 싶어졌습니다. 이를 위해서는 울퉁불퉁한 지형의 모든 칸의 높이가 같아지도록 만들어야 합니다. 이때, 블록 한 개를 추가하려면 P의 비용이, 제거하려면 Q의 비용이 들게 됩니다.  \n",
    "다음은 블록 한 개를 추가할 때 5의 비용이, 제거할 때 3의 비용이 드는 경우, 3 x 3 넓이의 모든 칸의 블록 높이가 같아지도록 만드는 예시입니다.  \n",
    "  \n",
    "![](https://res.cloudinary.com/dpxurmkij/image/upload/c_scale,w_110/v1488222714/%EC%98%88%EC%8B%9C1_ciodtv.png)  \n",
    "  \n",
    "위 그림과 같이 지형 블록이 놓여 있는 경우 모든 칸의 높이가 3으로 같아지도록 한다면 다음과 같은 모양이 됩니다.  \n",
    "  \n",
    "![](https://res.cloudinary.com/dpxurmkij/image/upload/c_scale,w_100/v1488222714/%EC%98%88%EC%8B%9C3_irfpxy.png)  \n",
    "  \n",
    "이를 위해서는 3보다 높은 칸의 블록 2개를 제거하고, 3보다 낮은 칸에 총 8개의 블록을 추가해야 하며, 2 x 3 + 8 x 5 = 46의 비용이 들게 됩니다.  \n",
    "  \n",
    "그러나 아래 그림과 같이 모든 칸의 높이가 2로 같아지도록 할 때는 6개의 블록을 제거하고, 3개의 블록을 추가하면 6 x 3 + 3 x 5 = 33의 비용이 들게 되며, 이때가 최소비용이 됩니다.  \n",
    "  \n",
    "![](https://res.cloudinary.com/dpxurmkij/image/upload/c_scale,w_100/v1488222714/%EC%98%88%EC%8B%9C2_xv5wiz.png)  \n",
    "  \n",
    "현재 지형의 상태를 나타내는 배열 land와 블록 한 개를 추가하는 데 필요한 비용 P, 블록 한 개를 제거하는 데 필요한 비용 Q가 매개변수로 주어질 때, 모든 칸에 쌓여있는 블록의 높이가 같아지도록 하는 데 필요한 비용의 최솟값을 return 하도록 solution 함수를 완성해 주세요.  \n",
    "  \n",
    "#### 제한 조건  \n",
    "- land는 N x N 크기의 2차원 배열이며, N의 범위는 1 ≤ N ≤ 300입니다.\n",
    "- land의 각 원소는 각 칸에 놓여 있는 블록의 수를 나타내며, 0 이상 10억 이하의 정수입니다.\n",
    "- 각 칸에 블록 하나를 추가하는 데는 P, 제거하는 데는 Q의 비용이 들며, P, Q의 범위는 1 ≤ P, Q ≤ 100인 자연수입니다.  \n",
    "  \n",
    "#### 입출력 예  \n",
    "|land|\tP|\tQ|\tresult|\n",
    "|:---:|:---:|:---:|:---:|\n",
    "|[[1, 2], [2, 3]]|\t3|\t2|\t5|\n",
    "|[[4, 4, 3], [3, 2, 2], [ 2, 1, 0 ]]|\t5|\t3|\t33|  "
   ]
  },
  {
   "cell_type": "markdown",
   "metadata": {},
   "source": [
    "---"
   ]
  },
  {
   "cell_type": "markdown",
   "metadata": {},
   "source": [
    "### 문제 풀이"
   ]
  },
  {
   "cell_type": "code",
   "execution_count": 1,
   "metadata": {},
   "outputs": [],
   "source": [
    "from collections import defaultdict\n",
    "\n",
    "def get_val(height, P, Q, val, h): # 해당 높이 h로 지형을 평평하게 만들 때의 cost 반환\n",
    "    if val[h] != -1:\n",
    "        return val[h] # 이미 값이 계산되어 있다면 바로 반환\n",
    "    val[h] = 0\n",
    "    for k, v in height.items(): # 모든 좌표에 대해서\n",
    "        diff = h - k # h와의 높이차\n",
    "        if diff > 0:\n",
    "            val[h] += (P * diff) * v # 높이를 더 올릴 경우 각 좌표당 P의 값을 계산해서 합\n",
    "        else:\n",
    "            val[h] += (Q * (-diff)) * v # 높이를 낮춰야 할 경우 각 좌표당 Q의 값을 계산해서 합\n",
    "    return val[h] # 높이 h로 평평하게 만들기 위한 cost\n",
    "\n",
    "def solution(land, P, Q):\n",
    "    answer = 0 # 답\n",
    "    height = defaultdict(int) # 각 높이 별 좌표의 개수\n",
    "    total = 0 # 총 좌표의 합\n",
    "    for y in range(len(land)):\n",
    "        for x in range(len(land[0])): # 모든 land좌표에 대해서\n",
    "            height[land[y][x]] += 1 # 해당하는 높이의 좌표 개수 1 증가\n",
    "            total += 1 # 총 좌표의 개수 1 증가\n",
    "    if len(height.keys()) == 1: # 만약 land좌표 높이가 일정하다면\n",
    "        return 0 # 0 반환\n",
    "    \n",
    "    # 해당 높이 h로 맞추기 위한 cost는 아래로 볼록한 곡선 or 우상향 곡선 or 우하향 곡선을 나타낼 것이다\n",
    "    # 그래서 최소 h부터 시작해서 최대 h까지 탐색 중에 변곡점이 생긴다면 해당 변곡점이 최소 cost가 될 것이고,\n",
    "    # 그렇지 않다면 최소 h나 최대 h에 대한 cost 중 최솟값이 최소 cost가 될 것이다.\n",
    "    \n",
    "    val = defaultdict(lambda: -1) # 모든 land좌표를 특정 높이로 맞추기 위한 cost\n",
    "    min_h = min(height.keys()) # 최저 높이\n",
    "    val[min_h] = get_val(height, P, Q, val, min_h) # 최저 높이로 맞추기 위한 cost\n",
    "    \n",
    "    num = 0 # 현재 탐색 중인 높이보다 낮은 좌표들의 개수\n",
    "    before = min_h # 이전에 탐색한 높이\n",
    "    for i in sorted(height.keys())[1:]: # 좌표가 가진 모든 높이에 대해서\n",
    "        num += height[before] # 이전 높이의 좌표 개수를  num에 합함\n",
    "        val[i] = val[before] + (num*(i-before)*P) - ((total-num)*(i-before)*Q)\n",
    "        # 현재 탐색중인 높이 i로 land를 맞추기 위한 값은\n",
    "        # 이전 높이를 맞추기위한 cost + (현재 탐색중인 높이보다 낮은 좌표개수*높이차이*P) - (현재높이 이상의 좌표개수*높이차이*Q)가 된다\n",
    "        if val[before] < val[i]: # 만약 변곡점이 생긴다면\n",
    "            return val[before] # 해당 변곡점의 값이 최솟값이다.\n",
    "        before = i # 지금 탐색한 높이 i값이 이제는 이전 높이가 된다.\n",
    "    return val[i] # 모두 탐색한 후 걸러지지 않았다면 가장 높은 높이로 맞추기 위한 cost가 답이 된다."
   ]
  },
  {
   "cell_type": "code",
   "execution_count": 2,
   "metadata": {},
   "outputs": [
    {
     "data": {
      "text/plain": [
       "5"
      ]
     },
     "execution_count": 2,
     "metadata": {},
     "output_type": "execute_result"
    }
   ],
   "source": [
    "land = [[1, 2], [2, 3]]\n",
    "P = 3\n",
    "Q = 2\n",
    "solution(land, P, Q)"
   ]
  },
  {
   "cell_type": "code",
   "execution_count": 3,
   "metadata": {},
   "outputs": [
    {
     "data": {
      "text/plain": [
       "33"
      ]
     },
     "execution_count": 3,
     "metadata": {},
     "output_type": "execute_result"
    }
   ],
   "source": [
    "land = [[4, 4, 3], [3, 2, 2], [ 2, 1, 0 ]]\n",
    "P = 5\n",
    "Q = 3\n",
    "solution(land, P, Q)"
   ]
  }
 ],
 "metadata": {
  "kernelspec": {
   "display_name": "Python 3",
   "language": "python",
   "name": "python3"
  },
  "language_info": {
   "codemirror_mode": {
    "name": "ipython",
    "version": 3
   },
   "file_extension": ".py",
   "mimetype": "text/x-python",
   "name": "python",
   "nbconvert_exporter": "python",
   "pygments_lexer": "ipython3",
   "version": "3.6.9"
  }
 },
 "nbformat": 4,
 "nbformat_minor": 2
}
