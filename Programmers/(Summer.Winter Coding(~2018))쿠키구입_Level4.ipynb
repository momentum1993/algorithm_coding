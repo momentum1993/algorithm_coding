{
 "cells": [
  {
   "cell_type": "markdown",
   "metadata": {},
   "source": [
    "#### 문제 설명  \n",
    "과자를 바구니 단위로 파는 가게가 있습니다. 이 가게는 1번부터 N번까지 차례로 번호가 붙은 바구니 N개가 일렬로 나열해 놨습니다.  \n",
    "  \n",
    "철수는 두 아들에게 줄 과자를 사려합니다. 첫째 아들에게는 l번 바구니부터 m번 바구니까지, 둘째 아들에게는 m+1번 바구니부터 r번 바구니까지를 주려합니다. 단, 두 아들이 받을 과자 수는 같아야 합니다(1 <= l <= m, m+1 <= r <= N). 즉, A[i] 를 i번 바구니에 들어있는 과자 수라고 했을 때, A[l]+..+A[m] = A[m+1]+..+A[r] 를 만족해야 합니다.  \n",
    "  \n",
    "각 바구니 안에 들은 과자 수가 차례로 들은 배열 cookie가 주어질 때, 조건에 맞게 과자를 살 경우 한 명의 아들에게 줄 수 있는 가장 많은 과자 수를 return 하는 solution 함수를 완성해주세요. (단, 조건에 맞게 과자를 구매할 수 없다면 0을 return 합니다)  \n",
    "   \n",
    "#### 제한 조건  \n",
    "- cookie의 길이는 1 이상 2,000 이하입니다.  \n",
    "- cookie의 각각의 원소는 1 이상 500 이하인 자연수입니다.  \n",
    "  \n",
    "#### 입출력 예  \n",
    "|cookie|\tresult|\n",
    "|:---:|:---:|\n",
    "|[1,1,2,3]|\t3|\n",
    "|[1,2,4,5]|\t0|  "
   ]
  },
  {
   "cell_type": "markdown",
   "metadata": {},
   "source": [
    "---"
   ]
  },
  {
   "cell_type": "markdown",
   "metadata": {},
   "source": [
    "### 문제 풀이"
   ]
  },
  {
   "cell_type": "code",
   "execution_count": 1,
   "metadata": {},
   "outputs": [],
   "source": [
    "def get_val(val, start, end): # start ~ end 까지의 쿠키의 합\n",
    "    if val[start][end] != -1:\n",
    "        return val[start][end] # 이미 구했다면 바로 반환\n",
    "    mid = (start + end) // 2\n",
    "    val[start][end] = 0\n",
    "    val[start][end] = get_val(val, start, mid) + get_val(val, mid+1, end)\n",
    "    # 재귀적으로 2분할 해서 값을 구한다.\n",
    "    return val[start][end] # start ~ end까지 쿠키의 합 반환\n",
    "\n",
    "def solution(cookie):\n",
    "    val = [[-1 for _ in range(len(cookie))]  for _ in range(len(cookie))] # val[start:end] -> start번째부터 end번째까지 쿠기 값의 합\n",
    "    for i in range(len(cookie)): # 모든 쿠키에 대해서\n",
    "        val[i][i] = cookie[i] # i부터 i번째까지 쿠키의 합은 i번째 쿠키값이다.\n",
    "    answer = 0 # 답\n",
    "    for mid in range(0, len(cookie)-1): # 기준점 mid\n",
    "        start, end = 0, len(cookie)-1 # 탐색할 인덱스의 시작과 끝\n",
    "        while start <= mid and end >= mid+1: # 시작과 끝 인덱스가 기준점을 넘어가지 않는 범위내에서\n",
    "            left = get_val(val, start, mid) # [start, mid] 까지의 쿠키의 합\n",
    "            right = get_val(val, mid+1, end) # [mid+1, end] 까지의 쿠키의 합\n",
    "            if left < answer or right < answer: # 만약 해당 값이 최댓값이 될 수 없다면 탐색 중지\n",
    "                break\n",
    "            if left < right: # [mid+1, end] 까지의 쿠키의 합 값이 더 클 경우\n",
    "                end -= 1 # end 범위를 1 줄인다.\n",
    "            elif left == right: # 만약 왼쪽 값과 오른쪽 값이 같다면\n",
    "                answer = max(answer, left) # 답의 최댓값 갱신\n",
    "                break # 탐색 중지\n",
    "            else: # left > right # [start, mid] 까지의 쿠키의 합 값이 더 클 경우\n",
    "                start += 1 # start 범위를 1 줄인다.\n",
    "    return answer # 답 반환"
   ]
  },
  {
   "cell_type": "code",
   "execution_count": 2,
   "metadata": {},
   "outputs": [
    {
     "data": {
      "text/plain": [
       "3"
      ]
     },
     "execution_count": 2,
     "metadata": {},
     "output_type": "execute_result"
    }
   ],
   "source": [
    "cookie = [1,1,2,3]\n",
    "solution(cookie)"
   ]
  },
  {
   "cell_type": "code",
   "execution_count": 3,
   "metadata": {},
   "outputs": [
    {
     "data": {
      "text/plain": [
       "0"
      ]
     },
     "execution_count": 3,
     "metadata": {},
     "output_type": "execute_result"
    }
   ],
   "source": [
    "cookie = [1,2,4,5]\n",
    "solution(cookie)"
   ]
  }
 ],
 "metadata": {
  "kernelspec": {
   "display_name": "Python 3",
   "language": "python",
   "name": "python3"
  },
  "language_info": {
   "codemirror_mode": {
    "name": "ipython",
    "version": 3
   },
   "file_extension": ".py",
   "mimetype": "text/x-python",
   "name": "python",
   "nbconvert_exporter": "python",
   "pygments_lexer": "ipython3",
   "version": "3.6.9"
  }
 },
 "nbformat": 4,
 "nbformat_minor": 2
}
