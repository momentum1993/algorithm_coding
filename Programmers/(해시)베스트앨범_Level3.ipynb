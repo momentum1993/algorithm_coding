{
 "cells": [
  {
   "cell_type": "markdown",
   "metadata": {},
   "source": [
    "#### 문제 설명  \n",
    "스트리밍 사이트에서 장르 별로 가장 많이 재생된 노래를 두 개씩 모아 베스트 앨범을 출시하려 합니다. 노래는 고유 번호로 구분하며, 노래를 수록하는 기준은 다음과 같습니다.  \n",
    "  \n",
    "속한 노래가 많이 재생된 장르를 먼저 수록합니다.\n",
    "장르 내에서 많이 재생된 노래를 먼저 수록합니다.\n",
    "장르 내에서 재생 횟수가 같은 노래 중에서는 고유 번호가 낮은 노래를 먼저 수록합니다.\n",
    "노래의 장르를 나타내는 문자열 배열 genres와 노래별 재생 횟수를 나타내는 정수 배열 plays가 주어질 때, 베스트 앨범에 들어갈 노래의 고유 번호를 순서대로 return 하도록 solution 함수를 완성하세요.  \n",
    "   \n",
    "#### 제한 조건  \n",
    "- genres[i]는 고유번호가 i인 노래의 장르입니다.\n",
    "- plays[i]는 고유번호가 i인 노래가 재생된 횟수입니다.\n",
    "- genres와 plays의 길이는 같으며, 이는 1 이상 10,000 이하입니다.\n",
    "- 장르 종류는 100개 미만입니다.\n",
    "- 장르에 속한 곡이 하나라면, 하나의 곡만 선택합니다.\n",
    "- 모든 장르는 재생된 횟수가 다릅니다.  \n",
    "  \n",
    "#### 입출력 예  \n",
    "|genres|\tplays|\treturn|\n",
    "|:---:|:---:|:---:|\n",
    "|[classic, pop, classic, classic, pop]|\t[500, 600, 150, 800, 2500]|\t[4, 1, 3, 0]|  "
   ]
  },
  {
   "cell_type": "markdown",
   "metadata": {},
   "source": [
    "---"
   ]
  },
  {
   "cell_type": "markdown",
   "metadata": {},
   "source": [
    "### 문제 풀이"
   ]
  },
  {
   "cell_type": "code",
   "execution_count": 1,
   "metadata": {},
   "outputs": [],
   "source": [
    "from collections import defaultdict\n",
    "\n",
    "def solution(genres, plays):\n",
    "    answer = [] # 답\n",
    "    play_num = defaultdict(int) # 각 장르별 재생횟수\n",
    "    music_dict = defaultdict(list) # 각 장르별 음악과 재생횟수 리스트\n",
    "    num = len(genres) # 총 음악 갯수\n",
    "    for i in range(num): # 모든 음악에 대해서\n",
    "        play_num[genres[i]] += plays[i] # 해당하는 장르의 재생횟수 갱신\n",
    "        music_dict[genres[i]].append((plays[i], i)) # 해당하는 장르에 (음악의 인덱스, 재생횟수) 정보 저장\n",
    "    for k, v in sorted(play_num.items(), key=lambda x: -x[1]): # 재생횟수 내림차순으로 각 장르에 대해서\n",
    "        for n, idx in sorted(music_dict[k], key=lambda x: -x[0])[:2]: # 재생횟수 내림차순으로 해당 장르의 모든 노래에 대해서\n",
    "            answer.append(idx) # 차례대로 음악 인덱스 저장\n",
    "    return answer # 플레이 순서 리스트 반환"
   ]
  },
  {
   "cell_type": "code",
   "execution_count": 2,
   "metadata": {},
   "outputs": [
    {
     "data": {
      "text/plain": [
       "[4, 1, 3, 0]"
      ]
     },
     "execution_count": 2,
     "metadata": {},
     "output_type": "execute_result"
    }
   ],
   "source": [
    "genres = [\"classic\", \"pop\", \"classic\", \"classic\", \"pop\"]\n",
    "plays = [500, 600, 150, 800, 2500]\n",
    "solution(genres, plays)"
   ]
  }
 ],
 "metadata": {
  "kernelspec": {
   "display_name": "Python 3",
   "language": "python",
   "name": "python3"
  },
  "language_info": {
   "codemirror_mode": {
    "name": "ipython",
    "version": 3
   },
   "file_extension": ".py",
   "mimetype": "text/x-python",
   "name": "python",
   "nbconvert_exporter": "python",
   "pygments_lexer": "ipython3",
   "version": "3.6.9"
  }
 },
 "nbformat": 4,
 "nbformat_minor": 2
}
