{
 "cells": [
  {
   "cell_type": "markdown",
   "metadata": {},
   "source": [
    "#### 문제 설명  \n",
    "출발지점부터 distance만큼 떨어진 곳에 도착지점이 있습니다. 그리고 그사이에는 바위들이 놓여있습니다. 바위 중 몇 개를 제거하려고 합니다.\n",
    "예를 들어, 도착지점이 25만큼 떨어져 있고, 바위가 [2, 14, 11, 21, 17] 지점에 놓여있을 때 바위 2개를 제거하면 출발지점, 도착지점, 바위 간의 거리가 아래와 같습니다.  \n",
    "  \n",
    "|제거한 바위의 위치|\t각 바위 사이의 거리|\t거리의 최솟값  |\n",
    "|:---:|:---:|:---:|\n",
    "|[21, 17]|\t[2, 9, 3, 11]|\t2|\n",
    "|[2, 21]|\t[11, 3, 3, 8]|\t3|\n",
    "|[2, 11]|\t[14, 3, 4, 4]|\t3|\n",
    "|[11, 21]|\t[2, 12, 3, 8]|\t2|\n",
    "|[2, 14]|\t[11, 6, 4, 4]|\t4|  \n",
    "  \n",
    "위에서 구한 거리의 최솟값 중에 가장 큰 값은 4입니다.  \n",
    "  \n",
    "출발지점부터 도착지점까지의 거리 distance, 바위들이 있는 위치를 담은 배열 rocks, 제거할 바위의 수 n이 매개변수로 주어질 때, 바위를 n개 제거한 뒤 각 지점 사이의 거리의 최솟값 중에 가장 큰 값을 return 하도록 solution 함수를 작성해주세요.  \n",
    "  \n",
    "#### 제한 조건  \n",
    "- 도착지점까지의 거리 distance는 1 이상 1,000,000,000 이하입니다.  \n",
    "- 바위는 1개 이상 50,000개 이하가 있습니다.  \n",
    "- n 은 1 이상 바위의 개수 이하입니다.  \n",
    "  \n",
    "#### 입출력 예  \n",
    "|distance|\trocks|\tn|\treturn|\n",
    "|:---:|:---:|:---:|:---:|\n",
    "|25|\t[2, 14, 11, 21, 17]|\t2|\t4|  \n",
    "  "
   ]
  },
  {
   "cell_type": "markdown",
   "metadata": {},
   "source": [
    "---"
   ]
  },
  {
   "cell_type": "markdown",
   "metadata": {},
   "source": [
    "### 문제 풀이"
   ]
  },
  {
   "cell_type": "code",
   "execution_count": 1,
   "metadata": {},
   "outputs": [],
   "source": [
    "import math\n",
    "\n",
    "def solution(distance, rocks, n):\n",
    "    answer = 0 # 답\n",
    "    rocks = sorted(rocks) # 오름차순으로 바위 위치 정렬\n",
    "    lo, hi = 0, distance\n",
    "    \n",
    "    # 바위간의 거리에 대한 이분탐색을 진행\n",
    "    while lo <= hi:\n",
    "        mid = (lo+hi) // 2 # 탐색 진행할 바위간의 거리\n",
    "        curr_loc = 0 # 현재 위치\n",
    "        min_val = math.inf # 최솟값\n",
    "        remove_num = 0 # 제거한 바위 개수\n",
    "        for loc in rocks: # 모든 바위에 대해서\n",
    "            if  loc-curr_loc < mid: # 바위 간의 거리가 mid 값보다 적을 때\n",
    "                remove_num += 1 # 제거해야할 바위 추가\n",
    "            else: # 바위 간의 거리가 mid값 이상일 때\n",
    "                min_val = min(min_val, loc - curr_loc) # 바위간 거리의 최솟값 저장\n",
    "                curr_loc = loc # 현재 위치 갱신\n",
    "        \n",
    "        if remove_num > n: # 제거한 바위 개수가 n개 보다 많을 경우\n",
    "            hi = mid-1 # [lo, mid] 사이 거리에 대해서 탐색 진행(거리를 줄여서 탐색 진행)\n",
    "        else: # 제거한 바위 개수가 n개 이하일 때\n",
    "            answer = min_val # 바위간 거리 최솟값 저장\n",
    "            lo = mid+1 # [mid, hi] 사이 거리에 대해서 탐색 진행(거리를 늘려서 탐색 진행)\n",
    "    return answer # 답 반환"
   ]
  },
  {
   "cell_type": "code",
   "execution_count": 2,
   "metadata": {},
   "outputs": [
    {
     "data": {
      "text/plain": [
       "4"
      ]
     },
     "execution_count": 2,
     "metadata": {},
     "output_type": "execute_result"
    }
   ],
   "source": [
    "distance = 25\n",
    "rocks = [2, 14, 11, 21, 17]\n",
    "n = 2\n",
    "solution(distance, rocks, n)"
   ]
  }
 ],
 "metadata": {
  "kernelspec": {
   "display_name": "Python 3",
   "language": "python",
   "name": "python3"
  },
  "language_info": {
   "codemirror_mode": {
    "name": "ipython",
    "version": 3
   },
   "file_extension": ".py",
   "mimetype": "text/x-python",
   "name": "python",
   "nbconvert_exporter": "python",
   "pygments_lexer": "ipython3",
   "version": "3.6.9"
  }
 },
 "nbformat": 4,
 "nbformat_minor": 2
}
