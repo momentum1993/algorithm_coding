{
 "cells": [
  {
   "cell_type": "markdown",
   "metadata": {},
   "source": [
    "#### 문제 설명  \n",
    "모든 수가 0 또는 1로 이루어진 2차원 배열 a가 주어집니다. 다음 조건을 모두 만족하는 2차원 배열 b의 경우의 수를 ($10^7$ + 19)로 나눈 나머지를 return 하도록 solution 함수를 완성해주세요.  \n",
    "  \n",
    "- b의 모든 원소는 0 아니면 1입니다.  \n",
    "- a의 행/열의 개수와 b의 행/열의 개수가 같습니다. (= a와 b의 크기가 같습니다.)  \n",
    "- i = 1, 2, ..., (a의 열의 개수)에 대해서 a의 i번째 열과 b의 i번째 열에 들어 있는 1의 개수가 같습니다.  \n",
    "  \n",
    "b의 각 행에 들어 있는 1의 개수가 짝수입니다. (0도 짝수입니다.)  \n",
    "  \n",
    "#### 제한 사항  \n",
    "- a의 행의 개수는 1 이상 300 이하입니다.  \n",
    "    - a의 각 행의 길이는 1 이상 300 이하로 모두 동일합니다.  \n",
    "  \n",
    "#### 입출력 예  \n",
    "|a\t|result|\n",
    "|:---:|:---:|\n",
    "|[[0,1,0],[1,1,1],[1,1,0],[0,1,1]]|\t6|\n",
    "|[[1,0,0],[1,0,0]]|\t0|\n",
    "|[[1,0,0,1,1],[0,0,0,0,0],[1,1,0,0,0],[0,0,0,0,1]]|\t72|"
   ]
  },
  {
   "cell_type": "markdown",
   "metadata": {},
   "source": [
    "---"
   ]
  },
  {
   "cell_type": "markdown",
   "metadata": {},
   "source": [
    "### 문제 풀이"
   ]
  },
  {
   "cell_type": "code",
   "execution_count": 1,
   "metadata": {},
   "outputs": [],
   "source": [
    "def get_combination(combination, n, r):\n",
    "    if combination[n][r] != -1:\n",
    "        return combination[n][r]\n",
    "    if n == 1 or r == 0 or n == r:\n",
    "        combination[n][r] = 1\n",
    "        return combination[n][r]\n",
    "    combination[n][r] = get_combination(combination, n-1, r-1) + get_combination(combination, n-1, r)\n",
    "    return combination[n][r]\n",
    "    \n",
    "def solution(a):\n",
    "    row_len = len(a) # 행의 개수\n",
    "    col_len = len(a[0]) # 열의 개수\n",
    "    col = [0 for _ in range(col_len)] # 각 열당 1의 개수\n",
    "    for x in range(col_len): # 각 열에 대한 1의 개수 갱신\n",
    "        for y in range(row_len):\n",
    "            if a[y][x] == 1:\n",
    "                col[x] += 1\n",
    "    combination = [[-1 for _ in range(row_len+1)] for _ in range(row_len+1)] # combination[n][r] = n C r의 개수\n",
    "    even_count = [[-1 for _ in range(row_len+1)] for _ in range(col_len)]\n",
    "    # even_count[a][b] = 0 ~ a열까지 짝수행의 개수가 b인 행렬의 개수\n",
    "    for i in range(row_len+1):\n",
    "        even_count[0][i] = 0 # 0열까지 짝수행의 개수가 i인 행렬의 개수는 0으로 갱신\n",
    "    even_count[0][row_len-col[0]] = get_combination(combination, row_len, row_len-col[0])\n",
    "    # 0번째 열의 경우, 0번째 열에서 가져야 하는 0의 개수(=총 행의 개수 - col[0])만큼의 짝수행을 지닐 수 있으므로 갱신\n",
    "    answer = 0 # 답\n",
    "    \n",
    "    for by in range(1, col_len): # 0 ~ by번째까지의 열에 대해서\n",
    "        for count in range(row_len+1): # 짝수행의 개수를 count만큼 지닌\n",
    "            even_count[by][count] = 0 # 0 ~ by번째까지의 열에 대해서 짝수행의 개수를 count만큼 지닌 경우의 수\n",
    "            for even in range(col[by]+1):\n",
    "                odd = col[by] - even \n",
    "                # even: 0 ~ by-1번째 열까지로 구성된 행렬에서 1을 추가하여 홀수로 바꿀 (합이 짝수가 되는 행)의 개수\n",
    "                # odd: 0 ~ by-1번째 열까지로 구성된 행렬에서 1을 추가하여 짝수로 바꿀 (합이 홀수가 되는 행)의 개수\n",
    "                # even + odd = by번째 열에서의 1의 개수 (즉, 짝수/홀수 상태 변환 가능 개수)\n",
    "                e = count + even - odd\n",
    "                o = row_len - e\n",
    "                # e: by-1번째 열까지로 구성된 행렬에서 e개의 짝수행을 지니고 있을 때\n",
    "                # o: by-1번째 열까지로 구성된 행렬에서 o개의 홀수행을 지니고 있을 때\n",
    "                # e + o = 전체 행의 개수\n",
    "                if e < 0 or e > row_len or e < even or o < odd: # e가 행의 개수를 벗어나거나, even과 odd가 지니고 있는 행의 개수를 벗어나면\n",
    "                    continue # 탐색하지 않음\n",
    "                if even_count[by-1][e] == 0: # by-1번째 열까지로 구성된 행렬에서 e개의 짝수행을 지니고 있을 경우의 수가 없다면\n",
    "                    continue # 탐색하지 않음\n",
    "                even_count[by][count] += even_count[by-1][e] * get_combination(combination, e, even) * get_combination(combination, o, odd)\n",
    "                # even_count[by][count]\n",
    "                # = (by-1번째 열까지로 구성된 행렬에서 e개의 짝수행을 지니고 있을 경우의 수) * (짝수행 e개 중에 even개를 홀수행으로 바꿀 경우의 수) * (홀수행 o개 중에 odd개를 홀수행으로 바꿀 경우의 수) \n",
    "                even_count[by][count] %= (pow(10, 7) + 19) # (10^7 + 19)로 나눈 나머지값으로 저장\n",
    "    answer = even_count[col_len-1][row_len] # 답은 모든 열을 포함하는 행렬에서 모든 행이 짝수일 경우의 수\n",
    "    return answer # 답 반환"
   ]
  },
  {
   "cell_type": "code",
   "execution_count": 2,
   "metadata": {},
   "outputs": [
    {
     "data": {
      "text/plain": [
       "6"
      ]
     },
     "execution_count": 2,
     "metadata": {},
     "output_type": "execute_result"
    }
   ],
   "source": [
    "a = [[0,1,0],[1,1,1],[1,1,0],[0,1,1]]\n",
    "solution(a)"
   ]
  },
  {
   "cell_type": "code",
   "execution_count": 3,
   "metadata": {},
   "outputs": [
    {
     "data": {
      "text/plain": [
       "0"
      ]
     },
     "execution_count": 3,
     "metadata": {},
     "output_type": "execute_result"
    }
   ],
   "source": [
    "a = [[1,0,0],[1,0,0]]\n",
    "solution(a)"
   ]
  },
  {
   "cell_type": "code",
   "execution_count": 4,
   "metadata": {},
   "outputs": [
    {
     "data": {
      "text/plain": [
       "72"
      ]
     },
     "execution_count": 4,
     "metadata": {},
     "output_type": "execute_result"
    }
   ],
   "source": [
    "a = [[1,0,0,1,1],[0,0,0,0,0],[1,1,0,0,0],[0,0,0,0,1]]\n",
    "solution(a)"
   ]
  }
 ],
 "metadata": {
  "kernelspec": {
   "display_name": "Python 3",
   "language": "python",
   "name": "python3"
  },
  "language_info": {
   "codemirror_mode": {
    "name": "ipython",
    "version": 3
   },
   "file_extension": ".py",
   "mimetype": "text/x-python",
   "name": "python",
   "nbconvert_exporter": "python",
   "pygments_lexer": "ipython3",
   "version": "3.6.9"
  }
 },
 "nbformat": 4,
 "nbformat_minor": 2
}
