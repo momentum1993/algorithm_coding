{
 "cells": [
  {
   "cell_type": "markdown",
   "metadata": {},
   "source": [
    "#### 문제 설명  \n",
    "일렬로 나열된 n개의 풍선이 있습니다. 모든 풍선에는 서로 다른 숫자가 써져 있습니다. 당신은 다음 과정을 반복하면서 풍선들을 단 1개만 남을 때까지 계속 터트리려고 합니다.  \n",
    "  \n",
    "1. 임의의 인접한 두 풍선을 고른 뒤, 두 풍선 중 하나를 터트립니다.  \n",
    "2. 터진 풍선으로 인해 풍선들 사이에 빈 공간이 생겼다면, 빈 공간이 없도록 풍선들을 중앙으로 밀착시킵니다.  \n",
    "  \n",
    "여기서 조건이 있습니다. 인접한 두 풍선 중에서 번호가 더 작은 풍선을 터트리는 행위는 최대 1번만 할 수 있습니다. 즉, 어떤 시점에서 인접한 두 풍선 중 번호가 더 작은 풍선을 터트렸다면, 그 이후에는 인접한 두 풍선을 고른 뒤 번호가 더 큰 풍선만을 터트릴 수 있습니다.  \n",
    "  \n",
    "당신은 어떤 풍선이 최후까지 남을 수 있는지 알아보고 싶습니다. 위에 서술된 조건대로 풍선을 터트리다 보면, 어떤 풍선은 최후까지 남을 수도 있지만, 어떤 풍선은 무슨 수를 쓰더라도 마지막까지 남기는 것이 불가능할 수도 있습니다.  \n",
    "  \n",
    "일렬로 나열된 풍선들의 번호가 담긴 배열 a가 주어집니다. 위에 서술된 규칙대로 풍선들을 1개만 남을 때까지 터트렸을 때 최후까지 남기는 것이 가능한 풍선들의 개수를 return 하도록 solution 함수를 완성해주세요.  \n",
    "   \n",
    "#### 제한 조건  \n",
    "- a의 길이는 1 이상 1,000,000 이하입니다.\n",
    "    - a[i]는 i+1 번째 풍선에 써진 숫자를 의미합니다.\n",
    "    - a의 모든 수는 -1,000,000,000 이상 1,000,000,000 이하인 정수입니다.\n",
    "    - a의 모든 수는 서로 다릅니다.  \n",
    "  \n",
    "#### 입출력 예  \n",
    "|a|\tresult|\n",
    "|:---:|:---:|\n",
    "|[9,-1,-5]|\t3|\n",
    "|[-16,27,65,-2,58,-92,-71,-68,-61,-33]|6|  \n",
    "  "
   ]
  },
  {
   "cell_type": "markdown",
   "metadata": {},
   "source": [
    "---"
   ]
  },
  {
   "cell_type": "markdown",
   "metadata": {},
   "source": [
    "### 문제 풀이"
   ]
  },
  {
   "cell_type": "code",
   "execution_count": 1,
   "metadata": {},
   "outputs": [],
   "source": [
    "def simulation(a, size):\n",
    "    if size <= 2: # 사이즈가 2 이하라면 모두 남길 수 있다.\n",
    "        return size\n",
    "    answer = size\n",
    "    left_min = [-1 for _ in range(size)] # 해당 인덱스의 좌측에서 최솟값\n",
    "    right_min = [-1 for _ in range(size)] # 해당 인덱스의 우측에서 최솟값\n",
    "    left, right = 1000000000, 1000000000\n",
    "    for i in range(1, size-1):\n",
    "        left = min(left, a[i-1])\n",
    "        right = min(right, a[size-i])\n",
    "        # 최솟값 갱신\n",
    "        left_min[i] = left # i번째 항목 왼쪽 항목들 중에 최솟값\n",
    "        right_min[size-(i+1)] = right # size-(i+1)번째 항목 오른쪽 항목들 중에 최솟값\n",
    "    # 양쪽의 끝부분은 무조건 남을 수 있기 때문에 제외하고 탐색\n",
    "    for i in range(1, size-1):\n",
    "        if a[i] > right_min[i] and a[i] > left_min[i]:\n",
    "            answer -= 1\n",
    "        # 만약 현재 탐색중인 값이 왼쪽의 최솟값과 오른쪽의 최솟값보다 클 경우 끝까지 남을 수 없기 때문에 정답에서 제외\n",
    "    return answer # 정답 개수 반환\n",
    "\n",
    "def solution(a):\n",
    "    size = len(a) # a의 길이\n",
    "    answer = simulation(a, size) # 시뮬레이션\n",
    "    return answer # 답 반환"
   ]
  },
  {
   "cell_type": "code",
   "execution_count": 2,
   "metadata": {},
   "outputs": [
    {
     "data": {
      "text/plain": [
       "3"
      ]
     },
     "execution_count": 2,
     "metadata": {},
     "output_type": "execute_result"
    }
   ],
   "source": [
    "a = [9, -1, -5]\n",
    "solution(a)"
   ]
  },
  {
   "cell_type": "code",
   "execution_count": 3,
   "metadata": {},
   "outputs": [
    {
     "data": {
      "text/plain": [
       "6"
      ]
     },
     "execution_count": 3,
     "metadata": {},
     "output_type": "execute_result"
    }
   ],
   "source": [
    "a = [-16, 27, 65, -2, 58, -92, -71, -68, -61, -33]\n",
    "solution(a)"
   ]
  }
 ],
 "metadata": {
  "kernelspec": {
   "display_name": "Python 3",
   "language": "python",
   "name": "python3"
  },
  "language_info": {
   "codemirror_mode": {
    "name": "ipython",
    "version": 3
   },
   "file_extension": ".py",
   "mimetype": "text/x-python",
   "name": "python",
   "nbconvert_exporter": "python",
   "pygments_lexer": "ipython3",
   "version": "3.6.9"
  }
 },
 "nbformat": 4,
 "nbformat_minor": 2
}
