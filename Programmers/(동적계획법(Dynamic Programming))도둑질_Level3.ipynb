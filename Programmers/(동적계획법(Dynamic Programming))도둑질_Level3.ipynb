{
 "cells": [
  {
   "cell_type": "markdown",
   "metadata": {},
   "source": [
    "#### 문제 설명\n",
    "도둑이 어느 마을을 털 계획을 하고 있습니다. 이 마을의 모든 집들은 아래 그림과 같이 동그랗게 배치되어 있습니다.  \n",
    "  \n",
    "![](https://grepp-programmers.s3.amazonaws.com/files/ybm/e7dd4f51c3/a228c73d-1cbe-4d59-bb5d-833fd18d3382.png)  \n",
    "  \n",
    "각 집들은 서로 인접한 집들과 방범장치가 연결되어 있기 때문에 인접한 두 집을 털면 경보가 울립니다.  \n",
    "  \n",
    "각 집에 있는 돈이 담긴 배열 money가 주어질 때, 도둑이 훔칠 수 있는 돈의 최댓값을 return 하도록 solution 함수를 작성하세요.  \n",
    "  \n",
    "#### 제한사항  \n",
    "- 이 마을에 있는 집은 3개 이상 1,000,000개 이하입니다.  \n",
    "- money 배열의 각 원소는 0 이상 1,000 이하인 정수입니다.  \n",
    "  \n",
    "#### 입출력 예\n",
    "|money|\treturn|\n",
    "|:---:|:---:|\n",
    "|[1, 2, 3, 1]|\t4|"
   ]
  },
  {
   "cell_type": "markdown",
   "metadata": {},
   "source": [
    "---"
   ]
  },
  {
   "cell_type": "markdown",
   "metadata": {},
   "source": [
    "### 문제 풀이"
   ]
  },
  {
   "cell_type": "code",
   "execution_count": 1,
   "metadata": {},
   "outputs": [],
   "source": [
    "def solution(money):\n",
    "    answer = 0 # 답\n",
    "    house_num = len(money) # 집의 개수\n",
    "    # 집이 원형이기 때문에 첫번째 집과 마지막 집은 이어져 있다.\n",
    "    dp = [[0 for _ in range(house_num)] for _ in range(2)]\n",
    "    # 그래서 dp로 구할 때 2가지 case로 나누어서 구한다.\n",
    "    # dp[0] : 첫번째집 선택, 마지막집 미선택\n",
    "    dp[0][0] = money[0] # 첫번째 집을 선택\n",
    "    dp[0][1] = max(money[0], money[1]) # 2번째 집까지 있을 때 1번째 집과 2번째 집의 최댓값 선택\n",
    "    # dp[1] : 첫번째집 미선택, 마지막집 선택\n",
    "    dp[1][0] = 0 # 첫번째 집 미선택\n",
    "    dp[1][1] = money[1] # 첫번째 집이 미선택 되었으므로 두번째 집은 선택\n",
    "    \n",
    "    for i in range(2, house_num): # 초기화되지 않은 2번째부터 마지막 집까지\n",
    "        if i != house_num-1: # 마지막집이 미선택되었기 때문에 마지막 집에 대한 dp는 진행하지 않도록 한다.\n",
    "            dp[0][i] = max(dp[0][i-1], money[i]+ dp[0][i-2])\n",
    "        dp[1][i] = max(dp[1][i-1], money[i]+ dp[1][i-2])\n",
    "        # i-1번째집까지의 최댓값과, (i-2번째집까지의 최댓값 + i번째 집을 도둑질값)의 최댓값으로 갱신해준다.\n",
    "    answer = max(max(dp[0]), max(dp[1]))\n",
    "    # 그리고 모든 경우의 수의 최댓값이 답이 된다\n",
    "    return answer # 답 반환"
   ]
  },
  {
   "cell_type": "code",
   "execution_count": 2,
   "metadata": {},
   "outputs": [
    {
     "data": {
      "text/plain": [
       "4"
      ]
     },
     "execution_count": 2,
     "metadata": {},
     "output_type": "execute_result"
    }
   ],
   "source": [
    "money = [1, 2, 3, 1]\n",
    "solution(money)"
   ]
  }
 ],
 "metadata": {
  "kernelspec": {
   "display_name": "Python 3",
   "language": "python",
   "name": "python3"
  },
  "language_info": {
   "codemirror_mode": {
    "name": "ipython",
    "version": 3
   },
   "file_extension": ".py",
   "mimetype": "text/x-python",
   "name": "python",
   "nbconvert_exporter": "python",
   "pygments_lexer": "ipython3",
   "version": "3.6.9"
  }
 },
 "nbformat": 4,
 "nbformat_minor": 2
}
