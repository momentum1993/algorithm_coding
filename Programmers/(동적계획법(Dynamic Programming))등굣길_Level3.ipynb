{
 "cells": [
  {
   "cell_type": "markdown",
   "metadata": {},
   "source": [
    "#### 문제 설명  \n",
    "계속되는 폭우로 일부 지역이 물에 잠겼습니다. 물에 잠기지 않은 지역을 통해 학교를 가려고 합니다. 집에서 학교까지 가는 길은 m x n 크기의 격자모양으로 나타낼 수 있습니다.  \n",
    "  \n",
    "아래 그림은 m = 4, n = 3 인 경우입니다.  \n",
    "  \n",
    "![](https://grepp-programmers.s3.amazonaws.com/files/ybm/056f54e618/f167a3bc-e140-4fa8-a8f8-326a99e0f567.png)  \n",
    "  \n",
    "가장 왼쪽 위, 즉 집이 있는 곳의 좌표는 (1, 1)로 나타내고 가장 오른쪽 아래, 즉 학교가 있는 곳의 좌표는 (m, n)으로 나타냅니다.  \n",
    "  \n",
    "격자의 크기 m, n과 물이 잠긴 지역의 좌표를 담은 2차원 배열 puddles이 매개변수로 주어집니다. 오른쪽과 아래쪽으로만 움직여 집에서 학교까지 갈 수 있는 최단경로의 개수를 1,000,000,007로 나눈 나머지를 return 하도록 solution 함수를 작성해주세요.  \n",
    "  \n",
    "#### 제한 조건   \n",
    "- 격자의 크기 m, n은 1 이상 100 이하인 자연수입니다.\n",
    "    - m과 n이 모두 1인 경우는 입력으로 주어지지 않습니다.\n",
    "- 물에 잠긴 지역은 0개 이상 10개 이하입니다.\n",
    "- 집과 학교가 물에 잠긴 경우는 입력으로 주어지지 않습니다.  \n",
    "  \n",
    "#### 입출력 예  \n",
    "|m|\tn|\tpuddles|\treturn|\n",
    "|:---:|:---:|:---:|:---:|\n",
    "|4\t|3\t|[[2, 2]]\t|4|  \n",
    "  "
   ]
  },
  {
   "cell_type": "markdown",
   "metadata": {},
   "source": [
    "---"
   ]
  },
  {
   "cell_type": "markdown",
   "metadata": {},
   "source": [
    "### 문제 풀이"
   ]
  },
  {
   "cell_type": "code",
   "execution_count": 1,
   "metadata": {},
   "outputs": [],
   "source": [
    "def solution(m, n, puddles):\n",
    "    path = [[0 for _ in range(n)] for _ in range(m)] # 해당 좌표까지 갈 수 있는 최단 경로의 개수\n",
    "    path[0][0] = 1 # (0, 0) 좌표로 갈 수 있는 최단 경로는 1개이다.\n",
    "    for y in range(m):\n",
    "        for x in range(n): # 모든 좌표에 대해서\n",
    "            if [y+1, x+1] in puddles: # 물에 잠긴 위치는 제외하고\n",
    "                continue\n",
    "            if x > 0:\n",
    "                path[y][x] += path[y][x-1] \n",
    "            if y > 0:\n",
    "                path[y][x] += path[y-1][x]\n",
    "            # 현재 좌표로 올 수 있는 최단 경로 개수 = 현재 좌표의 위쪽에서 올 수 있는 최단 경로 + 현재 좌표의 왼쪽에서 올 수 있는 최단 경로\n",
    "            path[y][x] %= 1000000007 # 1000000007로 나눈 나머지값을 저장 \n",
    "    return path[m-1][n-1] # 학교로 갈 수 있는 최단 경로의 개수 반환"
   ]
  },
  {
   "cell_type": "code",
   "execution_count": 2,
   "metadata": {},
   "outputs": [
    {
     "data": {
      "text/plain": [
       "4"
      ]
     },
     "execution_count": 2,
     "metadata": {},
     "output_type": "execute_result"
    }
   ],
   "source": [
    "m = 4\n",
    "n = 3\n",
    "puddles = [[2, 2]]\n",
    "solution(m, n, puddles)"
   ]
  }
 ],
 "metadata": {
  "kernelspec": {
   "display_name": "Python 3",
   "language": "python",
   "name": "python3"
  },
  "language_info": {
   "codemirror_mode": {
    "name": "ipython",
    "version": 3
   },
   "file_extension": ".py",
   "mimetype": "text/x-python",
   "name": "python",
   "nbconvert_exporter": "python",
   "pygments_lexer": "ipython3",
   "version": "3.6.9"
  }
 },
 "nbformat": 4,
 "nbformat_minor": 2
}
