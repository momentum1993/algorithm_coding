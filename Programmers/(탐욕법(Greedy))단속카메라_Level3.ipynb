{
 "cells": [
  {
   "cell_type": "markdown",
   "metadata": {},
   "source": [
    "#### 문제 설명  \n",
    "고속도로를 이동하는 모든 차량이 고속도로를 이용하면서 단속용 카메라를 한 번은 만나도록 카메라를 설치하려고 합니다.  \n",
    "  \n",
    "고속도로를 이동하는 차량의 경로 routes가 매개변수로 주어질 때, 모든 차량이 한 번은 단속용 카메라를 만나도록 하려면 최소 몇 대의 카메라를 설치해야 하는지를 return 하도록 solution 함수를 완성하세요.  \n",
    "  \n",
    "#### 제한사항  \n",
    "차량의 대수는 1대 이상 10,000대 이하입니다.  \n",
    "routes에는 차량의 이동 경로가 포함되어 있으며 routes[i][0]에는 i번째 차량이 고속도로에 진입한 지점, routes[i][1]에는 i번째 차량이 고속도로에서 나간 지점이 적혀 있습니다.  \n",
    "차량의 진입/진출 지점에 카메라가 설치되어 있어도 카메라를 만난것으로 간주합니다.  \n",
    "차량의 진입 지점, 진출 지점은 -30,000 이상 30,000 이하입니다.  \n",
    "  \n",
    "#### 입출력 예  \n",
    "|routes|\treturn|\n",
    "|:---:|:---:|\n",
    "|[[-20,15], [-14,-5], [-18,-13], [-5,-3]]|\t2|  "
   ]
  },
  {
   "cell_type": "markdown",
   "metadata": {},
   "source": [
    "---"
   ]
  },
  {
   "cell_type": "markdown",
   "metadata": {},
   "source": [
    "### 문제 풀이"
   ]
  },
  {
   "cell_type": "code",
   "execution_count": 1,
   "metadata": {},
   "outputs": [],
   "source": [
    "def solution(routes):\n",
    "    routes = sorted(routes, key = lambda x: x[1]) # 차량의 진출 지점 기준으로 루트들을 정렬\n",
    "    answer = 0 # 답\n",
    "    cam_loc = -30001 # 카메라의 위치. -30001로 초기화\n",
    "    for i in range(len(routes)): # 모든 루트에 대해서\n",
    "        a, b = routes[i]\n",
    "        if cam_loc < a: # 진입 시점 이전에 카메라가 위치해 있을 때\n",
    "            answer += 1\n",
    "            cam_loc = b\n",
    "            # 차량 진출 위치에 카메라 1대 추가 \n",
    "        \n",
    "        # 현재 차량의 진출 지점에 카메라를 설치할 경우 \n",
    "        # 다음 차량의 진입지점이 현재 설치한 카메라 지점보다 이른 지점일 때 차량의 주행 지점이 중첩된다는 것을 의미한다      \n",
    "    return answer # 답 반환"
   ]
  },
  {
   "cell_type": "code",
   "execution_count": 2,
   "metadata": {},
   "outputs": [
    {
     "data": {
      "text/plain": [
       "2"
      ]
     },
     "execution_count": 2,
     "metadata": {},
     "output_type": "execute_result"
    }
   ],
   "source": [
    "routes = [[-20,15], [-14,-5], [-18,-13], [-5,-3]]\n",
    "solution(routes)"
   ]
  }
 ],
 "metadata": {
  "kernelspec": {
   "display_name": "Python 3",
   "language": "python",
   "name": "python3"
  },
  "language_info": {
   "codemirror_mode": {
    "name": "ipython",
    "version": 3
   },
   "file_extension": ".py",
   "mimetype": "text/x-python",
   "name": "python",
   "nbconvert_exporter": "python",
   "pygments_lexer": "ipython3",
   "version": "3.6.9"
  }
 },
 "nbformat": 4,
 "nbformat_minor": 2
}
