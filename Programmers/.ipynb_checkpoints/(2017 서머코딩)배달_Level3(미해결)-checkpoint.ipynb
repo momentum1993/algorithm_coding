{
 "cells": [
  {
   "cell_type": "markdown",
   "metadata": {},
   "source": [
    "#### 문제 설명   \n"
   ]
  },
  {
   "cell_type": "markdown",
   "metadata": {},
   "source": [
    "---"
   ]
  },
  {
   "cell_type": "markdown",
   "metadata": {},
   "source": [
    "###  나의 문제 풀이"
   ]
  },
  {
   "cell_type": "code",
   "execution_count": 1,
   "metadata": {
    "collapsed": true
   },
   "outputs": [],
   "source": [
    "def solution(n, stations, w):\n",
    "    answer = 0\n",
    "    has_not_elec = []\n",
    "    has_elec = set()\n",
    "    for i in stations:\n",
    "        for j in range(i-w, i+w+1):\n",
    "            if j > 0 and j <= n:\n",
    "                has_elec.add(j)\n",
    "    flag = False\n",
    "    temp_x = 0\n",
    "    temp_y = 0\n",
    "    for i in range(1, n+1):\n",
    "        if flag and i == n and (i not in has_elec):\n",
    "            temp_y = n\n",
    "            has_not_elec.append((temp_x, temp_y))\n",
    "            break\n",
    "        if not flag and (i not in has_elec):\n",
    "            temp_x = i\n",
    "            flag = True\n",
    "        elif flag and (i in has_elec):\n",
    "            temp_y = i-1\n",
    "            flag = False\n",
    "            has_not_elec.append((temp_x, temp_y))\n",
    "    for a, b in has_not_elec:\n",
    "        answer += ((b + 1 - a)//(2 * w + 1))\n",
    "        if ((b + 1 - a)%(2 * w + 1)) != 0:\n",
    "            answer += 1\n",
    "    return answer"
   ]
  },
  {
   "cell_type": "markdown",
   "metadata": {},
   "source": [
    "### 다른 사람의 문제 풀이"
   ]
  },
  {
   "cell_type": "code",
   "execution_count": null,
   "metadata": {
    "collapsed": true
   },
   "outputs": [],
   "source": []
  }
 ],
 "metadata": {
  "kernelspec": {
   "display_name": "Python 3",
   "language": "python",
   "name": "python3"
  },
  "language_info": {
   "codemirror_mode": {
    "name": "ipython",
    "version": 3
   },
   "file_extension": ".py",
   "mimetype": "text/x-python",
   "name": "python",
   "nbconvert_exporter": "python",
   "pygments_lexer": "ipython3",
   "version": "3.6.3"
  }
 },
 "nbformat": 4,
 "nbformat_minor": 2
}
