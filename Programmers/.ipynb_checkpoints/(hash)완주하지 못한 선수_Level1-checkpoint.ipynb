{
 "cells": [
  {
   "cell_type": "markdown",
   "metadata": {},
   "source": [
    "#### 문제 설명\n",
    "수많은 마라톤 선수들이 마라톤에 참여하였습니다. 단 한 명의 선수를 제외하고는 모든 선수가 마라톤을 완주하였습니다.  \n",
    "  \n",
    "마라톤에 참여한 선수들의 이름이 담긴 배열 participant와 완주한 선수들의 이름이 담긴 배열 completion이 주어질 때, 완주하지 못한 선수의 이름을 return 하도록 solution 함수를 작성해주세요.  \n",
    "  \n",
    "#### 제한사항  \n",
    "마라톤 경기에 참여한 선수의 수는 1명 이상 100,000명 이하입니다.  \n",
    "completion의 길이는 participant의 길이보다 1 작습니다.  \n",
    "참가자의 이름은 1개 이상 20개 이하의 알파벳 소문자로 이루어져 있습니다.  \n",
    "참가자 중에는 동명이인이 있을 수 있습니다.  \n",
    "  \n",
    "#### 입출력 예  \n",
    "participant\tcompletion\treturn  \n",
    "[leo, kiki, eden]\t[eden, kiki]\tleo    \n",
    "[marina, josipa, nikola, vinko, filipa]\t[josipa, filipa, marina, nikola]\tvinko    \n",
    "[mislav, stanko, mislav, ana]\t[stanko, ana, mislav]\tmislav    \n",
    "  \n",
    "#### 입출력 예 설명  \n",
    "예제 1  \n",
    "leo는 참여자 명단에는 있지만, 완주자 명단에는 없기 때문에 완주하지 못했습니다.  \n",
    "\n",
    "예제 2  \n",
    "vinko는 참여자 명단에는 있지만, 완주자 명단에는 없기 때문에 완주하지 못했습니다.  \n",
    "  \n",
    "예제 3  \n",
    "mislav는 참여자 명단에는 두 명이 있지만, 완주자 명단에는 한 명밖에 없기 때문에 한명은 완주하지 못했습니다.  "
   ]
  },
  {
   "cell_type": "markdown",
   "metadata": {},
   "source": [
    "---"
   ]
  },
  {
   "cell_type": "markdown",
   "metadata": {},
   "source": [
    "### 나의 문제 풀이"
   ]
  },
  {
   "cell_type": "markdown",
   "metadata": {},
   "source": [
    "첫번째답"
   ]
  },
  {
   "cell_type": "code",
   "execution_count": 2,
   "metadata": {
    "collapsed": true
   },
   "outputs": [],
   "source": [
    "def solution(participant, completion):\n",
    "    for i in completion:\n",
    "        if i in participant:\n",
    "            participant.remove(i)\n",
    "    return participant[0]"
   ]
  },
  {
   "cell_type": "markdown",
   "metadata": {},
   "source": [
    "두번째답"
   ]
  },
  {
   "cell_type": "code",
   "execution_count": 3,
   "metadata": {
    "collapsed": true
   },
   "outputs": [],
   "source": [
    "def solution(participant, completion):\n",
    "    answer = ''\n",
    "    participant.sort()\n",
    "    completion.sort()\n",
    "    for i in range(len(completion)):\n",
    "        if completion[i] != participant[i]:\n",
    "            answer = participant[i]\n",
    "            break\n",
    "    if answer == '':    \n",
    "        answer = participant[-1]\n",
    "    return answer"
   ]
  },
  {
   "cell_type": "markdown",
   "metadata": {},
   "source": [
    "첫번째 답의 경우 O(n^2) 이므로 효율성 면에서 좋지 않음  \n",
    "두번째 답의 경우 O(n) 이므로 더 효율성이 좋다.  "
   ]
  },
  {
   "cell_type": "markdown",
   "metadata": {},
   "source": [
    "### 다른 사람의 풀이"
   ]
  },
  {
   "cell_type": "code",
   "execution_count": 13,
   "metadata": {
    "collapsed": true
   },
   "outputs": [],
   "source": [
    "import collections\n",
    "\n",
    "\n",
    "def solution(participant, completion):\n",
    "#     print(collections.Counter(participant))\n",
    "#     print(collections.Counter(completion))\n",
    "    answer = collections.Counter(participant) - collections.Counter(completion)\n",
    "#     print(answer)\n",
    "    return list(answer.keys())[0]"
   ]
  },
  {
   "cell_type": "code",
   "execution_count": 15,
   "metadata": {},
   "outputs": [
    {
     "name": "stdout",
     "output_type": "stream",
     "text": [
      "Counter({'mislav': 2, 'stanko': 1, 'ana': 1})\n",
      "Counter({'stanko': 1, 'ana': 1, 'mislav': 1})\n",
      "Counter({'mislav': 1})\n"
     ]
    },
    {
     "data": {
      "text/plain": [
       "'mislav'"
      ]
     },
     "execution_count": 15,
     "metadata": {},
     "output_type": "execute_result"
    }
   ],
   "source": [
    "participant = [\"mislav\", \"stanko\", \"mislav\", \"ana\"] \n",
    "completion = [\"stanko\", \"ana\", \"mislav\"]\n",
    "solution(participant, completion)"
   ]
  },
  {
   "cell_type": "markdown",
   "metadata": {},
   "source": [
    "collection.Counter는 해시 될 수 있는 객체들을 dict형식으로 카운팅해준다  \n",
    "그래서 위의 문제의 경우 나온 각 리스트의 나온 횟수를 빼서 차이를 인식해준다."
   ]
  },
  {
   "cell_type": "code",
   "execution_count": 5,
   "metadata": {
    "collapsed": true
   },
   "outputs": [],
   "source": [
    "def solution(participant, completion):\n",
    "    participant.sort()\n",
    "    completion.sort()\n",
    "    for i in range(len(completion)):\n",
    "        if participant[i] != completion[i]:\n",
    "            return participant[i]\n",
    "    return participant[len(participant)-1]\n"
   ]
  },
  {
   "cell_type": "markdown",
   "metadata": {},
   "source": [
    "나의 풀이와 비슷한 풀이로 먼저 정렬한 다음에\n",
    "먼저 다른 value값이 나올 때 그것을 차이로 인식한다."
   ]
  },
  {
   "cell_type": "code",
   "execution_count": 6,
   "metadata": {
    "collapsed": true
   },
   "outputs": [],
   "source": [
    "def solution(participant, completion):\n",
    "    participant.sort()\n",
    "    completion.sort()\n",
    "    for p, c in zip(participant, completion):\n",
    "        if p != c:\n",
    "            return p\n",
    "    return participant[-1]"
   ]
  },
  {
   "cell_type": "markdown",
   "metadata": {},
   "source": [
    "zip(\\*iterable)은 동일한 개수로 이루어진 자료형을 묶어 주는 역할을 하는 함수이다.  \n",
    "그리고 튜플의 리스트로 출력해준다.  \n",
    "그래서 해당 zip으로 묶어준 튜플의 element가 다를경우 출력해주는 것이다."
   ]
  },
  {
   "cell_type": "code",
   "execution_count": 19,
   "metadata": {
    "collapsed": true
   },
   "outputs": [],
   "source": [
    "def solution(participant, completion):\n",
    "    answer = ''\n",
    "    temp = 0\n",
    "    dic = {}\n",
    "    for part in participant:\n",
    "        dic[hash(part)] = part\n",
    "        temp += int(hash(part))\n",
    "    for com in completion:\n",
    "        temp -= hash(com)\n",
    "    answer = dic[temp]\n",
    "\n",
    "    return answer"
   ]
  },
  {
   "cell_type": "markdown",
   "metadata": {},
   "source": [
    "hash()  \n",
    "Return the hash value for the given object.  \n",
    "\n",
    "Two objects that compare equal must also have the same hash value, but the\n",
    "reverse is not necessarily true.  \n"
   ]
  },
  {
   "cell_type": "markdown",
   "metadata": {},
   "source": [
    "각각의 element에 대한 해시값을 key, 그리고 단어를 value로 dictionary에 저장해준다.    \n",
    "그 다음 participant에서 해시한 값들의 수를 다 더하고  \n",
    "completion에서 해시한 값들의 수를 다 빼고 남은 수에 대해서  \n",
    "dictionary값을 구해서 답을 알아낸다."
   ]
  }
 ],
 "metadata": {
  "kernelspec": {
   "display_name": "Python 3",
   "language": "python",
   "name": "python3"
  },
  "language_info": {
   "codemirror_mode": {
    "name": "ipython",
    "version": 3
   },
   "file_extension": ".py",
   "mimetype": "text/x-python",
   "name": "python",
   "nbconvert_exporter": "python",
   "pygments_lexer": "ipython3",
   "version": "3.6.3"
  }
 },
 "nbformat": 4,
 "nbformat_minor": 2
}
