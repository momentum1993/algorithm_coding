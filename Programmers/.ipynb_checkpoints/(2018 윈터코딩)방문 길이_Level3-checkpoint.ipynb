{
 "cells": [
  {
   "cell_type": "markdown",
   "metadata": {},
   "source": [
    "#### 문제 설명   \n",
    "게임 캐릭터를 4가지 명령어를 통해 움직이려 합니다. 명령어는 다음과 같습니다.  \n",
    "  \n",
    "U: 위쪽으로 한 칸 가기  \n",
    "  \n",
    "D: 아래쪽으로 한 칸 가기  \n",
    "  \n",
    "R: 오른쪽으로 한 칸 가기  \n",
    "  \n",
    "L: 왼쪽으로 한 칸 가기  \n",
    "  \n",
    "캐릭터는 좌표평면의 (0, 0) 위치에서 시작합니다. 좌표평면의 경계는 왼쪽 위(-5, 5), 왼쪽 아래(-5, -5), 오른쪽 위(5, 5), 오른쪽 아래(5, -5)로 이루어져 있습니다.  \n",
    "  \n",
    "\n",
    "예를 들어, ULURRDLLU로 명령했다면\n",
    "\n",
    "\n",
    "이때, 우리는 게임 캐릭터가 지나간 길 중 캐릭터가 처음 걸어본 길의 길이를 구하려고 합니다. 예를 들어 위의 예시에서 게임 캐릭터가 움직인 길이는 9이지만, 캐릭터가 처음 걸어본 길의 길이는 7이 됩니다. (8, 9번 명령어에서 움직인 길은 2, 3번 명령어에서 이미 거쳐 간 길입니다)\n",
    "\n",
    "단, 좌표평면의 경계를 넘어가는 명령어는 무시합니다.\n",
    "\n",
    "예를 들어, LULLLLLLU로 명령했다면\n",
    "\n",
    "1번 명령어부터 6번 명령어대로 움직인 후, 7, 8번 명령어는 무시합니다. 다시 9번 명령어대로 움직입니다.\n",
    "\n",
    "이때 캐릭터가 처음 걸어본 길의 길이는 7이 됩니다.\n",
    "\n",
    "명령어가 매개변수 dirs로 주어질 때, 게임 캐릭터가 처음 걸어본 길의 길이를 구하여 return 하는 solution 함수를 완성해 주세요.\n",
    "\n",
    "#### 제한사항\n",
    "dirs는 string형으로 주어지며, 'U', 'D', 'R', 'L' 이외에 문자는 주어지지 않습니다.\n",
    "dirs의 길이는 500 이하의 자연수입니다.\n",
    "#### 입출력 예  \n",
    "dirs\tanswer  \n",
    "ULURRDLLU\t7  \n",
    "LULLLLLLU\t7  \n",
    "\n",
    "#### 입출력 예 설명\n",
    "입출력 예 1  \n",
    "문제의 예시와 같습니다.  \n",
    "  \n",
    "입출력 예 2  \n",
    "문제의 예시와 같습니다.  "
   ]
  },
  {
   "cell_type": "markdown",
   "metadata": {},
   "source": [
    "---"
   ]
  },
  {
   "cell_type": "markdown",
   "metadata": {},
   "source": [
    "###  나의 문제 풀이"
   ]
  },
  {
   "cell_type": "code",
   "execution_count": 1,
   "metadata": {
    "collapsed": true
   },
   "outputs": [],
   "source": [
    "def solution(dirs):\n",
    "    answer = 0\n",
    "    x = 0\n",
    "    y = 0\n",
    "    dic = {}\n",
    "    for i in range(-5, 6):\n",
    "        for j in range(-5, 6):\n",
    "            dic[(i,j)] = []\n",
    "    for i in dirs:\n",
    "        if i == 'U' and y < 5:\n",
    "            if 'U' not in dic[(x,y)]:\n",
    "                dic[(x,y)].append('U')\n",
    "                dic[(x, y+1)].append('D')\n",
    "                answer += 1\n",
    "            y += 1\n",
    "        elif i =='D' and y > -5:\n",
    "            if 'D' not in dic[(x,y)]:\n",
    "                dic[(x,y)].append('D')\n",
    "                dic[(x, y-1)].append('U')\n",
    "                answer += 1\n",
    "            y -= 1\n",
    "        elif i == 'R' and x < 5:\n",
    "            if 'R' not in dic[(x,y)]:\n",
    "                dic[(x,y)].append('R')\n",
    "                dic[(x+1, y)].append('L')\n",
    "                answer += 1\n",
    "            x += 1\n",
    "        elif i == 'L' and x > -5:\n",
    "            if 'L' not in dic[(x,y)]:\n",
    "                dic[(x,y)].append('L')\n",
    "                dic[(x-1, y)].append('R')\n",
    "                answer += 1\n",
    "            x -= 1\n",
    "    return answer"
   ]
  },
  {
   "cell_type": "markdown",
   "metadata": {},
   "source": [
    "### 다른 사람의 문제 풀이"
   ]
  },
  {
   "cell_type": "code",
   "execution_count": 17,
   "metadata": {
    "collapsed": true
   },
   "outputs": [],
   "source": []
  }
 ],
 "metadata": {
  "kernelspec": {
   "display_name": "Python 3",
   "language": "python",
   "name": "python3"
  },
  "language_info": {
   "codemirror_mode": {
    "name": "ipython",
    "version": 3
   },
   "file_extension": ".py",
   "mimetype": "text/x-python",
   "name": "python",
   "nbconvert_exporter": "python",
   "pygments_lexer": "ipython3",
   "version": "3.6.3"
  }
 },
 "nbformat": 4,
 "nbformat_minor": 2
}
