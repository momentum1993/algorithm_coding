{
 "cells": [
  {
   "cell_type": "markdown",
   "metadata": {},
   "source": [
    "#### 문제 설명   \n",
    "xx 회사의 2xN명의 사원들은 N명씩 두 팀으로 나눠 숫자 게임을 하려고 합니다. 두 개의 팀을 각각 A팀과 B팀이라고 하겠습니다. 숫자 게임의 규칙은 다음과 같습니다.  \n",
    "  \n",
    "먼저 모든 사원이 무작위로 자연수를 하나씩 부여받습니다.  \n",
    "각 사원은 딱 한 번씩 경기를 합니다.  \n",
    "각 경기당 A팀에서 한 사원이, B팀에서 한 사원이 나와 서로의 수를 공개합니다. 그때 숫자가 큰 쪽이 승리하게 되고, 승리한 사원이 속한 팀은 승점을 1점 얻게 됩니다.  \n",
    "만약 숫자가 같다면 누구도 승점을 얻지 않습니다.  \n",
    "전체 사원들은 우선 무작위로 자연수를 하나씩 부여받았습니다. 그다음 A팀은 빠르게 출전순서를 정했고 자신들의 출전 순서를 B팀에게 공개해버렸습니다. B팀은 그것을 보고 자신들의 최종 승점을 가장 높이는 방법으로 팀원들의 출전 순서를 정했습니다. 이때의 B팀이 얻는 승점을 구해주세요.  \n",
    "A 팀원들이 부여받은 수가 출전 순서대로 나열되어있는 배열 A와 i번째 원소가 B팀의 i번 팀원이 부여받은 수를 의미하는 배열 B가 주어질 때, B 팀원들이 얻을 수 있는 최대 승점을 return 하도록 solution 함수를 완성해주세요.  \n",
    "  \n",
    "#### 제한사항  \n",
    "A와 B의 길이는 같습니다.   \n",
    "A와 B의 길이는 1 이상 100,000 이하입니다.  \n",
    "A와 B의 각 원소는 1 이상 1,000,000,000 이하의 자연수입니다.  \n",
    "#### 입출력 예  \n",
    "A\tB\tresult   \n",
    "[5,1,3,7]\t[2,2,6,8]\t3  \n",
    "[2,2,2,2]\t[1,1,1,1]\t0  \n",
    "#### 입출력 예 설명  \n",
    "입출력 예 1\n",
    "image  \n",
    "A 팀은 숫자 5를 부여받은 팀원이 첫번째로 출전하고, 이어서 1,3,7을 부여받은 팀원들이 차례대로 출전합니다.  \n",
    "B 팀원들을 4번, 2번, 3번, 1번의 순서대로 출전시킬 경우 팀원들이 부여받은 숫자들은 차례대로 8,2,6,2가 됩니다. 그러면, 첫 번째, 두 번째, 세 번째 경기에서 승리하여 3점을 얻게 되고, 이때가 최대의 승점입니다.  \n",
    "  \n",
    "입출력 예 2  \n",
    "B 팀원들을 어떤 순서로 출전시켜도 B팀의 승점은 0점입니다.  "
   ]
  },
  {
   "cell_type": "markdown",
   "metadata": {},
   "source": [
    "---"
   ]
  },
  {
   "cell_type": "markdown",
   "metadata": {},
   "source": [
    "###  나의 문제 풀이"
   ]
  },
  {
   "cell_type": "code",
   "execution_count": 1,
   "metadata": {
    "collapsed": true
   },
   "outputs": [],
   "source": [
    "def solution(A, B):\n",
    "    answer = 0\n",
    "    i, j = 0, 0\n",
    "    A.sort(reverse=True)\n",
    "    B.sort(reverse=True)\n",
    "    while(i<len(A) and j<len(B)):\n",
    "        if A[i] < B[j]:\n",
    "            answer += 1\n",
    "            i += 1\n",
    "            j += 1\n",
    "        elif A[-1] < B[j]:\n",
    "            i += 1\n",
    "        else:\n",
    "            break\n",
    "    return answer        "
   ]
  },
  {
   "cell_type": "markdown",
   "metadata": {},
   "source": [
    "일단 2가지 번호 리스트를 역순으로(내림차순)으로 정렬해줍니다.  \n",
    "만약 B가 클경우 A와 B의 인덱스를 추가해주고,  \n",
    "그 이외에 A에 대해 B가 같거나 작을 경우에는 A의 가장 작은 값보다 현재 B상의 값이 클 경우에 다음 A의 값과 비교할 수 있도록 A의 인덱스를 늘려줍니다.  \n",
    "만약 A의 가장 작은 값보다 B의 현재값이 작거나 같을 경우는 while문을 종료합니다.  "
   ]
  },
  {
   "cell_type": "markdown",
   "metadata": {},
   "source": [
    "### 다른 사람의 문제 풀이"
   ]
  },
  {
   "cell_type": "code",
   "execution_count": null,
   "metadata": {
    "collapsed": true
   },
   "outputs": [],
   "source": [
    "def solution(A, B):\n",
    "    answer = 0\n",
    "    sortA = sorted(A)\n",
    "    sortB = sorted(B)\n",
    "    for i in sortA:\n",
    "        for j in sortB:\n",
    "            if i<j:\n",
    "                answer+=1\n",
    "                sortB.remove(j)\n",
    "                break\n",
    "\n",
    "\n",
    "    return answer"
   ]
  },
  {
   "cell_type": "code",
   "execution_count": 17,
   "metadata": {
    "collapsed": true
   },
   "outputs": [],
   "source": []
  }
 ],
 "metadata": {
  "kernelspec": {
   "display_name": "Python 3",
   "language": "python",
   "name": "python3"
  },
  "language_info": {
   "codemirror_mode": {
    "name": "ipython",
    "version": 3
   },
   "file_extension": ".py",
   "mimetype": "text/x-python",
   "name": "python",
   "nbconvert_exporter": "python",
   "pygments_lexer": "ipython3",
   "version": "3.6.3"
  }
 },
 "nbformat": 4,
 "nbformat_minor": 2
}
