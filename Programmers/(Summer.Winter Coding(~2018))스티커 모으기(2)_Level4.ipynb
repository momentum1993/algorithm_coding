{
 "cells": [
  {
   "cell_type": "markdown",
   "metadata": {},
   "source": [
    "#### 문제 설명  \n",
    "N개의 스티커가 원형으로 연결되어 있습니다. 다음 그림은 N = 8인 경우의 예시입니다.  \n",
    "  \n",
    "![](https://res.cloudinary.com/eightcruz/image/upload/v1478590135/%E1%84%89%E1%85%B3%E1%84%90%E1%85%B5%E1%84%8F%E1%85%A5_hb1jty.jpg)  \n",
    "  \n",
    "원형으로 연결된 스티커에서 몇 장의 스티커를 뜯어내어 뜯어낸 스티커에 적힌 숫자의 합이 최대가 되도록 하고 싶습니다. 단 스티커 한 장을 뜯어내면 양쪽으로 인접해있는 스티커는 찢어져서 사용할 수 없게 됩니다.  \n",
    "  \n",
    "예를 들어 위 그림에서 14가 적힌 스티커를 뜯으면 인접해있는 10, 6이 적힌 스티커는 사용할 수 없습니다. 스티커에 적힌 숫자가 배열 형태로 주어질 때, 스티커를 뜯어내어 얻을 수 있는 숫자의 합의 최댓값을 return 하는 solution 함수를 완성해 주세요. 원형의 스티커 모양을 위해 배열의 첫 번째 원소와 마지막 원소가 서로 연결되어 있다고 간주합니다.  \n",
    "   \n",
    "#### 제한 조건  \n",
    "- sticker는 원형으로 연결된 스티커의 각 칸에 적힌 숫자가 순서대로 들어있는 배열로, 길이(N)는 1 이상 100,000 이하입니다.\n",
    "- sticker의 각 원소는 스티커의 각 칸에 적힌 숫자이며, 각 칸에 적힌 숫자는 1 이상 100 이하의 자연수입니다.\n",
    "- 원형의 스티커 모양을 위해 sticker 배열의 첫 번째 원소와 마지막 원소가 서로 연결되어있다고 간주합니다.  \n",
    "  \n",
    "#### 입출력 예  \n",
    "|sticker|\tanswer|\n",
    "|:---:|:---:|\n",
    "|[14, 6, 5, 11, 3, 9, 2, 10]|\t36|\n",
    "|[1, 3, 2, 5, 4]  |8|"
   ]
  },
  {
   "cell_type": "markdown",
   "metadata": {},
   "source": [
    "---"
   ]
  },
  {
   "cell_type": "markdown",
   "metadata": {},
   "source": [
    "### 문제 풀이"
   ]
  },
  {
   "cell_type": "code",
   "execution_count": 1,
   "metadata": {},
   "outputs": [],
   "source": [
    "def solution(sticker):\n",
    "    if len(sticker) <= 3: # 스티커 갯수가 3 이하라면\n",
    "        return max(sticker) # 1가지만 고를 수 있으므로 스티커의 최댓값 바로 반환\n",
    "    \n",
    "    # 0번 스티커를 뜯어냈을 때\n",
    "    sticker_val = [0 for _ in range(len(sticker))] # 0 ~idx번째까지 스티커 값의 합 최댓값\n",
    "    sticker_val[0] = sticker[0] # 0번째까지 스티커 값의 합 최댓값은 0번째 스티커값이다.\n",
    "    sticker_val[1] = sticker[0] # 1번째까지 스티커 값의 합 최댓값은 0번째 스티커값이다.\n",
    "    for i in range(2, len(sticker)-1): # 마지막 스티커를 제외한 스티커에 대해서 (0번째 스티커를 뜯어냈기 때문에 마지막 스티커 사용 불가)\n",
    "        sticker_val[i] = max(sticker_val[i-1], sticker_val[i-2]+sticker[i])\n",
    "        # i번째까지 스티커 값의 합 최댓값은 (i-1번째까지 스티커 값의 합 최댓값, i-2번째까지 스티커 값의 합 최댓값 + i번째 스티커 값) 의 최댓값이다. \n",
    "    answer = max(sticker_val)\n",
    "    \n",
    "    # 0번 스티커를 뜯어내지 않았을 때\n",
    "    sticker_val = [0 for _ in range(len(sticker))]\n",
    "    sticker_val[1] = sticker[1] # 1번째까지 스티커 값의 합 최댓값은 1번째 스티커값이다.\n",
    "    for i in range(2, len(sticker)): # 마지막 스티커까지에 대한 스티커에 대해서\n",
    "        sticker_val[i] = max(sticker_val[i-1], sticker_val[i-2]+sticker[i])\n",
    "        # i번째까지 스티커 값의 합 최댓값은 (i-1번째까지 스티커 값의 합 최댓값, i-2번째까지 스티커 값의 합 최댓값 + i번째 스티커 값) 의 최댓값이다. \n",
    "    answer = max(answer, max(sticker_val))\n",
    "    # 여태껏 구한 값들 중 최댓값이 답이 된다\n",
    "    return answer # 답 반환"
   ]
  },
  {
   "cell_type": "code",
   "execution_count": 2,
   "metadata": {},
   "outputs": [
    {
     "data": {
      "text/plain": [
       "36"
      ]
     },
     "execution_count": 2,
     "metadata": {},
     "output_type": "execute_result"
    }
   ],
   "source": [
    "sticker = [14, 6, 5, 11, 3, 9, 2, 10]\n",
    "solution(sticker)"
   ]
  },
  {
   "cell_type": "code",
   "execution_count": 3,
   "metadata": {},
   "outputs": [
    {
     "data": {
      "text/plain": [
       "8"
      ]
     },
     "execution_count": 3,
     "metadata": {},
     "output_type": "execute_result"
    }
   ],
   "source": [
    "sticker = [1, 3, 2, 5, 4]\n",
    "solution(sticker)"
   ]
  }
 ],
 "metadata": {
  "kernelspec": {
   "display_name": "Python 3",
   "language": "python",
   "name": "python3"
  },
  "language_info": {
   "codemirror_mode": {
    "name": "ipython",
    "version": 3
   },
   "file_extension": ".py",
   "mimetype": "text/x-python",
   "name": "python",
   "nbconvert_exporter": "python",
   "pygments_lexer": "ipython3",
   "version": "3.6.9"
  }
 },
 "nbformat": 4,
 "nbformat_minor": 2
}
