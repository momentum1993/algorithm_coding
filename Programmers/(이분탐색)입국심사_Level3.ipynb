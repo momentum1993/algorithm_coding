{
 "cells": [
  {
   "cell_type": "markdown",
   "metadata": {},
   "source": [
    "#### 문제 설명  \n",
    "n명이 입국심사를 위해 줄을 서서 기다리고 있습니다. 각 입국심사대에 있는 심사관마다 심사하는데 걸리는 시간은 다릅니다.  \n",
    "  \n",
    "처음에 모든 심사대는 비어있습니다. 한 심사대에서는 동시에 한 명만 심사를 할 수 있습니다. 가장 앞에 서 있는 사람은 비어 있는 심사대로 가서 심사를 받을 수 있습니다. 하지만 더 빨리 끝나는 심사대가 있으면 기다렸다가 그곳으로 가서 심사를 받을 수도 있습니다.  \n",
    "  \n",
    "모든 사람이 심사를 받는데 걸리는 시간을 최소로 하고 싶습니다.  \n",
    "  \n",
    "입국심사를 기다리는 사람 수 n, 각 심사관이 한 명을 심사하는데 걸리는 시간이 담긴 배열 times가 매개변수로 주어질 때, 모든 사람이 심사를 받는데 걸리는 시간의 최솟값을 return 하도록 solution 함수를 작성해주세요.  \n",
    "   \n",
    "#### 제한 조건  \n",
    "- 입국심사를 기다리는 사람은 1명 이상 1,000,000,000명 이하입니다.\n",
    "- 각 심사관이 한 명을 심사하는데 걸리는 시간은 1분 이상 1,000,000,000분 이하입니다.\n",
    "- 심사관은 1명 이상 100,000명 이하입니다.  \n",
    "  \n",
    "#### 입출력 예  \n",
    "|n|\ttimes|\treturn|\n",
    "|:---:|:---:|:---:|\n",
    "|6|\t[7, 10]|\t28 |  \n",
    "  "
   ]
  },
  {
   "cell_type": "markdown",
   "metadata": {},
   "source": [
    "---"
   ]
  },
  {
   "cell_type": "markdown",
   "metadata": {},
   "source": [
    "### 문제 풀이"
   ]
  },
  {
   "cell_type": "code",
   "execution_count": 1,
   "metadata": {},
   "outputs": [],
   "source": [
    "def solution(n, times):\n",
    "    times = sorted(times) # 시간 오름차순으로 심사관 정렬\n",
    "    max_t = n * times[-1] # 최대 소요시간\n",
    "    min_t = 1 # 최소 소요시간\n",
    "    while min_t < max_t: # 최소 소요시간 < 최대 소요시간일 동안\n",
    "        mid_t = (max_t+min_t) // 2 # 중간 소요시간\n",
    "        num = 0 # 소요시간동안 입국심사를 끝낼 수 있는 인원수\n",
    "        for i in times: # 모든 심사관에 대해서\n",
    "            num += mid_t // i # mid_t시간동안 입국심사 끝낼 수 있는 인원 수를 합한다\n",
    "            if num >= n: # 만약 n명 초과일 경우 중단\n",
    "                break\n",
    "        if num >= n: # mid_t시간동안 입국심사 끝낼 수 있는 인원 >= n 일 때\n",
    "            max_t = mid_t # 최대 소요시간을 mid_t로 갱신\n",
    "        else: # mid_t시간동안 입국심사 끝낼 수 있는 인원 < n 일 때\n",
    "            min_t = mid_t+1 # 최소 소요시간을 mid_t+1로 갱신\n",
    "    return max_t # 소요시간 반환"
   ]
  },
  {
   "cell_type": "code",
   "execution_count": 2,
   "metadata": {},
   "outputs": [
    {
     "data": {
      "text/plain": [
       "28"
      ]
     },
     "execution_count": 2,
     "metadata": {},
     "output_type": "execute_result"
    }
   ],
   "source": [
    "n = 6\n",
    "times = [7, 10]\n",
    "solution(n, times)"
   ]
  }
 ],
 "metadata": {
  "kernelspec": {
   "display_name": "Python 3",
   "language": "python",
   "name": "python3"
  },
  "language_info": {
   "codemirror_mode": {
    "name": "ipython",
    "version": 3
   },
   "file_extension": ".py",
   "mimetype": "text/x-python",
   "name": "python",
   "nbconvert_exporter": "python",
   "pygments_lexer": "ipython3",
   "version": "3.6.9"
  }
 },
 "nbformat": 4,
 "nbformat_minor": 2
}
