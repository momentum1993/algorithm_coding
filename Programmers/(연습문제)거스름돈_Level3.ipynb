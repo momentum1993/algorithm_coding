{
 "cells": [
  {
   "cell_type": "markdown",
   "metadata": {},
   "source": [
    "#### 문제 설명  \n",
    "Finn은 편의점에서 야간 아르바이트를 하고 있습니다. 야간에 손님이 너무 없어 심심한 Finn은 손님들께 거스름돈을 n 원을 줄 때 방법의 경우의 수를 구하기로 하였습니다.  \n",
    "  \n",
    "예를 들어서 손님께 5원을 거슬러 줘야 하고 1원, 2원, 5원이 있다면 다음과 같이 4가지 방법으로 5원을 거슬러 줄 수 있습니다.  \n",
    "  \n",
    "- 1원을 5개 사용해서 거슬러 준다.\n",
    "- 1원을 3개 사용하고, 2원을 1개 사용해서 거슬러 준다.\n",
    "- 1원을 1개 사용하고, 2원을 2개 사용해서 거슬러 준다.\n",
    "- 5원을 1개 사용해서 거슬러 준다.  \n",
    "  \n",
    "거슬러 줘야 하는 금액 n과 Finn이 현재 보유하고 있는 돈의 종류 money가 매개변수로 주어질 때, Finn이 n 원을 거슬러 줄 방법의 수를 return 하도록 solution 함수를 완성해 주세요.  \n",
    "  \n",
    "#### 제한 조건  \n",
    "- n은 100,000 이하의 자연수입니다.\n",
    "- 화폐 단위는 100종류 이하입니다.\n",
    "- 모든 화폐는 무한하게 있다고 가정합니다.\n",
    "- 정답이 커질 수 있으니, 1,000,000,007로 나눈 나머지를 return 해주세요.  \n",
    "  \n",
    "#### 입출력 예  \n",
    "|n|\tmoney|\tresult|\n",
    "|:---:|:---:|:---:|\n",
    "|5|\t[1,2,5]|\t4  |\n",
    "  "
   ]
  },
  {
   "cell_type": "markdown",
   "metadata": {},
   "source": [
    "---"
   ]
  },
  {
   "cell_type": "markdown",
   "metadata": {},
   "source": [
    "### 문제 풀이"
   ]
  },
  {
   "cell_type": "code",
   "execution_count": 1,
   "metadata": {},
   "outputs": [],
   "source": [
    "def solution(n, money):\n",
    "    cases = [0 for _ in range(n+1)] # 돈을 거슬러 줄 수 있는 방법의 수\n",
    "    cases[0] = 1 # 0원을 거슬러 줄 수 있는 방법의 수는 1가지\n",
    "    for i in range(n+1): # n원까지의 돈에 대해서\n",
    "        if i % money[0] == 0: # 가장 작은 단위의 돈으로 거슬러 줄 수 있는 돈에 대해서 \n",
    "            cases[i] = 1 # 돈을 거슬러 줄 수 있는 방법 1가지를 늘린다.\n",
    "    for i in range(1, len(money)): # 가장 작은 단위를 제외한 모든 화폐의 단위에 대해서\n",
    "        for j in range(money[i], n+1): #  n원의 돈까지\n",
    "            cases[j] += cases[j-money[i]] # 현재 탐색중인 j원에서 현재 탐색중인 화폐 단위 money[i]만큼 뺀 금액의 경우의 수를 더해준다.\n",
    "            cases[j] %= 1000000007 # 1000000007로 나눈 나머지 저장 \n",
    "    return cases[n] # n원일 때의 경우의 수 반환"
   ]
  },
  {
   "cell_type": "code",
   "execution_count": 2,
   "metadata": {},
   "outputs": [
    {
     "data": {
      "text/plain": [
       "4"
      ]
     },
     "execution_count": 2,
     "metadata": {},
     "output_type": "execute_result"
    }
   ],
   "source": [
    "n = 5\n",
    "money = [1,2,5]\n",
    "solution(n, money)"
   ]
  }
 ],
 "metadata": {
  "kernelspec": {
   "display_name": "Python 3",
   "language": "python",
   "name": "python3"
  },
  "language_info": {
   "codemirror_mode": {
    "name": "ipython",
    "version": 3
   },
   "file_extension": ".py",
   "mimetype": "text/x-python",
   "name": "python",
   "nbconvert_exporter": "python",
   "pygments_lexer": "ipython3",
   "version": "3.6.9"
  }
 },
 "nbformat": 4,
 "nbformat_minor": 2
}
