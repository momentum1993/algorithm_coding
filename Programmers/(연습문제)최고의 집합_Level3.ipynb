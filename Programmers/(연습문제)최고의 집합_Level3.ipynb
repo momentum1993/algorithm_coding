{
 "cells": [
  {
   "cell_type": "markdown",
   "metadata": {},
   "source": [
    "#### 문제 설명  \n",
    "자연수 n 개로 이루어진 중복 집합(multi set, 편의상 이후에는 집합으로 통칭) 중에 다음 두 조건을 만족하는 집합을 최고의 집합이라고 합니다.  \n",
    "  \n",
    "1. 각 원소의 합이 S가 되는 수의 집합  \n",
    "2. 위 조건을 만족하면서 각 원소의 곱 이 최대가 되는 집합  \n",
    "예를 들어서 자연수 2개로 이루어진 집합 중 합이 9가 되는 집합은 다음과 같이 4개가 있습니다.  \n",
    "{ 1, 8 }, { 2, 7 }, { 3, 6 }, { 4, 5 }  \n",
    "그중 각 원소의 곱이 최대인 { 4, 5 }가 최고의 집합입니다.  \n",
    "  \n",
    "집합의 원소의 개수 n과 모든 원소들의 합 s가 매개변수로 주어질 때, 최고의 집합을 return 하는 solution 함수를 완성해주세요.  \n",
    "   \n",
    "#### 제한 조건  \n",
    "- 최고의 집합은 오름차순으로 정렬된 1차원 배열(list, vector) 로 return 해주세요.  \n",
    "- 만약 최고의 집합이 존재하지 않는 경우에 크기가 1인 1차원 배열(list, vector) 에 -1 을 채워서 return 해주세요.  \n",
    "- 자연수의 개수 n은 1 이상 10,000 이하의 자연수입니다.  \n",
    "- 모든 원소들의 합 s는 1 이상, 100,000,000 이하의 자연수입니다.  \n",
    "  \n",
    "#### 입출력 예  \n",
    "|n|\ts|\tresult|\n",
    "|:---:|:---:|:---:|\n",
    "|2|\t9|\t[4, 5]|\n",
    "|2|\t1|\t[-1]|\n",
    "|2|\t8|\t[4, 4]|  "
   ]
  },
  {
   "cell_type": "markdown",
   "metadata": {},
   "source": [
    "---"
   ]
  },
  {
   "cell_type": "markdown",
   "metadata": {},
   "source": [
    "### 문제 풀이"
   ]
  },
  {
   "cell_type": "code",
   "execution_count": 1,
   "metadata": {},
   "outputs": [],
   "source": [
    "def solution(n, s):\n",
    "    if n > s: # 만약 수의 합이 n보다 작다면 최고의 집합이 존재할 수 없음\n",
    "        return [-1]\n",
    "    # 곱의 값이 커지기 위해서는 곱하는 값들간 값 차이가 작아야한다.\n",
    "    answer = [s//n] * n  # 그래서 s를 n으로 나눈 몫으로 n가지를 채운다.\n",
    "    for i in range(s % n): # s를 n으로 나눈 나머지값만큼\n",
    "        answer[-1-i] += 1 # answer의 뒤에서부터 1씩 채운다.(최고의 집합은 오름차순정렬이기 때문)\n",
    "    return answer # 답 반환"
   ]
  },
  {
   "cell_type": "code",
   "execution_count": 2,
   "metadata": {},
   "outputs": [
    {
     "data": {
      "text/plain": [
       "[4, 5]"
      ]
     },
     "execution_count": 2,
     "metadata": {},
     "output_type": "execute_result"
    }
   ],
   "source": [
    "n = 2 \n",
    "s = 9\n",
    "solution(n, s)"
   ]
  },
  {
   "cell_type": "code",
   "execution_count": 3,
   "metadata": {},
   "outputs": [
    {
     "data": {
      "text/plain": [
       "[-1]"
      ]
     },
     "execution_count": 3,
     "metadata": {},
     "output_type": "execute_result"
    }
   ],
   "source": [
    "n = 2 \n",
    "s = 1\n",
    "solution(n, s)"
   ]
  },
  {
   "cell_type": "code",
   "execution_count": 4,
   "metadata": {},
   "outputs": [
    {
     "data": {
      "text/plain": [
       "[4, 4]"
      ]
     },
     "execution_count": 4,
     "metadata": {},
     "output_type": "execute_result"
    }
   ],
   "source": [
    "n = 2\n",
    "s = 8\n",
    "solution(n, s)"
   ]
  }
 ],
 "metadata": {
  "kernelspec": {
   "display_name": "Python 3",
   "language": "python",
   "name": "python3"
  },
  "language_info": {
   "codemirror_mode": {
    "name": "ipython",
    "version": 3
   },
   "file_extension": ".py",
   "mimetype": "text/x-python",
   "name": "python",
   "nbconvert_exporter": "python",
   "pygments_lexer": "ipython3",
   "version": "3.6.9"
  }
 },
 "nbformat": 4,
 "nbformat_minor": 2
}
