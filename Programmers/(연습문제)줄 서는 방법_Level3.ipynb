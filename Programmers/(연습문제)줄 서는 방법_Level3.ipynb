{
 "cells": [
  {
   "cell_type": "markdown",
   "metadata": {},
   "source": [
    "#### 문제 설명  \n",
    "n명의 사람이 일렬로 줄을 서고 있습니다. n명의 사람들에게는 각각 1번부터 n번까지 번호가 매겨져 있습니다. n명이 사람을 줄을 서는 방법은 여러가지 방법이 있습니다. 예를 들어서 3명의 사람이 있다면 다음과 같이 6개의 방법이 있습니다.  \n",
    "  \n",
    "- [1, 2, 3]\n",
    "- [1, 3, 2]\n",
    "- [2, 1, 3]\n",
    "- [2, 3, 1]\n",
    "- [3, 1, 2]\n",
    "- [3, 2, 1]  \n",
    "  \n",
    "사람의 수 n과, 자연수 k가 주어질 때, 사람을 나열 하는 방법을 사전 순으로 나열 했을 때, k번째 방법을 return하는 solution 함수를 완성해주세요.  \n",
    "  \n",
    "#### 제한 조건  \n",
    "- n은 20이하의 자연수 입니다.\n",
    "- k는 n! 이하의 자연수 입니다.\n",
    "  \n",
    "#### 입출력 예  \n",
    "|n|\tk|\tresult|\n",
    "|:---:|:---:|:---:|\n",
    "|3|\t5|\t[3,1,2]|  "
   ]
  },
  {
   "cell_type": "markdown",
   "metadata": {},
   "source": [
    "---"
   ]
  },
  {
   "cell_type": "markdown",
   "metadata": {},
   "source": [
    "### 문제 풀이"
   ]
  },
  {
   "cell_type": "code",
   "execution_count": 1,
   "metadata": {},
   "outputs": [],
   "source": [
    "import math\n",
    "\n",
    "def solution(n, k):\n",
    "    numbers = list(range(1, n+1)) # 1부터 n까지의 사람 번호\n",
    "    answer = [] # 답\n",
    "    k -= 1 # k번째 나열방법을 고를 때 배열의 인덱스는 0부터 시작하므로 1을 빼주고 계산\n",
    "    for i in range(1, n+1): # n가지의 숫자에 대해서\n",
    "        case_num = math.factorial(n-i) # (탐색해야할 남은 자릿수-1) 크기로 나열했을 때 가짓 수\n",
    "        curr_num = numbers.pop(k//case_num) \n",
    "        # (나열에 사용할 수 있는 남아있는 숫자) 중에 (k값을 case_num으로 나눈 몫) 번째에 있는 수가 다음에 답에 배치될 숫자가 된다.\n",
    "        answer.append(curr_num) # 답 번호 추가\n",
    "        k %= case_num # 그리고 k는 case_num으로 나눈 나머지로 갱신\n",
    "    return answer # 답 반환"
   ]
  },
  {
   "cell_type": "code",
   "execution_count": 2,
   "metadata": {},
   "outputs": [
    {
     "data": {
      "text/plain": [
       "[3, 1, 2]"
      ]
     },
     "execution_count": 2,
     "metadata": {},
     "output_type": "execute_result"
    }
   ],
   "source": [
    "n = 3\n",
    "k = 5\n",
    "solution(n, k)"
   ]
  }
 ],
 "metadata": {
  "kernelspec": {
   "display_name": "Python 3",
   "language": "python",
   "name": "python3"
  },
  "language_info": {
   "codemirror_mode": {
    "name": "ipython",
    "version": 3
   },
   "file_extension": ".py",
   "mimetype": "text/x-python",
   "name": "python",
   "nbconvert_exporter": "python",
   "pygments_lexer": "ipython3",
   "version": "3.6.9"
  }
 },
 "nbformat": 4,
 "nbformat_minor": 2
}
