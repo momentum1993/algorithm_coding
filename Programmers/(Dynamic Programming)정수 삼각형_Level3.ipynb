{
 "cells": [
  {
   "cell_type": "markdown",
   "metadata": {},
   "source": [
    "#### 문제 설명  \n",
    "![](https://grepp-programmers.s3.amazonaws.com/files/production/97ec02cc39/296a0863-a418-431d-9e8c-e57f7a9722ac.png)  \n",
    "위와 같은 삼각형의 꼭대기에서 바닥까지 이어지는 경로 중, 거쳐간 숫자의 합이 가장 큰 경우를 찾아보려고 합니다. 아래 칸으로 이동할 때는 대각선 방향으로 한 칸 오른쪽 또는 왼쪽으로만 이동 가능합니다. 예를 들어 3에서는 그 아래칸의 8 또는 1로만 이동이 가능합니다.  \n",
    "  \n",
    "삼각형의 정보가 담긴 배열 triangle이 매개변수로 주어질 때, 거쳐간 숫자의 최댓값을 return 하도록 solution 함수를 완성하세요.  \n",
    "  \n",
    "#### 제한 조건  \n",
    "- 삼각형의 높이는 1 이상 500 이하입니다.  \n",
    "- 삼각형을 이루고 있는 숫자는 0 이상 9,999 이하의 정수입니다.  \n",
    "  \n",
    "#### 입출력 예    \n",
    "|triangle|\tresult|\n",
    "|:---:|:---:|\n",
    "|[[7], [3, 8], [8, 1, 0], [2, 7, 4, 4], [4, 5, 2, 6, 5]]|\t30|  "
   ]
  },
  {
   "cell_type": "markdown",
   "metadata": {},
   "source": [
    "---"
   ]
  },
  {
   "cell_type": "markdown",
   "metadata": {},
   "source": [
    "### 문제 풀이"
   ]
  },
  {
   "cell_type": "code",
   "execution_count": 1,
   "metadata": {},
   "outputs": [],
   "source": [
    "import sys\n",
    "sys.setrecursionlimit(100000) # 재귀 제한을 넉넉하게 세팅\n",
    "\n",
    "def simulation(triangle, mem, level, idx):\n",
    "    if level == len(triangle) or idx == len(triangle[level]): # 만약 탐색범위를 넘어갈 경우 0 반환\n",
    "        return 0\n",
    "    if mem[level][idx] != -1: # 미리 구한 값일 때는 바로 반환\n",
    "        return mem[level][idx]\n",
    "    mem[level][idx] = triangle[level][idx]\n",
    "    mem[level][idx] += max(simulation(triangle, mem, level+1, idx), simulation(triangle, mem, level+1, idx+1))\n",
    "    # 현재 상황에서의 최대값 구함\n",
    "    return mem[level][idx] # 답 반환\n",
    "    \n",
    "\n",
    "def solution(triangle):\n",
    "    mem = [[-1 for _ in range(len(triangle[-1]))] for _ in range(len(triangle))] # 각 상황에 따른 최대값 메모이재이션\n",
    "    answer = simulation(triangle, mem, 0, 0) # 시뮬레이션\n",
    "    return answer # 답 반환"
   ]
  },
  {
   "cell_type": "code",
   "execution_count": 2,
   "metadata": {},
   "outputs": [
    {
     "data": {
      "text/plain": [
       "30"
      ]
     },
     "execution_count": 2,
     "metadata": {},
     "output_type": "execute_result"
    }
   ],
   "source": [
    "triangle = [[7], [3, 8], [8, 1, 0], [2, 7, 4, 4], [4, 5, 2, 6, 5]]\n",
    "solution(triangle)"
   ]
  }
 ],
 "metadata": {
  "kernelspec": {
   "display_name": "Python 3",
   "language": "python",
   "name": "python3"
  },
  "language_info": {
   "codemirror_mode": {
    "name": "ipython",
    "version": 3
   },
   "file_extension": ".py",
   "mimetype": "text/x-python",
   "name": "python",
   "nbconvert_exporter": "python",
   "pygments_lexer": "ipython3",
   "version": "3.6.9"
  }
 },
 "nbformat": 4,
 "nbformat_minor": 2
}
