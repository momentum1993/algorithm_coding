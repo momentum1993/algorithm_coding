{
 "cells": [
  {
   "cell_type": "markdown",
   "metadata": {},
   "source": [
    "#### 문제 설명  \n",
    "n개의 노드가 있는 그래프가 있습니다. 각 노드는 1부터 n까지 번호가 적혀있습니다. 1번 노드에서 가장 멀리 떨어진 노드의 갯수를 구하려고 합니다. 가장 멀리 떨어진 노드란 최단경로로 이동했을 때 간선의 개수가 가장 많은 노드들을 의미합니다.  \n",
    "  \n",
    "노드의 개수 n, 간선에 대한 정보가 담긴 2차원 배열 vertex가 매개변수로 주어질 때, 1번 노드로부터 가장 멀리 떨어진 노드가 몇 개인지를 return 하도록 solution 함수를 작성해주세요.    \n",
    "   \n",
    "#### 제한 조건  \n",
    "- 노드의 개수 n은 2 이상 20,000 이하입니다.\n",
    "- 간선은 양방향이며 총 1개 이상 50,000개 이하의 간선이 있습니다.\n",
    "- vertex 배열 각 행 [a, b]는 a번 노드와 b번 노드 사이에 간선이 있다는 의미입니다.  \n",
    "  \n",
    "#### 입출력 예  \n",
    "|n|\tvertex|\treturn|\n",
    "|:---:|:---:|:---:|\n",
    "|6|\t[[3, 6], [4, 3], [3, 2], [1, 3], [1, 2], [2, 4], [5, 2]]|\t3|  \n",
    "  \n",
    "![](https://grepp-programmers.s3.amazonaws.com/files/ybm/fadbae38bb/dec85ab5-0273-47b3-ba73-fc0b5f6be28a.png)    "
   ]
  },
  {
   "cell_type": "markdown",
   "metadata": {},
   "source": [
    "---"
   ]
  },
  {
   "cell_type": "markdown",
   "metadata": {},
   "source": [
    "### 문제 풀이"
   ]
  },
  {
   "cell_type": "code",
   "execution_count": 1,
   "metadata": {},
   "outputs": [],
   "source": [
    "from queue import PriorityQueue\n",
    "from collections import defaultdict\n",
    "\n",
    "def solution(n, vertex):\n",
    "    answer = 0 # 답\n",
    "    adjacent = defaultdict(list) # 노드 인덱스에 대해 인접한 노드들\n",
    "    for a,b in vertex:\n",
    "        adjacent[a-1].append(b-1)\n",
    "        adjacent[b-1].append(a-1)\n",
    "        # 인접한 노드들 갱신\n",
    "    visited = [False for _ in range(n)] # 해당 인덱스의 노드 방문 여부\n",
    "    visited[0] = True # 0번 노드를 방문했다.\n",
    "    q = PriorityQueue() # 우선 순위 큐\n",
    "    q.put((0, 0)) # (이동한 간선 개수, 현재 탐색 노드) 정보를 큐에 push\n",
    "    max_count = 0 # 최대 이동 간선 개수\n",
    "    while not q.empty():\n",
    "        count, node = q.get() # (이동한 간선 개수, 현재 탐색 노드) 정보를 큐에서 pop\n",
    "        if count > max_count: # 이동한 간선 개수가 현재의 최대값보다 클 때\n",
    "            max_count = count # 최대 간선 개수 갱신\n",
    "            answer = 1 # 최대 간선 개수만큼 이동해서 도달할 수 있는 노드는 현재 1개이다.\n",
    "        elif count == max_count: # 이동한 간선 개수가 최대 간선개수와 같을 때\n",
    "            answer += 1 # 최대 간선 개수만큼 이동해서 도달할 수 있는 노드 1개 증가\n",
    "        for i in adjacent[node]: # node의 인접한 노드에 대해서\n",
    "            if visited[i]: # 방문한 노드를 제외하고\n",
    "                continue\n",
    "            visited[i] = True\n",
    "            q.put((count+1, i)) # 이동 후 탐색하기 위해 큐에 정보를 push\n",
    "    return answer # 답 반환"
   ]
  },
  {
   "cell_type": "code",
   "execution_count": 2,
   "metadata": {},
   "outputs": [
    {
     "data": {
      "text/plain": [
       "3"
      ]
     },
     "execution_count": 2,
     "metadata": {},
     "output_type": "execute_result"
    }
   ],
   "source": [
    "n = 6\n",
    "vertex = [[3, 6], [4, 3], [3, 2], [1, 3], [1, 2], [2, 4], [5, 2]]\n",
    "solution(n, vertex)"
   ]
  }
 ],
 "metadata": {
  "kernelspec": {
   "display_name": "Python 3",
   "language": "python",
   "name": "python3"
  },
  "language_info": {
   "codemirror_mode": {
    "name": "ipython",
    "version": 3
   },
   "file_extension": ".py",
   "mimetype": "text/x-python",
   "name": "python",
   "nbconvert_exporter": "python",
   "pygments_lexer": "ipython3",
   "version": "3.6.9"
  }
 },
 "nbformat": 4,
 "nbformat_minor": 2
}
