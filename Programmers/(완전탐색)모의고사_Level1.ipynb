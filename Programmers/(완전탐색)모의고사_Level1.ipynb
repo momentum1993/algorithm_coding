{
 "cells": [
  {
   "cell_type": "markdown",
   "metadata": {},
   "source": [
    "#### 문제 설명  \n",
    "수포자는 수학을 포기한 사람의 준말입니다. 수포자 삼인방은 모의고사에 수학 문제를 전부 찍으려 합니다. 수포자는 1번 문제부터 마지막 문제까지 다음과 같이 찍습니다.  \n",
    "  \n",
    "1번 수포자가 찍는 방식: 1, 2, 3, 4, 5, 1, 2, 3, 4, 5, ...  \n",
    "2번 수포자가 찍는 방식: 2, 1, 2, 3, 2, 4, 2, 5, 2, 1, 2, 3, 2, 4, 2, 5, ...  \n",
    "3번 수포자가 찍는 방식: 3, 3, 1, 1, 2, 2, 4, 4, 5, 5, 3, 3, 1, 1, 2, 2, 4, 4, 5, 5, ...  \n",
    "  \n",
    "1번 문제부터 마지막 문제까지의 정답이 순서대로 들은 배열 answers가 주어졌을 때, 가장 많은 문제를 맞힌 사람이 누구인지 배열에 담아 return 하도록 solution 함수를 작성해주세요.  \n",
    "   \n",
    "#### 제한 조건  \n",
    "시험은 최대 10,000 문제로 구성되어있습니다.  \n",
    "문제의 정답은 1, 2, 3, 4, 5중 하나입니다.  \n",
    "가장 높은 점수를 받은 사람이 여럿일 경우, return하는 값을 오름차순 정렬해주세요.  \n",
    "#### 입출력 예  \n",
    "answers\treturn  \n",
    "[1,2,3,4,5]\t[1]  \n",
    "[1,3,2,4,2]\t[1,2,3]  \n",
    "#### 입출력 예 설명  \n",
    "입출력 예 1  \n",
    "  \n",
    "수포자 1은 모든 문제를 맞혔습니다.  \n",
    "수포자 2는 모든 문제를 틀렸습니다.    \n",
    "수포자 3은 모든 문제를 틀렸습니다.    \n",
    "따라서 가장 문제를 많이 맞힌 사람은 수포자 1입니다.    \n",
    "    \n",
    "입출력 예 2  \n",
    "  \n",
    "모든 사람이 2문제씩을 맞췄습니다.  "
   ]
  },
  {
   "cell_type": "markdown",
   "metadata": {},
   "source": [
    "---"
   ]
  },
  {
   "cell_type": "markdown",
   "metadata": {},
   "source": [
    "###  나의 문제 풀이"
   ]
  },
  {
   "cell_type": "code",
   "execution_count": 10,
   "metadata": {
    "collapsed": true
   },
   "outputs": [],
   "source": [
    "def solution(answers):\n",
    "    answer = []\n",
    "    dic = {}\n",
    "    a = [1, 2, 3, 4, 5]\n",
    "    b = [2, 1, 2, 3, 2, 4, 2, 5]\n",
    "    c = [3, 3, 1, 1, 2, 2, 4, 4, 5, 5]\n",
    "    num = [0, 0, 0]\n",
    "    for i in range(len(answers)):\n",
    "        if a[i%len(a)] == answers[i]:\n",
    "            num[0] += 1\n",
    "        if b[i%len(b)] == answers[i]:\n",
    "            num[1] += 1\n",
    "        if c[i%len(c)] == answers[i]:\n",
    "            num[2] += 1\n",
    "    temp = max(num)\n",
    "    for i in range(3):\n",
    "        if temp == num[i]:\n",
    "            answer.append(i+1)\n",
    "    return answer"
   ]
  },
  {
   "cell_type": "markdown",
   "metadata": {},
   "source": [
    "### 다른 사람의 문제 풀이"
   ]
  },
  {
   "cell_type": "code",
   "execution_count": 1,
   "metadata": {
    "collapsed": true
   },
   "outputs": [],
   "source": [
    "def solution(answers):\n",
    "    pattern1 = [1,2,3,4,5]\n",
    "    pattern2 = [2,1,2,3,2,4,2,5]\n",
    "    pattern3 = [3,3,1,1,2,2,4,4,5,5]\n",
    "    score = [0, 0, 0]\n",
    "    result = []\n",
    "\n",
    "    for idx, answer in enumerate(answers):\n",
    "        if answer == pattern1[idx%len(pattern1)]:\n",
    "            score[0] += 1\n",
    "        if answer == pattern2[idx%len(pattern2)]:\n",
    "            score[1] += 1\n",
    "        if answer == pattern3[idx%len(pattern3)]:\n",
    "            score[2] += 1\n",
    "\n",
    "    for idx, s in enumerate(score):\n",
    "        if s == max(score):\n",
    "            result.append(idx+1)\n",
    "\n",
    "    return result"
   ]
  },
  {
   "cell_type": "markdown",
   "metadata": {},
   "source": [
    "enumerate(iterable, start=0)  \n",
    "열거형 객체 반환해주며, (index, value) 형태의 튜플 리스트로 반환해줌.  \n",
    "\n",
    "정답을 각각의 패턴에 넣어주어 가장 큰 값과 비교하는데  \n",
    "정답을 패턴의 길이에 맞게 나누어 집어 넣어주는 것이 포인트다.  \n",
    "max값과 같은 패턴을 리스트에 저장한다."
   ]
  },
  {
   "cell_type": "code",
   "execution_count": 2,
   "metadata": {
    "collapsed": true
   },
   "outputs": [],
   "source": [
    "def solution(answers):\n",
    "    p = [[1, 2, 3, 4, 5],\n",
    "         [2, 1, 2, 3, 2, 4, 2, 5],\n",
    "         [3, 3, 1, 1, 2, 2, 4, 4, 5, 5]]\n",
    "    s = [0] * len(p)\n",
    "\n",
    "    for q, a in enumerate(answers):\n",
    "        for i, v in enumerate(p):\n",
    "            if a == v[q % len(v)]:\n",
    "                s[i] += 1\n",
    "    return [i + 1 for i, v in enumerate(s) if v == max(s)]"
   ]
  }
 ],
 "metadata": {
  "kernelspec": {
   "display_name": "Python 3",
   "language": "python",
   "name": "python3"
  },
  "language_info": {
   "codemirror_mode": {
    "name": "ipython",
    "version": 3
   },
   "file_extension": ".py",
   "mimetype": "text/x-python",
   "name": "python",
   "nbconvert_exporter": "python",
   "pygments_lexer": "ipython3",
   "version": "3.6.3"
  }
 },
 "nbformat": 4,
 "nbformat_minor": 2
}
