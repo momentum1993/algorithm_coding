{
 "cells": [
  {
   "cell_type": "markdown",
   "metadata": {},
   "source": [
    "# 자동 완성"
   ]
  },
  {
   "cell_type": "markdown",
   "metadata": {},
   "source": [
    "[2018 카카오 블라인드 '자동 완성' 문제 링크](https://programmers.co.kr/learn/courses/30/lessons/17685)  "
   ]
  },
  {
   "cell_type": "markdown",
   "metadata": {},
   "source": [
    "### 문제    \n",
    "포털 다음에서 검색어 자동완성 기능을 넣고 싶은 라이언은 한 번 입력된 문자열을 학습해서 다음 입력 때 활용하고 싶어 졌다. 예를 들어, go 가 한 번 입력되었다면, 다음 사용자는 g 만 입력해도 go를 추천해주므로 o를 입력할 필요가 없어진다! 단, 학습에 사용된 단어들 중 앞부분이 같은 경우에는 어쩔 수 없이 다른 문자가 나올 때까지 입력을 해야 한다.  \n",
    "효과가 얼마나 좋을지 알고 싶은 라이언은 학습된 단어들을 찾을 때 몇 글자를 입력해야 하는지 궁금해졌다.  \n",
    "  \n",
    "예를 들어, 학습된 단어들이 아래와 같을 때  \n",
    "  \n",
    "~~~\n",
    "go\n",
    "gone\n",
    "guild\n",
    "~~~  \n",
    "  \n",
    "- go를 찾을 때 go를 모두 입력해야 한다.  \n",
    "- gone을 찾을 때 gon 까지 입력해야 한다. (gon이 입력되기 전까지는 go 인지 gone인지 확신할 수 없다.)  \n",
    "- guild를 찾을 때는 gu 까지만 입력하면 guild가 완성된다.  \n",
    "  \n",
    "이 경우 총 입력해야 할 문자의 수는 7이다.  \n",
    "  \n",
    "라이언을 도와 위와 같이 문자열이 입력으로 주어지면 학습을 시킨 후, 학습된 단어들을 순서대로 찾을 때 몇 개의 문자를 입력하면 되는지 계산하는 프로그램을 만들어보자.  \n",
    "  \n",
    "### 입력 형식  \n",
    "학습과 검색에 사용될 중복 없는 단어 N개가 주어진다.  \n",
    "모든 단어는 알파벳 소문자로 구성되며 단어의 수 N과 단어들의 길이의 총합 L의 범위는 다음과 같다.  \n",
    "  \n",
    "- 2 <= N <= 100,000  \n",
    "- 2 <= L <= 1,000,000  \n",
    "  \n",
    "### 출력 형식  \n",
    "단어를 찾을 때 입력해야 할 총 문자수를 리턴한다.  \n",
    "  "
   ]
  },
  {
   "cell_type": "code",
   "execution_count": 1,
   "metadata": {},
   "outputs": [],
   "source": [
    "# 트라이(Trie) 구조\n",
    "class Node: # 노드 클래스\n",
    "    char = '' # 해당 노드가 표현하는 글자\n",
    "    is_word = False # 현재 노드를 통해 만들어지는 단어가 있는지 여부\n",
    "    idx = -1 # 단어의 인덱스 (여러개의 단어가 거쳐가는 노드의 경우 -1로 둔다)\n",
    "    children = [] # 노드의 자식 노드들\n",
    "    \n",
    "    def __init__(self, char='', idx=-1): # 생성자\n",
    "        self.char = char # 노드 표현 글자\n",
    "        self.is_word = False # 단어가 아니라고 초기화\n",
    "        self.idx = idx # 인덱스\n",
    "        self.children = [] # 자식 노드\n",
    "        \n",
    "    def add(self, word, idx): # 노드의 추가\n",
    "        curr_node = self # 현재 노드\n",
    "        for char in word: # 단어의 한 글자에 대해서\n",
    "            is_dup = False\n",
    "            for child in curr_node.children: # 자식 중에 해당하는 노드가 있을 때\n",
    "                if child.char == char:\n",
    "                    is_dup = True\n",
    "                    child.idx = -1 # 여러개의 단어가 거쳐가기 때문에 인덱스 -1로 둠\n",
    "                    curr_node = child # 해당하는 노드를 현재노드로 두고 다시 탐색\n",
    "                    break\n",
    "            if not is_dup: # 자식 중에 해당하는 노드가 없을 경우\n",
    "                new_node = Node(char, idx) # 해당 인덱스 단어를 지니는 새 노드 생성\n",
    "                curr_node.children.append(new_node) # 자식 노드로 추가\n",
    "                curr_node = new_node\n",
    "        \n",
    "    def min_input(self, word, idx): # word를 탐색하기 위한 최소 입력 개수\n",
    "        num = 0 # 입력 개수\n",
    "        curr_node = self # 현재 노드\n",
    "        for char in word: # 단어의 한 글자에 대해서\n",
    "            for child in curr_node.children: # 자식 노드들에 대해\n",
    "                if char == child.char: # 만약 자식 노드 중에 찾는 노드가 있다면\n",
    "                    num += 1 # 입력 개수 +1 해준다.\n",
    "                    if child.idx == idx: # 그리고 해당 노드가 바로 찾던 단어를 연결해준다면\n",
    "                        return num # 바로 현재까지의 입력 개수 반환\n",
    "                    break\n",
    "            curr_node = child # 다음 노드에 대해서 탐색하기 위해 갱신\n",
    "        return num\n",
    "    \n",
    "\n",
    "def solution(words):\n",
    "    answer = 0\n",
    "    trie = Node() # 트라이 객체 생성\n",
    "    words.sort() # 단어 정렬\n",
    "    for i in range(len(words)):\n",
    "        trie.add(words[i], i) # 단어 추가\n",
    "    for i in range(len(words)):\n",
    "        answer += trie.min_input(words[i], i)\n",
    "        # 해당 단어에 대한 최소 입력 수 구한다.\n",
    "    return answer # 답 반환"
   ]
  },
  {
   "cell_type": "code",
   "execution_count": 2,
   "metadata": {},
   "outputs": [],
   "source": [
    "words = [\"go\",\"gone\",\"guild\"]"
   ]
  },
  {
   "cell_type": "code",
   "execution_count": 3,
   "metadata": {},
   "outputs": [
    {
     "data": {
      "text/plain": [
       "7"
      ]
     },
     "execution_count": 3,
     "metadata": {},
     "output_type": "execute_result"
    }
   ],
   "source": [
    "solution(words)"
   ]
  },
  {
   "cell_type": "code",
   "execution_count": 4,
   "metadata": {},
   "outputs": [],
   "source": [
    "words = [\"abc\",\"def\",\"ghi\",\"jklm\"]"
   ]
  },
  {
   "cell_type": "code",
   "execution_count": 5,
   "metadata": {},
   "outputs": [
    {
     "data": {
      "text/plain": [
       "4"
      ]
     },
     "execution_count": 5,
     "metadata": {},
     "output_type": "execute_result"
    }
   ],
   "source": [
    "solution(words)"
   ]
  },
  {
   "cell_type": "code",
   "execution_count": 6,
   "metadata": {},
   "outputs": [],
   "source": [
    "words = [\"word\",\"war\",\"warrior\",\"world\"]"
   ]
  },
  {
   "cell_type": "code",
   "execution_count": 7,
   "metadata": {},
   "outputs": [
    {
     "data": {
      "text/plain": [
       "15"
      ]
     },
     "execution_count": 7,
     "metadata": {},
     "output_type": "execute_result"
    }
   ],
   "source": [
    "solution(words)"
   ]
  }
 ],
 "metadata": {
  "kernelspec": {
   "display_name": "Python 3",
   "language": "python",
   "name": "python3"
  },
  "language_info": {
   "codemirror_mode": {
    "name": "ipython",
    "version": 3
   },
   "file_extension": ".py",
   "mimetype": "text/x-python",
   "name": "python",
   "nbconvert_exporter": "python",
   "pygments_lexer": "ipython3",
   "version": "3.6.9"
  }
 },
 "nbformat": 4,
 "nbformat_minor": 2
}
