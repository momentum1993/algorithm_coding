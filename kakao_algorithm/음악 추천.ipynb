{
 "cells": [
  {
   "cell_type": "markdown",
   "metadata": {},
   "source": [
    "# 음악 추천"
   ]
  },
  {
   "cell_type": "markdown",
   "metadata": {},
   "source": [
    "[2018 카카오 코드 페스티벌 '음악 추천' 문제 링크](https://www.acmicpc.net/problem/15957)  "
   ]
  },
  {
   "cell_type": "markdown",
   "metadata": {},
   "source": [
    "### 문제    \n",
    "멜론은 국내 최다 고객과 음원을 보유한 디지털 뮤직 플랫폼이다. 멜론의 특징 중 하나는 사용자 개인별 맞춤 큐레이션 서비스로, 사용자의 취향 및 콘텐츠의 특성을 분석하여 좋아할 만한 음악을 추천함으로써 사용자가 계속해서 쓸 수 있는 서비스를 만드는 것이다. 사용자가 만족할 만한 서비스를 제공하기 위해서는 추천 알고리즘의 성능을 우수하게 유지하는 것이 중요하기 때문에, 사용자의 피드백에 따라 추천 알고리즘을 개선하거나, 좋은 성능을 보일 수 있는 새로운 추천 알고리즘을 고안하는 과정이 필요하다.  \n",
    "  \n",
    "프로도는 사용자가 좋아할 만한 음악을 추천하기 위한 새로운 추천 알고리즘을 고안했다. 이 알고리즘은 음악 간 유사도를 트리의 형태로 만든 뒤 사용자의 입력에 따라 추천할 음악을 결정하는 방식이다. 예를 들어, 음악 간 유사도를 표현한 다음 트리를 살펴보자. 여기에서 각각의 노드가 곡을 나타내며, 노드의 색깔은 가수를 의미한다.  \n",
    "  \n",
    "![](https://upload.acmicpc.net/25393cc3-1622-4ad8-a58a-ef05d12ee2a8/-/preview/)\n",
    "  \n",
    "추천이 이루어지는 과정은 다음과 같다. 사용 패턴 분석을 통해 트리에 있는 노드 중 하나와 가중치가 결정되는데, 선택된 노드가 루트가 되는 서브트리의 모든 노드가 추천 대상이 된다. 이 서브트리에 속한 노드에 가중치에 따른 점수가 고르게 부여된다. 가중치가 노드의 수로 나누어떨어지지 않는 경우 몫만이 분배된다. 예를 들어, 아래 그림에서처럼 노드가 하나 선택되고 여기에 가중치 23을 부여한다고 가정해보자. 이 서브트리에 속한 노드는 총 다섯 개이고, 23을 5로 나누면 몫이 4가 되고 나머지가 3이 되기 때문에 각각의 노드에 점수 4가 부여된다. 이 점수가 높을수록 추천에서 선택될 확률이 높아진다.  \n",
    "  \n",
    "![](https://upload.acmicpc.net/087e9adf-674d-4fc1-b41c-04316246bfaa/-/preview/)\n",
    "  \n",
    "이때, 특정한 가수의 곡만 추천되는 상황을 방지하기 위해 가수 별로 평균 점수를 관리하려고 한다. 위 트리에서 빨간색 벽돌 무늬로 표시된 노드가 아이유의 곡이라고 가정하자. 위의 그림과 같이 서브트리가 선택된 상황의 경우, 빨간색 노드가 총 두 개이므로 노드 하나당 4점씩 부여되어 아이유의 곡의 점수의 합은 8이 된다. 트리에서 빨간색으로 표시된 노드가 총 세 개이므로, 아이유의 곡은 평균 8/3점이 된다.  \n",
    "  \n",
    "위와 같이 트리의 노드와 가중치가 선택되는 과정이 반복된다고 할 때, 가수 별 평균 점수가 주어진 목표 점수를 언제 초과하게 되는지 계산하려고 한다. 트리의 형태와 추천 알고리즘의 결과 데이터가 입력으로 주어질 때, 노드 별로 가수의 평균 점수가 목표 점수를 초과하는 시점을 계산하는 프로그램을 작성하시오.  \n",
    "  \n",
    "### 입력  \n",
    "입력의 첫째 줄에는 세 정수로, 곡의 수 N(2 ≤ N ≤ 100,000), 추천 알고리즘의 결과 데이터의 수 K(1 ≤ K ≤ 100,000), 목표 점수 J(10 ≤ J ≤ 108)가 주어진다. 각각의 곡은 1번부터 N번까지 번호가 붙어 있다. 다음 줄에 N-1개의 곡 번호가 주어지는데, 이는 2번 곡부터 해당 곡의 부모 노드가 되는 곡의 번호이다. 1번 곡은 부모 노드가 없다. 다음 줄에 N개의 수가 주어지는데, 이는 1번 곡부터 해당 곡을 부른 가수의 번호이다. 가수의 번호는 1 이상 N 이하의 자연수이다. 다음 K개의 줄에 추천 알고리즘의 결과 데이터가 하나씩 주어진다. 결과 데이터는 T, P, S의 세 값으로 주어진다. T는 데이터가 계산된 시간으로, 1 이상 109 이하의 자연수이다. P는 점수가 부여되는 서브트리의 루트가 되는 곡의 번호이다. S는 서브트리에 부여할 가중치로, 1 이상 109 이하의 자연수이다.  \n",
    "  \n",
    "### 출력  \n",
    "출력은 N개의 줄로 이루어진다. 1번 곡부터 해당 곡을 부른 가수의 평균 점수가 J를 넘게 되는 시간을 출력한다. 점수가 J를 넘는 일이 없는 경우 -1을 출력한다. 같은 가수가 부른 곡은 같은 값을 가지게 될 것이다.  "
   ]
  },
  {
   "cell_type": "code",
   "execution_count": 3,
   "metadata": {
    "scrolled": true
   },
   "outputs": [
    {
     "name": "stdout",
     "output_type": "stream",
     "text": [
      "input\n",
      "3 3 52\n",
      "1 1\n",
      "1 1 3\n",
      "1 1 90\n",
      "2 2 100\n",
      "3 1 30\n",
      "\n",
      "output:\n",
      "2\n",
      "2\n",
      "-1\n"
     ]
    }
   ],
   "source": [
    "class Node: # 트리 노드\n",
    "    parent = None # 해당 노드의 부모 노드\n",
    "    song = 0 # 노드의 노래 번호\n",
    "    point = 0 # 노드가 가지는 점수\n",
    "    singer = 0 # 노드의 노래를 부른 가수\n",
    "    size = 0 # 해당 노드가 지니는 subset의 사이즈\n",
    "    children = [] # 노드의 자식 노드들\n",
    "    \n",
    "    def __init__(self, song, singer): # 노드 생성자\n",
    "        self.song = song\n",
    "        self.singer = singer\n",
    "        self.size = 1\n",
    "        self.children = []\n",
    "    \n",
    "    def add_child(self, target_node, song_num, singer_num): # 자식 추가\n",
    "        if self.song == target_node: # 만약 자식을 추가하려는 노드가 맞다면\n",
    "            new_child = Node(song_num, singer_num) # 새로운 자식 노드 생성\n",
    "            new_child.parent = self\n",
    "            self.children.append(new_child) # 부모 자식 관계 설정\n",
    "            self.edit_size(new_child) # subset의 사이즈 수정\n",
    "            return\n",
    "        # 자식을 추가하려는 노드가 아니라면\n",
    "        for child in self.children:\n",
    "            child.add_child(target_node, song_num, singer_num)\n",
    "            # 자식들에 대해서 탐색\n",
    "        \n",
    "    def get_point_count(self, singer): # 점수와 해당 가수가 부른 노래의 개수 반환\n",
    "        point = 0 # 점수\n",
    "        count = 0 # 해당 가수가 부른 노래의 개수\n",
    "        if self.singer == singer: # 해당 가수가 부른 노래라면\n",
    "            point += self.point # 점수 합함\n",
    "            count += 1 # 개수도 1 증가\n",
    "        for child in self.children: # subset에 대해서 다시 탐색\n",
    "            add_point, add_count = child.get_point_count(singer)\n",
    "            point += add_point\n",
    "            count += add_count\n",
    "            # subset에서의 점수와 개수를 더함\n",
    "        return point, count # 점수와 개수 반환\n",
    "    \n",
    "    def get_avg_point(self, singer): # 평균 점수 반환\n",
    "        avg = 0 # 평균점수\n",
    "        point, count = self.get_point_count(singer) # 점수, 개수 반환\n",
    "        if count == 0: # 가수가 부른 노래가 없다면\n",
    "            return -1 # -1 반환\n",
    "        return point / count # 노래가 있다면 평균 점수 반환\n",
    "        \n",
    "    def edit_size(self, node): # subset 사이즈 수정\n",
    "        while node.parent: \n",
    "            node = node.parent\n",
    "            node.size += 1\n",
    "        # 노드의 부모노드로 계속 올라가며 사이즈 1씩 증가\n",
    "            \n",
    "    def set_point(self, root_song, point): # 해당 노래의 subset에 점수를 증가시킴\n",
    "        if self.song == root_song: # 찾는 subset의 root 노래가 맞다면\n",
    "            self.point += point // self.size # subset의 크기만큼 나눠서 점수 합함\n",
    "            for child in self.children: # 자손에 대해서\n",
    "                child.set_point(child.song, (point // self.size) * child.size)\n",
    "                # 점수를 나눠서 합한다.\n",
    "        else: # 노래가 아니라면\n",
    "            for child in self.children:\n",
    "                child.set_point(root_song, point)\n",
    "                # 자식노드에 대해서 계속 탐색\n",
    "\n",
    "print(\"input:\")\n",
    "N, K, J = tuple(int(x) for x in input().split()) # 곡의 수, 추천 결과 데이터 수, 목표점수\n",
    "time = [-1 for _ in range(N)] # 평균을 넘는데 걸린 시간\n",
    "parents = list(int(x) for x in input().split()) # 2번곡 부터 N번곡까지의 부모 노드의 곡 번호\n",
    "singers = list(int(x) for x in input().split()) # 1번곡 부터 N번곡까지의 해당 곡을 부른 가수 번호\n",
    "\n",
    "tree = Node(1, singers[0]) # 1번곡과 가수에 대한 트리 루트 생성\n",
    "for i in range(2, N+1): # 2번곡 ~ N번곡까지\n",
    "    tree.add_child(parents[i-2], i, singers[i-1])\n",
    "    # 트리에 i번 곡과 부르는 가수에 대한 노드를 parents[i-2]번 노드 서브노드로 둔다.\n",
    "for i in range(K): # 모든 추천 결과 데이터에 대해서\n",
    "    T, P, S = tuple(int(x) for x in input().split())\n",
    "    # 데이터가 계산된 시간, 점수가 부여되는 서브트리의 루트, 부여되는 가중치\n",
    "    tree.set_point(P, S) # 부여된 가중치를 P번 노드를 포함하는 서브트리에 세팅\n",
    "    \n",
    "    for j in range(N): # 1번부터 N번까지\n",
    "        if time[j] != -1: # 만약 이미 점수를 초과했다면 패스\n",
    "            continue\n",
    "        avg = tree.get_avg_point(singers[j]) # j+1번 노래를 부른 가수 점수의 평균값\n",
    "        if avg > J: \n",
    "        # 평균이 J를 초과한다면\n",
    "            time[j] = T # 초과하기 시작한 시각 저장\n",
    "\n",
    "print(\"\\noutput:\")\n",
    "for t in time:\n",
    "    print(t) # 1번곡부터 N번곡까지의 부른 가수의 평균점수가 J를 초과하는 시간 출력\n",
    "    "
   ]
  }
 ],
 "metadata": {
  "kernelspec": {
   "display_name": "Python 3",
   "language": "python",
   "name": "python3"
  },
  "language_info": {
   "codemirror_mode": {
    "name": "ipython",
    "version": 3
   },
   "file_extension": ".py",
   "mimetype": "text/x-python",
   "name": "python",
   "nbconvert_exporter": "python",
   "pygments_lexer": "ipython3",
   "version": "3.6.9"
  }
 },
 "nbformat": 4,
 "nbformat_minor": 2
}
