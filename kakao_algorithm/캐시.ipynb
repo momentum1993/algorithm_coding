{
 "cells": [
  {
   "cell_type": "markdown",
   "metadata": {},
   "source": [
    "# 캐시"
   ]
  },
  {
   "cell_type": "markdown",
   "metadata": {},
   "source": [
    "[2018 카카오 공채 '캐시' 문제 링크](https://programmers.co.kr/learn/courses/30/lessons/17680)"
   ]
  },
  {
   "cell_type": "markdown",
   "metadata": {},
   "source": [
    "### 문제  \n",
    "지도개발팀에서 근무하는 제이지는 지도에서 도시 이름을 검색하면 해당 도시와 관련된 맛집 게시물들을 데이터베이스에서 읽어 보여주는 서비스를 개발하고 있다.  \n",
    "이 프로그램의 테스팅 업무를 담당하고 있는 어피치는 서비스를 오픈하기 전 각 로직에 대한 성능 측정을 수행하였는데, 제이지가 작성한 부분 중 데이터베이스에서 게시물을 가져오는 부분의 실행시간이 너무 오래 걸린다는 것을 알게 되었다.  \n",
    "어피치는 제이지에게 해당 로직을 개선하라고 닦달하기 시작하였고, 제이지는 DB 캐시를 적용하여 성능 개선을 시도하고 있지만 캐시 크기를 얼마로 해야 효율적인지 몰라 난감한 상황이다.  \n",
    "  \n",
    "어피치에게 시달리는 제이지를 도와, DB 캐시를 적용할 때 캐시 크기에 따른 실행시간 측정 프로그램을 작성하시오.  \n",
    "  \n",
    "### 입력 형식  \n",
    "- 캐시 크기(cacheSize)와 도시이름 배열(cities)을 입력받는다.  \n",
    "- cacheSize는 정수이며, 범위는 0 ≦ cacheSize ≦ 30 이다.  \n",
    "- cities는 도시 이름으로 이뤄진 문자열 배열로, 최대 도시 수는 100,000개이다.  \n",
    "- 각 도시 이름은 공백, 숫자, 특수문자 등이 없는 영문자로 구성되며, 대소문자 구분을 하지 않는다. 도시 이름은 최대 20자로 이루어져 있다.  \n",
    "  \n",
    "### 출력 형식  \n",
    "- 입력된 도시이름 배열을 순서대로 처리할 때, 총 실행시간을 출력한다.  \n",
    "  \n",
    "### 조건  \n",
    "- 캐시 교체 알고리즘은 LRU(Least Recently Used)를 사용한다.  \n",
    "- cache hit일 경우 실행시간은 1이다.  \n",
    "- cache miss일 경우 실행시간은 5이다.  "
   ]
  },
  {
   "cell_type": "code",
   "execution_count": 1,
   "metadata": {},
   "outputs": [],
   "source": [
    "def solution(cacheSize, cities):\n",
    "    answer = 0 # 답\n",
    "    cache = [] # 캐시\n",
    "    for city in cities: # 모든 도시에 대해서\n",
    "        city = city.lower() # 소문자로 넣을 것임\n",
    "        if city in cache: # cache hit\n",
    "            answer += 1 # 1초 걸린다.\n",
    "            if cacheSize > 0: # 만약 캐시사이즈가 0보다 클 때\n",
    "                cache.remove(city)\n",
    "                cache.append(city)\n",
    "                # 캐시에서 LRU로 제거되는 순서를 가장 후순위로 바꿔준다.\n",
    "        else: # cache miss\n",
    "            answer += 5 # 5초 걸린다.\n",
    "            if cacheSize > 0: # 캐시사이즈가 0보다 크면\n",
    "                cache.append(city) # 캐시에 도시를 넣는다.\n",
    "        if len(cache) > cacheSize: # 만약 캐시가 넘친다면\n",
    "            cache = cache[-cacheSize:] # 캐시의 LRU를 빼준다.\n",
    "    return answer # 답 반환"
   ]
  },
  {
   "cell_type": "code",
   "execution_count": 2,
   "metadata": {
    "scrolled": true
   },
   "outputs": [],
   "source": [
    "cacheSize = 3\n",
    "cities = [\"Jeju\", \"Pangyo\", \"Seoul\", \"NewYork\", \"LA\", \"Jeju\", \"Pangyo\", \"Seoul\", \"NewYork\", \"LA\"]"
   ]
  },
  {
   "cell_type": "code",
   "execution_count": 3,
   "metadata": {},
   "outputs": [
    {
     "data": {
      "text/plain": [
       "50"
      ]
     },
     "execution_count": 3,
     "metadata": {},
     "output_type": "execute_result"
    }
   ],
   "source": [
    "solution(cacheSize, cities)"
   ]
  },
  {
   "cell_type": "code",
   "execution_count": 4,
   "metadata": {},
   "outputs": [],
   "source": [
    "cacheSize = 3\n",
    "cities = [\"Jeju\", \"Pangyo\", \"Seoul\", \"Jeju\", \"Pangyo\", \"Seoul\", \"Jeju\", \"Pangyo\", \"Seoul\"]"
   ]
  },
  {
   "cell_type": "code",
   "execution_count": 5,
   "metadata": {},
   "outputs": [
    {
     "data": {
      "text/plain": [
       "21"
      ]
     },
     "execution_count": 5,
     "metadata": {},
     "output_type": "execute_result"
    }
   ],
   "source": [
    "solution(cacheSize, cities)"
   ]
  },
  {
   "cell_type": "code",
   "execution_count": 6,
   "metadata": {},
   "outputs": [],
   "source": [
    "cacheSize = 2\n",
    "cities = [\"Jeju\", \"Pangyo\", \"Seoul\", \"NewYork\", \"LA\", \"SanFrancisco\", \"Seoul\", \"Rome\", \"Paris\", \"Jeju\", \"NewYork\", \"Rome\"]"
   ]
  },
  {
   "cell_type": "code",
   "execution_count": 7,
   "metadata": {},
   "outputs": [
    {
     "data": {
      "text/plain": [
       "60"
      ]
     },
     "execution_count": 7,
     "metadata": {},
     "output_type": "execute_result"
    }
   ],
   "source": [
    "solution(cacheSize, cities)"
   ]
  },
  {
   "cell_type": "code",
   "execution_count": 8,
   "metadata": {},
   "outputs": [],
   "source": [
    "cacheSize = 5\n",
    "cities = [\"Jeju\", \"Pangyo\", \"Seoul\", \"NewYork\", \"LA\", \"SanFrancisco\", \"Seoul\", \"Rome\", \"Paris\", \"Jeju\", \"NewYork\", \"Rome\"]"
   ]
  },
  {
   "cell_type": "code",
   "execution_count": 9,
   "metadata": {},
   "outputs": [
    {
     "data": {
      "text/plain": [
       "52"
      ]
     },
     "execution_count": 9,
     "metadata": {},
     "output_type": "execute_result"
    }
   ],
   "source": [
    "solution(cacheSize, cities)"
   ]
  },
  {
   "cell_type": "code",
   "execution_count": 10,
   "metadata": {},
   "outputs": [],
   "source": [
    "cacheSize = 2\n",
    "cities = [\"Jeju\", \"Pangyo\", \"NewYork\", \"newyork\"]"
   ]
  },
  {
   "cell_type": "code",
   "execution_count": 11,
   "metadata": {},
   "outputs": [
    {
     "data": {
      "text/plain": [
       "16"
      ]
     },
     "execution_count": 11,
     "metadata": {},
     "output_type": "execute_result"
    }
   ],
   "source": [
    "solution(cacheSize, cities)"
   ]
  },
  {
   "cell_type": "code",
   "execution_count": 12,
   "metadata": {},
   "outputs": [],
   "source": [
    "cacheSize = 0\n",
    "cities = [\"Jeju\", \"Pangyo\", \"Seoul\", \"NewYork\", \"LA\"]"
   ]
  },
  {
   "cell_type": "code",
   "execution_count": 13,
   "metadata": {},
   "outputs": [
    {
     "data": {
      "text/plain": [
       "25"
      ]
     },
     "execution_count": 13,
     "metadata": {},
     "output_type": "execute_result"
    }
   ],
   "source": [
    "solution(cacheSize, cities)"
   ]
  }
 ],
 "metadata": {
  "kernelspec": {
   "display_name": "Python 3",
   "language": "python",
   "name": "python3"
  },
  "language_info": {
   "codemirror_mode": {
    "name": "ipython",
    "version": 3
   },
   "file_extension": ".py",
   "mimetype": "text/x-python",
   "name": "python",
   "nbconvert_exporter": "python",
   "pygments_lexer": "ipython3",
   "version": "3.6.9"
  }
 },
 "nbformat": 4,
 "nbformat_minor": 2
}
