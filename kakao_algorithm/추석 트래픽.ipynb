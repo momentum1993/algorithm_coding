{
 "cells": [
  {
   "cell_type": "markdown",
   "metadata": {},
   "source": [
    "# 추석 트래픽"
   ]
  },
  {
   "cell_type": "markdown",
   "metadata": {},
   "source": [
    "[2018 카카오 블라인드 '추석 트래픽' 문제 링크](https://programmers.co.kr/learn/courses/30/lessons/17676)"
   ]
  },
  {
   "cell_type": "markdown",
   "metadata": {},
   "source": [
    "###  문제  \n",
    "이번 추석에도 시스템 장애가 없는 명절을 보내고 싶은 어피치는 서버를 증설해야 할지 고민이다. 장애 대비용 서버 증설 여부를 결정하기 위해 작년 추석 기간인 9월 15일 로그 데이터를 분석한 후 초당 최대 처리량을 계산해보기로 했다. 초당 최대 처리량은 요청의 응답 완료 여부에 관계없이 임의 시간부터 1초(=1,000밀리초)간 처리하는 요청의 최대 개수를 의미한다.  \n",
    "  \n",
    "### 입력 형식  \n",
    "- solution 함수에 전달되는 lines 배열은 N(1 ≦ N ≦ 2,000)개의 로그 문자열로 되어 있으며, 각 로그 문자열마다 요청에 대한 응답완료시간 S와 처리시간 T가 공백으로 구분되어 있다.  \n",
    "- 응답완료시간 S는 작년 추석인 2016년 9월 15일만 포함하여 고정 길이 2016-09-15 hh:mm:ss.sss 형식으로 되어 있다.  \n",
    "- 처리시간 T는 0.1s, 0.312s, 2s 와 같이 최대 소수점 셋째 자리까지 기록하며 뒤에는 초 단위를 의미하는 s로 끝난다.  \n",
    "- 예를 들어, 로그 문자열 2016-09-15 03:10:33.020 0.011s은 2016년 9월 15일 오전 3시 10분 **33.010초**부터 2016년 9월 15일 오전 3시 10분 **33.020초**까지 **0.011초** 동안 처리된 요청을 의미한다. (처리시간은 시작시간과 끝시간을 포함)  \n",
    "- 서버에는 타임아웃이 3초로 적용되어 있기 때문에 처리시간은 0.001 ≦ T ≦ 3.000이다. \n",
    "- lines 배열은 응답완료시간 S를 기준으로 오름차순 정렬되어 있다.  \n",
    "  \n",
    "### 출력 형식   \n",
    "- solution 함수에서는 로그 데이터 lines 배열에 대해 초당 최대 처리량을 리턴한다.  \n",
    "  "
   ]
  },
  {
   "cell_type": "code",
   "execution_count": 1,
   "metadata": {},
   "outputs": [],
   "source": [
    "def solution(lines):\n",
    "    traffics = [] # 트래픽 구간 리스트\n",
    "    time_stamp = set() # 확인할 time stamp\n",
    "    answer = 0 # 답\n",
    "    \n",
    "    for i in lines: # 모든 트래픽 로그에 대해서\n",
    "        log_split = i.split()\n",
    "        t = 0\n",
    "        for time in [float(x) for x in log_split[1].split(\":\")]:\n",
    "            t = t*60 + time\n",
    "            # 초 기준으로 시간을 기록한다.\n",
    "        s, e = round((t - float(log_split[2][:-1]) + 0.001), 3), round(t,3)\n",
    "        # [트래픽 시작, 트래픽 끝]\n",
    "        traffics.append((s, e))\n",
    "        # 트래픽 구간 저장\n",
    "        time_stamp.add(s)\n",
    "        time_stamp.add(e)\n",
    "        # 초당 트래픽을 확인할 시간대 저장\n",
    "    time_stamp = sorted(list(time_stamp))\n",
    "    # 트래픽 확인 시간을 오름차순으로 정렬\n",
    "    \n",
    "    for i in time_stamp: # 모든 체크포인트에 대해서\n",
    "        traffic_per_time = 0\n",
    "        for start, end in traffics: # 모든 트래픽을 확인\n",
    "            if i <= start < i+1 or i <= end < i+1 or (start <= i and i+1 <= end):\n",
    "            # 해당 체크포인트부터 시작해서 1초동안 실행된 모든 트래픽을 더해준다.\n",
    "                traffic_per_time += 1\n",
    "        answer = max(answer, traffic_per_time)\n",
    "        # 그리고 초당 트래픽의 최대값을 구해준다.\n",
    "    return answer # 답 반환"
   ]
  },
  {
   "cell_type": "code",
   "execution_count": 2,
   "metadata": {},
   "outputs": [],
   "source": [
    "lines = [\"2016-09-15 01:00:04.001 2.0s\",\n",
    "\"2016-09-15 01:00:07.000 2s\"]"
   ]
  },
  {
   "cell_type": "code",
   "execution_count": 3,
   "metadata": {},
   "outputs": [
    {
     "data": {
      "text/plain": [
       "1"
      ]
     },
     "execution_count": 3,
     "metadata": {},
     "output_type": "execute_result"
    }
   ],
   "source": [
    "solution(lines)"
   ]
  },
  {
   "cell_type": "code",
   "execution_count": 4,
   "metadata": {},
   "outputs": [],
   "source": [
    "lines = [\"2016-09-15 01:00:04.002 2.0s\",\n",
    "\"2016-09-15 01:00:07.000 2s\"\n",
    "]"
   ]
  },
  {
   "cell_type": "code",
   "execution_count": 5,
   "metadata": {
    "scrolled": true
   },
   "outputs": [
    {
     "data": {
      "text/plain": [
       "2"
      ]
     },
     "execution_count": 5,
     "metadata": {},
     "output_type": "execute_result"
    }
   ],
   "source": [
    "solution(lines)"
   ]
  },
  {
   "cell_type": "code",
   "execution_count": 6,
   "metadata": {},
   "outputs": [],
   "source": [
    "lines = [\"2016-09-15 20:59:57.421 0.351s\",\n",
    "\"2016-09-15 20:59:58.233 1.181s\",\n",
    "\"2016-09-15 20:59:58.299 0.8s\",\n",
    "\"2016-09-15 20:59:58.688 1.041s\",\n",
    "\"2016-09-15 20:59:59.591 1.412s\",\n",
    "\"2016-09-15 21:00:00.464 1.466s\",\n",
    "\"2016-09-15 21:00:00.741 1.581s\",\n",
    "\"2016-09-15 21:00:00.748 2.31s\",\n",
    "\"2016-09-15 21:00:00.966 0.381s\",\n",
    "\"2016-09-15 21:00:02.066 2.62s\"]"
   ]
  },
  {
   "cell_type": "code",
   "execution_count": 7,
   "metadata": {
    "scrolled": true
   },
   "outputs": [
    {
     "data": {
      "text/plain": [
       "7"
      ]
     },
     "execution_count": 7,
     "metadata": {},
     "output_type": "execute_result"
    }
   ],
   "source": [
    "solution(lines)"
   ]
  }
 ],
 "metadata": {
  "kernelspec": {
   "display_name": "Python 3",
   "language": "python",
   "name": "python3"
  },
  "language_info": {
   "codemirror_mode": {
    "name": "ipython",
    "version": 3
   },
   "file_extension": ".py",
   "mimetype": "text/x-python",
   "name": "python",
   "nbconvert_exporter": "python",
   "pygments_lexer": "ipython3",
   "version": "3.6.9"
  }
 },
 "nbformat": 4,
 "nbformat_minor": 2
}
