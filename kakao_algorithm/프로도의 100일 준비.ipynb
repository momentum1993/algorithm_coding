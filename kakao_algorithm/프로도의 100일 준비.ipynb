{
 "cells": [
  {
   "cell_type": "markdown",
   "metadata": {},
   "source": [
    "# 프로도의 100일 준비  "
   ]
  },
  {
   "cell_type": "markdown",
   "metadata": {},
   "source": [
    "[2018 카카오 코드 페스티벌 '프로도의 100일 준비' 문제 링크](https://www.acmicpc.net/problem/15958)  "
   ]
  },
  {
   "cell_type": "markdown",
   "metadata": {},
   "source": [
    "### 문제    \n",
    "![](https://upload.acmicpc.net/0cde0119-15f2-44c4-8877-ac18fa466109/-/preview/)  \n",
    "프로도와 네오는 곧 100일을 맞이한다. 100일이 되는 날 아무것도 하지 않았을 때 후폭풍을 도저히 감당할 자신이 없었던 프로도는 네오를 위한 작은 이벤트를 준비하기로 했다. 모든 것은 준비가 되었고 이제 종이를 잘라서 “LOVE” 라는 글자를 만드는 일만 남았다. 하지만 급하게 준비하는 바람에 ‘O’, ‘V’, ‘E’ 를 잘라낼 때 엉망으로 종이를 사용해버렸고, 남은 종이는 <그림 1>과 같은 히스토그램 모양의 직각다각형이 되어버렸다. 일이 이렇게 되어버리자 프로도는 이왕이면 자신의 사랑만큼이나 큰 ‘L’자를 잘라내고 싶어졌다. 다음은 종이의 형태에 대한 설명이다.  \n",
    "  \n",
    "- 은 종이는 각 변이 x축 또는 y축에 평행한 히스토그램 모양의 직각다각형이다. 이를 잘 잘라서 L-모양 직각다각형을 만들려고 한다.  \n",
    "- L-모양 직각다각형이란 꼭짓점의 수가 4 또는 6이고 각 변이 모두 x축 또는 y축에 평행한 직각다각형을 의미한다.  \n",
    "    - 참고로, 꼭짓점의 수가 4인 직각다각형은 직사각형이다. 직사각형 모서리에서 조그만 직사각형을 오려내면 ‘L’ 자를 만들 수 있다.  \n",
    "    \n",
    "예를 들어, 주어진 색종이가 <그림 1>에서 보인 것과 같을 때, <그림 2>. <그림 3>. <그림 4>는 서로 다른 L-모양 직각다각형을 어떻게 만들 수 있는지 보여준다. 물론 이 외에도 훨씬 더 많은 방법이 있다.  \n",
    "  \n",
    "![](https://upload.acmicpc.net/5ca77026-4b50-4df8-a33b-1d9b217dbe73/-/preview/)  \n",
    "![](https://upload.acmicpc.net/068ad1ce-40a6-42d4-8849-0dd101c8a1c9/-/preview/)  \n",
    "![](https://upload.acmicpc.net/7d51d774-eecb-48e4-a0b1-4ad43189446b/-/preview/)  \n",
    "![](https://upload.acmicpc.net/90acee90-4ecc-44d8-b6e7-36781535376f/-/preview/)  \n",
    "  \n",
    "이렇게 사용하고 남은 종이가 히스토그램 모양의 직각다각형일 때, 여기서 면적이 가장 큰 L-모양 직각다각형을 구해서 프로도를 도와주자.  \n",
    "  \n",
    "### 입력  \n",
    "입력의 첫째 줄에는 직각다각형의 꼭짓점의 개수 N(4 ≤ N ≤ 500,000)이 주어진다. 이어지는 N줄 각각엔 직각다각형 꼭짓점의 좌표를 나타내는 정수 (x, y) (0 ≤ x, y ≤ 109)가 공백을 사이에 두고 주어진다. 입력 다각형의 시작점은 원점 (0,0)이고, 꼭짓점이 시계방향 순서로 주어진다. 즉, 연속하는 두 개의 꼭짓점은 직각다각형의 한 선분을 이루며, x좌표는 단조증가한다. 참고로, 시작점과 끝점만 y좌표가 0이다. 연속하는 세 점이 일직선에 있는 경우는 없다.  \n",
    "  \n",
    "### 출력  \n",
    "주어지는 직각다각형 모양의 종이로부터 만들 수 있는 L-모양 직각다각형 중 면적이 가장 큰 것을 구하여 그것의 면적을 한 줄에 출력한다.  "
   ]
  },
  {
   "cell_type": "code",
   "execution_count": 2,
   "metadata": {},
   "outputs": [
    {
     "name": "stdout",
     "output_type": "stream",
     "text": [
      "8\n",
      "0 0\n",
      "0 100\n",
      "100 100\n",
      "100 50\n",
      "125 50\n",
      "125 60\n",
      "150 60\n",
      "150 0\n",
      "12500\n"
     ]
    }
   ],
   "source": [
    "N = int(input())\n",
    "max_val = 0\n",
    "locations = []\n",
    "\n",
    "def init(tree, start, end, figures, node=1): # 구간 트리 초기화\n",
    "    if start  == end:\n",
    "        tree[node-1] = figures[start][2] # 해당하는 위치에서의 최소 높이\n",
    "        return tree[node-1]\n",
    "    mid = (start + end) // 2 # 중간값\n",
    "    tree[node-1] = min(init(tree, start, mid, figures, node*2),init(tree, mid+1, end, figures, node*2+1))\n",
    "    # 구간 내에서의 최소값\n",
    "    return tree[node-1]\n",
    "\n",
    "def find(tree, start, end, range_start, range_end, node=1): # 구간 트리에서 구간의 최소값 찾기\n",
    "    if start == end or (range_start == start and range_end == end): # 만약 찾는 구간이라면\n",
    "        return tree[node-1] # 바로 반환\n",
    "    mid = (start + end) // 2 # 중간값\n",
    "    answer = 0\n",
    "    if range_start > mid: # mid보다 큰 인덱스 구간을 원할 때\n",
    "        answer = find(tree, mid+1, end, range_start, range_end, node*2+1)\n",
    "    elif range_end <= mid: # mid보다 작은 인덱스 구간을 원할 때\n",
    "        answer = find(tree, start, mid, range_start, range_end, node*2)\n",
    "    else: # mid가 원하는 구간 사이에 껴있을 때\n",
    "        answer = min(find(tree, start, mid, range_start, mid, node*2), find(tree, mid+1, end, mid+1, range_end, node*2+1))\n",
    "    return answer # 답 반환\n",
    "\n",
    "def solution():\n",
    "    for _ in range(N):\n",
    "        x, y = tuple(int(x) for x in input().split())\n",
    "        locations.append((y, x)) # 입력 받음\n",
    "\n",
    "    current_y = locations[0][0]\n",
    "    current_x = locations[0][1]\n",
    "    width_start, width_end, height = 0, 0, 0\n",
    "    figures = []\n",
    "\n",
    "    for y, x in locations[1:]:\n",
    "        if y > current_y: # 위로 향하는 모서리\n",
    "            height = y\n",
    "        elif y < current_y: # 아래로 향하는 모서리\n",
    "            height = y\n",
    "        elif x > current_x: # 오른쪽으로 향하는 모서리\n",
    "            width_end = x \n",
    "            width_start = current_x\n",
    "            figures.append((width_start, width_end, height))\n",
    "        current_y = y\n",
    "        current_x = x\n",
    "    # (구간 시작, 구간 끝, 높이)를 저장\n",
    "\n",
    "    max_val = 0 # 답\n",
    "    segment_tree = [-1 for _ in range(len(figures)*4)] # 구간 트리\n",
    "    start = 0 # 시작\n",
    "    end = len(figures)-1 # 끝\n",
    "\n",
    "    init(segment_tree, start, end, figures) # 구간 트리 생성\n",
    "    for i in range(len(figures)): # 모든 구간 정보들에 대해서\n",
    "        range_start, range_end, range_hi = figures[i]\n",
    "        area = (range_end - range_start) * range_hi # 구간의 너비\n",
    "\n",
    "        if i > 0:\n",
    "            max_val = max(max_val, area + (find(segment_tree, start, end, start, i-1) * range_start))\n",
    "            # ┙자 형태의 면적 너비\n",
    "        if i < end:\n",
    "            max_val = max(max_val, area + (find(segment_tree, start, end, i+1, end) * (figures[end][1]-range_end)))\n",
    "            # L 자 형태의 면적 너비\n",
    "    return max_val # 최대값 반환\n",
    "    \n",
    "if __name__ == '__main__':\n",
    "    print(solution()) # 최대값 출력"
   ]
  }
 ],
 "metadata": {
  "kernelspec": {
   "display_name": "Python 3",
   "language": "python",
   "name": "python3"
  },
  "language_info": {
   "codemirror_mode": {
    "name": "ipython",
    "version": 3
   },
   "file_extension": ".py",
   "mimetype": "text/x-python",
   "name": "python",
   "nbconvert_exporter": "python",
   "pygments_lexer": "ipython3",
   "version": "3.6.9"
  }
 },
 "nbformat": 4,
 "nbformat_minor": 2
}
