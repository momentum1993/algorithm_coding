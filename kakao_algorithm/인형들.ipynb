{
 "cells": [
  {
   "cell_type": "markdown",
   "metadata": {},
   "source": [
    "# 인형들"
   ]
  },
  {
   "cell_type": "markdown",
   "metadata": {},
   "source": [
    "[2018 카카오 코드 페스티벌 '인형들' 문제 링크](https://www.acmicpc.net/problem/15954)  "
   ]
  },
  {
   "cell_type": "markdown",
   "metadata": {},
   "source": [
    "### 문제    \n",
    "![](https://upload.acmicpc.net/291e743c-cfa6-4b5d-a4db-b8c2a1143179/-/preview/)\n",
    "카카오프렌즈 스토어에서는 N종류의 인형을 팔고 있다. N개의 인형들 중에서는 잘 팔리는 인형과 그렇지 않은 인형들이 섞여 있어서 잘 팔리는 인형은 상대적으로 사람들이 많이 볼 수 있는 곳에 배치하고, 잘 팔리지 않는 인형은 상대적으로 사람들이 적게 볼 수 있는 곳에 배치한다. 그러므로 배치된 곳이 가까운 두 인형은 상대적으로 판매량이 비슷하다고 할 수 있다.  \n",
    "  \n",
    "좋은 배치를 정하기 위해서 어느 날, 여러 명의 사람들을 대상으로 인형의 선호도를 조사하였다. 조사 결과 각 인형에 대해서 선호하는 사람의 수를 모두 구하였고, 그에 따라 인형의 배치를 정하려고 한다.  \n",
    "  \n",
    "카카오프렌즈 스토어를 관리하는 브라이언은 어떠한 특정한 곳에 인형들을 배치하고자 하는데, 그곳에 인형들을 선택하는 방법은 다음과 같다:  \n",
    "  \n",
    "먼저 비슷한 인형이 가깝게 위치하도록 서로 다른 N개의 인형을 종류당 한 개씩 일렬로 배치한다.  \n",
    "그 후, 선호하는 사람의 수의 표준편차가 최소가 되는, K개 이상의 연속된 위치에 있는 인형들을 선택하여 그들을 같은 곳에 배치한다.  \n",
    "위의 방법으로 인형들을 선택했을 때, 선택된 인형들의 선호하는 사람의 수의 표준편차를 구하여라.  \n",
    "  \n",
    "N개의 수 a1, a2, …, aN이 주어져 있을 때, 통계학에서 (산술) 평균은 (a1 + a2 + … + aN) / N 으로 정의한다. 이를 m으로 정의하자. 또한, 분산은 ((a1 - m)2 + (a2 - m)2 + … + (aN - m)2) / N으로 정의하고, 표준 편차는 분산의 음이 아닌 제곱근으로 정의한다.  \n",
    "  \n",
    "### 입력  \n",
    "첫 번째 줄에 N과 K가 주어진다. N은 1 이상 500 이하의 정수이고, K는 1 이상 N 이하의 정수이다.  \n",
    "  \n",
    "두 번째 줄에는 N개의 정수가 입력되며, 이는 인형이 일렬로 나열된 순서대로 인형을 선호하는 사람의 수이다. 각 수는 모두 106 이하의 음이 아닌 정수이다.  \n",
    "  \n",
    "### 출력  \n",
    "선택된 인형들을 선호하는 사람의 수의 표준 편차를 출력한다. 출력한 결과와 실제 답을 비교하였을 때의 상대/절대 오차가 10-6 이하인 경우에만 정답으로 인정한다.    "
   ]
  },
  {
   "cell_type": "code",
   "execution_count": 22,
   "metadata": {
    "scrolled": false
   },
   "outputs": [
    {
     "name": "stdout",
     "output_type": "stream",
     "text": [
      "5 3\n",
      "1 2 3 4 5\n",
      "0.816496580927726\n"
     ]
    }
   ],
   "source": [
    "import math\n",
    "\n",
    "N, K =  tuple(int(x) for x in input().split())\n",
    "priorities = [int(x) for x in input().split()]\n",
    "answer = []\n",
    "for i in range(N-K+1): # K 크기만큼 인형들의 선호도에 대해서 표준편차 계산\n",
    "    m = sum(priorities[i:i+K]) / K # i ~ i+K까지의 선호도 평균\n",
    "    dispersion = sum([pow(x-m,2) for x in priorities[i:i+K]]) / K\n",
    "    # (선호도 - 평균)^2 의 합 / 선호도 개수 -> 분산값\n",
    "    answer.append(math.sqrt(dispersion)) # 표준편차값 저장\n",
    "print(min(answer)) # 계산된 표준편차값 중에 최소값 출력"
   ]
  },
  {
   "cell_type": "code",
   "execution_count": 23,
   "metadata": {
    "scrolled": false
   },
   "outputs": [
    {
     "name": "stdout",
     "output_type": "stream",
     "text": [
      "10 3\n",
      "1 4 1 5 9 2 6 5 3 5\n",
      "0.9428090415820634\n"
     ]
    }
   ],
   "source": [
    "import math\n",
    "\n",
    "N, K =  tuple(int(x) for x in input().split())\n",
    "priorities = [int(x) for x in input().split()]\n",
    "answer = []\n",
    "for i in range(N-K+1):\n",
    "    m = sum(priorities[i:i+K]) / K\n",
    "    dispersion = sum([pow(x-m,2) for x in priorities[i:i+K]]) / K\n",
    "    answer.append(math.sqrt(dispersion))\n",
    "print(min(answer))"
   ]
  }
 ],
 "metadata": {
  "kernelspec": {
   "display_name": "Python 3",
   "language": "python",
   "name": "python3"
  },
  "language_info": {
   "codemirror_mode": {
    "name": "ipython",
    "version": 3
   },
   "file_extension": ".py",
   "mimetype": "text/x-python",
   "name": "python",
   "nbconvert_exporter": "python",
   "pygments_lexer": "ipython3",
   "version": "3.6.9"
  }
 },
 "nbformat": 4,
 "nbformat_minor": 2
}
