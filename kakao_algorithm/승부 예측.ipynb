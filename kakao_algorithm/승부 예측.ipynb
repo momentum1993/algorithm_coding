{
 "cells": [
  {
   "cell_type": "markdown",
   "metadata": {},
   "source": [
    "# 승부 예측  "
   ]
  },
  {
   "cell_type": "markdown",
   "metadata": {},
   "source": [
    "[2018 카카오 코드 페스티벌 '승부 예측' 문제 링크](https://www.acmicpc.net/problem/15997)"
   ]
  },
  {
   "cell_type": "markdown",
   "metadata": {},
   "source": [
    "### 문제    \n",
    "심심했던 무지와 콘은 TV를 보다가, 대한민국 선수단이 실시간으로 출전하고 있는 경기를 보게 되었다.  \n",
    "  \n",
    "![](https://upload.acmicpc.net/bb60ed3b-d0a3-4c0e-ae8b-b02f40c870f9/-/preview/)  \n",
    "  \n",
    "지금 보고 있는 경기는 조별리그가 진행 중인데, 대한민국이 속한 조는 총 4개 국가가 참가하여 경기가 진행되고 있다.  \n",
    "  \n",
    "조별리그의 규칙은 다음과 같다.  \n",
    "  \n",
    "- 4개의 팀이 조별리그를 진행한다.  \n",
    "- 한 팀은 자신을 제외한 모든 상대방과 한 번씩, 총 3번의 경기를 치른다.\n",
    "- 경기의 승자는 승점 3점을 받고 비기는 경우 서로 승점 1점을 받는다. 지는 경우에는 승점을 받지 않는다.\n",
    "- 조별리그를 모두 치른 후 승점 순으로 순위를 정하는데 승점이 같을 시에는 추첨으로 순위를 정하며, 추첨은 공평하게 진행된다. 순위를 정한 후 상위 2팀은 다음 라운드로 진출한다.  \n",
    "  \n",
    "전문가들은 조별 리그의 6경기 전체에 대해서 어떤 팀이 승리할 확률, 비길 확률, 패배할 확률을 예측하였다. 무지와 콘은 모든 경기가 독립적으로 진행되었을 때 (어떠한 경기의 결과가 다른 경기의 결과에 영향을 주지 않음), 전문가들의 예상대로 진행된다면 각 팀이 조별리그를 통과하여 다음 라운드로 진출할 확률이 궁금해졌다. 하지만 무지와 콘은 직접 확률을 계산하지 못했고, 여러분들에게 도움을 요청하였다. 무지와 콘을 도와 이 문제를 해결해보자!  \n",
    "  \n",
    "### 입력  \n",
    "첫 번째 줄에 조별리그를 진행할 국가명 네 개가 공백으로 구분되어 주어진다. 주어지는 모든 국가명은 알파벳 대문자로만 구성된 길이가 1 이상 10 이하인 문자열이다.\n",
    "두 번째 줄부터 일곱 번째 줄까지는 A B W D L 순으로 주어지는데, 전문가들의 예측에 따르면 A와 B가 경기를 진행했을 때 A가 승리할 확률은 W, 비길 확률은 D, 질 확률은 L이라는 의미이다.  \n",
    "A, B는 각각 첫 번째 줄에 있는 국가명 중 하나이고, A와 B가 같은 경우는 주어지지 않는다. 또한 W, D, L은 최대 소수점 세 자리까지 주어지며, W + D + L = 1이 보장된다.  \n",
    "  \n",
    "### 출력\n",
    "i 번째 줄에, i 번째로 입력받은 국가가 다음 라운드에 진출할 확률을 출력한다.  \n",
    "  \n",
    "출력한 결과와 실제 답을 비교하였을 때의 상대 오차 또는 절대 오차가 10-6 이하인 경우에만 정답으로 인정한다.  "
   ]
  },
  {
   "cell_type": "code",
   "execution_count": 1,
   "metadata": {
    "scrolled": true
   },
   "outputs": [
    {
     "name": "stdout",
     "output_type": "stream",
     "text": [
      "input:\n",
      "KOREA CCC BBB AAA\n",
      "KOREA CCC 1.0 0.0 0.0\n",
      "AAA BBB 0.428 0.144 0.428\n",
      "AAA KOREA 0.0 0.0 1.0\n",
      "CCC BBB 0.0 0.0 1.0\n",
      "KOREA BBB 1.0 0.0 0.0\n",
      "CCC AAA 0.0 0.0 1.0\n",
      "\n",
      "output:\n",
      "1.0\n",
      "0\n",
      "0.5\n",
      "0.5\n"
     ]
    }
   ],
   "source": [
    "from collections import Counter\n",
    "\n",
    "def solution(rate, current_point, rate_step_forward, a=0, b=1, current_rate=1):\n",
    "    if a == 2 and b == 4: # 만약 모든 경기를 다 치룬 경우\n",
    "        c = dict(Counter(current_point))\n",
    "        values = []\n",
    "        num = 0\n",
    "        for k in sorted(c.keys(), reverse=True): \n",
    "            num += c[k]\n",
    "            values.append(k)\n",
    "            if num >= 2:\n",
    "                break\n",
    "        # 상위 라운드에 진출할 수 있는 승점을 기록\n",
    "        for i in range(len(current_point)):\n",
    "            if current_point[i] in values: # 만약 상위 라운드에 진출할 수 있는 점수라면\n",
    "                rate_step_forward[i] += current_rate / c[current_point[i]]\n",
    "                # 현재의 결과물이 도출되기 위한 확률 / 동일한 점수를 지니는 팀의 개수 값을 더해준다.\n",
    "        return\n",
    "    if b == 4:\n",
    "        a += 1\n",
    "        b = a + 1\n",
    "    # 현재 비교할 팀 인덱스 조정\n",
    "    for i in range(3): # 현재 경기의 승무패에 대해서\n",
    "        if rate[a][b][i] == 0: # 확률이 0인 경우는 무시\n",
    "            continue\n",
    "        a_prize, b_prize = 0, 0\n",
    "        if i == 0:\n",
    "            a_prize += 3\n",
    "        elif i == 1:\n",
    "            a_prize += 1\n",
    "            b_prize += 1\n",
    "        else:\n",
    "            b_prize += 3\n",
    "        # 승.무.패 경우에 대한 승점 부여\n",
    "        current_point[a] += a_prize\n",
    "        current_point[b] += b_prize\n",
    "        solution(rate, current_point, rate_step_forward, a, b+1, current_rate*rate[a][b][i])\n",
    "        # 현재 경기 결과가 되기 위한 퍼센트 반영 및 다음 경기에 대한 확률 계산 진행\n",
    "        current_point[a] -= a_prize\n",
    "        current_point[b] -= b_prize\n",
    "\n",
    "teams = input(\"input:\\n\").split() # 전체 팀 입력\n",
    "rate = [[[0 for _ in range(3)] for _ in range(4)] for _ in range(4)]\n",
    "# 팀 간의 승부결과에 대한 예측된 비율\n",
    "for _ in range(6): # 모든 팀간의 승부에 대해\n",
    "    a,b,w,d,l = input().split()\n",
    "    idx_a = teams.index(a) \n",
    "    idx_b = teams.index(b)\n",
    "    rate[idx_a][idx_b][0] = float(w)\n",
    "    rate[idx_a][idx_b][1] = float(d)\n",
    "    rate[idx_a][idx_b][2] = float(l)\n",
    "    rate[idx_b][idx_a][0] = float(l)\n",
    "    rate[idx_b][idx_a][1] = float(d)\n",
    "    rate[idx_b][idx_a][2] = float(w)\n",
    "    # 해당하는 팀과 경기 결과에 대한 확률 저장 \n",
    "\n",
    "rate_step_forward = [0 for _ in range(4)] \n",
    "current_point = [0 for _ in range(4)] \n",
    "solution(rate, current_point, rate_step_forward) \n",
    "# 각 팀의 다음 라운드 진출 확률 계산 \n",
    "print(\"\\noutput:\")\n",
    "for r in rate_step_forward:\n",
    "    print(r)\n",
    "    # 확률을 출력"
   ]
  }
 ],
 "metadata": {
  "kernelspec": {
   "display_name": "Python 3",
   "language": "python",
   "name": "python3"
  },
  "language_info": {
   "codemirror_mode": {
    "name": "ipython",
    "version": 3
   },
   "file_extension": ".py",
   "mimetype": "text/x-python",
   "name": "python",
   "nbconvert_exporter": "python",
   "pygments_lexer": "ipython3",
   "version": "3.6.9"
  }
 },
 "nbformat": 4,
 "nbformat_minor": 2
}
