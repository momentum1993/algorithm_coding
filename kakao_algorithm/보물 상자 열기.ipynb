{
 "cells": [
  {
   "cell_type": "markdown",
   "metadata": {},
   "source": [
    "# 보물 상자 열기"
   ]
  },
  {
   "cell_type": "markdown",
   "metadata": {},
   "source": [
    "[2018 카카오 코드 페스티벌 '보물 상자 열기' 문제 링크](https://www.acmicpc.net/problem/16001)"
   ]
  },
  {
   "cell_type": "markdown",
   "metadata": {},
   "source": [
    "### 문제    \n",
    "어피치는 전설 속의 보물을 찾기 위해 여행을 떠났고, 여러 관문을 돌파한 끝에 보물이 들어 있으리라 추정되는 상자를 찾았다. 하지만 그 상자는 잠금이 걸려 있었고, 거기에는 “상자를 열려면 상자 아래의 글자들을 잘 바꾸어 앞으로 읽으나 뒤로 읽으나 똑같아지도록 하라”라는 글귀가 쓰여 있었다.  \n",
    "  \n",
    "![](https://upload.acmicpc.net/e9644285-f6a0-4f8c-afe0-0dcd811149cb/-/preview/) \n",
    "  \n",
    "상자 근처를 탐색해 보니 상자 아래에 알파벳이 쓰여 있는 석판 여러 장이 일렬로 놓여 있었다. 또한 상자의 주위에는 알파벳이 쓰여 있는 석판이 매우 많이 있었다. 아무래도 석판들을 잘 교체하여 상자 아래 일렬로 놓인 석판들을 회문(앞에서 뒤로 읽으나 뒤에서 앞으로 읽으나 똑같은 낱말이나 숫자 또는 문장)으로 만들면 상자가 열리는 듯하다. 어피치는 체력이 얼마 없기 때문에, 소모하는 체력을 최소로 하여 보물을 얻고자 한다. 각 석판은 교체하는 데 소모되는 체력이 다르다. 또한, 한 번 이동하는 데 c 만큼 체력이 소모된다. 즉, 이전 위치가 i 번째 석판이었는데 이번에 j 번째 석판을 교체하고자 한다면 그 위치까지 이동하는 동안 c * |j - i| 의 체력이 소모된다. N 개의 석판에 대해, 각각의 석판이 있는 위치에서 시작할 때 보물을 얻기 위해 소모되는 최소 체력을 구하시오.  \n",
    "  \n",
    "### 입력  \n",
    "첫 줄에 테스트 케이스의 개수 T 가 주어진다. (1 ≤ T ≤ 100,000)  \n",
    "  \n",
    "다음 줄부터 T 개의 테스트 케이스가 다음과 같은 형식으로 주어진다.  \n",
    "  \n",
    "첫째 줄에 상자 아래 석판의 개수 N(1 ≤ N ≤ 1,000,000)과 한 칸 이동할 때 소모되는 체력 c 가 주어진다. (1 ≤ c ≤ 109)  \n",
    "  \n",
    "둘째 줄에 길이 N 인 문자열이 주어진다. 문자열의 i 번째 문자는 i 번째 석판에 쓰여 있는 문자를 나타낸다. 각 문자는 알파벳 대문자이다.  \n",
    "  \n",
    "셋째 줄에는 N 개의 수가 주어진다. i 번째 수는 i 번째 석판을 교체하는 데 소모되는 체력을 나타낸다. 하나의 석판을 교체할 때 소모되는 체력은 1 이상 109 이하이다.  \n",
    "  \n",
    "주어지는 모든 N 의 합은 1,000,000을 초과하지 않는다.  \n",
    "  \n",
    "### 출력  \n",
    "각 테스트 케이스에 대해, 각 석판이 있는 위치에서 시작했을 때 어피치가 소모해야 하는 최소 체력을 공백을 사이에 두고 한 줄로 출력한다.  "
   ]
  },
  {
   "cell_type": "code",
   "execution_count": 3,
   "metadata": {},
   "outputs": [
    {
     "name": "stdout",
     "output_type": "stream",
     "text": [
      "Testcases: 2\n",
      "\n",
      "Input\n",
      "N, c: 5 1\n",
      "string: ABCDE\n",
      "HP_consumption: 7 1 4 5 1\n",
      "\n",
      "Output\n",
      "6 5 6 6 5 \n",
      "\n",
      "Input\n",
      "N, c: 5 1\n",
      "string: ABCDA\n",
      "HP_consumption: 7 1 4 5 1\n",
      "\n",
      "Output\n",
      "2 1 2 3 4 \n"
     ]
    }
   ],
   "source": [
    "T = int(input(\"Testcases: \")) # 테스트케이스 개수\n",
    "\n",
    "def palindrome_cost(string, c, hp_consumption, location): \n",
    "    # location 위치에서의 palindrome을 만들기위해 소모되는 최소 체력\n",
    "    changed = False\n",
    "    answer = pow(10,10) # 최소 소모 체력\n",
    "    length = len(string) # 문자열 길이\n",
    "    costs = [-1 for _ in range(length)] # 현재 위치에서 각 인덱스의 석판을 바꾸는데 드는 체력\n",
    "    for i in range((length//2)+1):\n",
    "        if string[i] != string[length-i-1]: # 만약 바꿔야하는 문자가 있다면\n",
    "            changed = True\n",
    "            cost_1 = (abs(i - location) * c) + hp_consumption[i]\n",
    "            cost_2 = (abs((length-1-i) - location) * c) + hp_consumption[length-1-i]\n",
    "            # 바꾸는데 드는 체력 계산\n",
    "            if cost_1 <= cost_2:\n",
    "                costs[i] = cost_1\n",
    "            if cost_1 >= cost_2:\n",
    "                costs[length-1-i] = cost_2\n",
    "    if not changed: # 만약 문자열이 palindrome이라면 0 반환\n",
    "        return 0\n",
    "    for i in range(length): # 문자열에 대해서\n",
    "        if costs[i] != -1: # 바꿔야하는 문자들에 대해서\n",
    "            temp = string[i]\n",
    "            string[i] = string[length-i-1]\n",
    "            answer = min(answer, costs[i]+palindrome_cost(string, c, hp_consumption, i))\n",
    "            # 재귀적으로 palindrome이 될 때까지의 체력 소모량을 모두 구해서 그 중에 최소값을 구한다.\n",
    "            string[i] = temp\n",
    "    return answer # 최소 체력 소모량 반환\n",
    "\n",
    "while T>0: # 입력한 테스트케이스에 대해서\n",
    "    print(\"\\nInput\")\n",
    "    N, c = tuple(int(x) for x in input(\"N, c: \").split()) # 문자열 길이, 한칸 이동 시에 소모 체력\n",
    "    string = list(input(\"string: \")) # 문자열\n",
    "    hp_consumption = list(int(x) for x in input(\"HP_consumption: \").split()) # 각 인덱스별 석판 변경 시 체력 소모\n",
    "    print(\"\\nOutput\")\n",
    "    for i in range(N):\n",
    "        print(palindrome_cost(string, c, hp_consumption, i), end=\" \")\n",
    "        # i의 인덱스에서 처음 시작해서 석판을 옮길 때의 최소 소모 체력\n",
    "    print()\n",
    "    T -= 1\n",
    "\n"
   ]
  }
 ],
 "metadata": {
  "kernelspec": {
   "display_name": "Python 3",
   "language": "python",
   "name": "python3"
  },
  "language_info": {
   "codemirror_mode": {
    "name": "ipython",
    "version": 3
   },
   "file_extension": ".py",
   "mimetype": "text/x-python",
   "name": "python",
   "nbconvert_exporter": "python",
   "pygments_lexer": "ipython3",
   "version": "3.6.9"
  }
 },
 "nbformat": 4,
 "nbformat_minor": 2
}
