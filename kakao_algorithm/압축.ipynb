{
 "cells": [
  {
   "cell_type": "markdown",
   "metadata": {},
   "source": [
    "# 압축"
   ]
  },
  {
   "cell_type": "markdown",
   "metadata": {},
   "source": [
    "[2018 카카오 블라인드 '압축' 문제 링크](https://programmers.co.kr/learn/courses/30/lessons/17684)  "
   ]
  },
  {
   "cell_type": "markdown",
   "metadata": {},
   "source": [
    "### 문제    \n",
    "신입사원 어피치는 카카오톡으로 전송되는 메시지를 압축하여 전송 효율을 높이는 업무를 맡게 되었다. 메시지를 압축하더라도 전달되는 정보가 바뀌어서는 안 되므로, 압축 전의 정보를 완벽하게 복원 가능한 무손실 압축 알고리즘을 구현하기로 했다.  \n",
    "  \n",
    "어피치는 여러 압축 알고리즘 중에서 성능이 좋고 구현이 간단한 LZW(Lempel–Ziv–Welch) 압축을 구현하기로 했다. LZW 압축은 1983년 발표된 알고리즘으로, 이미지 파일 포맷인 GIF 등 다양한 응용에서 사용되었다.  \n",
    "  \n",
    "LZW 압축은 다음 과정을 거친다.  \n",
    "  \n",
    "1. 길이가 1인 모든 단어를 포함하도록 사전을 초기화한다.  \n",
    "2. 사전에서 현재 입력과 일치하는 가장 긴 문자열 w를 찾는다.  \n",
    "3. w에 해당하는 사전의 색인 번호를 출력하고, 입력에서 w를 제거한다.  \n",
    "4. 입력에서 처리되지 않은 다음 글자가 남아있다면(c), w+c에 해당하는 단어를 사전에 등록한다.  \n",
    "5. 단계 2로 돌아간다.  \n",
    "  \n",
    "압축 알고리즘이 영문 대문자만 처리한다고 할 때, 사전은 다음과 같이 초기화된다. 사전의 색인 번호는 정수값으로 주어지며, 1부터 시작한다고 하자.  \n",
    "  \n",
    "|색인 번호|\t1|\t2|\t3|\t...|\t24|\t25|\t26|\n",
    "|:---:|:---:|:---:|:---:|:---:|:---:|:---:|:---:|\n",
    "|단어|\tA|\tB|\tC|\t...|\tX|\tY|\tZ|  \n",
    "  \n",
    "예를 들어 입력으로 KAKAO가 들어온다고 하자.  \n",
    "  \n",
    "1. 현재 사전에는 KAKAO의 첫 글자 K는 등록되어 있으나, 두 번째 글자까지인 KA는 없으므로, 첫 글자 K에 해당하는 색인 번호 11을 출력하고, 다음 글자인 A를 포함한 KA를 사전에 27 번째로 등록한다.  \n",
    "2. 두 번째 글자 A는 사전에 있으나, 세 번째 글자까지인 AK는 사전에 없으므로, A의 색인 번호 1을 출력하고, AK를 사전에 28 번째로 등록한다.  \n",
    "3. 세 번째 글자에서 시작하는 KA가 사전에 있으므로, KA에 해당하는 색인 번호 27을 출력하고, 다음 글자 O를 포함한 KAO를 29 번째로 등록한다.  \n",
    "4. 마지막으로 처리되지 않은 글자 O에 해당하는 색인 번호 15를 출력한다.  \n",
    "  \n",
    "|현재 입력(w)|\t다음 글자(c)|\t출력|\t사전 추가(w+c)|\n",
    "|:---:|:---:|:---:|:---:|\n",
    "|K|\tA|\t11|\t27: KA|\n",
    "|A|\tK|\t1|\t28: AK|\n",
    "|KA|\tO|\t27|\t29: KAO|\n",
    "|O|\t|15||\t\n",
    "  \n",
    "이 과정을 거쳐 다섯 글자의 문장 KAKAO가 4개의 색인 번호 [11, 1, 27, 15]로 압축된다.  \n",
    "  \n",
    "입력으로 TOBEORNOTTOBEORTOBEORNOT가 들어오면 다음과 같이 압축이 진행된다.  \n",
    "  \n",
    "|현재 입력(w)|\t다음 글자(c)|\t출력|\t사전 추가(w+c)|\n",
    "|:---:|:---:|:---:|:---:|\n",
    "|T|\tO|\t20\t|27: TO|\n",
    "|O|\tB|\t15\t|28: OB|\n",
    "|B|\tE|\t2\t|29: BE|\n",
    "|E|\tO|\t5\t|30: EO|\n",
    "|O|\tR|\t15\t|31: OR|\n",
    "|R|\tN|\t18\t|32: RN|\n",
    "|N|\tO|\t14\t|33: NO|\n",
    "|O|\tT|\t15\t|34: OT|\n",
    "|T|\tT|\t20|\t35: TT|\n",
    "|TO|\tB|\t27\t|36: TOB|\n",
    "|BE|\tO|\t29\t|37: BEO|\n",
    "|OR|\tT|\t31\t|38: ORT|\n",
    "|TOB|\tE|\t36\t|39: TOBE|\n",
    "|EO|\tR|\t30\t|40: EOR|\n",
    "|RN|\tO|\t32|\t41: RNO|\n",
    "|OT|\t\t|34|  |\n",
    "  \n",
    "### 입력 형식\n",
    "입력으로 영문 대문자로만 이뤄진 문자열 msg가 주어진다. msg의 길이는 1 글자 이상, 1000 글자 이하이다.  \n",
    "  \n",
    "### 출력 형식  \n",
    "주어진 문자열을 압축한 후의 사전 색인 번호를 배열로 출력하라.  \n",
    "  "
   ]
  },
  {
   "cell_type": "code",
   "execution_count": 1,
   "metadata": {},
   "outputs": [],
   "source": [
    "def solution(msg):\n",
    "    answer = [] # 답\n",
    "    indexing = [] # 단어장\n",
    "    for alphabet in \"ABCDEFGHIJKLMNOPQRSTUVWXYZ\":\n",
    "        indexing.append(alphabet)\n",
    "        # 알파벳 대문자를 단어장에 모두 넣어줌\n",
    "    max_len = 1 # 현재 단어장 내에 있는 단어의 최대 길이\n",
    "    offset = 0 # 현재 탐색 중인 오프셋\n",
    "    \n",
    "    while offset < len(msg): # 끝까지 탐색할 때까지\n",
    "        for end in range(min(len(msg), offset+max_len), offset, -1):\n",
    "        # 단어장 단어 최대 길이만큼의 input으로 시작해서 길이를 1씩 줄이며 탐색\n",
    "            if msg[offset:end] in indexing: # 만약 해당 단어가 단어장에 있을 때\n",
    "                answer.append(indexing.index(msg[offset:end])+1) # 답에 추가\n",
    "                if end+1 <= len(msg):\n",
    "                    indexing.append(msg[offset:end+1]) # 새로운 단어를 단어장에 추가\n",
    "                    max_len = max(max_len, end+1-offset) # 단어의 최대 길이 갱신\n",
    "                offset = end # 답에 입력된 부분을 제외하고 다시 탐색\n",
    "                break\n",
    "    return answer # 답 반환"
   ]
  },
  {
   "cell_type": "code",
   "execution_count": 2,
   "metadata": {},
   "outputs": [],
   "source": [
    "msg = \"KAKAO\""
   ]
  },
  {
   "cell_type": "code",
   "execution_count": 3,
   "metadata": {},
   "outputs": [
    {
     "data": {
      "text/plain": [
       "[11, 1, 27, 15]"
      ]
     },
     "execution_count": 3,
     "metadata": {},
     "output_type": "execute_result"
    }
   ],
   "source": [
    "solution(msg)"
   ]
  },
  {
   "cell_type": "code",
   "execution_count": 4,
   "metadata": {},
   "outputs": [],
   "source": [
    "msg = \"TOBEORNOTTOBEORTOBEORNOT\""
   ]
  },
  {
   "cell_type": "code",
   "execution_count": 5,
   "metadata": {},
   "outputs": [
    {
     "data": {
      "text/plain": [
       "[20, 15, 2, 5, 15, 18, 14, 15, 20, 27, 29, 31, 36, 30, 32, 34]"
      ]
     },
     "execution_count": 5,
     "metadata": {},
     "output_type": "execute_result"
    }
   ],
   "source": [
    "solution(msg)"
   ]
  },
  {
   "cell_type": "code",
   "execution_count": 6,
   "metadata": {},
   "outputs": [],
   "source": [
    "msg = \"ABABABABABABABAB\""
   ]
  },
  {
   "cell_type": "code",
   "execution_count": 7,
   "metadata": {},
   "outputs": [
    {
     "data": {
      "text/plain": [
       "[1, 2, 27, 29, 28, 31, 30]"
      ]
     },
     "execution_count": 7,
     "metadata": {},
     "output_type": "execute_result"
    }
   ],
   "source": [
    "solution(msg)"
   ]
  }
 ],
 "metadata": {
  "kernelspec": {
   "display_name": "Python 3",
   "language": "python",
   "name": "python3"
  },
  "language_info": {
   "codemirror_mode": {
    "name": "ipython",
    "version": 3
   },
   "file_extension": ".py",
   "mimetype": "text/x-python",
   "name": "python",
   "nbconvert_exporter": "python",
   "pygments_lexer": "ipython3",
   "version": "3.6.9"
  }
 },
 "nbformat": 4,
 "nbformat_minor": 2
}
