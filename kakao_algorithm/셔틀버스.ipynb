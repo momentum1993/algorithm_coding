{
 "cells": [
  {
   "cell_type": "markdown",
   "metadata": {},
   "source": [
    "# 셔틀버스"
   ]
  },
  {
   "cell_type": "markdown",
   "metadata": {},
   "source": [
    "[2018 카카오 공채 '셔틀버스' 문제 링크](https://programmers.co.kr/learn/courses/30/lessons/17678)"
   ]
  },
  {
   "cell_type": "markdown",
   "metadata": {},
   "source": [
    "### 문제  \n",
    "카카오에서는 무료 셔틀버스를 운행하기 때문에 판교역에서 편하게 사무실로 올 수 있다. 카카오의 직원은 서로를 '크루'라고 부르는데, 아침마다 많은 크루들이 이 셔틀을 이용하여 출근한다.  \n",
    "  \n",
    "이 문제에서는 편의를 위해 셔틀은 다음과 같은 규칙으로 운행한다고 가정하자.  \n",
    "  \n",
    "- 셔틀은 09:00부터 총 n회 t분 간격으로 역에 도착하며, 하나의 셔틀에는 최대 m명의 승객이 탈 수 있다.  \n",
    "- 셔틀은 도착했을 때 도착한 순간에 대기열에 선 크루까지 포함해서 대기 순서대로 태우고 바로 출발한다. 예를 들어 09:00에 도착한 셔틀은 자리가 있다면 09:00에 줄을 선 크루도 탈 수 있다.  \n",
    "  \n",
    "일찍 나와서 셔틀을 기다리는 것이 귀찮았던 콘은, 일주일간의 집요한 관찰 끝에 어떤 크루가 몇 시에 셔틀 대기열에 도착하는지 알아냈다. 콘이 셔틀을 타고 사무실로 갈 수 있는 도착 시각 중 제일 늦은 시각을 구하여라.  \n",
    "  \n",
    "단, 콘은 게으르기 때문에 같은 시각에 도착한 크루 중 대기열에서 제일 뒤에 선다. 또한, 모든 크루는 잠을 자야 하므로 23:59에 집에 돌아간다. 따라서 어떤 크루도 다음날 셔틀을 타는 일은 없다.  \n",
    "  \n",
    "### 입력 형식  \n",
    "셔틀 운행 횟수 n, 셔틀 운행 간격 t, 한 셔틀에 탈 수 있는 최대 크루 수 m, 크루가 대기열에 도착하는 시각을 모은 배열 timetable이 입력으로 주어진다.  \n",
    "  \n",
    "- 0 ＜ n ≦ 10\n",
    "- 0 ＜ t ≦ 60\n",
    "- 0 ＜ m ≦ 45\n",
    "- timetable은 최소 길이 1이고 최대 길이 2000인 배열로, 하루 동안 크루가 대기열에 도착하는 시각이 HH:MM 형식으로 이루어져 있다.  \n",
    "- 크루의 도착 시각 HH:MM은 00:01에서 23:59 사이이다.  \n",
    "  \n",
    "### 출력 형식  \n",
    "콘이 무사히 셔틀을 타고 사무실로 갈 수 있는 제일 늦은 도착 시각을 출력한다. 도착 시각은 HH:MM 형식이며, 00:00에서 23:59 사이의 값이 될 수 있다.  "
   ]
  },
  {
   "cell_type": "code",
   "execution_count": 1,
   "metadata": {},
   "outputs": [],
   "source": [
    "def solution(n, t, m, timetable):\n",
    "    timetable.sort() # 시간을 오름차순으로 정렬\n",
    "    answer = '' # 정답\n",
    "    time = 9 * 60 # 현재 시각 09:00\n",
    "    for num in range(n): # 모든 셔틀버스 운행 횟수만큼\n",
    "        m_num = 0 # 현재 셔틀버스에 타는 크루 명 수\n",
    "        for crew in timetable: # 크루들에 대해서 현재 셔틀버스에 탈 수 있는지 확인\n",
    "            hour, minute = tuple(crew.split(\":\"))\n",
    "            crew_time = int(hour) * 60 + int(minute)\n",
    "            # 크루가 대기하는 시간\n",
    "            if time >= crew_time: # 만약 크루가 도착한 시간이 셔틀버스 도착시간 이하라면\n",
    "                m_num += 1 # 탈 수 있다.\n",
    "            if m_num == m: # 만약 셔틀버스의 정원이 찼다면 다음 셔틀버스로 넘어감\n",
    "                break\n",
    "        timetable = timetable[m_num:] # 셔틀버스에 탄 크루의 정보는 지운다.\n",
    "        if m_num < m: # 만약 셔틀버스 정원이 남았다면\n",
    "            answer = str(time // 60).zfill(2) + ':' + str(time % 60).zfill(2)\n",
    "            # 현재 셔틀버스의 시간에 맞춰서 콘이 탄다.\n",
    "        else: # 정원이 남지 않는다면\n",
    "            answer = str((crew_time-1) // 60).zfill(2) + ':' + str((crew_time-1) % 60).zfill(2)\n",
    "            # 현재 셔틀버스를 가장 늦게 탄 사람보다 1분 일찍 콘이 와야한다.\n",
    "        time += t # 다음 셔틀버스의 시간만큼 합해줌\n",
    "    return answer # 답 반환"
   ]
  },
  {
   "cell_type": "code",
   "execution_count": 2,
   "metadata": {},
   "outputs": [],
   "source": [
    "n,t,m = 1,1,5\n",
    "timetable = [\"08:00\", \"08:01\", \"08:02\", \"08:03\"]"
   ]
  },
  {
   "cell_type": "code",
   "execution_count": 3,
   "metadata": {},
   "outputs": [
    {
     "data": {
      "text/plain": [
       "'09:00'"
      ]
     },
     "execution_count": 3,
     "metadata": {},
     "output_type": "execute_result"
    }
   ],
   "source": [
    "solution(n, t, m, timetable)"
   ]
  },
  {
   "cell_type": "code",
   "execution_count": 4,
   "metadata": {},
   "outputs": [],
   "source": [
    "n,t,m=2,10,2\n",
    "timetable = [\"09:10\", \"09:09\", \"08:00\"]"
   ]
  },
  {
   "cell_type": "code",
   "execution_count": 5,
   "metadata": {},
   "outputs": [
    {
     "data": {
      "text/plain": [
       "'09:09'"
      ]
     },
     "execution_count": 5,
     "metadata": {},
     "output_type": "execute_result"
    }
   ],
   "source": [
    "solution(n, t, m, timetable)"
   ]
  },
  {
   "cell_type": "code",
   "execution_count": 6,
   "metadata": {},
   "outputs": [],
   "source": [
    "n,t,m=2,1,2\n",
    "timetable = [\"09:00\", \"09:00\", \"09:00\", \"09:00\"]"
   ]
  },
  {
   "cell_type": "code",
   "execution_count": 7,
   "metadata": {},
   "outputs": [
    {
     "data": {
      "text/plain": [
       "'08:59'"
      ]
     },
     "execution_count": 7,
     "metadata": {},
     "output_type": "execute_result"
    }
   ],
   "source": [
    "solution(n, t, m, timetable)"
   ]
  },
  {
   "cell_type": "code",
   "execution_count": 8,
   "metadata": {},
   "outputs": [],
   "source": [
    "n,t,m=1,1,5\n",
    "timetable = [\"00:01\", \"00:01\", \"00:01\", \"00:01\", \"00:01\"]"
   ]
  },
  {
   "cell_type": "code",
   "execution_count": 9,
   "metadata": {},
   "outputs": [
    {
     "data": {
      "text/plain": [
       "'00:00'"
      ]
     },
     "execution_count": 9,
     "metadata": {},
     "output_type": "execute_result"
    }
   ],
   "source": [
    "solution(n, t, m, timetable)"
   ]
  },
  {
   "cell_type": "code",
   "execution_count": 10,
   "metadata": {},
   "outputs": [],
   "source": [
    "n,t,m=1,1,1\n",
    "timetable = [\"23:59\"]"
   ]
  },
  {
   "cell_type": "code",
   "execution_count": 11,
   "metadata": {},
   "outputs": [
    {
     "data": {
      "text/plain": [
       "'09:00'"
      ]
     },
     "execution_count": 11,
     "metadata": {},
     "output_type": "execute_result"
    }
   ],
   "source": [
    "solution(n, t, m, timetable)"
   ]
  },
  {
   "cell_type": "code",
   "execution_count": 12,
   "metadata": {},
   "outputs": [],
   "source": [
    "n,t,m=10, 60, 45\n",
    "timetable = [\"23:59\",\"23:59\", \"23:59\", \"23:59\", \"23:59\", \"23:59\", \"23:59\", \"23:59\", \"23:59\", \"23:59\", \"23:59\", \"23:59\", \"23:59\", \"23:59\", \"23:59\", \"23:59\"]"
   ]
  },
  {
   "cell_type": "code",
   "execution_count": 13,
   "metadata": {},
   "outputs": [
    {
     "data": {
      "text/plain": [
       "'18:00'"
      ]
     },
     "execution_count": 13,
     "metadata": {},
     "output_type": "execute_result"
    }
   ],
   "source": [
    "solution(n, t, m, timetable)"
   ]
  }
 ],
 "metadata": {
  "kernelspec": {
   "display_name": "Python 3",
   "language": "python",
   "name": "python3"
  },
  "language_info": {
   "codemirror_mode": {
    "name": "ipython",
    "version": 3
   },
   "file_extension": ".py",
   "mimetype": "text/x-python",
   "name": "python",
   "nbconvert_exporter": "python",
   "pygments_lexer": "ipython3",
   "version": "3.6.9"
  }
 },
 "nbformat": 4,
 "nbformat_minor": 2
}
