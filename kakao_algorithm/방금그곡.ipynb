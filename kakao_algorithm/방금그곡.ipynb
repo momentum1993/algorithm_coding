{
 "cells": [
  {
   "cell_type": "markdown",
   "metadata": {},
   "source": [
    "# 방금그곡"
   ]
  },
  {
   "cell_type": "markdown",
   "metadata": {},
   "source": [
    "[2018 카카오 블라인드 '방금그곡' 문제 링크](https://programmers.co.kr/learn/courses/30/lessons/17683)  "
   ]
  },
  {
   "cell_type": "markdown",
   "metadata": {},
   "source": [
    "### 문제    \n",
    "라디오를 자주 듣는 네오는 라디오에서 방금 나왔던 음악이 무슨 음악인지 궁금해질 때가 많다. 그럴 때 네오는 다음 포털의 '방금그곡' 서비스를 이용하곤 한다. 방금그곡에서는 TV, 라디오 등에서 나온 음악에 관해 제목 등의 정보를 제공하는 서비스이다.  \n",
    "  \n",
    "네오는 자신이 기억한 멜로디를 가지고 방금그곡을 이용해 음악을 찾는다. 그런데 라디오 방송에서는 한 음악을 반복해서 재생할 때도 있어서 네오가 기억하고 있는 멜로디는 음악 끝부분과 처음 부분이 이어서 재생된 멜로디일 수도 있다. 반대로, 한 음악을 중간에 끊을 경우 원본 음악에는 네오가 기억한 멜로디가 들어있다 해도 그 곡이 네오가 들은 곡이 아닐 수도 있다. 그렇기 때문에 네오는 기억한 멜로디를 재생 시간과 제공된 악보를 직접 보면서 비교하려고 한다. 다음과 같은 가정을 할 때 네오가 찾으려는 음악의 제목을 구하여라.  \n",
    "  \n",
    "- 방금그곡 서비스에서는 음악 제목, 재생이 시작되고 끝난 시각, 악보를 제공한다.  \n",
    "- 네오가 기억한 멜로디와 악보에 사용되는 음은 C, C#, D, D#, E, F, F#, G, G#, A, A#, B 12개이다.  \n",
    "- 각 음은 1분에 1개씩 재생된다. 음악은 반드시 처음부터 재생되며 음악 길이보다 재생된 시간이 길 때는 음악이 끊김 없이 처음부터 반복해서 재생된다. 음악 길이보다 재생된 시간이 짧을 때는 처음부터 재생 시간만큼만 재생된다.  \n",
    "- 음악이 00:00를 넘겨서까지 재생되는 일은 없다.  \n",
    "- 조건이 일치하는 음악이 여러 개일 때에는 라디오에서 재생된 시간이 제일 긴 음악 제목을 반환한다. 재생된 시간도 같을 경우 먼저 입력된 음악 제목을 반환한다.  \n",
    "- 조건이 일치하는 음악이 없을 때에는 \"(None)\"을 반환한다.  \n",
    "  \n",
    "### 입력 형식  \n",
    "입력으로 네오가 기억한 멜로디를 담은 문자열 m과 방송된 곡의 정보를 담고 있는 배열 musicinfos가 주어진다.  \n",
    "  \n",
    "- m은 음 1개 이상 1439개 이하로 구성되어 있다.  \n",
    "- musicinfos는 100개 이하의 곡 정보를 담고 있는 배열로, 각각의 곡 정보는 음악이 시작한 시각, 끝난 시각, 음악 제목, 악보 정보가 ','로 구분된 문자열이다.  \n",
    "    - 음악의 시작 시각과 끝난 시각은 24시간 HH:MM 형식이다.  \n",
    "    - 음악 제목은 ',' 이외의 출력 가능한 문자로 표현된 길이 1 이상 64 이하의 문자열이다.  \n",
    "    - 악보 정보는 음 1개 이상 1439개 이하로 구성되어 있다.  \n",
    "  \n",
    "### 출력 형식  \n",
    "조건과 일치하는 음악 제목을 출력한다.  \n",
    "  "
   ]
  },
  {
   "cell_type": "code",
   "execution_count": 1,
   "metadata": {},
   "outputs": [],
   "source": [
    "import re\n",
    "\n",
    "def solution(m, musicinfos): \n",
    "    answer = '' # 답\n",
    "    answer_time = 0 # 답 음악의 재생시간\n",
    "    \n",
    "    p = re.compile(r'[A-G]#?') # A~G멜로디에 #이 1개 이하인 패턴\n",
    "    for info in musicinfos: # 모든 음악 정보에 대해서\n",
    "        start, end, title, melody = info.split(\",\") # ,를 기준으로 나누어서 시작, 끝, 제목, 멜로디 저장\n",
    "        start = int(start[:2]) * 60 + int(start[3:]) # 시작 시각 (분)\n",
    "        end = int(end[:2]) * 60 + int(end[3:]) # 끝 시각 (분)\n",
    "        time = end - start # 재생 시간\n",
    "        if time < 0: # 끝 시각이 자정을 넘겨 진행될 경우\n",
    "            time = 24 * 60 - start # 자정부터 시작 시각까지의 시간을 재생시간으로 둔다.\n",
    "        melody = re.findall(p, melody) # 패턴에 맞는 각 멜로디들을 리스트로 저장\n",
    "        played_melody = '' # 재생시간동안 재생된 멜로디들\n",
    "        for t in range(time): # 재생시간동안\n",
    "            played_melody += melody[t%len(melody)] # 멜로디 저장\n",
    "        if re.search(m+r'[^#]', played_melody+' '): # 만약 재생된 멜로디가 기억하고 있는 멜로디와 맞다면\n",
    "            if answer_time < time: # 기록 순, 재생시간이 긴 순\n",
    "                answer_time = time\n",
    "                answer = title # 답 노래 제목 저장\n",
    "    if answer == '': # 만약 맞는 답이 없다면\n",
    "        return '(None)' # '(None)' 반환\n",
    "    return answer # 답 반환"
   ]
  },
  {
   "cell_type": "code",
   "execution_count": 2,
   "metadata": {},
   "outputs": [],
   "source": [
    "m = \"ABCDEFG\"\n",
    "musicinfos = [\"12:00,12:14,HELLO,CDEFGAB\", \"13:00,13:05,WORLD,ABCDEF\"]"
   ]
  },
  {
   "cell_type": "code",
   "execution_count": 3,
   "metadata": {},
   "outputs": [
    {
     "data": {
      "text/plain": [
       "'HELLO'"
      ]
     },
     "execution_count": 3,
     "metadata": {},
     "output_type": "execute_result"
    }
   ],
   "source": [
    "solution(m, musicinfos)"
   ]
  },
  {
   "cell_type": "code",
   "execution_count": 4,
   "metadata": {},
   "outputs": [],
   "source": [
    "m = \"CC#BCC#BCC#BCC#B\"\n",
    "musicinfos = [\"03:00,03:30,FOO,CC#B\", \"04:00,04:08,BAR,CC#BCC#BCC#B\"]"
   ]
  },
  {
   "cell_type": "code",
   "execution_count": 5,
   "metadata": {},
   "outputs": [
    {
     "data": {
      "text/plain": [
       "'FOO'"
      ]
     },
     "execution_count": 5,
     "metadata": {},
     "output_type": "execute_result"
    }
   ],
   "source": [
    "solution(m, musicinfos)"
   ]
  },
  {
   "cell_type": "code",
   "execution_count": 6,
   "metadata": {},
   "outputs": [],
   "source": [
    "m = \"ABC\"\n",
    "musicinfos = [\"12:00,12:14,HELLO,C#DEFGAB\", \"13:00,13:05,WORLD,ABCDEF\"]"
   ]
  },
  {
   "cell_type": "code",
   "execution_count": 7,
   "metadata": {},
   "outputs": [
    {
     "data": {
      "text/plain": [
       "'WORLD'"
      ]
     },
     "execution_count": 7,
     "metadata": {},
     "output_type": "execute_result"
    }
   ],
   "source": [
    "solution(m, musicinfos)"
   ]
  }
 ],
 "metadata": {
  "kernelspec": {
   "display_name": "Python 3",
   "language": "python",
   "name": "python3"
  },
  "language_info": {
   "codemirror_mode": {
    "name": "ipython",
    "version": 3
   },
   "file_extension": ".py",
   "mimetype": "text/x-python",
   "name": "python",
   "nbconvert_exporter": "python",
   "pygments_lexer": "ipython3",
   "version": "3.6.9"
  }
 },
 "nbformat": 4,
 "nbformat_minor": 2
}
