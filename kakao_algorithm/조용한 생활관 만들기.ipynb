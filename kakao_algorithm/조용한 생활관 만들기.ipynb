{
 "cells": [
  {
   "cell_type": "markdown",
   "metadata": {},
   "source": [
    "# 조용한 생활관 만들기"
   ]
  },
  {
   "cell_type": "markdown",
   "metadata": {},
   "source": [
    "[2018 카카오 코드 페스티벌 '조용한 생활관 만들기' 문제 링크](https://www.acmicpc.net/problem/16002)"
   ]
  },
  {
   "cell_type": "markdown",
   "metadata": {},
   "source": [
    "### 문제  \n",
    "카카오 마법 학교는 건물들의 독특한 구조로 유명한데, 그중에서도 특이한 것은 학생 생활관이다. 카카오 마법 학교의 생활관은 N 개의 건물로 이루어져 있으며, N-1 개의 도로가 건물 사이를 잇고 있다. 특이한 것은 이 도로들이 모두 일방통행이라는 것이다. 자세한 구조를 설명하자면, 생활관은 입구와 출구가 있으며, 입구에는 1번 건물이 있다. 1번 건물을 제외한 각 건물에는 그 건물로 들어오는 도로가 정확히 하나 존재하며, 1번 건물로부터 각 건물까지 일방통행 도로만을 이용해서 갈 수 있다. 그리고 모든 건물에서 출구로 가는 길이 존재하는데, 생활관 규칙이 엄격하여 밤에는 출구가 폐쇄된다.  \n",
    "  \n",
    "라이언은 카카오 마법 학교에서 코딩마법을 가르치는 교수이다. 요즘 그의 가장 큰 고민거리는 교수아파트 바로 옆에 있는 학생 생활관에서 발생하는 소음 때문에 잠을 이루지 못한다는 것이다. 생활관이 이렇게 시끄러운 이유는 많은 학생이 한 건물로 모여들기 때문이다. 라이언 교수는 두 도로를 이어서 한 도로로 만드는 ‘Union’ 마법을 이용해서 원래 서로 오고 갈 수 있던 건물들을 그렇지 못하게 만들어 학생들이 모이는 것을 방지하고자 한다. ‘Union’ 마법을 자세히 설명하면, 한 도로의 끝점과 다른 도로의 시작점이 같을 때 두 도로를 이어 붙이는 마법이다. 즉, 한 도로가 건물 x 에서 건물 y 로, 다른 도로가 건물 y 에서 건물 z 로 가는 도로일 때 ‘Union’ 마법을 사용하면 원래 있던 두 도로는 사라지고 건물 x 에서 z 로 가는 하나의 도로가 생긴다. 이때, 새 도로는 건물 y 를 지나지 않는다.  \n",
    "  \n",
    "![](https://upload.acmicpc.net/af18f5a9-22b3-46b7-a2b0-addc4a748893/-/preview/)  \n",
    "  \n",
    "라이언의 목표는 생활관의 “시끄러운 정도”를 최소화하는 것이다. 생활관의 “시끄러운 정도”는 서로 다른 건물에 사는 학생 a 와 학생 b 에 대해, 학생 a 가 사는 건물에서 학생 b 가 거주하는 건물로 가는 경로가 존재하는 (a, b) 쌍의 개수이다. 앞서 말했다시피 밤에는 출구가 폐쇄되기 때문에 출구로 나갔다가 입구로 다시 들어오는 것은 불가능하다. \n",
    "  \n",
    "라이언은 오랜 기간 마법을 수련해 무제한으로 ‘Union’ 마법을 사용할 수 있다. 이때, 생활관의 “시끄러운 정도”의 가능한 최솟값을 구해 라이언을 도와주자.  \n",
    "  \n",
    "### 입력  \n",
    "입력의 첫째 줄에는 생활관의 건물 개수 N(2 ≤ N ≤ 200,000)이 주어진다. 다음 줄에는 N-1 개의 수가 공백을 사이에 두고 주어진다.  \n",
    "  \n",
    "N-1 개의 수 중 i 번째 수는 i+1 번째 건물로 가는 일방통행 도로의 시작점에 있는 건물의 번호이다.  \n",
    "  \n",
    "다음 줄에는 각 건물에 사는 학생의 수를 나타내는 N 개의 수가 공백을 사이에 두고 주어진다. 한 건물에 사는 학생의 수는 1 이상 106 이하이다.  \n",
    "  \n",
    "### 출력  \n",
    "첫 번째 줄에 생활관의 “시끄러운 정도”의 가능한 최솟값을 출력한다.  "
   ]
  },
  {
   "cell_type": "code",
   "execution_count": 17,
   "metadata": {},
   "outputs": [
    {
     "name": "stdout",
     "output_type": "stream",
     "text": [
      "4\n",
      "1 1 2\n",
      "2 1 3 2\n",
      "\n",
      "10\n"
     ]
    }
   ],
   "source": [
    "import sys\n",
    "\n",
    "def cal_noise(N, adjacent_matrix, students, points = [0]): # 시끄러운 정도 계산 함수\n",
    "    answer = 0 # 답\n",
    "    for i in range(N):\n",
    "        if i in points: # 만약 이미 지나온 건물이라면 패스\n",
    "            continue\n",
    "        if adjacent_matrix[points[-1]][i]: # 현재 건물에서 이동하는 경로가 있다면\n",
    "            add_noise = students[0] * students[i] # 1번 건물에서 i+1번 사이의 시끄러운 정도\n",
    "            answer += add_noise + cal_noise(N, adjacent_matrix, students, points + [i])\n",
    "            # 재귀적으로 시끄러운 정도를 계산한다.\n",
    "    return answer # 답 반환\n",
    "\n",
    "def union_nodes(N, adjacent_matrix, students): # 건물 사이의 길 통합 함수\n",
    "    answer = cal_noise(N, adjacent_matrix, students) # 현 상태에서의 시끄러운 정도 계산\n",
    "    for start in range(N): # 시작점\n",
    "        for end in range(N): # 끝점\n",
    "            if start == end:\n",
    "                continue\n",
    "            if adjacent_matrix[start][end]: # 연결되는 부분이 있다면\n",
    "                for u_point in range(N): \n",
    "                    if u_point == start or u_point == end or adjacent_matrix[start][u_point]:\n",
    "                        continue\n",
    "                    if adjacent_matrix[end][u_point]: # 끝점에서 다시 연결되는 길이 있을 때\n",
    "                        adjacent_matrix[start][u_point] = 1\n",
    "                        adjacent_matrix[start][end] = 0\n",
    "                        adjacent_matrix[end][u_point] = 0\n",
    "                        answer = min(answer, union_nodes(N, adjacent_matrix, students))\n",
    "                        # start -> end -> u_point를 잇는 길을 start->u_point 길로 통합해서 재귀적으로 진행\n",
    "                        # 그 중에 최소값을 구한다.\n",
    "                        adjacent_matrix[start][u_point] = 0\n",
    "                        adjacent_matrix[start][end] = 1\n",
    "                        adjacent_matrix[end][u_point] = 1\n",
    "    return answer # 답 반환\n",
    "                        \n",
    "N = int(input()) # 건물의 개수\n",
    "start_point = list(int(x) for x in input().split()) # i+1번째 건물로 가는 시작점에 있는 건물 번호\n",
    "students = list(int(x) for x in input().split()) # 해당 건물에 있는 학생의 수\n",
    "adjacent_matrix = [[0 for _ in range(N)] for _ in range(N)] # 인접 행렬\n",
    "\n",
    "for i in range(len(start_point)):\n",
    "    adjacent_matrix[start_point[i]-1][i+1] = 1\n",
    "    # 인접행렬 초기화\n",
    "print()\n",
    "print(union_nodes(N, adjacent_matrix, students))\n",
    "# 시끄러운 정도의 최소값 출력\n",
    "    \n"
   ]
  }
 ],
 "metadata": {
  "kernelspec": {
   "display_name": "Python 3",
   "language": "python",
   "name": "python3"
  },
  "language_info": {
   "codemirror_mode": {
    "name": "ipython",
    "version": 3
   },
   "file_extension": ".py",
   "mimetype": "text/x-python",
   "name": "python",
   "nbconvert_exporter": "python",
   "pygments_lexer": "ipython3",
   "version": "3.6.9"
  }
 },
 "nbformat": 4,
 "nbformat_minor": 2
}
