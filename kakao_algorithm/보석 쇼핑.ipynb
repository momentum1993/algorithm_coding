{
 "cells": [
  {
   "cell_type": "markdown",
   "metadata": {},
   "source": [
    "\n",
    "# 헬리콥터"
   ]
  },
  {
   "cell_type": "markdown",
   "metadata": {},
   "source": [
    "[2020 카카오 인턴십 '헬리콥터' 문제 링크](https://programmers.co.kr/learn/courses/30/lessons/67258)"
   ]
  },
  {
   "cell_type": "markdown",
   "metadata": {},
   "source": [
    "### 문제  \n",
    "[본 문제는 정확성과 효율성 테스트 각각 점수가 있는 문제입니다.]  \n",
    "  \n",
    "개발자 출신으로 세계 최고의 갑부가 된 어피치는 스트레스를 받을 때면 이를 풀기 위해 오프라인 매장에 쇼핑을 하러 가곤 합니다.  \n",
    "어피치는 쇼핑을 할 때면 매장 진열대의 특정 범위의 물건들을 모두 싹쓸이 구매하는 습관이 있습니다.  \n",
    "어느 날 스트레스를 풀기 위해 보석 매장에 쇼핑을 하러 간 어피치는 이전처럼 진열대의 특정 범위의 보석을 모두 구매하되 특별히 아래 목적을 달성하고 싶었습니다.  \n",
    "진열된 모든 종류의 보석을 적어도 1개 이상 포함하는 가장 짧은 구간을 찾아서 구매  \n",
    "  \n",
    "예를 들어 아래 진열대는 4종류의 보석(RUBY, DIA, EMERALD, SAPPHIRE) 8개가 진열된 예시입니다.  \n",
    "  \n",
    "|진열대 번호|\t1|\t2|\t3|\t4|\t5|\t6|\t7|\t8|\n",
    "|:---:|:---:|:---:|:---:|:---:|:---:|:---:|:---:|:---:|\n",
    "|보석 이름|\tDIA|\tRUBY|\tRUBY|\tDIA|\tDIA|\tEMERALD|\tSAPPHIRE|\tDIA|  \n",
    "  \n",
    "진열대의 3번부터 7번까지 5개의 보석을 구매하면 모든 종류의 보석을 적어도 하나 이상씩 포함하게 됩니다.  \n",
    "  \n",
    "진열대의 3, 4, 6, 7번의 보석만 구매하는 것은 중간에 특정 구간(5번)이 빠지게 되므로 어피치의 쇼핑 습관에 맞지 않습니다.  \n",
    "  \n",
    "진열대 번호 순서대로 보석들의 이름이 저장된 배열 gems가 매개변수로 주어집니다. 이때 모든 보석을 하나 이상 포함하는 가장 짧은 구간을 찾아서 return 하도록 solution 함수를 완성해주세요.  \n",
    "가장 짧은 구간의 시작 진열대 번호와 끝 진열대 번호를 차례대로 배열에 담아서 return 하도록 하며, 만약 가장 짧은 구간이 여러 개라면 시작 진열대 번호가 가장 작은 구간을 return 합니다.  \n",
    "\n",
    "### 제한사항 \n",
    "- gems 배열의 크기는 1 이상 100,000 이하입니다.\n",
    "    - gems 배열의 각 원소는 진열대에 나열된 보석을 나타냅니다.\n",
    "    - gems 배열에는 1번 진열대부터 진열대 번호 순서대로 보석이름이 차례대로 저장되어 있습니다.\n",
    "    - gems 배열의 각 원소는 길이가 1 이상 10 이하인 알파벳 대문자로만 구성된 문자열입니다.  \n",
    "  \n",
    "### 입출력 예  \n",
    "|gems|\tresult|\n",
    "|:---:|:---:|\n",
    "|[\"DIA\", \"RUBY\", \"RUBY\", \"DIA\", \"DIA\", \"EMERALD\", \"SAPPHIRE\", \"DIA\"]|\t[3, 7]|\n",
    "|[\"AA\", \"AB\", \"AC\", \"AA\", \"AC\"]|\t[1, 3]|\n",
    "|[\"XYZ\", \"XYZ\", \"XYZ\"]|\t[1, 1]|\n",
    "|[\"ZZZ\", \"YYY\", \"NNNN\", \"YYY\", \"BBB\"]|\t[1, 5]|  "
   ]
  },
  {
   "cell_type": "code",
   "execution_count": 1,
   "metadata": {},
   "outputs": [],
   "source": [
    "def solution(gems):\n",
    "    answer = [1, len(gems)] # 처음에는 답의 범위를 [처음 인덱스, 마지막 인덱스] 로 초기화\n",
    "    gems_dict = {} # 보석에 대한 인덱스 dict\n",
    "    gems_indice = [] # 각 보석을 인덱스로 표시해놓은 리스트\n",
    "    total = 0 # 보석의 종류 개수\n",
    "    for g in gems: # 모든 보석에 대해서\n",
    "        if g in gems_dict: # 이미 사전에 있다면\n",
    "            gems_indice.append(gems_dict[g]) # 해당하는 보석의 인덱스를 리스트에 추가\n",
    "        else: # 사전에 없다면\n",
    "            gems_dict[g] = total # 보석 인덱스 설정\n",
    "            gems_indice.append(total) # 리스트에 보석 인덱스 추가\n",
    "            total += 1 # 총 보석 종류 1 증가\n",
    "    gems_count= [0 for _ in range(total)] # 탐색하는 구간에서의 종류별 보석의 개수\n",
    "    possesion = 0 # 탐색하는 구간에서 보유하고 있는 보석의 종류 개수\n",
    "    min_len = len(gems) + 1 # 모든 보석 종류를 지니고 있는 최소 탐색 구간 길이\n",
    "    l, r = 0, 0 # 탐색구간의 시작 지점, 끝지점\n",
    "    while r < len(gems): # 끝지점이 마지막 보석에 도달할 때까지\n",
    "        if gems_count[gems_indice[r]] == 0: # 만약 r번째 보석이 보유하지 않은 보석이라면\n",
    "            possesion += 1 # 보유 보석 종류 1 증가\n",
    "        gems_count[gems_indice[r]] += 1 # 해당 보석의 개수 1 증가\n",
    "        if possesion == total: # 만약 모든 보석 종류를 지닌 상태라면\n",
    "            while l <= r-(total-1): # (끝지점-총 보석 종류) 지점까지 시작 지점을 증가시켜 탐색 범위를 1씩 줄여나간다.\n",
    "                gems_count[gems_indice[l]] -= 1 # l번째 보석 보유 개수를 1개 줄임\n",
    "                if gems_count[gems_indice[l]] == 0: # 만약 l번째 보석의 보유 개수가 0이 되었다면\n",
    "                    if min_len > r - l + 1: # 그리고 현재의 탐색 구간 길이가 최소라면\n",
    "                        min_len = r - l + 1 # 구간 길이 갱신\n",
    "                        answer = [l+1, r+1] # 답 구간 갱신\n",
    "                    possesion -= 1 # 보유한 보석 종류 1 줄임\n",
    "                    l += 1 # 시작 지점 1 증가\n",
    "                    break\n",
    "                l += 1 # 시작 지점 1 증가\n",
    "        r += 1 # 끝 지점 1 증가\n",
    "    return answer # 답 반환"
   ]
  },
  {
   "cell_type": "code",
   "execution_count": 2,
   "metadata": {},
   "outputs": [
    {
     "data": {
      "text/plain": [
       "[3, 7]"
      ]
     },
     "execution_count": 2,
     "metadata": {},
     "output_type": "execute_result"
    }
   ],
   "source": [
    "gems = [\"DIA\", \"RUBY\", \"RUBY\", \"DIA\", \"DIA\", \"EMERALD\", \"SAPPHIRE\", \"DIA\"]\n",
    "solution(gems)"
   ]
  },
  {
   "cell_type": "code",
   "execution_count": 3,
   "metadata": {},
   "outputs": [
    {
     "data": {
      "text/plain": [
       "[1, 3]"
      ]
     },
     "execution_count": 3,
     "metadata": {},
     "output_type": "execute_result"
    }
   ],
   "source": [
    "gems = [\"AA\", \"AB\", \"AC\", \"AA\", \"AC\"]\n",
    "solution(gems)"
   ]
  },
  {
   "cell_type": "code",
   "execution_count": 4,
   "metadata": {},
   "outputs": [
    {
     "data": {
      "text/plain": [
       "[1, 1]"
      ]
     },
     "execution_count": 4,
     "metadata": {},
     "output_type": "execute_result"
    }
   ],
   "source": [
    "gems = [\"XYZ\", \"XYZ\", \"XYZ\"]\n",
    "solution(gems)"
   ]
  },
  {
   "cell_type": "code",
   "execution_count": 5,
   "metadata": {},
   "outputs": [
    {
     "data": {
      "text/plain": [
       "[1, 5]"
      ]
     },
     "execution_count": 5,
     "metadata": {},
     "output_type": "execute_result"
    }
   ],
   "source": [
    "gems = [\"ZZZ\", \"YYY\", \"NNNN\", \"YYY\", \"BBB\"]\n",
    "solution(gems)"
   ]
  }
 ],
 "metadata": {
  "kernelspec": {
   "display_name": "Python 3",
   "language": "python",
   "name": "python3"
  },
  "language_info": {
   "codemirror_mode": {
    "name": "ipython",
    "version": 3
   },
   "file_extension": ".py",
   "mimetype": "text/x-python",
   "name": "python",
   "nbconvert_exporter": "python",
   "pygments_lexer": "ipython3",
   "version": "3.6.9"
  }
 },
 "nbformat": 4,
 "nbformat_minor": 2
}
