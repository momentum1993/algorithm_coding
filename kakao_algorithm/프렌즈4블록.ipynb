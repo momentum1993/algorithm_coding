{
 "cells": [
  {
   "cell_type": "markdown",
   "metadata": {},
   "source": [
    "# 프렌즈4블록"
   ]
  },
  {
   "cell_type": "markdown",
   "metadata": {},
   "source": [
    "[2018 카카오 공채 '프렌즈4블록' 문제 링크](https://programmers.co.kr/learn/courses/30/lessons/17679)"
   ]
  },
  {
   "cell_type": "markdown",
   "metadata": {},
   "source": [
    "### 문제  \n",
    "블라인드 공채를 통과한 신입 사원 라이언은 신규 게임 개발 업무를 맡게 되었다. 이번에 출시할 게임 제목은 프렌즈4블록.  \n",
    "같은 모양의 카카오프렌즈 블록이 2\u0014×2 형태로 4개가 붙어있을 경우 사라지면서 점수를 얻는 게임이다.  \n",
    "  \n",
    "![](http://t1.kakaocdn.net/welcome2018/pang1.png)  \n",
    "  \n",
    "만약 판이 위와 같이 주어질 경우, 라이언이 2×2로 배치된 7개 블록과 콘이 2×2로 배치된 4개 블록이 지워진다. 같은 블록은 여러 2×2에 포함될 수 있으며, 지워지는 조건에 만족하는 2×2 모양이 여러 개 있다면 한꺼번에 지워진다.  \n",
    "  \n",
    "![](http://t1.kakaocdn.net/welcome2018/pang2.png)  \n",
    "  \n",
    "블록이 지워진 후에 위에 있는 블록이 아래로 떨어져 빈 공간을 채우게 된다.  \n",
    "  \n",
    "![](http://t1.kakaocdn.net/welcome2018/pang3.png)  \n",
    "  \n",
    "만약 빈 공간을 채운 후에 다시 2×2 형태로 같은 모양의 블록이 모이면 다시 지워지고 떨어지고를 반복하게 된다.  \n",
    "  \n",
    "![](http://t1.kakaocdn.net/welcome2018/pang4.png)  \n",
    "  \n",
    "위 초기 배치를 문자로 표시하면 아래와 같다.  \n",
    "  \n",
    "> TTTANT  \n",
    "> RRFACC  \n",
    "> RRRFCC  \n",
    "> TRRRAA  \n",
    "> TTMMMF  \n",
    "> TMMTTJ  \n",
    "  \n",
    "각 문자는 라이언(R), 무지(M), 어피치(A), 프로도(F), 네오(N), 튜브(T), 제이지(J), 콘(C)을 의미한다  \n",
    "  \n",
    "입력으로 블록의 첫 배치가 주어졌을 때, 지워지는 블록은 모두 몇 개인지 판단하는 프로그램을 제작하라.  \n",
    "  \n",
    "### 입력 형식  \n",
    "입력으로 판의 높이 m, 폭 n과 판의 배치 정보 board가 들어온다.  \n",
    "2 ≦ n, m ≦ 30  \n",
    "board는 길이 n인 문자열 m개의 배열로 주어진다. 블록을 나타내는 문자는 대문자 A에서 Z가 사용된다.  \n",
    "  \n",
    "### 출력 형식  \n",
    "입력으로 주어진 판 정보를 가지고 몇 개의 블록이 지워질지 출력하라.  "
   ]
  },
  {
   "cell_type": "code",
   "execution_count": 83,
   "metadata": {},
   "outputs": [],
   "source": [
    "def solution(m, n, board):\n",
    "    answer = 0 # 답\n",
    "    board  = [[char for char in x] for x in board]\n",
    "    # 한 문자씩 나누어서 보드 다시 재배치\n",
    "    have_to_remove = set() # 지워야하는 문자 위치 저장\n",
    "    while True:\n",
    "        have_to_remove.clear()\n",
    "        for y in range(1,m):\n",
    "            for x in range(1,n):\n",
    "                if board[y][x] != '' and board[y][x] == board[y][x-1] == board[y-1][x-1] == board[y-1][x]:\n",
    "                    have_to_remove.add((y,x))\n",
    "                    have_to_remove.add((y,x-1))\n",
    "                    have_to_remove.add((y-1,x-1))\n",
    "                    have_to_remove.add((y-1,x))\n",
    "                # 2x2를 이루는 모든 좌표 확인\n",
    "        if len(have_to_remove) == 0:\n",
    "            break\n",
    "        # 만약 지울 수 있는 좌표가 없다면 그만한다.\n",
    "            \n",
    "        answer += len(have_to_remove) # 지워야하는 좌표만큼 합\n",
    "        for y,x in have_to_remove:\n",
    "            board[y][x] = ''\n",
    "        # 지워야하는 위치에 모두 비워준다.\n",
    "            \n",
    "        for x in range(n):\n",
    "            for y in range(m-1, 0, -1):\n",
    "                if board[y][x] == '':\n",
    "                    for idx in range(y-1, -1, -1):\n",
    "                        if board[idx][x] != '':\n",
    "                            break\n",
    "                    board[y][x] = board[idx][x]\n",
    "                    board[idx][x] = ''\n",
    "        # 그리고 비워진 칸은 위의 칸에서 밑으로 내린다.\n",
    "    return answer # 답 반환"
   ]
  },
  {
   "cell_type": "code",
   "execution_count": 84,
   "metadata": {},
   "outputs": [],
   "source": [
    "m,n = 4, 5\n",
    "board = [\"CCBDE\", \"AAADE\", \"AAABF\", \"CCBBF\"]"
   ]
  },
  {
   "cell_type": "code",
   "execution_count": 85,
   "metadata": {},
   "outputs": [
    {
     "data": {
      "text/plain": [
       "14"
      ]
     },
     "execution_count": 85,
     "metadata": {},
     "output_type": "execute_result"
    }
   ],
   "source": [
    "solution(m, n, board)"
   ]
  },
  {
   "cell_type": "code",
   "execution_count": 86,
   "metadata": {},
   "outputs": [],
   "source": [
    "m,n = 6, 6\n",
    "board = [\"TTTANT\", \"RRFACC\", \"RRRFCC\", \"TRRRAA\", \"TTMMMF\", \"TMMTTJ\"]"
   ]
  },
  {
   "cell_type": "code",
   "execution_count": 87,
   "metadata": {},
   "outputs": [
    {
     "data": {
      "text/plain": [
       "15"
      ]
     },
     "execution_count": 87,
     "metadata": {},
     "output_type": "execute_result"
    }
   ],
   "source": [
    "solution(m, n, board)"
   ]
  }
 ],
 "metadata": {
  "kernelspec": {
   "display_name": "Python 3",
   "language": "python",
   "name": "python3"
  },
  "language_info": {
   "codemirror_mode": {
    "name": "ipython",
    "version": 3
   },
   "file_extension": ".py",
   "mimetype": "text/x-python",
   "name": "python",
   "nbconvert_exporter": "python",
   "pygments_lexer": "ipython3",
   "version": "3.6.9"
  }
 },
 "nbformat": 4,
 "nbformat_minor": 2
}
