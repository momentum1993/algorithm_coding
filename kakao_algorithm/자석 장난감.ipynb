{
 "cells": [
  {
   "cell_type": "markdown",
   "metadata": {},
   "source": [
    "# 자석 장난감"
   ]
  },
  {
   "cell_type": "markdown",
   "metadata": {},
   "source": [
    "[2018 카카오 코드 페스티벌 '자석 장난감' 문제 링크](https://www.acmicpc.net/problem/16003)"
   ]
  },
  {
   "cell_type": "markdown",
   "metadata": {},
   "source": [
    "### 문제  \n",
    "제이지는 리틀 프렌즈를 위한 장난감 세트를 출시했다. 이 장난감 세트에는 리틀 프렌즈 모양의 N 개의 동그란 자석과 M 개의 줄 모양의 자석이 있다. 동그란 자석은 서로 붙지 않고, 줄 모양 자석 역시 서로 붙지 않는다. 하지만 줄 모양 자석과 동그란 자석은 서로 붙기 때문에, 이 자석들을 모아두면 서로 다른 두 개의 동그란 자석을 줄 모양 자석이 연결하는 형태가 된다.  \n",
    "  \n",
    "이 장난감 세트를 가지고 노는 방법은 이렇게 연결되어있는 동그란 자석들을 하나씩 제거해가는 것이다. 어떤 동그란 자석 X 를 제거하면 X 에 붙어있는 줄 모양 자석도 모두 제거되는데, 이때 자석 X 를 제거하기 위해서는 X 와 줄 모양 자석으로 연결되어있는 다른 모든 동그란 자석들의 모든 쌍이 줄 모양 자석으로 연결되어있어야 한다.  \n",
    "  \n",
    "예를 들어, 아래 그림과 같은 자석들의 연결 상태에서는 위에서 설명한 규칙에 따라 모든 자석의 제거가 가능하다.  \n",
    "  \n",
    "![](https://upload.acmicpc.net/367f3681-bf95-4b93-826d-3d3238d7612b/-/preview/)  \n",
    "  \n",
    "아래 상태 역시 모든 자석을 제거할 수 있다. 예를 들어 무지 – 어피치 – 콘 – 튜브 – 라이언의 순서로 제거할 수도 있고 다른 순서로도 가능하다.  \n",
    "  \n",
    "![](https://upload.acmicpc.net/d0ac53f5-e392-47fd-97ab-d63f66f5a37a/-/preview/)  \n",
    "  \n",
    "하지만 아래 그림의 경우에는 불가능하다. 처음에 제거할 수 있는 자석이 라이언뿐인데, 그 후 다른 어떤 자석도 제거할 수 없기 때문이다.  \n",
    "  \n",
    "![](https://upload.acmicpc.net/0ed908a6-4f27-4e11-ba3e-c3c7cd7d95f8/-/preview/)  \n",
    "  \n",
    "제이지는 이 장난감 세트를 가지고 놀 리틀 프렌즈를 위해 자석들의 연결 상태가 모든 자석을 제거할 수 있는 방법이 있는지 알려주는 프로그램 역시 동봉하려고 한다. 제이지와 리틀 프렌즈를 위해 여러분이 그 프로그램을 작성해주자.  \n",
    "  \n",
    "### 입력  \n",
    "첫 번째 줄에 동그란 자석의 개수 N과 줄 모양 자석의 개수 M 이 주어진다. 동그란 자석은 모두 1 번부터 N 번까지 번호가 붙어 있다. (1≤N≤100,000, 1≤M≤300,000)  \n",
    "  \n",
    "이후 M 개의 줄 각각에 줄 모양 자석이 연결하는 서로 다른 두 동그란 자석의 번호가 주어진다. 동일한 동그란 자석 쌍을 연결하는 줄 모양 자석은 최대 1개이다.  \n",
    "  \n",
    "### 출력  \n",
    "입력으로 주어진 연결 상태에서 규칙에 따라 모든 자석을 제거할 수 있는 경우 첫 줄에 1을 출력하고, 다음 줄에 모든 자석이 제거되는 자석 번호의 순서를 출력한다. 가능한 순서가 여러 개이면 그 중 아무것이나 출력해도 좋다. 규칙에 따라 모든 자석을 제거할 수 없는 경우 한 줄에 0을 출력한다.  "
   ]
  },
  {
   "cell_type": "code",
   "execution_count": 20,
   "metadata": {},
   "outputs": [
    {
     "name": "stdout",
     "output_type": "stream",
     "text": [
      "5 7\n",
      "1 2\n",
      "2 3\n",
      "4 3\n",
      "1 4\n",
      "3 1\n",
      "1 5\n",
      "5 4\n",
      "1\n",
      "[5, 4, 1, 2, 3]\n"
     ]
    }
   ],
   "source": [
    "def find_cycle(N, adjacent_matrix, visited, cycle_set, curr_node, cycle): # 해당 그래프에서의 싸이클을 찾는 함수\n",
    "    for i in range(N):    \n",
    "        if i == curr_node-1 or adjacent_matrix[curr_node-1][i] == 0: # 이미 탐색한 노드이거나 연결되어 있지 않을 때 패스\n",
    "            continue\n",
    "        if i+1 == cycle[0]: # 만약 사이클의 시작점을 만났다면 (=싸이클이 형성되었다면)\n",
    "            c = tuple(sorted(cycle)) # 해당 싸이클 튜플\n",
    "            if c in cycle_set: # 이미 가진 싸이클이라면 패스\n",
    "                return\n",
    "            cycle_set.add(c) # 없다면 싸이클 추가\n",
    "        if i+1 in cycle:\n",
    "            continue\n",
    "        visited[i] = True # i+1번 노드에 방문했음을 표시\n",
    "        adjacent_matrix[curr_node-1][i] = 0\n",
    "        adjacent_matrix[i][curr_node-1] = 0\n",
    "        # 해당 노드와 연결된 줄 자석 제거\n",
    "        find_cycle(N, adjacent_matrix, visited, cycle_set, i+1, cycle+[i+1])\n",
    "        # 재귀적으로 다른 싸이클을 찾는다.\n",
    "        adjacent_matrix[curr_node-1][i] = 1\n",
    "        adjacent_matrix[i][curr_node-1] = 1\n",
    "        # 해당 노드의 줄 자석 다시 연결\n",
    "        visited[i] = False\n",
    "        # i+1번 노드에 방문하지 않았음을 표시\n",
    "    return\n",
    "\n",
    "\n",
    "N, M = tuple(int(x) for x in input().split()) # 동그란 자석 개수, 줄 모양 자석 개수\n",
    "adjacent_matrix = [[0 for _ in range(N)] for _ in range(N)] # 인접행렬\n",
    "for _ in range(M):\n",
    "    a, b = tuple(int(x) for x in input().split()) # a번 자석과 b번 자석을 잇는 줄 자석\n",
    "    adjacent_matrix[a-1][b-1] = 1\n",
    "    adjacent_matrix[b-1][a-1] = 1\n",
    "    # 인접행렬로 표현\n",
    "visited = [False for _ in range(N)] # 방문여부 판단\n",
    "cycle_set = set() # 싸이클 집합\n",
    "for i in range(N): # 모든 동그란 자석에 대해서 싸이클을 확인\n",
    "    visited[i] = True\n",
    "    find_cycle(N, adjacent_matrix, visited, cycle_set, i+1, [i+1])\n",
    "    visited[i] = False\n",
    "\n",
    "std = None\n",
    "answer = []\n",
    "for c in sorted(list(cycle_set), key=lambda x:len(x), reverse= True):\n",
    "# 크기가 큰 싸이클 순으로 모든 싸이클에 대해서\n",
    "    if std is None:\n",
    "        std = set(c)\n",
    "    else:\n",
    "        if len(std) - 1 == len(c) and std.issuperset(set(c)):\n",
    "        # 길이가 1 다르고, 한 싸이클이 다른 하나의 부분집합이 될 경우,\n",
    "        # 즉, 2개의 싸이클 사이에 다른 하나의 요소를 빼도 싸이클이 성립할 경우,\n",
    "            answer += list(set(std).difference(set(c))) # 해당 요소를 답에 더한다.\n",
    "            std = set(c)\n",
    "answer += list(std) # 그리고 나머지 노드들을 답에 추가\n",
    "if len(answer) == N and len(std) == 3: # 모든 노드 제거가 가능할 때\n",
    "    print(1)\n",
    "    print(answer) # 1과 답 출력\n",
    "else: # 노드 제거 불가할 때\n",
    "    print(0) # 0 출력"
   ]
  }
 ],
 "metadata": {
  "kernelspec": {
   "display_name": "Python 3",
   "language": "python",
   "name": "python3"
  },
  "language_info": {
   "codemirror_mode": {
    "name": "ipython",
    "version": 3
   },
   "file_extension": ".py",
   "mimetype": "text/x-python",
   "name": "python",
   "nbconvert_exporter": "python",
   "pygments_lexer": "ipython3",
   "version": "3.6.9"
  }
 },
 "nbformat": 4,
 "nbformat_minor": 2
}
