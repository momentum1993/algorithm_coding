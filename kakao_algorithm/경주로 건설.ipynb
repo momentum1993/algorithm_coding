{
 "cells": [
  {
   "cell_type": "markdown",
   "metadata": {},
   "source": [
    "\n",
    "# 경주로 건설"
   ]
  },
  {
   "cell_type": "markdown",
   "metadata": {},
   "source": [
    "[2020 카카오 인턴십 '경주로 건설' 문제 링크](https://programmers.co.kr/learn/courses/30/lessons/67259)"
   ]
  },
  {
   "cell_type": "markdown",
   "metadata": {},
   "source": [
    "### 문제  \n",
    "![](https://grepp-programmers.s3.ap-northeast-2.amazonaws.com/files/production/384b9e2a-4eb5-460d-bce2-d12359b03b14/kakao_road1.png)  \n",
    "건설회사의 설계사인 죠르디는 고객사로부터 자동차 경주로 건설에 필요한 견적을 의뢰받았습니다.  \n",
    "제공된 경주로 설계 도면에 따르면 경주로 부지는 N x N 크기의 정사각형 격자 형태이며 각 격자는 1 x 1 크기입니다.  \n",
    "설계 도면에는 각 격자의 칸은 0 또는 1 로 채워져 있으며, 0은 칸이 비어 있음을 1은 해당 칸이 벽으로 채워져 있음을 나타냅니다.  \n",
    "경주로의 출발점은 (0, 0) 칸(좌측 상단)이며, 도착점은 (N-1, N-1) 칸(우측 하단)입니다. 죠르디는 출발점인 (0, 0) 칸에서 출발한 자동차가 도착점인 (N-1, N-1) 칸까지 무사히 도달할 수 있게 중간에 끊기지 않도록 경주로를 건설해야 합니다.  \n",
    "경주로는 상, 하, 좌, 우로 인접한 두 빈 칸을 연결하여 건설할 수 있으며, 벽이 있는 칸에는 경주로를 건설할 수 없습니다.  \n",
    "이때, 인접한 두 빈 칸을 상하 또는 좌우로 연결한 경주로를 직선 도로 라고 합니다.  \n",
    "또한 두 직선 도로가 서로 직각으로 만나는 지점을 코너 라고 부릅니다.  \n",
    "건설 비용을 계산해 보니 직선 도로 하나를 만들 때는 100원이 소요되며, 코너를 하나 만들 때는 500원이 추가로 듭니다.  \n",
    "죠르디는 견적서 작성을 위해 경주로를 건설하는 데 필요한 최소 비용을 계산해야 합니다.  \n",
    "  \n",
    "예를 들어, 아래 그림은 직선 도로 6개와 코너 4개로 구성된 임의의 경주로 예시이며, 건설 비용은 6 x 100 + 4 x 500 = 2600원 입니다.  \n",
    "  \n",
    "![](https://grepp-programmers.s3.ap-northeast-2.amazonaws.com/files/production/0e0911e8-f88e-44fe-8bdc-6856a56df8e0/kakao_road2.png)  \n",
    "  \n",
    "또 다른 예로, 아래 그림은 직선 도로 4개와 코너 1개로 구성된 경주로이며, 건설 비용은 4 x 100 + 1 x 500 = 900원 입니다.  \n",
    "  \n",
    "![](https://grepp-programmers.s3.ap-northeast-2.amazonaws.com/files/production/3f5d9c5e-d7d9-4248-b111-140a0847e741/kakao_road3.png)  \n",
    "  \n",
    "도면의 상태(0은 비어 있음, 1은 벽)을 나타내는 2차원 배열 board가 매개변수로 주어질 때, 경주로를 건설하는데 필요한 최소 비용을 return 하도록 solution 함수를 완성해주세요.  \n",
    "\n",
    "### 제한사항 \n",
    "- board는 2차원 정사각 배열로 배열의 크기는 3 이상 25 이하입니다.\n",
    "- board 배열의 각 원소의 값은 0 또는 1 입니다.\n",
    "    - 도면의 가장 왼쪽 상단 좌표는 (0, 0)이며, 가장 우측 하단 좌표는 (N-1, N-1) 입니다.\n",
    "    - 원소의 값 0은 칸이 비어 있어 도로 연결이 가능함을 1은 칸이 벽으로 채워져 있어 도로 연결이 불가능함을 나타냅니다.\n",
    "- board는 항상 출발점에서 도착점까지 경주로를 건설할 수 있는 형태로 주어집니다.\n",
    "- 출발점과 도착점 칸의 원소의 값은 항상 0으로 주어집니다.  \n",
    "  \n",
    "### 입출력 예  \n",
    "|board|\tresult|\n",
    "|:---:|:---:|\n",
    "|[[0,0,0],[0,0,0],[0,0,0]]\t|900|\n",
    "|[[0,0,0,0,0,0,0,1],[0,0,0,0,0,0,0,0],[0,0,0,0,0,1,0,0],[0,0,0,0,1,0,0,0],[0,0,0,1,0,0,0,1],[0,0,1,0,0,0,1,0],[0,1,0,0,0,1,0,0],[1,0,0,0,0,0,0,0]]\t|3800|\n",
    "|[[0,0,1,0],[0,0,0,0],[0,1,0,1],[1,0,0,0]]\t|2100|\n",
    "|[[0,0,0,0,0,0],[0,1,1,1,1,0],[0,0,1,0,0,0],[1,0,0,1,0,1],[0,1,0,0,0,1],[0,0,0,0,0,0]]\t|3200|  \n",
    "  "
   ]
  },
  {
   "cell_type": "code",
   "execution_count": 1,
   "metadata": {},
   "outputs": [],
   "source": [
    "from queue import PriorityQueue\n",
    "\n",
    "def solution(board):\n",
    "    q = PriorityQueue() # 우선순위 큐\n",
    "    direction = [(0, 1), (1, 0), (0, -1), (-1, 0)] # 동남서북\n",
    "    height = len(board) # 보드 높이\n",
    "    width = len(board[0]) # 보드 너비\n",
    "    visited = [[[6*height*width for _ in range(4)] for _ in range(width)] for _ in range(height)] # 4방향에서 각 좌표에 도달하기까지 최소 cost\n",
    "    for i in range(4):\n",
    "        visited[0][0][i] = 0  # 모든 방향으로 부터 (0,0) 좌표에 도달하기 까지의 최소 cost는 0\n",
    "    q.put((0, 0, 0, -1)) # (비용, y좌표, x좌표, 이전방향) 정보를 큐에 push\n",
    "    while not q.empty(): # 큐가 빌때까지\n",
    "        cost, y, x, di = q.get() # (비용, y좌표, x좌표, 이전방향) 정보를 큐에서 pop\n",
    "        if y == height-1 and x == width-1: # 만약 도착점에 도달했다면\n",
    "            return cost*100 # 최소 비용 반환\n",
    "        for i in range(len(direction)): # 모든 방향에 대해서\n",
    "            if di == (i+2) % 4: # 이미 바로 전에 온 방향으로 다시 되돌아가는 경우 제외\n",
    "                continue\n",
    "            add_y, add_x = direction[i]\n",
    "            if 0 <= add_y+y < height and 0 <= add_x+x < width and board[add_y+y][add_x+x] == 0: # 보드 내의 좌표이고, 빈 칸이라면\n",
    "                if di < 0 or di == i: # 이전 방향과 같은 방향이거나, 시작점에서 나아가려 할 때 (직선 도로)\n",
    "                    if visited[add_y+y][add_x+x][i] > cost+1: # 해당 좌표로 가는 최소 비용일 경우\n",
    "                        visited[add_y+y][add_x+x][i] = cost+1 # i번 방향으로 해당 좌표까지의 최소 비용 갱신\n",
    "                        q.put((cost+1, add_y+y, add_x+x, i)) # 큐에 (비용+직선도로비용, 이동 후 y, 이동 후 x, 방향 i)정보 push\n",
    "                elif visited[add_y+y][add_x+x][i] > cost+6: # 이전 방향과 다른 방향으로 나아가려할 때 (코너 + 직선 도로)\n",
    "                    visited[add_y+y][add_x+x][i] = cost+6 # i번 방향으로 해당 좌표까지의 최소 비용 갱신\n",
    "                    q.put((cost+6, add_y+y, add_x+x, i)) # 큐에 (비용+직선도로비용+코너비용, 이동 후 y, 이동 후 x, 방향 i)정보 push\n",
    "    return -1"
   ]
  },
  {
   "cell_type": "code",
   "execution_count": 2,
   "metadata": {},
   "outputs": [
    {
     "data": {
      "text/plain": [
       "900"
      ]
     },
     "execution_count": 2,
     "metadata": {},
     "output_type": "execute_result"
    }
   ],
   "source": [
    "board = [[0,0,0],[0,0,0],[0,0,0]]\n",
    "solution(board)"
   ]
  },
  {
   "cell_type": "code",
   "execution_count": 3,
   "metadata": {},
   "outputs": [
    {
     "data": {
      "text/plain": [
       "3800"
      ]
     },
     "execution_count": 3,
     "metadata": {},
     "output_type": "execute_result"
    }
   ],
   "source": [
    "board = [[0,0,0,0,0,0,0,1],[0,0,0,0,0,0,0,0],[0,0,0,0,0,1,0,0],[0,0,0,0,1,0,0,0],[0,0,0,1,0,0,0,1],[0,0,1,0,0,0,1,0],[0,1,0,0,0,1,0,0],[1,0,0,0,0,0,0,0]]\n",
    "solution(board)"
   ]
  },
  {
   "cell_type": "code",
   "execution_count": 4,
   "metadata": {},
   "outputs": [
    {
     "data": {
      "text/plain": [
       "2100"
      ]
     },
     "execution_count": 4,
     "metadata": {},
     "output_type": "execute_result"
    }
   ],
   "source": [
    "board = [[0,0,1,0],\n",
    "         [0,0,0,0],\n",
    "         [0,1,0,1],\n",
    "         [1,0,0,0]]\n",
    "solution(board)"
   ]
  },
  {
   "cell_type": "code",
   "execution_count": 5,
   "metadata": {},
   "outputs": [
    {
     "data": {
      "text/plain": [
       "3200"
      ]
     },
     "execution_count": 5,
     "metadata": {},
     "output_type": "execute_result"
    }
   ],
   "source": [
    "board = [[0,0,0,0,0,0],[0,1,1,1,1,0],[0,0,1,0,0,0],[1,0,0,1,0,1],[0,1,0,0,0,1],[0,0,0,0,0,0]]\n",
    "solution(board)"
   ]
  }
 ],
 "metadata": {
  "kernelspec": {
   "display_name": "Python 3",
   "language": "python",
   "name": "python3"
  },
  "language_info": {
   "codemirror_mode": {
    "name": "ipython",
    "version": 3
   },
   "file_extension": ".py",
   "mimetype": "text/x-python",
   "name": "python",
   "nbconvert_exporter": "python",
   "pygments_lexer": "ipython3",
   "version": "3.6.9"
  }
 },
 "nbformat": 4,
 "nbformat_minor": 2
}
