{
 "cells": [
  {
   "cell_type": "markdown",
   "metadata": {},
   "source": [
    "# 다트 게임"
   ]
  },
  {
   "cell_type": "markdown",
   "metadata": {},
   "source": [
    "[2018 카카오 블라인드 '다트 게임' 문제 링크](https://programmers.co.kr/learn/courses/30/lessons/17682)"
   ]
  },
  {
   "cell_type": "markdown",
   "metadata": {},
   "source": [
    "### 문제    \n",
    "카카오톡에 뜬 네 번째 별! 심심할 땐? 카카오톡 게임별~\n",
    "\n",
    "![](http://t1.kakaocdn.net/welcome2018/gamestar.png)\n",
    "\n",
    "카카오톡 게임별의 하반기 신규 서비스로 다트 게임을 출시하기로 했다. 다트 게임은 다트판에 다트를 세 차례 던져 그 점수의 합계로 실력을 겨루는 게임으로, 모두가 간단히 즐길 수 있다.\n",
    "갓 입사한 무지는 코딩 실력을 인정받아 게임의 핵심 부분인 점수 계산 로직을 맡게 되었다. 다트 게임의 점수 계산 로직은 아래와 같다.\n",
    "\n",
    "1. 다트 게임은 총 3번의 기회로 구성된다.\n",
    "2. 각 기회마다 얻을 수 있는 점수는 0점에서 10점까지이다.\n",
    "3. 점수와 함께 Single(S), Double(D), Triple(T) 영역이 존재하고 각 영역 당첨 시 점수에서 1제곱, 2제곱, 3제곱 (점수1 , 점수2 , 점수3 )으로 계산된다.\n",
    "4. 옵션으로 스타상(\\*) , 아차상(#)이 존재하며 스타상(\\*) 당첨 시 해당 점수와 바로 전에 얻은 점수를 각 2배로 만든다. 아차상(#) 당첨 시 해당 점수는 마이너스된다.\n",
    "5. 스타상(\\*)은 첫 번째 기회에서도 나올 수 있다. 이 경우 첫 번째 스타상(\\*)의 점수만 2배가 된다. (예제 4번 참고)\n",
    "6. 스타상(\\*)의 효과는 다른 스타상(\\*)의 효과와 중첩될 수 있다. 이 경우 중첩된 스타상(\\*) 점수는 4배가 된다. (예제 4번 참고)\n",
    "7. 스타상(\\*)의 효과는 아차상(#)의 효과와 중첩될 수 있다. 이 경우 중첩된 아차상(#)의 점수는 -2배가 된다. (예제 5번 참고)\n",
    "8. Single(S), Double(D), Triple(T)은 점수마다 하나씩 존재한다.\n",
    "9. 스타상(\\*), 아차상(#)은 점수마다 둘 중 하나만 존재할 수 있으며, 존재하지 않을 수도 있다.  \n",
    "  \n",
    "0~10의 정수와 문자 S, D, T, \\*, #로 구성된 문자열이 입력될 시 총점수를 반환하는 함수를 작성하라.  \n",
    "  \n",
    "### 입력 형식  \n",
    "점수|보너스|[옵션]으로 이루어진 문자열 3세트.  \n",
    "예) 1S2D\\*3T  \n",
    "  \n",
    "점수는 0에서 10 사이의 정수이다.  \n",
    "보너스는 S, D, T 중 하나이다.  \n",
    "옵선은 \\*이나 # 중 하나이며, 없을 수도 있다.  \n",
    "  \n",
    "### 출력 형식  \n",
    "3번의 기회에서 얻은 점수 합계에 해당하는 정수값을 출력한다.  \n",
    "예) 37  "
   ]
  },
  {
   "cell_type": "code",
   "execution_count": 10,
   "metadata": {},
   "outputs": [],
   "source": [
    "import re\n",
    "\n",
    "def solution(dartResult):\n",
    "    answers = []\n",
    "    p = re.compile(r'[0-9]0?[SDT][*#]?')\n",
    "    # 점수|보너스|[옵션]의 패턴\n",
    "    points = p.findall(dartResult)\n",
    "    # 위에서 지정한 패턴에 대해서 모두 찾는다.\n",
    "    for i in range(len(points)): # 모든 포인트에 대해서\n",
    "        num = ''\n",
    "        total = 0\n",
    "        for char in points[i]: # 문자열 세트를 해석\n",
    "            if char == 'S': # 그대로\n",
    "                total = int(num)\n",
    "            elif char == 'D': # 2제곱\n",
    "                total = pow(int(num), 2)\n",
    "            elif char == 'T': # 3제곱\n",
    "                total = pow(int(num), 3)\n",
    "            elif char == '*': # 현재 값, 이전 값에 대해서 2배 해준다.\n",
    "                total *= 2\n",
    "                if i > 0:\n",
    "                    answers[i-1] *= 2\n",
    "            elif char == '#': # 현재 값에 대해서 -1을 곱해준다.\n",
    "                total *= -1\n",
    "            else: # 0 ~ 10까지의 점수\n",
    "                num += char\n",
    "        answers.append(total) # 점수에 보너스를 곱하고 옵션을 취했을 때의 결과\n",
    "    return sum(answers) # 여태껏 나온 점수들의 총합 반환"
   ]
  },
  {
   "cell_type": "code",
   "execution_count": 11,
   "metadata": {},
   "outputs": [],
   "source": [
    "dartResult = '1S2D*3T'"
   ]
  },
  {
   "cell_type": "code",
   "execution_count": 12,
   "metadata": {},
   "outputs": [
    {
     "data": {
      "text/plain": [
       "37"
      ]
     },
     "execution_count": 12,
     "metadata": {},
     "output_type": "execute_result"
    }
   ],
   "source": [
    "solution(dartResult)"
   ]
  },
  {
   "cell_type": "code",
   "execution_count": 13,
   "metadata": {},
   "outputs": [],
   "source": [
    "dartResult = '1D2S#10S'"
   ]
  },
  {
   "cell_type": "code",
   "execution_count": 14,
   "metadata": {},
   "outputs": [
    {
     "data": {
      "text/plain": [
       "9"
      ]
     },
     "execution_count": 14,
     "metadata": {},
     "output_type": "execute_result"
    }
   ],
   "source": [
    "solution(dartResult)"
   ]
  },
  {
   "cell_type": "code",
   "execution_count": 15,
   "metadata": {},
   "outputs": [],
   "source": [
    "dartResult = '1D2S0T'"
   ]
  },
  {
   "cell_type": "code",
   "execution_count": 16,
   "metadata": {},
   "outputs": [
    {
     "data": {
      "text/plain": [
       "3"
      ]
     },
     "execution_count": 16,
     "metadata": {},
     "output_type": "execute_result"
    }
   ],
   "source": [
    "solution(dartResult)"
   ]
  },
  {
   "cell_type": "code",
   "execution_count": 17,
   "metadata": {},
   "outputs": [],
   "source": [
    "dartResult = '1S*2T*3S'"
   ]
  },
  {
   "cell_type": "code",
   "execution_count": 18,
   "metadata": {},
   "outputs": [
    {
     "data": {
      "text/plain": [
       "23"
      ]
     },
     "execution_count": 18,
     "metadata": {},
     "output_type": "execute_result"
    }
   ],
   "source": [
    "solution(dartResult)"
   ]
  },
  {
   "cell_type": "code",
   "execution_count": 19,
   "metadata": {},
   "outputs": [],
   "source": [
    "dartResult = '1D#2S*3S'"
   ]
  },
  {
   "cell_type": "code",
   "execution_count": 20,
   "metadata": {},
   "outputs": [
    {
     "data": {
      "text/plain": [
       "5"
      ]
     },
     "execution_count": 20,
     "metadata": {},
     "output_type": "execute_result"
    }
   ],
   "source": [
    "solution(dartResult)"
   ]
  },
  {
   "cell_type": "code",
   "execution_count": 21,
   "metadata": {},
   "outputs": [],
   "source": [
    "dartResult = '1T2D3D#'"
   ]
  },
  {
   "cell_type": "code",
   "execution_count": 22,
   "metadata": {},
   "outputs": [
    {
     "data": {
      "text/plain": [
       "-4"
      ]
     },
     "execution_count": 22,
     "metadata": {},
     "output_type": "execute_result"
    }
   ],
   "source": [
    "solution(dartResult)"
   ]
  },
  {
   "cell_type": "code",
   "execution_count": 23,
   "metadata": {},
   "outputs": [],
   "source": [
    "dartResult = '1D2S3T*'"
   ]
  },
  {
   "cell_type": "code",
   "execution_count": 24,
   "metadata": {},
   "outputs": [
    {
     "data": {
      "text/plain": [
       "59"
      ]
     },
     "execution_count": 24,
     "metadata": {},
     "output_type": "execute_result"
    }
   ],
   "source": [
    "solution(dartResult)"
   ]
  }
 ],
 "metadata": {
  "kernelspec": {
   "display_name": "Python 3",
   "language": "python",
   "name": "python3"
  },
  "language_info": {
   "codemirror_mode": {
    "name": "ipython",
    "version": 3
   },
   "file_extension": ".py",
   "mimetype": "text/x-python",
   "name": "python",
   "nbconvert_exporter": "python",
   "pygments_lexer": "ipython3",
   "version": "3.6.9"
  }
 },
 "nbformat": 4,
 "nbformat_minor": 2
}
