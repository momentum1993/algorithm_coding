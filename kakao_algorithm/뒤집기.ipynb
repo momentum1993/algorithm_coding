{
 "cells": [
  {
   "cell_type": "markdown",
   "metadata": {},
   "source": [
    "# 뒤집기"
   ]
  },
  {
   "cell_type": "markdown",
   "metadata": {},
   "source": [
    "[2018 카카오 코드 페스티벌 '뒤집기' 문제 링크](https://www.acmicpc.net/problem/15999)"
   ]
  },
  {
   "cell_type": "markdown",
   "metadata": {},
   "source": [
    "### 문제    \n",
    "어느 날, 네오는 길을 걷다가 격자판 하나를 주웠다. 그 격자판은 N 행 M 열로, 각 격자는 흰색 또는 검은색으로 칠해져 있다.  \n",
    "  \n",
    "네오는 이 격자판에는 분명 엄청난 비밀이 숨겨져 있을 것이라고 생각해 나중에 해독을 시도해 보기로 하였다. 아래 그림은 격자판 상태의 예시이다.  \n",
    "  \n",
    "![](https://upload.acmicpc.net/cfed0b74-4061-4caf-97a2-d3ce00ed3edf/-/preview/)  \n",
    "  \n",
    "네오가 잠시 외출한 사이, 프로도는 네오의 격자판을 이리저리 살펴보았다. 얼마 뒤, 하나의 격자를 누르게 되면 자신을 포함해 그 격자와 연결된 모든 칸들의 색이 반전된다는 사실을 관찰할 수 있었다. 여기서, 두 격자가 연결되었다는 것은 두 격자 사이를 서로 같은 색이면서 변을 공유하는 격자들로만 이동하여 오갈 수 있다는 것을 뜻한다. 집으로 돌아온 네오는 프로도가 격자판의 상태를 바꿔버렸다는 것을 알고 좌절했다. 하지만 최종 상태를 알고 있기 때문에, 초기 상태를 추측할 수 있을 것이라는 희망을 가지기로 했다.  \n",
    "  \n",
    "프로도는 격자판을 0번 이상 눌렀다(아직 한 번도 누르지 않은 상태일 수도 있다). 현재 각 격자의 색깔이 주어졌을 때, 격자판의 초기 상태로 가능한 경우의 수를 1,000,000,007(109 + 7)로 나눈 나머지를 구하여라. 두 격자판의 상태가 다르다는 것은, 같은 위치의 격자의 색이 다른 경우가 존재할 때로 정의한다.  \n",
    "  \n",
    "### 입력  \n",
    "첫 줄에 격자판의 행의 수 N 과 열의 수 M 이 주어진다. (1 ≤ N, M ≤ 2,000)  \n",
    "  \n",
    "둘째 줄부터 N 개의 줄에 걸쳐 현재 각 격자의 색을 나타내는 문자열이 주어진다.  \n",
    "  \n",
    "N 개의 줄 중에서 i 번째 줄의 j 번째 문자는 i 행 j 열 격자의 색을 나타내며, 'B'인 경우 검은색, 'W'인 경우 흰색임을 나타낸다.  \n",
    "  \n",
    "### 출력  \n",
    "첫 줄에 격자의 초기 상태로 가능한 경우의 수를 1,000,000,007(109 + 7)로 나눈 나머지를 출력한다.    "
   ]
  },
  {
   "cell_type": "code",
   "execution_count": 1,
   "metadata": {},
   "outputs": [
    {
     "name": "stdout",
     "output_type": "stream",
     "text": [
      "2 2\n",
      "WB\n",
      "BB\n",
      "2\n"
     ]
    }
   ],
   "source": [
    "# 인접한 두 격자의 색이 다른 경우는 현재 상태의 초기 상태와 같다\n",
    "# 그래서 그 외에 격자는 아무렇게나 칠해져 있어도 되기 때문에\n",
    "# 2 ^ (색이 정해지지 않은 격자의 수) 가 답이 된다.\n",
    "\n",
    "def check(y,x,M,N,status): # 격자의 해당 좌표 체크\n",
    "    directions = [(1,0),(-1,0),(0,1),(0,-1)]\n",
    "    curr_status = status & 1 << (y * M + x) # 해당 좌표의 색 상태\n",
    "    # 1 : 흰색, 0: 검은색\n",
    "    for add_y, add_x in directions: # 모든 방향에 대해서\n",
    "        curr_y = add_y + y\n",
    "        curr_x = add_x + x\n",
    "        if not(0 <= curr_y < N and 0 <= curr_x < M): # 만약 격자 밖의 범위라면 pass\n",
    "            continue\n",
    "        if status & (1 << (curr_y * M + curr_x)) != curr_status:\n",
    "            return 0\n",
    "        # 현재 탐색 좌표 주변의 격자와 색이 다를 경우 색이 바뀌면 안되므로 0 반환\n",
    "    return 1\n",
    "    # 색이 정해지지 않은 격자 1 반환\n",
    "    \n",
    "    \n",
    "N, M = tuple(int(x) for x in input().split()) # 행, 열\n",
    "status = 0 # 상태\n",
    "answer = 0 # 답\n",
    "for y in range(N):\n",
    "    x = 0\n",
    "    for w in input(): # 현재 격자의 상태에 대한 입력받음\n",
    "        if w == 'W':\n",
    "            status += 1 << (y * M + x) # 이진수로 흰색은 1, 검은색은 0으로 상태를 설정\n",
    "        x += 1\n",
    "        \n",
    "for y in range(N):\n",
    "    for x in range(M):\n",
    "        answer += check(y,x,M,N,status)\n",
    "        # 모든 좌표에 대해서 격자 상태 체크\n",
    "print(pow(2, answer))\n",
    "# 색이 정해지지 않은 격자의 수 만큼 2의 제곱을 해주면 답이 된다."
   ]
  }
 ],
 "metadata": {
  "kernelspec": {
   "display_name": "Python 3",
   "language": "python",
   "name": "python3"
  },
  "language_info": {
   "codemirror_mode": {
    "name": "ipython",
    "version": 3
   },
   "file_extension": ".py",
   "mimetype": "text/x-python",
   "name": "python",
   "nbconvert_exporter": "python",
   "pygments_lexer": "ipython3",
   "version": "3.6.9"
  }
 },
 "nbformat": 4,
 "nbformat_minor": 2
}
