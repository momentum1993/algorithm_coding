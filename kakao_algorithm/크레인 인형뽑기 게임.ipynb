{
 "cells": [
  {
   "cell_type": "markdown",
   "metadata": {},
   "source": [
    "# 크레인 인형뽑기 게임"
   ]
  },
  {
   "cell_type": "markdown",
   "metadata": {},
   "source": [
    "[2019 카카오 개발자 겨울 인턴십 'N진수 게임' 문제 링크](https://programmers.co.kr/learn/courses/30/lessons/64061)  "
   ]
  },
  {
   "cell_type": "markdown",
   "metadata": {},
   "source": [
    "### 문제    \n",
    "게임개발자인 죠르디는 크레인 인형뽑기 기계를 모바일 게임으로 만들려고 합니다.\n",
    "죠르디는 게임의 재미를 높이기 위해 화면 구성과 규칙을 다음과 같이 게임 로직에 반영하려고 합니다.  \n",
    "  \n",
    "![](https://grepp-programmers.s3.ap-northeast-2.amazonaws.com/files/production/69f1cd36-09f4-4435-8363-b71a650f7448/crane_game_101.png)  \n",
    "  \n",
    "게임 화면은 1 x 1 크기의 칸들로 이루어진 N x N 크기의 정사각 격자이며 위쪽에는 크레인이 있고 오른쪽에는 바구니가 있습니다. (위 그림은 5 x 5 크기의 예시입니다). 각 격자 칸에는 다양한 인형이 들어 있으며 인형이 없는 칸은 빈칸입니다. 모든 인형은 1 x 1 크기의 격자 한 칸을 차지하며 격자의 가장 아래 칸부터 차곡차곡 쌓여 있습니다. 게임 사용자는 크레인을 좌우로 움직여서 멈춘 위치에서 가장 위에 있는 인형을 집어 올릴 수 있습니다. 집어 올린 인형은 바구니에 쌓이게 되는 데, 이때 바구니의 가장 아래 칸부터 인형이 순서대로 쌓이게 됩니다. 다음 그림은 [1번, 5번, 3번] 위치에서 순서대로 인형을 집어 올려 바구니에 담은 모습입니다.  \n",
    "  \n",
    "![](https://grepp-programmers.s3.ap-northeast-2.amazonaws.com/files/production/638e2162-b1e4-4bbb-b0d7-62d31e97d75c/crane_game_102.png)  \n",
    "  \n",
    "만약 같은 모양의 인형 두 개가 바구니에 연속해서 쌓이게 되면 두 인형은 터뜨려지면서 바구니에서 사라지게 됩니다. 위 상태에서 이어서 [5번] 위치에서 인형을 집어 바구니에 쌓으면 같은 모양 인형 두 개가 없어집니다.  \n",
    "  \n",
    "![](https://grepp-programmers.s3.ap-northeast-2.amazonaws.com/files/production/8569d736-091e-4771-b2d3-7a6e95a20c22/crane_game_103.gif)  \n",
    "  \n",
    "크레인 작동 시 인형이 집어지지 않는 경우는 없으나 만약 인형이 없는 곳에서 크레인을 작동시키는 경우에는 아무런 일도 일어나지 않습니다. 또한 바구니는 모든 인형이 들어갈 수 있을 만큼 충분히 크다고 가정합니다. (그림에서는 화면표시 제약으로 5칸만으로 표현하였음)  \n",
    "  \n",
    "게임 화면의 격자의 상태가 담긴 2차원 배열 board와 인형을 집기 위해 크레인을 작동시킨 위치가 담긴 배열 moves가 매개변수로 주어질 때, 크레인을 모두 작동시킨 후 터트려져 사라진 인형의 개수를 return 하도록 solution 함수를 완성해주세요.  \n",
    "  \n",
    "### 제한사항  \n",
    "- board 배열은 2차원 배열로 크기는 5 x 5 이상 30 x 30 이하입니다.  \n",
    "- board의 각 칸에는 0 이상 100 이하인 정수가 담겨있습니다.  \n",
    "    - 0은 빈 칸을 나타냅니다.  \n",
    "    - 1 ~ 100의 각 숫자는 각기 다른 인형의 모양을 의미하며 같은 숫자는 같은 모양의 인형을 나타냅니다.  \n",
    "- moves 배열의 크기는 1 이상 1,000 이하입니다.  \n",
    "- moves 배열 각 원소들의 값은 1 이상이며 board 배열의 가로 크기 이하인 자연수입니다.  \n",
    "  "
   ]
  },
  {
   "cell_type": "code",
   "execution_count": 10,
   "metadata": {},
   "outputs": [],
   "source": [
    "def solution(board, moves):\n",
    "    answer = 0\n",
    "    basket = []\n",
    "    board_depth = len(board) # 보드의 깊이\n",
    "    for m in moves: # 모든 움직임에 대해서\n",
    "        for y in range(board_depth): # 위쪽부터 탐색\n",
    "            if board[y][m-1] != 0: # 만약 인형이 있는 칸이라면\n",
    "                if len(basket) > 0 and basket[-1] == board[y][m-1]:\n",
    "                # 그리고 바구니의 제일 위의 인형과 동일하다면\n",
    "                    basket.pop() # 바구니에서 인형을 빼고\n",
    "                    answer += 2 # 터트려진 풍선 2개 추가\n",
    "                else: # 바구니 위의 인형과 동일하지 않거나 바구니에 인형이 없다면\n",
    "                    basket.append(board[y][m-1]) # 바구니에 인형 추가\n",
    "                board[y][m-1] = 0 # 현재 탐색하던 자리의 인형은 없애준다.\n",
    "                break\n",
    "    return answer # 답 반환"
   ]
  },
  {
   "cell_type": "code",
   "execution_count": 11,
   "metadata": {},
   "outputs": [],
   "source": [
    "board = [[0,0,0,0,0],[0,0,1,0,3],[0,2,5,0,1],[4,2,4,4,2],[3,5,1,3,1]]\n",
    "moves = [1,5,3,5,1,2,1,4]"
   ]
  },
  {
   "cell_type": "code",
   "execution_count": 12,
   "metadata": {},
   "outputs": [
    {
     "name": "stdout",
     "output_type": "stream",
     "text": [
      "[[0, 0, 0, 0, 0],\n",
      " [0, 0, 1, 0, 3],\n",
      " [0, 2, 5, 0, 1],\n",
      " [0, 2, 4, 4, 2],\n",
      " [3, 5, 1, 3, 1]]\n",
      "[[0, 0, 0, 0, 0],\n",
      " [0, 0, 1, 0, 0],\n",
      " [0, 2, 5, 0, 1],\n",
      " [0, 2, 4, 4, 2],\n",
      " [3, 5, 1, 3, 1]]\n",
      "[[0, 0, 0, 0, 0],\n",
      " [0, 0, 0, 0, 0],\n",
      " [0, 2, 5, 0, 1],\n",
      " [0, 2, 4, 4, 2],\n",
      " [3, 5, 1, 3, 1]]\n",
      "[[0, 0, 0, 0, 0],\n",
      " [0, 0, 0, 0, 0],\n",
      " [0, 2, 5, 0, 0],\n",
      " [0, 2, 4, 4, 2],\n",
      " [3, 5, 1, 3, 1]]\n",
      "[[0, 0, 0, 0, 0],\n",
      " [0, 0, 0, 0, 0],\n",
      " [0, 2, 5, 0, 0],\n",
      " [0, 2, 4, 4, 2],\n",
      " [0, 5, 1, 3, 1]]\n",
      "[[0, 0, 0, 0, 0],\n",
      " [0, 0, 0, 0, 0],\n",
      " [0, 0, 5, 0, 0],\n",
      " [0, 2, 4, 4, 2],\n",
      " [0, 5, 1, 3, 1]]\n",
      "[[0, 0, 0, 0, 0],\n",
      " [0, 0, 0, 0, 0],\n",
      " [0, 0, 5, 0, 0],\n",
      " [0, 2, 4, 4, 2],\n",
      " [0, 5, 1, 3, 1]]\n",
      "[[0, 0, 0, 0, 0],\n",
      " [0, 0, 0, 0, 0],\n",
      " [0, 0, 5, 0, 0],\n",
      " [0, 2, 4, 0, 2],\n",
      " [0, 5, 1, 3, 1]]\n"
     ]
    },
    {
     "data": {
      "text/plain": [
       "4"
      ]
     },
     "execution_count": 12,
     "metadata": {},
     "output_type": "execute_result"
    }
   ],
   "source": [
    "solution(board, moves)"
   ]
  },
  {
   "cell_type": "code",
   "execution_count": null,
   "metadata": {},
   "outputs": [],
   "source": []
  }
 ],
 "metadata": {
  "kernelspec": {
   "display_name": "Python 3",
   "language": "python",
   "name": "python3"
  },
  "language_info": {
   "codemirror_mode": {
    "name": "ipython",
    "version": 3
   },
   "file_extension": ".py",
   "mimetype": "text/x-python",
   "name": "python",
   "nbconvert_exporter": "python",
   "pygments_lexer": "ipython3",
   "version": "3.6.9"
  }
 },
 "nbformat": 4,
 "nbformat_minor": 2
}
