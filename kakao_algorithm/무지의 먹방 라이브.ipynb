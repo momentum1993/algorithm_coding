{
 "cells": [
  {
   "cell_type": "markdown",
   "metadata": {},
   "source": [
    "# 무지의 먹방 라이브"
   ]
  },
  {
   "cell_type": "markdown",
   "metadata": {},
   "source": [
    "[2019 카카오 블라인드 '무지의 먹방 라이브' 문제 링크](https://programmers.co.kr/learn/courses/30/lessons/42891)"
   ]
  },
  {
   "cell_type": "markdown",
   "metadata": {},
   "source": [
    "### 문제    \n",
    "평소 식욕이 왕성한 무지는 자신의 재능을 뽐내고 싶어 졌고 고민 끝에 카카오 TV 라이브로 방송을 하기로 마음먹었다.  \n",
    "  \n",
    "![](https://grepp-programmers.s3.amazonaws.com/files/production/10f4f72c93/1d932bfc-8082-4b7e-b30d-ab46bf71a9f2.png)  \n",
    "  \n",
    "그냥 먹방을 하면 다른 방송과 차별성이 없기 때문에 무지는 아래와 같이 독특한 방식을 생각해냈다.  \n",
    "  \n",
    "회전판에 먹어야 할 N 개의 음식이 있다.  \n",
    "각 음식에는 1부터 N 까지 번호가 붙어있으며, 각 음식을 섭취하는데 일정 시간이 소요된다.  \n",
    "무지는 다음과 같은 방법으로 음식을 섭취한다.  \n",
    "  \n",
    "- 무지는 1번 음식부터 먹기 시작하며, 회전판은 번호가 증가하는 순서대로 음식을 무지 앞으로 가져다 놓는다.  \n",
    "- 마지막 번호의 음식을 섭취한 후에는 회전판에 의해 다시 1번 음식이 무지 앞으로 온다.  \n",
    "- 무지는 음식 하나를 1초 동안 섭취한 후 남은 음식은 그대로 두고, 다음 음식을 섭취한다.  \n",
    "    - 다음 음식이란, 아직 남은 음식 중 다음으로 섭취해야 할 가장 가까운 번호의 음식을 말한다.  \n",
    "- 회전판이 다음 음식을 무지 앞으로 가져오는데 걸리는 시간은 없다고 가정한다.  \n",
    "  \n",
    "무지가 먹방을 시작한 지 K 초 후에 네트워크 장애로 인해 방송이 잠시 중단되었다.  \n",
    "무지는 네트워크 정상화 후 다시 방송을 이어갈 때, 몇 번 음식부터 섭취해야 하는지를 알고자 한다.  \n",
    "각 음식을 모두 먹는데 필요한 시간이 담겨있는 배열 food_times, 네트워크 장애가 발생한 시간 K 초가 매개변수로 주어질 때 몇 번 음식부터 다시 섭취하면 되는지 return 하도록 solution 함수를 완성하라.  \n",
    "  \n",
    "### 제한사항  \n",
    "- food_times 는 각 음식을 모두 먹는데 필요한 시간이 음식의 번호 순서대로 들어있는 배열이다.  \n",
    "- k 는 방송이 중단된 시간을 나타낸다.  \n",
    "- 만약 더 섭취해야 할 음식이 없다면 -1을 반환하면 된다.  \n",
    "  \n",
    "### 정확성 테스트 제한 사항  \n",
    "- food_times 의 길이는 1 이상 2,000 이하이다.  \n",
    "- food_times 의 원소는 1 이상 1,000 이하의 자연수이다.  \n",
    "- k는 1 이상 2,000,000 이하의 자연수이다.  \n",
    "  \n",
    "### 효율성 테스트 제한 사항  \n",
    "- food_times 의 길이는 1 이상 200,000 이하이다.  \n",
    "- food_times 의 원소는 1 이상 100,000,000 이하의 자연수이다.  \n",
    "- k는 1 이상 2 x 10^13 이하의 자연수이다.  "
   ]
  },
  {
   "cell_type": "code",
   "execution_count": 189,
   "metadata": {},
   "outputs": [],
   "source": [
    "from collections import Counter\n",
    "\n",
    "def solution(food_times, k):\n",
    "    sub_num = 0\n",
    "    val = 0 # 현재 탐색하는 음식을 먹는데 걸리는 총 시간\n",
    "    food_num = len(food_times) # 남은 음식 개수\n",
    "    c = Counter(food_times) # 남은 시간에 대한 음식 개수\n",
    "    for i in sorted(c.keys()):\n",
    "        if food_num <= 0: # 남은 음식 없다면\n",
    "            return -1 # -1 반환\n",
    "        \n",
    "        if k >= food_num * (i - sub_num): # 남은시간이 i보다 큰 음식 개수 * 시간 값이 남은 시간 k보다 클 때\n",
    "            k -= food_num * (i - sub_num) # 빼준다.\n",
    "            # 즉, (i-sub_num) 바퀴를 돈 것.\n",
    "            sub_num = i\n",
    "            val = i+1 # i 시간이 걸리는 음식은 이미 다 먹어치웠으므로\n",
    "            # 그 이상의 시간이 걸리는 음식에 대해 탐색할 것이다.\n",
    "        else: # 그렇지 않다면\n",
    "            k %= food_num # 남은 음식의 개수만큼 나눈 나머지 만큼 다시 진행\n",
    "            val = i # i 시간이 걸리는 음식에 대해서 탐색할 것이다.\n",
    "            break\n",
    "        food_num -= c[i] # 현재 남은 음식 개수 갱신\n",
    "        \n",
    "    for i in range(len(food_times)): # 모든 음식에 대해서\n",
    "        if food_times[i] >= val: # val값 이상의 시간이 걸리는 음식들에 대해서\n",
    "            k -= 1 # 남은 시간을 제해준다.\n",
    "        if k < 0: # 만약 남은 시간이 없다면\n",
    "            return i+1 # 인덱스를 반환\n",
    "    return -1 # 만약 불가능할 경우 -1 반환"
   ]
  },
  {
   "cell_type": "code",
   "execution_count": 190,
   "metadata": {},
   "outputs": [],
   "source": [
    "food_times = [3, 1, 2]\n",
    "k = 5"
   ]
  },
  {
   "cell_type": "code",
   "execution_count": 191,
   "metadata": {},
   "outputs": [
    {
     "data": {
      "text/plain": [
       "1"
      ]
     },
     "execution_count": 191,
     "metadata": {},
     "output_type": "execute_result"
    }
   ],
   "source": [
    "solution(food_times, k)"
   ]
  },
  {
   "cell_type": "code",
   "execution_count": 192,
   "metadata": {},
   "outputs": [
    {
     "data": {
      "text/plain": [
       "6"
      ]
     },
     "execution_count": 192,
     "metadata": {},
     "output_type": "execute_result"
    }
   ],
   "source": [
    "solution([3,1,1,1,2,4,3],12)"
   ]
  }
 ],
 "metadata": {
  "kernelspec": {
   "display_name": "Python 3",
   "language": "python",
   "name": "python3"
  },
  "language_info": {
   "codemirror_mode": {
    "name": "ipython",
    "version": 3
   },
   "file_extension": ".py",
   "mimetype": "text/x-python",
   "name": "python",
   "nbconvert_exporter": "python",
   "pygments_lexer": "ipython3",
   "version": "3.6.9"
  }
 },
 "nbformat": 4,
 "nbformat_minor": 2
}
