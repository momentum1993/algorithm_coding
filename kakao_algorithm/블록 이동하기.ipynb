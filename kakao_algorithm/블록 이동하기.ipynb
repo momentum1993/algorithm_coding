{
 "cells": [
  {
   "cell_type": "markdown",
   "metadata": {},
   "source": [
    "# 블록 이동하기"
   ]
  },
  {
   "cell_type": "markdown",
   "metadata": {},
   "source": [
    "[2020 카카오 공채 '블록 이동하기' 문제 링크](https://programmers.co.kr/learn/courses/30/lessons/60063)"
   ]
  },
  {
   "cell_type": "markdown",
   "metadata": {},
   "source": [
    "### 문제  \n",
    "로봇개발자 무지는 한 달 앞으로 다가온 카카오배 로봇경진대회에 출품할 로봇을 준비하고 있습니다. 준비 중인 로봇은 2 x 1 크기의 로봇으로 무지는 0과 1로 이루어진 N x N 크기의 지도에서 2 x 1 크기인 로봇을 움직여 (N, N) 위치까지 이동 할 수 있도록 프로그래밍을 하려고 합니다. 로봇이 이동하는 지도는 가장 왼쪽, 상단의 좌표를 (1, 1)로 하며 지도 내에 표시된 숫자 0은 빈칸을 1은 벽을 나타냅니다. 로봇은 벽이 있는 칸 또는 지도 밖으로는 이동할 수 없습니다. 로봇은 처음에 아래 그림과 같이 좌표 (1, 1) 위치에서 가로방향으로 놓여있는 상태로 시작하며, 앞뒤 구분없이 움직일 수 있습니다.  \n",
    "  \n",
    "![](https://grepp-programmers.s3.amazonaws.com/files/production/33f5c19ba6/052d3514-5fca-4b85-82aa-0f9eaefae0a3.jpg)  \n",
    "  \n",
    "로봇이 움직일 때는 현재 놓여있는 상태를 유지하면서 이동합니다. 예를 들어, 위 그림에서 오른쪽으로 한 칸 이동한다면 (1, 2), (1, 3) 두 칸을 차지하게 되며, 아래로 이동한다면 (2, 1), (2, 2) 두 칸을 차지하게 됩니다. 로봇이 차지하는 두 칸 중 어느 한 칸이라도 (N, N) 위치에 도착하면 됩니다.  \n",
    "  \n",
    "로봇은 다음과 같이 조건에 따라 회전이 가능합니다.  \n",
    "  \n",
    "![](https://grepp-programmers.s3.amazonaws.com/files/production/edfcdf57d3/f87055df-91e5-4f47-b99a-400c54bfdf3a.jpg)  \n",
    "  \n",
    "위 그림과 같이 로봇은 90도씩 회전할 수 있습니다. 단, 로봇이 차지하는 두 칸 중, 어느 칸이든 축이 될 수 있지만, 회전하는 방향(축이 되는 칸으로부터 대각선 방향에 있는 칸)에는 벽이 없어야 합니다. 로봇이 한 칸 이동하거나 90도 회전하는 데는 걸리는 시간은 정확히 1초 입니다.  \n",
    "  \n",
    "0과 1로 이루어진 지도인 board가 주어질 때, 로봇이 (N, N) 위치까지 이동하는데 필요한 최소 시간을 return 하도록 solution 함수를 완성해주세요.  \n",
    "\n",
    "### 제한사항  \n",
    "- board의 한 변의 길이는 5 이상 100 이하입니다.\n",
    "- board의 원소는 0 또는 1입니다.\n",
    "- 로봇이 처음에 놓여 있는 칸 (1, 1), (1, 2)는 항상 0으로 주어집니다.\n",
    "- 로봇이 항상 목적지에 도착할 수 있는 경우만 입력으로 주어집니다."
   ]
  },
  {
   "cell_type": "code",
   "execution_count": 70,
   "metadata": {},
   "outputs": [],
   "source": [
    "from queue import PriorityQueue\n",
    "\n",
    "def cal_min(board, robot, b_len):\n",
    "    visited = set() # 방문 여부 판별할 집합\n",
    "    q = PriorityQueue() # 우선순위 큐를 통해 최소 이동횟수인 것부터 탐색\n",
    "    # bfs 탐색\n",
    "    q.put(robot) # 초기 로봇 좌표부터 탐색 시작\n",
    "    answer = b_len * b_len # 답\n",
    "    while not q.empty(): # 큐가 빌때까지\n",
    "        num , is_vertical, a,b,c,d = q.get()\n",
    "        # 이동횟수, 세로인가?, [(a, b), (c, d)]\n",
    "        if num >= answer or (a, b, c, d) in visited: # 방문되었거나, 이미 최소 이동횟수를 능가한다면\n",
    "            continue # 다음 경로 탐색\n",
    "        visited.add((a,b,c,d)) # 현재 로봇 위치 체크\n",
    "        if c == d == b_len - 1: # 끝까지 도달했다면\n",
    "            answer = min(answer, num) # 해당하는 답 체크\n",
    "\n",
    "        if is_vertical: # 세로 형태\n",
    "            if a-1 >= 0 and board[a-1][b] == 0:\n",
    "                robot = (num+1, is_vertical, a-1, b, c-1, d)# 위쪽\n",
    "                q.put(robot)\n",
    "            if c+1 < b_len and board[c+1][d] == 0:\n",
    "                robot = (num+1, is_vertical, a+1, b, c+1, d) # 아래쪽\n",
    "                q.put(robot)\n",
    "            if  b+1 < b_len and d+1 < b_len and board[a][b+1] == 0 and board[c][d+1] == 0:\n",
    "                robot = (num+1, is_vertical, a, b+1, c, d+1) # 오른쪽\n",
    "                q.put(robot)\n",
    "                robot = (num+1, 0, a+1, b, c, d+1) # 시계 방향\n",
    "                q.put(robot)\n",
    "                robot = (num+1, 0, a, b, c-1, d+1) # 반시계 방향\n",
    "                q.put(robot)\n",
    "            if b-1 >= 0 and d-1 >= 0 and board[a][b-1] == 0 and board[c][d-1] == 0:\n",
    "                robot = (num+1, is_vertical, a, b-1, c, d-1) # 왼쪽\n",
    "                q.put(robot)\n",
    "                robot = (num+1, 0, a+1, b-1, c, d) # 반시계 방향\n",
    "                q.put(robot)\n",
    "                robot = (num+1, 0, a, b-1, a, b) # 시계 방향\n",
    "                q.put(robot)\n",
    "\n",
    "\n",
    "        else: # 가로 형태\n",
    "            if b-1 >= 0 and board[a][b-1] == 0:\n",
    "                robot = (num+1, is_vertical, a, b-1, c, d-1) # 왼쪽\n",
    "                q.put(robot)\n",
    "            if d+1 < b_len and board[c][d+1] == 0:\n",
    "                robot = (num+1, is_vertical, a, b+1, c, d+1) # 오른쪽\n",
    "                q.put(robot)\n",
    "            if a+1 < b_len and c+1 < b_len and board[a+1][b] == board[c+1][d] == 0:\n",
    "                robot = (num+1, is_vertical, a+1, b, c+1, d) # 아래쪽\n",
    "                q.put(robot)\n",
    "                robot = (num+1, 1, a, b, c+1, d-1) # 시계 방향 \n",
    "                q.put(robot)\n",
    "                robot = (num+1, 1, a, b+1, c+1, d) # 반시계 방향\n",
    "                q.put(robot)\n",
    "            if a-1 >= 0 and c-1 >= 0 and board[a-1][b] == 0 and board[c-1][d] == 0:\n",
    "                robot = (num+1, is_vertical, a-1, b, c-1, d) # 위쪽\n",
    "                q.put(robot)\n",
    "                robot = (num+1, 1, a-1, b+1, c, d) # 시계 방향\n",
    "                q.put(robot)\n",
    "                robot = (num+1, 1, a-1, b, a, b) # 반시계 방향\n",
    "                q.put(robot)\n",
    "    return answer\n",
    "\n",
    "def solution(board):\n",
    "    b_len = len(board) \n",
    "    robot = (0,0,0,0,0,1) # 이동횟수, 세로인가?, 로봇 좌표 (a , b), (c, d)\n",
    "    answer = cal_min(board, robot, b_len) # 최소 이동횟수\n",
    "    return answer"
   ]
  },
  {
   "cell_type": "code",
   "execution_count": 71,
   "metadata": {},
   "outputs": [],
   "source": [
    "board = [[0, 0, 0, 1, 1],[0, 0, 0, 1, 0],[0, 1, 0, 1, 1],[1, 1, 0, 0, 1],[0, 0, 0, 0, 0]]"
   ]
  },
  {
   "cell_type": "code",
   "execution_count": 72,
   "metadata": {},
   "outputs": [
    {
     "data": {
      "text/plain": [
       "7"
      ]
     },
     "execution_count": 72,
     "metadata": {},
     "output_type": "execute_result"
    }
   ],
   "source": [
    "solution(board)"
   ]
  }
 ],
 "metadata": {
  "kernelspec": {
   "display_name": "Python 3",
   "language": "python",
   "name": "python3"
  },
  "language_info": {
   "codemirror_mode": {
    "name": "ipython",
    "version": 3
   },
   "file_extension": ".py",
   "mimetype": "text/x-python",
   "name": "python",
   "nbconvert_exporter": "python",
   "pygments_lexer": "ipython3",
   "version": "3.6.9"
  }
 },
 "nbformat": 4,
 "nbformat_minor": 2
}
