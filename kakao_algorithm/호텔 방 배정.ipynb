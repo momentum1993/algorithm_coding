{
 "cells": [
  {
   "cell_type": "markdown",
   "metadata": {},
   "source": [
    "# 호텔 방 배정"
   ]
  },
  {
   "cell_type": "markdown",
   "metadata": {},
   "source": [
    "[2019 카카오 개발자 겨울 인턴십 '호텔 방 배정' 문제 링크](https://programmers.co.kr/learn/courses/30/lessons/64063)  "
   ]
  },
  {
   "cell_type": "markdown",
   "metadata": {},
   "source": [
    "### 문제    \n",
    "스노우타운에서 호텔을 운영하고 있는 스카피는 호텔에 투숙하려는 고객들에게 방을 배정하려 합니다. 호텔에는 방이 총 k개 있으며, 각각의 방은 1번부터 k번까지 번호로 구분하고 있습니다. 처음에는 모든 방이 비어 있으며 스카피는 다음과 같은 규칙에 따라 고객에게 방을 배정하려고 합니다.  \n",
    "  \n",
    "1. 한 번에 한 명씩 신청한 순서대로 방을 배정합니다.\n",
    "2. 고객은 투숙하기 원하는 방 번호를 제출합니다.\n",
    "3. 고객이 원하는 방이 비어 있다면 즉시 배정합니다.\n",
    "4. 고객이 원하는 방이 이미 배정되어 있으면 원하는 방보다 번호가 크면서 비어있는 방 중 가장 번호가 작은 방을 배정합니다.  \n",
    "  \n",
    "예를 들어, 방이 총 10개이고, 고객들이 원하는 방 번호가 순서대로 [1, 3, 4, 1, 3, 1] 일 경우 다음과 같이 방을 배정받게 됩니다.\n",
    "  \n",
    "|원하는 방 번호|\t배정된 방 번호|\n",
    "|:---:|:---:|\n",
    "|1|\t1|\n",
    "|3|\t3|\n",
    "|4|\t4|\n",
    "|1|\t2|\n",
    "|3|\t5|\n",
    "|1|\t6|  \n",
    "  \n",
    "전체 방 개수 k와 고객들이 원하는 방 번호가 순서대로 들어있는 배열 room_number가 매개변수로 주어질 때, 각 고객에게 배정되는 방 번호를 순서대로 배열에 담아 return 하도록 solution 함수를 완성해주세요.\n",
    "\n",
    "### 제한사항\n",
    "- k는 1 이상 1012 이하인 자연수입니다.\n",
    "- room_number 배열의 크기는 1 이상 200,000 이하입니다.\n",
    "- room_number 배열 각 원소들의 값은 1 이상 k 이하인 자연수입니다.\n",
    "- room_number 배열은 모든 고객이 방을 배정받을 수 있는 경우만 입력으로 주어집니다.\n",
    "    - 예를 들어, k = 5, room_number = [5, 5] 와 같은 경우는 방을 배정받지 못하는 고객이 발생하므로 이런 경우는 입력으로 주어지지 않습니다.  \n",
    "  "
   ]
  },
  {
   "cell_type": "code",
   "execution_count": 3,
   "metadata": {},
   "outputs": [],
   "source": [
    "import sys\n",
    "sys.setrecursionlimit(10000000)\n",
    "\n",
    "def empty_room(num, rooms): # 빈방을 찾는 함수\n",
    "    if num not in rooms: # 현재 빈방일 경우(즉, 딕셔너리에 없을 때)\n",
    "        rooms[num] = num + 1 # num번 방 탐색할 경우 다음에 탐색해야할 인덱스 저장\n",
    "        return num # 채워진 방의 인덱스 반환\n",
    "    \n",
    "    empty = empty_room(rooms[num], rooms) # 만약 빈방이 아닐 경우 다음 인덱스에 대해 재귀 탐색\n",
    "    rooms[num] = empty + 1 # num번 방 탐색할 경우 다음에 탐색해야할 인덱스 저장\n",
    "    return empty # 그리고 채워진 방 인덱스 반환\n",
    "\n",
    "\n",
    "def solution(k, room_number):\n",
    "    answer = []\n",
    "    assigned = dict() # 몇번 방이 비어있는지 체크하는 딕셔너리\n",
    "    for num in room_number:\n",
    "        room_num = empty_room(num, assigned)\n",
    "        answer.append(room_num) # 빈방\n",
    "    return answer # 답 반환"
   ]
  },
  {
   "cell_type": "code",
   "execution_count": 4,
   "metadata": {},
   "outputs": [],
   "source": [
    "k=10\n",
    "room_number=[1,3,4,1,3,1]"
   ]
  },
  {
   "cell_type": "code",
   "execution_count": 5,
   "metadata": {
    "scrolled": false
   },
   "outputs": [
    {
     "data": {
      "text/plain": [
       "[1, 3, 4, 2, 5, 6]"
      ]
     },
     "execution_count": 5,
     "metadata": {},
     "output_type": "execute_result"
    }
   ],
   "source": [
    "solution(k, room_number)"
   ]
  },
  {
   "cell_type": "code",
   "execution_count": null,
   "metadata": {},
   "outputs": [],
   "source": []
  }
 ],
 "metadata": {
  "kernelspec": {
   "display_name": "Python 3",
   "language": "python",
   "name": "python3"
  },
  "language_info": {
   "codemirror_mode": {
    "name": "ipython",
    "version": 3
   },
   "file_extension": ".py",
   "mimetype": "text/x-python",
   "name": "python",
   "nbconvert_exporter": "python",
   "pygments_lexer": "ipython3",
   "version": "3.6.9"
  }
 },
 "nbformat": 4,
 "nbformat_minor": 2
}
