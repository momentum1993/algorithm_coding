{
 "cells": [
  {
   "cell_type": "markdown",
   "metadata": {},
   "source": [
    "# 자물쇠와 열쇠"
   ]
  },
  {
   "cell_type": "markdown",
   "metadata": {},
   "source": [
    "[2020 카카오 공채 '자물쇠와 열쇠' 문제 링크](https://programmers.co.kr/learn/courses/30/lessons/60059)"
   ]
  },
  {
   "cell_type": "markdown",
   "metadata": {},
   "source": [
    "### 문제  \n",
    "고고학자인 튜브는 고대 유적지에서 보물과 유적이 가득할 것으로 추정되는 비밀의 문을 발견하였습니다. 그런데 문을 열려고 살펴보니 특이한 형태의 자물쇠로 잠겨 있었고 문 앞에는 특이한 형태의 열쇠와 함께 자물쇠를 푸는 방법에 대해 다음과 같이 설명해 주는 종이가 발견되었습니다.  \n",
    "  \n",
    "잠겨있는 자물쇠는 격자 한 칸의 크기가 1 x 1인 N x N 크기의 정사각 격자 형태이고 특이한 모양의 열쇠는 M x M 크기인 정사각 격자 형태로 되어 있습니다.  \n",
    "  \n",
    "자물쇠에는 홈이 파여 있고 열쇠 또한 홈과 돌기 부분이 있습니다. 열쇠는 회전과 이동이 가능하며 열쇠의 돌기 부분을 자물쇠의 홈 부분에 딱 맞게 채우면 자물쇠가 열리게 되는 구조입니다. 자물쇠 영역을 벗어난 부분에 있는 열쇠의 홈과 돌기는 자물쇠를 여는 데 영향을 주지 않지만, 자물쇠 영역 내에서는 열쇠의 돌기 부분과 자물쇠의 홈 부분이 정확히 일치해야 하며 열쇠의 돌기와 자물쇠의 돌기가 만나서는 안됩니다. 또한 자물쇠의 모든 홈을 채워 비어있는 곳이 없어야 자물쇠를 열 수 있습니다.  \n",
    "  \n",
    "열쇠를 나타내는 2차원 배열 key와 자물쇠를 나타내는 2차원 배열 lock이 매개변수로 주어질 때, 열쇠로 자물쇠를 열수 있으면 true를, 열 수 없으면 false를 return 하도록 solution 함수를 완성해주세요.  \n",
    "  \n",
    "### 제한사항  \n",
    "- key는 M x M(3 ≤ M ≤ 20, M은 자연수)크기 2차원 배열입니다.  \n",
    "- lock은 N x N(3 ≤ N ≤ 20, N은 자연수)크기 2차원 배열입니다.  \n",
    "- M은 항상 N 이하입니다.  \n",
    "- key와 lock의 원소는 0 또는 1로 이루어져 있습니다.  \n",
    "- 0은 홈 부분, 1은 돌기 부분을 나타냅니다.  \n",
    "  \n",
    "![](https://grepp-programmers.s3.amazonaws.com/files/production/469703690b/79f2f473-5d13-47b9-96e0-a10e17b7d49a.jpg)  "
   ]
  },
  {
   "cell_type": "code",
   "execution_count": 1,
   "metadata": {},
   "outputs": [],
   "source": [
    "import numpy as np\n",
    "from copy import deepcopy\n",
    "\n",
    "def does_key_matching(key, lock): # 키가 자물쇠와 맞는지 판별\n",
    "    for idx in range(0, (len(lock)-(len(key)-1))*(len(lock)-(len(key)-1))): # 자물쇠에 맞춰볼 수 있는 모든 키의 경우의 수에 대해서\n",
    "        k_y = idx // (len(lock)-(len(key)-1)) # 키가 차지하는 처음 행 인덱스\n",
    "        k_x = idx % (len(lock)-(len(key)-1)) # 키가 차지하는 처음 열 인덱스\n",
    "\n",
    "        answer = True\n",
    "        for y in range(len(lock)):\n",
    "            if not answer:\n",
    "                break\n",
    "            for x in range(len(lock)): \n",
    "                if len(key)-1 <= y < len(lock) - (len(key)-1) and len(key)-1 <= x < len(lock) - (len(key)-1):\n",
    "                # 자물쇠의 모든 좌표에 대해서\n",
    "                    if k_y <= y < k_y+len(key) and k_x <= x < k_x+len(key): # 만약 키와 자물쇠가 겹치는 부분이라면\n",
    "                        if lock[y][x] + key[y-k_y][x-k_x] == 2 or lock[y][x] + key[y-k_y][x-k_x] == 0: # 자물쇠와 키가 맞닿지 않는 부분일 때\n",
    "                            answer = False # 답 성립 불가\n",
    "                            break\n",
    "                    elif lock[y][x] == 0:\n",
    "                    # 그 외에 자물쇠에 홈이 그대로 존재하고 있다면\n",
    "                        answer =  False # 답 성립 불가\n",
    "                        break\n",
    "        if answer:\n",
    "            return True\n",
    "    return False\n",
    "\n",
    "def solution(key, lock):\n",
    "    new_lock = [[0 for _ in range(2*(len(key)-1)+len(lock))] for _ in range(2*(len(key)-1)+len(lock))]\n",
    "    # 자물쇠에 0의 패딩을 옆에 놓는다. -> 키가 해당 배열을 탐색하면서 비교할 수 있도록\n",
    "    for y in range(len(new_lock)):\n",
    "        for x in range(len(new_lock)):\n",
    "            if len(key)-1<= y <len(key)-1+len(lock) and len(key)-1<= x <len(key)-1+len(lock):\n",
    "                new_lock[y][x] = lock[y-(len(key)-1)][x-(len(key)-1)]\n",
    "                # 키의 항목이 1개 이상 겹쳐질 수 있도록 패딩을 주었다.\n",
    "    for i in range(4): # 키를 90도 씩 회전시킨다.\n",
    "        rotated_key = np.rot90(key, i, axes=(1,0)).tolist() # 키를 90도 씩 회전시킨다.\n",
    "        if does_key_matching(rotated_key, new_lock): # 만약 키와 자물쇠가 맞다면\n",
    "            return True # True 반환\n",
    "    return False # 아니라면 False 반환"
   ]
  },
  {
   "cell_type": "code",
   "execution_count": 2,
   "metadata": {},
   "outputs": [],
   "source": [
    "key = [[0, 0, 0],\n",
    "       [1, 0, 0],\n",
    "       [0, 1, 1]]\n",
    "lock = [[1, 1, 1],\n",
    "        [1, 1, 0],\n",
    "        [1, 0, 1]]"
   ]
  },
  {
   "cell_type": "code",
   "execution_count": 3,
   "metadata": {},
   "outputs": [
    {
     "data": {
      "text/plain": [
       "True"
      ]
     },
     "execution_count": 3,
     "metadata": {},
     "output_type": "execute_result"
    }
   ],
   "source": [
    "solution(key, lock)"
   ]
  }
 ],
 "metadata": {
  "kernelspec": {
   "display_name": "Python 3",
   "language": "python",
   "name": "python3"
  },
  "language_info": {
   "codemirror_mode": {
    "name": "ipython",
    "version": 3
   },
   "file_extension": ".py",
   "mimetype": "text/x-python",
   "name": "python",
   "nbconvert_exporter": "python",
   "pygments_lexer": "ipython3",
   "version": "3.6.9"
  }
 },
 "nbformat": 4,
 "nbformat_minor": 2
}
