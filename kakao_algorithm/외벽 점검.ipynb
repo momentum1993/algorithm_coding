{
 "cells": [
  {
   "cell_type": "markdown",
   "metadata": {},
   "source": [
    "# 외벽 점검"
   ]
  },
  {
   "cell_type": "markdown",
   "metadata": {},
   "source": [
    "[2020 카카오 공채 '외벽 점검' 문제 링크](https://programmers.co.kr/learn/courses/30/lessons/60062)"
   ]
  },
  {
   "cell_type": "markdown",
   "metadata": {},
   "source": [
    "### 문제  \n",
    "레스토랑을 운영하고 있는 스카피는 레스토랑 내부가 너무 낡아 친구들과 함께 직접 리모델링 하기로 했습니다. 레스토랑이 있는 곳은 스노우타운으로 매우 추운 지역이어서 내부 공사를 하는 도중에 주기적으로 외벽의 상태를 점검해야 할 필요가 있습니다.  \n",
    "  \n",
    "레스토랑의 구조는 완전히 동그란 모양이고 외벽의 총 둘레는 n미터이며, 외벽의 몇몇 지점은 추위가 심할 경우 손상될 수도 있는 취약한 지점들이 있습니다. 따라서 내부 공사 도중에도 외벽의 취약 지점들이 손상되지 않았는 지, 주기적으로 친구들을 보내서 점검을 하기로 했습니다. 다만, 빠른 공사 진행을 위해 점검 시간을 1시간으로 제한했습니다. 친구들이 1시간 동안 이동할 수 있는 거리는 제각각이기 때문에, 최소한의 친구들을 투입해 취약 지점을 점검하고 나머지 친구들은 내부 공사를 돕도록 하려고 합니다. 편의 상 레스토랑의 정북 방향 지점을 0으로 나타내며, 취약 지점의 위치는 정북 방향 지점으로부터 시계 방향으로 떨어진 거리로 나타냅니다. 또, 친구들은 출발 지점부터 시계, 혹은 반시계 방향으로 외벽을 따라서만 이동합니다.  \n",
    "  \n",
    "외벽의 길이 n, 취약 지점의 위치가 담긴 배열 weak, 각 친구가 1시간 동안 이동할 수 있는 거리가 담긴 배열 dist가 매개변수로 주어질 때, 취약 지점을 점검하기 위해 보내야 하는 친구 수의 최소값을 return 하도록 solution 함수를 완성해주세요.  \n",
    "  \n",
    "### 제한사항  \n",
    "- n은 1 이상 200 이하인 자연수입니다.  \n",
    "- weak의 길이는 1 이상 15 이하입니다.  \n",
    "    - 서로 다른 두 취약점의 위치가 같은 경우는 주어지지 않습니다.  \n",
    "    - 취약 지점의 위치는 오름차순으로 정렬되어 주어집니다.  \n",
    "    - weak의 원소는 0 이상 n - 1 이하인 정수입니다.  \n",
    "- dist의 길이는 1 이상 8 이하입니다.  \n",
    "    - dist의 원소는 1 이상 100 이하인 자연수입니다.  \n",
    "- 친구들을 모두 투입해도 취약 지점을 전부 점검할 수 없는 경우에는 -1을 return 해주세요.  \n",
    "\n",
    "![](https://grepp-programmers.s3.amazonaws.com/files/production/61de504978/1c8394ec-05e0-4b7b-a0ff-3ff9ae0cec28.jpg)"
   ]
  },
  {
   "cell_type": "code",
   "execution_count": 1,
   "metadata": {},
   "outputs": [],
   "source": [
    "def weak_check(n, weak, dist, w, d): # d번 친구가 w번째 취약 구역에서 시작해서 점검한 후의 점검 상태 반환\n",
    "    checked = 0\n",
    "    move = min(n-1, dist[d]) # 이동할 수 있는 칸\n",
    "    start = weak[w] # 시작칸\n",
    "    end = (weak[w] + move) % n # 1시간 뒤의 칸\n",
    "    if end < start: # 회전하면서 기준 인덱스 0을 포함할 경우\n",
    "        for c in range(len(weak)): # 모든 취약점에 대해서\n",
    "            checked *= 2\n",
    "            if end >= weak[c] or w <= c: # d번 친구가 시계 방향으로 이동하면서 체크한 취약 구역에 1 표시\n",
    "                checked += 1\n",
    "            # 이진법으로 포현된 상태\n",
    "            \n",
    "    else: # 회전하면서 기준 인덱스 0을 포함하지 않을 때\n",
    "        for c in range(len(weak)):\n",
    "            checked *= 2\n",
    "            if start <= weak[c] <= end: # d번 친구가 시계 방향으로 이동하면서 체크한 취약 구역에 1 표시\n",
    "                checked += 1\n",
    "        # 이진법으로 포현된 상태\n",
    "    return checked # 이진법으로 나타낸 상태 반환\n",
    "\n",
    "\n",
    "def cal_min(mem, weak_mem, n, weak, dist, dist_check, status=0): # 최소 친구 수 반환\n",
    "    if mem[status] != -1: # 현재 상태에 대한 정보를 갖고있을 때\n",
    "        return mem[status] # 현 상태에 대한 최소 투입 인원수 답 바로 반환\n",
    "    if status == pow(2, len(weak))-1: # 만약 모든 취약점을 검사했을 때\n",
    "        return 0 # 0 반환\n",
    "    elif not(False in dist_check): # 모든 사람이 투입되었음에도 모든 취약점을 커버할 수 없다면\n",
    "        return 9 # 9 반환\n",
    "    \n",
    "    mem[status] = 9 # 해당 상황에 대해 투입된 친구\n",
    "    for d in range(len(dist)): # 모든 친구에 대해서\n",
    "        if dist_check[d]: continue # 만약 이미 친구가 투입된 상황이라면 다음 친구로 넘어감\n",
    "        dist_check[d] = True # 해당 친구가 투입되었음을 표시\n",
    "        for w in range(len(weak)): # 모든 취약점에 대해서\n",
    "            if status & weak_mem[d][w] != 0: # 이미 확인된 취약점이라면 다음 취약점 확인\n",
    "                continue\n",
    "            status_now = status | weak_mem[d][w] # 이후 d번 친구가 w번 취약점에서 시작해서 확인한 후의 취약점 상황\n",
    "            mem[status] = min(mem[status], 1 + cal_min(mem, weak_mem, n, weak, dist, dist_check, status_now))\n",
    "            # 현재 투입된 친구 및 취약점이 체크된 상황에서 앞으로의 경우의 수 중 가장 적은 친구가 투입될 상황을 구한다.\n",
    "        dist_check[d] = False\n",
    "    return mem[status] # 모든 계산 후 현재 상태에 대한 답을 반환\n",
    "\n",
    "def solution(n, weak, dist):\n",
    "    answer = 0\n",
    "    dist = sorted(dist, reverse=True) # 내림차순으로 각 친구들 정렬\n",
    "    weak_mem = [[0 for _ in range(len(weak))] for _ in range(len(dist))]\n",
    "    for d in range(len(dist)):\n",
    "        for w in range(len(weak)):\n",
    "            weak_mem[d][w] = weak_check(n, weak, dist, w, d)\n",
    "            # 투입되는 인원과 그 위치에 대한 상태를 갖고 있음.\n",
    "    mem = [-1 for _ in range(pow(2, len(weak)))] # 현 상황에서의 최소 투입 인원 수\n",
    "    dist_check = [False for _ in range(len(dist))] # 투입된 인원 체크\n",
    "    answer = cal_min(mem, weak_mem, n, weak, dist, dist_check)\n",
    "    if answer > 8: # 만약 불가능하면\n",
    "        return -1 # -1 리턴\n",
    "    return answer # 가능하다면 답 반환"
   ]
  },
  {
   "cell_type": "code",
   "execution_count": 2,
   "metadata": {},
   "outputs": [],
   "source": [
    "n = 12\n",
    "weak = [1, 5, 6, 10]\n",
    "dist = [1, 2, 3, 4]"
   ]
  },
  {
   "cell_type": "code",
   "execution_count": 3,
   "metadata": {
    "scrolled": true
   },
   "outputs": [
    {
     "data": {
      "text/plain": [
       "2"
      ]
     },
     "execution_count": 3,
     "metadata": {},
     "output_type": "execute_result"
    }
   ],
   "source": [
    "solution(n, weak, dist)"
   ]
  },
  {
   "cell_type": "code",
   "execution_count": 4,
   "metadata": {},
   "outputs": [],
   "source": [
    "n = 12\n",
    "weak = [1, 3, 4, 9, 10]\n",
    "dist = [3, 5, 7]"
   ]
  },
  {
   "cell_type": "code",
   "execution_count": 5,
   "metadata": {},
   "outputs": [
    {
     "data": {
      "text/plain": [
       "1"
      ]
     },
     "execution_count": 5,
     "metadata": {},
     "output_type": "execute_result"
    }
   ],
   "source": [
    "solution(n, weak, dist)"
   ]
  }
 ],
 "metadata": {
  "kernelspec": {
   "display_name": "Python 3",
   "language": "python",
   "name": "python3"
  },
  "language_info": {
   "codemirror_mode": {
    "name": "ipython",
    "version": 3
   },
   "file_extension": ".py",
   "mimetype": "text/x-python",
   "name": "python",
   "nbconvert_exporter": "python",
   "pygments_lexer": "ipython3",
   "version": "3.6.9"
  }
 },
 "nbformat": 4,
 "nbformat_minor": 2
}
