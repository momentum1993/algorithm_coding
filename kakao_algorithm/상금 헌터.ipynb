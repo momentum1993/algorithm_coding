{
 "cells": [
  {
   "cell_type": "markdown",
   "metadata": {},
   "source": [
    "# 상금 헌터"
   ]
  },
  {
   "cell_type": "markdown",
   "metadata": {},
   "source": [
    "[2018 카카오 코드 페스티벌 '상금 헌터' 문제 링크](https://www.acmicpc.net/problem/15953)  "
   ]
  },
  {
   "cell_type": "markdown",
   "metadata": {},
   "source": [
    "### 문제    \n",
    "2017년에 이어, 2018년에도 카카오 코드 페스티벌이 개최된다!  \n",
    "  \n",
    "![](https://upload.acmicpc.net/0113dbfe-8ca8-42b8-9a2c-94e136006b75/-/preview/)\n",
    "  \n",
    "카카오 코드 페스티벌에서 빠질 수 없는 것은 바로 상금이다. 2017년에 개최된 제1회 코드 페스티벌에서는, 본선 진출자 100명 중 21명에게 아래와 같은 기준으로 상금을 부여하였다.  \n",
    "  \n",
    "|순위|\t상금|\t인원|\n",
    "|:---:|:---:|:---:|\n",
    "|1등|\t500만원|\t1명|\n",
    "|2등|\t300만원|\t2명|\n",
    "|3등|\t200만원|\t3명|\n",
    "|4등|\t50만원|\t4명|\n",
    "|5등|\t30만원|\t5명|\n",
    "|6등|\t10만원|\t6명|\n",
    "  \n",
    "2018년에 개최될 제2회 코드 페스티벌에서는 상금의 규모가 확대되어, 본선 진출자 64명 중 31명에게 아래와 같은 기준으로 상금을 부여할 예정이다.  \n",
    "  \n",
    "|순위|\t상금|\t인원|\n",
    "|:---:|:---:|:---:|\n",
    "|1등|\t512만원|\t1명|\n",
    "|2등|\t256만원|\t2명|\n",
    "|3등|\t128만원|\t4명|\n",
    "|4등|\t64만원|\t8명|\n",
    "|5등|\t32만원|\t16명|\n",
    "  \n",
    "![](https://upload.acmicpc.net/2ff64533-7387-4294-8dce-03ba3d35b7d4/-/preview/)  \n",
    "  \n",
    "제이지는 자신이 코드 페스티벌에 출전하여 받을 수 있을 상금이 얼마인지 궁금해졌다. 그는 자신이 두 번의 코드 페스티벌 본선 대회에서 얻을 수 있을 총 상금이 얼마인지 알아보기 위해, 상상력을 발휘하여 아래와 같은 가정을 하였다.  \n",
    "  \n",
    "- 제1회 코드 페스티벌 본선에 진출하여 a등(1 ≤ a ≤ 100)등을 하였다. 단, 진출하지 못했다면 a = 0으로 둔다.   \n",
    "- 제2회 코드 페스티벌 본선에 진출하여 b등(1 ≤ b ≤ 64)등을 할 것이다. 단, 진출하지 못했다면 b = 0으로 둔다.  \n",
    "  \n",
    "제이지는 이러한 가정에 따라, 자신이 받을 수 있는 총 상금이 얼마인지를 알고 싶어한다.  \n",
    "  \n",
    "### 입력  \n",
    "첫 번째 줄에 제이지가 상상력을 발휘하여 가정한 횟수 T(1 ≤ T ≤ 1,000)가 주어진다.  \n",
    "  \n",
    "다음 T개 줄에는 한 줄에 하나씩 제이지가 해본 가정에 대한 정보가 주어진다. 각 줄에는 두 개의 음이 아닌 정수 a(0 ≤ a ≤ 100)와 b(0 ≤ b ≤ 64)가 공백 하나를 사이로 두고 주어진다.  \n",
    "  \n",
    "### 출력\n",
    "각 가정이 성립할 때 제이지가 받을 상금을 원 단위의 정수로 한 줄에 하나씩 출력한다. 입력이 들어오는 순서대로 출력해야 한다.    "
   ]
  },
  {
   "cell_type": "code",
   "execution_count": 1,
   "metadata": {
    "scrolled": true
   },
   "outputs": [
    {
     "name": "stdout",
     "output_type": "stream",
     "text": [
      "예제 입력\n",
      "6\n",
      "8 4\n",
      "13 19\n",
      "8 10\n",
      "18 18\n",
      "8 25\n",
      "13 16\n",
      "\n",
      "\n",
      "정답\n",
      "1780000\n",
      "620000\n",
      "1140000\n",
      "420000\n",
      "820000\n",
      "620000\n"
     ]
    }
   ],
   "source": [
    "print(\"예제 입력\")\n",
    "T = int(input()) # 가정한 횟수\n",
    "cases = [] # 가정한 정보들\n",
    "\n",
    "for _ in range(T):\n",
    "    cases.append(tuple(int(x) for x in input().split()))\n",
    "    # 가정한 정보를 저장\n",
    "\n",
    "print(\"\\n\\n정답\")\n",
    "prize_a = [500, 300, 200, 50, 30, 10] # 작년 각 등수별 상금\n",
    "prize_b = [512, 256, 128, 64, 32] # 금년 각 등수별 상금\n",
    "\n",
    "for a, b in cases: # 모든 케이스에 대해서\n",
    "    answer = 0 # 답\n",
    "    a_checked, b_checked = False, False # 각각 상금 판별 끝났는지 여부 플래그\n",
    "    # 진출 못했을 시에는 상금판별 더이상하지 않음\n",
    "    if a == 0:\n",
    "        a_checked = True\n",
    "    if b == 0:\n",
    "        b_checked = True\n",
    "    rank_a, rank_b = 0, 0 # 등수\n",
    "    for i in range(6):\n",
    "        if a_checked and b_checked: # 만약 이미 모두 판별이 끝났다면 끝\n",
    "            break\n",
    "        rank_a += i + 1 # 1회 코드 페스티벌에서는 1씩 올라가는 오름차순으로 등수를 배분\n",
    "        rank_b += pow(2, i) # 2회 코드 페스티벌에서는 2 제곱이 되어 올라가는 오름차순으로 등수 배분\n",
    "        if a <= rank_a and i < len(prize_a) and not a_checked:\n",
    "            a_checked = True    \n",
    "            answer += prize_a[i] * 10000\n",
    "        # 1회 코드 페스티벌의 해당하는 등수에 대해 상금 합\n",
    "        if b <= rank_b and i < len(prize_b) and not b_checked:\n",
    "            b_checked = True\n",
    "            answer += prize_b[i] * 10000\n",
    "        # 2회 코드 페스티벌의 해당하는 등수에 대해 상금 합\n",
    "    print(answer) # 답 출력"
   ]
  }
 ],
 "metadata": {
  "kernelspec": {
   "display_name": "Python 3",
   "language": "python",
   "name": "python3"
  },
  "language_info": {
   "codemirror_mode": {
    "name": "ipython",
    "version": 3
   },
   "file_extension": ".py",
   "mimetype": "text/x-python",
   "name": "python",
   "nbconvert_exporter": "python",
   "pygments_lexer": "ipython3",
   "version": "3.6.9"
  }
 },
 "nbformat": 4,
 "nbformat_minor": 2
}
