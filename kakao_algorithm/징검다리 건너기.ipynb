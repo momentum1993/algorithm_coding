{
 "cells": [
  {
   "cell_type": "markdown",
   "metadata": {},
   "source": [
    "# 징검다리 건너기"
   ]
  },
  {
   "cell_type": "markdown",
   "metadata": {},
   "source": [
    "[2019 카카오 개발자 겨울 인턴십 '징검다리 건너기' 문제 링크](https://programmers.co.kr/learn/courses/30/lessons/64062)  "
   ]
  },
  {
   "cell_type": "markdown",
   "metadata": {},
   "source": [
    "### 문제    \n",
    "카카오 초등학교의 니니즈 친구들이 라이언 선생님과 함께 가을 소풍을 가는 중에 징검다리가 있는 개울을 만나서 건너편으로 건너려고 합니다. 라이언 선생님은 니니즈 친구들이 무사히 징검다리를 건널 수 있도록 다음과 같이 규칙을 만들었습니다.  \n",
    "  \n",
    "- 징검다리는 일렬로 놓여 있고 각 징검다리의 디딤돌에는 모두 숫자가 적혀 있으며 디딤돌의 숫자는 한 번 밟을 때마다 1씩 줄어듭니다.  \n",
    "- 디딤돌의 숫자가 0이 되면 더 이상 밟을 수 없으며 이때는 그 다음 디딤돌로 한번에 여러 칸을 건너 뛸 수 있습니다.  \n",
    "- 단, 다음으로 밟을 수 있는 디딤돌이 여러 개인 경우 무조건 가장 가까운 디딤돌로만 건너뛸 수 있습니다.  \n",
    "  \n",
    "니니즈 친구들은 개울의 왼쪽에 있으며, 개울의 오른쪽 건너편에 도착해야 징검다리를 건넌 것으로 인정합니다.  \n",
    "니니즈 친구들은 한 번에 한 명씩 징검다리를 건너야 하며, 한 친구가 징검다리를 모두 건넌 후에 그 다음 친구가 건너기 시작합니다.  \n",
    "  \n",
    "디딤돌에 적힌 숫자가 순서대로 담긴 배열 stones와 한 번에 건너뛸 수 있는 디딤돌의 최대 칸수 k가 매개변수로 주어질 때, 최대 몇 명까지 징검다리를 건널 수 있는지 return 하도록 solution 함수를 완성해주세요.  \n",
    "  \n",
    "### 제한사항  \n",
    "- 징검다리를 건너야 하는 니니즈 친구들의 수는 무제한 이라고 간주합니다.  \n",
    "- stones 배열의 크기는 1 이상 200,000 이하입니다.  \n",
    "- stones 배열 각 원소들의 값은 1 이상 200,000,000 이하인 자연수입니다.  \n",
    "- k는 1 이상 stones의 길이 이하인 자연수입니다.  \n",
    "  "
   ]
  },
  {
   "cell_type": "code",
   "execution_count": 1,
   "metadata": {},
   "outputs": [],
   "source": [
    "def binary_search(hi, lo, stones, k):\n",
    "    if hi - lo == 1: # 이분 탐색이 끝났을 때\n",
    "        return lo # 답 반환\n",
    "    mid = (lo+hi)//2 # 중간값\n",
    "    count = 0 # mid명만큼 지나갔을 때 연속적으로 0이 되는 징검다리의 디딤돌 개수\n",
    "    impossible = False # mid명이 지나 갈 수 있는지 여부\n",
    "    for s in stones: # 모든 징검다리 디딤돌에 대해\n",
    "        if s - mid < 0: # mid명이 못지나가면 카운팅\n",
    "            count += 1\n",
    "        else: # 아니라면 0으로 초기화\n",
    "            count = 0\n",
    "        if count == k: \n",
    "            impossible = True # k개의 디딤돌을 연속적으로 못 지나갈 경우\n",
    "            break\n",
    "    if impossible: # mid명으로 못 지나갈 때\n",
    "        hi = mid # mid를 최대값으로 둔다.\n",
    "    else: # mid명으로 지나갈 수 있을 때\n",
    "        lo = mid # mid를 최소값으로 둔다.\n",
    "    return binary_search(hi, lo, stones, k) # 다시 이분 탐색\n",
    "\n",
    "def solution(stones, k):\n",
    "    max_val = max(stones)+1 # 징검다리의 최대값\n",
    "    min_val = 1 # 최소값\n",
    "    answer = binary_search(max_val, min_val, stones, k) # 이분 탐색\n",
    "    return answer # 답 반환"
   ]
  },
  {
   "cell_type": "code",
   "execution_count": 2,
   "metadata": {},
   "outputs": [],
   "source": [
    "stones = [2, 4, 5, 3, 2, 1, 4, 2, 5, 1]\n",
    "k = 3"
   ]
  },
  {
   "cell_type": "code",
   "execution_count": 3,
   "metadata": {},
   "outputs": [
    {
     "data": {
      "text/plain": [
       "3"
      ]
     },
     "execution_count": 3,
     "metadata": {},
     "output_type": "execute_result"
    }
   ],
   "source": [
    "solution(stones, k)"
   ]
  }
 ],
 "metadata": {
  "kernelspec": {
   "display_name": "Python 3",
   "language": "python",
   "name": "python3"
  },
  "language_info": {
   "codemirror_mode": {
    "name": "ipython",
    "version": 3
   },
   "file_extension": ".py",
   "mimetype": "text/x-python",
   "name": "python",
   "nbconvert_exporter": "python",
   "pygments_lexer": "ipython3",
   "version": "3.6.9"
  }
 },
 "nbformat": 4,
 "nbformat_minor": 2
}
