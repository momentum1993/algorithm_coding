{
 "cells": [
  {
   "cell_type": "markdown",
   "metadata": {},
   "source": [
    "# N진수 게임"
   ]
  },
  {
   "cell_type": "markdown",
   "metadata": {},
   "source": [
    "[2018 카카오 블라인드 'N진수 게임' 문제 링크](https://programmers.co.kr/learn/courses/30/lessons/17687)  "
   ]
  },
  {
   "cell_type": "markdown",
   "metadata": {},
   "source": [
    "### 문제    \n",
    "튜브가 활동하는 코딩 동아리에서는 전통적으로 해오는 게임이 있다. 이 게임은 여러 사람이 둥글게 앉아서 숫자를 하나씩 차례대로 말하는 게임인데, 규칙은 다음과 같다.  \n",
    "  \n",
    "숫자를 0부터 시작해서 차례대로 말한다. 첫 번째 사람은 0, 두 번째 사람은 1, … 열 번째 사람은 9를 말한다.  \n",
    "10 이상의 숫자부터는 한 자리씩 끊어서 말한다. 즉 열한 번째 사람은 10의 첫 자리인 1, 열두 번째 사람은 둘째 자리인 0을 말한다.  \n",
    "이렇게 게임을 진행할 경우,  \n",
    "0, 1, 2, 3, 4, 5, 6, 7, 8, 9, 1, 0, 1, 1, 1, 2, 1, 3, 1, 4, …  \n",
    "순으로 숫자를 말하면 된다.  \n",
    "  \n",
    "한편 코딩 동아리 일원들은 컴퓨터를 다루는 사람답게 이진수로 이 게임을 진행하기도 하는데, 이 경우에는  \n",
    "0, 1, 1, 0, 1, 1, 1, 0, 0, 1, 0, 1, 1, 1, 0, 1, 1, 1, …  \n",
    "순으로 숫자를 말하면 된다.  \n",
    "  \n",
    "이진수로 진행하는 게임에 익숙해져 질려가던 사람들은 좀 더 난이도를 높이기 위해 이진법에서 십육진법까지 모든 진법으로 게임을 진행해보기로 했다. 숫자 게임이 익숙하지 않은 튜브는 게임에 져서 벌칙을 받는 굴욕을 피하기 위해, 자신이 말해야 하는 숫자를 스마트폰에 미리 출력해주는 프로그램을 만들려고 한다. 튜브의 프로그램을 구현하라.  \n",
    "  \n",
    "### 입력 형식  \n",
    "진법 n, 미리 구할 숫자의 갯수 t, 게임에 참가하는 인원 m, 튜브의 순서 p 가 주어진다.\n",
    "  \n",
    "2 ≦ n ≦ 16  \n",
    "0 ＜ t ≦ 1000  \n",
    "2 ≦ m ≦ 100  \n",
    "1 ≦ p ≦ m  \n",
    "  \n",
    "### 출력 형식  \n",
    "튜브가 말해야 하는 숫자 t개를 공백 없이 차례대로 나타낸 문자열. 단, 10\\~15는 각각 대문자 A\\~F로 출력한다.  \n",
    "  "
   ]
  },
  {
   "cell_type": "code",
   "execution_count": 1,
   "metadata": {},
   "outputs": [],
   "source": [
    "def solution(n, t, m, p):\n",
    "    answer = '' # 답\n",
    "    all_answer = '0' # 0부터 시작해서 n진수에 해당하는 수를 모두 집어넣을 답\n",
    "    num = 1 # 현재 탐색중인 수\n",
    "    # 0에 대해서는 이미 기입해놨기 때문에 1부터 탐색\n",
    "    while len(all_answer) < p + (t * m): # 만약 우리가 찾아야하는 길이 이상이라면 그만 탐색\n",
    "        target = num\n",
    "        t_answer = ''\n",
    "        while target > 0:\n",
    "            if target % n > 9: # 이번에 추가될 숫자가 10 이상일 경우 알파벳 대문자가 들어간다.\n",
    "                t_answer = chr(65 + (target % n) - 10) + t_answer\n",
    "            else: # 추가될 숫자가 10보다 작다면 바로 추가\n",
    "                t_answer = str(target % n) + t_answer\n",
    "            target //= n # n진수의 n만큼 나눠서 다시 검사\n",
    "        all_answer += t_answer # 그리고 숫자에 대해 n진수값을 더한다.\n",
    "        num += 1\n",
    "    for turn in range(t):\n",
    "        answer += all_answer[turn*m + (p-1)]\n",
    "        # 찾고자하는 유저의 t번째 턴에서의 p번째일 때 말해야하는 숫자 추가\n",
    "    return answer # 답 반환"
   ]
  },
  {
   "cell_type": "code",
   "execution_count": 2,
   "metadata": {},
   "outputs": [],
   "source": [
    "n, t, m, p = 2, 4, 2, 1"
   ]
  },
  {
   "cell_type": "code",
   "execution_count": 3,
   "metadata": {},
   "outputs": [
    {
     "data": {
      "text/plain": [
       "'0111'"
      ]
     },
     "execution_count": 3,
     "metadata": {},
     "output_type": "execute_result"
    }
   ],
   "source": [
    "solution(n, t, m, p)"
   ]
  },
  {
   "cell_type": "code",
   "execution_count": 4,
   "metadata": {},
   "outputs": [],
   "source": [
    "n, t, m, p = 16, 16, 2, 1"
   ]
  },
  {
   "cell_type": "code",
   "execution_count": 5,
   "metadata": {},
   "outputs": [
    {
     "data": {
      "text/plain": [
       "'02468ACE11111111'"
      ]
     },
     "execution_count": 5,
     "metadata": {},
     "output_type": "execute_result"
    }
   ],
   "source": [
    "solution(n, t, m, p)"
   ]
  },
  {
   "cell_type": "code",
   "execution_count": 6,
   "metadata": {},
   "outputs": [],
   "source": [
    "n, t, m, p = 16, 16, 2, 2"
   ]
  },
  {
   "cell_type": "code",
   "execution_count": 7,
   "metadata": {},
   "outputs": [
    {
     "data": {
      "text/plain": [
       "'13579BDF01234567'"
      ]
     },
     "execution_count": 7,
     "metadata": {},
     "output_type": "execute_result"
    }
   ],
   "source": [
    "solution(n, t, m, p)"
   ]
  }
 ],
 "metadata": {
  "kernelspec": {
   "display_name": "Python 3",
   "language": "python",
   "name": "python3"
  },
  "language_info": {
   "codemirror_mode": {
    "name": "ipython",
    "version": 3
   },
   "file_extension": ".py",
   "mimetype": "text/x-python",
   "name": "python",
   "nbconvert_exporter": "python",
   "pygments_lexer": "ipython3",
   "version": "3.6.9"
  }
 },
 "nbformat": 4,
 "nbformat_minor": 2
}
