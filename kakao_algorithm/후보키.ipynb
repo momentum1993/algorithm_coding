{
 "cells": [
  {
   "cell_type": "markdown",
   "metadata": {},
   "source": [
    "# 후보키"
   ]
  },
  {
   "cell_type": "markdown",
   "metadata": {},
   "source": [
    "[2019 카카오 블라인드 '후보키' 문제 링크](https://programmers.co.kr/learn/courses/30/lessons/42890)"
   ]
  },
  {
   "cell_type": "markdown",
   "metadata": {},
   "source": [
    "### 문제    \n",
    "프렌즈대학교 컴퓨터공학과 조교인 제이지는 네오 학과장님의 지시로, 학생들의 인적사항을 정리하는 업무를 담당하게 되었다.  \n",
    "  \n",
    "그의 학부 시절 프로그래밍 경험을 되살려, 모든 인적사항을 데이터베이스에 넣기로 하였고, 이를 위해 정리를 하던 중에 후보키(Candidate Key)에 대한 고민이 필요하게 되었다.  \n",
    "  \n",
    "후보키에 대한 내용이 잘 기억나지 않던 제이지는, 정확한 내용을 파악하기 위해 데이터베이스 관련 서적을 확인하여 아래와 같은 내용을 확인하였다.  \n",
    "  \n",
    "- 관계 데이터베이스에서 릴레이션(Relation)의 튜플(Tuple)을 유일하게 식별할 수 있는 속성(Attribute) 또는 속성의 집합 중, 다음 두 성질을 만족하는 것을 후보 키(Candidate Key)라고 한다.  \n",
    "    - 유일성(uniqueness) : 릴레이션에 있는 모든 튜플에 대해 유일하게 식별되어야 한다.  \n",
    "    - 최소성(minimality) : 유일성을 가진 키를 구성하는 속성(Attribute) 중 하나라도 제외하는 경우 유일성이 깨지는 것을 의미한다. 즉, 릴레이션의 모든 튜플을 유일하게 식별하는 데 꼭 필요한 속성들로만 구성되어야 한다.  \n",
    "    \n",
    "제이지를 위해, 아래와 같은 학생들의 인적사항이 주어졌을 때, 후보 키의 최대 개수를 구하라.  \n",
    "  \n",
    "![](https://grepp-programmers.s3.amazonaws.com/files/production/f1a3a40ede/005eb91e-58e5-4109-9567-deb5e94462e3.jpg)  \n",
    "  \n",
    "위의 예를 설명하면, 학생의 인적사항 릴레이션에서 모든 학생은 각자 유일한 학번을 가지고 있다. 따라서 학번은 릴레이션의 후보 키가 될 수 있다.  \n",
    "그다음 이름에 대해서는 같은 이름(apeach)을 사용하는 학생이 있기 때문에, 이름은 후보 키가 될 수 없다. 그러나, 만약 [이름, 전공]을 함께 사용한다면 릴레이션의 모든 튜플을 유일하게 식별 가능하므로 후보 키가 될 수 있게 된다.  \n",
    "물론 [이름, 전공, 학년]을 함께 사용해도 릴레이션의 모든 튜플을 유일하게 식별할 수 있지만, 최소성을 만족하지 못하기 때문에 후보 키가 될 수 없다.  \n",
    "따라서, 위의 학생 인적사항의 후보키는 학번, [이름, 전공] 두 개가 된다.  \n",
    "  \n",
    "릴레이션을 나타내는 문자열 배열 relation이 매개변수로 주어질 때, 이 릴레이션에서 후보 키의 개수를 return 하도록 solution 함수를 완성하라.  \n",
    "  \n",
    "### 제한사항  \n",
    "- relation은 2차원 문자열 배열이다.  \n",
    "- relation의 컬럼(column)의 길이는 1 이상 8 이하이며, 각각의 컬럼은 릴레이션의 속성을 나타낸다.  \n",
    "- relation의 로우(row)의 길이는 1 이상 20 이하이며, 각각의 로우는 릴레이션의 튜플을 나타낸다.  \n",
    "- relation의 모든 문자열의 길이는 1 이상 8 이하이며, 알파벳 소문자와 숫자로만 이루어져 있다.  \n",
    "- relation의 모든 튜플은 유일하게 식별 가능하다.(즉, 중복되는 튜플은 없다.)  "
   ]
  },
  {
   "cell_type": "code",
   "execution_count": 1,
   "metadata": {},
   "outputs": [],
   "source": [
    "from queue import Queue\n",
    "\n",
    "def check_candidate(relation, row_len, col_len): # 후보키 계산\n",
    "    answer = 0 # 답\n",
    "    check_tuple = set() # 유일성 판별할 집합\n",
    "    candidate_key = [] # 최소성 판별할 리스트\n",
    "    q = Queue() # 너비우선탐색 진행\n",
    "    for i in range(col_len):\n",
    "        q.put(1 << i) # 먼저 컬럼 1개만 포함할 경우를 탐색\n",
    "    indice = 0 # 비트마스크를 이용하여 이진법으로 포함하는 컬럼 표시\n",
    "    while not q.empty():\n",
    "        minimality = True # 최소성 판별 플래그\n",
    "        indice = q.get() # 다음 탐색할 후보키의 후보\n",
    "        for k in candidate_key: # 이미 탐색된 후보키에 대해서\n",
    "            if k & indice == k:\n",
    "                minimality = False\n",
    "            # 만약 현재 탐색하려는 슈퍼키가 최소성 만족하는지 여부 판별\n",
    "        if not minimality:\n",
    "            continue # 최소성 불만족의 경우 다음 슈퍼키를 탐색\n",
    "        check_tuple.clear() # 집합을 비운다.\n",
    "        \n",
    "        check = [] # 슈퍼키를 이루는 컬럼 인덱스\n",
    "        for i in range(col_len):\n",
    "            if indice & (1 << i):\n",
    "                check.append(i) \n",
    "                \n",
    "        for r in relation: # 릴레이션의 모든 튜플에 대해서\n",
    "            check_tuple.add(tuple([r[x] for x in check]))\n",
    "            # 해당하는 컬럼의 값들을 집합에 넣는다.\n",
    "        if len(check_tuple) == row_len: # 집합의 크기와 입력한 값들의 크기가 동일하다면\n",
    "            answer += 1 # 이는 유일성을 지닌다.\n",
    "            candidate_key.append(indice)\n",
    "            continue # 유일성을 지니는 후보키의 최소성을 유지하기 위해\n",
    "            # 해당하는 후보키에 대해서는 탐색을 멈춘다.\n",
    "        start = check[-1] + 1\n",
    "        for idx in range(start, col_len): # 해당하는 후보의 다음 인덱스에 대해서\n",
    "            q.put(indice | (1 << idx)) # 다음 인덱스를 추가한 값에 대해서 다시 탐색할 것임.\n",
    "    return answer # 답 반환\n",
    "        \n",
    "\n",
    "def solution(relation):\n",
    "    answer = 0\n",
    "    row_len = len(relation) # 튜플 개수\n",
    "    col_len = len(relation[0]) # 해당 컬럼 개수\n",
    "    answer = check_candidate(relation, row_len, col_len) # 답 반환\n",
    "    return answer"
   ]
  },
  {
   "cell_type": "code",
   "execution_count": 2,
   "metadata": {},
   "outputs": [],
   "source": [
    "relation = [[\"100\",\"ryan\",\"music\",\"2\"],[\"200\",\"apeach\",\"math\",\"2\"],[\"300\",\"tube\",\"computer\",\"3\"],[\"400\",\"con\",\"computer\",\"4\"],[\"500\",\"muzi\",\"music\",\"3\"],[\"600\",\"apeach\",\"music\",\"2\"]]"
   ]
  },
  {
   "cell_type": "code",
   "execution_count": 3,
   "metadata": {
    "scrolled": true
   },
   "outputs": [
    {
     "data": {
      "text/plain": [
       "2"
      ]
     },
     "execution_count": 3,
     "metadata": {},
     "output_type": "execute_result"
    }
   ],
   "source": [
    "solution(relation)"
   ]
  }
 ],
 "metadata": {
  "kernelspec": {
   "display_name": "Python 3",
   "language": "python",
   "name": "python3"
  },
  "language_info": {
   "codemirror_mode": {
    "name": "ipython",
    "version": 3
   },
   "file_extension": ".py",
   "mimetype": "text/x-python",
   "name": "python",
   "nbconvert_exporter": "python",
   "pygments_lexer": "ipython3",
   "version": "3.6.9"
  }
 },
 "nbformat": 4,
 "nbformat_minor": 2
}
