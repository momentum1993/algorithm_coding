{
 "cells": [
  {
   "cell_type": "markdown",
   "metadata": {},
   "source": [
    "# 오픈채팅방"
   ]
  },
  {
   "cell_type": "markdown",
   "metadata": {},
   "source": [
    "[2019 카카오 블라인드 '오픈채팅방' 문제 링크](https://programmers.co.kr/learn/courses/30/lessons/42888)"
   ]
  },
  {
   "cell_type": "markdown",
   "metadata": {},
   "source": [
    "### 문제    \n",
    "카카오톡 오픈채팅방에서는 친구가 아닌 사람들과 대화를 할 수 있는데, 본래 닉네임이 아닌 가상의 닉네임을 사용하여 채팅방에 들어갈 수 있다.  \n",
    "  \n",
    "신입사원인 김크루는 카카오톡 오픈 채팅방을 개설한 사람을 위해, 다양한 사람들이 들어오고, 나가는 것을 지켜볼 수 있는 관리자창을 만들기로 했다. 채팅방에 누군가 들어오면 다음 메시지가 출력된다.  \n",
    "  \n",
    "[닉네임]님이 들어왔습니다.  \n",
    "  \n",
    "채팅방에서 누군가 나가면 다음 메시지가 출력된다.  \n",
    "  \n",
    "[닉네임]님이 나갔습니다.  \n",
    "  \n",
    "채팅방에서 닉네임을 변경하는 방법은 다음과 같이 두 가지이다.  \n",
    "  \n",
    "- 채팅방을 나간 후, 새로운 닉네임으로 다시 들어간다.  \n",
    "- 채팅방에서 닉네임을 변경한다.  \n",
    "  \n",
    "닉네임을 변경할 때는 기존에 채팅방에 출력되어 있던 메시지의 닉네임도 전부 변경된다.  \n",
    "  \n",
    "예를 들어, 채팅방에 Muzi와 Prodo라는 닉네임을 사용하는 사람이 순서대로 들어오면 채팅방에는 다음과 같이 메시지가 출력된다.  \n",
    "  \n",
    "Muzi님이 들어왔습니다.  \n",
    "Prodo님이 들어왔습니다.  \n",
    "  \n",
    "채팅방에 있던 사람이 나가면 채팅방에는 다음과 같이 메시지가 남는다.  \n",
    "  \n",
    "Muzi님이 들어왔습니다.  \n",
    "Prodo님이 들어왔습니다.  \n",
    "Muzi님이 나갔습니다.  \n",
    "  \n",
    "Muzi가 나간후 다시 들어올 때, Prodo 라는 닉네임으로 들어올 경우 기존에 채팅방에 남아있던 Muzi도 Prodo로 다음과 같이 변경된다.  \n",
    "  \n",
    "Prodo님이 들어왔습니다.  \n",
    "Prodo님이 들어왔습니다.  \n",
    "Prodo님이 나갔습니다.  \n",
    "Prodo님이 들어왔습니다.  \n",
    "  \n",
    "채팅방은 중복 닉네임을 허용하기 때문에, 현재 채팅방에는 Prodo라는 닉네임을 사용하는 사람이 두 명이 있다. 이제, 채팅방에 두 번째로 들어왔던 Prodo가 Ryan으로 닉네임을 변경하면 채팅방 메시지는 다음과 같이 변경된다.  \n",
    "  \n",
    "Prodo님이 들어왔습니다.  \n",
    "Ryan님이 들어왔습니다.  \n",
    "Prodo님이 나갔습니다.  \n",
    "Prodo님이 들어왔습니다.  \n",
    "  \n",
    "채팅방에 들어오고 나가거나, 닉네임을 변경한 기록이 담긴 문자열 배열 record가 매개변수로 주어질 때, 모든 기록이 처리된 후, 최종적으로 방을 개설한 사람이 보게 되는 메시지를 문자열 배열 형태로 return 하도록 solution 함수를 완성하라.  \n",
    "  \n",
    "### 제한사항  \n",
    "- record는 다음과 같은 문자열이 담긴 배열이며, 길이는 1 이상 100,000 이하이다.  \n",
    "- 다음은 record에 담긴 문자열에 대한 설명이다.  \n",
    "    - 모든 유저는 [유저 아이디]로 구분한다.  \n",
    "    - [유저 아이디] 사용자가 [닉네임]으로 채팅방에 입장 - Enter [유저 아이디] [닉네임] (ex. Enter uid1234 Muzi)  \n",
    "    - [유저 아이디] 사용자가 채팅방에서 퇴장 - Leave [유저 아이디] (ex. Leave uid1234)  \n",
    "    - [유저 아이디] 사용자가 닉네임을 [닉네임]으로 변경 - Change [유저 아이디] [닉네임] (ex. Change uid1234 Muzi)  \n",
    "    - 첫 단어는 Enter, Leave, Change 중 하나이다.  \n",
    "    - 각 단어는 공백으로 구분되어 있으며, 알파벳 대문자, 소문자, 숫자로만 이루어져있다.  \n",
    "    - 유저 아이디와 닉네임은 알파벳 대문자, 소문자를 구별한다.  \n",
    "    - 유저 아이디와 닉네임의 길이는 1 이상 10 이하이다.  \n",
    "    - 채팅방에서 나간 유저가 닉네임을 변경하는 등 잘못 된 입력은 주어지지 않는다.    "
   ]
  },
  {
   "cell_type": "code",
   "execution_count": 69,
   "metadata": {},
   "outputs": [],
   "source": [
    "def solution(record):\n",
    "    answer = []\n",
    "    \n",
    "    id_dict = {} # id별 닉네임\n",
    "    id_indice = {} # 해당 id를 가진 사람의 기록 인덱스\n",
    "    \n",
    "    nickname = \"\"\n",
    "    len_answer = 0\n",
    "    for i in range(len(record)): # 모든 기록에 대해서\n",
    "        command = record[i].split()\n",
    "        uid = command[1] # uid\n",
    "        \n",
    "        if command[0] == \"Enter\": # 만약 \"Enter\"명령이라면\n",
    "            if id_dict.get(uid): # 이미 id에 대한 기록이 있다면\n",
    "                len_id_before = len(id_dict[uid])\n",
    "                for idx in id_indice[uid]: # 이미 적힌 문자열에 대해서 닉네임 변환\n",
    "                    answer[idx] = command[2]+answer[idx][len_id_before:]\n",
    "                    # 닉네임을 바꿔서 다시 적어준다.\n",
    "                id_dict[uid] = command[2] # 그리고 사전도 새로운 닉네임으로 갱신해준다.\n",
    "                nickname = id_dict[uid] # 닉네임\n",
    "            else: # 만약 새로 들어오는 것이라면\n",
    "                id_dict[uid] = command[2] # 사전에 인덱스를 넣는다.\n",
    "                nickname = id_dict[uid] # 닉네임\n",
    "            answer.append(\"{}님이 들어왔습니다.\".format(nickname))\n",
    "            # {닉네임}님이 들어왔습니다. 기록\n",
    "            \n",
    "        elif command[0]== \"Leave\": # 만약 \"Leave\" 명령이라면\n",
    "            nickname = id_dict[uid] \n",
    "            answer.append(\"{}님이 나갔습니다.\".format(nickname))\n",
    "            # {닉네임}님이 나갔습니다. 기록\n",
    "            \n",
    "        else: # command[0]== \"Change\" # \"Change\" 명령이라면\n",
    "            len_id_before = len(id_dict[uid])\n",
    "            for idx in id_indice[uid]: # 해당 id를 가지는 기록 모두에 대해서\n",
    "                answer[idx] = command[2]+answer[idx][len_id_before:]\n",
    "                # 닉네임을 갱신해준다.\n",
    "            id_dict[uid] = command[2]\n",
    "            # 그리고 사전의 닉네임도 갱신해준다.\n",
    "            continue\n",
    "            \n",
    "        if id_indice.get(uid): # 만약 id가 이미 있다면\n",
    "            id_indice[uid].append(len_answer) # 해당 id에 대한 idx 추가\n",
    "        else: # 만약 새로 입력된 id라면\n",
    "            id_indice[uid] = [len_answer] # id를 새로운 id에 대해서 저장\n",
    "            id_dict[uid] = nickname\n",
    "        len_answer += 1\n",
    "    return answer"
   ]
  },
  {
   "cell_type": "code",
   "execution_count": 11,
   "metadata": {},
   "outputs": [],
   "source": [
    "record = [\"Enter uid1234 Muzi\", \"Enter uid4567 Prodo\",\"Leave uid1234\",\"Enter uid1234 Prodo\",\"Change uid4567 Ryan\"]"
   ]
  },
  {
   "cell_type": "code",
   "execution_count": 12,
   "metadata": {
    "scrolled": true
   },
   "outputs": [
    {
     "data": {
      "text/plain": [
       "['Prodo님이 들어왔습니다.', 'Ryan님이 들어왔습니다.', 'Prodo님이 나갔습니다.', 'Prodo님이 들어왔습니다.']"
      ]
     },
     "execution_count": 12,
     "metadata": {},
     "output_type": "execute_result"
    }
   ],
   "source": [
    "solution(record)"
   ]
  }
 ],
 "metadata": {
  "kernelspec": {
   "display_name": "Python 3",
   "language": "python",
   "name": "python3"
  },
  "language_info": {
   "codemirror_mode": {
    "name": "ipython",
    "version": 3
   },
   "file_extension": ".py",
   "mimetype": "text/x-python",
   "name": "python",
   "nbconvert_exporter": "python",
   "pygments_lexer": "ipython3",
   "version": "3.6.9"
  }
 },
 "nbformat": 4,
 "nbformat_minor": 2
}
