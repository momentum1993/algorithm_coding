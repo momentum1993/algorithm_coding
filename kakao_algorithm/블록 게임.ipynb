{
 "cells": [
  {
   "cell_type": "markdown",
   "metadata": {},
   "source": [
    "# 블록 게임"
   ]
  },
  {
   "cell_type": "markdown",
   "metadata": {},
   "source": [
    "[2019 카카오 블라인드 '블록 게임' 문제 링크](https://programmers.co.kr/learn/courses/30/lessons/42894)  "
   ]
  },
  {
   "cell_type": "markdown",
   "metadata": {},
   "source": [
    "### 문제    \n",
    "프렌즈 블록이라는 신규 게임이 출시되었고, 어마어마한 상금이 걸린 이벤트 대회가 개최 되었다.  \n",
    "  \n",
    "이 대회는 사람을 대신해서 플레이할 프로그램으로 참가해도 된다는 규정이 있어서, 게임 실력이 형편없는 프로도는 프로그램을 만들어서 참가하기로 결심하고 개발을 시작하였다.  \n",
    "  \n",
    "프로도가 우승할 수 있도록 도와서 빠르고 정확한 프로그램을 작성해 보자.  \n",
    "  \n",
    "### 게임규칙  \n",
    "아래 그림과 같이 1×1 크기의 블록을 이어 붙여 만든 3 종류의 블록을 회전해서 총 12가지 모양의 블록을 만들 수 있다.  \n",
    "  \n",
    "![](https://grepp-programmers.s3.amazonaws.com/files/production/1b22ebaad2/13a37af2-2ed1-4312-aae4-94ba9ef21679.png)  \n",
    "  \n",
    "1 x 1 크기의 정사각형으로 이루어진 N x N 크기의 보드 위에 이 블록들이 배치된 채로 게임이 시작된다. (보드 위에 놓인 블록은 회전할 수 없다). 모든 블록은 블록을 구성하는 사각형들이 정확히 보드 위의 사각형에 맞도록 놓여있으며, 선 위에 걸치거나 보드를 벗어나게 놓여있는 경우는 없다.  \n",
    "  \n",
    "플레이어는 위쪽에서 1 x 1 크기의 검은 블록을 떨어뜨려 쌓을 수 있다. 검은 블록은 항상 맵의 한 칸에 꽉 차게 떨어뜨려야 하며, 줄에 걸치면 안된다.  \n",
    "이때, 검은 블록과 기존에 놓인 블록을 합해 속이 꽉 채워진 직사각형을 만들 수 있다면 그 블록을 없앨 수 있다.  \n",
    "  \n",
    "예를 들어 검은 블록을 떨어뜨려 아래와 같이 만들 경우 주황색 블록을 없앨 수 있다.  \n",
    "  \n",
    "![](https://grepp-programmers.s3.amazonaws.com/files/production/d56e9f9068/8ed8b26d-6a1a-4543-b4ee-60f8f287e748.png)  \n",
    "  \n",
    "빨간 블록을 가로막던 주황색 블록이 없어졌으므로 다음과 같이 빨간 블록도 없앨 수 있다.  \n",
    "  \n",
    "![](https://grepp-programmers.s3.amazonaws.com/files/production/a3ca48b567/010e4297-4499-4ea4-987d-4b42e2fc4c3c.png)  \n",
    "  \n",
    "그러나 다른 블록들은 검은 블록을 떨어뜨려 직사각형으로 만들 수 없기 때문에 없앨 수 없다.  \n",
    "  \n",
    "따라서 위 예시에서 없앨 수 있는 블록은 최대 2개이다.  \n",
    "  \n",
    "보드 위에 놓인 블록의 상태가 담긴 2차원 배열 board가 주어질 때, 검은 블록을 떨어뜨려 없앨 수 있는 블록 개수의 최댓값을 구하라.  \n",
    "  \n",
    "### 제한사항\n",
    "- board는 블록의 상태가 들어있는 N x N 크기 2차원 배열이다.  \n",
    "    - N은 4 이상 50 이하다.  \n",
    "- board의 각 행의 원소는 0 이상 200 이하의 자연수이다.  \n",
    "    - 0 은 빈 칸을 나타낸다.  \n",
    "    - board에 놓여있는 각 블록은 숫자를 이용해 표현한다.  \n",
    "    - 잘못된 블록 모양이 주어지는 경우는 없다.  \n",
    "    - 모양에 관계 없이 서로 다른 블록은 서로 다른 숫자로 표현된다.  \n",
    "    - 예를 들어 문제에 주어진 예시의 경우 다음과 같이 주어진다.  \n",
    "  \n",
    "![](https://grepp-programmers.s3.amazonaws.com/files/production/4d16d87605/9f555cf3-e664-44c4-8567-e01445b9b3b6.png)  \n",
    "  "
   ]
  },
  {
   "cell_type": "code",
   "execution_count": 1,
   "metadata": {},
   "outputs": [],
   "source": [
    "def max_remove_num(board, rectangulars, possible):\n",
    "    answer = 0\n",
    "    for k, v in sorted(rectangulars.items(), key = lambda i : i[1]): # value값순으로 정렬한 키\n",
    "        min_y, max_y, min_x, max_x = v\n",
    "        remove_possible = True # 직사각형의 제거 가능 여부 \n",
    "        for y in range(min_y, max_y): # 직사각형을 차지하는 y좌표에 대해\n",
    "            for x in range(min_x, max_x): # 직사각형을 차지하는 x좌표에 대해\n",
    "                if board[y][x] == 0: # 현재 채워야 하는 칸이라면\n",
    "                    if possible[x] <= y: # 채울 수 없을 경우\n",
    "                        remove_possible = False # 제거 할 수 없음을 표시\n",
    "                else:\n",
    "                    if board[y][x] != k: # 이미 다른 도형이 차지하고 있는 칸이면\n",
    "                        remove_possible = False # 제거 할 수 없음을 표시\n",
    "                    possible[x] = min(y, possible[x])  # 해당 열에서는 possible[x] 번째 행부터의 칸은 채울 수 없음\n",
    "\n",
    "        if remove_possible: # 제거 가능하다면\n",
    "            answer += 1 # 답 추가\n",
    "            for y in range(min_y, max_y): # 직사각형을 차지하는 y좌표에 대해\n",
    "                for x in range(min_x, max_x): # 직사각형을 차지하는 x좌표에 대해\n",
    "                    board[y][x] = 0 # 모두 비워준다.\n",
    "                    if possible[x] == y: # 만약 제거한 블록 위에 막고 있는 블록이 없었다면\n",
    "                        possible[x] = len(board) # 검은 블록이 올 수 있도록 갱신해줌.\n",
    "    return answer\n",
    "    \n",
    "\n",
    "def solution(board):\n",
    "    rectangulars = {} # 가지는 value별 직사각형의 좌측 상단 좌표, 우측 하단 좌표\n",
    "    possible = [len(board) for _ in range(len(board[0]))] # 보드의 col에 대해 검은 블럭이 내려와서 채울수 있는 여부 \n",
    "    # possible[x]는 x번째 col에서 0 ~ possible[x]-1 까지의 row에 위치한 도형은 없애는 것이 가능\n",
    "    for y in range(len(board)):\n",
    "        for x in range(len(board[0])):\n",
    "        # 보드의 모든 좌표에 대해서\n",
    "            if board[y][x] != 0: # 만약 차지하는 도형이 있을 때\n",
    "                possible[x] = min(possible[x], y)\n",
    "                if rectangulars.get(board[y][x]):\n",
    "                    min_y, max_y, min_x, max_x = rectangulars[board[y][x]]\n",
    "                else:\n",
    "                    min_y, max_y, min_x, max_x = (len(board), 0, len(board), 0)\n",
    "                min_y = min(min_y, y)\n",
    "                min_x = min(min_x, x)\n",
    "                max_y = max(max_y, y+1)\n",
    "                max_x = max(max_x, x+1)\n",
    "                rectangulars[board[y][x]] = (min_y, max_y, min_x, max_x)\n",
    "                # 가지는 value에 맞는 직사각형의 좌측 상단 좌표, 우측 하단 좌표 갱신\n",
    "    return max_remove_num(board, rectangulars, possible) # 답 반환"
   ]
  },
  {
   "cell_type": "code",
   "execution_count": 2,
   "metadata": {},
   "outputs": [],
   "source": [
    "board = [\n",
    "    [0,0,0,0,0,0,0,0,0,0],\n",
    "    [0,0,0,0,0,0,0,0,0,0],\n",
    "    [0,0,0,0,0,0,0,0,0,0],\n",
    "    [0,0,0,0,0,0,0,0,0,0],\n",
    "    [0,0,0,0,0,0,4,0,0,0],\n",
    "    [0,0,0,0,0,4,4,0,0,0],\n",
    "    [0,0,0,0,3,0,4,0,0,0],\n",
    "    [0,0,0,2,3,0,0,0,5,5],\n",
    "    [1,2,2,2,3,3,0,0,0,5],\n",
    "    [1,1,1,0,0,0,0,0,0,5]]"
   ]
  },
  {
   "cell_type": "code",
   "execution_count": 3,
   "metadata": {},
   "outputs": [
    {
     "data": {
      "text/plain": [
       "2"
      ]
     },
     "execution_count": 3,
     "metadata": {},
     "output_type": "execute_result"
    }
   ],
   "source": [
    "solution(board)"
   ]
  }
 ],
 "metadata": {
  "kernelspec": {
   "display_name": "Python 3",
   "language": "python",
   "name": "python3"
  },
  "language_info": {
   "codemirror_mode": {
    "name": "ipython",
    "version": 3
   },
   "file_extension": ".py",
   "mimetype": "text/x-python",
   "name": "python",
   "nbconvert_exporter": "python",
   "pygments_lexer": "ipython3",
   "version": "3.6.9"
  }
 },
 "nbformat": 4,
 "nbformat_minor": 2
}
