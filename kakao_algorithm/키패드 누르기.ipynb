{
 "cells": [
  {
   "cell_type": "markdown",
   "metadata": {},
   "source": [
    "\n",
    "# 키패드 누르기"
   ]
  },
  {
   "cell_type": "markdown",
   "metadata": {},
   "source": [
    "[2020 카카오 인턴십 '키패드 누르기' 문제 링크](https://programmers.co.kr/learn/courses/30/lessons/67256)"
   ]
  },
  {
   "cell_type": "markdown",
   "metadata": {},
   "source": [
    "### 문제  \n",
    "스마트폰 전화 키패드의 각 칸에 다음과 같이 숫자들이 적혀 있습니다.  \n",
    "  \n",
    "![](https://grepp-programmers.s3.ap-northeast-2.amazonaws.com/files/production/4b69a271-5f4a-4bf4-9ebf-6ebed5a02d8d/kakao_phone1.png)  \n",
    "  \n",
    "이 전화 키패드에서 왼손과 오른손의 엄지손가락만을 이용해서 숫자만을 입력하려고 합니다.  \n",
    "맨 처음 왼손 엄지손가락은 * 키패드에 오른손 엄지손가락은 # 키패드 위치에서 시작하며, 엄지손가락을 사용하는 규칙은 다음과 같습니다.  \n",
    "  \n",
    "1. 엄지손가락은 상하좌우 4가지 방향으로만 이동할 수 있으며 키패드 이동 한 칸은 거리로 1에 해당합니다.  \n",
    "2. 왼쪽 열의 3개의 숫자 1, 4, 7을 입력할 때는 왼손 엄지손가락을 사용합니다.  \n",
    "3. 오른쪽 열의 3개의 숫자 3, 6, 9를 입력할 때는 오른손 엄지손가락을 사용합니다.  \n",
    "4. 가운데 열의 4개의 숫자 2, 5, 8, 0을 입력할 때는 두 엄지손가락의 현재 키패드의 위치에서 더 가까운 엄지손가락을 사용합니다.  \n",
    "    4-1. 만약 두 엄지손가락의 거리가 같다면, 오른손잡이는 오른손 엄지손가락, 왼손잡이는 왼손 엄지손가락을 사용합니다.  \n",
    "  \n",
    "순서대로 누를 번호가 담긴 배열 numbers, 왼손잡이인지 오른손잡이인 지를 나타내는 문자열 hand가 매개변수로 주어질 때, 각 번호를 누른 엄지손가락이 왼손인 지 오른손인 지를 나타내는 연속된 문자열 형태로 return 하도록 solution 함수를 완성해주세요.  \n",
    "  \n",
    "### 제한사항 \n",
    "- numbers 배열의 크기는 1 이상 1,000 이하입니다.\n",
    "- numbers 배열 원소의 값은 0 이상 9 이하인 정수입니다.\n",
    "- hand는 \"left\" 또는 \"right\" 입니다.\n",
    "    - \"left\"는 왼손잡이, \"right\"는 오른손잡이를 의미합니다.\n",
    "- 왼손 엄지손가락을 사용한 경우는 L, 오른손 엄지손가락을 사용한 경우는 R을 순서대로 이어붙여 문자열 형태로 return 해주세요.  \n",
    "  \n",
    "### 입출력 예  \n",
    "|numbers|\thand|\tresult|\n",
    "|:---:|:---:|:---:|\n",
    "|[1, 3, 4, 5, 8, 2, 1, 4, 5, 9, 5]|\t\"right\"|\t\"LRLLLRLLRRL\"|\n",
    "|[7, 0, 8, 2, 8, 3, 1, 5, 7, 6, 2]|\t\"left\"|\t\"LRLLRRLLLRR\"|\n",
    "|[1, 2, 3, 4, 5, 6, 7, 8, 9, 0]|\t\"right\"|\t\"LLRLLRLLRL\"|  \n",
    "  "
   ]
  },
  {
   "cell_type": "code",
   "execution_count": 1,
   "metadata": {},
   "outputs": [],
   "source": [
    "def solution(numbers, hand):\n",
    "    answer = '' # 답\n",
    "    right_hand = (3, 2) # 오른손의 현재 위치\n",
    "    left_hand = (3, 0) # 왼손의 현재 위치\n",
    "    loc = [] # 각 숫자별 위치\n",
    "    loc.append((3, 1)) # 0번의 위치\n",
    "    for y in range(3):\n",
    "        for x in range(3):\n",
    "            loc.append((y, x)) # 1 ~9까지 각 숫자별 위치 추가\n",
    "            \n",
    "    for num in numbers: # 입력할 모든 숫자에 대해서\n",
    "        if num in [1, 4, 7]: # 숫자가 [1, 4, 7] 중에 하나라면\n",
    "            answer += 'L'\n",
    "            left_hand = loc[num]\n",
    "            # 왼손으로 숫자 누르고 위치 갱신\n",
    "        elif num in [3, 6, 9]: # 숫자가 [3, 6, 9] 중에 하나라면\n",
    "            answer += 'R'\n",
    "            right_hand = loc[num]\n",
    "            # 오른손으로 숫자 누르고 위치 갱신\n",
    "        else: # num in [2, 5, 8, 0]  # 숫자가 [2, 5, 8, 0] 중에 하나라면\n",
    "            r_y, r_x = right_hand\n",
    "            l_y, l_x = left_hand\n",
    "            n_y, n_x = loc[num]\n",
    "            r_dis = abs(r_y-n_y)+abs(r_x-n_x)\n",
    "            l_dis = abs(l_y-n_y)+abs(l_x-n_x)\n",
    "            if r_dis < l_dis: # 오른손이 더 가까울 때는 오른속으로 누른다\n",
    "                right_hand = (n_y, n_x)\n",
    "                answer += 'R'\n",
    "            elif r_dis > l_dis: # 왼손이 더 가까울 때는 왼손으로 누른다\n",
    "                left_hand = (n_y, n_x)\n",
    "                answer += 'L'\n",
    "            else: # 오른손과 왼손의 거리가 같을 때는 주로 쓰는 손으로 누른다\n",
    "                if hand == 'right':\n",
    "                    right_hand = (n_y, n_x)\n",
    "                    answer += 'R'\n",
    "                else: # hand == 'left'\n",
    "                    left_hand = (n_y, n_x)\n",
    "                    answer += 'L'\n",
    "    return answer # 답 반환"
   ]
  },
  {
   "cell_type": "code",
   "execution_count": 2,
   "metadata": {},
   "outputs": [
    {
     "data": {
      "text/plain": [
       "'LRLLLRLLRRL'"
      ]
     },
     "execution_count": 2,
     "metadata": {},
     "output_type": "execute_result"
    }
   ],
   "source": [
    "numbers = [1, 3, 4, 5, 8, 2, 1, 4, 5, 9, 5]\n",
    "hand = \"right\"\n",
    "solution(numbers, hand)"
   ]
  },
  {
   "cell_type": "code",
   "execution_count": 3,
   "metadata": {},
   "outputs": [
    {
     "data": {
      "text/plain": [
       "'LRLLRRLLLRR'"
      ]
     },
     "execution_count": 3,
     "metadata": {},
     "output_type": "execute_result"
    }
   ],
   "source": [
    "numbers = [7, 0, 8, 2, 8, 3, 1, 5, 7, 6, 2]\n",
    "hand = \"left\"\n",
    "solution(numbers, hand)"
   ]
  },
  {
   "cell_type": "code",
   "execution_count": 4,
   "metadata": {},
   "outputs": [
    {
     "data": {
      "text/plain": [
       "'LLRLLRLLRL'"
      ]
     },
     "execution_count": 4,
     "metadata": {},
     "output_type": "execute_result"
    }
   ],
   "source": [
    "numbers = [1, 2, 3, 4, 5, 6, 7, 8, 9, 0]\n",
    "hand = \"right\"\n",
    "solution(numbers, hand)"
   ]
  }
 ],
 "metadata": {
  "kernelspec": {
   "display_name": "Python 3",
   "language": "python",
   "name": "python3"
  },
  "language_info": {
   "codemirror_mode": {
    "name": "ipython",
    "version": 3
   },
   "file_extension": ".py",
   "mimetype": "text/x-python",
   "name": "python",
   "nbconvert_exporter": "python",
   "pygments_lexer": "ipython3",
   "version": "3.6.9"
  }
 },
 "nbformat": 4,
 "nbformat_minor": 2
}
