{
 "cells": [
  {
   "cell_type": "markdown",
   "metadata": {},
   "source": [
    "\n",
    "# 동굴 탐험"
   ]
  },
  {
   "cell_type": "markdown",
   "metadata": {},
   "source": [
    "[2020 카카오 인턴십 '동굴 탐험' 문제 링크](https://programmers.co.kr/learn/courses/30/lessons/67260)"
   ]
  },
  {
   "cell_type": "markdown",
   "metadata": {},
   "source": [
    "### 문제  \n",
    "[본 문제는 정확성과 효율성 테스트 각각 점수가 있는 문제입니다.]  \n",
    "  \n",
    "![](https://grepp-programmers.s3.ap-northeast-2.amazonaws.com/files/production/f21e69f3-58ea-4579-b1ba-636a07dfc38e/kakao_cave1.png)  \n",
    "  \n",
    "오지 탐험가인 프로도는 탐험 도중 n개의 방으로 이루어진 지하 동굴을 탐험하게 되었습니다. 모든 방에는 0부터 n - 1 까지 번호가 붙어있고, 이 동굴에 들어갈 수 있는 유일한 입구는 0번 방과 연결되어 있습니다. 각 방들은 양방향으로 통행이 가능한 통로로 서로 연결되어 있는데, 서로 다른 두 방을 직접 연결하는 통로는 오직 하나입니다. 임의의 서로 다른 두 방 사이의 최단경로는 딱 한 가지만 있으며, 또한 임의의 두 방 사이에 이동이 불가능한 경우는 없습니다.  \n",
    "  \n",
    "탐험에 앞서 이 지하 동굴의 지도를 손에 넣은 프로도는 다음과 같이 탐험 계획을 세웠습니다.  \n",
    "  \n",
    "1. 모든 방을 적어도 한 번은 방문해야 합니다.  \n",
    "2. 특정 방은 방문하기 전에 반드시 먼저 방문할 방이 정해져 있습니다.  \n",
    "    2-1. 이는 A번 방은 방문하기 전에 반드시 B번 방을 먼저 방문해야 한다는 의미입니다.  \n",
    "    2-2. 어떤 방을 방문하기 위해 반드시 먼저 방문해야 하는 방은 없거나 또는 1개 입니다.  \n",
    "    2-3. 서로 다른 두 개 이상의 방에 대해 먼저 방문해야 하는 방이 같은 경우는 없습니다.  \n",
    "    2-4. 어떤 방이 먼저 방문해야 하는 방이면서 동시에 나중에 방문해야 되는 방인 경우는 없습니다.  \n",
    "    \n",
    "위 계획 중 2-2, 2-3, 2-4는 순서를 지켜 방문해야 하는 두 방의 쌍이 A → B(A를 먼저 방문하고 B를 방문함) 형태로 유일함을 의미합니다. 즉, 프로도는 아래와 같은 형태로 방문순서가 잡히지 않도록 방문 계획을 세웠습니다.  \n",
    "  \n",
    "- A → B, A → C (방문순서 배열 order = [...,[A,B],...,[A,C],...]) 형태로 A를 방문 후에 방문해야 할 방이 B와 C로 두 개 또는 그 이상인 경우  \n",
    "- X → A, Z → A (방문순서 배열 order = [...,[X,A],...,[Z,A],...]) 형태로 A를 방문하기 전에 방문해야 할 방이 X와 Z로 두 개 또는 그 이상인 경우  \n",
    "- A → B → C (방문순서 배열 order = [...,[A,B],...,[B,C],...) 형태로 B처럼 A 방문 후이면서 동시에 C 방문 전인 경우  \n",
    "  \n",
    "그리고 먼저 방문해야 할 방과 나중에 방문할 방을 반드시 연속해서 방문해야 할 필요는 없어 A방을 방문한 후 다른 방을 방문한 후 B방을 방문해도 좋습니다.  \n",
    "  \n",
    "방 개수 n, 동굴의 각 통로들이 연결하는 두 방의 번호가 담긴 2차원 배열 path, 프로도가 정한 방문 순서가 담긴 2차원 배열 order가 매개변수로 주어질 때, 프로도가 규칙에 맞게 모든 방을 탐험할 수 있을 지 return 하도록 solution 함수를 완성해주세요.  \n",
    "  \n",
    "### 제한사항 \n",
    "- n은 2 이상 200,000 이하입니다.\n",
    "- path 배열의 세로(행) 길이는 n - 1 입니다.\n",
    "    - path 배열의 원소는 [방 번호 A, 방 번호 B] 형태입니다.\n",
    "    - 두 방 A, B사이를 연결하는 통로를 나타냅니다.\n",
    "    - 통로가 연결하는 두 방 번호가 순서없이 들어있음에 주의하세요.\n",
    "- order 배열의 세로(행) 길이는 1 이상 (n / 2) 이하입니다.\n",
    "    - order 배열의 원소는 [방 번호 A, 방 번호 B] 형태입니다.\n",
    "    - A번 방을 먼저 방문한 후 B번 방을 방문해야 함을 나타냅니다.    \n",
    "  \n",
    "### 입출력 예  \n",
    "|n|\tpath|\torder|\tresult|\n",
    "|:---:|:---:|:---:|:---:|\n",
    "|9|\t[[0,1],[0,3],[0,7],[8,1],[3,6],[1,2],[4,7],[7,5]]|\t[[8,5],[6,7],[4,1]]|\ttrue|\n",
    "|9|\t[[8,1],[0,1],[1,2],[0,7],[4,7],[0,3],[7,5],[3,6]]|\t[[4,1],[5,2]]|\ttrue|\n",
    "|9|\t[[0,1],[0,3],[0,7],[8,1],[3,6],[1,2],[4,7],[7,5]]|\t[[4,1],[8,7],[6,5]]|\tfalse|  \n",
    "  "
   ]
  },
  {
   "cell_type": "code",
   "execution_count": 1,
   "metadata": {},
   "outputs": [],
   "source": [
    "from collections import defaultdict\n",
    "from queue import Queue\n",
    "\n",
    "def simulation(n, adjacent, before):\n",
    "    q = Queue() # 큐\n",
    "    q.put(0) # 0번방부터 시작\n",
    "    visited = [False for _ in range(n)] # 해당 인덱스번 방 방문 여부\n",
    "    waiting = [-1 for _ in range(n)] # 해당 인덱스번 방을 기다리고 있는 방\n",
    "    visited[0] = True # 0번방을 방문함\n",
    "    total_num = 0 # 총 방문한 방의 개수\n",
    "    while not q.empty():\n",
    "        node = q.get() # 큐에서 탐색할 방을 pop\n",
    "        \n",
    "        if waiting[node] >= 0 and visited[waiting[node]]: # 만약 현재 탐색하는 node번방을 기다리고 있는 방이 있었다면\n",
    "            q.put(waiting[node]) # 기다리고 있던 방을 다시 큐에 push\n",
    "        \n",
    "        if before[node] >= 0 and not visited[before[node]]: # node번방 이전에 방문해야할 방이 있을 경우\n",
    "            waiting[before[node]] = node # 방문해야할 방을 기다리는 방 idx에 node 저장\n",
    "            continue\n",
    "            \n",
    "        total_num += 1 # 방문한 방 1 증가\n",
    "        if total_num == n: # 만약 n개의 방 모두를 방문했다면\n",
    "            return True # True 반환\n",
    "        \n",
    "        for i in adjacent[node]: # node번방과 연결된 방들에 대해서\n",
    "            if visited[i]: # 이미 방문한 방이라면 넘어감\n",
    "                continue\n",
    "            visited[i] = True # i번 방을 방문했음을 체크\n",
    "            q.put(i) # i번 방을 큐에 push\n",
    "    return False # 모든 방을 순서에 따라 방문할 수 없음을 반환\n",
    "\n",
    "def solution(n, path, order):\n",
    "    adjacent = defaultdict(list) # 각 방에 연결된 방들의 리스트\n",
    "    for a, b in path:\n",
    "        adjacent[a].append(b)\n",
    "        adjacent[b].append(a)\n",
    "        # a번방과 b번방은 연결되어 있음을 표시\n",
    "    \n",
    "    before = [-1 for _ in range(n)] # 각 방에 방문하기 전에 먼저 방문해야하는 방\n",
    "    for a, b in order:\n",
    "        before[b] = a # b번방 도착 이전에 a번방에 먼저 방문해야 한다\n",
    "    if before[0] >= 0: # 만약 0번방 이전에 먼저 방문해야할 방이 있다면\n",
    "        return False # False 반환\n",
    "    return simulation(n, adjacent, before) # 시뮬레이션 진행 후 탐험 가능 여부 반환"
   ]
  },
  {
   "cell_type": "code",
   "execution_count": 2,
   "metadata": {},
   "outputs": [
    {
     "data": {
      "text/plain": [
       "True"
      ]
     },
     "execution_count": 2,
     "metadata": {},
     "output_type": "execute_result"
    }
   ],
   "source": [
    "n = 9\n",
    "path = [[0,1],[0,3],[0,7],[8,1],[3,6],[1,2],[4,7],[7,5]]\n",
    "order = [[8,5],[6,7],[4,1]]\n",
    "solution(n, path, order)"
   ]
  },
  {
   "cell_type": "code",
   "execution_count": 3,
   "metadata": {},
   "outputs": [
    {
     "data": {
      "text/plain": [
       "True"
      ]
     },
     "execution_count": 3,
     "metadata": {},
     "output_type": "execute_result"
    }
   ],
   "source": [
    "n = 9\n",
    "path = [[8,1],[0,1],[1,2],[0,7],[4,7],[0,3],[7,5],[3,6]]\n",
    "order = [[4,1],[5,2]]\n",
    "solution(n, path, order)"
   ]
  },
  {
   "cell_type": "code",
   "execution_count": 4,
   "metadata": {},
   "outputs": [
    {
     "data": {
      "text/plain": [
       "False"
      ]
     },
     "execution_count": 4,
     "metadata": {},
     "output_type": "execute_result"
    }
   ],
   "source": [
    "n = 9\n",
    "path = [[0,1],[0,3],[0,7],[8,1],[3,6],[1,2],[4,7],[7,5]]\n",
    "order = [[4,1],[8,7],[6,5]]\n",
    "solution(n, path, order)"
   ]
  }
 ],
 "metadata": {
  "kernelspec": {
   "display_name": "Python 3",
   "language": "python",
   "name": "python3"
  },
  "language_info": {
   "codemirror_mode": {
    "name": "ipython",
    "version": 3
   },
   "file_extension": ".py",
   "mimetype": "text/x-python",
   "name": "python",
   "nbconvert_exporter": "python",
   "pygments_lexer": "ipython3",
   "version": "3.6.9"
  }
 },
 "nbformat": 4,
 "nbformat_minor": 2
}
