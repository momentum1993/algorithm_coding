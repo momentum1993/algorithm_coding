{
 "cells": [
  {
   "cell_type": "markdown",
   "metadata": {},
   "source": [
    "# 매칭 점수"
   ]
  },
  {
   "cell_type": "markdown",
   "metadata": {},
   "source": [
    "[2019 카카오 블라인드 '매칭 점수' 문제 링크](https://programmers.co.kr/learn/courses/30/lessons/42893)"
   ]
  },
  {
   "cell_type": "markdown",
   "metadata": {},
   "source": [
    "### 문제    \n",
    "프렌즈 대학교 조교였던 제이지는 허드렛일만 시키는 네오 학과장님의 마수에서 벗어나, 카카오에 입사하게 되었다.  \n",
    "평소에 관심있어하던 검색에 마침 결원이 발생하여, 검색개발팀에 편입될 수 있었고, 대망의 첫 프로젝트를 맡게 되었다.  \n",
    "그 프로젝트는 검색어에 가장 잘 맞는 웹페이지를 보여주기 위해 아래와 같은 규칙으로 검색어에 대한 웹페이지의 매칭점수를 계산 하는 것이었다.  \n",
    "  \n",
    "- 한 웹페이지에 대해서 기본점수, 외부 링크 수, 링크점수, 그리고 매칭점수를 구할 수 있다.  \n",
    "- 한 웹페이지의 기본점수는 해당 웹페이지의 텍스트 중, 검색어가 등장하는 횟수이다. (대소문자 무시)  \n",
    "- 한 웹페이지의 외부 링크 수는 해당 웹페이지에서 다른 외부 페이지로 연결된 링크의 개수이다.  \n",
    "- 한 웹페이지의 링크점수는 해당 웹페이지로 링크가 걸린 다른 웹페이지의 기본점수 ÷ 외부 링크 수의 총합이다.  \n",
    "- 한 웹페이지의 매칭점수는 기본점수와 링크점수의 합으로 계산한다.  \n",
    "  \n",
    "예를 들어, 다음과 같이 A, B, C 세 개의 웹페이지가 있고, 검색어가 hi라고 하자.  \n",
    "  \n",
    "![](https://grepp-programmers.s3.amazonaws.com/files/production/48a36ec7fa/243a621b-f823-4ccd-99f1-2d8d3e14050d.jpg)  \n",
    "  \n",
    "이때 A 웹페이지의 매칭점수는 다음과 같이 계산할 수 있다.  \n",
    "  \n",
    "- 기본 점수는 각 웹페이지에서 hi가 등장한 횟수이다.  \n",
    "    - A,B,C 웹페이지의 기본점수는 각각 1점, 4점, 9점이다.  \n",
    "- 외부 링크수는 다른 웹페이지로 링크가 걸린 개수이다.  \n",
    "    - A,B,C 웹페이지의 외부 링크 수는 각각 1점, 2점, 3점이다.  \n",
    "- A 웹페이지로 링크가 걸린 페이지는 B와 C가 있다.  \n",
    "    - A 웹페이지의 링크점수는 B의 링크점수 2점(4 ÷ 2)과 C의 링크점수 3점(9 ÷ 3)을 더한 5점이 된다.  \n",
    "- 그러므로, A 웹페이지의 매칭점수는 기본점수 1점 + 링크점수 5점 = 6점이 된다.  \n",
    "  \n",
    "검색어 word와 웹페이지의 HTML 목록인 pages가 주어졌을 때, 매칭점수가 가장 높은 웹페이지의 index를 구하라. 만약 그런 웹페이지가 여러 개라면 그중 번호가 가장 작은 것을 구하라.  \n",
    "  \n",
    "### 제한사항  \n",
    "- pages는 HTML 형식의 웹페이지가 문자열 형태로 들어있는 배열이고, 길이는 1 이상 20 이하이다.  \n",
    "- 한 웹페이지 문자열의 길이는 1 이상 1,500 이하이다.  \n",
    "- 웹페이지의 index는 pages 배열의 index와 같으며 0부터 시작한다.  \n",
    "- 한 웹페이지의 url은 HTML의 $<$head$>$ 태그 내에 $<$meta$>$ 태그의 값으로 주어진다.  \n",
    "     - 예를들어, 아래와 같은 meta tag가 있으면 이 웹페이지의 url은 https://careers.kakao.com/index 이다.  \n",
    "    - $<$meta property=og:url content=https://careers.kakao.com/index /$>$  \n",
    "- 한 웹페이지에서 모든 외부 링크는 $<$a href=https://careers.kakao.com/index$>$ 의 형태를 가진다.  \n",
    "    - $<$a$>$ 내에 다른 attribute가 주어지는 경우는 없으며 항상 href로 연결할 사이트의 url만 포함된다.  \n",
    "    - 위의 경우에서 해당 웹페이지는 https://careers.kakao.com/index 로 외부링크를 가지고 있다고 볼 수 있다.  \n",
    "- 모든 url은 https:// 로만 시작한다.  \n",
    "- 검색어 word는 하나의 영어 단어로만 주어지며 알파벳 소문자와 대문자로만 이루어져 있다.  \n",
    "- word의 길이는 1 이상 12 이하이다.  \n",
    "- 검색어를 찾을 때, 대소문자 구분은 무시하고 찾는다.  \n",
    "    - 예를들어 검색어가 blind일 때, HTML 내에 Blind라는 단어가 있거나, BLIND라는 단어가 있으면 두 경우 모두 해당된다.  \n",
    "- 검색어는 단어 단위로 비교하며, 단어와 완전히 일치하는 경우에만 기본 점수에 반영한다.  \n",
    "    - 단어는 알파벳을 제외한 다른 모든 문자로 구분한다.  \n",
    "    - 예를들어 검색어가 aba 일 때, abab abababa는 단어 단위로 일치하는게 없으니, 기본 점수는 0점이 된다.  \n",
    "    - 만약 검색어가 aba 라면, aba@aba aba는 단어 단위로 세개가 일치하므로, 기본 점수는 3점이다.  \n",
    "- 결과를 돌려줄때, 동일한 매칭점수를 가진 웹페이지가 여러 개라면 그중 index 번호가 가장 작은 것를 리턴한다  \n",
    "    - 즉, 웹페이지가 세개이고, 각각 매칭점수가 3,1,3 이라면 제일 적은 index 번호인 0을 리턴하면 된다.  "
   ]
  },
  {
   "cell_type": "code",
   "execution_count": 1,
   "metadata": {},
   "outputs": [],
   "source": [
    "import re # 정규식 사용\n",
    "\n",
    "def solution(word, pages):\n",
    "    answer = 0 # 답\n",
    "    page_idx = {} # {인덱스 : url}\n",
    "    page_dict = {} # {url : 외부링크 리스트}\n",
    "    idx = 0 # 인덱스\n",
    "    for page in pages: # 모든 페이지에 대해서\n",
    "        url = re.findall(r'<head>[\\W\\w]*<meta property=\\\"og:url\\\" content=\\\"https://(?P<url>\\S+)\\\"/>[\\W\\w]*</head>', page)[0]\n",
    "        # <meta property=og:url content=https://(1개 이상의 모든 문자 문자열) /> 패턴을 가지는 것을 찾는다.\n",
    "        page_idx[idx] = url\n",
    "        # 페이지 인덱스에 대한 주소 저장\n",
    "        word_num = 0 # 해당 페이지의 찾는 단어 개수\n",
    "        p_word = re.compile(r'[^A-Za-z](?P<word>'+ word.lower() +r')[^A-Za-z]')\n",
    "        # 페이지 내에서 단어를 찾는다. 다만, 모두 소문자화하고 앞뒤로 문자가 붙은 경우는 제외한다.\n",
    "        start = 0\n",
    "        while re.search(p_word, page[start:].lower()): \n",
    "        # 페이지의 start인덱스부터 시작해서 처음 나오는 단어를 찾는다.\n",
    "            start += re.search(p_word, page[start:].lower()).span()[1]-1\n",
    "            # 단어를 찾은 바로 다음 인덱스로 갱신\n",
    "            word_num += 1 # 단어의 개수 증가\n",
    "        if page_dict.get(url):\n",
    "            page_dict[url] += word_num\n",
    "        else:\n",
    "            page_dict[url] = word_num\n",
    "        # 해당 url에 대한 매칭 점수 계산\n",
    "        links =  re.findall(r'<a href=\\\"https://(?P<link>\\S+)\\\">', page)\n",
    "        # <a href=https://(1개 이상의 모든 문자 문자열)> 패턴을 지니는 링크들을 모두 찾는다.\n",
    "        for link in links: # 모든 링크에 대해\n",
    "            if page_dict.get(link):\n",
    "                page_dict[link] += word_num / len(links)\n",
    "            else:\n",
    "                page_dict[link] = word_num / len(links) # 단어 개수 / 링크 개수\n",
    "            # 링크 점수 계산\n",
    "        idx += 1 # 인덱스 갱신\n",
    "\n",
    "    max_val = 0 # 최대 매칭 점수\n",
    "    for i in range(len(pages)): # 모든 페이지에 대해서\n",
    "        if max_val < page_dict[page_idx[i]]:\n",
    "            max_val = page_dict[page_idx[i]] # 최대 매칭 점수 갱신\n",
    "            answer = i # 최대 매칭 점수를 지니는 페이지의 인덱스 저장 \n",
    "    return answer"
   ]
  },
  {
   "cell_type": "code",
   "execution_count": 2,
   "metadata": {},
   "outputs": [],
   "source": [
    "word = \"blind\"\n",
    "pages = [\"<html lang=\\\"ko\\\" xml:lang=\\\"ko\\\" xmlns=\\\"http://www.w3.org/1999/xhtml\\\">\\n<head>\\n  <meta charset=\\\"utf-8\\\">\\n  <meta property=\\\"og:url\\\" content=\\\"https://a.com\\\"/>\\n</head>  \\n<body>\\nBlind Lorem Blind ipsum dolor Blind test sit amet, consectetur adipiscing elit. \\n<a href=\\\"https://b.com\\\"> Link to b </a>\\n</body>\\n</html>\", \"<html lang=\\\"ko\\\" xml:lang=\\\"ko\\\" xmlns=\\\"http://www.w3.org/1999/xhtml\\\">\\n<head>\\n  <meta charset=\\\"utf-8\\\">\\n  <meta property=\\\"og:url\\\" content=\\\"https://b.com\\\"/>\\n</head>  \\n<body>\\nSuspendisse potenti. Vivamus venenatis tellus non turpis bibendum, \\n<a href=\\\"https://a.com\\\"> Link to a </a>\\nblind sed congue urna varius. Suspendisse feugiat nisl ligula, quis malesuada felis hendrerit ut.\\n<a href=\\\"https://c.com\\\"> Link to c </a>\\n</body>\\n</html>\", \"<html lang=\\\"ko\\\" xml:lang=\\\"ko\\\" xmlns=\\\"http://www.w3.org/1999/xhtml\\\">\\n<head>\\n  <meta charset=\\\"utf-8\\\">\\n  <meta property=\\\"og:url\\\" content=\\\"https://c.com\\\"/>\\n</head>  \\n<body>\\nUt condimentum urna at felis sodales rutrum. Sed dapibus cursus diam, non interdum nulla tempor nec. Phasellus rutrum enim at orci consectetu blind\\n<a href=\\\"https://a.com\\\"> Link to a </a>\\n</body>\\n</html>\"]"
   ]
  },
  {
   "cell_type": "code",
   "execution_count": 3,
   "metadata": {},
   "outputs": [
    {
     "data": {
      "text/plain": [
       "0"
      ]
     },
     "execution_count": 3,
     "metadata": {},
     "output_type": "execute_result"
    }
   ],
   "source": [
    "solution(word, pages)"
   ]
  },
  {
   "cell_type": "code",
   "execution_count": 4,
   "metadata": {},
   "outputs": [],
   "source": [
    "word = \"Muzi\"\n",
    "pages = [\"<html lang=\\\"ko\\\" xml:lang=\\\"ko\\\" xmlns=\\\"http://www.w3.org/1999/xhtml\\\">\\n<head>\\n  <meta charset=\\\"utf-8\\\">\\n  <meta property=\\\"og:url\\\" content=\\\"https://careers.kakao.com/interview/list\\\"/>\\n</head>  \\n<body>\\n<a href=\\\"https://programmers.co.kr/learn/courses/4673\\\"></a>#!MuziMuzi!)jayg07con&&\\n\\n</body>\\n</html>\", \"<html lang=\\\"ko\\\" xml:lang=\\\"ko\\\" xmlns=\\\"http://www.w3.org/1999/xhtml\\\">\\n<head>\\n  <meta charset=\\\"utf-8\\\">\\n  <meta property=\\\"og:url\\\" content=\\\"https://www.kakaocorp.com\\\"/>\\n</head>  \\n<body>\\ncon%\\tmuzI92apeach&2<a href=\\\"https://hashcode.co.kr/tos\\\"></a>\\n\\n\\t^\\n</body>\\n</html>\"]"
   ]
  },
  {
   "cell_type": "code",
   "execution_count": 5,
   "metadata": {
    "scrolled": true
   },
   "outputs": [
    {
     "data": {
      "text/plain": [
       "1"
      ]
     },
     "execution_count": 5,
     "metadata": {},
     "output_type": "execute_result"
    }
   ],
   "source": [
    "solution(word, pages)"
   ]
  }
 ],
 "metadata": {
  "kernelspec": {
   "display_name": "Python 3",
   "language": "python",
   "name": "python3"
  },
  "language_info": {
   "codemirror_mode": {
    "name": "ipython",
    "version": 3
   },
   "file_extension": ".py",
   "mimetype": "text/x-python",
   "name": "python",
   "nbconvert_exporter": "python",
   "pygments_lexer": "ipython3",
   "version": "3.6.9"
  }
 },
 "nbformat": 4,
 "nbformat_minor": 2
}
