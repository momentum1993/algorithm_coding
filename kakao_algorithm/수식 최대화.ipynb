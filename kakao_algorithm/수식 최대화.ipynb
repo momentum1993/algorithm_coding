{
 "cells": [
  {
   "cell_type": "markdown",
   "metadata": {},
   "source": [
    "\n",
    "# 수식 최대화"
   ]
  },
  {
   "cell_type": "markdown",
   "metadata": {},
   "source": [
    "[2020 카카오 인턴십 '수식 최대화' 문제 링크](https://programmers.co.kr/learn/courses/30/lessons/67257)"
   ]
  },
  {
   "cell_type": "markdown",
   "metadata": {},
   "source": [
    "### 문제  \n",
    "IT 벤처 회사를 운영하고 있는 라이언은 매년 사내 해커톤 대회를 개최하여 우승자에게 상금을 지급하고 있습니다.  \n",
    "이번 대회에서는 우승자에게 지급되는 상금을 이전 대회와는 다르게 다음과 같은 방식으로 결정하려고 합니다.  \n",
    "해커톤 대회에 참가하는 모든 참가자들에게는 숫자들과 3가지의 연산문자($+$, $-$, $*$) 만으로 이루어진 연산 수식이 전달되며, 참가자의 미션은 전달받은 수식에 포함된 연산자의 우선순위를 자유롭게 재정의하여 만들 수 있는 가장 큰 숫자를 제출하는 것입니다.  \n",
    "단, 연산자의 우선순위를 새로 정의할 때, 같은 순위의 연산자는 없어야 합니다. 즉, $+ > - > *$ 또는 $- > * > +$ 등과 같이 연산자 우선순위를 정의할 수 있으나 $+,* > -$ 또는 $* > +,-$처럼 2개 이상의 연산자가 동일한 순위를 가지도록 연산자 우선순위를 정의할 수는 없습니다. 수식에 포함된 연산자가 2개라면 정의할 수 있는 연산자 우선순위 조합은 2! = 2가지이며, 연산자가 3개라면 3! = 6가지 조합이 가능합니다.  \n",
    "만약 계산된 결과가 음수라면 해당 숫자의 절댓값으로 변환하여 제출하며 제출한 숫자가 가장 큰 참가자를 우승자로 선정하며, 우승자가 제출한 숫자를 우승상금으로 지급하게 됩니다.  \n",
    "  \n",
    "예를 들어, 참가자 중 네오가 아래와 같은 수식을 전달받았다고 가정합니다.  \n",
    "  \n",
    "\"$100-200*300-500+20$\"  \n",
    "  \n",
    "일반적으로 수학 및 전산학에서 약속된 연산자 우선순위에 따르면 더하기와 빼기는 서로 동등하며 곱하기는 더하기, 빼기에 비해 우선순위가 높아 $* > +,-$ 로 우선순위가 정의되어 있습니다.  \n",
    "대회 규칙에 따라 $+ > - > *$ 또는 $- > * > +$ 등과 같이 연산자 우선순위를 정의할 수 있으나 $+,* > -$ 또는 $* > +,-$ 처럼 2개 이상의 연산자가 동일한 순위를 가지도록 연산자 우선순위를 정의할 수는 없습니다.  \n",
    "수식에 연산자가 3개 주어졌으므로 가능한 연산자 우선순위 조합은 $3! = 6$가지이며, 그 중 $+ > - > *$ 로 연산자 우선순위를 정한다면 결괏값은 22,000원이 됩니다.  \n",
    "반면에 $* > + > -$ 로 연산자 우선순위를 정한다면 수식의 결괏값은 -60,420 이지만, 규칙에 따라 우승 시 상금은 절댓값인 60,420원이 됩니다.  \n",
    "  \n",
    "참가자에게 주어진 연산 수식이 담긴 문자열 expression이 매개변수로 주어질 때, 우승 시 받을 수 있는 가장 큰 상금 금액을 return 하도록 solution 함수를 완성해주세요.  \n",
    "  \n",
    "### 제한사항 \n",
    "- expression은 길이가 3 이상 100 이하인 문자열입니다.\n",
    "- expression은 공백문자, 괄호문자 없이 오로지 숫자와 3가지의 연산자($+, -, *$) 만으로 이루어진 올바른 중위표기법(연산의 두 대상 사이에 연산기호를 사용하는 방식)으로 표현된 연산식입니다. 잘못된 연산식은 입력으로 주어지지 않습니다.\n",
    "    - 즉, \"$402+-561*$\"처럼 잘못된 수식은 올바른 중위표기법이 아니므로 주어지지 않습니다.\n",
    "- expression의 피연산자(operand)는 0 이상 999 이하의 숫자입니다.\n",
    "    - 즉, \"$100-2145*458+12$\"처럼 999를 초과하는 피연산자가 포함된 수식은 입력으로 주어지지 않습니다.\n",
    "    - \"$-56+100$\"처럼 피연산자가 음수인 수식도 입력으로 주어지지 않습니다.\n",
    "- expression은 적어도 1개 이상의 연산자를 포함하고 있습니다.\n",
    "- 연산자 우선순위를 어떻게 적용하더라도, expression의 중간 계산값과 최종 결괏값은 절댓값이 $2^{63} - 1$ 이하가 되도록 입력이 주어집니다.\n",
    "- 같은 연산자끼리는 앞에 있는 것의 우선순위가 더 높습니다. \n",
    "  \n",
    "### 입출력 예  \n",
    "|expression|\tresult|  \n",
    "|:---:|:---:|  \n",
    "|\"100-200\\*300-500+20\"|\t60420|  \n",
    "|\"50\\*6-3\\*2\"|\t300|\n",
    "  "
   ]
  },
  {
   "cell_type": "code",
   "execution_count": 14,
   "metadata": {},
   "outputs": [],
   "source": [
    "def simulation(operators, op_checked, expr, op):\n",
    "    op_expr = [] # 연산 진행 후 수식\n",
    "    idx = 0 # 현재 탐색 중인 연산자 or 피연산자의 인덱스\n",
    "    while idx < len(expr): # 모든 수식에 대해서\n",
    "        if expr[idx] == op: # 현재 계산해야할 연산자를 탐색 중이라면\n",
    "            op_expr[-1] = str(eval(op_expr[-1]+expr[idx]+expr[idx+1])) # 맞닿아있는 피연산자를 연산해서 수식에 넣어줌\n",
    "            idx += 1\n",
    "        else: # 현재 피연산자를 탐색 중이라면\n",
    "            op_expr.append(expr[idx]) # 바로 수식에 넣어준다.\n",
    "        idx += 1\n",
    "    if not False in op_checked: # 만약 수식의 계산이 완료되었다면\n",
    "        return abs(int(op_expr[0])) # 계산값의 절댓값을 반환\n",
    "\n",
    "    answer = 0 # 답\n",
    "    for i in range(3): # 모든 연산자에 대해서\n",
    "        if op_checked[i]: # 이미 연산 완료한 연산자는 제외하고\n",
    "            continue\n",
    "        op_checked[i] = True\n",
    "        answer = max(answer, simulation(operators, op_checked, op_expr, operators[i])) # 재귀적으로 수식 연산 진행 후 최댓값 저장\n",
    "        op_checked[i] = False\n",
    "    return answer # 답 반환\n",
    "    \n",
    "    \n",
    "\n",
    "def solution(expression):\n",
    "    answer = 0 # 답\n",
    "    operators = [\"+\", \"-\", \"*\"] # 연산자들 \n",
    "    op_checked = [False for _ in range(3)] # 해당 연산자로 연산했는지 여부\n",
    "    expr = [] # 표현식\n",
    "    num = \"\" # 숫자\n",
    "    for w in expression:\n",
    "        if w in operators:\n",
    "            expr.append(num)\n",
    "            expr.append(w)\n",
    "            num = \"\"\n",
    "        else:\n",
    "            num += w\n",
    "    expr.append(num)\n",
    "    # 문자열로 된 수식을 피연산자, 연산자를 구분해서 리스트에 넣는다.\n",
    "    \n",
    "    for i in range(3): # 모든 연산자에 대해서\n",
    "        op_checked[i] = True\n",
    "        answer = max(answer, simulation(operators, op_checked, expr, operators[i]))\n",
    "        # 연산자의 우선순위를 달리해서 시뮬레이션 진행 후 최댓값을 저장\n",
    "        op_checked[i] = False\n",
    "    return answer # 답 반환"
   ]
  },
  {
   "cell_type": "code",
   "execution_count": 15,
   "metadata": {},
   "outputs": [
    {
     "data": {
      "text/plain": [
       "60420"
      ]
     },
     "execution_count": 15,
     "metadata": {},
     "output_type": "execute_result"
    }
   ],
   "source": [
    "expression = \"100-200*300-500+20\"\n",
    "solution(expression)"
   ]
  },
  {
   "cell_type": "code",
   "execution_count": 16,
   "metadata": {},
   "outputs": [
    {
     "data": {
      "text/plain": [
       "300"
      ]
     },
     "execution_count": 16,
     "metadata": {},
     "output_type": "execute_result"
    }
   ],
   "source": [
    "expression = \"50*6-3*2\"\n",
    "solution(expression)"
   ]
  }
 ],
 "metadata": {
  "kernelspec": {
   "display_name": "Python 3",
   "language": "python",
   "name": "python3"
  },
  "language_info": {
   "codemirror_mode": {
    "name": "ipython",
    "version": 3
   },
   "file_extension": ".py",
   "mimetype": "text/x-python",
   "name": "python",
   "nbconvert_exporter": "python",
   "pygments_lexer": "ipython3",
   "version": "3.6.9"
  }
 },
 "nbformat": 4,
 "nbformat_minor": 2
}
