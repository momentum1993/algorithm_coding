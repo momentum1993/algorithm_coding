{
 "cells": [
  {
   "cell_type": "markdown",
   "metadata": {},
   "source": [
    "\n",
    "# 헬리콥터"
   ]
  },
  {
   "cell_type": "markdown",
   "metadata": {},
   "source": [
    "[2018 카카오 코드 페스티벌 '헬리콥터' 문제 링크](https://www.acmicpc.net/problem/16004)"
   ]
  },
  {
   "cell_type": "markdown",
   "metadata": {},
   "source": [
    "### 문제  \n",
    "프로도는 헬리콥터 조종 면허를 따기 위해 연습 중이다. 헬리콥터 조종 면허의 실기 시험은 2차원 XY 직교 좌표계의 수평 길이가 L 인 코스에서 치러진다. 헬리콥터는 해당 코스의 왼쪽 수평 끝 (0, 0)에서 이륙하여 오른쪽 수평 끝 (L, 0)에 착륙해야 한다. 이때 각각의 X 좌표마다 헬리콥터가 날 수 있는 비행 높이 Y 가 범위로 정해져 있는데, 실기 시험에 합격하기 위해서는 이 범위를 지키며 주어진 코스를 가능한 짧은 비행거리로 날아야 한다.\n",
    "\n",
    "헬리콥터는 언제나 X 좌표가 증가하는 방향, 즉 왼쪽에서 오른쪽으로 이동하며 해당 X 좌표의 비행 범위 내에서 Y 좌표를 위아래로 이동할 수 있다. 단, 안전을 위해 규칙상 X 좌표와 Y 좌표를 동시에 움직여서는 안 된다. 즉 헬리콥터는 한 번에 수평 혹은 수직 방향으로만 움직여야 한다. 하지만 프로도는 딱 한 번, 면접관의 눈을 속여 X, Y 좌표가 함께 변하는 대각선 비행이 가능하다. 아래 그림은 실기 시험 코스와 그 코스에 따라 프로도가 비행할 수 있는 경로의 한 예이다.\n",
    "  \n",
    "![](https://upload.acmicpc.net/614a4e49-40b4-4da7-a3fa-1fcdaf3ef49e/-/preview/)  \n",
    "  \n",
    "비행거리란 헬리콥터가 나는 비행경로 선분 길이의 총합이다. 위 그림의 경로는 프로도의 헬리콥터가 날 수 있는 가장 짧은 비행거리가 아닐 수도 있다. 하늘을 날고 싶은 프로도를 위해, 조건을 만족하며 프로도의 헬리콥터가 날 수 있는 가장 짧은 비행거리를 구해주자.\n",
    "\n",
    "### 입력  \n",
    "첫 번째 줄에 코스의 수평 길이 L, 비행 범위 위쪽 경계에 포함된 꼭짓점의 개수 N, 비행 범위 아래쪽 경계에 포함된 꼭짓점의 개수 M 이 주어진다. (2≤ N, M ≤300)  \n",
    "  \n",
    "다음 N 개의 줄에는 각각 차례로 위쪽 경계의 가장 왼쪽 꼭짓점부터 오른쪽으로 위쪽 경계에 포함되는 꼭짓점들의 x, y 좌표가 주어진다.  \n",
    "  \n",
    "다음 M 개의 줄에는 마찬가지로 아래쪽 경계의 가장 왼쪽 꼭짓점부터 오른쪽으로 아래쪽 경계에 포함되는 꼭짓점들의 x, y 좌표가 주어진다.  \n",
    "  \n",
    "N 과 M 은 항상 짝수로 주어지며, 이로 인해 만들어지는 코스는 위아래로 홀수개의 수직/수평 선분으로 이루어진 직각 다각형의 형태이다. 각 경계의 처음과 마지막 선분은 수평 방향이며, 수평 선분 다음에는 수직 선분으로, 수직 선분 다음에는 수평 선분으로 구성된다. 위쪽 경계와 아래쪽 경계는 만나지 않는다.  \n",
    "  \n",
    "각 경계의 첫 꼭짓점의 X 좌표는 항상 0이며, 마지막 꼭짓점의 X 좌표는 항상 L 이다. 또한 아래쪽 경계의 첫 꼭짓점과 마지막 꼭짓점의 Y 좌표는 항상 0이다.  \n",
    "  \n",
    "주어지는 모든 입력은 0 이상 109 이하의 정수이다. 헬리콥터는 Y 좌표 0에서도 비행이 가능하며, 비행이 불가능한 코스는 주어지지 않는다.  \n",
    "  \n",
    "### 출력  \n",
    "프로도의 헬리콥터가 조건을 만족하며 날 수 있는 비행거리 중 가장 짧은 것의 길이를 출력한다. 출력한 결과와 실제 답을 비교하였을 때의 상대 혹은 절대 오차가 10-6 이하인 경우에만 정답으로 인정한다.  "
   ]
  },
  {
   "cell_type": "code",
   "execution_count": 3,
   "metadata": {},
   "outputs": [
    {
     "name": "stdout",
     "output_type": "stream",
     "text": [
      "3 4 6\n",
      "0 2\n",
      "1 2\n",
      "1 4\n",
      "3 4\n",
      "0 0\n",
      "1 0\n",
      "1 1\n",
      "2 1\n",
      "2 0\n",
      "3 0\n",
      "4.414213562373095\n"
     ]
    }
   ],
   "source": [
    "import math\n",
    "\n",
    "def min_path(path_check, L, upward_bound, downward_bound, x=0, y=0, diagonal=False):\n",
    "# 최소 경로 길이를 구하는 함수\n",
    "    if x == L and y == 0: # 만약 끝까지 도달했다면 끝!\n",
    "        return 0\n",
    "    answer = pow(10, 10)\n",
    "    \n",
    "    # 각자 위쪽, 오른쪽, 아래쪽, 위쪽 대각선, 아래쪽 대각선으로 이동할 경우의 최소값을 구한다.\n",
    "    # 각각의 경우에 위의 경계와 아래의 경계를 만족하는지 확인 하고,\n",
    "    # 이미 지나친 경로의 경우 무시하고 다른 경로로 진행을 한다.\n",
    "    \n",
    "    if x+1 <= L and upward_bound[x+1] > y and downward_bound[x+1] <= y:\n",
    "        if not path_check[x+1][y]: \n",
    "            path_check[x+1][y] = True\n",
    "            answer = min(answer, 1 + min_path(path_check, L, upward_bound, downward_bound, x+1, y, diagonal))\n",
    "            # 오른쪽으로 경로 진행\n",
    "            path_check[x+1][y] = False\n",
    "        if not diagonal: # 대각선으로 아직 간적이 한 번도 없다면\n",
    "            if upward_bound[x+1] > y+1 and not path_check[x+1][y+1]:\n",
    "                path_check[x+1][y+1] = True\n",
    "                answer = min(answer, math.sqrt(2) + min_path(path_check, L, upward_bound, downward_bound, x+1, y-1, True))\n",
    "                # 위쪽 대각선으로 경로 진행\n",
    "                path_check[x+1][y+1] = False\n",
    "            if downward_bound[x+1] <= y-1 and not path_check[x+1][y-1]:\n",
    "                path_check[x+1][y-1] = True\n",
    "                answer = min(answer, math.sqrt(2) + min_path(path_check, L, upward_bound, downward_bound, x+1, y+1, True))\n",
    "                # 아래쪽 대각선으로 경로 진행\n",
    "                path_check[x+1][y-1] = False\n",
    "    if upward_bound[x] > y+1 and not path_check[x][y+1]:\n",
    "        path_check[x][y+1] = True \n",
    "        answer = min(answer, 1 + min_path(path_check, L, upward_bound, downward_bound, x, y+1, diagonal))\n",
    "        # 위쪽으로 경로 진행\n",
    "        path_check[x][y+1] = False\n",
    "    if downward_bound[x] <= y-1 and not path_check[x][y-1]:\n",
    "        path_check[x][y-1] = True\n",
    "        answer = min(answer, 1 + min_path(path_check, L, upward_bound, downward_bound, x, y-1, diagonal))\n",
    "        # 아래쪽으로 경로 진행\n",
    "        path_check[x][y-1] = False\n",
    "    return answer\n",
    "\n",
    "L, N, M = tuple(int(x) for x in input().split())\n",
    "upward_bound = [-1 for _ in range(L+1)] # 위쪽 경계\n",
    "downward_bound = [-1 for _ in range(L+1)] # 아래쪽 경계\n",
    "max_height = 0 # 최대 높이\n",
    "idx = 0 # 인덱스\n",
    "height = 0 # 높이\n",
    "for _ in range(N):\n",
    "    up_x, up_y = tuple(int(x) for x in input().split()) # 위쪽 경계\n",
    "    while up_x != idx:\n",
    "        upward_bound[idx] = height\n",
    "        # upward_bound[idx]는 x좌표 idx ~ idx+1에서의 위쪽 경계\n",
    "        idx += 1\n",
    "    upward_bound[up_x] = up_y\n",
    "    height = up_y\n",
    "    max_height = max(height, max_height) # 최대 높이\n",
    "\n",
    "idx = 0\n",
    "height = 0\n",
    "for _ in range(M):\n",
    "    down_x, down_y = tuple(int(x) for x in input().split()) # 아래쪽 경계\n",
    "    while down_x != idx:\n",
    "        downward_bound[idx] = height\n",
    "        # downward_bound[idx]는 x좌표 idx ~ idx+1에서의 아래쪽 경계\n",
    "        idx += 1\n",
    "    downward_bound[down_x] = down_y\n",
    "    height = down_y\n",
    "    max_height = max(height, max_height) # 최대 높이\n",
    "\n",
    "path_check = [[False for _ in range(max_height+1)] for _ in range(L+1)]\n",
    "# 경로 탐색 시에 이미 지나친 경로인지 확인할 때 사용\n",
    "path_check[0][0] = True # 시작점인 (0,0)은 지나쳤음을 표시\n",
    "print(min_path(path_check, L, upward_bound, downward_bound))\n",
    "# 경로의 최소값 구해서 출력"
   ]
  }
 ],
 "metadata": {
  "kernelspec": {
   "display_name": "Python 3",
   "language": "python",
   "name": "python3"
  },
  "language_info": {
   "codemirror_mode": {
    "name": "ipython",
    "version": 3
   },
   "file_extension": ".py",
   "mimetype": "text/x-python",
   "name": "python",
   "nbconvert_exporter": "python",
   "pygments_lexer": "ipython3",
   "version": "3.6.9"
  }
 },
 "nbformat": 4,
 "nbformat_minor": 2
}
